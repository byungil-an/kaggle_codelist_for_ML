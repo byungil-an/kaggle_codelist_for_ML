{
 "cells": [
  {
   "cell_type": "code",
   "execution_count": 1,
   "id": "9a46ff5c",
   "metadata": {
    "_cell_guid": "b1076dfc-b9ad-4769-8c92-a6c4dae69d19",
    "_uuid": "8f2839f25d086af736a60e9eeb907d3b93b6e0e5",
    "execution": {
     "iopub.execute_input": "2023-12-01T18:55:29.329414Z",
     "iopub.status.busy": "2023-12-01T18:55:29.329077Z",
     "iopub.status.idle": "2023-12-01T18:55:33.813919Z",
     "shell.execute_reply": "2023-12-01T18:55:33.813123Z"
    },
    "papermill": {
     "duration": 4.493213,
     "end_time": "2023-12-01T18:55:33.816301",
     "exception": false,
     "start_time": "2023-12-01T18:55:29.323088",
     "status": "completed"
    },
    "tags": []
   },
   "outputs": [
    {
     "name": "stderr",
     "output_type": "stream",
     "text": [
      "/opt/conda/lib/python3.10/site-packages/scipy/__init__.py:146: UserWarning: A NumPy version >=1.16.5 and <1.23.0 is required for this version of SciPy (detected version 1.23.5\n",
      "  warnings.warn(f\"A NumPy version >={np_minversion} and <{np_maxversion}\"\n"
     ]
    }
   ],
   "source": [
    "import gc  \n",
    "import os  \n",
    "import time  \n",
    "import warnings \n",
    "from itertools import combinations  \n",
    "from warnings import simplefilter \n",
    "import joblib  \n",
    "import lightgbm as lgb  \n",
    "import numpy as np  \n",
    "import pandas as pd  \n",
    "from sklearn.metrics import mean_absolute_error \n",
    "from sklearn.model_selection import KFold, TimeSeriesSplit  \n",
    "warnings.filterwarnings(\"ignore\")\n",
    "simplefilter(action=\"ignore\", category=pd.errors.PerformanceWarning)\n",
    "is_offline = False \n",
    "is_train = True  \n",
    "is_infer = True \n",
    "max_lookback = np.nan \n",
    "split_day = 435  \n"
   ]
  },
  {
   "cell_type": "markdown",
   "id": "9aca6a1a",
   "metadata": {
    "papermill": {
     "duration": 0.004329,
     "end_time": "2023-12-01T18:55:33.825623",
     "exception": false,
     "start_time": "2023-12-01T18:55:33.821294",
     "status": "completed"
    },
    "tags": []
   },
   "source": [
    "# Data Loading and Preprocessing "
   ]
  },
  {
   "cell_type": "code",
   "execution_count": 2,
   "id": "e9060d99",
   "metadata": {
    "execution": {
     "iopub.execute_input": "2023-12-01T18:55:33.835481Z",
     "iopub.status.busy": "2023-12-01T18:55:33.835136Z",
     "iopub.status.idle": "2023-12-01T18:55:50.909457Z",
     "shell.execute_reply": "2023-12-01T18:55:50.908432Z"
    },
    "papermill": {
     "duration": 17.081998,
     "end_time": "2023-12-01T18:55:50.911886",
     "exception": false,
     "start_time": "2023-12-01T18:55:33.829888",
     "status": "completed"
    },
    "tags": []
   },
   "outputs": [],
   "source": [
    "df = pd.read_csv(\"/kaggle/input/optiver-trading-at-the-close/train.csv\")\n",
    "df = df.dropna(subset=[\"target\"])\n",
    "df.reset_index(drop=True, inplace=True)\n",
    "df_shape = df.shape"
   ]
  },
  {
   "cell_type": "markdown",
   "id": "bc77265e",
   "metadata": {
    "papermill": {
     "duration": 0.004152,
     "end_time": "2023-12-01T18:55:50.920957",
     "exception": false,
     "start_time": "2023-12-01T18:55:50.916805",
     "status": "completed"
    },
    "tags": []
   },
   "source": [
    "# Memory Optimization"
   ]
  },
  {
   "cell_type": "code",
   "execution_count": 3,
   "id": "10ccc449",
   "metadata": {
    "execution": {
     "iopub.execute_input": "2023-12-01T18:55:50.930764Z",
     "iopub.status.busy": "2023-12-01T18:55:50.930472Z",
     "iopub.status.idle": "2023-12-01T18:55:51.046064Z",
     "shell.execute_reply": "2023-12-01T18:55:51.045136Z"
    },
    "papermill": {
     "duration": 0.122736,
     "end_time": "2023-12-01T18:55:51.048023",
     "exception": false,
     "start_time": "2023-12-01T18:55:50.925287",
     "status": "completed"
    },
    "tags": []
   },
   "outputs": [],
   "source": [
    "def reduce_mem_usage(df, verbose=0):\n",
    "    start_mem = df.memory_usage().sum() / 1024**2\n",
    "    for col in df.columns:\n",
    "        col_type = df[col].dtype\n",
    "        if col_type != object:\n",
    "            c_min = df[col].min()\n",
    "            c_max = df[col].max()\n",
    "            \n",
    "            if str(col_type)[:3] == \"int\":\n",
    "                if c_min > np.iinfo(np.int8).min and c_max < np.iinfo(np.int8).max:\n",
    "                    df[col] = df[col].astype(np.int8)\n",
    "                elif c_min > np.iinfo(np.int16).min and c_max < np.iinfo(np.int16).max:\n",
    "                    df[col] = df[col].astype(np.int16)\n",
    "                elif c_min > np.iinfo(np.int32).min and c_max < np.iinfo(np.int32).max:\n",
    "                    df[col] = df[col].astype(np.int32)\n",
    "                elif c_min > np.iinfo(np.int64).min and c_max < np.iinfo(np.int64).max:\n",
    "                    df[col] = df[col].astype(np.int64)\n",
    "            else:\n",
    "               \n",
    "                if c_min > np.finfo(np.float16).min and c_max < np.finfo(np.float16).max:\n",
    "                    df[col] = df[col].astype(np.float32)\n",
    "                elif c_min > np.finfo(np.float32).min and c_max < np.finfo(np.float32).max:\n",
    "                    df[col] = df[col].astype(np.float32)\n",
    "                else:\n",
    "                    df[col] = df[col].astype(np.float32)\n",
    "    if verbose:\n",
    "        logger.info(f\"Memory usage of dataframe is {start_mem:.2f} MB\")\n",
    "        end_mem = df.memory_usage().sum() / 1024**2\n",
    "        logger.info(f\"Memory usage after optimization is: {end_mem:.2f} MB\")\n",
    "        decrease = 100 * (start_mem - end_mem) / start_mem\n",
    "        logger.info(f\"Decreased by {decrease:.2f}%\")\n",
    "    return df\n"
   ]
  },
  {
   "cell_type": "markdown",
   "id": "21fb412d",
   "metadata": {
    "papermill": {
     "duration": 0.004251,
     "end_time": "2023-12-01T18:55:51.056873",
     "exception": false,
     "start_time": "2023-12-01T18:55:51.052622",
     "status": "completed"
    },
    "tags": []
   },
   "source": [
    " # Parallel Triplet Imbalance Calculation"
   ]
  },
  {
   "cell_type": "code",
   "execution_count": 4,
   "id": "82af2671",
   "metadata": {
    "execution": {
     "iopub.execute_input": "2023-12-01T18:55:51.066632Z",
     "iopub.status.busy": "2023-12-01T18:55:51.066350Z",
     "iopub.status.idle": "2023-12-01T18:55:51.597793Z",
     "shell.execute_reply": "2023-12-01T18:55:51.596972Z"
    },
    "papermill": {
     "duration": 0.538844,
     "end_time": "2023-12-01T18:55:51.599980",
     "exception": false,
     "start_time": "2023-12-01T18:55:51.061136",
     "status": "completed"
    },
    "tags": []
   },
   "outputs": [],
   "source": [
    "from numba import njit, prange\n",
    "\n",
    "@njit(parallel=True)\n",
    "def compute_triplet_imbalance(df_values, comb_indices):\n",
    "    num_rows = df_values.shape[0]\n",
    "    num_combinations = len(comb_indices)\n",
    "    imbalance_features = np.empty((num_rows, num_combinations))\n",
    "    for i in prange(num_combinations):\n",
    "        a, b, c = comb_indices[i]\n",
    "        for j in range(num_rows):\n",
    "            max_val = max(df_values[j, a], df_values[j, b], df_values[j, c])\n",
    "            min_val = min(df_values[j, a], df_values[j, b], df_values[j, c])\n",
    "            mid_val = df_values[j, a] + df_values[j, b] + df_values[j, c] - min_val - max_val\n",
    "            \n",
    "            if mid_val == min_val:\n",
    "                imbalance_features[j, i] = np.nan\n",
    "            else:\n",
    "                imbalance_features[j, i] = (max_val - mid_val) / (mid_val - min_val)\n",
    "\n",
    "    return imbalance_features\n",
    "\n",
    "def calculate_triplet_imbalance_numba(price, df):\n",
    "    df_values = df[price].values\n",
    "    comb_indices = [(price.index(a), price.index(b), price.index(c)) for a, b, c in combinations(price, 3)]\n",
    "    features_array = compute_triplet_imbalance(df_values, comb_indices)\n",
    "    columns = [f\"{a}_{b}_{c}_imb2\" for a, b, c in combinations(price, 3)]\n",
    "    features = pd.DataFrame(features_array, columns=columns)\n",
    "    return features\n"
   ]
  },
  {
   "cell_type": "markdown",
   "id": "3514840d",
   "metadata": {
    "papermill": {
     "duration": 0.004282,
     "end_time": "2023-12-01T18:55:51.608855",
     "exception": false,
     "start_time": "2023-12-01T18:55:51.604573",
     "status": "completed"
    },
    "tags": []
   },
   "source": [
    "# Feature Generation Functions "
   ]
  },
  {
   "cell_type": "code",
   "execution_count": 5,
   "id": "e7cd5e44",
   "metadata": {
    "execution": {
     "iopub.execute_input": "2023-12-01T18:55:51.619212Z",
     "iopub.status.busy": "2023-12-01T18:55:51.618580Z",
     "iopub.status.idle": "2023-12-01T18:55:51.635869Z",
     "shell.execute_reply": "2023-12-01T18:55:51.635113Z"
    },
    "papermill": {
     "duration": 0.02449,
     "end_time": "2023-12-01T18:55:51.637745",
     "exception": false,
     "start_time": "2023-12-01T18:55:51.613255",
     "status": "completed"
    },
    "tags": []
   },
   "outputs": [],
   "source": [
    "def imbalance_features(df):\n",
    "    # Define lists of price and size-related column names\n",
    "    prices = [\"reference_price\", \"far_price\", \"near_price\", \"ask_price\", \"bid_price\", \"wap\"]\n",
    "    sizes = [\"matched_size\", \"bid_size\", \"ask_size\", \"imbalance_size\"]\n",
    "    df[\"volume\"] = df.eval(\"ask_size + bid_size\")\n",
    "    df[\"mid_price\"] = df.eval(\"(ask_price + bid_price) / 2\")\n",
    "    df[\"liquidity_imbalance\"] = df.eval(\"(bid_size-ask_size)/(bid_size+ask_size)\")\n",
    "    df[\"matched_imbalance\"] = df.eval(\"(imbalance_size-matched_size)/(matched_size+imbalance_size)\")\n",
    "    df[\"size_imbalance\"] = df.eval(\"bid_size / ask_size\")\n",
    "\n",
    "    for c in combinations(prices, 2):\n",
    "        df[f\"{c[0]}_{c[1]}_imb\"] = df.eval(f\"({c[0]} - {c[1]})/({c[0]} + {c[1]})\")\n",
    "\n",
    "    for c in [['ask_price', 'bid_price', 'wap', 'reference_price'], sizes]:\n",
    "        triplet_feature = calculate_triplet_imbalance_numba(c, df)\n",
    "        df[triplet_feature.columns] = triplet_feature.values\n",
    "   \n",
    "    df[\"imbalance_momentum\"] = df.groupby(['stock_id'])['imbalance_size'].diff(periods=1) / df['matched_size']\n",
    "    df[\"price_spread\"] = df[\"ask_price\"] - df[\"bid_price\"]\n",
    "    df[\"spread_intensity\"] = df.groupby(['stock_id'])['price_spread'].diff()\n",
    "    df['price_pressure'] = df['imbalance_size'] * (df['ask_price'] - df['bid_price'])\n",
    "    df['market_urgency'] = df['price_spread'] * df['liquidity_imbalance']\n",
    "    df['depth_pressure'] = (df['ask_size'] - df['bid_size']) * (df['far_price'] - df['near_price'])\n",
    "    \n",
    "    # Calculate various statistical aggregation features\n",
    "    for func in [\"mean\", \"std\", \"skew\", \"kurt\"]:\n",
    "        df[f\"all_prices_{func}\"] = df[prices].agg(func, axis=1)\n",
    "        df[f\"all_sizes_{func}\"] = df[sizes].agg(func, axis=1)\n",
    "        \n",
    "\n",
    "    for col in ['matched_size', 'imbalance_size', 'reference_price', 'imbalance_buy_sell_flag']:\n",
    "        for window in [1, 2, 3, 10]:\n",
    "            df[f\"{col}_shift_{window}\"] = df.groupby('stock_id')[col].shift(window)\n",
    "            df[f\"{col}_ret_{window}\"] = df.groupby('stock_id')[col].pct_change(window)\n",
    "    \n",
    "    # Calculate diff features for specific columns\n",
    "    for col in ['ask_price', 'bid_price', 'ask_size', 'bid_size', 'market_urgency', 'imbalance_momentum', 'size_imbalance']:\n",
    "        for window in [1, 2, 3, 10]:\n",
    "            df[f\"{col}_diff_{window}\"] = df.groupby(\"stock_id\")[col].diff(window)\n",
    "\n",
    "    return df.replace([np.inf, -np.inf], 0)\n",
    "\n",
    "def other_features(df):\n",
    "    df[\"dow\"] = df[\"date_id\"] % 5  # Day of the week\n",
    "    df[\"seconds\"] = df[\"seconds_in_bucket\"] % 60  \n",
    "    df[\"minute\"] = df[\"seconds_in_bucket\"] // 60  \n",
    "    for key, value in global_stock_id_feats.items():\n",
    "        df[f\"global_{key}\"] = df[\"stock_id\"].map(value.to_dict())\n",
    "\n",
    "    return df\n",
    "\n",
    "def generate_all_features(df):\n",
    "    # Select relevant columns for feature generation\n",
    "    cols = [c for c in df.columns if c not in [\"row_id\", \"time_id\", \"target\"]]\n",
    "    df = df[cols]\n",
    "    \n",
    "    # Generate imbalance features\n",
    "    df = imbalance_features(df)\n",
    "    df = other_features(df)\n",
    "    gc.collect()  \n",
    "    feature_name = [i for i in df.columns if i not in [\"row_id\", \"target\", \"time_id\", \"date_id\"]]\n",
    "    \n",
    "    return df[feature_name]\n"
   ]
  },
  {
   "cell_type": "markdown",
   "id": "1ae2377c",
   "metadata": {
    "papermill": {
     "duration": 0.004022,
     "end_time": "2023-12-01T18:55:51.646037",
     "exception": false,
     "start_time": "2023-12-01T18:55:51.642015",
     "status": "completed"
    },
    "tags": []
   },
   "source": [
    "## Data Splitting"
   ]
  },
  {
   "cell_type": "code",
   "execution_count": 6,
   "id": "113d1c93",
   "metadata": {
    "execution": {
     "iopub.execute_input": "2023-12-01T18:55:51.655710Z",
     "iopub.status.busy": "2023-12-01T18:55:51.655439Z",
     "iopub.status.idle": "2023-12-01T18:55:51.660848Z",
     "shell.execute_reply": "2023-12-01T18:55:51.659984Z"
    },
    "papermill": {
     "duration": 0.012373,
     "end_time": "2023-12-01T18:55:51.662624",
     "exception": false,
     "start_time": "2023-12-01T18:55:51.650251",
     "status": "completed"
    },
    "tags": []
   },
   "outputs": [
    {
     "name": "stdout",
     "output_type": "stream",
     "text": [
      "Online mode\n"
     ]
    }
   ],
   "source": [
    "if is_offline:\n",
    "    \n",
    "    df_train = df[df[\"date_id\"] <= split_day]\n",
    "    df_valid = df[df[\"date_id\"] > split_day]\n",
    "    print(\"Offline mode\")\n",
    "    print(f\"train : {df_train.shape}, valid : {df_valid.shape}\")\n",
    "else:\n",
    "    df_train = df\n",
    "    print(\"Online mode\")\n"
   ]
  },
  {
   "cell_type": "code",
   "execution_count": 7,
   "id": "df1b3d92",
   "metadata": {
    "execution": {
     "iopub.execute_input": "2023-12-01T18:55:51.672638Z",
     "iopub.status.busy": "2023-12-01T18:55:51.672073Z",
     "iopub.status.idle": "2023-12-01T18:56:53.116709Z",
     "shell.execute_reply": "2023-12-01T18:56:53.115894Z"
    },
    "papermill": {
     "duration": 61.45216,
     "end_time": "2023-12-01T18:56:53.119067",
     "exception": false,
     "start_time": "2023-12-01T18:55:51.666907",
     "status": "completed"
    },
    "tags": []
   },
   "outputs": [
    {
     "name": "stdout",
     "output_type": "stream",
     "text": [
      "Build Online Train Feats Finished.\n"
     ]
    }
   ],
   "source": [
    "if is_train:\n",
    "    global_stock_id_feats = {\n",
    "        \"median_size\": df_train.groupby(\"stock_id\")[\"bid_size\"].median() + df_train.groupby(\"stock_id\")[\"ask_size\"].median(),\n",
    "        \"std_size\": df_train.groupby(\"stock_id\")[\"bid_size\"].std() + df_train.groupby(\"stock_id\")[\"ask_size\"].std(),\n",
    "        \"ptp_size\": df_train.groupby(\"stock_id\")[\"bid_size\"].max() - df_train.groupby(\"stock_id\")[\"bid_size\"].min(),\n",
    "        \"median_price\": df_train.groupby(\"stock_id\")[\"bid_price\"].median() + df_train.groupby(\"stock_id\")[\"ask_price\"].median(),\n",
    "        \"std_price\": df_train.groupby(\"stock_id\")[\"bid_price\"].std() + df_train.groupby(\"stock_id\")[\"ask_price\"].std(),\n",
    "        \"ptp_price\": df_train.groupby(\"stock_id\")[\"bid_price\"].max() - df_train.groupby(\"stock_id\")[\"ask_price\"].min(),\n",
    "    }\n",
    "    if is_offline:\n",
    "        df_train_feats = generate_all_features(df_train)\n",
    "        print(\"Build Train Feats Finished.\")\n",
    "        df_valid_feats = generate_all_features(df_valid)\n",
    "        print(\"Build Valid Feats Finished.\")\n",
    "        df_valid_feats = reduce_mem_usage(df_valid_feats)\n",
    "    else:\n",
    "        df_train_feats = generate_all_features(df_train)\n",
    "        print(\"Build Online Train Feats Finished.\")\n",
    "\n",
    "    df_train_feats = reduce_mem_usage(df_train_feats)\n"
   ]
  },
  {
   "cell_type": "code",
   "execution_count": 8,
   "id": "0e938830",
   "metadata": {
    "execution": {
     "iopub.execute_input": "2023-12-01T18:56:53.130010Z",
     "iopub.status.busy": "2023-12-01T18:56:53.129708Z",
     "iopub.status.idle": "2023-12-01T20:09:31.758383Z",
     "shell.execute_reply": "2023-12-01T20:09:31.757371Z"
    },
    "papermill": {
     "duration": 4358.651711,
     "end_time": "2023-12-01T20:09:31.775581",
     "exception": false,
     "start_time": "2023-12-01T18:56:53.123870",
     "status": "completed"
    },
    "tags": []
   },
   "outputs": [
    {
     "name": "stdout",
     "output_type": "stream",
     "text": [
      "Feature length = 124\n",
      "Fold 1 Model Training\n",
      "Training until validation scores don't improve for 100 rounds\n",
      "[100]\tvalid_0's l1: 7.11153\n",
      "[200]\tvalid_0's l1: 7.07382\n",
      "[300]\tvalid_0's l1: 7.05792\n",
      "[400]\tvalid_0's l1: 7.04714\n",
      "[500]\tvalid_0's l1: 7.04014\n",
      "[600]\tvalid_0's l1: 7.03523\n",
      "[700]\tvalid_0's l1: 7.03143\n",
      "[800]\tvalid_0's l1: 7.02896\n",
      "[900]\tvalid_0's l1: 7.02696\n",
      "[1000]\tvalid_0's l1: 7.02556\n",
      "[1100]\tvalid_0's l1: 7.02432\n",
      "[1200]\tvalid_0's l1: 7.02353\n",
      "[1300]\tvalid_0's l1: 7.02303\n",
      "[1400]\tvalid_0's l1: 7.0222\n",
      "[1500]\tvalid_0's l1: 7.02157\n",
      "[1600]\tvalid_0's l1: 7.02095\n",
      "[1700]\tvalid_0's l1: 7.02074\n",
      "[1800]\tvalid_0's l1: 7.02028\n",
      "[1900]\tvalid_0's l1: 7.01994\n",
      "[2000]\tvalid_0's l1: 7.01969\n",
      "[2100]\tvalid_0's l1: 7.01913\n",
      "[2200]\tvalid_0's l1: 7.01865\n",
      "[2300]\tvalid_0's l1: 7.01841\n",
      "[2400]\tvalid_0's l1: 7.01825\n",
      "[2500]\tvalid_0's l1: 7.01806\n",
      "[2600]\tvalid_0's l1: 7.01793\n",
      "[2700]\tvalid_0's l1: 7.01786\n",
      "[2800]\tvalid_0's l1: 7.01779\n",
      "[2900]\tvalid_0's l1: 7.01761\n",
      "[3000]\tvalid_0's l1: 7.01743\n",
      "[3100]\tvalid_0's l1: 7.0173\n",
      "[3200]\tvalid_0's l1: 7.01722\n",
      "[3300]\tvalid_0's l1: 7.01709\n",
      "[3400]\tvalid_0's l1: 7.01699\n",
      "[3500]\tvalid_0's l1: 7.01679\n",
      "[3600]\tvalid_0's l1: 7.01672\n",
      "Early stopping, best iteration is:\n",
      "[3568]\tvalid_0's l1: 7.01671\n",
      "Model for fold 1 saved to modelitos_para_despues/doblez_1.txt\n",
      "Fold 1 MAE: 7.016712918137491\n",
      "Fold 2 Model Training\n",
      "Training until validation scores don't improve for 100 rounds\n",
      "[100]\tvalid_0's l1: 6.43162\n",
      "[200]\tvalid_0's l1: 6.40798\n",
      "[300]\tvalid_0's l1: 6.3977\n",
      "[400]\tvalid_0's l1: 6.38997\n",
      "[500]\tvalid_0's l1: 6.38533\n",
      "[600]\tvalid_0's l1: 6.38219\n",
      "[700]\tvalid_0's l1: 6.37985\n",
      "[800]\tvalid_0's l1: 6.37802\n",
      "[900]\tvalid_0's l1: 6.37689\n",
      "[1000]\tvalid_0's l1: 6.37596\n",
      "[1100]\tvalid_0's l1: 6.37542\n",
      "[1200]\tvalid_0's l1: 6.37501\n",
      "[1300]\tvalid_0's l1: 6.37468\n",
      "[1400]\tvalid_0's l1: 6.37419\n",
      "[1500]\tvalid_0's l1: 6.37372\n",
      "[1600]\tvalid_0's l1: 6.37334\n",
      "[1700]\tvalid_0's l1: 6.3731\n",
      "[1800]\tvalid_0's l1: 6.37271\n",
      "[1900]\tvalid_0's l1: 6.37255\n",
      "[2000]\tvalid_0's l1: 6.3723\n",
      "[2100]\tvalid_0's l1: 6.37218\n",
      "[2200]\tvalid_0's l1: 6.37206\n",
      "[2300]\tvalid_0's l1: 6.37187\n",
      "[2400]\tvalid_0's l1: 6.37167\n",
      "[2500]\tvalid_0's l1: 6.37162\n",
      "[2600]\tvalid_0's l1: 6.37158\n",
      "[2700]\tvalid_0's l1: 6.37151\n",
      "[2800]\tvalid_0's l1: 6.37153\n",
      "[2900]\tvalid_0's l1: 6.37142\n",
      "[3000]\tvalid_0's l1: 6.37132\n",
      "[3100]\tvalid_0's l1: 6.37128\n",
      "[3200]\tvalid_0's l1: 6.37123\n",
      "[3300]\tvalid_0's l1: 6.37118\n",
      "[3400]\tvalid_0's l1: 6.37111\n",
      "[3500]\tvalid_0's l1: 6.37108\n",
      "[3600]\tvalid_0's l1: 6.37104\n",
      "[3700]\tvalid_0's l1: 6.37106\n",
      "Early stopping, best iteration is:\n",
      "[3630]\tvalid_0's l1: 6.37103\n",
      "Model for fold 2 saved to modelitos_para_despues/doblez_2.txt\n",
      "Fold 2 MAE: 6.371033686447728\n",
      "Fold 3 Model Training\n",
      "Training until validation scores don't improve for 100 rounds\n",
      "[100]\tvalid_0's l1: 6.34733\n",
      "[200]\tvalid_0's l1: 6.32386\n",
      "[300]\tvalid_0's l1: 6.31284\n",
      "[400]\tvalid_0's l1: 6.30523\n",
      "[500]\tvalid_0's l1: 6.30079\n",
      "[600]\tvalid_0's l1: 6.29753\n",
      "[700]\tvalid_0's l1: 6.29522\n",
      "[800]\tvalid_0's l1: 6.29376\n",
      "[900]\tvalid_0's l1: 6.29248\n",
      "[1000]\tvalid_0's l1: 6.29172\n",
      "[1100]\tvalid_0's l1: 6.29133\n",
      "[1200]\tvalid_0's l1: 6.29082\n",
      "[1300]\tvalid_0's l1: 6.2906\n",
      "[1400]\tvalid_0's l1: 6.29018\n",
      "[1500]\tvalid_0's l1: 6.28982\n",
      "[1600]\tvalid_0's l1: 6.28956\n",
      "[1700]\tvalid_0's l1: 6.28936\n",
      "[1800]\tvalid_0's l1: 6.28913\n",
      "[1900]\tvalid_0's l1: 6.28868\n",
      "[2000]\tvalid_0's l1: 6.28849\n",
      "[2100]\tvalid_0's l1: 6.28834\n",
      "[2200]\tvalid_0's l1: 6.2882\n",
      "[2300]\tvalid_0's l1: 6.2882\n",
      "[2400]\tvalid_0's l1: 6.28813\n",
      "Early stopping, best iteration is:\n",
      "[2363]\tvalid_0's l1: 6.28811\n",
      "Model for fold 3 saved to modelitos_para_despues/doblez_3.txt\n",
      "Fold 3 MAE: 6.288105363046589\n",
      "Fold 4 Model Training\n",
      "Training until validation scores don't improve for 100 rounds\n",
      "[100]\tvalid_0's l1: 5.99294\n",
      "[200]\tvalid_0's l1: 5.97107\n",
      "[300]\tvalid_0's l1: 5.9612\n",
      "[400]\tvalid_0's l1: 5.95652\n",
      "[500]\tvalid_0's l1: 5.95496\n",
      "[600]\tvalid_0's l1: 5.9534\n",
      "[700]\tvalid_0's l1: 5.95352\n",
      "Early stopping, best iteration is:\n",
      "[607]\tvalid_0's l1: 5.95337\n",
      "Model for fold 4 saved to modelitos_para_despues/doblez_4.txt\n",
      "Fold 4 MAE: 5.953366914074161\n",
      "Fold 5 Model Training\n",
      "Training until validation scores don't improve for 100 rounds\n",
      "[100]\tvalid_0's l1: 4.84118\n",
      "[200]\tvalid_0's l1: 4.825\n",
      "[300]\tvalid_0's l1: 4.81888\n",
      "[400]\tvalid_0's l1: 4.81315\n",
      "[500]\tvalid_0's l1: 4.81115\n",
      "[600]\tvalid_0's l1: 4.80997\n",
      "[700]\tvalid_0's l1: 4.80851\n",
      "[800]\tvalid_0's l1: 4.80682\n",
      "[900]\tvalid_0's l1: 4.80595\n",
      "[1000]\tvalid_0's l1: 4.80538\n",
      "[1100]\tvalid_0's l1: 4.80539\n",
      "[1200]\tvalid_0's l1: 4.80518\n",
      "[1300]\tvalid_0's l1: 4.80509\n",
      "[1400]\tvalid_0's l1: 4.80402\n",
      "[1500]\tvalid_0's l1: 4.804\n",
      "[1600]\tvalid_0's l1: 4.80417\n",
      "Early stopping, best iteration is:\n",
      "[1515]\tvalid_0's l1: 4.80373\n",
      "Model for fold 5 saved to modelitos_para_despues/doblez_5.txt\n",
      "Fold 5 MAE: 4.803733352394092\n",
      "Training final model with average best iteration: 2336\n",
      "Final model saved to modelitos_para_despues/doblez-conjunto.txt\n",
      "Average MAE across all folds: 6.086590446820011\n"
     ]
    }
   ],
   "source": [
    "import numpy as np\n",
    "import lightgbm as lgb\n",
    "from sklearn.metrics import mean_absolute_error\n",
    "import gc\n",
    "\n",
    "lgb_params = {\n",
    "    \"objective\": \"mae\",\n",
    "    \"n_estimators\": 6000,\n",
    "    \"num_leaves\": 256,\n",
    "    \"subsample\": 0.6,\n",
    "    \"colsample_bytree\": 0.8,\n",
    "    \"learning_rate\": 0.00871,\n",
    "    'max_depth': 11,\n",
    "    \"n_jobs\": 4,\n",
    "    \"device\": \"gpu\",\n",
    "    \"verbosity\": -1,\n",
    "    \"importance_type\": \"gain\",\n",
    "}\n",
    "feature_name = list(df_train_feats.columns)\n",
    "print(f\"Feature length = {len(feature_name)}\")\n",
    "\n",
    "num_folds = 5\n",
    "fold_size = 480 // num_folds\n",
    "gap = 5\n",
    "\n",
    "models = []\n",
    "scores = []\n",
    "\n",
    "model_save_path = 'modelitos_para_despues' \n",
    "if not os.path.exists(model_save_path):\n",
    "    os.makedirs(model_save_path)\n",
    "\n",
    "date_ids = df_train['date_id'].values\n",
    "\n",
    "for i in range(num_folds):\n",
    "    start = i * fold_size\n",
    "    end = start + fold_size\n",
    "    if i < num_folds - 1:  # No need to purge after the last fold\n",
    "        purged_start = end - gap\n",
    "        purged_end = end + fold_size + gap\n",
    "        train_indices = (date_ids >= start) & (date_ids < purged_start) | (date_ids > purged_end)\n",
    "    else:\n",
    "        train_indices = (date_ids >= start) & (date_ids < end)\n",
    "    \n",
    "    test_indices = (date_ids >= end) & (date_ids < end + fold_size)\n",
    "    \n",
    "    df_fold_train = df_train_feats[train_indices]\n",
    "    df_fold_train_target = df_train['target'][train_indices]\n",
    "    df_fold_valid = df_train_feats[test_indices]\n",
    "    df_fold_valid_target = df_train['target'][test_indices]\n",
    "\n",
    "    print(f\"Fold {i+1} Model Training\")\n",
    "    \n",
    "    # Train a LightGBM model for the current fold\n",
    "    lgb_model = lgb.LGBMRegressor(**lgb_params)\n",
    "    lgb_model.fit(\n",
    "        df_fold_train[feature_name],\n",
    "        df_fold_train_target,\n",
    "        eval_set=[(df_fold_valid[feature_name], df_fold_valid_target)],\n",
    "        callbacks=[\n",
    "            lgb.callback.early_stopping(stopping_rounds=100),\n",
    "            lgb.callback.log_evaluation(period=100),\n",
    "        ],\n",
    "    )\n",
    "\n",
    "    models.append(lgb_model)\n",
    "    # Save the model to a file\n",
    "    model_filename = os.path.join(model_save_path, f'doblez_{i+1}.txt')\n",
    "    lgb_model.booster_.save_model(model_filename)\n",
    "    print(f\"Model for fold {i+1} saved to {model_filename}\")\n",
    "\n",
    "    # Evaluate model performance on the validation set\n",
    "    fold_predictions = lgb_model.predict(df_fold_valid[feature_name])\n",
    "    fold_score = mean_absolute_error(fold_predictions, df_fold_valid_target)\n",
    "    scores.append(fold_score)\n",
    "    print(f\"Fold {i+1} MAE: {fold_score}\")\n",
    "\n",
    "    # Free up memory by deleting fold specific variables\n",
    "    del df_fold_train, df_fold_train_target, df_fold_valid, df_fold_valid_target\n",
    "    gc.collect()\n",
    "\n",
    "# Calculate the average best iteration from all regular folds\n",
    "average_best_iteration = int(np.mean([model.best_iteration_ for model in models]))\n",
    "\n",
    "# Update the lgb_params with the average best iteration\n",
    "final_model_params = lgb_params.copy()\n",
    "final_model_params['n_estimators'] = average_best_iteration\n",
    "\n",
    "print(f\"Training final model with average best iteration: {average_best_iteration}\")\n",
    "\n",
    "# Train the final model on the entire dataset\n",
    "final_model = lgb.LGBMRegressor(**final_model_params)\n",
    "final_model.fit(\n",
    "    df_train_feats[feature_name],\n",
    "    df_train['target'],\n",
    "    callbacks=[\n",
    "        lgb.callback.log_evaluation(period=100),\n",
    "    ],\n",
    ")\n",
    "\n",
    "# Append the final model to the list of models\n",
    "models.append(final_model)\n",
    "\n",
    "# Save the final model to a file\n",
    "final_model_filename = os.path.join(model_save_path, 'doblez-conjunto.txt')\n",
    "final_model.booster_.save_model(final_model_filename)\n",
    "print(f\"Final model saved to {final_model_filename}\")\n",
    "\n",
    "# Now 'models' holds the trained models for each fold and 'scores' holds the validation scores\n",
    "print(f\"Average MAE across all folds: {np.mean(scores)}\")\n"
   ]
  },
  {
   "cell_type": "code",
   "execution_count": 9,
   "id": "1cd0d28b",
   "metadata": {
    "execution": {
     "iopub.execute_input": "2023-12-01T20:09:31.807113Z",
     "iopub.status.busy": "2023-12-01T20:09:31.806815Z",
     "iopub.status.idle": "2023-12-01T20:10:22.477153Z",
     "shell.execute_reply": "2023-12-01T20:10:22.476083Z"
    },
    "papermill": {
     "duration": 50.688697,
     "end_time": "2023-12-01T20:10:22.479277",
     "exception": false,
     "start_time": "2023-12-01T20:09:31.790580",
     "status": "completed"
    },
    "tags": []
   },
   "outputs": [
    {
     "name": "stdout",
     "output_type": "stream",
     "text": [
      "This version of the API is not optimized and should not be used to estimate the runtime of your code on the hidden test set.\n",
      "10 qps: 0.34772286415100095\n",
      "20 qps: 0.3173207640647888\n",
      "30 qps: 0.30944807529449464\n",
      "40 qps: 0.305478972196579\n",
      "50 qps: 0.30527396202087403\n",
      "60 qps: 0.3039457043011983\n",
      "70 qps: 0.3026663167136056\n",
      "80 qps: 0.3032576233148575\n",
      "90 qps: 0.3019408040576511\n",
      "100 qps: 0.3012057614326477\n",
      "110 qps: 0.3011629104614258\n",
      "120 qps: 0.30099918842315676\n",
      "130 qps: 0.3011726636153001\n",
      "140 qps: 0.30134243624550955\n",
      "150 qps: 0.3017468007405599\n",
      "160 qps: 0.30204415917396543\n",
      "The code will take approximately 0.346 hours to reason about\n"
     ]
    }
   ],
   "source": [
    "def zero_sum(prices, volumes):\n",
    "    std_error = np.sqrt(volumes)\n",
    "    step = np.sum(prices) / np.sum(std_error)\n",
    "    out = prices - std_error * step\n",
    "    return out\n",
    "\n",
    "if is_infer:\n",
    "    import optiver2023\n",
    "    env = optiver2023.make_env()\n",
    "    iter_test = env.iter_test()\n",
    "    counter = 0\n",
    "    y_min, y_max = -64, 64\n",
    "    qps, predictions = [], []\n",
    "    cache = pd.DataFrame()\n",
    "\n",
    "    # Weights for each fold model\n",
    "    model_weights = [1/len(models)] * len(models) \n",
    "    \n",
    "    for (test, revealed_targets, sample_prediction) in iter_test:\n",
    "        now_time = time.time()\n",
    "        cache = pd.concat([cache, test], ignore_index=True, axis=0)\n",
    "        if counter > 0:\n",
    "            cache = cache.groupby(['stock_id']).tail(21).sort_values(by=['date_id', 'seconds_in_bucket', 'stock_id']).reset_index(drop=True)\n",
    "        feat = generate_all_features(cache)[-len(test):]\n",
    "        # changed\n",
    "        if test.currently_scored.iloc[0]== False:\n",
    "            sample_prediction['target'] = 0\n",
    "            env.predict(sample_prediction)\n",
    "            counter += 1\n",
    "            qps.append(time.time() - now_time)\n",
    "            if counter % 10 == 0:\n",
    "                print(counter, 'qps:', np.mean(qps))\n",
    "            continue\n",
    "\n",
    "        feat = feat.drop(columns = [\"currently_scored\"])\n",
    "        # Generate predictions for each model and calculate the weighted average\n",
    "        lgb_predictions = np.zeros(len(test))\n",
    "        for model, weight in zip(models, model_weights):\n",
    "            lgb_predictions += weight * model.predict(feat)\n",
    "\n",
    "        lgb_predictions = zero_sum(lgb_predictions, test['bid_size'] + test['ask_size'])\n",
    "        clipped_predictions = np.clip(lgb_predictions, y_min, y_max)\n",
    "        sample_prediction['target'] = clipped_predictions\n",
    "        env.predict(sample_prediction)\n",
    "        counter += 1\n",
    "        qps.append(time.time() - now_time)\n",
    "        if counter % 10 == 0:\n",
    "            print(counter, 'qps:', np.mean(qps))\n",
    "\n",
    "    time_cost = 1.146 * np.mean(qps)\n",
    "    print(f\"The code will take approximately {np.round(time_cost, 4)} hours to reason about\")\n"
   ]
  }
 ],
 "metadata": {
  "kaggle": {
   "accelerator": "gpu",
   "dataSources": [
    {
     "databundleVersionId": 7056235,
     "sourceId": 57891,
     "sourceType": "competition"
    }
   ],
   "dockerImageVersionId": 30559,
   "isGpuEnabled": true,
   "isInternetEnabled": false,
   "language": "python",
   "sourceType": "notebook"
  },
  "kernelspec": {
   "display_name": "Python 3",
   "language": "python",
   "name": "python3"
  },
  "language_info": {
   "codemirror_mode": {
    "name": "ipython",
    "version": 3
   },
   "file_extension": ".py",
   "mimetype": "text/x-python",
   "name": "python",
   "nbconvert_exporter": "python",
   "pygments_lexer": "ipython3",
   "version": "3.10.12"
  },
  "papermill": {
   "default_parameters": {},
   "duration": 4497.963447,
   "end_time": "2023-12-01T20:10:24.026240",
   "environment_variables": {},
   "exception": null,
   "input_path": "__notebook__.ipynb",
   "output_path": "__notebook__.ipynb",
   "parameters": {},
   "start_time": "2023-12-01T18:55:26.062793",
   "version": "2.4.0"
  }
 },
 "nbformat": 4,
 "nbformat_minor": 5
}
