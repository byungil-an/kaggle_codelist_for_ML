{
 "cells": [
  {
   "cell_type": "markdown",
   "id": "07222834",
   "metadata": {
    "papermill": {
     "duration": 0.004044,
     "end_time": "2023-10-01T15:20:50.501776",
     "exception": false,
     "start_time": "2023-10-01T15:20:50.497732",
     "status": "completed"
    },
    "tags": []
   },
   "source": [
    "# XGBoost and LGBM Inference Notebook\n",
    "\n",
    "This notebook shows how to load a pretrained model from a training notebook and test the submission pipeline with the provided `public_timeseries_testing_util.py`, so that the `make_env` function can be called multiple times (we don't have to restart the kernel). I use this notebook to submit my two tuned models, one xgboost and three lgbm models with different random seeds\n",
    "\n",
    "## Load the pretrained models\n",
    "\n",
    "See [this notebook](https://www.kaggle.com/code/moritzm00/optiver-xgb-tuning-w-ray-tune) for training and hyperparameter tuning."
   ]
  },
  {
   "cell_type": "code",
   "execution_count": 1,
   "id": "35592cd5",
   "metadata": {
    "execution": {
     "iopub.execute_input": "2023-10-01T15:20:50.512973Z",
     "iopub.status.busy": "2023-10-01T15:20:50.512351Z",
     "iopub.status.idle": "2023-10-01T15:20:52.648210Z",
     "shell.execute_reply": "2023-10-01T15:20:52.647137Z"
    },
    "papermill": {
     "duration": 2.143764,
     "end_time": "2023-10-01T15:20:52.650988",
     "exception": false,
     "start_time": "2023-10-01T15:20:50.507224",
     "status": "completed"
    },
    "tags": []
   },
   "outputs": [
    {
     "data": {
      "text/html": [
       "<style>#sk-container-id-1 {color: black;background-color: white;}#sk-container-id-1 pre{padding: 0;}#sk-container-id-1 div.sk-toggleable {background-color: white;}#sk-container-id-1 label.sk-toggleable__label {cursor: pointer;display: block;width: 100%;margin-bottom: 0;padding: 0.3em;box-sizing: border-box;text-align: center;}#sk-container-id-1 label.sk-toggleable__label-arrow:before {content: \"▸\";float: left;margin-right: 0.25em;color: #696969;}#sk-container-id-1 label.sk-toggleable__label-arrow:hover:before {color: black;}#sk-container-id-1 div.sk-estimator:hover label.sk-toggleable__label-arrow:before {color: black;}#sk-container-id-1 div.sk-toggleable__content {max-height: 0;max-width: 0;overflow: hidden;text-align: left;background-color: #f0f8ff;}#sk-container-id-1 div.sk-toggleable__content pre {margin: 0.2em;color: black;border-radius: 0.25em;background-color: #f0f8ff;}#sk-container-id-1 input.sk-toggleable__control:checked~div.sk-toggleable__content {max-height: 200px;max-width: 100%;overflow: auto;}#sk-container-id-1 input.sk-toggleable__control:checked~label.sk-toggleable__label-arrow:before {content: \"▾\";}#sk-container-id-1 div.sk-estimator input.sk-toggleable__control:checked~label.sk-toggleable__label {background-color: #d4ebff;}#sk-container-id-1 div.sk-label input.sk-toggleable__control:checked~label.sk-toggleable__label {background-color: #d4ebff;}#sk-container-id-1 input.sk-hidden--visually {border: 0;clip: rect(1px 1px 1px 1px);clip: rect(1px, 1px, 1px, 1px);height: 1px;margin: -1px;overflow: hidden;padding: 0;position: absolute;width: 1px;}#sk-container-id-1 div.sk-estimator {font-family: monospace;background-color: #f0f8ff;border: 1px dotted black;border-radius: 0.25em;box-sizing: border-box;margin-bottom: 0.5em;}#sk-container-id-1 div.sk-estimator:hover {background-color: #d4ebff;}#sk-container-id-1 div.sk-parallel-item::after {content: \"\";width: 100%;border-bottom: 1px solid gray;flex-grow: 1;}#sk-container-id-1 div.sk-label:hover label.sk-toggleable__label {background-color: #d4ebff;}#sk-container-id-1 div.sk-serial::before {content: \"\";position: absolute;border-left: 1px solid gray;box-sizing: border-box;top: 0;bottom: 0;left: 50%;z-index: 0;}#sk-container-id-1 div.sk-serial {display: flex;flex-direction: column;align-items: center;background-color: white;padding-right: 0.2em;padding-left: 0.2em;position: relative;}#sk-container-id-1 div.sk-item {position: relative;z-index: 1;}#sk-container-id-1 div.sk-parallel {display: flex;align-items: stretch;justify-content: center;background-color: white;position: relative;}#sk-container-id-1 div.sk-item::before, #sk-container-id-1 div.sk-parallel-item::before {content: \"\";position: absolute;border-left: 1px solid gray;box-sizing: border-box;top: 0;bottom: 0;left: 50%;z-index: -1;}#sk-container-id-1 div.sk-parallel-item {display: flex;flex-direction: column;z-index: 1;position: relative;background-color: white;}#sk-container-id-1 div.sk-parallel-item:first-child::after {align-self: flex-end;width: 50%;}#sk-container-id-1 div.sk-parallel-item:last-child::after {align-self: flex-start;width: 50%;}#sk-container-id-1 div.sk-parallel-item:only-child::after {width: 0;}#sk-container-id-1 div.sk-dashed-wrapped {border: 1px dashed gray;margin: 0 0.4em 0.5em 0.4em;box-sizing: border-box;padding-bottom: 0.4em;background-color: white;}#sk-container-id-1 div.sk-label label {font-family: monospace;font-weight: bold;display: inline-block;line-height: 1.2em;}#sk-container-id-1 div.sk-label-container {text-align: center;}#sk-container-id-1 div.sk-container {/* jupyter's `normalize.less` sets `[hidden] { display: none; }` but bootstrap.min.css set `[hidden] { display: none !important; }` so we also need the `!important` here to be able to override the default hidden behavior on the sphinx rendered scikit-learn.org. See: https://github.com/scikit-learn/scikit-learn/issues/21755 */display: inline-block !important;position: relative;}#sk-container-id-1 div.sk-text-repr-fallback {display: none;}</style><div id=\"sk-container-id-1\" class=\"sk-top-container\"><div class=\"sk-text-repr-fallback\"><pre>XGBRegressor(base_score=None, booster=None, callbacks=None,\n",
       "             colsample_bylevel=None, colsample_bynode=None,\n",
       "             colsample_bytree=0.7515871446120143, early_stopping_rounds=50,\n",
       "             enable_categorical=False, eval_metric=[&#x27;mae&#x27;, &#x27;rmse&#x27;],\n",
       "             feature_types=[&#x27;int&#x27;, &#x27;int&#x27;, &#x27;float&#x27;, &#x27;float&#x27;, &#x27;float&#x27;, &#x27;float&#x27;,\n",
       "                            &#x27;float&#x27;, &#x27;float&#x27;, &#x27;float&#x27;, &#x27;float&#x27;, &#x27;float&#x27;,\n",
       "                            &#x27;float&#x27;, &#x27;float&#x27;, &#x27;float&#x27;, &#x27;float&#x27;, &#x27;flo...\n",
       "             gamma=None, gpu_id=None, grow_policy=None, importance_type=None,\n",
       "             interaction_constraints=None, learning_rate=0.0646022482567907,\n",
       "             max_bin=None, max_cat_threshold=None, max_cat_to_onehot=None,\n",
       "             max_delta_step=None, max_depth=8, max_leaves=None,\n",
       "             min_child_weight=2.82479332209563, missing=nan,\n",
       "             monotone_constraints=None, n_estimators=750, n_jobs=1,\n",
       "             num_parallel_tree=None, predictor=None, random_state=42, ...)</pre><b>In a Jupyter environment, please rerun this cell to show the HTML representation or trust the notebook. <br />On GitHub, the HTML representation is unable to render, please try loading this page with nbviewer.org.</b></div><div class=\"sk-container\" hidden><div class=\"sk-item\"><div class=\"sk-estimator sk-toggleable\"><input class=\"sk-toggleable__control sk-hidden--visually\" id=\"sk-estimator-id-1\" type=\"checkbox\" checked><label for=\"sk-estimator-id-1\" class=\"sk-toggleable__label sk-toggleable__label-arrow\">XGBRegressor</label><div class=\"sk-toggleable__content\"><pre>XGBRegressor(base_score=None, booster=None, callbacks=None,\n",
       "             colsample_bylevel=None, colsample_bynode=None,\n",
       "             colsample_bytree=0.7515871446120143, early_stopping_rounds=50,\n",
       "             enable_categorical=False, eval_metric=[&#x27;mae&#x27;, &#x27;rmse&#x27;],\n",
       "             feature_types=[&#x27;int&#x27;, &#x27;int&#x27;, &#x27;float&#x27;, &#x27;float&#x27;, &#x27;float&#x27;, &#x27;float&#x27;,\n",
       "                            &#x27;float&#x27;, &#x27;float&#x27;, &#x27;float&#x27;, &#x27;float&#x27;, &#x27;float&#x27;,\n",
       "                            &#x27;float&#x27;, &#x27;float&#x27;, &#x27;float&#x27;, &#x27;float&#x27;, &#x27;flo...\n",
       "             gamma=None, gpu_id=None, grow_policy=None, importance_type=None,\n",
       "             interaction_constraints=None, learning_rate=0.0646022482567907,\n",
       "             max_bin=None, max_cat_threshold=None, max_cat_to_onehot=None,\n",
       "             max_delta_step=None, max_depth=8, max_leaves=None,\n",
       "             min_child_weight=2.82479332209563, missing=nan,\n",
       "             monotone_constraints=None, n_estimators=750, n_jobs=1,\n",
       "             num_parallel_tree=None, predictor=None, random_state=42, ...)</pre></div></div></div></div></div>"
      ],
      "text/plain": [
       "XGBRegressor(base_score=None, booster=None, callbacks=None,\n",
       "             colsample_bylevel=None, colsample_bynode=None,\n",
       "             colsample_bytree=0.7515871446120143, early_stopping_rounds=50,\n",
       "             enable_categorical=False, eval_metric=['mae', 'rmse'],\n",
       "             feature_types=['int', 'int', 'float', 'float', 'float', 'float',\n",
       "                            'float', 'float', 'float', 'float', 'float',\n",
       "                            'float', 'float', 'float', 'float', 'flo...\n",
       "             gamma=None, gpu_id=None, grow_policy=None, importance_type=None,\n",
       "             interaction_constraints=None, learning_rate=0.0646022482567907,\n",
       "             max_bin=None, max_cat_threshold=None, max_cat_to_onehot=None,\n",
       "             max_delta_step=None, max_depth=8, max_leaves=None,\n",
       "             min_child_weight=2.82479332209563, missing=nan,\n",
       "             monotone_constraints=None, n_estimators=750, n_jobs=1,\n",
       "             num_parallel_tree=None, predictor=None, random_state=42, ...)"
      ]
     },
     "execution_count": 1,
     "metadata": {},
     "output_type": "execute_result"
    }
   ],
   "source": [
    "from xgboost import XGBRegressor\n",
    "xgb_model = XGBRegressor()\n",
    "xgb_model.load_model(\"/kaggle/input/optiver-xgb-tuning-w-ray-tune/model.json\")\n",
    "xgb_model"
   ]
  },
  {
   "cell_type": "markdown",
   "id": "43fbf2a9",
   "metadata": {
    "papermill": {
     "duration": 0.004241,
     "end_time": "2023-10-01T15:20:52.659282",
     "exception": false,
     "start_time": "2023-10-01T15:20:52.655041",
     "status": "completed"
    },
    "tags": []
   },
   "source": [
    "Training notebook of lgbm models, see [here](https://www.kaggle.com/code/moritzm00/optiver-lgbm-tuning-w-optuna)"
   ]
  },
  {
   "cell_type": "code",
   "execution_count": 2,
   "id": "ec0f4557",
   "metadata": {
    "execution": {
     "iopub.execute_input": "2023-10-01T15:20:52.668623Z",
     "iopub.status.busy": "2023-10-01T15:20:52.668147Z",
     "iopub.status.idle": "2023-10-01T15:20:53.889626Z",
     "shell.execute_reply": "2023-10-01T15:20:53.888660Z"
    },
    "papermill": {
     "duration": 1.228598,
     "end_time": "2023-10-01T15:20:53.891982",
     "exception": false,
     "start_time": "2023-10-01T15:20:52.663384",
     "status": "completed"
    },
    "tags": []
   },
   "outputs": [],
   "source": [
    "import pickle\n",
    "import numpy as np\n",
    "\n",
    "lgbm_models = []\n",
    "n_models = 1 # up to 3\n",
    "\n",
    "for i in range(n_models):\n",
    "    with open(f\"/kaggle/input/optiver-lgbm-tuning-w-optuna/model-{i}.pkl\", \"rb\") as f:\n",
    "         lgbm_models.append(pickle.load(f))"
   ]
  },
  {
   "cell_type": "code",
   "execution_count": 3,
   "id": "3ac17014",
   "metadata": {
    "execution": {
     "iopub.execute_input": "2023-10-01T15:20:53.903278Z",
     "iopub.status.busy": "2023-10-01T15:20:53.901193Z",
     "iopub.status.idle": "2023-10-01T15:20:53.907928Z",
     "shell.execute_reply": "2023-10-01T15:20:53.907113Z"
    },
    "papermill": {
     "duration": 0.014007,
     "end_time": "2023-10-01T15:20:53.910119",
     "exception": false,
     "start_time": "2023-10-01T15:20:53.896112",
     "status": "completed"
    },
    "tags": []
   },
   "outputs": [],
   "source": [
    "def make_ensemble_pred(X):\n",
    "    preds = [xgb_model.predict(X)]\n",
    "    for lgbm_model in lgbm_models:\n",
    "        preds.append(lgbm_model.predict(X, num_iterations=lgbm_model.best_iteration_))\n",
    "    return np.mean(preds, axis=0)"
   ]
  },
  {
   "cell_type": "code",
   "execution_count": 4,
   "id": "c7d6af41",
   "metadata": {
    "_kg_hide-input": true,
    "execution": {
     "iopub.execute_input": "2023-10-01T15:20:53.921605Z",
     "iopub.status.busy": "2023-10-01T15:20:53.919991Z",
     "iopub.status.idle": "2023-10-01T15:20:55.049997Z",
     "shell.execute_reply": "2023-10-01T15:20:55.048681Z"
    },
    "papermill": {
     "duration": 1.13796,
     "end_time": "2023-10-01T15:20:55.052442",
     "exception": false,
     "start_time": "2023-10-01T15:20:53.914482",
     "status": "completed"
    },
    "tags": []
   },
   "outputs": [],
   "source": [
    "!cp /kaggle/input/optiver-lgbm-tuning-w-optuna/featurize.py ."
   ]
  },
  {
   "cell_type": "code",
   "execution_count": 5,
   "id": "4cf785c4",
   "metadata": {
    "_kg_hide-input": true,
    "execution": {
     "iopub.execute_input": "2023-10-01T15:20:55.062458Z",
     "iopub.status.busy": "2023-10-01T15:20:55.062092Z",
     "iopub.status.idle": "2023-10-01T15:20:55.069474Z",
     "shell.execute_reply": "2023-10-01T15:20:55.068477Z"
    },
    "papermill": {
     "duration": 0.014899,
     "end_time": "2023-10-01T15:20:55.071500",
     "exception": false,
     "start_time": "2023-10-01T15:20:55.056601",
     "status": "completed"
    },
    "tags": []
   },
   "outputs": [],
   "source": [
    "from featurize import featurize"
   ]
  },
  {
   "cell_type": "markdown",
   "id": "1b6e456e",
   "metadata": {
    "papermill": {
     "duration": 0.003693,
     "end_time": "2023-10-01T15:20:55.079179",
     "exception": false,
     "start_time": "2023-10-01T15:20:55.075486",
     "status": "completed"
    },
    "tags": []
   },
   "source": [
    "## Finish the MockApi class implementation\n",
    "\n",
    "See this file: `/kaggle/input/optiver-trading-at-the-close/public_timeseries_testing_util.py`\n",
    "\n",
    "We have to define the three variables, as explained in the docstring. With this, we can rerun the api multiple times without having to restart the kernel!"
   ]
  },
  {
   "cell_type": "code",
   "execution_count": 6,
   "id": "d1a1c6a6",
   "metadata": {
    "_kg_hide-input": true,
    "execution": {
     "iopub.execute_input": "2023-10-01T15:20:55.088859Z",
     "iopub.status.busy": "2023-10-01T15:20:55.088471Z",
     "iopub.status.idle": "2023-10-01T15:20:55.104691Z",
     "shell.execute_reply": "2023-10-01T15:20:55.103472Z"
    },
    "papermill": {
     "duration": 0.023795,
     "end_time": "2023-10-01T15:20:55.106717",
     "exception": false,
     "start_time": "2023-10-01T15:20:55.082922",
     "status": "completed"
    },
    "tags": []
   },
   "outputs": [],
   "source": [
    "'''\n",
    "An unlocked version of the timeseries API intended for testing alternate inputs.\n",
    "Mirrors the production timeseries API in the crucial respects, but won't be as fast.\n",
    "\n",
    "ONLY works afer the first three variables in MockAPI.__init__ are populated.\n",
    "'''\n",
    "\n",
    "from typing import Sequence, Tuple\n",
    "\n",
    "import pandas as pd\n",
    "\n",
    "\n",
    "class MockApi:\n",
    "    def __init__(self):\n",
    "        '''\n",
    "        YOU MUST UPDATE THE FIRST THREE LINES of this method.\n",
    "        They've been intentionally left in an invalid state.\n",
    "\n",
    "        Variables to set:\n",
    "            input_paths: a list of two or more paths to the csv files to be served\n",
    "            group_id_column: the column that identifies which groups of rows the API should serve.\n",
    "                A call to iter_test serves all rows of all dataframes with the current group ID value.\n",
    "            export_group_id_column: if true, the dataframes iter_test serves will include the group_id_column values.\n",
    "        '''\n",
    "        self.input_paths: Sequence[str] = [\n",
    "            \"/kaggle/input/optiver-trading-at-the-close/example_test_files/test.csv\",\n",
    "            \"/kaggle/input/optiver-trading-at-the-close/example_test_files/revealed_targets.csv\",\n",
    "            \"/kaggle/input/optiver-trading-at-the-close/example_test_files/sample_submission.csv\"\n",
    "        ]\n",
    "        self.group_id_column: str = \"time_id\"\n",
    "        self.export_group_id_column: bool = False\n",
    "        # iter_test is only designed to support at least two dataframes, such as test and sample_submission\n",
    "        assert len(self.input_paths) >= 2\n",
    "\n",
    "        self._status = 'initialized'\n",
    "        self.predictions = []\n",
    "\n",
    "    def iter_test(self) -> Tuple[pd.DataFrame]:\n",
    "        '''\n",
    "        Loads all of the dataframes specified in self.input_paths,\n",
    "        then yields all rows in those dataframes that equal the current self.group_id_column value.\n",
    "        '''\n",
    "        if self._status != 'initialized':\n",
    "\n",
    "            raise Exception('WARNING: the real API can only iterate over `iter_test()` once.')\n",
    "\n",
    "        dataframes = []\n",
    "        for pth in self.input_paths:\n",
    "            dataframes.append(pd.read_csv(pth, low_memory=False))\n",
    "        group_order = dataframes[0][self.group_id_column].drop_duplicates().tolist()\n",
    "        dataframes = [df.set_index(self.group_id_column) for df in dataframes]\n",
    "\n",
    "        for group_id in group_order:\n",
    "            self._status = 'prediction_needed'\n",
    "            current_data = []\n",
    "            for df in dataframes:\n",
    "                cur_df = df.loc[group_id].copy()\n",
    "                # returning single line dataframes from df.loc requires special handling\n",
    "                if not isinstance(cur_df, pd.DataFrame):\n",
    "                    cur_df = pd.DataFrame({a: b for a, b in zip(cur_df.index.values, cur_df.values)}, index=[group_id])\n",
    "                    cur_df.index.name = self.group_id_column\n",
    "                cur_df = cur_df.reset_index(drop=not(self.export_group_id_column))\n",
    "                current_data.append(cur_df)\n",
    "            yield tuple(current_data)\n",
    "\n",
    "            while self._status != 'prediction_received':\n",
    "                print('You must call `predict()` successfully before you can continue with `iter_test()`', flush=True)\n",
    "                yield None\n",
    "                \n",
    "        with open('submission_mocked.csv', 'w') as f_open:\n",
    "             pd.concat(self.predictions).to_csv(f_open, index=False)\n",
    "        self._status = 'finished'\n",
    "\n",
    "    def predict(self, user_predictions: pd.DataFrame):\n",
    "        '''\n",
    "        Accepts and stores the user's predictions and unlocks iter_test once that is done\n",
    "        '''\n",
    "        if self._status == 'finished':\n",
    "            raise Exception('You have already made predictions for the full test set.')\n",
    "        if self._status != 'prediction_needed':\n",
    "            raise Exception('You must get the next test sample from `iter_test()` first.')\n",
    "        if not isinstance(user_predictions, pd.DataFrame):\n",
    "            raise Exception('You must provide a DataFrame.')\n",
    "\n",
    "        self.predictions.append(user_predictions)\n",
    "        self._status = 'prediction_received'\n",
    "\n",
    "\n",
    "def make_env():\n",
    "    return MockApi()"
   ]
  },
  {
   "cell_type": "markdown",
   "id": "e417dc21",
   "metadata": {
    "papermill": {
     "duration": 0.003831,
     "end_time": "2023-10-01T15:20:55.114846",
     "exception": false,
     "start_time": "2023-10-01T15:20:55.111015",
     "status": "completed"
    },
    "tags": []
   },
   "source": [
    "## Iterate over the test data"
   ]
  },
  {
   "cell_type": "code",
   "execution_count": 7,
   "id": "a3f329a8",
   "metadata": {
    "execution": {
     "iopub.execute_input": "2023-10-01T15:20:55.124805Z",
     "iopub.status.busy": "2023-10-01T15:20:55.124203Z",
     "iopub.status.idle": "2023-10-01T15:20:55.129972Z",
     "shell.execute_reply": "2023-10-01T15:20:55.129045Z"
    },
    "papermill": {
     "duration": 0.013053,
     "end_time": "2023-10-01T15:20:55.132089",
     "exception": false,
     "start_time": "2023-10-01T15:20:55.119036",
     "status": "completed"
    },
    "tags": []
   },
   "outputs": [],
   "source": [
    "mock_api = False # false if you want submit this notebook"
   ]
  },
  {
   "cell_type": "code",
   "execution_count": 8,
   "id": "7d30e145",
   "metadata": {
    "execution": {
     "iopub.execute_input": "2023-10-01T15:20:55.142207Z",
     "iopub.status.busy": "2023-10-01T15:20:55.141849Z",
     "iopub.status.idle": "2023-10-01T15:20:55.175043Z",
     "shell.execute_reply": "2023-10-01T15:20:55.173926Z"
    },
    "papermill": {
     "duration": 0.041381,
     "end_time": "2023-10-01T15:20:55.177533",
     "exception": false,
     "start_time": "2023-10-01T15:20:55.136152",
     "status": "completed"
    },
    "tags": []
   },
   "outputs": [],
   "source": [
    "if mock_api:\n",
    "    env = make_env()\n",
    "    iter_test = env.iter_test()\n",
    "else:\n",
    "    import optiver2023\n",
    "    env = optiver2023.make_env()\n",
    "    iter_test = env.iter_test()"
   ]
  },
  {
   "cell_type": "code",
   "execution_count": 9,
   "id": "63150f9e",
   "metadata": {
    "execution": {
     "iopub.execute_input": "2023-10-01T15:20:55.187503Z",
     "iopub.status.busy": "2023-10-01T15:20:55.187156Z",
     "iopub.status.idle": "2023-10-01T15:20:55.192312Z",
     "shell.execute_reply": "2023-10-01T15:20:55.191402Z"
    },
    "papermill": {
     "duration": 0.01279,
     "end_time": "2023-10-01T15:20:55.194459",
     "exception": false,
     "start_time": "2023-10-01T15:20:55.181669",
     "status": "completed"
    },
    "tags": []
   },
   "outputs": [],
   "source": [
    "def zero_sum(prices, volumes):\n",
    "    \n",
    "    # credits: https://github.com/gotoConversion/goto_conversion/\n",
    "    \n",
    "    std_error = np.sqrt(volumes)\n",
    "    step = np.sum(prices)/np.sum(std_error)\n",
    "    out = prices-std_error*step\n",
    "    \n",
    "    return out"
   ]
  },
  {
   "cell_type": "code",
   "execution_count": 10,
   "id": "a1cc25e5",
   "metadata": {
    "execution": {
     "iopub.execute_input": "2023-10-01T15:20:55.204012Z",
     "iopub.status.busy": "2023-10-01T15:20:55.203673Z",
     "iopub.status.idle": "2023-10-01T15:20:59.540032Z",
     "shell.execute_reply": "2023-10-01T15:20:59.538736Z"
    },
    "papermill": {
     "duration": 4.344111,
     "end_time": "2023-10-01T15:20:59.542575",
     "exception": false,
     "start_time": "2023-10-01T15:20:55.198464",
     "status": "completed"
    },
    "tags": []
   },
   "outputs": [
    {
     "name": "stdout",
     "output_type": "stream",
     "text": [
      "This version of the API is not optimized and should not be used to estimate the runtime of your code on the hidden test set.\n"
     ]
    }
   ],
   "source": [
    "counter = 0\n",
    "for (test, revealed_targets, sample_prediction) in iter_test:\n",
    "    X_test = featurize(test)\n",
    "    sample_prediction['target'] = make_ensemble_pred(X_test)\n",
    "    \n",
    "    #sample_prediction['target'] = zero_sum(\n",
    "    #    sample_prediction['target'],\n",
    "    #    test.loc[:,'bid_size'] + test.loc[:,'ask_size']\n",
    "    #)\n",
    "    env.predict(sample_prediction)\n",
    "    counter += 1"
   ]
  },
  {
   "cell_type": "code",
   "execution_count": 11,
   "id": "60ded49d",
   "metadata": {
    "execution": {
     "iopub.execute_input": "2023-10-01T15:20:59.552495Z",
     "iopub.status.busy": "2023-10-01T15:20:59.552104Z",
     "iopub.status.idle": "2023-10-01T15:20:59.592938Z",
     "shell.execute_reply": "2023-10-01T15:20:59.591977Z"
    },
    "papermill": {
     "duration": 0.048815,
     "end_time": "2023-10-01T15:20:59.595561",
     "exception": false,
     "start_time": "2023-10-01T15:20:59.546746",
     "status": "completed"
    },
    "tags": []
   },
   "outputs": [
    {
     "data": {
      "text/html": [
       "<div>\n",
       "<style scoped>\n",
       "    .dataframe tbody tr th:only-of-type {\n",
       "        vertical-align: middle;\n",
       "    }\n",
       "\n",
       "    .dataframe tbody tr th {\n",
       "        vertical-align: top;\n",
       "    }\n",
       "\n",
       "    .dataframe thead th {\n",
       "        text-align: right;\n",
       "    }\n",
       "</style>\n",
       "<table border=\"1\" class=\"dataframe\">\n",
       "  <thead>\n",
       "    <tr style=\"text-align: right;\">\n",
       "      <th></th>\n",
       "      <th>row_id</th>\n",
       "      <th>target</th>\n",
       "    </tr>\n",
       "  </thead>\n",
       "  <tbody>\n",
       "    <tr>\n",
       "      <th>0</th>\n",
       "      <td>478_0_0</td>\n",
       "      <td>-0.871197</td>\n",
       "    </tr>\n",
       "    <tr>\n",
       "      <th>1</th>\n",
       "      <td>478_0_1</td>\n",
       "      <td>2.336029</td>\n",
       "    </tr>\n",
       "    <tr>\n",
       "      <th>2</th>\n",
       "      <td>478_0_2</td>\n",
       "      <td>3.434151</td>\n",
       "    </tr>\n",
       "    <tr>\n",
       "      <th>3</th>\n",
       "      <td>478_0_3</td>\n",
       "      <td>-0.874021</td>\n",
       "    </tr>\n",
       "    <tr>\n",
       "      <th>4</th>\n",
       "      <td>478_0_4</td>\n",
       "      <td>-1.395351</td>\n",
       "    </tr>\n",
       "  </tbody>\n",
       "</table>\n",
       "</div>"
      ],
      "text/plain": [
       "    row_id    target\n",
       "0  478_0_0 -0.871197\n",
       "1  478_0_1  2.336029\n",
       "2  478_0_2  3.434151\n",
       "3  478_0_3 -0.874021\n",
       "4  478_0_4 -1.395351"
      ]
     },
     "execution_count": 11,
     "metadata": {},
     "output_type": "execute_result"
    }
   ],
   "source": [
    "submission = pd.read_csv(f\"/kaggle/working/submission{'_mocked' if mock_api else ''}.csv\")\n",
    "submission.head()"
   ]
  },
  {
   "cell_type": "markdown",
   "id": "0fa2ee4a",
   "metadata": {
    "papermill": {
     "duration": 0.004011,
     "end_time": "2023-10-01T15:20:59.603927",
     "exception": false,
     "start_time": "2023-10-01T15:20:59.599916",
     "status": "completed"
    },
    "tags": []
   },
   "source": [
    "### If you found this notebook helpful or insightful, I would sincerely appreciate your support through an upvote."
   ]
  }
 ],
 "metadata": {
  "kernelspec": {
   "display_name": "Python 3",
   "language": "python",
   "name": "python3"
  },
  "language_info": {
   "codemirror_mode": {
    "name": "ipython",
    "version": 3
   },
   "file_extension": ".py",
   "mimetype": "text/x-python",
   "name": "python",
   "nbconvert_exporter": "python",
   "pygments_lexer": "ipython3",
   "version": "3.10.12"
  },
  "papermill": {
   "default_parameters": {},
   "duration": 13.205731,
   "end_time": "2023-10-01T15:21:00.430912",
   "environment_variables": {},
   "exception": null,
   "input_path": "__notebook__.ipynb",
   "output_path": "__notebook__.ipynb",
   "parameters": {},
   "start_time": "2023-10-01T15:20:47.225181",
   "version": "2.4.0"
  }
 },
 "nbformat": 4,
 "nbformat_minor": 5
}
