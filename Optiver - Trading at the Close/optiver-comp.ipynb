{
 "cells": [
  {
   "cell_type": "code",
   "execution_count": 1,
   "id": "4e97ca06",
   "metadata": {
    "execution": {
     "iopub.execute_input": "2023-11-18T20:45:38.249927Z",
     "iopub.status.busy": "2023-11-18T20:45:38.249638Z",
     "iopub.status.idle": "2023-11-18T20:45:47.567265Z",
     "shell.execute_reply": "2023-11-18T20:45:47.566508Z"
    },
    "papermill": {
     "duration": 9.325684,
     "end_time": "2023-11-18T20:45:47.569724",
     "exception": false,
     "start_time": "2023-11-18T20:45:38.244040",
     "status": "completed"
    },
    "tags": []
   },
   "outputs": [
    {
     "name": "stderr",
     "output_type": "stream",
     "text": [
      "/opt/conda/lib/python3.10/site-packages/scipy/__init__.py:146: UserWarning: A NumPy version >=1.16.5 and <1.23.0 is required for this version of SciPy (detected version 1.23.5\n",
      "  warnings.warn(f\"A NumPy version >={np_minversion} and <{np_maxversion}\"\n"
     ]
    }
   ],
   "source": [
    "import gc\n",
    "import os\n",
    "import time\n",
    "import warnings\n",
    "from itertools import combinations\n",
    "from warnings import simplefilter\n",
    "from numba import jit\n",
    "import joblib\n",
    "import lightgbm as lgb\n",
    "import numpy as np\n",
    "import pandas as pd\n",
    "from sklearn.metrics import mean_absolute_error\n",
    "from sklearn.model_selection import KFold, TimeSeriesSplit\n",
    "warnings.filterwarnings(\"ignore\")\n",
    "simplefilter(action=\"ignore\", category=pd.errors.PerformanceWarning)\n",
    "is_offline = False\n",
    "is_train = True\n",
    "is_infer = True\n",
    "max_lookback = np.nan\n",
    "split_day = 435"
   ]
  },
  {
   "cell_type": "code",
   "execution_count": 2,
   "id": "9d92d31e",
   "metadata": {
    "execution": {
     "iopub.execute_input": "2023-11-18T20:45:47.579297Z",
     "iopub.status.busy": "2023-11-18T20:45:47.579007Z",
     "iopub.status.idle": "2023-11-18T20:46:05.878107Z",
     "shell.execute_reply": "2023-11-18T20:46:05.877341Z"
    },
    "papermill": {
     "duration": 18.306344,
     "end_time": "2023-11-18T20:46:05.880511",
     "exception": false,
     "start_time": "2023-11-18T20:45:47.574167",
     "status": "completed"
    },
    "tags": []
   },
   "outputs": [],
   "source": [
    "df = pd.read_csv('/kaggle/input/optiver-trading-at-the-close/train.csv')\n",
    "df = df.dropna(subset=[\"target\"])\n",
    "df.reset_index(drop=True, inplace=True)\n",
    "df_shape = df.shape"
   ]
  },
  {
   "cell_type": "code",
   "execution_count": 3,
   "id": "fb88e6f0",
   "metadata": {
    "execution": {
     "iopub.execute_input": "2023-11-18T20:46:05.890221Z",
     "iopub.status.busy": "2023-11-18T20:46:05.889908Z",
     "iopub.status.idle": "2023-11-18T20:46:05.902210Z",
     "shell.execute_reply": "2023-11-18T20:46:05.901434Z"
    },
    "papermill": {
     "duration": 0.019164,
     "end_time": "2023-11-18T20:46:05.904087",
     "exception": false,
     "start_time": "2023-11-18T20:46:05.884923",
     "status": "completed"
    },
    "tags": []
   },
   "outputs": [],
   "source": [
    "def reduce_mem_usage(df, verbose=0):\n",
    "    start_mem = df.memory_usage().sum() / 1024**2\n",
    "    for col in df.columns:\n",
    "        col_type = df[col].dtype\n",
    "        if col_type != object:\n",
    "            c_min = df[col].min()\n",
    "            c_max = df[col].max()\n",
    "\n",
    "            if str(col_type)[:3] == \"int\":\n",
    "                if c_min > np.iinfo(np.int8).min and c_max < np.iinfo(np.int8).max:\n",
    "                    df[col] = df[col].astype(np.int8)\n",
    "                elif c_min > np.iinfo(np.int16).min and c_max < np.iinfo(np.int16).max:\n",
    "                    df[col] = df[col].astype(np.int16)\n",
    "                elif c_min > np.iinfo(np.int32).min and c_max < np.iinfo(np.int32).max:\n",
    "                    df[col] = df[col].astype(np.int32)\n",
    "                elif c_min > np.iinfo(np.int64).min and c_max < np.iinfo(np.int64).max:\n",
    "                    df[col] = df[col].astype(np.int64)\n",
    "            else:\n",
    "\n",
    "                if c_min > np.finfo(np.float16).min and c_max < np.finfo(np.float16).max:\n",
    "                    df[col] = df[col].astype(np.float32)\n",
    "                elif c_min > np.finfo(np.float32).min and c_max < np.finfo(np.float32).max:\n",
    "                    df[col] = df[col].astype(np.float32)\n",
    "                else:\n",
    "                    df[col] = df[col].astype(np.float32)\n",
    "    if verbose:\n",
    "        logger.info(f\"Memory usage of dataframe is {start_mem:.2f} MB\")\n",
    "        end_mem = df.memory_usage().sum() / 1024**2\n",
    "        logger.info(f\"Memory usage after optimization is: {end_mem:.2f} MB\")\n",
    "        decrease = 100 * (start_mem - end_mem) / start_mem\n",
    "        logger.info(f\"Decreased by {decrease:.2f}%\")\n",
    "    return df"
   ]
  },
  {
   "cell_type": "code",
   "execution_count": 4,
   "id": "8d240666",
   "metadata": {
    "execution": {
     "iopub.execute_input": "2023-11-18T20:46:05.913122Z",
     "iopub.status.busy": "2023-11-18T20:46:05.912884Z",
     "iopub.status.idle": "2023-11-18T20:46:06.088915Z",
     "shell.execute_reply": "2023-11-18T20:46:06.088099Z"
    },
    "papermill": {
     "duration": 0.183199,
     "end_time": "2023-11-18T20:46:06.091177",
     "exception": false,
     "start_time": "2023-11-18T20:46:05.907978",
     "status": "completed"
    },
    "tags": []
   },
   "outputs": [],
   "source": [
    "from numba import njit, prange\n",
    "\n",
    "@njit(parallel=True)\n",
    "def compute_triplet_imbalance(df_values, comb_indices):\n",
    "    num_rows = df_values.shape[0]\n",
    "    num_combinations = len(comb_indices)\n",
    "    imbalance_features = np.empty((num_rows, num_combinations))\n",
    "    for i in prange(num_combinations):\n",
    "        a, b, c = comb_indices[i]\n",
    "        for j in range(num_rows):\n",
    "            max_val = max(df_values[j, a], df_values[j, b], df_values[j, c])\n",
    "            min_val = min(df_values[j, a], df_values[j, b], df_values[j, c])\n",
    "            mid_val = df_values[j, a] + df_values[j, b] + df_values[j, c] - min_val - max_val\n",
    "\n",
    "            if mid_val == min_val:\n",
    "                imbalance_features[j, i] = np.nan\n",
    "            else:\n",
    "                imbalance_features[j, i] = (max_val - mid_val) / (mid_val - min_val)\n",
    "\n",
    "    return imbalance_features\n",
    "\n",
    "def calculate_triplet_imbalance_numba(price, df):\n",
    "    df_values = df[price].values\n",
    "    comb_indices = [(price.index(a), price.index(b), price.index(c)) for a, b, c in combinations(price, 3)]\n",
    "    features_array = compute_triplet_imbalance(df_values, comb_indices)\n",
    "    columns = [f\"{a}_{b}_{c}_imb2\" for a, b, c in combinations(price, 3)]\n",
    "    features = pd.DataFrame(features_array, columns=columns)\n",
    "    return features"
   ]
  },
  {
   "cell_type": "code",
   "execution_count": 5,
   "id": "a70a666a",
   "metadata": {
    "execution": {
     "iopub.execute_input": "2023-11-18T20:46:06.100446Z",
     "iopub.status.busy": "2023-11-18T20:46:06.100104Z",
     "iopub.status.idle": "2023-11-18T20:46:06.125384Z",
     "shell.execute_reply": "2023-11-18T20:46:06.124596Z"
    },
    "papermill": {
     "duration": 0.032236,
     "end_time": "2023-11-18T20:46:06.127302",
     "exception": false,
     "start_time": "2023-11-18T20:46:06.095066",
     "status": "completed"
    },
    "tags": []
   },
   "outputs": [],
   "source": [
    "def imbalance_features(df):\n",
    "    # Define lists of price and size-related column names\n",
    "    prices = [\"reference_price\", \"far_price\", \"near_price\", \"ask_price\", \"bid_price\", \"wap\"]\n",
    "    sizes = [\"matched_size\", \"bid_size\", \"ask_size\", \"imbalance_size\"]\n",
    "    df[\"volume\"] = df.eval(\"ask_size + bid_size\")\n",
    "    df[\"mid_price\"] = df.eval(\"(ask_price + bid_price) / 2\")\n",
    "    df[\"liquidity_imbalance\"] = df.eval(\"(bid_size-ask_size)/(bid_size+ask_size)\")\n",
    "    df[\"matched_imbalance\"] = df.eval(\"(imbalance_size-matched_size)/(matched_size+imbalance_size)\")\n",
    "    df[\"size_imbalance\"] = df.eval(\"bid_size / ask_size\")\n",
    "    # Calculate simple imbalances\n",
    "    df['imb_s1'] = (df['bid_size'] - df['ask_size']) / (df['bid_size'] + df['ask_size'])\n",
    "    df['imb_s2'] = (df['imbalance_size'] - df['matched_size']) / (df['matched_size'] + df['imbalance_size'])\n",
    "\n",
    "    for c in combinations(prices, 2):\n",
    "        df[f\"{c[0]}_{c[1]}_imb\"] = df.eval(f\"({c[0]} - {c[1]})/({c[0]} + {c[1]})\")\n",
    "\n",
    "    for c in [['ask_price', 'bid_price', 'wap', 'reference_price'], sizes]:\n",
    "        triplet_feature = calculate_triplet_imbalance_numba(c, df)\n",
    "        df[triplet_feature.columns] = triplet_feature.values\n",
    "\n",
    "    df[\"imbalance_momentum\"] = df.groupby(['stock_id'])['imbalance_size'].diff(periods=1) / df['matched_size']\n",
    "    df[\"price_spread\"] = df[\"ask_price\"] - df[\"bid_price\"]\n",
    "    df[\"spread_intensity\"] = df.groupby(['stock_id'])['price_spread'].diff()\n",
    "    df['price_pressure'] = df['imbalance_size'] * (df['ask_price'] - df['bid_price'])\n",
    "    df['market_urgency'] = df['price_spread'] * df['liquidity_imbalance']\n",
    "    df['depth_pressure'] = (df['ask_size'] - df['bid_size']) * (df['far_price'] - df['near_price'])\n",
    "\n",
    "    # Calculate various statistical aggregation features\n",
    "    for func in [\"mean\", \"std\", \"skew\", \"kurt\"]:\n",
    "        df[f\"all_prices_{func}\"] = df[prices].agg(func, axis=1)\n",
    "        df[f\"all_sizes_{func}\"] = df[sizes].agg(func, axis=1)\n",
    "\n",
    "\n",
    "    for col in ['matched_size', 'imbalance_size', 'reference_price', 'imbalance_buy_sell_flag']:\n",
    "        for window in [1, 2, 3, 10]:\n",
    "            df[f\"{col}_shift_{window}\"] = df.groupby('stock_id')[col].shift(window)\n",
    "            df[f\"{col}_ret_{window}\"] = df.groupby('stock_id')[col].pct_change(window)\n",
    "\n",
    "    # Calculate diff features for specific columns\n",
    "    for col in ['ask_price', 'bid_price', 'ask_size', 'bid_size', 'market_urgency', 'imbalance_momentum', 'size_imbalance']:\n",
    "        for window in [1, 2, 3, 10]:\n",
    "            df[f\"{col}_diff_{window}\"] = df.groupby(\"stock_id\")[col].diff(window)\n",
    "\n",
    "    return df.replace([np.inf, -np.inf], 0)\n",
    "\n",
    "def other_features(df, window=3):\n",
    "    df[\"dow\"] = df[\"date_id\"] % 5  # Day of the week\n",
    "    df[\"seconds\"] = df[\"seconds_in_bucket\"] % 60\n",
    "    df[\"minute\"] = df[\"seconds_in_bucket\"] // 60\n",
    "    for key, value in global_stock_id_feats.items():\n",
    "        df[f\"global_{key}\"] = df[\"stock_id\"].map(value.to_dict())\n",
    "\n",
    "    features = ['wap', 'bid_price', 'ask_price', 'imbalance_size']\n",
    "    rolling_features = ['mean', 'median', 'std', 'max', 'min']\n",
    "    grouped = df.groupby(['stock_id', 'date_id'])\n",
    "\n",
    "    # Apply rolling functions in a more optimized way\n",
    "    for feature in features:\n",
    "        grouped_feature = grouped[feature]\n",
    "        for rolling_feature in rolling_features:\n",
    "            df[f'{feature}_{rolling_feature}'] = grouped_feature.transform(lambda x: x.rolling(window).agg(rolling_feature))\n",
    "\n",
    "    volatility_windows = [6, 12, 18]  # equivalent to 60, 120, and 180 seconds\n",
    "    df['log_return'] = df.groupby(['stock_id', 'date_id'])['wap'].transform(lambda x: np.log(x).diff())\n",
    "\n",
    "    for vol_window in volatility_windows:\n",
    "        df[f'volatility_{vol_window}'] = df.groupby(['stock_id', 'date_id'])['log_return'].transform(lambda x: x.rolling(vol_window).std() * (60**0.5))\n",
    "\n",
    "    # Calculate ATR and other features here...\n",
    "\n",
    "    # Consolidate calculations for price velocity and acceleration\n",
    "    grouped = df.groupby('stock_id')\n",
    "    time_increment = 10  # The fixed time increment for each 'time_id'\n",
    "    df['price_diff'] = grouped['wap'].diff()\n",
    "    df['time_diff'] = grouped['seconds_in_bucket'].diff() / time_increment\n",
    "    df['price_velocity'] = df['price_diff'] / df['time_diff']\n",
    "    df['price_acceleration'] = df['price_velocity'].diff() / df['time_diff']\n",
    "\n",
    "    # Flatten the multi-level index produced by the `groupby` operation\n",
    "    df.reset_index(level=0, drop=True, inplace=True)\n",
    "\n",
    "    # Simple Moving Average\n",
    "    df['simple_moving_avg'] = df.groupby('stock_id')['wap'].transform(lambda x: x.rolling(window=window).mean())\n",
    "\n",
    "\n",
    "    return df\n",
    "\n",
    "def generate_all_features(df):\n",
    "    # Select relevant columns for feature generation\n",
    "    cols = [c for c in df.columns if c not in [\"row_id\", \"time_id\", \"target\"]]\n",
    "    df = df[cols]\n",
    "\n",
    "    # Generate imbalance features\n",
    "    df = imbalance_features(df)\n",
    "    df = other_features(df)\n",
    "    gc.collect()\n",
    "    feature_name = [i for i in df.columns if i not in [\"row_id\", \"target\", \"time_id\", \"date_id\"]]\n",
    "\n",
    "    return df[feature_name]"
   ]
  },
  {
   "cell_type": "code",
   "execution_count": 6,
   "id": "e1adb3ef",
   "metadata": {
    "execution": {
     "iopub.execute_input": "2023-11-18T20:46:06.136271Z",
     "iopub.status.busy": "2023-11-18T20:46:06.135975Z",
     "iopub.status.idle": "2023-11-18T20:46:06.148205Z",
     "shell.execute_reply": "2023-11-18T20:46:06.147428Z"
    },
    "papermill": {
     "duration": 0.018855,
     "end_time": "2023-11-18T20:46:06.150243",
     "exception": false,
     "start_time": "2023-11-18T20:46:06.131388",
     "status": "completed"
    },
    "tags": []
   },
   "outputs": [],
   "source": [
    "weights = [\n",
    "    0.004, 0.001, 0.002, 0.006, 0.004, 0.004, 0.002, 0.006, 0.006, 0.002, 0.002, 0.008,\n",
    "    0.006, 0.002, 0.008, 0.006, 0.002, 0.006, 0.004, 0.002, 0.004, 0.001, 0.006, 0.004,\n",
    "    0.002, 0.002, 0.004, 0.002, 0.004, 0.004, 0.001, 0.001, 0.002, 0.002, 0.006, 0.004,\n",
    "    0.004, 0.004, 0.006, 0.002, 0.002, 0.04 , 0.002, 0.002, 0.004, 0.04 , 0.002, 0.001,\n",
    "    0.006, 0.004, 0.004, 0.006, 0.001, 0.004, 0.004, 0.002, 0.006, 0.004, 0.006, 0.004,\n",
    "    0.006, 0.004, 0.002, 0.001, 0.002, 0.004, 0.002, 0.008, 0.004, 0.004, 0.002, 0.004,\n",
    "    0.006, 0.002, 0.004, 0.004, 0.002, 0.004, 0.004, 0.004, 0.001, 0.002, 0.002, 0.008,\n",
    "    0.02 , 0.004, 0.006, 0.002, 0.02 , 0.002, 0.002, 0.006, 0.004, 0.002, 0.001, 0.02,\n",
    "    0.006, 0.001, 0.002, 0.004, 0.001, 0.002, 0.006, 0.006, 0.004, 0.006, 0.001, 0.002,\n",
    "    0.004, 0.006, 0.006, 0.001, 0.04 , 0.006, 0.002, 0.004, 0.002, 0.002, 0.006, 0.002,\n",
    "    0.002, 0.004, 0.006, 0.006, 0.002, 0.002, 0.008, 0.006, 0.004, 0.002, 0.006, 0.002,\n",
    "    0.004, 0.006, 0.002, 0.004, 0.001, 0.004, 0.002, 0.004, 0.008, 0.006, 0.008, 0.002,\n",
    "    0.004, 0.002, 0.001, 0.004, 0.004, 0.004, 0.006, 0.008, 0.004, 0.001, 0.001, 0.002,\n",
    "    0.006, 0.004, 0.001, 0.002, 0.006, 0.004, 0.006, 0.008, 0.002, 0.002, 0.004, 0.002,\n",
    "    0.04 , 0.002, 0.002, 0.004, 0.002, 0.002, 0.006, 0.02 , 0.004, 0.002, 0.006, 0.02,\n",
    "    0.001, 0.002, 0.006, 0.004, 0.006, 0.004, 0.004, 0.004, 0.004, 0.002, 0.004, 0.04,\n",
    "    0.002, 0.008, 0.002, 0.004, 0.001, 0.004, 0.006, 0.004,\n",
    "]\n",
    "weights = {int(k):v for k,v in enumerate(weights)}"
   ]
  },
  {
   "cell_type": "code",
   "execution_count": 7,
   "id": "06c1fa65",
   "metadata": {
    "execution": {
     "iopub.execute_input": "2023-11-18T20:46:06.158847Z",
     "iopub.status.busy": "2023-11-18T20:46:06.158574Z",
     "iopub.status.idle": "2023-11-18T20:46:06.163813Z",
     "shell.execute_reply": "2023-11-18T20:46:06.162993Z"
    },
    "papermill": {
     "duration": 0.011821,
     "end_time": "2023-11-18T20:46:06.165984",
     "exception": false,
     "start_time": "2023-11-18T20:46:06.154163",
     "status": "completed"
    },
    "tags": []
   },
   "outputs": [
    {
     "name": "stdout",
     "output_type": "stream",
     "text": [
      "Online mode\n"
     ]
    }
   ],
   "source": [
    "if is_offline:\n",
    "    df_train = df[df[\"date_id\"] <= split_day]\n",
    "    df_valid = df[df[\"date_id\"] > split_day]\n",
    "    print(\"Offline mode\")\n",
    "    print(f\"train : {df_train.shape}, valid : {df_valid.shape}\")\n",
    "else:\n",
    "    df_train = df\n",
    "    print(\"Online mode\")"
   ]
  },
  {
   "cell_type": "code",
   "execution_count": 8,
   "id": "2a1c00d9",
   "metadata": {
    "execution": {
     "iopub.execute_input": "2023-11-18T20:46:06.175116Z",
     "iopub.status.busy": "2023-11-18T20:46:06.174861Z",
     "iopub.status.idle": "2023-11-18T20:46:07.661539Z",
     "shell.execute_reply": "2023-11-18T20:46:07.660668Z"
    },
    "papermill": {
     "duration": 1.494,
     "end_time": "2023-11-18T20:46:07.664119",
     "exception": false,
     "start_time": "2023-11-18T20:46:06.170119",
     "status": "completed"
    },
    "tags": []
   },
   "outputs": [],
   "source": [
    "if is_train:\n",
    "    global_stock_id_feats = {\n",
    "        \"median_size\": df_train.groupby(\"stock_id\")[\"bid_size\"].median() + df_train.groupby(\"stock_id\")[\"ask_size\"].median(),\n",
    "        \"std_size\": df_train.groupby(\"stock_id\")[\"bid_size\"].std() + df_train.groupby(\"stock_id\")[\"ask_size\"].std(),\n",
    "        \"ptp_size\": df_train.groupby(\"stock_id\")[\"bid_size\"].max() - df_train.groupby(\"stock_id\")[\"bid_size\"].min(),\n",
    "        \"median_price\": df_train.groupby(\"stock_id\")[\"bid_price\"].median() + df_train.groupby(\"stock_id\")[\"ask_price\"].median(),\n",
    "        \"std_price\": df_train.groupby(\"stock_id\")[\"bid_price\"].std() + df_train.groupby(\"stock_id\")[\"ask_price\"].std(),\n",
    "        \"ptp_price\": df_train.groupby(\"stock_id\")[\"bid_price\"].max() - df_train.groupby(\"stock_id\")[\"ask_price\"].min(),\n",
    "    }"
   ]
  },
  {
   "cell_type": "code",
   "execution_count": 9,
   "id": "c348621b",
   "metadata": {
    "execution": {
     "iopub.execute_input": "2023-11-18T20:46:07.674617Z",
     "iopub.status.busy": "2023-11-18T20:46:07.674317Z",
     "iopub.status.idle": "2023-11-18T20:46:07.681161Z",
     "shell.execute_reply": "2023-11-18T20:46:07.680118Z"
    },
    "papermill": {
     "duration": 0.014809,
     "end_time": "2023-11-18T20:46:07.683750",
     "exception": false,
     "start_time": "2023-11-18T20:46:07.668941",
     "status": "completed"
    },
    "tags": []
   },
   "outputs": [],
   "source": [
    "def sanitize_feature_names(df):\n",
    "    # Replace or remove any characters that may cause issues with LightGBM\n",
    "    sanitized_feature_names = []\n",
    "    for feature in df.columns:\n",
    "        feature = feature.replace('{', '').replace('}', '')\n",
    "        feature = feature.replace(':', '').replace(',', '_')\n",
    "        feature = feature.replace('[', '').replace(']', '')\n",
    "        feature = feature.replace('(', '').replace(')', '')\n",
    "        feature = feature.replace('<', '').replace('>', '')\n",
    "        feature = feature.replace('/', '_').replace(' ', '_')\n",
    "        sanitized_feature_names.append(feature)\n",
    "    df.columns = sanitized_feature_names\n",
    "    return df"
   ]
  },
  {
   "cell_type": "code",
   "execution_count": 10,
   "id": "14606909",
   "metadata": {
    "execution": {
     "iopub.execute_input": "2023-11-18T20:46:07.694010Z",
     "iopub.status.busy": "2023-11-18T20:46:07.693727Z",
     "iopub.status.idle": "2023-11-18T20:57:47.167838Z",
     "shell.execute_reply": "2023-11-18T20:57:47.166906Z"
    },
    "papermill": {
     "duration": 699.486757,
     "end_time": "2023-11-18T20:57:47.175219",
     "exception": false,
     "start_time": "2023-11-18T20:46:07.688462",
     "status": "completed"
    },
    "tags": []
   },
   "outputs": [
    {
     "name": "stdout",
     "output_type": "stream",
     "text": [
      "This version of the API is not optimized and should not be used to estimate the runtime of your code on the hidden test set.\n",
      "10 qps: 5.107952547073364\n",
      "20 qps: 5.0034665822982785\n",
      "30 qps: 4.945543424288432\n",
      "40 qps: 4.912433785200119\n",
      "50 qps: 4.8887491083145145\n",
      "60 qps: 4.907207457224528\n",
      "70 qps: 4.891076728275844\n",
      "80 qps: 4.880523282289505\n",
      "90 qps: 4.872657773229811\n",
      "100 qps: 4.8704209446907045\n",
      "110 qps: 4.8700899796052415\n",
      "120 qps: 4.710915092627207\n",
      "130 qps: 4.561638656029334\n",
      "140 qps: 4.431859493255615\n",
      "150 qps: 4.319261118570964\n",
      "160 qps: 4.219495996832848\n",
      "The code will take approximately 4.7838 hours to reason about\n"
     ]
    }
   ],
   "source": [
    "def zero_sum(prices, volumes):\n",
    "    std_error = np.sqrt(volumes)\n",
    "    step = np.sum(prices) / np.sum(std_error)\n",
    "    out = prices - std_error * step\n",
    "    return out\n",
    "\n",
    "if is_infer:\n",
    "    import optiver2023\n",
    "    env = optiver2023.make_env()\n",
    "    iter_test = env.iter_test()\n",
    "    counter = 0\n",
    "    y_min, y_max = -64, 64\n",
    "    qps, predictions = [], []\n",
    "    \n",
    "    models_dir = '/kaggle/input/models/'\n",
    "    # List all LightGBM model files in the directory\n",
    "    model_files = [f for f in os.listdir(models_dir) if f.endswith('.txt')]\n",
    "    # Load each model\n",
    "    models = []\n",
    "    for file_name in model_files:\n",
    "        file_path = os.path.join(models_dir, file_name)\n",
    "        model = lgb.Booster(model_file=file_path)\n",
    "        models.append(model)\n",
    "    \n",
    "    # Initial buffer from the training data\n",
    "    cache = df_train.iloc[-10000:].drop(columns=['target', 'time_id', 'row_id'])\n",
    "\n",
    "    # Weights for each fold model\n",
    "    model_weights = [1/len(models)] * len(models) \n",
    "    \n",
    "    for (test, revealed_targets, sample_prediction) in iter_test:\n",
    "        test = test.drop(columns=['currently_scored'])\n",
    "        now_time = time.time()\n",
    "        cache = pd.concat([cache, test], ignore_index=True, axis=0)\n",
    "        if counter > 0:\n",
    "            cache = cache.groupby(['stock_id']).tail(21).sort_values(by=['date_id', 'seconds_in_bucket', 'stock_id']).reset_index(drop=True)\n",
    "        feat = generate_all_features(cache)[-len(test):]\n",
    "        feat = sanitize_feature_names(feat)\n",
    "\n",
    "        # Generate predictions for each model and calculate the weighted average\n",
    "        lgb_predictions = np.zeros(len(test))\n",
    "        for model, weight in zip(models, model_weights):\n",
    "            lgb_predictions += weight * model.predict(feat)\n",
    "\n",
    "        lgb_predictions = zero_sum(lgb_predictions, test['bid_size'] + test['ask_size'])\n",
    "        clipped_predictions = np.clip(lgb_predictions, y_min, y_max)\n",
    "        sample_prediction['target'] = clipped_predictions\n",
    "        env.predict(sample_prediction)\n",
    "        counter += 1\n",
    "        qps.append(time.time() - now_time)\n",
    "        if counter % 10 == 0:\n",
    "            print(counter, 'qps:', np.mean(qps))\n",
    "            \n",
    "        cache = cache.iloc[-10000:].reset_index(drop=True)\n",
    "\n",
    "    time_cost = 1.146 * np.mean(qps)\n",
    "    print(f\"The code will take approximately {np.round(time_cost, 4)} hours to reason about\")"
   ]
  }
 ],
 "metadata": {
  "kaggle": {
   "accelerator": "nvidiaTeslaT4",
   "dataSources": [
    {
     "databundleVersionId": 7056235,
     "sourceId": 57891,
     "sourceType": "competition"
    },
    {
     "datasetId": 4022559,
     "sourceId": 6997629,
     "sourceType": "datasetVersion"
    }
   ],
   "dockerImageVersionId": 30558,
   "isGpuEnabled": true,
   "isInternetEnabled": false,
   "language": "python",
   "sourceType": "notebook"
  },
  "kernelspec": {
   "display_name": "Python 3",
   "language": "python",
   "name": "python3"
  },
  "language_info": {
   "codemirror_mode": {
    "name": "ipython",
    "version": 3
   },
   "file_extension": ".py",
   "mimetype": "text/x-python",
   "name": "python",
   "nbconvert_exporter": "python",
   "pygments_lexer": "ipython3",
   "version": "3.10.12"
  },
  "papermill": {
   "default_parameters": {},
   "duration": 736.795967,
   "end_time": "2023-11-18T20:57:50.253773",
   "environment_variables": {},
   "exception": null,
   "input_path": "__notebook__.ipynb",
   "output_path": "__notebook__.ipynb",
   "parameters": {},
   "start_time": "2023-11-18T20:45:33.457806",
   "version": "2.4.0"
  }
 },
 "nbformat": 4,
 "nbformat_minor": 5
}
