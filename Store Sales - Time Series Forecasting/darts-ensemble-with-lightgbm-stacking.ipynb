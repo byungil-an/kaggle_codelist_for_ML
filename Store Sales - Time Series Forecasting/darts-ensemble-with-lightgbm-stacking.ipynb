{
 "cells": [
  {
   "cell_type": "markdown",
   "id": "717dd381",
   "metadata": {
    "papermill": {
     "duration": 0.022983,
     "end_time": "2023-05-22T09:05:35.843310",
     "exception": false,
     "start_time": "2023-05-22T09:05:35.820327",
     "status": "completed"
    },
    "tags": []
   },
   "source": [
    "# Intro\n",
    "Hi kagglers, I was inspired to write this article by the outstanding works of <a href='https://www.kaggle.com/code/kelde9/darts-ensemble-stores-sales-forecasting'>Tom Keldenich</a> and <a href=\"https://www.kaggle.com/code/ferdinandberr/darts-forecasting-deep-learning-global-models\">Ferdinand Berr</a>. Thanks to them, I picked up interesting ideas, their development gave a good score: 0.3804.\n",
    "\n",
    "The key difference lies in the technique of combining model predictions. While he employed blending in work, I opted for a different approach - stacking. Also, I used another type of encoding and hyperparameters for the models.\n",
    "\n",
    "First of all, I will focus on a detailed description of the used approach. If you need more information about EDA and data preparation, I suggest reading the works of others authors.\n",
    "\n",
    "They comprehensively described these steps, so there is no need to dwell on them again.\n",
    "\n",
    "But first things first.Before using  Darts with stacking, I tried other techniques and I'm happy to share the results. Perhaps this will help save time by avoiding going in the wrong direction.\n",
    "\n",
    "<b>Here some score of them</b>:\n",
    "- Prophet 1782 timeseries with exogenus seasonality by years and covariates: 0.59676\n",
    "- SARIMAX 1782 timeseries with exogenus seasonality by years: 0.46409\n",
    "- as a previous plus target variable log1p transformation : 0.49116\n",
    "- hybrid models: SARIMAX prediction for main data and LightGBM training on residuals:  0.48831\n",
    "- CatBoost 54 timeseries grouped by families: 0.53593\n",
    "- LightGBM 54 timeseries grouped by families: 0.47366\n",
    "- as a previous plus target variable log1p transformation : 0.42178\n",
    "\n",
    "Darts:\n",
    "- LightGBM + One hot + Blending 4 lags: 0.38127\n",
    "- LightGBM + Ordinal: 0.3839\n",
    "- LightGBM + Ordinal + without Scaler: 0.38697\n",
    "- LightGBM + Ordinal+ Blending 4 lags: 0.38107\n",
    "- LightGBM + Ordinal + Blending 6 lags: 0.38055\n",
    "- LightGBM + Ordinal + Blending 6 lags + Robust Scaler: 0.39995"
   ]
  },
  {
   "cell_type": "markdown",
   "id": "bc3c1804",
   "metadata": {
    "papermill": {
     "duration": 0.020685,
     "end_time": "2023-05-22T09:05:35.887129",
     "exception": false,
     "start_time": "2023-05-22T09:05:35.866444",
     "status": "completed"
    },
    "tags": []
   },
   "source": [
    "## Setup"
   ]
  },
  {
   "cell_type": "code",
   "execution_count": 1,
   "id": "0546759f",
   "metadata": {
    "_cell_guid": "b1076dfc-b9ad-4769-8c92-a6c4dae69d19",
    "_uuid": "8f2839f25d086af736a60e9eeb907d3b93b6e0e5",
    "execution": {
     "iopub.execute_input": "2023-05-22T09:05:35.933273Z",
     "iopub.status.busy": "2023-05-22T09:05:35.932108Z",
     "iopub.status.idle": "2023-05-22T09:05:35.945813Z",
     "shell.execute_reply": "2023-05-22T09:05:35.944928Z"
    },
    "papermill": {
     "duration": 0.039748,
     "end_time": "2023-05-22T09:05:35.948007",
     "exception": false,
     "start_time": "2023-05-22T09:05:35.908259",
     "status": "completed"
    },
    "tags": []
   },
   "outputs": [
    {
     "name": "stdout",
     "output_type": "stream",
     "text": [
      "/kaggle/input/store-sales-time-series-forecasting/oil.csv\n",
      "/kaggle/input/store-sales-time-series-forecasting/sample_submission.csv\n",
      "/kaggle/input/store-sales-time-series-forecasting/holidays_events.csv\n",
      "/kaggle/input/store-sales-time-series-forecasting/stores.csv\n",
      "/kaggle/input/store-sales-time-series-forecasting/train.csv\n",
      "/kaggle/input/store-sales-time-series-forecasting/test.csv\n",
      "/kaggle/input/store-sales-time-series-forecasting/transactions.csv\n"
     ]
    }
   ],
   "source": [
    "import os\n",
    "for dirname, _, filenames in os.walk('/kaggle/input'):\n",
    "    for filename in filenames:\n",
    "        print(os.path.join(dirname, filename))"
   ]
  },
  {
   "cell_type": "code",
   "execution_count": 2,
   "id": "6d791309",
   "metadata": {
    "execution": {
     "iopub.execute_input": "2023-05-22T09:05:35.994682Z",
     "iopub.status.busy": "2023-05-22T09:05:35.993716Z",
     "iopub.status.idle": "2023-05-22T09:06:20.612824Z",
     "shell.execute_reply": "2023-05-22T09:06:20.611114Z"
    },
    "papermill": {
     "duration": 44.645848,
     "end_time": "2023-05-22T09:06:20.616176",
     "exception": false,
     "start_time": "2023-05-22T09:05:35.970328",
     "status": "completed"
    },
    "tags": []
   },
   "outputs": [],
   "source": [
    "!pip install darts &> /dev/null"
   ]
  },
  {
   "cell_type": "code",
   "execution_count": 3,
   "id": "b62432e3",
   "metadata": {
    "execution": {
     "iopub.execute_input": "2023-05-22T09:06:20.664424Z",
     "iopub.status.busy": "2023-05-22T09:06:20.663961Z",
     "iopub.status.idle": "2023-05-22T09:06:22.086299Z",
     "shell.execute_reply": "2023-05-22T09:06:22.084770Z"
    },
    "papermill": {
     "duration": 1.450238,
     "end_time": "2023-05-22T09:06:22.089111",
     "exception": false,
     "start_time": "2023-05-22T09:06:20.638873",
     "status": "completed"
    },
    "tags": []
   },
   "outputs": [
    {
     "name": "stderr",
     "output_type": "stream",
     "text": [
      "/opt/conda/lib/python3.10/site-packages/scipy/__init__.py:146: UserWarning: A NumPy version >=1.16.5 and <1.23.0 is required for this version of SciPy (detected version 1.23.5\n",
      "  warnings.warn(f\"A NumPy version >={np_minversion} and <{np_maxversion}\"\n"
     ]
    },
    {
     "name": "stdout",
     "output_type": "stream",
     "text": [
      "0.24.0\n"
     ]
    }
   ],
   "source": [
    "import darts\n",
    "print(darts.__version__)"
   ]
  },
  {
   "cell_type": "code",
   "execution_count": 4,
   "id": "ee7ea6e0",
   "metadata": {
    "execution": {
     "iopub.execute_input": "2023-05-22T09:06:22.133428Z",
     "iopub.status.busy": "2023-05-22T09:06:22.133032Z",
     "iopub.status.idle": "2023-05-22T09:06:22.137477Z",
     "shell.execute_reply": "2023-05-22T09:06:22.136530Z"
    },
    "papermill": {
     "duration": 0.029337,
     "end_time": "2023-05-22T09:06:22.139711",
     "exception": false,
     "start_time": "2023-05-22T09:06:22.110374",
     "status": "completed"
    },
    "tags": []
   },
   "outputs": [],
   "source": [
    "import warnings\n",
    "warnings.filterwarnings('ignore')"
   ]
  },
  {
   "cell_type": "markdown",
   "id": "f2af50c3",
   "metadata": {
    "papermill": {
     "duration": 0.020644,
     "end_time": "2023-05-22T09:06:22.181607",
     "exception": false,
     "start_time": "2023-05-22T09:06:22.160963",
     "status": "completed"
    },
    "tags": []
   },
   "source": [
    "# Import Data\n",
    "Our objective is to forecast 16 days sales of 54 stores in Ecuador based on data from the period of January 01, 2013, to August 15, 2017."
   ]
  },
  {
   "cell_type": "markdown",
   "id": "7b2a35c4",
   "metadata": {
    "papermill": {
     "duration": 0.022458,
     "end_time": "2023-05-22T09:06:22.225557",
     "exception": false,
     "start_time": "2023-05-22T09:06:22.203099",
     "status": "completed"
    },
    "tags": []
   },
   "source": [
    "### train"
   ]
  },
  {
   "cell_type": "code",
   "execution_count": 5,
   "id": "183ed5eb",
   "metadata": {
    "execution": {
     "iopub.execute_input": "2023-05-22T09:06:22.272125Z",
     "iopub.status.busy": "2023-05-22T09:06:22.271038Z",
     "iopub.status.idle": "2023-05-22T09:06:22.276625Z",
     "shell.execute_reply": "2023-05-22T09:06:22.275483Z"
    },
    "papermill": {
     "duration": 0.032163,
     "end_time": "2023-05-22T09:06:22.279349",
     "exception": false,
     "start_time": "2023-05-22T09:06:22.247186",
     "status": "completed"
    },
    "tags": []
   },
   "outputs": [],
   "source": [
    "import pandas as pd\n",
    "import numpy as np"
   ]
  },
  {
   "cell_type": "code",
   "execution_count": 6,
   "id": "292228a6",
   "metadata": {
    "execution": {
     "iopub.execute_input": "2023-05-22T09:06:22.325181Z",
     "iopub.status.busy": "2023-05-22T09:06:22.324172Z",
     "iopub.status.idle": "2023-05-22T09:06:25.384826Z",
     "shell.execute_reply": "2023-05-22T09:06:25.383482Z"
    },
    "papermill": {
     "duration": 3.086554,
     "end_time": "2023-05-22T09:06:25.387824",
     "exception": false,
     "start_time": "2023-05-22T09:06:22.301270",
     "status": "completed"
    },
    "tags": []
   },
   "outputs": [
    {
     "data": {
      "text/html": [
       "<div>\n",
       "<style scoped>\n",
       "    .dataframe tbody tr th:only-of-type {\n",
       "        vertical-align: middle;\n",
       "    }\n",
       "\n",
       "    .dataframe tbody tr th {\n",
       "        vertical-align: top;\n",
       "    }\n",
       "\n",
       "    .dataframe thead th {\n",
       "        text-align: right;\n",
       "    }\n",
       "</style>\n",
       "<table border=\"1\" class=\"dataframe\">\n",
       "  <thead>\n",
       "    <tr style=\"text-align: right;\">\n",
       "      <th></th>\n",
       "      <th>id</th>\n",
       "      <th>date</th>\n",
       "      <th>store_nbr</th>\n",
       "      <th>family</th>\n",
       "      <th>sales</th>\n",
       "      <th>onpromotion</th>\n",
       "    </tr>\n",
       "  </thead>\n",
       "  <tbody>\n",
       "    <tr>\n",
       "      <th>0</th>\n",
       "      <td>0</td>\n",
       "      <td>2013-01-01</td>\n",
       "      <td>1</td>\n",
       "      <td>AUTOMOTIVE</td>\n",
       "      <td>0.0</td>\n",
       "      <td>0</td>\n",
       "    </tr>\n",
       "    <tr>\n",
       "      <th>1</th>\n",
       "      <td>1</td>\n",
       "      <td>2013-01-01</td>\n",
       "      <td>1</td>\n",
       "      <td>BABY CARE</td>\n",
       "      <td>0.0</td>\n",
       "      <td>0</td>\n",
       "    </tr>\n",
       "    <tr>\n",
       "      <th>2</th>\n",
       "      <td>2</td>\n",
       "      <td>2013-01-01</td>\n",
       "      <td>1</td>\n",
       "      <td>BEAUTY</td>\n",
       "      <td>0.0</td>\n",
       "      <td>0</td>\n",
       "    </tr>\n",
       "    <tr>\n",
       "      <th>3</th>\n",
       "      <td>3</td>\n",
       "      <td>2013-01-01</td>\n",
       "      <td>1</td>\n",
       "      <td>BEVERAGES</td>\n",
       "      <td>0.0</td>\n",
       "      <td>0</td>\n",
       "    </tr>\n",
       "    <tr>\n",
       "      <th>4</th>\n",
       "      <td>4</td>\n",
       "      <td>2013-01-01</td>\n",
       "      <td>1</td>\n",
       "      <td>BOOKS</td>\n",
       "      <td>0.0</td>\n",
       "      <td>0</td>\n",
       "    </tr>\n",
       "  </tbody>\n",
       "</table>\n",
       "</div>"
      ],
      "text/plain": [
       "   id        date  store_nbr      family  sales  onpromotion\n",
       "0   0  2013-01-01          1  AUTOMOTIVE    0.0            0\n",
       "1   1  2013-01-01          1   BABY CARE    0.0            0\n",
       "2   2  2013-01-01          1      BEAUTY    0.0            0\n",
       "3   3  2013-01-01          1   BEVERAGES    0.0            0\n",
       "4   4  2013-01-01          1       BOOKS    0.0            0"
      ]
     },
     "metadata": {},
     "output_type": "display_data"
    }
   ],
   "source": [
    "df_train = pd.read_csv('/kaggle/input/store-sales-time-series-forecasting/train.csv')\n",
    "display(df_train.head())"
   ]
  },
  {
   "cell_type": "markdown",
   "id": "81e88d87",
   "metadata": {
    "papermill": {
     "duration": 0.025611,
     "end_time": "2023-05-22T09:06:25.445442",
     "exception": false,
     "start_time": "2023-05-22T09:06:25.419831",
     "status": "completed"
    },
    "tags": []
   },
   "source": [
    "Please note that we do not have sales data for December 25 of each year. We will need to fill in the missing data:"
   ]
  },
  {
   "cell_type": "code",
   "execution_count": 7,
   "id": "49622bfa",
   "metadata": {
    "execution": {
     "iopub.execute_input": "2023-05-22T09:06:25.493609Z",
     "iopub.status.busy": "2023-05-22T09:06:25.493180Z",
     "iopub.status.idle": "2023-05-22T09:06:26.737084Z",
     "shell.execute_reply": "2023-05-22T09:06:26.735844Z"
    },
    "papermill": {
     "duration": 1.269937,
     "end_time": "2023-05-22T09:06:26.739618",
     "exception": false,
     "start_time": "2023-05-22T09:06:25.469681",
     "status": "completed"
    },
    "tags": []
   },
   "outputs": [
    {
     "data": {
      "text/html": [
       "<div>\n",
       "<style scoped>\n",
       "    .dataframe tbody tr th:only-of-type {\n",
       "        vertical-align: middle;\n",
       "    }\n",
       "\n",
       "    .dataframe tbody tr th {\n",
       "        vertical-align: top;\n",
       "    }\n",
       "\n",
       "    .dataframe thead th {\n",
       "        text-align: right;\n",
       "    }\n",
       "</style>\n",
       "<table border=\"1\" class=\"dataframe\">\n",
       "  <thead>\n",
       "    <tr style=\"text-align: right;\">\n",
       "      <th></th>\n",
       "      <th>id</th>\n",
       "      <th>date</th>\n",
       "      <th>store_nbr</th>\n",
       "      <th>family</th>\n",
       "      <th>sales</th>\n",
       "      <th>onpromotion</th>\n",
       "    </tr>\n",
       "  </thead>\n",
       "  <tbody>\n",
       "  </tbody>\n",
       "</table>\n",
       "</div>"
      ],
      "text/plain": [
       "Empty DataFrame\n",
       "Columns: [id, date, store_nbr, family, sales, onpromotion]\n",
       "Index: []"
      ]
     },
     "execution_count": 7,
     "metadata": {},
     "output_type": "execute_result"
    }
   ],
   "source": [
    "df_train.iloc[np.where(df_train['date'].str.contains('12-25'))]"
   ]
  },
  {
   "cell_type": "markdown",
   "id": "ccee489e",
   "metadata": {
    "papermill": {
     "duration": 0.021157,
     "end_time": "2023-05-22T09:06:26.783372",
     "exception": false,
     "start_time": "2023-05-22T09:06:26.762215",
     "status": "completed"
    },
    "tags": []
   },
   "source": [
    "###  holidays_events"
   ]
  },
  {
   "cell_type": "code",
   "execution_count": 8,
   "id": "7e587428",
   "metadata": {
    "execution": {
     "iopub.execute_input": "2023-05-22T09:06:26.829695Z",
     "iopub.status.busy": "2023-05-22T09:06:26.829288Z",
     "iopub.status.idle": "2023-05-22T09:06:26.850807Z",
     "shell.execute_reply": "2023-05-22T09:06:26.849848Z"
    },
    "papermill": {
     "duration": 0.047421,
     "end_time": "2023-05-22T09:06:26.853313",
     "exception": false,
     "start_time": "2023-05-22T09:06:26.805892",
     "status": "completed"
    },
    "tags": []
   },
   "outputs": [
    {
     "data": {
      "text/html": [
       "<div>\n",
       "<style scoped>\n",
       "    .dataframe tbody tr th:only-of-type {\n",
       "        vertical-align: middle;\n",
       "    }\n",
       "\n",
       "    .dataframe tbody tr th {\n",
       "        vertical-align: top;\n",
       "    }\n",
       "\n",
       "    .dataframe thead th {\n",
       "        text-align: right;\n",
       "    }\n",
       "</style>\n",
       "<table border=\"1\" class=\"dataframe\">\n",
       "  <thead>\n",
       "    <tr style=\"text-align: right;\">\n",
       "      <th></th>\n",
       "      <th>date</th>\n",
       "      <th>type</th>\n",
       "      <th>locale</th>\n",
       "      <th>locale_name</th>\n",
       "      <th>description</th>\n",
       "      <th>transferred</th>\n",
       "    </tr>\n",
       "  </thead>\n",
       "  <tbody>\n",
       "    <tr>\n",
       "      <th>0</th>\n",
       "      <td>2012-03-02</td>\n",
       "      <td>Holiday</td>\n",
       "      <td>Local</td>\n",
       "      <td>Manta</td>\n",
       "      <td>Fundacion de Manta</td>\n",
       "      <td>False</td>\n",
       "    </tr>\n",
       "    <tr>\n",
       "      <th>1</th>\n",
       "      <td>2012-04-01</td>\n",
       "      <td>Holiday</td>\n",
       "      <td>Regional</td>\n",
       "      <td>Cotopaxi</td>\n",
       "      <td>Provincializacion de Cotopaxi</td>\n",
       "      <td>False</td>\n",
       "    </tr>\n",
       "    <tr>\n",
       "      <th>2</th>\n",
       "      <td>2012-04-12</td>\n",
       "      <td>Holiday</td>\n",
       "      <td>Local</td>\n",
       "      <td>Cuenca</td>\n",
       "      <td>Fundacion de Cuenca</td>\n",
       "      <td>False</td>\n",
       "    </tr>\n",
       "    <tr>\n",
       "      <th>3</th>\n",
       "      <td>2012-04-14</td>\n",
       "      <td>Holiday</td>\n",
       "      <td>Local</td>\n",
       "      <td>Libertad</td>\n",
       "      <td>Cantonizacion de Libertad</td>\n",
       "      <td>False</td>\n",
       "    </tr>\n",
       "    <tr>\n",
       "      <th>4</th>\n",
       "      <td>2012-04-21</td>\n",
       "      <td>Holiday</td>\n",
       "      <td>Local</td>\n",
       "      <td>Riobamba</td>\n",
       "      <td>Cantonizacion de Riobamba</td>\n",
       "      <td>False</td>\n",
       "    </tr>\n",
       "  </tbody>\n",
       "</table>\n",
       "</div>"
      ],
      "text/plain": [
       "         date     type    locale locale_name                    description  \\\n",
       "0  2012-03-02  Holiday     Local       Manta             Fundacion de Manta   \n",
       "1  2012-04-01  Holiday  Regional    Cotopaxi  Provincializacion de Cotopaxi   \n",
       "2  2012-04-12  Holiday     Local      Cuenca            Fundacion de Cuenca   \n",
       "3  2012-04-14  Holiday     Local    Libertad      Cantonizacion de Libertad   \n",
       "4  2012-04-21  Holiday     Local    Riobamba      Cantonizacion de Riobamba   \n",
       "\n",
       "   transferred  \n",
       "0        False  \n",
       "1        False  \n",
       "2        False  \n",
       "3        False  \n",
       "4        False  "
      ]
     },
     "metadata": {},
     "output_type": "display_data"
    }
   ],
   "source": [
    "df_holidays_events = pd.read_csv('/kaggle/input/store-sales-time-series-forecasting/holidays_events.csv')\n",
    "display(df_holidays_events.head())"
   ]
  },
  {
   "cell_type": "code",
   "execution_count": 9,
   "id": "47257295",
   "metadata": {
    "execution": {
     "iopub.execute_input": "2023-05-22T09:06:26.900724Z",
     "iopub.status.busy": "2023-05-22T09:06:26.899871Z",
     "iopub.status.idle": "2023-05-22T09:06:26.917897Z",
     "shell.execute_reply": "2023-05-22T09:06:26.916639Z"
    },
    "papermill": {
     "duration": 0.044351,
     "end_time": "2023-05-22T09:06:26.920405",
     "exception": false,
     "start_time": "2023-05-22T09:06:26.876054",
     "status": "completed"
    },
    "tags": []
   },
   "outputs": [
    {
     "data": {
      "text/plain": [
       "type        locale  \n",
       "Additional  Local        11\n",
       "            National     40\n",
       "Bridge      National      5\n",
       "Event       National     56\n",
       "Holiday     Local       137\n",
       "            National     60\n",
       "            Regional     24\n",
       "Transfer    Local         4\n",
       "            National      8\n",
       "Work Day    National      5\n",
       "Name: locale_name, dtype: int64"
      ]
     },
     "execution_count": 9,
     "metadata": {},
     "output_type": "execute_result"
    }
   ],
   "source": [
    "df_holidays_events.groupby(['type', 'locale'])['locale_name'].count()"
   ]
  },
  {
   "cell_type": "markdown",
   "id": "eaa0fc6b",
   "metadata": {
    "papermill": {
     "duration": 0.02183,
     "end_time": "2023-05-22T09:06:26.964202",
     "exception": false,
     "start_time": "2023-05-22T09:06:26.942372",
     "status": "completed"
    },
    "tags": []
   },
   "source": [
    "### oil"
   ]
  },
  {
   "cell_type": "code",
   "execution_count": 10,
   "id": "50dca560",
   "metadata": {
    "execution": {
     "iopub.execute_input": "2023-05-22T09:06:27.010692Z",
     "iopub.status.busy": "2023-05-22T09:06:27.009964Z",
     "iopub.status.idle": "2023-05-22T09:06:27.028729Z",
     "shell.execute_reply": "2023-05-22T09:06:27.027256Z"
    },
    "papermill": {
     "duration": 0.045919,
     "end_time": "2023-05-22T09:06:27.031807",
     "exception": false,
     "start_time": "2023-05-22T09:06:26.985888",
     "status": "completed"
    },
    "tags": []
   },
   "outputs": [
    {
     "data": {
      "text/html": [
       "<div>\n",
       "<style scoped>\n",
       "    .dataframe tbody tr th:only-of-type {\n",
       "        vertical-align: middle;\n",
       "    }\n",
       "\n",
       "    .dataframe tbody tr th {\n",
       "        vertical-align: top;\n",
       "    }\n",
       "\n",
       "    .dataframe thead th {\n",
       "        text-align: right;\n",
       "    }\n",
       "</style>\n",
       "<table border=\"1\" class=\"dataframe\">\n",
       "  <thead>\n",
       "    <tr style=\"text-align: right;\">\n",
       "      <th></th>\n",
       "      <th>date</th>\n",
       "      <th>dcoilwtico</th>\n",
       "    </tr>\n",
       "  </thead>\n",
       "  <tbody>\n",
       "    <tr>\n",
       "      <th>0</th>\n",
       "      <td>2013-01-01</td>\n",
       "      <td>NaN</td>\n",
       "    </tr>\n",
       "    <tr>\n",
       "      <th>1</th>\n",
       "      <td>2013-01-02</td>\n",
       "      <td>93.14</td>\n",
       "    </tr>\n",
       "    <tr>\n",
       "      <th>2</th>\n",
       "      <td>2013-01-03</td>\n",
       "      <td>92.97</td>\n",
       "    </tr>\n",
       "    <tr>\n",
       "      <th>3</th>\n",
       "      <td>2013-01-04</td>\n",
       "      <td>93.12</td>\n",
       "    </tr>\n",
       "    <tr>\n",
       "      <th>4</th>\n",
       "      <td>2013-01-07</td>\n",
       "      <td>93.20</td>\n",
       "    </tr>\n",
       "  </tbody>\n",
       "</table>\n",
       "</div>"
      ],
      "text/plain": [
       "         date  dcoilwtico\n",
       "0  2013-01-01         NaN\n",
       "1  2013-01-02       93.14\n",
       "2  2013-01-03       92.97\n",
       "3  2013-01-04       93.12\n",
       "4  2013-01-07       93.20"
      ]
     },
     "metadata": {},
     "output_type": "display_data"
    }
   ],
   "source": [
    "df_oil = pd.read_csv('/kaggle/input/store-sales-time-series-forecasting/oil.csv')\n",
    "display(df_oil.head())"
   ]
  },
  {
   "cell_type": "markdown",
   "id": "92c94338",
   "metadata": {
    "papermill": {
     "duration": 0.023462,
     "end_time": "2023-05-22T09:06:27.078378",
     "exception": false,
     "start_time": "2023-05-22T09:06:27.054916",
     "status": "completed"
    },
    "tags": []
   },
   "source": [
    "### store"
   ]
  },
  {
   "cell_type": "code",
   "execution_count": 11,
   "id": "e2b78a9f",
   "metadata": {
    "execution": {
     "iopub.execute_input": "2023-05-22T09:06:27.124194Z",
     "iopub.status.busy": "2023-05-22T09:06:27.123743Z",
     "iopub.status.idle": "2023-05-22T09:06:27.141333Z",
     "shell.execute_reply": "2023-05-22T09:06:27.139828Z"
    },
    "papermill": {
     "duration": 0.044638,
     "end_time": "2023-05-22T09:06:27.144878",
     "exception": false,
     "start_time": "2023-05-22T09:06:27.100240",
     "status": "completed"
    },
    "tags": []
   },
   "outputs": [
    {
     "data": {
      "text/html": [
       "<div>\n",
       "<style scoped>\n",
       "    .dataframe tbody tr th:only-of-type {\n",
       "        vertical-align: middle;\n",
       "    }\n",
       "\n",
       "    .dataframe tbody tr th {\n",
       "        vertical-align: top;\n",
       "    }\n",
       "\n",
       "    .dataframe thead th {\n",
       "        text-align: right;\n",
       "    }\n",
       "</style>\n",
       "<table border=\"1\" class=\"dataframe\">\n",
       "  <thead>\n",
       "    <tr style=\"text-align: right;\">\n",
       "      <th></th>\n",
       "      <th>store_nbr</th>\n",
       "      <th>city</th>\n",
       "      <th>state</th>\n",
       "      <th>type</th>\n",
       "      <th>cluster</th>\n",
       "    </tr>\n",
       "  </thead>\n",
       "  <tbody>\n",
       "    <tr>\n",
       "      <th>0</th>\n",
       "      <td>1</td>\n",
       "      <td>Quito</td>\n",
       "      <td>Pichincha</td>\n",
       "      <td>D</td>\n",
       "      <td>13</td>\n",
       "    </tr>\n",
       "    <tr>\n",
       "      <th>1</th>\n",
       "      <td>2</td>\n",
       "      <td>Quito</td>\n",
       "      <td>Pichincha</td>\n",
       "      <td>D</td>\n",
       "      <td>13</td>\n",
       "    </tr>\n",
       "    <tr>\n",
       "      <th>2</th>\n",
       "      <td>3</td>\n",
       "      <td>Quito</td>\n",
       "      <td>Pichincha</td>\n",
       "      <td>D</td>\n",
       "      <td>8</td>\n",
       "    </tr>\n",
       "    <tr>\n",
       "      <th>3</th>\n",
       "      <td>4</td>\n",
       "      <td>Quito</td>\n",
       "      <td>Pichincha</td>\n",
       "      <td>D</td>\n",
       "      <td>9</td>\n",
       "    </tr>\n",
       "    <tr>\n",
       "      <th>4</th>\n",
       "      <td>5</td>\n",
       "      <td>Santo Domingo</td>\n",
       "      <td>Santo Domingo de los Tsachilas</td>\n",
       "      <td>D</td>\n",
       "      <td>4</td>\n",
       "    </tr>\n",
       "  </tbody>\n",
       "</table>\n",
       "</div>"
      ],
      "text/plain": [
       "   store_nbr           city                           state type  cluster\n",
       "0          1          Quito                       Pichincha    D       13\n",
       "1          2          Quito                       Pichincha    D       13\n",
       "2          3          Quito                       Pichincha    D        8\n",
       "3          4          Quito                       Pichincha    D        9\n",
       "4          5  Santo Domingo  Santo Domingo de los Tsachilas    D        4"
      ]
     },
     "metadata": {},
     "output_type": "display_data"
    }
   ],
   "source": [
    "df_stores = pd.read_csv('/kaggle/input/store-sales-time-series-forecasting/stores.csv')\n",
    "display(df_stores.head())"
   ]
  },
  {
   "cell_type": "markdown",
   "id": "8d754528",
   "metadata": {
    "papermill": {
     "duration": 0.022273,
     "end_time": "2023-05-22T09:06:27.190186",
     "exception": false,
     "start_time": "2023-05-22T09:06:27.167913",
     "status": "completed"
    },
    "tags": []
   },
   "source": [
    "### transactions"
   ]
  },
  {
   "cell_type": "code",
   "execution_count": 12,
   "id": "278b3ba1",
   "metadata": {
    "execution": {
     "iopub.execute_input": "2023-05-22T09:06:27.238671Z",
     "iopub.status.busy": "2023-05-22T09:06:27.238212Z",
     "iopub.status.idle": "2023-05-22T09:06:27.300897Z",
     "shell.execute_reply": "2023-05-22T09:06:27.300102Z"
    },
    "papermill": {
     "duration": 0.089072,
     "end_time": "2023-05-22T09:06:27.302953",
     "exception": false,
     "start_time": "2023-05-22T09:06:27.213881",
     "status": "completed"
    },
    "tags": []
   },
   "outputs": [
    {
     "data": {
      "text/html": [
       "<div>\n",
       "<style scoped>\n",
       "    .dataframe tbody tr th:only-of-type {\n",
       "        vertical-align: middle;\n",
       "    }\n",
       "\n",
       "    .dataframe tbody tr th {\n",
       "        vertical-align: top;\n",
       "    }\n",
       "\n",
       "    .dataframe thead th {\n",
       "        text-align: right;\n",
       "    }\n",
       "</style>\n",
       "<table border=\"1\" class=\"dataframe\">\n",
       "  <thead>\n",
       "    <tr style=\"text-align: right;\">\n",
       "      <th></th>\n",
       "      <th>date</th>\n",
       "      <th>store_nbr</th>\n",
       "      <th>transactions</th>\n",
       "    </tr>\n",
       "  </thead>\n",
       "  <tbody>\n",
       "    <tr>\n",
       "      <th>0</th>\n",
       "      <td>2013-01-01</td>\n",
       "      <td>25</td>\n",
       "      <td>770</td>\n",
       "    </tr>\n",
       "    <tr>\n",
       "      <th>1</th>\n",
       "      <td>2013-01-02</td>\n",
       "      <td>1</td>\n",
       "      <td>2111</td>\n",
       "    </tr>\n",
       "    <tr>\n",
       "      <th>2</th>\n",
       "      <td>2013-01-02</td>\n",
       "      <td>2</td>\n",
       "      <td>2358</td>\n",
       "    </tr>\n",
       "    <tr>\n",
       "      <th>3</th>\n",
       "      <td>2013-01-02</td>\n",
       "      <td>3</td>\n",
       "      <td>3487</td>\n",
       "    </tr>\n",
       "    <tr>\n",
       "      <th>4</th>\n",
       "      <td>2013-01-02</td>\n",
       "      <td>4</td>\n",
       "      <td>1922</td>\n",
       "    </tr>\n",
       "  </tbody>\n",
       "</table>\n",
       "</div>"
      ],
      "text/plain": [
       "         date  store_nbr  transactions\n",
       "0  2013-01-01         25           770\n",
       "1  2013-01-02          1          2111\n",
       "2  2013-01-02          2          2358\n",
       "3  2013-01-02          3          3487\n",
       "4  2013-01-02          4          1922"
      ]
     },
     "metadata": {},
     "output_type": "display_data"
    }
   ],
   "source": [
    "df_transactions = pd.read_csv('/kaggle/input/store-sales-time-series-forecasting/transactions.csv')\n",
    "display(df_transactions.head())"
   ]
  },
  {
   "cell_type": "markdown",
   "id": "6a6c4884",
   "metadata": {
    "papermill": {
     "duration": 0.022259,
     "end_time": "2023-05-22T09:06:27.348880",
     "exception": false,
     "start_time": "2023-05-22T09:06:27.326621",
     "status": "completed"
    },
    "tags": []
   },
   "source": [
    "Note: a transaction is a receipt created after a customer’s purchase"
   ]
  },
  {
   "cell_type": "markdown",
   "id": "876ae8a4",
   "metadata": {
    "papermill": {
     "duration": 0.022931,
     "end_time": "2023-05-22T09:06:27.393999",
     "exception": false,
     "start_time": "2023-05-22T09:06:27.371068",
     "status": "completed"
    },
    "tags": []
   },
   "source": [
    "###  test and sample_submission"
   ]
  },
  {
   "cell_type": "code",
   "execution_count": 13,
   "id": "faa8dad4",
   "metadata": {
    "execution": {
     "iopub.execute_input": "2023-05-22T09:06:27.441365Z",
     "iopub.status.busy": "2023-05-22T09:06:27.440634Z",
     "iopub.status.idle": "2023-05-22T09:06:27.504110Z",
     "shell.execute_reply": "2023-05-22T09:06:27.503098Z"
    },
    "papermill": {
     "duration": 0.08965,
     "end_time": "2023-05-22T09:06:27.506492",
     "exception": false,
     "start_time": "2023-05-22T09:06:27.416842",
     "status": "completed"
    },
    "tags": []
   },
   "outputs": [
    {
     "data": {
      "text/html": [
       "<div>\n",
       "<style scoped>\n",
       "    .dataframe tbody tr th:only-of-type {\n",
       "        vertical-align: middle;\n",
       "    }\n",
       "\n",
       "    .dataframe tbody tr th {\n",
       "        vertical-align: top;\n",
       "    }\n",
       "\n",
       "    .dataframe thead th {\n",
       "        text-align: right;\n",
       "    }\n",
       "</style>\n",
       "<table border=\"1\" class=\"dataframe\">\n",
       "  <thead>\n",
       "    <tr style=\"text-align: right;\">\n",
       "      <th></th>\n",
       "      <th>id</th>\n",
       "      <th>date</th>\n",
       "      <th>store_nbr</th>\n",
       "      <th>family</th>\n",
       "      <th>onpromotion</th>\n",
       "    </tr>\n",
       "  </thead>\n",
       "  <tbody>\n",
       "    <tr>\n",
       "      <th>0</th>\n",
       "      <td>3000888</td>\n",
       "      <td>2017-08-16</td>\n",
       "      <td>1</td>\n",
       "      <td>AUTOMOTIVE</td>\n",
       "      <td>0</td>\n",
       "    </tr>\n",
       "    <tr>\n",
       "      <th>1</th>\n",
       "      <td>3000889</td>\n",
       "      <td>2017-08-16</td>\n",
       "      <td>1</td>\n",
       "      <td>BABY CARE</td>\n",
       "      <td>0</td>\n",
       "    </tr>\n",
       "    <tr>\n",
       "      <th>2</th>\n",
       "      <td>3000890</td>\n",
       "      <td>2017-08-16</td>\n",
       "      <td>1</td>\n",
       "      <td>BEAUTY</td>\n",
       "      <td>2</td>\n",
       "    </tr>\n",
       "    <tr>\n",
       "      <th>3</th>\n",
       "      <td>3000891</td>\n",
       "      <td>2017-08-16</td>\n",
       "      <td>1</td>\n",
       "      <td>BEVERAGES</td>\n",
       "      <td>20</td>\n",
       "    </tr>\n",
       "    <tr>\n",
       "      <th>4</th>\n",
       "      <td>3000892</td>\n",
       "      <td>2017-08-16</td>\n",
       "      <td>1</td>\n",
       "      <td>BOOKS</td>\n",
       "      <td>0</td>\n",
       "    </tr>\n",
       "  </tbody>\n",
       "</table>\n",
       "</div>"
      ],
      "text/plain": [
       "        id        date  store_nbr      family  onpromotion\n",
       "0  3000888  2017-08-16          1  AUTOMOTIVE            0\n",
       "1  3000889  2017-08-16          1   BABY CARE            0\n",
       "2  3000890  2017-08-16          1      BEAUTY            2\n",
       "3  3000891  2017-08-16          1   BEVERAGES           20\n",
       "4  3000892  2017-08-16          1       BOOKS            0"
      ]
     },
     "metadata": {},
     "output_type": "display_data"
    },
    {
     "data": {
      "text/html": [
       "<div>\n",
       "<style scoped>\n",
       "    .dataframe tbody tr th:only-of-type {\n",
       "        vertical-align: middle;\n",
       "    }\n",
       "\n",
       "    .dataframe tbody tr th {\n",
       "        vertical-align: top;\n",
       "    }\n",
       "\n",
       "    .dataframe thead th {\n",
       "        text-align: right;\n",
       "    }\n",
       "</style>\n",
       "<table border=\"1\" class=\"dataframe\">\n",
       "  <thead>\n",
       "    <tr style=\"text-align: right;\">\n",
       "      <th></th>\n",
       "      <th>id</th>\n",
       "      <th>sales</th>\n",
       "    </tr>\n",
       "  </thead>\n",
       "  <tbody>\n",
       "    <tr>\n",
       "      <th>0</th>\n",
       "      <td>3000888</td>\n",
       "      <td>0.0</td>\n",
       "    </tr>\n",
       "    <tr>\n",
       "      <th>1</th>\n",
       "      <td>3000889</td>\n",
       "      <td>0.0</td>\n",
       "    </tr>\n",
       "    <tr>\n",
       "      <th>2</th>\n",
       "      <td>3000890</td>\n",
       "      <td>0.0</td>\n",
       "    </tr>\n",
       "    <tr>\n",
       "      <th>3</th>\n",
       "      <td>3000891</td>\n",
       "      <td>0.0</td>\n",
       "    </tr>\n",
       "    <tr>\n",
       "      <th>4</th>\n",
       "      <td>3000892</td>\n",
       "      <td>0.0</td>\n",
       "    </tr>\n",
       "  </tbody>\n",
       "</table>\n",
       "</div>"
      ],
      "text/plain": [
       "        id  sales\n",
       "0  3000888    0.0\n",
       "1  3000889    0.0\n",
       "2  3000890    0.0\n",
       "3  3000891    0.0\n",
       "4  3000892    0.0"
      ]
     },
     "metadata": {},
     "output_type": "display_data"
    }
   ],
   "source": [
    "df_test = pd.read_csv('/kaggle/input/store-sales-time-series-forecasting/test.csv')\n",
    "df_sample_submission = pd.read_csv('/kaggle/input/store-sales-time-series-forecasting/sample_submission.csv')\n",
    "display(df_test.head())\n",
    "display(df_sample_submission.head())"
   ]
  },
  {
   "cell_type": "markdown",
   "id": "022e4a8e",
   "metadata": {
    "papermill": {
     "duration": 0.022641,
     "end_time": "2023-05-22T09:06:27.552248",
     "exception": false,
     "start_time": "2023-05-22T09:06:27.529607",
     "status": "completed"
    },
    "tags": []
   },
   "source": [
    "# Preprocessing"
   ]
  },
  {
   "cell_type": "code",
   "execution_count": 14,
   "id": "8a12f2ee",
   "metadata": {
    "execution": {
     "iopub.execute_input": "2023-05-22T09:06:27.600233Z",
     "iopub.status.busy": "2023-05-22T09:06:27.598968Z",
     "iopub.status.idle": "2023-05-22T09:06:27.807107Z",
     "shell.execute_reply": "2023-05-22T09:06:27.805998Z"
    },
    "papermill": {
     "duration": 0.234547,
     "end_time": "2023-05-22T09:06:27.809435",
     "exception": false,
     "start_time": "2023-05-22T09:06:27.574888",
     "status": "completed"
    },
    "tags": []
   },
   "outputs": [
    {
     "data": {
      "text/plain": [
       "array(['AUTOMOTIVE', 'BABY CARE', 'BEAUTY', 'BEVERAGES', 'BOOKS',\n",
       "       'BREAD/BAKERY', 'CELEBRATION', 'CLEANING', 'DAIRY', 'DELI', 'EGGS',\n",
       "       'FROZEN FOODS', 'GROCERY I', 'GROCERY II', 'HARDWARE',\n",
       "       'HOME AND KITCHEN I', 'HOME AND KITCHEN II', 'HOME APPLIANCES',\n",
       "       'HOME CARE', 'LADIESWEAR', 'LAWN AND GARDEN', 'LINGERIE',\n",
       "       'LIQUOR,WINE,BEER', 'MAGAZINES', 'MEATS', 'PERSONAL CARE',\n",
       "       'PET SUPPLIES', 'PLAYERS AND ELECTRONICS', 'POULTRY',\n",
       "       'PREPARED FOODS', 'PRODUCE', 'SCHOOL AND OFFICE SUPPLIES',\n",
       "       'SEAFOOD'], dtype=object)"
      ]
     },
     "metadata": {},
     "output_type": "display_data"
    },
    {
     "data": {
      "text/plain": [
       "array([ 1,  2,  3,  4,  5,  6,  7,  8,  9, 10, 11, 12, 13, 14, 15, 16, 17,\n",
       "       18, 19, 20, 21, 22, 23, 24, 25, 26, 27, 28, 29, 30, 31, 32, 33, 34,\n",
       "       35, 36, 37, 38, 39, 40, 41, 42, 43, 44, 45, 46, 47, 48, 49, 50, 51,\n",
       "       52, 53, 54])"
      ]
     },
     "metadata": {},
     "output_type": "display_data"
    }
   ],
   "source": [
    "family_list = df_train['family'].unique()\n",
    "store_list = df_stores['store_nbr'].unique()\n",
    "display(family_list)\n",
    "display(store_list)"
   ]
  },
  {
   "cell_type": "markdown",
   "id": "0718d930",
   "metadata": {
    "papermill": {
     "duration": 0.023092,
     "end_time": "2023-05-22T09:06:27.855464",
     "exception": false,
     "start_time": "2023-05-22T09:06:27.832372",
     "status": "completed"
    },
    "tags": []
   },
   "source": [
    "Let's combine the training and test datasets. So we can find covariates and extract IDs for prediction on the test set."
   ]
  },
  {
   "cell_type": "code",
   "execution_count": 15,
   "id": "c24c4e73",
   "metadata": {
    "execution": {
     "iopub.execute_input": "2023-05-22T09:06:27.904217Z",
     "iopub.status.busy": "2023-05-22T09:06:27.903782Z",
     "iopub.status.idle": "2023-05-22T09:06:33.117711Z",
     "shell.execute_reply": "2023-05-22T09:06:33.116510Z"
    },
    "papermill": {
     "duration": 5.241877,
     "end_time": "2023-05-22T09:06:33.120680",
     "exception": false,
     "start_time": "2023-05-22T09:06:27.878803",
     "status": "completed"
    },
    "tags": []
   },
   "outputs": [
    {
     "data": {
      "text/html": [
       "<div>\n",
       "<style scoped>\n",
       "    .dataframe tbody tr th:only-of-type {\n",
       "        vertical-align: middle;\n",
       "    }\n",
       "\n",
       "    .dataframe tbody tr th {\n",
       "        vertical-align: top;\n",
       "    }\n",
       "\n",
       "    .dataframe thead th {\n",
       "        text-align: right;\n",
       "    }\n",
       "</style>\n",
       "<table border=\"1\" class=\"dataframe\">\n",
       "  <thead>\n",
       "    <tr style=\"text-align: right;\">\n",
       "      <th></th>\n",
       "      <th>id</th>\n",
       "      <th>date</th>\n",
       "      <th>store_nbr</th>\n",
       "      <th>family</th>\n",
       "      <th>sales</th>\n",
       "      <th>onpromotion</th>\n",
       "      <th>city</th>\n",
       "      <th>state</th>\n",
       "      <th>type</th>\n",
       "      <th>cluster</th>\n",
       "    </tr>\n",
       "  </thead>\n",
       "  <tbody>\n",
       "    <tr>\n",
       "      <th>0</th>\n",
       "      <td>0</td>\n",
       "      <td>2013-01-01</td>\n",
       "      <td>1</td>\n",
       "      <td>AUTOMOTIVE</td>\n",
       "      <td>0.0</td>\n",
       "      <td>0</td>\n",
       "      <td>Quito</td>\n",
       "      <td>Pichincha</td>\n",
       "      <td>D</td>\n",
       "      <td>13</td>\n",
       "    </tr>\n",
       "    <tr>\n",
       "      <th>33</th>\n",
       "      <td>1782</td>\n",
       "      <td>2013-01-02</td>\n",
       "      <td>1</td>\n",
       "      <td>AUTOMOTIVE</td>\n",
       "      <td>2.0</td>\n",
       "      <td>0</td>\n",
       "      <td>Quito</td>\n",
       "      <td>Pichincha</td>\n",
       "      <td>D</td>\n",
       "      <td>13</td>\n",
       "    </tr>\n",
       "    <tr>\n",
       "      <th>66</th>\n",
       "      <td>3564</td>\n",
       "      <td>2013-01-03</td>\n",
       "      <td>1</td>\n",
       "      <td>AUTOMOTIVE</td>\n",
       "      <td>3.0</td>\n",
       "      <td>0</td>\n",
       "      <td>Quito</td>\n",
       "      <td>Pichincha</td>\n",
       "      <td>D</td>\n",
       "      <td>13</td>\n",
       "    </tr>\n",
       "    <tr>\n",
       "      <th>99</th>\n",
       "      <td>5346</td>\n",
       "      <td>2013-01-04</td>\n",
       "      <td>1</td>\n",
       "      <td>AUTOMOTIVE</td>\n",
       "      <td>3.0</td>\n",
       "      <td>0</td>\n",
       "      <td>Quito</td>\n",
       "      <td>Pichincha</td>\n",
       "      <td>D</td>\n",
       "      <td>13</td>\n",
       "    </tr>\n",
       "    <tr>\n",
       "      <th>132</th>\n",
       "      <td>7128</td>\n",
       "      <td>2013-01-05</td>\n",
       "      <td>1</td>\n",
       "      <td>AUTOMOTIVE</td>\n",
       "      <td>5.0</td>\n",
       "      <td>0</td>\n",
       "      <td>Quito</td>\n",
       "      <td>Pichincha</td>\n",
       "      <td>D</td>\n",
       "      <td>13</td>\n",
       "    </tr>\n",
       "  </tbody>\n",
       "</table>\n",
       "</div>"
      ],
      "text/plain": [
       "       id        date store_nbr      family  sales  onpromotion   city  \\\n",
       "0       0  2013-01-01         1  AUTOMOTIVE    0.0            0  Quito   \n",
       "33   1782  2013-01-02         1  AUTOMOTIVE    2.0            0  Quito   \n",
       "66   3564  2013-01-03         1  AUTOMOTIVE    3.0            0  Quito   \n",
       "99   5346  2013-01-04         1  AUTOMOTIVE    3.0            0  Quito   \n",
       "132  7128  2013-01-05         1  AUTOMOTIVE    5.0            0  Quito   \n",
       "\n",
       "         state type cluster  \n",
       "0    Pichincha    D      13  \n",
       "33   Pichincha    D      13  \n",
       "66   Pichincha    D      13  \n",
       "99   Pichincha    D      13  \n",
       "132  Pichincha    D      13  "
      ]
     },
     "metadata": {},
     "output_type": "display_data"
    }
   ],
   "source": [
    "train_merged = pd.merge(df_train, df_stores, on ='store_nbr')\n",
    "train_merged = train_merged.sort_values([\"store_nbr\",\"family\",\"date\"])\n",
    "train_merged = train_merged.astype({\"store_nbr\":'str', \"family\":'str', \"city\":'str',\n",
    "                          \"state\":'str', \"type\":'str', \"cluster\":'str'})\n",
    "\n",
    "display(train_merged.head())"
   ]
  },
  {
   "cell_type": "markdown",
   "id": "937e14e1",
   "metadata": {
    "papermill": {
     "duration": 0.023978,
     "end_time": "2023-05-22T09:06:33.169240",
     "exception": false,
     "start_time": "2023-05-22T09:06:33.145262",
     "status": "completed"
    },
    "tags": []
   },
   "source": [
    "## TimeSeries"
   ]
  },
  {
   "cell_type": "code",
   "execution_count": 16,
   "id": "2612e56c",
   "metadata": {
    "execution": {
     "iopub.execute_input": "2023-05-22T09:06:33.223757Z",
     "iopub.status.busy": "2023-05-22T09:06:33.223336Z",
     "iopub.status.idle": "2023-05-22T09:06:33.228372Z",
     "shell.execute_reply": "2023-05-22T09:06:33.226933Z"
    },
    "papermill": {
     "duration": 0.037529,
     "end_time": "2023-05-22T09:06:33.231042",
     "exception": false,
     "start_time": "2023-05-22T09:06:33.193513",
     "status": "completed"
    },
    "tags": []
   },
   "outputs": [],
   "source": [
    "from darts import TimeSeries\n",
    "from tqdm import tqdm"
   ]
  },
  {
   "cell_type": "code",
   "execution_count": 17,
   "id": "af0ad599",
   "metadata": {
    "execution": {
     "iopub.execute_input": "2023-05-22T09:06:33.283922Z",
     "iopub.status.busy": "2023-05-22T09:06:33.283117Z",
     "iopub.status.idle": "2023-05-22T09:07:02.997672Z",
     "shell.execute_reply": "2023-05-22T09:07:02.996497Z"
    },
    "papermill": {
     "duration": 29.742514,
     "end_time": "2023-05-22T09:07:03.000311",
     "exception": false,
     "start_time": "2023-05-22T09:06:33.257797",
     "status": "completed"
    },
    "tags": []
   },
   "outputs": [
    {
     "name": "stderr",
     "output_type": "stream",
     "text": [
      "100%|██████████| 33/33 [00:29<00:00,  1.11it/s]\n"
     ]
    }
   ],
   "source": [
    "family_TS_dict = {}\n",
    "\n",
    "for family in tqdm(family_list):\n",
    "    df_family = train_merged.loc[train_merged['family'] == family]\n",
    "\n",
    "    list_of_TS_family = TimeSeries.from_group_dataframe(\n",
    "                                df_family,\n",
    "                                time_col=\"date\",\n",
    "                                group_cols=[\"store_nbr\",\"family\"], # columns for grouping time series\n",
    "                                static_cols=[\"city\",\"state\",\"type\",\"cluster\"], # static covariates\n",
    "                                value_cols=\"sales\", # target\n",
    "                                fill_missing_dates=True, # filling missing dates, remember Dec 25th\n",
    "                                freq='D' # days\n",
    "                                )\n",
    "    for ts in list_of_TS_family:\n",
    "            ts = ts.astype(np.float32)\n",
    "\n",
    "    list_of_TS_family = sorted(list_of_TS_family, key=lambda ts: int(ts.static_covariates_values()[0,0]))\n",
    "    family_TS_dict[family] = list_of_TS_family"
   ]
  },
  {
   "cell_type": "markdown",
   "id": "ec105865",
   "metadata": {
    "papermill": {
     "duration": 0.026324,
     "end_time": "2023-05-22T09:07:03.051946",
     "exception": false,
     "start_time": "2023-05-22T09:07:03.025622",
     "status": "completed"
    },
    "tags": []
   },
   "source": [
    "Let's talk more about TimeSeries. This is the main object of the Darts library. Understanding its specifics will greatly simplify the comprehension of the subsequent code. We have created a dictionary with Multivariate TimeSeries\n",
    "Dictionary structure:"
   ]
  },
  {
   "cell_type": "code",
   "execution_count": 18,
   "id": "dd7c7bc1",
   "metadata": {
    "execution": {
     "iopub.execute_input": "2023-05-22T09:07:03.107384Z",
     "iopub.status.busy": "2023-05-22T09:07:03.106971Z",
     "iopub.status.idle": "2023-05-22T09:07:03.115403Z",
     "shell.execute_reply": "2023-05-22T09:07:03.113915Z"
    },
    "papermill": {
     "duration": 0.038996,
     "end_time": "2023-05-22T09:07:03.118113",
     "exception": false,
     "start_time": "2023-05-22T09:07:03.079117",
     "status": "completed"
    },
    "tags": []
   },
   "outputs": [
    {
     "data": {
      "text/plain": [
       "dict_keys(['AUTOMOTIVE', 'BABY CARE', 'BEAUTY', 'BEVERAGES', 'BOOKS', 'BREAD/BAKERY', 'CELEBRATION', 'CLEANING', 'DAIRY', 'DELI', 'EGGS', 'FROZEN FOODS', 'GROCERY I', 'GROCERY II', 'HARDWARE', 'HOME AND KITCHEN I', 'HOME AND KITCHEN II', 'HOME APPLIANCES', 'HOME CARE', 'LADIESWEAR', 'LAWN AND GARDEN', 'LINGERIE', 'LIQUOR,WINE,BEER', 'MAGAZINES', 'MEATS', 'PERSONAL CARE', 'PET SUPPLIES', 'PLAYERS AND ELECTRONICS', 'POULTRY', 'PREPARED FOODS', 'PRODUCE', 'SCHOOL AND OFFICE SUPPLIES', 'SEAFOOD'])"
      ]
     },
     "execution_count": 18,
     "metadata": {},
     "output_type": "execute_result"
    }
   ],
   "source": [
    "family_TS_dict.keys()"
   ]
  },
  {
   "cell_type": "markdown",
   "id": "9ab5b564",
   "metadata": {
    "papermill": {
     "duration": 0.028011,
     "end_time": "2023-05-22T09:07:03.172045",
     "exception": false,
     "start_time": "2023-05-22T09:07:03.144034",
     "status": "completed"
    },
    "tags": []
   },
   "source": [
    "Timeseries for family 'AUTOMOTIVE' and store_nbr 1\n",
    "date: number (range) of days in the time series\n",
    "\n",
    "component: data from the columns that we passed in the parameter 'value_cols'. In our case, the number of daily sales."
   ]
  },
  {
   "cell_type": "code",
   "execution_count": 19,
   "id": "b8c502d8",
   "metadata": {
    "execution": {
     "iopub.execute_input": "2023-05-22T09:07:03.229840Z",
     "iopub.status.busy": "2023-05-22T09:07:03.229202Z",
     "iopub.status.idle": "2023-05-22T09:07:03.261245Z",
     "shell.execute_reply": "2023-05-22T09:07:03.259723Z"
    },
    "papermill": {
     "duration": 0.063364,
     "end_time": "2023-05-22T09:07:03.264288",
     "exception": false,
     "start_time": "2023-05-22T09:07:03.200924",
     "status": "completed"
    },
    "tags": []
   },
   "outputs": [
    {
     "data": {
      "text/html": [
       "<div><svg style=\"position: absolute; width: 0; height: 0; overflow: hidden\">\n",
       "<defs>\n",
       "<symbol id=\"icon-database\" viewBox=\"0 0 32 32\">\n",
       "<path d=\"M16 0c-8.837 0-16 2.239-16 5v4c0 2.761 7.163 5 16 5s16-2.239 16-5v-4c0-2.761-7.163-5-16-5z\"></path>\n",
       "<path d=\"M16 17c-8.837 0-16-2.239-16-5v6c0 2.761 7.163 5 16 5s16-2.239 16-5v-6c0 2.761-7.163 5-16 5z\"></path>\n",
       "<path d=\"M16 26c-8.837 0-16-2.239-16-5v6c0 2.761 7.163 5 16 5s16-2.239 16-5v-6c0 2.761-7.163 5-16 5z\"></path>\n",
       "</symbol>\n",
       "<symbol id=\"icon-file-text2\" viewBox=\"0 0 32 32\">\n",
       "<path d=\"M28.681 7.159c-0.694-0.947-1.662-2.053-2.724-3.116s-2.169-2.030-3.116-2.724c-1.612-1.182-2.393-1.319-2.841-1.319h-15.5c-1.378 0-2.5 1.121-2.5 2.5v27c0 1.378 1.122 2.5 2.5 2.5h23c1.378 0 2.5-1.122 2.5-2.5v-19.5c0-0.448-0.137-1.23-1.319-2.841zM24.543 5.457c0.959 0.959 1.712 1.825 2.268 2.543h-4.811v-4.811c0.718 0.556 1.584 1.309 2.543 2.268zM28 29.5c0 0.271-0.229 0.5-0.5 0.5h-23c-0.271 0-0.5-0.229-0.5-0.5v-27c0-0.271 0.229-0.5 0.5-0.5 0 0 15.499-0 15.5 0v7c0 0.552 0.448 1 1 1h7v19.5z\"></path>\n",
       "<path d=\"M23 26h-14c-0.552 0-1-0.448-1-1s0.448-1 1-1h14c0.552 0 1 0.448 1 1s-0.448 1-1 1z\"></path>\n",
       "<path d=\"M23 22h-14c-0.552 0-1-0.448-1-1s0.448-1 1-1h14c0.552 0 1 0.448 1 1s-0.448 1-1 1z\"></path>\n",
       "<path d=\"M23 18h-14c-0.552 0-1-0.448-1-1s0.448-1 1-1h14c0.552 0 1 0.448 1 1s-0.448 1-1 1z\"></path>\n",
       "</symbol>\n",
       "</defs>\n",
       "</svg>\n",
       "<style>/* CSS stylesheet for displaying xarray objects in jupyterlab.\n",
       " *\n",
       " */\n",
       "\n",
       ":root {\n",
       "  --xr-font-color0: var(--jp-content-font-color0, rgba(0, 0, 0, 1));\n",
       "  --xr-font-color2: var(--jp-content-font-color2, rgba(0, 0, 0, 0.54));\n",
       "  --xr-font-color3: var(--jp-content-font-color3, rgba(0, 0, 0, 0.38));\n",
       "  --xr-border-color: var(--jp-border-color2, #e0e0e0);\n",
       "  --xr-disabled-color: var(--jp-layout-color3, #bdbdbd);\n",
       "  --xr-background-color: var(--jp-layout-color0, white);\n",
       "  --xr-background-color-row-even: var(--jp-layout-color1, white);\n",
       "  --xr-background-color-row-odd: var(--jp-layout-color2, #eeeeee);\n",
       "}\n",
       "\n",
       "html[theme=dark],\n",
       "body[data-theme=dark],\n",
       "body.vscode-dark {\n",
       "  --xr-font-color0: rgba(255, 255, 255, 1);\n",
       "  --xr-font-color2: rgba(255, 255, 255, 0.54);\n",
       "  --xr-font-color3: rgba(255, 255, 255, 0.38);\n",
       "  --xr-border-color: #1F1F1F;\n",
       "  --xr-disabled-color: #515151;\n",
       "  --xr-background-color: #111111;\n",
       "  --xr-background-color-row-even: #111111;\n",
       "  --xr-background-color-row-odd: #313131;\n",
       "}\n",
       "\n",
       ".xr-wrap {\n",
       "  display: block !important;\n",
       "  min-width: 300px;\n",
       "  max-width: 700px;\n",
       "}\n",
       "\n",
       ".xr-text-repr-fallback {\n",
       "  /* fallback to plain text repr when CSS is not injected (untrusted notebook) */\n",
       "  display: none;\n",
       "}\n",
       "\n",
       ".xr-header {\n",
       "  padding-top: 6px;\n",
       "  padding-bottom: 6px;\n",
       "  margin-bottom: 4px;\n",
       "  border-bottom: solid 1px var(--xr-border-color);\n",
       "}\n",
       "\n",
       ".xr-header > div,\n",
       ".xr-header > ul {\n",
       "  display: inline;\n",
       "  margin-top: 0;\n",
       "  margin-bottom: 0;\n",
       "}\n",
       "\n",
       ".xr-obj-type,\n",
       ".xr-array-name {\n",
       "  margin-left: 2px;\n",
       "  margin-right: 10px;\n",
       "}\n",
       "\n",
       ".xr-obj-type {\n",
       "  color: var(--xr-font-color2);\n",
       "}\n",
       "\n",
       ".xr-sections {\n",
       "  padding-left: 0 !important;\n",
       "  display: grid;\n",
       "  grid-template-columns: 150px auto auto 1fr 20px 20px;\n",
       "}\n",
       "\n",
       ".xr-section-item {\n",
       "  display: contents;\n",
       "}\n",
       "\n",
       ".xr-section-item input {\n",
       "  display: none;\n",
       "}\n",
       "\n",
       ".xr-section-item input + label {\n",
       "  color: var(--xr-disabled-color);\n",
       "}\n",
       "\n",
       ".xr-section-item input:enabled + label {\n",
       "  cursor: pointer;\n",
       "  color: var(--xr-font-color2);\n",
       "}\n",
       "\n",
       ".xr-section-item input:enabled + label:hover {\n",
       "  color: var(--xr-font-color0);\n",
       "}\n",
       "\n",
       ".xr-section-summary {\n",
       "  grid-column: 1;\n",
       "  color: var(--xr-font-color2);\n",
       "  font-weight: 500;\n",
       "}\n",
       "\n",
       ".xr-section-summary > span {\n",
       "  display: inline-block;\n",
       "  padding-left: 0.5em;\n",
       "}\n",
       "\n",
       ".xr-section-summary-in:disabled + label {\n",
       "  color: var(--xr-font-color2);\n",
       "}\n",
       "\n",
       ".xr-section-summary-in + label:before {\n",
       "  display: inline-block;\n",
       "  content: '►';\n",
       "  font-size: 11px;\n",
       "  width: 15px;\n",
       "  text-align: center;\n",
       "}\n",
       "\n",
       ".xr-section-summary-in:disabled + label:before {\n",
       "  color: var(--xr-disabled-color);\n",
       "}\n",
       "\n",
       ".xr-section-summary-in:checked + label:before {\n",
       "  content: '▼';\n",
       "}\n",
       "\n",
       ".xr-section-summary-in:checked + label > span {\n",
       "  display: none;\n",
       "}\n",
       "\n",
       ".xr-section-summary,\n",
       ".xr-section-inline-details {\n",
       "  padding-top: 4px;\n",
       "  padding-bottom: 4px;\n",
       "}\n",
       "\n",
       ".xr-section-inline-details {\n",
       "  grid-column: 2 / -1;\n",
       "}\n",
       "\n",
       ".xr-section-details {\n",
       "  display: none;\n",
       "  grid-column: 1 / -1;\n",
       "  margin-bottom: 5px;\n",
       "}\n",
       "\n",
       ".xr-section-summary-in:checked ~ .xr-section-details {\n",
       "  display: contents;\n",
       "}\n",
       "\n",
       ".xr-array-wrap {\n",
       "  grid-column: 1 / -1;\n",
       "  display: grid;\n",
       "  grid-template-columns: 20px auto;\n",
       "}\n",
       "\n",
       ".xr-array-wrap > label {\n",
       "  grid-column: 1;\n",
       "  vertical-align: top;\n",
       "}\n",
       "\n",
       ".xr-preview {\n",
       "  color: var(--xr-font-color3);\n",
       "}\n",
       "\n",
       ".xr-array-preview,\n",
       ".xr-array-data {\n",
       "  padding: 0 5px !important;\n",
       "  grid-column: 2;\n",
       "}\n",
       "\n",
       ".xr-array-data,\n",
       ".xr-array-in:checked ~ .xr-array-preview {\n",
       "  display: none;\n",
       "}\n",
       "\n",
       ".xr-array-in:checked ~ .xr-array-data,\n",
       ".xr-array-preview {\n",
       "  display: inline-block;\n",
       "}\n",
       "\n",
       ".xr-dim-list {\n",
       "  display: inline-block !important;\n",
       "  list-style: none;\n",
       "  padding: 0 !important;\n",
       "  margin: 0;\n",
       "}\n",
       "\n",
       ".xr-dim-list li {\n",
       "  display: inline-block;\n",
       "  padding: 0;\n",
       "  margin: 0;\n",
       "}\n",
       "\n",
       ".xr-dim-list:before {\n",
       "  content: '(';\n",
       "}\n",
       "\n",
       ".xr-dim-list:after {\n",
       "  content: ')';\n",
       "}\n",
       "\n",
       ".xr-dim-list li:not(:last-child):after {\n",
       "  content: ',';\n",
       "  padding-right: 5px;\n",
       "}\n",
       "\n",
       ".xr-has-index {\n",
       "  font-weight: bold;\n",
       "}\n",
       "\n",
       ".xr-var-list,\n",
       ".xr-var-item {\n",
       "  display: contents;\n",
       "}\n",
       "\n",
       ".xr-var-item > div,\n",
       ".xr-var-item label,\n",
       ".xr-var-item > .xr-var-name span {\n",
       "  background-color: var(--xr-background-color-row-even);\n",
       "  margin-bottom: 0;\n",
       "}\n",
       "\n",
       ".xr-var-item > .xr-var-name:hover span {\n",
       "  padding-right: 5px;\n",
       "}\n",
       "\n",
       ".xr-var-list > li:nth-child(odd) > div,\n",
       ".xr-var-list > li:nth-child(odd) > label,\n",
       ".xr-var-list > li:nth-child(odd) > .xr-var-name span {\n",
       "  background-color: var(--xr-background-color-row-odd);\n",
       "}\n",
       "\n",
       ".xr-var-name {\n",
       "  grid-column: 1;\n",
       "}\n",
       "\n",
       ".xr-var-dims {\n",
       "  grid-column: 2;\n",
       "}\n",
       "\n",
       ".xr-var-dtype {\n",
       "  grid-column: 3;\n",
       "  text-align: right;\n",
       "  color: var(--xr-font-color2);\n",
       "}\n",
       "\n",
       ".xr-var-preview {\n",
       "  grid-column: 4;\n",
       "}\n",
       "\n",
       ".xr-index-preview {\n",
       "  grid-column: 2 / 5;\n",
       "  color: var(--xr-font-color2);\n",
       "}\n",
       "\n",
       ".xr-var-name,\n",
       ".xr-var-dims,\n",
       ".xr-var-dtype,\n",
       ".xr-preview,\n",
       ".xr-attrs dt {\n",
       "  white-space: nowrap;\n",
       "  overflow: hidden;\n",
       "  text-overflow: ellipsis;\n",
       "  padding-right: 10px;\n",
       "}\n",
       "\n",
       ".xr-var-name:hover,\n",
       ".xr-var-dims:hover,\n",
       ".xr-var-dtype:hover,\n",
       ".xr-attrs dt:hover {\n",
       "  overflow: visible;\n",
       "  width: auto;\n",
       "  z-index: 1;\n",
       "}\n",
       "\n",
       ".xr-var-attrs,\n",
       ".xr-var-data,\n",
       ".xr-index-data {\n",
       "  display: none;\n",
       "  background-color: var(--xr-background-color) !important;\n",
       "  padding-bottom: 5px !important;\n",
       "}\n",
       "\n",
       ".xr-var-attrs-in:checked ~ .xr-var-attrs,\n",
       ".xr-var-data-in:checked ~ .xr-var-data,\n",
       ".xr-index-data-in:checked ~ .xr-index-data {\n",
       "  display: block;\n",
       "}\n",
       "\n",
       ".xr-var-data > table {\n",
       "  float: right;\n",
       "}\n",
       "\n",
       ".xr-var-name span,\n",
       ".xr-var-data,\n",
       ".xr-index-name div,\n",
       ".xr-index-data,\n",
       ".xr-attrs {\n",
       "  padding-left: 25px !important;\n",
       "}\n",
       "\n",
       ".xr-attrs,\n",
       ".xr-var-attrs,\n",
       ".xr-var-data,\n",
       ".xr-index-data {\n",
       "  grid-column: 1 / -1;\n",
       "}\n",
       "\n",
       "dl.xr-attrs {\n",
       "  padding: 0;\n",
       "  margin: 0;\n",
       "  display: grid;\n",
       "  grid-template-columns: 125px auto;\n",
       "}\n",
       "\n",
       ".xr-attrs dt,\n",
       ".xr-attrs dd {\n",
       "  padding: 0;\n",
       "  margin: 0;\n",
       "  float: left;\n",
       "  padding-right: 10px;\n",
       "  width: auto;\n",
       "}\n",
       "\n",
       ".xr-attrs dt {\n",
       "  font-weight: normal;\n",
       "  grid-column: 1;\n",
       "}\n",
       "\n",
       ".xr-attrs dt:hover span {\n",
       "  display: inline-block;\n",
       "  background: var(--xr-background-color);\n",
       "  padding-right: 10px;\n",
       "}\n",
       "\n",
       ".xr-attrs dd {\n",
       "  grid-column: 2;\n",
       "  white-space: pre-wrap;\n",
       "  word-break: break-all;\n",
       "}\n",
       "\n",
       ".xr-icon-database,\n",
       ".xr-icon-file-text2,\n",
       ".xr-no-icon {\n",
       "  display: inline-block;\n",
       "  vertical-align: middle;\n",
       "  width: 1em;\n",
       "  height: 1.5em !important;\n",
       "  stroke-width: 0;\n",
       "  stroke: currentColor;\n",
       "  fill: currentColor;\n",
       "}\n",
       "</style><pre class='xr-text-repr-fallback'>&lt;TimeSeries (DataArray) (date: 1688, component: 1, sample: 1)&gt;\n",
       "array([[[0.]],\n",
       "\n",
       "       [[2.]],\n",
       "\n",
       "       [[3.]],\n",
       "\n",
       "       ...,\n",
       "\n",
       "       [[1.]],\n",
       "\n",
       "       [[1.]],\n",
       "\n",
       "       [[4.]]])\n",
       "Coordinates:\n",
       "  * date       (date) datetime64[ns] 2013-01-01 2013-01-02 ... 2017-08-15\n",
       "  * component  (component) object &#x27;sales&#x27;\n",
       "Dimensions without coordinates: sample\n",
       "Attributes:\n",
       "    static_covariates:  static_covariates store_nbr      family   city      s...\n",
       "    hierarchy:          None</pre><div class='xr-wrap' style='display:none'><div class='xr-header'><div class='xr-obj-type'>TimeSeries (DataArray)</div><div class='xr-array-name'></div><ul class='xr-dim-list'><li><span class='xr-has-index'>date</span>: 1688</li><li><span class='xr-has-index'>component</span>: 1</li><li><span>sample</span>: 1</li></ul></div><ul class='xr-sections'><li class='xr-section-item'><div class='xr-array-wrap'><input id='section-8e83d195-9b3d-4438-bb56-17b45292e3c1' class='xr-array-in' type='checkbox' checked><label for='section-8e83d195-9b3d-4438-bb56-17b45292e3c1' title='Show/hide data repr'><svg class='icon xr-icon-database'><use xlink:href='#icon-database'></use></svg></label><div class='xr-array-preview xr-preview'><span>0.0 2.0 3.0 3.0 5.0 2.0 0.0 2.0 ... 4.0 7.0 9.0 1.0 6.0 1.0 1.0 4.0</span></div><div class='xr-array-data'><pre>array([[[0.]],\n",
       "\n",
       "       [[2.]],\n",
       "\n",
       "       [[3.]],\n",
       "\n",
       "       ...,\n",
       "\n",
       "       [[1.]],\n",
       "\n",
       "       [[1.]],\n",
       "\n",
       "       [[4.]]])</pre></div></div></li><li class='xr-section-item'><input id='section-d8c78ee2-ae63-4f97-bea5-b244db923d61' class='xr-section-summary-in' type='checkbox'  checked><label for='section-d8c78ee2-ae63-4f97-bea5-b244db923d61' class='xr-section-summary' >Coordinates: <span>(2)</span></label><div class='xr-section-inline-details'></div><div class='xr-section-details'><ul class='xr-var-list'><li class='xr-var-item'><div class='xr-var-name'><span class='xr-has-index'>date</span></div><div class='xr-var-dims'>(date)</div><div class='xr-var-dtype'>datetime64[ns]</div><div class='xr-var-preview xr-preview'>2013-01-01 ... 2017-08-15</div><input id='attrs-2ae2a778-1e85-46ca-a12b-9895d7ee8a74' class='xr-var-attrs-in' type='checkbox' disabled><label for='attrs-2ae2a778-1e85-46ca-a12b-9895d7ee8a74' title='Show/Hide attributes'><svg class='icon xr-icon-file-text2'><use xlink:href='#icon-file-text2'></use></svg></label><input id='data-080c566b-2d54-478f-8d6e-50979673490b' class='xr-var-data-in' type='checkbox'><label for='data-080c566b-2d54-478f-8d6e-50979673490b' title='Show/Hide data repr'><svg class='icon xr-icon-database'><use xlink:href='#icon-database'></use></svg></label><div class='xr-var-attrs'><dl class='xr-attrs'></dl></div><div class='xr-var-data'><pre>array([&#x27;2013-01-01T00:00:00.000000000&#x27;, &#x27;2013-01-02T00:00:00.000000000&#x27;,\n",
       "       &#x27;2013-01-03T00:00:00.000000000&#x27;, ..., &#x27;2017-08-13T00:00:00.000000000&#x27;,\n",
       "       &#x27;2017-08-14T00:00:00.000000000&#x27;, &#x27;2017-08-15T00:00:00.000000000&#x27;],\n",
       "      dtype=&#x27;datetime64[ns]&#x27;)</pre></div></li><li class='xr-var-item'><div class='xr-var-name'><span class='xr-has-index'>component</span></div><div class='xr-var-dims'>(component)</div><div class='xr-var-dtype'>object</div><div class='xr-var-preview xr-preview'>&#x27;sales&#x27;</div><input id='attrs-7c5efc64-882f-4537-8a67-8894535c776c' class='xr-var-attrs-in' type='checkbox' disabled><label for='attrs-7c5efc64-882f-4537-8a67-8894535c776c' title='Show/Hide attributes'><svg class='icon xr-icon-file-text2'><use xlink:href='#icon-file-text2'></use></svg></label><input id='data-6aa3d2cc-2e8f-425f-9c07-84e5671c2be8' class='xr-var-data-in' type='checkbox'><label for='data-6aa3d2cc-2e8f-425f-9c07-84e5671c2be8' title='Show/Hide data repr'><svg class='icon xr-icon-database'><use xlink:href='#icon-database'></use></svg></label><div class='xr-var-attrs'><dl class='xr-attrs'></dl></div><div class='xr-var-data'><pre>array([&#x27;sales&#x27;], dtype=object)</pre></div></li></ul></div></li><li class='xr-section-item'><input id='section-b58002a9-24d8-41f4-b78c-27a91de3f8b6' class='xr-section-summary-in' type='checkbox'  ><label for='section-b58002a9-24d8-41f4-b78c-27a91de3f8b6' class='xr-section-summary' >Indexes: <span>(2)</span></label><div class='xr-section-inline-details'></div><div class='xr-section-details'><ul class='xr-var-list'><li class='xr-var-item'><div class='xr-index-name'><div>date</div></div><div class='xr-index-preview'>PandasIndex</div><div></div><input id='index-5e1d80ac-10fd-4d59-a3e2-53a905cd1082' class='xr-index-data-in' type='checkbox'/><label for='index-5e1d80ac-10fd-4d59-a3e2-53a905cd1082' title='Show/Hide index repr'><svg class='icon xr-icon-database'><use xlink:href='#icon-database'></use></svg></label><div class='xr-index-data'><pre>PandasIndex(DatetimeIndex([&#x27;2013-01-01&#x27;, &#x27;2013-01-02&#x27;, &#x27;2013-01-03&#x27;, &#x27;2013-01-04&#x27;,\n",
       "               &#x27;2013-01-05&#x27;, &#x27;2013-01-06&#x27;, &#x27;2013-01-07&#x27;, &#x27;2013-01-08&#x27;,\n",
       "               &#x27;2013-01-09&#x27;, &#x27;2013-01-10&#x27;,\n",
       "               ...\n",
       "               &#x27;2017-08-06&#x27;, &#x27;2017-08-07&#x27;, &#x27;2017-08-08&#x27;, &#x27;2017-08-09&#x27;,\n",
       "               &#x27;2017-08-10&#x27;, &#x27;2017-08-11&#x27;, &#x27;2017-08-12&#x27;, &#x27;2017-08-13&#x27;,\n",
       "               &#x27;2017-08-14&#x27;, &#x27;2017-08-15&#x27;],\n",
       "              dtype=&#x27;datetime64[ns]&#x27;, name=&#x27;date&#x27;, length=1688, freq=&#x27;D&#x27;))</pre></div></li><li class='xr-var-item'><div class='xr-index-name'><div>component</div></div><div class='xr-index-preview'>PandasIndex</div><div></div><input id='index-2d729e98-5647-4625-a93a-b0e8b31abc67' class='xr-index-data-in' type='checkbox'/><label for='index-2d729e98-5647-4625-a93a-b0e8b31abc67' title='Show/Hide index repr'><svg class='icon xr-icon-database'><use xlink:href='#icon-database'></use></svg></label><div class='xr-index-data'><pre>PandasIndex(Index([&#x27;sales&#x27;], dtype=&#x27;object&#x27;, name=&#x27;component&#x27;))</pre></div></li></ul></div></li><li class='xr-section-item'><input id='section-802414cb-827b-420e-9b7d-abdd2f350df7' class='xr-section-summary-in' type='checkbox'  checked><label for='section-802414cb-827b-420e-9b7d-abdd2f350df7' class='xr-section-summary' >Attributes: <span>(2)</span></label><div class='xr-section-inline-details'></div><div class='xr-section-details'><dl class='xr-attrs'><dt><span>static_covariates :</span></dt><dd>static_covariates store_nbr      family   city      state type cluster\n",
       "component                                                             \n",
       "sales                     1  AUTOMOTIVE  Quito  Pichincha    D      13</dd><dt><span>hierarchy :</span></dt><dd>None</dd></dl></div></li></ul></div></div>"
      ],
      "text/plain": [
       "<TimeSeries (DataArray) (date: 1688, component: 1, sample: 1)>\n",
       "array([[[0.]],\n",
       "\n",
       "       [[2.]],\n",
       "\n",
       "       [[3.]],\n",
       "\n",
       "       ...,\n",
       "\n",
       "       [[1.]],\n",
       "\n",
       "       [[1.]],\n",
       "\n",
       "       [[4.]]])\n",
       "Coordinates:\n",
       "  * date       (date) datetime64[ns] 2013-01-01 2013-01-02 ... 2017-08-15\n",
       "  * component  (component) object 'sales'\n",
       "Dimensions without coordinates: sample\n",
       "Attributes:\n",
       "    static_covariates:  static_covariates store_nbr      family   city      s...\n",
       "    hierarchy:          None"
      ]
     },
     "execution_count": 19,
     "metadata": {},
     "output_type": "execute_result"
    }
   ],
   "source": [
    "family_TS_dict['AUTOMOTIVE'][0]"
   ]
  },
  {
   "cell_type": "markdown",
   "id": "f4c17a79",
   "metadata": {
    "papermill": {
     "duration": 0.027209,
     "end_time": "2023-05-22T09:07:03.319451",
     "exception": false,
     "start_time": "2023-05-22T09:07:03.292242",
     "status": "completed"
    },
    "tags": []
   },
   "source": [
    "Constant values for all observations in the group:"
   ]
  },
  {
   "cell_type": "code",
   "execution_count": 20,
   "id": "a25626dd",
   "metadata": {
    "execution": {
     "iopub.execute_input": "2023-05-22T09:07:03.375497Z",
     "iopub.status.busy": "2023-05-22T09:07:03.375035Z",
     "iopub.status.idle": "2023-05-22T09:07:03.389015Z",
     "shell.execute_reply": "2023-05-22T09:07:03.387976Z"
    },
    "papermill": {
     "duration": 0.044511,
     "end_time": "2023-05-22T09:07:03.391202",
     "exception": false,
     "start_time": "2023-05-22T09:07:03.346691",
     "status": "completed"
    },
    "tags": []
   },
   "outputs": [
    {
     "data": {
      "text/html": [
       "<div>\n",
       "<style scoped>\n",
       "    .dataframe tbody tr th:only-of-type {\n",
       "        vertical-align: middle;\n",
       "    }\n",
       "\n",
       "    .dataframe tbody tr th {\n",
       "        vertical-align: top;\n",
       "    }\n",
       "\n",
       "    .dataframe thead th {\n",
       "        text-align: right;\n",
       "    }\n",
       "</style>\n",
       "<table border=\"1\" class=\"dataframe\">\n",
       "  <thead>\n",
       "    <tr style=\"text-align: right;\">\n",
       "      <th>static_covariates</th>\n",
       "      <th>store_nbr</th>\n",
       "      <th>family</th>\n",
       "      <th>city</th>\n",
       "      <th>state</th>\n",
       "      <th>type</th>\n",
       "      <th>cluster</th>\n",
       "    </tr>\n",
       "    <tr>\n",
       "      <th>component</th>\n",
       "      <th></th>\n",
       "      <th></th>\n",
       "      <th></th>\n",
       "      <th></th>\n",
       "      <th></th>\n",
       "      <th></th>\n",
       "    </tr>\n",
       "  </thead>\n",
       "  <tbody>\n",
       "    <tr>\n",
       "      <th>sales</th>\n",
       "      <td>1</td>\n",
       "      <td>AUTOMOTIVE</td>\n",
       "      <td>Quito</td>\n",
       "      <td>Pichincha</td>\n",
       "      <td>D</td>\n",
       "      <td>13</td>\n",
       "    </tr>\n",
       "  </tbody>\n",
       "</table>\n",
       "</div>"
      ],
      "text/plain": [
       "static_covariates store_nbr      family   city      state type cluster\n",
       "component                                                             \n",
       "sales                     1  AUTOMOTIVE  Quito  Pichincha    D      13"
      ]
     },
     "execution_count": 20,
     "metadata": {},
     "output_type": "execute_result"
    }
   ],
   "source": [
    "family_TS_dict['AUTOMOTIVE'][0].static_covariates"
   ]
  },
  {
   "cell_type": "markdown",
   "id": "8aa37c8b",
   "metadata": {
    "papermill": {
     "duration": 0.027692,
     "end_time": "2023-05-22T09:07:03.445816",
     "exception": false,
     "start_time": "2023-05-22T09:07:03.418124",
     "status": "completed"
    },
    "tags": []
   },
   "source": [
    "We can select specific dates with slicing:"
   ]
  },
  {
   "cell_type": "code",
   "execution_count": 21,
   "id": "8266119c",
   "metadata": {
    "execution": {
     "iopub.execute_input": "2023-05-22T09:07:03.501472Z",
     "iopub.status.busy": "2023-05-22T09:07:03.501025Z",
     "iopub.status.idle": "2023-05-22T09:07:03.525869Z",
     "shell.execute_reply": "2023-05-22T09:07:03.525009Z"
    },
    "papermill": {
     "duration": 0.055573,
     "end_time": "2023-05-22T09:07:03.528513",
     "exception": false,
     "start_time": "2023-05-22T09:07:03.472940",
     "status": "completed"
    },
    "tags": []
   },
   "outputs": [
    {
     "data": {
      "text/html": [
       "<div><svg style=\"position: absolute; width: 0; height: 0; overflow: hidden\">\n",
       "<defs>\n",
       "<symbol id=\"icon-database\" viewBox=\"0 0 32 32\">\n",
       "<path d=\"M16 0c-8.837 0-16 2.239-16 5v4c0 2.761 7.163 5 16 5s16-2.239 16-5v-4c0-2.761-7.163-5-16-5z\"></path>\n",
       "<path d=\"M16 17c-8.837 0-16-2.239-16-5v6c0 2.761 7.163 5 16 5s16-2.239 16-5v-6c0 2.761-7.163 5-16 5z\"></path>\n",
       "<path d=\"M16 26c-8.837 0-16-2.239-16-5v6c0 2.761 7.163 5 16 5s16-2.239 16-5v-6c0 2.761-7.163 5-16 5z\"></path>\n",
       "</symbol>\n",
       "<symbol id=\"icon-file-text2\" viewBox=\"0 0 32 32\">\n",
       "<path d=\"M28.681 7.159c-0.694-0.947-1.662-2.053-2.724-3.116s-2.169-2.030-3.116-2.724c-1.612-1.182-2.393-1.319-2.841-1.319h-15.5c-1.378 0-2.5 1.121-2.5 2.5v27c0 1.378 1.122 2.5 2.5 2.5h23c1.378 0 2.5-1.122 2.5-2.5v-19.5c0-0.448-0.137-1.23-1.319-2.841zM24.543 5.457c0.959 0.959 1.712 1.825 2.268 2.543h-4.811v-4.811c0.718 0.556 1.584 1.309 2.543 2.268zM28 29.5c0 0.271-0.229 0.5-0.5 0.5h-23c-0.271 0-0.5-0.229-0.5-0.5v-27c0-0.271 0.229-0.5 0.5-0.5 0 0 15.499-0 15.5 0v7c0 0.552 0.448 1 1 1h7v19.5z\"></path>\n",
       "<path d=\"M23 26h-14c-0.552 0-1-0.448-1-1s0.448-1 1-1h14c0.552 0 1 0.448 1 1s-0.448 1-1 1z\"></path>\n",
       "<path d=\"M23 22h-14c-0.552 0-1-0.448-1-1s0.448-1 1-1h14c0.552 0 1 0.448 1 1s-0.448 1-1 1z\"></path>\n",
       "<path d=\"M23 18h-14c-0.552 0-1-0.448-1-1s0.448-1 1-1h14c0.552 0 1 0.448 1 1s-0.448 1-1 1z\"></path>\n",
       "</symbol>\n",
       "</defs>\n",
       "</svg>\n",
       "<style>/* CSS stylesheet for displaying xarray objects in jupyterlab.\n",
       " *\n",
       " */\n",
       "\n",
       ":root {\n",
       "  --xr-font-color0: var(--jp-content-font-color0, rgba(0, 0, 0, 1));\n",
       "  --xr-font-color2: var(--jp-content-font-color2, rgba(0, 0, 0, 0.54));\n",
       "  --xr-font-color3: var(--jp-content-font-color3, rgba(0, 0, 0, 0.38));\n",
       "  --xr-border-color: var(--jp-border-color2, #e0e0e0);\n",
       "  --xr-disabled-color: var(--jp-layout-color3, #bdbdbd);\n",
       "  --xr-background-color: var(--jp-layout-color0, white);\n",
       "  --xr-background-color-row-even: var(--jp-layout-color1, white);\n",
       "  --xr-background-color-row-odd: var(--jp-layout-color2, #eeeeee);\n",
       "}\n",
       "\n",
       "html[theme=dark],\n",
       "body[data-theme=dark],\n",
       "body.vscode-dark {\n",
       "  --xr-font-color0: rgba(255, 255, 255, 1);\n",
       "  --xr-font-color2: rgba(255, 255, 255, 0.54);\n",
       "  --xr-font-color3: rgba(255, 255, 255, 0.38);\n",
       "  --xr-border-color: #1F1F1F;\n",
       "  --xr-disabled-color: #515151;\n",
       "  --xr-background-color: #111111;\n",
       "  --xr-background-color-row-even: #111111;\n",
       "  --xr-background-color-row-odd: #313131;\n",
       "}\n",
       "\n",
       ".xr-wrap {\n",
       "  display: block !important;\n",
       "  min-width: 300px;\n",
       "  max-width: 700px;\n",
       "}\n",
       "\n",
       ".xr-text-repr-fallback {\n",
       "  /* fallback to plain text repr when CSS is not injected (untrusted notebook) */\n",
       "  display: none;\n",
       "}\n",
       "\n",
       ".xr-header {\n",
       "  padding-top: 6px;\n",
       "  padding-bottom: 6px;\n",
       "  margin-bottom: 4px;\n",
       "  border-bottom: solid 1px var(--xr-border-color);\n",
       "}\n",
       "\n",
       ".xr-header > div,\n",
       ".xr-header > ul {\n",
       "  display: inline;\n",
       "  margin-top: 0;\n",
       "  margin-bottom: 0;\n",
       "}\n",
       "\n",
       ".xr-obj-type,\n",
       ".xr-array-name {\n",
       "  margin-left: 2px;\n",
       "  margin-right: 10px;\n",
       "}\n",
       "\n",
       ".xr-obj-type {\n",
       "  color: var(--xr-font-color2);\n",
       "}\n",
       "\n",
       ".xr-sections {\n",
       "  padding-left: 0 !important;\n",
       "  display: grid;\n",
       "  grid-template-columns: 150px auto auto 1fr 20px 20px;\n",
       "}\n",
       "\n",
       ".xr-section-item {\n",
       "  display: contents;\n",
       "}\n",
       "\n",
       ".xr-section-item input {\n",
       "  display: none;\n",
       "}\n",
       "\n",
       ".xr-section-item input + label {\n",
       "  color: var(--xr-disabled-color);\n",
       "}\n",
       "\n",
       ".xr-section-item input:enabled + label {\n",
       "  cursor: pointer;\n",
       "  color: var(--xr-font-color2);\n",
       "}\n",
       "\n",
       ".xr-section-item input:enabled + label:hover {\n",
       "  color: var(--xr-font-color0);\n",
       "}\n",
       "\n",
       ".xr-section-summary {\n",
       "  grid-column: 1;\n",
       "  color: var(--xr-font-color2);\n",
       "  font-weight: 500;\n",
       "}\n",
       "\n",
       ".xr-section-summary > span {\n",
       "  display: inline-block;\n",
       "  padding-left: 0.5em;\n",
       "}\n",
       "\n",
       ".xr-section-summary-in:disabled + label {\n",
       "  color: var(--xr-font-color2);\n",
       "}\n",
       "\n",
       ".xr-section-summary-in + label:before {\n",
       "  display: inline-block;\n",
       "  content: '►';\n",
       "  font-size: 11px;\n",
       "  width: 15px;\n",
       "  text-align: center;\n",
       "}\n",
       "\n",
       ".xr-section-summary-in:disabled + label:before {\n",
       "  color: var(--xr-disabled-color);\n",
       "}\n",
       "\n",
       ".xr-section-summary-in:checked + label:before {\n",
       "  content: '▼';\n",
       "}\n",
       "\n",
       ".xr-section-summary-in:checked + label > span {\n",
       "  display: none;\n",
       "}\n",
       "\n",
       ".xr-section-summary,\n",
       ".xr-section-inline-details {\n",
       "  padding-top: 4px;\n",
       "  padding-bottom: 4px;\n",
       "}\n",
       "\n",
       ".xr-section-inline-details {\n",
       "  grid-column: 2 / -1;\n",
       "}\n",
       "\n",
       ".xr-section-details {\n",
       "  display: none;\n",
       "  grid-column: 1 / -1;\n",
       "  margin-bottom: 5px;\n",
       "}\n",
       "\n",
       ".xr-section-summary-in:checked ~ .xr-section-details {\n",
       "  display: contents;\n",
       "}\n",
       "\n",
       ".xr-array-wrap {\n",
       "  grid-column: 1 / -1;\n",
       "  display: grid;\n",
       "  grid-template-columns: 20px auto;\n",
       "}\n",
       "\n",
       ".xr-array-wrap > label {\n",
       "  grid-column: 1;\n",
       "  vertical-align: top;\n",
       "}\n",
       "\n",
       ".xr-preview {\n",
       "  color: var(--xr-font-color3);\n",
       "}\n",
       "\n",
       ".xr-array-preview,\n",
       ".xr-array-data {\n",
       "  padding: 0 5px !important;\n",
       "  grid-column: 2;\n",
       "}\n",
       "\n",
       ".xr-array-data,\n",
       ".xr-array-in:checked ~ .xr-array-preview {\n",
       "  display: none;\n",
       "}\n",
       "\n",
       ".xr-array-in:checked ~ .xr-array-data,\n",
       ".xr-array-preview {\n",
       "  display: inline-block;\n",
       "}\n",
       "\n",
       ".xr-dim-list {\n",
       "  display: inline-block !important;\n",
       "  list-style: none;\n",
       "  padding: 0 !important;\n",
       "  margin: 0;\n",
       "}\n",
       "\n",
       ".xr-dim-list li {\n",
       "  display: inline-block;\n",
       "  padding: 0;\n",
       "  margin: 0;\n",
       "}\n",
       "\n",
       ".xr-dim-list:before {\n",
       "  content: '(';\n",
       "}\n",
       "\n",
       ".xr-dim-list:after {\n",
       "  content: ')';\n",
       "}\n",
       "\n",
       ".xr-dim-list li:not(:last-child):after {\n",
       "  content: ',';\n",
       "  padding-right: 5px;\n",
       "}\n",
       "\n",
       ".xr-has-index {\n",
       "  font-weight: bold;\n",
       "}\n",
       "\n",
       ".xr-var-list,\n",
       ".xr-var-item {\n",
       "  display: contents;\n",
       "}\n",
       "\n",
       ".xr-var-item > div,\n",
       ".xr-var-item label,\n",
       ".xr-var-item > .xr-var-name span {\n",
       "  background-color: var(--xr-background-color-row-even);\n",
       "  margin-bottom: 0;\n",
       "}\n",
       "\n",
       ".xr-var-item > .xr-var-name:hover span {\n",
       "  padding-right: 5px;\n",
       "}\n",
       "\n",
       ".xr-var-list > li:nth-child(odd) > div,\n",
       ".xr-var-list > li:nth-child(odd) > label,\n",
       ".xr-var-list > li:nth-child(odd) > .xr-var-name span {\n",
       "  background-color: var(--xr-background-color-row-odd);\n",
       "}\n",
       "\n",
       ".xr-var-name {\n",
       "  grid-column: 1;\n",
       "}\n",
       "\n",
       ".xr-var-dims {\n",
       "  grid-column: 2;\n",
       "}\n",
       "\n",
       ".xr-var-dtype {\n",
       "  grid-column: 3;\n",
       "  text-align: right;\n",
       "  color: var(--xr-font-color2);\n",
       "}\n",
       "\n",
       ".xr-var-preview {\n",
       "  grid-column: 4;\n",
       "}\n",
       "\n",
       ".xr-index-preview {\n",
       "  grid-column: 2 / 5;\n",
       "  color: var(--xr-font-color2);\n",
       "}\n",
       "\n",
       ".xr-var-name,\n",
       ".xr-var-dims,\n",
       ".xr-var-dtype,\n",
       ".xr-preview,\n",
       ".xr-attrs dt {\n",
       "  white-space: nowrap;\n",
       "  overflow: hidden;\n",
       "  text-overflow: ellipsis;\n",
       "  padding-right: 10px;\n",
       "}\n",
       "\n",
       ".xr-var-name:hover,\n",
       ".xr-var-dims:hover,\n",
       ".xr-var-dtype:hover,\n",
       ".xr-attrs dt:hover {\n",
       "  overflow: visible;\n",
       "  width: auto;\n",
       "  z-index: 1;\n",
       "}\n",
       "\n",
       ".xr-var-attrs,\n",
       ".xr-var-data,\n",
       ".xr-index-data {\n",
       "  display: none;\n",
       "  background-color: var(--xr-background-color) !important;\n",
       "  padding-bottom: 5px !important;\n",
       "}\n",
       "\n",
       ".xr-var-attrs-in:checked ~ .xr-var-attrs,\n",
       ".xr-var-data-in:checked ~ .xr-var-data,\n",
       ".xr-index-data-in:checked ~ .xr-index-data {\n",
       "  display: block;\n",
       "}\n",
       "\n",
       ".xr-var-data > table {\n",
       "  float: right;\n",
       "}\n",
       "\n",
       ".xr-var-name span,\n",
       ".xr-var-data,\n",
       ".xr-index-name div,\n",
       ".xr-index-data,\n",
       ".xr-attrs {\n",
       "  padding-left: 25px !important;\n",
       "}\n",
       "\n",
       ".xr-attrs,\n",
       ".xr-var-attrs,\n",
       ".xr-var-data,\n",
       ".xr-index-data {\n",
       "  grid-column: 1 / -1;\n",
       "}\n",
       "\n",
       "dl.xr-attrs {\n",
       "  padding: 0;\n",
       "  margin: 0;\n",
       "  display: grid;\n",
       "  grid-template-columns: 125px auto;\n",
       "}\n",
       "\n",
       ".xr-attrs dt,\n",
       ".xr-attrs dd {\n",
       "  padding: 0;\n",
       "  margin: 0;\n",
       "  float: left;\n",
       "  padding-right: 10px;\n",
       "  width: auto;\n",
       "}\n",
       "\n",
       ".xr-attrs dt {\n",
       "  font-weight: normal;\n",
       "  grid-column: 1;\n",
       "}\n",
       "\n",
       ".xr-attrs dt:hover span {\n",
       "  display: inline-block;\n",
       "  background: var(--xr-background-color);\n",
       "  padding-right: 10px;\n",
       "}\n",
       "\n",
       ".xr-attrs dd {\n",
       "  grid-column: 2;\n",
       "  white-space: pre-wrap;\n",
       "  word-break: break-all;\n",
       "}\n",
       "\n",
       ".xr-icon-database,\n",
       ".xr-icon-file-text2,\n",
       ".xr-no-icon {\n",
       "  display: inline-block;\n",
       "  vertical-align: middle;\n",
       "  width: 1em;\n",
       "  height: 1.5em !important;\n",
       "  stroke-width: 0;\n",
       "  stroke: currentColor;\n",
       "  fill: currentColor;\n",
       "}\n",
       "</style><pre class='xr-text-repr-fallback'>&lt;TimeSeries (DataArray) (date: 10, component: 1, sample: 1)&gt;\n",
       "array([[[0.]],\n",
       "\n",
       "       [[2.]],\n",
       "\n",
       "       [[3.]],\n",
       "\n",
       "       [[3.]],\n",
       "\n",
       "       [[5.]],\n",
       "\n",
       "       [[2.]],\n",
       "\n",
       "       [[0.]],\n",
       "\n",
       "       [[2.]],\n",
       "\n",
       "       [[2.]],\n",
       "\n",
       "       [[2.]]])\n",
       "Coordinates:\n",
       "  * date       (date) datetime64[ns] 2013-01-01 2013-01-02 ... 2013-01-10\n",
       "  * component  (component) object &#x27;sales&#x27;\n",
       "Dimensions without coordinates: sample\n",
       "Attributes:\n",
       "    static_covariates:  static_covariates store_nbr      family   city      s...\n",
       "    hierarchy:          None</pre><div class='xr-wrap' style='display:none'><div class='xr-header'><div class='xr-obj-type'>TimeSeries (DataArray)</div><div class='xr-array-name'></div><ul class='xr-dim-list'><li><span class='xr-has-index'>date</span>: 10</li><li><span class='xr-has-index'>component</span>: 1</li><li><span>sample</span>: 1</li></ul></div><ul class='xr-sections'><li class='xr-section-item'><div class='xr-array-wrap'><input id='section-28709b07-0d7e-4436-b894-1099812bbca9' class='xr-array-in' type='checkbox' checked><label for='section-28709b07-0d7e-4436-b894-1099812bbca9' title='Show/hide data repr'><svg class='icon xr-icon-database'><use xlink:href='#icon-database'></use></svg></label><div class='xr-array-preview xr-preview'><span>0.0 2.0 3.0 3.0 5.0 2.0 0.0 2.0 2.0 2.0</span></div><div class='xr-array-data'><pre>array([[[0.]],\n",
       "\n",
       "       [[2.]],\n",
       "\n",
       "       [[3.]],\n",
       "\n",
       "       [[3.]],\n",
       "\n",
       "       [[5.]],\n",
       "\n",
       "       [[2.]],\n",
       "\n",
       "       [[0.]],\n",
       "\n",
       "       [[2.]],\n",
       "\n",
       "       [[2.]],\n",
       "\n",
       "       [[2.]]])</pre></div></div></li><li class='xr-section-item'><input id='section-fa9b6d8c-9dd4-45f2-ac17-1627077338ad' class='xr-section-summary-in' type='checkbox'  checked><label for='section-fa9b6d8c-9dd4-45f2-ac17-1627077338ad' class='xr-section-summary' >Coordinates: <span>(2)</span></label><div class='xr-section-inline-details'></div><div class='xr-section-details'><ul class='xr-var-list'><li class='xr-var-item'><div class='xr-var-name'><span class='xr-has-index'>date</span></div><div class='xr-var-dims'>(date)</div><div class='xr-var-dtype'>datetime64[ns]</div><div class='xr-var-preview xr-preview'>2013-01-01 ... 2013-01-10</div><input id='attrs-d2d53a34-a28c-4a59-846a-5b22c681df65' class='xr-var-attrs-in' type='checkbox' disabled><label for='attrs-d2d53a34-a28c-4a59-846a-5b22c681df65' title='Show/Hide attributes'><svg class='icon xr-icon-file-text2'><use xlink:href='#icon-file-text2'></use></svg></label><input id='data-f5e37157-b658-426a-847a-6a34a6c4632c' class='xr-var-data-in' type='checkbox'><label for='data-f5e37157-b658-426a-847a-6a34a6c4632c' title='Show/Hide data repr'><svg class='icon xr-icon-database'><use xlink:href='#icon-database'></use></svg></label><div class='xr-var-attrs'><dl class='xr-attrs'></dl></div><div class='xr-var-data'><pre>array([&#x27;2013-01-01T00:00:00.000000000&#x27;, &#x27;2013-01-02T00:00:00.000000000&#x27;,\n",
       "       &#x27;2013-01-03T00:00:00.000000000&#x27;, &#x27;2013-01-04T00:00:00.000000000&#x27;,\n",
       "       &#x27;2013-01-05T00:00:00.000000000&#x27;, &#x27;2013-01-06T00:00:00.000000000&#x27;,\n",
       "       &#x27;2013-01-07T00:00:00.000000000&#x27;, &#x27;2013-01-08T00:00:00.000000000&#x27;,\n",
       "       &#x27;2013-01-09T00:00:00.000000000&#x27;, &#x27;2013-01-10T00:00:00.000000000&#x27;],\n",
       "      dtype=&#x27;datetime64[ns]&#x27;)</pre></div></li><li class='xr-var-item'><div class='xr-var-name'><span class='xr-has-index'>component</span></div><div class='xr-var-dims'>(component)</div><div class='xr-var-dtype'>object</div><div class='xr-var-preview xr-preview'>&#x27;sales&#x27;</div><input id='attrs-da0ca24e-fe81-4986-87b5-b9d414c80d7d' class='xr-var-attrs-in' type='checkbox' disabled><label for='attrs-da0ca24e-fe81-4986-87b5-b9d414c80d7d' title='Show/Hide attributes'><svg class='icon xr-icon-file-text2'><use xlink:href='#icon-file-text2'></use></svg></label><input id='data-956177d1-b5fb-41ea-9471-3716b34d2373' class='xr-var-data-in' type='checkbox'><label for='data-956177d1-b5fb-41ea-9471-3716b34d2373' title='Show/Hide data repr'><svg class='icon xr-icon-database'><use xlink:href='#icon-database'></use></svg></label><div class='xr-var-attrs'><dl class='xr-attrs'></dl></div><div class='xr-var-data'><pre>array([&#x27;sales&#x27;], dtype=object)</pre></div></li></ul></div></li><li class='xr-section-item'><input id='section-ef3bd725-ceca-4a9c-9fc3-0feddf6d4f14' class='xr-section-summary-in' type='checkbox'  ><label for='section-ef3bd725-ceca-4a9c-9fc3-0feddf6d4f14' class='xr-section-summary' >Indexes: <span>(2)</span></label><div class='xr-section-inline-details'></div><div class='xr-section-details'><ul class='xr-var-list'><li class='xr-var-item'><div class='xr-index-name'><div>date</div></div><div class='xr-index-preview'>PandasIndex</div><div></div><input id='index-09d3cf7e-b31c-4fff-8ed1-15a9af0241c3' class='xr-index-data-in' type='checkbox'/><label for='index-09d3cf7e-b31c-4fff-8ed1-15a9af0241c3' title='Show/Hide index repr'><svg class='icon xr-icon-database'><use xlink:href='#icon-database'></use></svg></label><div class='xr-index-data'><pre>PandasIndex(DatetimeIndex([&#x27;2013-01-01&#x27;, &#x27;2013-01-02&#x27;, &#x27;2013-01-03&#x27;, &#x27;2013-01-04&#x27;,\n",
       "               &#x27;2013-01-05&#x27;, &#x27;2013-01-06&#x27;, &#x27;2013-01-07&#x27;, &#x27;2013-01-08&#x27;,\n",
       "               &#x27;2013-01-09&#x27;, &#x27;2013-01-10&#x27;],\n",
       "              dtype=&#x27;datetime64[ns]&#x27;, name=&#x27;date&#x27;, freq=&#x27;D&#x27;))</pre></div></li><li class='xr-var-item'><div class='xr-index-name'><div>component</div></div><div class='xr-index-preview'>PandasIndex</div><div></div><input id='index-a9f3c311-7623-404f-af21-13ded96b8e0d' class='xr-index-data-in' type='checkbox'/><label for='index-a9f3c311-7623-404f-af21-13ded96b8e0d' title='Show/Hide index repr'><svg class='icon xr-icon-database'><use xlink:href='#icon-database'></use></svg></label><div class='xr-index-data'><pre>PandasIndex(Index([&#x27;sales&#x27;], dtype=&#x27;object&#x27;, name=&#x27;component&#x27;))</pre></div></li></ul></div></li><li class='xr-section-item'><input id='section-10548391-3aae-4614-a5d6-91310754005d' class='xr-section-summary-in' type='checkbox'  checked><label for='section-10548391-3aae-4614-a5d6-91310754005d' class='xr-section-summary' >Attributes: <span>(2)</span></label><div class='xr-section-inline-details'></div><div class='xr-section-details'><dl class='xr-attrs'><dt><span>static_covariates :</span></dt><dd>static_covariates store_nbr      family   city      state type cluster\n",
       "component                                                             \n",
       "sales                     1  AUTOMOTIVE  Quito  Pichincha    D      13</dd><dt><span>hierarchy :</span></dt><dd>None</dd></dl></div></li></ul></div></div>"
      ],
      "text/plain": [
       "<TimeSeries (DataArray) (date: 10, component: 1, sample: 1)>\n",
       "array([[[0.]],\n",
       "\n",
       "       [[2.]],\n",
       "\n",
       "       [[3.]],\n",
       "\n",
       "       [[3.]],\n",
       "\n",
       "       [[5.]],\n",
       "\n",
       "       [[2.]],\n",
       "\n",
       "       [[0.]],\n",
       "\n",
       "       [[2.]],\n",
       "\n",
       "       [[2.]],\n",
       "\n",
       "       [[2.]]])\n",
       "Coordinates:\n",
       "  * date       (date) datetime64[ns] 2013-01-01 2013-01-02 ... 2013-01-10\n",
       "  * component  (component) object 'sales'\n",
       "Dimensions without coordinates: sample\n",
       "Attributes:\n",
       "    static_covariates:  static_covariates store_nbr      family   city      s...\n",
       "    hierarchy:          None"
      ]
     },
     "execution_count": 21,
     "metadata": {},
     "output_type": "execute_result"
    }
   ],
   "source": [
    "family_TS_dict['AUTOMOTIVE'][0][:10]"
   ]
  },
  {
   "cell_type": "markdown",
   "id": "639e8bd2",
   "metadata": {
    "papermill": {
     "duration": 0.02785,
     "end_time": "2023-05-22T09:07:03.584166",
     "exception": false,
     "start_time": "2023-05-22T09:07:03.556316",
     "status": "completed"
    },
    "tags": []
   },
   "source": [
    "### Normalizing time series\n",
    "Let's create a pipeline to automate our actions.\n",
    "We will use the following data preprocessing:\n",
    "- Filling missing values.\n",
    "- Encoding of static covariates. In my example, this is Ordinal Encoding. You can use any other one from the sklearn. It must have methods: fit(), transform() , inverse_transform().\n",
    "- Target variable transformation. log1p significantly improves prediction accuracy.\n",
    "- Scaler. Default is Min Max Scaler."
   ]
  },
  {
   "cell_type": "code",
   "execution_count": 22,
   "id": "4b44250d",
   "metadata": {
    "execution": {
     "iopub.execute_input": "2023-05-22T09:07:03.640691Z",
     "iopub.status.busy": "2023-05-22T09:07:03.640251Z",
     "iopub.status.idle": "2023-05-22T09:07:04.088422Z",
     "shell.execute_reply": "2023-05-22T09:07:04.087242Z"
    },
    "papermill": {
     "duration": 0.479463,
     "end_time": "2023-05-22T09:07:04.091056",
     "exception": false,
     "start_time": "2023-05-22T09:07:03.611593",
     "status": "completed"
    },
    "tags": []
   },
   "outputs": [],
   "source": [
    "from darts.dataprocessing import Pipeline\n",
    "from darts.dataprocessing.transformers import Scaler, StaticCovariatesTransformer, MissingValuesFiller, InvertibleMapper\n",
    "from sklearn.preprocessing import OrdinalEncoder"
   ]
  },
  {
   "cell_type": "code",
   "execution_count": 23,
   "id": "bb3ab984",
   "metadata": {
    "_kg_hide-output": true,
    "execution": {
     "iopub.execute_input": "2023-05-22T09:07:04.148659Z",
     "iopub.status.busy": "2023-05-22T09:07:04.147763Z",
     "iopub.status.idle": "2023-05-22T09:07:53.273580Z",
     "shell.execute_reply": "2023-05-22T09:07:53.272453Z"
    },
    "papermill": {
     "duration": 49.157679,
     "end_time": "2023-05-22T09:07:53.276323",
     "exception": false,
     "start_time": "2023-05-22T09:07:04.118644",
     "status": "completed"
    },
    "tags": []
   },
   "outputs": [
    {
     "name": "stderr",
     "output_type": "stream",
     "text": [
      "/opt/conda/lib/python3.10/site-packages/scipy/__init__.py:146: UserWarning: A NumPy version >=1.16.5 and <1.23.0 is required for this version of SciPy (detected version 1.23.5\n",
      "  warnings.warn(f\"A NumPy version >={np_minversion} and <{np_maxversion}\"\n",
      "/opt/conda/lib/python3.10/site-packages/scipy/__init__.py:146: UserWarning: A NumPy version >=1.16.5 and <1.23.0 is required for this version of SciPy (detected version 1.23.5\n",
      "  warnings.warn(f\"A NumPy version >={np_minversion} and <{np_maxversion}\"\n",
      "/opt/conda/lib/python3.10/site-packages/scipy/__init__.py:146: UserWarning: A NumPy version >=1.16.5 and <1.23.0 is required for this version of SciPy (detected version 1.23.5\n",
      "  warnings.warn(f\"A NumPy version >={np_minversion} and <{np_maxversion}\"\n",
      "/opt/conda/lib/python3.10/site-packages/scipy/__init__.py:146: UserWarning: A NumPy version >=1.16.5 and <1.23.0 is required for this version of SciPy (detected version 1.23.5\n",
      "  warnings.warn(f\"A NumPy version >={np_minversion} and <{np_maxversion}\"\n"
     ]
    }
   ],
   "source": [
    "family_pipeline_dict = {}\n",
    "family_TS_transformed_dict = {}\n",
    "\n",
    "for key in family_TS_dict:\n",
    "    train_filler = MissingValuesFiller(verbose=False, n_jobs=-1, name=\"Fill NAs\")\n",
    "    static_cov_transformer = StaticCovariatesTransformer(verbose=False, transformer_cat = OrdinalEncoder(), name=\"Encoder\")\n",
    "    log_transformer = InvertibleMapper(np.log1p, np.expm1, verbose=False, n_jobs=-1, name=\"Log-Transform\")   \n",
    "    train_scaler = Scaler(verbose=False, n_jobs=-1, name=\"Scaling\")\n",
    "\n",
    "    train_pipeline = Pipeline([train_filler,\n",
    "                             static_cov_transformer,\n",
    "                             log_transformer,\n",
    "                             train_scaler])\n",
    "\n",
    "    training_transformed = train_pipeline.fit_transform(family_TS_dict[key])\n",
    "    family_pipeline_dict[key] = train_pipeline\n",
    "    family_TS_transformed_dict[key] = training_transformed"
   ]
  },
  {
   "cell_type": "code",
   "execution_count": 24,
   "id": "28c70303",
   "metadata": {
    "execution": {
     "iopub.execute_input": "2023-05-22T09:07:53.335686Z",
     "iopub.status.busy": "2023-05-22T09:07:53.335199Z",
     "iopub.status.idle": "2023-05-22T09:07:53.369402Z",
     "shell.execute_reply": "2023-05-22T09:07:53.366925Z"
    },
    "papermill": {
     "duration": 0.068731,
     "end_time": "2023-05-22T09:07:53.373308",
     "exception": false,
     "start_time": "2023-05-22T09:07:53.304577",
     "status": "completed"
    },
    "tags": []
   },
   "outputs": [
    {
     "data": {
      "text/html": [
       "<div><svg style=\"position: absolute; width: 0; height: 0; overflow: hidden\">\n",
       "<defs>\n",
       "<symbol id=\"icon-database\" viewBox=\"0 0 32 32\">\n",
       "<path d=\"M16 0c-8.837 0-16 2.239-16 5v4c0 2.761 7.163 5 16 5s16-2.239 16-5v-4c0-2.761-7.163-5-16-5z\"></path>\n",
       "<path d=\"M16 17c-8.837 0-16-2.239-16-5v6c0 2.761 7.163 5 16 5s16-2.239 16-5v-6c0 2.761-7.163 5-16 5z\"></path>\n",
       "<path d=\"M16 26c-8.837 0-16-2.239-16-5v6c0 2.761 7.163 5 16 5s16-2.239 16-5v-6c0 2.761-7.163 5-16 5z\"></path>\n",
       "</symbol>\n",
       "<symbol id=\"icon-file-text2\" viewBox=\"0 0 32 32\">\n",
       "<path d=\"M28.681 7.159c-0.694-0.947-1.662-2.053-2.724-3.116s-2.169-2.030-3.116-2.724c-1.612-1.182-2.393-1.319-2.841-1.319h-15.5c-1.378 0-2.5 1.121-2.5 2.5v27c0 1.378 1.122 2.5 2.5 2.5h23c1.378 0 2.5-1.122 2.5-2.5v-19.5c0-0.448-0.137-1.23-1.319-2.841zM24.543 5.457c0.959 0.959 1.712 1.825 2.268 2.543h-4.811v-4.811c0.718 0.556 1.584 1.309 2.543 2.268zM28 29.5c0 0.271-0.229 0.5-0.5 0.5h-23c-0.271 0-0.5-0.229-0.5-0.5v-27c0-0.271 0.229-0.5 0.5-0.5 0 0 15.499-0 15.5 0v7c0 0.552 0.448 1 1 1h7v19.5z\"></path>\n",
       "<path d=\"M23 26h-14c-0.552 0-1-0.448-1-1s0.448-1 1-1h14c0.552 0 1 0.448 1 1s-0.448 1-1 1z\"></path>\n",
       "<path d=\"M23 22h-14c-0.552 0-1-0.448-1-1s0.448-1 1-1h14c0.552 0 1 0.448 1 1s-0.448 1-1 1z\"></path>\n",
       "<path d=\"M23 18h-14c-0.552 0-1-0.448-1-1s0.448-1 1-1h14c0.552 0 1 0.448 1 1s-0.448 1-1 1z\"></path>\n",
       "</symbol>\n",
       "</defs>\n",
       "</svg>\n",
       "<style>/* CSS stylesheet for displaying xarray objects in jupyterlab.\n",
       " *\n",
       " */\n",
       "\n",
       ":root {\n",
       "  --xr-font-color0: var(--jp-content-font-color0, rgba(0, 0, 0, 1));\n",
       "  --xr-font-color2: var(--jp-content-font-color2, rgba(0, 0, 0, 0.54));\n",
       "  --xr-font-color3: var(--jp-content-font-color3, rgba(0, 0, 0, 0.38));\n",
       "  --xr-border-color: var(--jp-border-color2, #e0e0e0);\n",
       "  --xr-disabled-color: var(--jp-layout-color3, #bdbdbd);\n",
       "  --xr-background-color: var(--jp-layout-color0, white);\n",
       "  --xr-background-color-row-even: var(--jp-layout-color1, white);\n",
       "  --xr-background-color-row-odd: var(--jp-layout-color2, #eeeeee);\n",
       "}\n",
       "\n",
       "html[theme=dark],\n",
       "body[data-theme=dark],\n",
       "body.vscode-dark {\n",
       "  --xr-font-color0: rgba(255, 255, 255, 1);\n",
       "  --xr-font-color2: rgba(255, 255, 255, 0.54);\n",
       "  --xr-font-color3: rgba(255, 255, 255, 0.38);\n",
       "  --xr-border-color: #1F1F1F;\n",
       "  --xr-disabled-color: #515151;\n",
       "  --xr-background-color: #111111;\n",
       "  --xr-background-color-row-even: #111111;\n",
       "  --xr-background-color-row-odd: #313131;\n",
       "}\n",
       "\n",
       ".xr-wrap {\n",
       "  display: block !important;\n",
       "  min-width: 300px;\n",
       "  max-width: 700px;\n",
       "}\n",
       "\n",
       ".xr-text-repr-fallback {\n",
       "  /* fallback to plain text repr when CSS is not injected (untrusted notebook) */\n",
       "  display: none;\n",
       "}\n",
       "\n",
       ".xr-header {\n",
       "  padding-top: 6px;\n",
       "  padding-bottom: 6px;\n",
       "  margin-bottom: 4px;\n",
       "  border-bottom: solid 1px var(--xr-border-color);\n",
       "}\n",
       "\n",
       ".xr-header > div,\n",
       ".xr-header > ul {\n",
       "  display: inline;\n",
       "  margin-top: 0;\n",
       "  margin-bottom: 0;\n",
       "}\n",
       "\n",
       ".xr-obj-type,\n",
       ".xr-array-name {\n",
       "  margin-left: 2px;\n",
       "  margin-right: 10px;\n",
       "}\n",
       "\n",
       ".xr-obj-type {\n",
       "  color: var(--xr-font-color2);\n",
       "}\n",
       "\n",
       ".xr-sections {\n",
       "  padding-left: 0 !important;\n",
       "  display: grid;\n",
       "  grid-template-columns: 150px auto auto 1fr 20px 20px;\n",
       "}\n",
       "\n",
       ".xr-section-item {\n",
       "  display: contents;\n",
       "}\n",
       "\n",
       ".xr-section-item input {\n",
       "  display: none;\n",
       "}\n",
       "\n",
       ".xr-section-item input + label {\n",
       "  color: var(--xr-disabled-color);\n",
       "}\n",
       "\n",
       ".xr-section-item input:enabled + label {\n",
       "  cursor: pointer;\n",
       "  color: var(--xr-font-color2);\n",
       "}\n",
       "\n",
       ".xr-section-item input:enabled + label:hover {\n",
       "  color: var(--xr-font-color0);\n",
       "}\n",
       "\n",
       ".xr-section-summary {\n",
       "  grid-column: 1;\n",
       "  color: var(--xr-font-color2);\n",
       "  font-weight: 500;\n",
       "}\n",
       "\n",
       ".xr-section-summary > span {\n",
       "  display: inline-block;\n",
       "  padding-left: 0.5em;\n",
       "}\n",
       "\n",
       ".xr-section-summary-in:disabled + label {\n",
       "  color: var(--xr-font-color2);\n",
       "}\n",
       "\n",
       ".xr-section-summary-in + label:before {\n",
       "  display: inline-block;\n",
       "  content: '►';\n",
       "  font-size: 11px;\n",
       "  width: 15px;\n",
       "  text-align: center;\n",
       "}\n",
       "\n",
       ".xr-section-summary-in:disabled + label:before {\n",
       "  color: var(--xr-disabled-color);\n",
       "}\n",
       "\n",
       ".xr-section-summary-in:checked + label:before {\n",
       "  content: '▼';\n",
       "}\n",
       "\n",
       ".xr-section-summary-in:checked + label > span {\n",
       "  display: none;\n",
       "}\n",
       "\n",
       ".xr-section-summary,\n",
       ".xr-section-inline-details {\n",
       "  padding-top: 4px;\n",
       "  padding-bottom: 4px;\n",
       "}\n",
       "\n",
       ".xr-section-inline-details {\n",
       "  grid-column: 2 / -1;\n",
       "}\n",
       "\n",
       ".xr-section-details {\n",
       "  display: none;\n",
       "  grid-column: 1 / -1;\n",
       "  margin-bottom: 5px;\n",
       "}\n",
       "\n",
       ".xr-section-summary-in:checked ~ .xr-section-details {\n",
       "  display: contents;\n",
       "}\n",
       "\n",
       ".xr-array-wrap {\n",
       "  grid-column: 1 / -1;\n",
       "  display: grid;\n",
       "  grid-template-columns: 20px auto;\n",
       "}\n",
       "\n",
       ".xr-array-wrap > label {\n",
       "  grid-column: 1;\n",
       "  vertical-align: top;\n",
       "}\n",
       "\n",
       ".xr-preview {\n",
       "  color: var(--xr-font-color3);\n",
       "}\n",
       "\n",
       ".xr-array-preview,\n",
       ".xr-array-data {\n",
       "  padding: 0 5px !important;\n",
       "  grid-column: 2;\n",
       "}\n",
       "\n",
       ".xr-array-data,\n",
       ".xr-array-in:checked ~ .xr-array-preview {\n",
       "  display: none;\n",
       "}\n",
       "\n",
       ".xr-array-in:checked ~ .xr-array-data,\n",
       ".xr-array-preview {\n",
       "  display: inline-block;\n",
       "}\n",
       "\n",
       ".xr-dim-list {\n",
       "  display: inline-block !important;\n",
       "  list-style: none;\n",
       "  padding: 0 !important;\n",
       "  margin: 0;\n",
       "}\n",
       "\n",
       ".xr-dim-list li {\n",
       "  display: inline-block;\n",
       "  padding: 0;\n",
       "  margin: 0;\n",
       "}\n",
       "\n",
       ".xr-dim-list:before {\n",
       "  content: '(';\n",
       "}\n",
       "\n",
       ".xr-dim-list:after {\n",
       "  content: ')';\n",
       "}\n",
       "\n",
       ".xr-dim-list li:not(:last-child):after {\n",
       "  content: ',';\n",
       "  padding-right: 5px;\n",
       "}\n",
       "\n",
       ".xr-has-index {\n",
       "  font-weight: bold;\n",
       "}\n",
       "\n",
       ".xr-var-list,\n",
       ".xr-var-item {\n",
       "  display: contents;\n",
       "}\n",
       "\n",
       ".xr-var-item > div,\n",
       ".xr-var-item label,\n",
       ".xr-var-item > .xr-var-name span {\n",
       "  background-color: var(--xr-background-color-row-even);\n",
       "  margin-bottom: 0;\n",
       "}\n",
       "\n",
       ".xr-var-item > .xr-var-name:hover span {\n",
       "  padding-right: 5px;\n",
       "}\n",
       "\n",
       ".xr-var-list > li:nth-child(odd) > div,\n",
       ".xr-var-list > li:nth-child(odd) > label,\n",
       ".xr-var-list > li:nth-child(odd) > .xr-var-name span {\n",
       "  background-color: var(--xr-background-color-row-odd);\n",
       "}\n",
       "\n",
       ".xr-var-name {\n",
       "  grid-column: 1;\n",
       "}\n",
       "\n",
       ".xr-var-dims {\n",
       "  grid-column: 2;\n",
       "}\n",
       "\n",
       ".xr-var-dtype {\n",
       "  grid-column: 3;\n",
       "  text-align: right;\n",
       "  color: var(--xr-font-color2);\n",
       "}\n",
       "\n",
       ".xr-var-preview {\n",
       "  grid-column: 4;\n",
       "}\n",
       "\n",
       ".xr-index-preview {\n",
       "  grid-column: 2 / 5;\n",
       "  color: var(--xr-font-color2);\n",
       "}\n",
       "\n",
       ".xr-var-name,\n",
       ".xr-var-dims,\n",
       ".xr-var-dtype,\n",
       ".xr-preview,\n",
       ".xr-attrs dt {\n",
       "  white-space: nowrap;\n",
       "  overflow: hidden;\n",
       "  text-overflow: ellipsis;\n",
       "  padding-right: 10px;\n",
       "}\n",
       "\n",
       ".xr-var-name:hover,\n",
       ".xr-var-dims:hover,\n",
       ".xr-var-dtype:hover,\n",
       ".xr-attrs dt:hover {\n",
       "  overflow: visible;\n",
       "  width: auto;\n",
       "  z-index: 1;\n",
       "}\n",
       "\n",
       ".xr-var-attrs,\n",
       ".xr-var-data,\n",
       ".xr-index-data {\n",
       "  display: none;\n",
       "  background-color: var(--xr-background-color) !important;\n",
       "  padding-bottom: 5px !important;\n",
       "}\n",
       "\n",
       ".xr-var-attrs-in:checked ~ .xr-var-attrs,\n",
       ".xr-var-data-in:checked ~ .xr-var-data,\n",
       ".xr-index-data-in:checked ~ .xr-index-data {\n",
       "  display: block;\n",
       "}\n",
       "\n",
       ".xr-var-data > table {\n",
       "  float: right;\n",
       "}\n",
       "\n",
       ".xr-var-name span,\n",
       ".xr-var-data,\n",
       ".xr-index-name div,\n",
       ".xr-index-data,\n",
       ".xr-attrs {\n",
       "  padding-left: 25px !important;\n",
       "}\n",
       "\n",
       ".xr-attrs,\n",
       ".xr-var-attrs,\n",
       ".xr-var-data,\n",
       ".xr-index-data {\n",
       "  grid-column: 1 / -1;\n",
       "}\n",
       "\n",
       "dl.xr-attrs {\n",
       "  padding: 0;\n",
       "  margin: 0;\n",
       "  display: grid;\n",
       "  grid-template-columns: 125px auto;\n",
       "}\n",
       "\n",
       ".xr-attrs dt,\n",
       ".xr-attrs dd {\n",
       "  padding: 0;\n",
       "  margin: 0;\n",
       "  float: left;\n",
       "  padding-right: 10px;\n",
       "  width: auto;\n",
       "}\n",
       "\n",
       ".xr-attrs dt {\n",
       "  font-weight: normal;\n",
       "  grid-column: 1;\n",
       "}\n",
       "\n",
       ".xr-attrs dt:hover span {\n",
       "  display: inline-block;\n",
       "  background: var(--xr-background-color);\n",
       "  padding-right: 10px;\n",
       "}\n",
       "\n",
       ".xr-attrs dd {\n",
       "  grid-column: 2;\n",
       "  white-space: pre-wrap;\n",
       "  word-break: break-all;\n",
       "}\n",
       "\n",
       ".xr-icon-database,\n",
       ".xr-icon-file-text2,\n",
       ".xr-no-icon {\n",
       "  display: inline-block;\n",
       "  vertical-align: middle;\n",
       "  width: 1em;\n",
       "  height: 1.5em !important;\n",
       "  stroke-width: 0;\n",
       "  stroke: currentColor;\n",
       "  fill: currentColor;\n",
       "}\n",
       "</style><pre class='xr-text-repr-fallback'>&lt;TimeSeries (DataArray) (date: 10, component: 1, sample: 1)&gt;\n",
       "array([[[0.        ]],\n",
       "\n",
       "       [[0.36672579]],\n",
       "\n",
       "       [[0.46275643]],\n",
       "\n",
       "       [[0.46275643]],\n",
       "\n",
       "       [[0.598104  ]],\n",
       "\n",
       "       [[0.36672579]],\n",
       "\n",
       "       [[0.        ]],\n",
       "\n",
       "       [[0.36672579]],\n",
       "\n",
       "       [[0.36672579]],\n",
       "\n",
       "       [[0.36672579]]])\n",
       "Coordinates:\n",
       "  * date       (date) datetime64[ns] 2013-01-01 2013-01-02 ... 2013-01-10\n",
       "  * component  (component) object &#x27;sales&#x27;\n",
       "Dimensions without coordinates: sample\n",
       "Attributes:\n",
       "    static_covariates:  static_covariates  store_nbr  family  city  state  ty...\n",
       "    hierarchy:          None</pre><div class='xr-wrap' style='display:none'><div class='xr-header'><div class='xr-obj-type'>TimeSeries (DataArray)</div><div class='xr-array-name'></div><ul class='xr-dim-list'><li><span class='xr-has-index'>date</span>: 10</li><li><span class='xr-has-index'>component</span>: 1</li><li><span>sample</span>: 1</li></ul></div><ul class='xr-sections'><li class='xr-section-item'><div class='xr-array-wrap'><input id='section-a5caaa23-be10-450c-9f71-ee18461a51bf' class='xr-array-in' type='checkbox' checked><label for='section-a5caaa23-be10-450c-9f71-ee18461a51bf' title='Show/hide data repr'><svg class='icon xr-icon-database'><use xlink:href='#icon-database'></use></svg></label><div class='xr-array-preview xr-preview'><span>0.0 0.3667 0.4628 0.4628 0.5981 0.3667 0.0 0.3667 0.3667 0.3667</span></div><div class='xr-array-data'><pre>array([[[0.        ]],\n",
       "\n",
       "       [[0.36672579]],\n",
       "\n",
       "       [[0.46275643]],\n",
       "\n",
       "       [[0.46275643]],\n",
       "\n",
       "       [[0.598104  ]],\n",
       "\n",
       "       [[0.36672579]],\n",
       "\n",
       "       [[0.        ]],\n",
       "\n",
       "       [[0.36672579]],\n",
       "\n",
       "       [[0.36672579]],\n",
       "\n",
       "       [[0.36672579]]])</pre></div></div></li><li class='xr-section-item'><input id='section-f87b7ad5-a052-4075-bfb4-1715fcae787f' class='xr-section-summary-in' type='checkbox'  checked><label for='section-f87b7ad5-a052-4075-bfb4-1715fcae787f' class='xr-section-summary' >Coordinates: <span>(2)</span></label><div class='xr-section-inline-details'></div><div class='xr-section-details'><ul class='xr-var-list'><li class='xr-var-item'><div class='xr-var-name'><span class='xr-has-index'>date</span></div><div class='xr-var-dims'>(date)</div><div class='xr-var-dtype'>datetime64[ns]</div><div class='xr-var-preview xr-preview'>2013-01-01 ... 2013-01-10</div><input id='attrs-b2763683-845e-4797-89fc-aa1ce680dc0e' class='xr-var-attrs-in' type='checkbox' disabled><label for='attrs-b2763683-845e-4797-89fc-aa1ce680dc0e' title='Show/Hide attributes'><svg class='icon xr-icon-file-text2'><use xlink:href='#icon-file-text2'></use></svg></label><input id='data-6494c7d3-880d-44ad-8f69-a1d8404b79c0' class='xr-var-data-in' type='checkbox'><label for='data-6494c7d3-880d-44ad-8f69-a1d8404b79c0' title='Show/Hide data repr'><svg class='icon xr-icon-database'><use xlink:href='#icon-database'></use></svg></label><div class='xr-var-attrs'><dl class='xr-attrs'></dl></div><div class='xr-var-data'><pre>array([&#x27;2013-01-01T00:00:00.000000000&#x27;, &#x27;2013-01-02T00:00:00.000000000&#x27;,\n",
       "       &#x27;2013-01-03T00:00:00.000000000&#x27;, &#x27;2013-01-04T00:00:00.000000000&#x27;,\n",
       "       &#x27;2013-01-05T00:00:00.000000000&#x27;, &#x27;2013-01-06T00:00:00.000000000&#x27;,\n",
       "       &#x27;2013-01-07T00:00:00.000000000&#x27;, &#x27;2013-01-08T00:00:00.000000000&#x27;,\n",
       "       &#x27;2013-01-09T00:00:00.000000000&#x27;, &#x27;2013-01-10T00:00:00.000000000&#x27;],\n",
       "      dtype=&#x27;datetime64[ns]&#x27;)</pre></div></li><li class='xr-var-item'><div class='xr-var-name'><span class='xr-has-index'>component</span></div><div class='xr-var-dims'>(component)</div><div class='xr-var-dtype'>object</div><div class='xr-var-preview xr-preview'>&#x27;sales&#x27;</div><input id='attrs-68996b9e-032f-430c-b940-aaaa34ff9a01' class='xr-var-attrs-in' type='checkbox' disabled><label for='attrs-68996b9e-032f-430c-b940-aaaa34ff9a01' title='Show/Hide attributes'><svg class='icon xr-icon-file-text2'><use xlink:href='#icon-file-text2'></use></svg></label><input id='data-ce39dc6b-1a1b-48ae-98a9-237cbced4436' class='xr-var-data-in' type='checkbox'><label for='data-ce39dc6b-1a1b-48ae-98a9-237cbced4436' title='Show/Hide data repr'><svg class='icon xr-icon-database'><use xlink:href='#icon-database'></use></svg></label><div class='xr-var-attrs'><dl class='xr-attrs'></dl></div><div class='xr-var-data'><pre>array([&#x27;sales&#x27;], dtype=object)</pre></div></li></ul></div></li><li class='xr-section-item'><input id='section-527befee-ba73-4d4d-8369-99d03b602a2e' class='xr-section-summary-in' type='checkbox'  ><label for='section-527befee-ba73-4d4d-8369-99d03b602a2e' class='xr-section-summary' >Indexes: <span>(2)</span></label><div class='xr-section-inline-details'></div><div class='xr-section-details'><ul class='xr-var-list'><li class='xr-var-item'><div class='xr-index-name'><div>date</div></div><div class='xr-index-preview'>PandasIndex</div><div></div><input id='index-7edd67ad-7de7-4ef0-bcc0-26e8fd8b8c2f' class='xr-index-data-in' type='checkbox'/><label for='index-7edd67ad-7de7-4ef0-bcc0-26e8fd8b8c2f' title='Show/Hide index repr'><svg class='icon xr-icon-database'><use xlink:href='#icon-database'></use></svg></label><div class='xr-index-data'><pre>PandasIndex(DatetimeIndex([&#x27;2013-01-01&#x27;, &#x27;2013-01-02&#x27;, &#x27;2013-01-03&#x27;, &#x27;2013-01-04&#x27;,\n",
       "               &#x27;2013-01-05&#x27;, &#x27;2013-01-06&#x27;, &#x27;2013-01-07&#x27;, &#x27;2013-01-08&#x27;,\n",
       "               &#x27;2013-01-09&#x27;, &#x27;2013-01-10&#x27;],\n",
       "              dtype=&#x27;datetime64[ns]&#x27;, name=&#x27;date&#x27;, freq=&#x27;D&#x27;))</pre></div></li><li class='xr-var-item'><div class='xr-index-name'><div>component</div></div><div class='xr-index-preview'>PandasIndex</div><div></div><input id='index-c6978028-7d03-4f51-b967-ae01b0bcdc04' class='xr-index-data-in' type='checkbox'/><label for='index-c6978028-7d03-4f51-b967-ae01b0bcdc04' title='Show/Hide index repr'><svg class='icon xr-icon-database'><use xlink:href='#icon-database'></use></svg></label><div class='xr-index-data'><pre>PandasIndex(Index([&#x27;sales&#x27;], dtype=&#x27;object&#x27;, name=&#x27;component&#x27;))</pre></div></li></ul></div></li><li class='xr-section-item'><input id='section-224fadf9-bd9b-4779-8b63-010c1ad2db09' class='xr-section-summary-in' type='checkbox'  checked><label for='section-224fadf9-bd9b-4779-8b63-010c1ad2db09' class='xr-section-summary' >Attributes: <span>(2)</span></label><div class='xr-section-inline-details'></div><div class='xr-section-details'><dl class='xr-attrs'><dt><span>static_covariates :</span></dt><dd>static_covariates  store_nbr  family  city  state  type  cluster\n",
       "component                                                       \n",
       "sales                    0.0     0.0  18.0   12.0   3.0      4.0</dd><dt><span>hierarchy :</span></dt><dd>None</dd></dl></div></li></ul></div></div>"
      ],
      "text/plain": [
       "<TimeSeries (DataArray) (date: 10, component: 1, sample: 1)>\n",
       "array([[[0.        ]],\n",
       "\n",
       "       [[0.36672579]],\n",
       "\n",
       "       [[0.46275643]],\n",
       "\n",
       "       [[0.46275643]],\n",
       "\n",
       "       [[0.598104  ]],\n",
       "\n",
       "       [[0.36672579]],\n",
       "\n",
       "       [[0.        ]],\n",
       "\n",
       "       [[0.36672579]],\n",
       "\n",
       "       [[0.36672579]],\n",
       "\n",
       "       [[0.36672579]]])\n",
       "Coordinates:\n",
       "  * date       (date) datetime64[ns] 2013-01-01 2013-01-02 ... 2013-01-10\n",
       "  * component  (component) object 'sales'\n",
       "Dimensions without coordinates: sample\n",
       "Attributes:\n",
       "    static_covariates:  static_covariates  store_nbr  family  city  state  ty...\n",
       "    hierarchy:          None"
      ]
     },
     "execution_count": 24,
     "metadata": {},
     "output_type": "execute_result"
    }
   ],
   "source": [
    "family_TS_transformed_dict['AUTOMOTIVE'][0][:10]"
   ]
  },
  {
   "cell_type": "markdown",
   "id": "7a15f62c",
   "metadata": {
    "papermill": {
     "duration": 0.035316,
     "end_time": "2023-05-22T09:07:53.447150",
     "exception": false,
     "start_time": "2023-05-22T09:07:53.411834",
     "status": "completed"
    },
    "tags": []
   },
   "source": [
    "## Covariates\n",
    "\n",
    "> **A covariate** is a variable that helps to predict a target variable.\n",
    "\n",
    "This covariate can be dependent on the target variable. For example, the type of store, `type`, where the sales are made. But it can also be independent. For example, the price of oil on the day of the sale of a product.\n",
    "\n",
    "This covariate can be known in advance, for example in our dataset we have the price of oil from January 1, 2013 to August 31, 2017. In this case, we talk about a **future covariate**.\n",
    "\n",
    "There are also **past covariates**. These are covariates that are not known in advance. For example in our dataset, the transactions are known for the dates January 1, 2013 to August 15, 2017."
   ]
  },
  {
   "cell_type": "markdown",
   "id": "cf627ada",
   "metadata": {
    "papermill": {
     "duration": 0.02738,
     "end_time": "2023-05-22T09:07:53.508878",
     "exception": false,
     "start_time": "2023-05-22T09:07:53.481498",
     "status": "completed"
    },
    "tags": []
   },
   "source": [
    "### Date"
   ]
  },
  {
   "cell_type": "code",
   "execution_count": 25,
   "id": "ca239468",
   "metadata": {
    "execution": {
     "iopub.execute_input": "2023-05-22T09:07:53.566986Z",
     "iopub.status.busy": "2023-05-22T09:07:53.566593Z",
     "iopub.status.idle": "2023-05-22T09:07:53.571597Z",
     "shell.execute_reply": "2023-05-22T09:07:53.570494Z"
    },
    "papermill": {
     "duration": 0.037518,
     "end_time": "2023-05-22T09:07:53.574090",
     "exception": false,
     "start_time": "2023-05-22T09:07:53.536572",
     "status": "completed"
    },
    "tags": []
   },
   "outputs": [],
   "source": [
    "from darts.utils.timeseries_generation import datetime_attribute_timeseries"
   ]
  },
  {
   "cell_type": "code",
   "execution_count": 26,
   "id": "580be056",
   "metadata": {
    "execution": {
     "iopub.execute_input": "2023-05-22T09:07:53.634986Z",
     "iopub.status.busy": "2023-05-22T09:07:53.634490Z",
     "iopub.status.idle": "2023-05-22T09:07:53.700282Z",
     "shell.execute_reply": "2023-05-22T09:07:53.698512Z"
    },
    "papermill": {
     "duration": 0.099918,
     "end_time": "2023-05-22T09:07:53.703141",
     "exception": false,
     "start_time": "2023-05-22T09:07:53.603223",
     "status": "completed"
    },
    "tags": []
   },
   "outputs": [],
   "source": [
    "full_time_period = pd.date_range(start='2013-01-01', end='2017-08-31', freq='D')\n",
    "\n",
    "\n",
    "year = datetime_attribute_timeseries(time_index = full_time_period, attribute=\"year\")\n",
    "month = datetime_attribute_timeseries(time_index = full_time_period, attribute=\"month\")\n",
    "day = datetime_attribute_timeseries(time_index = full_time_period, attribute=\"day\")\n",
    "dayofyear = datetime_attribute_timeseries(time_index = full_time_period, attribute=\"dayofyear\")\n",
    "weekday = datetime_attribute_timeseries(time_index = full_time_period, attribute=\"dayofweek\")\n",
    "weekofyear = datetime_attribute_timeseries(time_index = full_time_period, attribute=\"weekofyear\")\n",
    "timesteps = TimeSeries.from_times_and_values(times=full_time_period,\n",
    "                                             values=np.arange(len(full_time_period)),\n",
    "                                             columns=[\"linear_increase\"])\n",
    "\n",
    "time_cov = year.stack(month).stack(day).stack(dayofyear).stack(weekday).stack(weekofyear).stack(timesteps)\n",
    "time_cov = time_cov.astype(np.float32)"
   ]
  },
  {
   "cell_type": "code",
   "execution_count": 27,
   "id": "ccf86d47",
   "metadata": {
    "execution": {
     "iopub.execute_input": "2023-05-22T09:07:53.762258Z",
     "iopub.status.busy": "2023-05-22T09:07:53.761848Z",
     "iopub.status.idle": "2023-05-22T09:07:53.781439Z",
     "shell.execute_reply": "2023-05-22T09:07:53.780509Z"
    },
    "papermill": {
     "duration": 0.051909,
     "end_time": "2023-05-22T09:07:53.783746",
     "exception": false,
     "start_time": "2023-05-22T09:07:53.731837",
     "status": "completed"
    },
    "tags": []
   },
   "outputs": [
    {
     "name": "stdout",
     "output_type": "stream",
     "text": [
      "['year' 'month' 'day' 'dayofyear' 'dayofweek' 'weekofyear'\n",
      " 'linear_increase']\n"
     ]
    },
    {
     "data": {
      "text/plain": [
       "None"
      ]
     },
     "metadata": {},
     "output_type": "display_data"
    },
    {
     "data": {
      "text/html": [
       "<div><svg style=\"position: absolute; width: 0; height: 0; overflow: hidden\">\n",
       "<defs>\n",
       "<symbol id=\"icon-database\" viewBox=\"0 0 32 32\">\n",
       "<path d=\"M16 0c-8.837 0-16 2.239-16 5v4c0 2.761 7.163 5 16 5s16-2.239 16-5v-4c0-2.761-7.163-5-16-5z\"></path>\n",
       "<path d=\"M16 17c-8.837 0-16-2.239-16-5v6c0 2.761 7.163 5 16 5s16-2.239 16-5v-6c0 2.761-7.163 5-16 5z\"></path>\n",
       "<path d=\"M16 26c-8.837 0-16-2.239-16-5v6c0 2.761 7.163 5 16 5s16-2.239 16-5v-6c0 2.761-7.163 5-16 5z\"></path>\n",
       "</symbol>\n",
       "<symbol id=\"icon-file-text2\" viewBox=\"0 0 32 32\">\n",
       "<path d=\"M28.681 7.159c-0.694-0.947-1.662-2.053-2.724-3.116s-2.169-2.030-3.116-2.724c-1.612-1.182-2.393-1.319-2.841-1.319h-15.5c-1.378 0-2.5 1.121-2.5 2.5v27c0 1.378 1.122 2.5 2.5 2.5h23c1.378 0 2.5-1.122 2.5-2.5v-19.5c0-0.448-0.137-1.23-1.319-2.841zM24.543 5.457c0.959 0.959 1.712 1.825 2.268 2.543h-4.811v-4.811c0.718 0.556 1.584 1.309 2.543 2.268zM28 29.5c0 0.271-0.229 0.5-0.5 0.5h-23c-0.271 0-0.5-0.229-0.5-0.5v-27c0-0.271 0.229-0.5 0.5-0.5 0 0 15.499-0 15.5 0v7c0 0.552 0.448 1 1 1h7v19.5z\"></path>\n",
       "<path d=\"M23 26h-14c-0.552 0-1-0.448-1-1s0.448-1 1-1h14c0.552 0 1 0.448 1 1s-0.448 1-1 1z\"></path>\n",
       "<path d=\"M23 22h-14c-0.552 0-1-0.448-1-1s0.448-1 1-1h14c0.552 0 1 0.448 1 1s-0.448 1-1 1z\"></path>\n",
       "<path d=\"M23 18h-14c-0.552 0-1-0.448-1-1s0.448-1 1-1h14c0.552 0 1 0.448 1 1s-0.448 1-1 1z\"></path>\n",
       "</symbol>\n",
       "</defs>\n",
       "</svg>\n",
       "<style>/* CSS stylesheet for displaying xarray objects in jupyterlab.\n",
       " *\n",
       " */\n",
       "\n",
       ":root {\n",
       "  --xr-font-color0: var(--jp-content-font-color0, rgba(0, 0, 0, 1));\n",
       "  --xr-font-color2: var(--jp-content-font-color2, rgba(0, 0, 0, 0.54));\n",
       "  --xr-font-color3: var(--jp-content-font-color3, rgba(0, 0, 0, 0.38));\n",
       "  --xr-border-color: var(--jp-border-color2, #e0e0e0);\n",
       "  --xr-disabled-color: var(--jp-layout-color3, #bdbdbd);\n",
       "  --xr-background-color: var(--jp-layout-color0, white);\n",
       "  --xr-background-color-row-even: var(--jp-layout-color1, white);\n",
       "  --xr-background-color-row-odd: var(--jp-layout-color2, #eeeeee);\n",
       "}\n",
       "\n",
       "html[theme=dark],\n",
       "body[data-theme=dark],\n",
       "body.vscode-dark {\n",
       "  --xr-font-color0: rgba(255, 255, 255, 1);\n",
       "  --xr-font-color2: rgba(255, 255, 255, 0.54);\n",
       "  --xr-font-color3: rgba(255, 255, 255, 0.38);\n",
       "  --xr-border-color: #1F1F1F;\n",
       "  --xr-disabled-color: #515151;\n",
       "  --xr-background-color: #111111;\n",
       "  --xr-background-color-row-even: #111111;\n",
       "  --xr-background-color-row-odd: #313131;\n",
       "}\n",
       "\n",
       ".xr-wrap {\n",
       "  display: block !important;\n",
       "  min-width: 300px;\n",
       "  max-width: 700px;\n",
       "}\n",
       "\n",
       ".xr-text-repr-fallback {\n",
       "  /* fallback to plain text repr when CSS is not injected (untrusted notebook) */\n",
       "  display: none;\n",
       "}\n",
       "\n",
       ".xr-header {\n",
       "  padding-top: 6px;\n",
       "  padding-bottom: 6px;\n",
       "  margin-bottom: 4px;\n",
       "  border-bottom: solid 1px var(--xr-border-color);\n",
       "}\n",
       "\n",
       ".xr-header > div,\n",
       ".xr-header > ul {\n",
       "  display: inline;\n",
       "  margin-top: 0;\n",
       "  margin-bottom: 0;\n",
       "}\n",
       "\n",
       ".xr-obj-type,\n",
       ".xr-array-name {\n",
       "  margin-left: 2px;\n",
       "  margin-right: 10px;\n",
       "}\n",
       "\n",
       ".xr-obj-type {\n",
       "  color: var(--xr-font-color2);\n",
       "}\n",
       "\n",
       ".xr-sections {\n",
       "  padding-left: 0 !important;\n",
       "  display: grid;\n",
       "  grid-template-columns: 150px auto auto 1fr 20px 20px;\n",
       "}\n",
       "\n",
       ".xr-section-item {\n",
       "  display: contents;\n",
       "}\n",
       "\n",
       ".xr-section-item input {\n",
       "  display: none;\n",
       "}\n",
       "\n",
       ".xr-section-item input + label {\n",
       "  color: var(--xr-disabled-color);\n",
       "}\n",
       "\n",
       ".xr-section-item input:enabled + label {\n",
       "  cursor: pointer;\n",
       "  color: var(--xr-font-color2);\n",
       "}\n",
       "\n",
       ".xr-section-item input:enabled + label:hover {\n",
       "  color: var(--xr-font-color0);\n",
       "}\n",
       "\n",
       ".xr-section-summary {\n",
       "  grid-column: 1;\n",
       "  color: var(--xr-font-color2);\n",
       "  font-weight: 500;\n",
       "}\n",
       "\n",
       ".xr-section-summary > span {\n",
       "  display: inline-block;\n",
       "  padding-left: 0.5em;\n",
       "}\n",
       "\n",
       ".xr-section-summary-in:disabled + label {\n",
       "  color: var(--xr-font-color2);\n",
       "}\n",
       "\n",
       ".xr-section-summary-in + label:before {\n",
       "  display: inline-block;\n",
       "  content: '►';\n",
       "  font-size: 11px;\n",
       "  width: 15px;\n",
       "  text-align: center;\n",
       "}\n",
       "\n",
       ".xr-section-summary-in:disabled + label:before {\n",
       "  color: var(--xr-disabled-color);\n",
       "}\n",
       "\n",
       ".xr-section-summary-in:checked + label:before {\n",
       "  content: '▼';\n",
       "}\n",
       "\n",
       ".xr-section-summary-in:checked + label > span {\n",
       "  display: none;\n",
       "}\n",
       "\n",
       ".xr-section-summary,\n",
       ".xr-section-inline-details {\n",
       "  padding-top: 4px;\n",
       "  padding-bottom: 4px;\n",
       "}\n",
       "\n",
       ".xr-section-inline-details {\n",
       "  grid-column: 2 / -1;\n",
       "}\n",
       "\n",
       ".xr-section-details {\n",
       "  display: none;\n",
       "  grid-column: 1 / -1;\n",
       "  margin-bottom: 5px;\n",
       "}\n",
       "\n",
       ".xr-section-summary-in:checked ~ .xr-section-details {\n",
       "  display: contents;\n",
       "}\n",
       "\n",
       ".xr-array-wrap {\n",
       "  grid-column: 1 / -1;\n",
       "  display: grid;\n",
       "  grid-template-columns: 20px auto;\n",
       "}\n",
       "\n",
       ".xr-array-wrap > label {\n",
       "  grid-column: 1;\n",
       "  vertical-align: top;\n",
       "}\n",
       "\n",
       ".xr-preview {\n",
       "  color: var(--xr-font-color3);\n",
       "}\n",
       "\n",
       ".xr-array-preview,\n",
       ".xr-array-data {\n",
       "  padding: 0 5px !important;\n",
       "  grid-column: 2;\n",
       "}\n",
       "\n",
       ".xr-array-data,\n",
       ".xr-array-in:checked ~ .xr-array-preview {\n",
       "  display: none;\n",
       "}\n",
       "\n",
       ".xr-array-in:checked ~ .xr-array-data,\n",
       ".xr-array-preview {\n",
       "  display: inline-block;\n",
       "}\n",
       "\n",
       ".xr-dim-list {\n",
       "  display: inline-block !important;\n",
       "  list-style: none;\n",
       "  padding: 0 !important;\n",
       "  margin: 0;\n",
       "}\n",
       "\n",
       ".xr-dim-list li {\n",
       "  display: inline-block;\n",
       "  padding: 0;\n",
       "  margin: 0;\n",
       "}\n",
       "\n",
       ".xr-dim-list:before {\n",
       "  content: '(';\n",
       "}\n",
       "\n",
       ".xr-dim-list:after {\n",
       "  content: ')';\n",
       "}\n",
       "\n",
       ".xr-dim-list li:not(:last-child):after {\n",
       "  content: ',';\n",
       "  padding-right: 5px;\n",
       "}\n",
       "\n",
       ".xr-has-index {\n",
       "  font-weight: bold;\n",
       "}\n",
       "\n",
       ".xr-var-list,\n",
       ".xr-var-item {\n",
       "  display: contents;\n",
       "}\n",
       "\n",
       ".xr-var-item > div,\n",
       ".xr-var-item label,\n",
       ".xr-var-item > .xr-var-name span {\n",
       "  background-color: var(--xr-background-color-row-even);\n",
       "  margin-bottom: 0;\n",
       "}\n",
       "\n",
       ".xr-var-item > .xr-var-name:hover span {\n",
       "  padding-right: 5px;\n",
       "}\n",
       "\n",
       ".xr-var-list > li:nth-child(odd) > div,\n",
       ".xr-var-list > li:nth-child(odd) > label,\n",
       ".xr-var-list > li:nth-child(odd) > .xr-var-name span {\n",
       "  background-color: var(--xr-background-color-row-odd);\n",
       "}\n",
       "\n",
       ".xr-var-name {\n",
       "  grid-column: 1;\n",
       "}\n",
       "\n",
       ".xr-var-dims {\n",
       "  grid-column: 2;\n",
       "}\n",
       "\n",
       ".xr-var-dtype {\n",
       "  grid-column: 3;\n",
       "  text-align: right;\n",
       "  color: var(--xr-font-color2);\n",
       "}\n",
       "\n",
       ".xr-var-preview {\n",
       "  grid-column: 4;\n",
       "}\n",
       "\n",
       ".xr-index-preview {\n",
       "  grid-column: 2 / 5;\n",
       "  color: var(--xr-font-color2);\n",
       "}\n",
       "\n",
       ".xr-var-name,\n",
       ".xr-var-dims,\n",
       ".xr-var-dtype,\n",
       ".xr-preview,\n",
       ".xr-attrs dt {\n",
       "  white-space: nowrap;\n",
       "  overflow: hidden;\n",
       "  text-overflow: ellipsis;\n",
       "  padding-right: 10px;\n",
       "}\n",
       "\n",
       ".xr-var-name:hover,\n",
       ".xr-var-dims:hover,\n",
       ".xr-var-dtype:hover,\n",
       ".xr-attrs dt:hover {\n",
       "  overflow: visible;\n",
       "  width: auto;\n",
       "  z-index: 1;\n",
       "}\n",
       "\n",
       ".xr-var-attrs,\n",
       ".xr-var-data,\n",
       ".xr-index-data {\n",
       "  display: none;\n",
       "  background-color: var(--xr-background-color) !important;\n",
       "  padding-bottom: 5px !important;\n",
       "}\n",
       "\n",
       ".xr-var-attrs-in:checked ~ .xr-var-attrs,\n",
       ".xr-var-data-in:checked ~ .xr-var-data,\n",
       ".xr-index-data-in:checked ~ .xr-index-data {\n",
       "  display: block;\n",
       "}\n",
       "\n",
       ".xr-var-data > table {\n",
       "  float: right;\n",
       "}\n",
       "\n",
       ".xr-var-name span,\n",
       ".xr-var-data,\n",
       ".xr-index-name div,\n",
       ".xr-index-data,\n",
       ".xr-attrs {\n",
       "  padding-left: 25px !important;\n",
       "}\n",
       "\n",
       ".xr-attrs,\n",
       ".xr-var-attrs,\n",
       ".xr-var-data,\n",
       ".xr-index-data {\n",
       "  grid-column: 1 / -1;\n",
       "}\n",
       "\n",
       "dl.xr-attrs {\n",
       "  padding: 0;\n",
       "  margin: 0;\n",
       "  display: grid;\n",
       "  grid-template-columns: 125px auto;\n",
       "}\n",
       "\n",
       ".xr-attrs dt,\n",
       ".xr-attrs dd {\n",
       "  padding: 0;\n",
       "  margin: 0;\n",
       "  float: left;\n",
       "  padding-right: 10px;\n",
       "  width: auto;\n",
       "}\n",
       "\n",
       ".xr-attrs dt {\n",
       "  font-weight: normal;\n",
       "  grid-column: 1;\n",
       "}\n",
       "\n",
       ".xr-attrs dt:hover span {\n",
       "  display: inline-block;\n",
       "  background: var(--xr-background-color);\n",
       "  padding-right: 10px;\n",
       "}\n",
       "\n",
       ".xr-attrs dd {\n",
       "  grid-column: 2;\n",
       "  white-space: pre-wrap;\n",
       "  word-break: break-all;\n",
       "}\n",
       "\n",
       ".xr-icon-database,\n",
       ".xr-icon-file-text2,\n",
       ".xr-no-icon {\n",
       "  display: inline-block;\n",
       "  vertical-align: middle;\n",
       "  width: 1em;\n",
       "  height: 1.5em !important;\n",
       "  stroke-width: 0;\n",
       "  stroke: currentColor;\n",
       "  fill: currentColor;\n",
       "}\n",
       "</style><pre class='xr-text-repr-fallback'>&lt;TimeSeries (DataArray) (time: 1, component: 7, sample: 1)&gt;\n",
       "array([[[2013.],\n",
       "        [   4.],\n",
       "        [  11.],\n",
       "        [ 101.],\n",
       "        [   3.],\n",
       "        [  15.],\n",
       "        [ 100.]]], dtype=float32)\n",
       "Coordinates:\n",
       "  * time       (time) datetime64[ns] 2013-04-11\n",
       "  * component  (component) object &#x27;year&#x27; &#x27;month&#x27; ... &#x27;linear_increase&#x27;\n",
       "Dimensions without coordinates: sample\n",
       "Attributes:\n",
       "    static_covariates:  None\n",
       "    hierarchy:          None</pre><div class='xr-wrap' style='display:none'><div class='xr-header'><div class='xr-obj-type'>TimeSeries (DataArray)</div><div class='xr-array-name'></div><ul class='xr-dim-list'><li><span class='xr-has-index'>time</span>: 1</li><li><span class='xr-has-index'>component</span>: 7</li><li><span>sample</span>: 1</li></ul></div><ul class='xr-sections'><li class='xr-section-item'><div class='xr-array-wrap'><input id='section-2835e89e-e8ed-48bd-9cda-ee130a30759c' class='xr-array-in' type='checkbox' checked><label for='section-2835e89e-e8ed-48bd-9cda-ee130a30759c' title='Show/hide data repr'><svg class='icon xr-icon-database'><use xlink:href='#icon-database'></use></svg></label><div class='xr-array-preview xr-preview'><span>2.013e+03 4.0 11.0 101.0 3.0 15.0 100.0</span></div><div class='xr-array-data'><pre>array([[[2013.],\n",
       "        [   4.],\n",
       "        [  11.],\n",
       "        [ 101.],\n",
       "        [   3.],\n",
       "        [  15.],\n",
       "        [ 100.]]], dtype=float32)</pre></div></div></li><li class='xr-section-item'><input id='section-ed1b0d29-6d6e-4d08-b067-70b5d271f566' class='xr-section-summary-in' type='checkbox'  checked><label for='section-ed1b0d29-6d6e-4d08-b067-70b5d271f566' class='xr-section-summary' >Coordinates: <span>(2)</span></label><div class='xr-section-inline-details'></div><div class='xr-section-details'><ul class='xr-var-list'><li class='xr-var-item'><div class='xr-var-name'><span class='xr-has-index'>time</span></div><div class='xr-var-dims'>(time)</div><div class='xr-var-dtype'>datetime64[ns]</div><div class='xr-var-preview xr-preview'>2013-04-11</div><input id='attrs-58201ce2-b2f0-454a-94d9-3aaa4922973e' class='xr-var-attrs-in' type='checkbox' disabled><label for='attrs-58201ce2-b2f0-454a-94d9-3aaa4922973e' title='Show/Hide attributes'><svg class='icon xr-icon-file-text2'><use xlink:href='#icon-file-text2'></use></svg></label><input id='data-02b1c312-b44f-4bb7-8aea-f8f45f0fceaf' class='xr-var-data-in' type='checkbox'><label for='data-02b1c312-b44f-4bb7-8aea-f8f45f0fceaf' title='Show/Hide data repr'><svg class='icon xr-icon-database'><use xlink:href='#icon-database'></use></svg></label><div class='xr-var-attrs'><dl class='xr-attrs'></dl></div><div class='xr-var-data'><pre>array([&#x27;2013-04-11T00:00:00.000000000&#x27;], dtype=&#x27;datetime64[ns]&#x27;)</pre></div></li><li class='xr-var-item'><div class='xr-var-name'><span class='xr-has-index'>component</span></div><div class='xr-var-dims'>(component)</div><div class='xr-var-dtype'>object</div><div class='xr-var-preview xr-preview'>&#x27;year&#x27; ... &#x27;linear_increase&#x27;</div><input id='attrs-9cdca3ef-01bf-48e8-acfd-e4bac3d4d42f' class='xr-var-attrs-in' type='checkbox' disabled><label for='attrs-9cdca3ef-01bf-48e8-acfd-e4bac3d4d42f' title='Show/Hide attributes'><svg class='icon xr-icon-file-text2'><use xlink:href='#icon-file-text2'></use></svg></label><input id='data-f42276a9-e7de-46ad-9981-586d830a2ced' class='xr-var-data-in' type='checkbox'><label for='data-f42276a9-e7de-46ad-9981-586d830a2ced' title='Show/Hide data repr'><svg class='icon xr-icon-database'><use xlink:href='#icon-database'></use></svg></label><div class='xr-var-attrs'><dl class='xr-attrs'></dl></div><div class='xr-var-data'><pre>array([&#x27;year&#x27;, &#x27;month&#x27;, &#x27;day&#x27;, &#x27;dayofyear&#x27;, &#x27;dayofweek&#x27;, &#x27;weekofyear&#x27;,\n",
       "       &#x27;linear_increase&#x27;], dtype=object)</pre></div></li></ul></div></li><li class='xr-section-item'><input id='section-7c05934a-0f13-4a0e-8e19-1967970f6ecc' class='xr-section-summary-in' type='checkbox'  ><label for='section-7c05934a-0f13-4a0e-8e19-1967970f6ecc' class='xr-section-summary' >Indexes: <span>(2)</span></label><div class='xr-section-inline-details'></div><div class='xr-section-details'><ul class='xr-var-list'><li class='xr-var-item'><div class='xr-index-name'><div>time</div></div><div class='xr-index-preview'>PandasIndex</div><div></div><input id='index-1819e0e4-443c-4296-bfbb-384a3fc6e997' class='xr-index-data-in' type='checkbox'/><label for='index-1819e0e4-443c-4296-bfbb-384a3fc6e997' title='Show/Hide index repr'><svg class='icon xr-icon-database'><use xlink:href='#icon-database'></use></svg></label><div class='xr-index-data'><pre>PandasIndex(DatetimeIndex([&#x27;2013-04-11&#x27;], dtype=&#x27;datetime64[ns]&#x27;, name=&#x27;time&#x27;, freq=&#x27;D&#x27;))</pre></div></li><li class='xr-var-item'><div class='xr-index-name'><div>component</div></div><div class='xr-index-preview'>PandasIndex</div><div></div><input id='index-333c2569-9533-409c-86a5-d4ccc77b71da' class='xr-index-data-in' type='checkbox'/><label for='index-333c2569-9533-409c-86a5-d4ccc77b71da' title='Show/Hide index repr'><svg class='icon xr-icon-database'><use xlink:href='#icon-database'></use></svg></label><div class='xr-index-data'><pre>PandasIndex(Index([&#x27;year&#x27;, &#x27;month&#x27;, &#x27;day&#x27;, &#x27;dayofyear&#x27;, &#x27;dayofweek&#x27;, &#x27;weekofyear&#x27;,\n",
       "       &#x27;linear_increase&#x27;],\n",
       "      dtype=&#x27;object&#x27;, name=&#x27;component&#x27;))</pre></div></li></ul></div></li><li class='xr-section-item'><input id='section-e1d65f61-9c1a-43e2-a812-78fe86c8f866' class='xr-section-summary-in' type='checkbox'  checked><label for='section-e1d65f61-9c1a-43e2-a812-78fe86c8f866' class='xr-section-summary' >Attributes: <span>(2)</span></label><div class='xr-section-inline-details'></div><div class='xr-section-details'><dl class='xr-attrs'><dt><span>static_covariates :</span></dt><dd>None</dd><dt><span>hierarchy :</span></dt><dd>None</dd></dl></div></li></ul></div></div>"
      ],
      "text/plain": [
       "<TimeSeries (DataArray) (time: 1, component: 7, sample: 1)>\n",
       "array([[[2013.],\n",
       "        [   4.],\n",
       "        [  11.],\n",
       "        [ 101.],\n",
       "        [   3.],\n",
       "        [  15.],\n",
       "        [ 100.]]], dtype=float32)\n",
       "Coordinates:\n",
       "  * time       (time) datetime64[ns] 2013-04-11\n",
       "  * component  (component) object 'year' 'month' ... 'linear_increase'\n",
       "Dimensions without coordinates: sample\n",
       "Attributes:\n",
       "    static_covariates:  None\n",
       "    hierarchy:          None"
      ]
     },
     "metadata": {},
     "output_type": "display_data"
    }
   ],
   "source": [
    "display(print(time_cov.components.values))\n",
    "display(time_cov[100])"
   ]
  },
  {
   "cell_type": "code",
   "execution_count": 28,
   "id": "a718ea6a",
   "metadata": {
    "execution": {
     "iopub.execute_input": "2023-05-22T09:07:53.845181Z",
     "iopub.status.busy": "2023-05-22T09:07:53.844751Z",
     "iopub.status.idle": "2023-05-22T09:07:53.875043Z",
     "shell.execute_reply": "2023-05-22T09:07:53.873776Z"
    },
    "papermill": {
     "duration": 0.063735,
     "end_time": "2023-05-22T09:07:53.877450",
     "exception": false,
     "start_time": "2023-05-22T09:07:53.813715",
     "status": "completed"
    },
    "tags": []
   },
   "outputs": [],
   "source": [
    "time_cov_scaler = Scaler(verbose=False, n_jobs=-1, name=\"Scaler\")\n",
    "time_cov_train, time_cov_val = time_cov.split_before(pd.Timestamp('20170816'))\n",
    "time_cov_scaler.fit(time_cov_train)\n",
    "time_cov_transformed = time_cov_scaler.transform(time_cov)"
   ]
  },
  {
   "cell_type": "markdown",
   "id": "100888a9",
   "metadata": {
    "papermill": {
     "duration": 0.028055,
     "end_time": "2023-05-22T09:07:53.934364",
     "exception": false,
     "start_time": "2023-05-22T09:07:53.906309",
     "status": "completed"
    },
    "tags": []
   },
   "source": [
    "### Oil"
   ]
  },
  {
   "cell_type": "code",
   "execution_count": 29,
   "id": "0ed1f54d",
   "metadata": {
    "execution": {
     "iopub.execute_input": "2023-05-22T09:07:53.995586Z",
     "iopub.status.busy": "2023-05-22T09:07:53.994866Z",
     "iopub.status.idle": "2023-05-22T09:08:16.256931Z",
     "shell.execute_reply": "2023-05-22T09:08:16.255643Z"
    },
    "papermill": {
     "duration": 22.296268,
     "end_time": "2023-05-22T09:08:16.259936",
     "exception": false,
     "start_time": "2023-05-22T09:07:53.963668",
     "status": "completed"
    },
    "tags": []
   },
   "outputs": [],
   "source": [
    "from darts.models.filtering.moving_average_filter import MovingAverageFilter"
   ]
  },
  {
   "cell_type": "code",
   "execution_count": 30,
   "id": "a17c2801",
   "metadata": {
    "execution": {
     "iopub.execute_input": "2023-05-22T09:08:16.324430Z",
     "iopub.status.busy": "2023-05-22T09:08:16.323615Z",
     "iopub.status.idle": "2023-05-22T09:08:16.401136Z",
     "shell.execute_reply": "2023-05-22T09:08:16.399746Z"
    },
    "papermill": {
     "duration": 0.113147,
     "end_time": "2023-05-22T09:08:16.403803",
     "exception": false,
     "start_time": "2023-05-22T09:08:16.290656",
     "status": "completed"
    },
    "tags": []
   },
   "outputs": [],
   "source": [
    "# Oil Price\n",
    "\n",
    "oil = TimeSeries.from_dataframe(df_oil, \n",
    "                                time_col = 'date', \n",
    "                                value_cols = ['dcoilwtico'],\n",
    "                                freq = 'D')\n",
    "\n",
    "oil = oil.astype(np.float32)\n",
    "\n",
    "# Transform\n",
    "oil_filler = MissingValuesFiller(verbose=False, n_jobs=-1, name=\"Filler\")\n",
    "oil_scaler = Scaler(verbose=False, n_jobs=-1, name=\"Scaler\")\n",
    "oil_pipeline = Pipeline([oil_filler, oil_scaler])\n",
    "oil_transformed = oil_pipeline.fit_transform(oil)\n",
    "\n",
    "# Moving Averages for Oil Price\n",
    "oil_moving_average_7 = MovingAverageFilter(window=7)\n",
    "oil_moving_average_28 = MovingAverageFilter(window=28)\n",
    "\n",
    "oil_moving_averages = []\n",
    "\n",
    "ma_7 = oil_moving_average_7.filter(oil_transformed).astype(np.float32)\n",
    "ma_7 = ma_7.with_columns_renamed(col_names=ma_7.components, col_names_new=\"oil_ma_7\")\n",
    "ma_28 = oil_moving_average_28.filter(oil_transformed).astype(np.float32)\n",
    "ma_28 = ma_28.with_columns_renamed(col_names=ma_28.components, col_names_new=\"oil_ma_28\")\n",
    "oil_moving_averages = ma_7.stack(ma_28)"
   ]
  },
  {
   "cell_type": "code",
   "execution_count": 31,
   "id": "c5c7efa3",
   "metadata": {
    "execution": {
     "iopub.execute_input": "2023-05-22T09:08:16.465730Z",
     "iopub.status.busy": "2023-05-22T09:08:16.464586Z",
     "iopub.status.idle": "2023-05-22T09:08:16.479926Z",
     "shell.execute_reply": "2023-05-22T09:08:16.478693Z"
    },
    "papermill": {
     "duration": 0.04794,
     "end_time": "2023-05-22T09:08:16.482405",
     "exception": false,
     "start_time": "2023-05-22T09:08:16.434465",
     "status": "completed"
    },
    "tags": []
   },
   "outputs": [
    {
     "data": {
      "text/html": [
       "<div><svg style=\"position: absolute; width: 0; height: 0; overflow: hidden\">\n",
       "<defs>\n",
       "<symbol id=\"icon-database\" viewBox=\"0 0 32 32\">\n",
       "<path d=\"M16 0c-8.837 0-16 2.239-16 5v4c0 2.761 7.163 5 16 5s16-2.239 16-5v-4c0-2.761-7.163-5-16-5z\"></path>\n",
       "<path d=\"M16 17c-8.837 0-16-2.239-16-5v6c0 2.761 7.163 5 16 5s16-2.239 16-5v-6c0 2.761-7.163 5-16 5z\"></path>\n",
       "<path d=\"M16 26c-8.837 0-16-2.239-16-5v6c0 2.761 7.163 5 16 5s16-2.239 16-5v-6c0 2.761-7.163 5-16 5z\"></path>\n",
       "</symbol>\n",
       "<symbol id=\"icon-file-text2\" viewBox=\"0 0 32 32\">\n",
       "<path d=\"M28.681 7.159c-0.694-0.947-1.662-2.053-2.724-3.116s-2.169-2.030-3.116-2.724c-1.612-1.182-2.393-1.319-2.841-1.319h-15.5c-1.378 0-2.5 1.121-2.5 2.5v27c0 1.378 1.122 2.5 2.5 2.5h23c1.378 0 2.5-1.122 2.5-2.5v-19.5c0-0.448-0.137-1.23-1.319-2.841zM24.543 5.457c0.959 0.959 1.712 1.825 2.268 2.543h-4.811v-4.811c0.718 0.556 1.584 1.309 2.543 2.268zM28 29.5c0 0.271-0.229 0.5-0.5 0.5h-23c-0.271 0-0.5-0.229-0.5-0.5v-27c0-0.271 0.229-0.5 0.5-0.5 0 0 15.499-0 15.5 0v7c0 0.552 0.448 1 1 1h7v19.5z\"></path>\n",
       "<path d=\"M23 26h-14c-0.552 0-1-0.448-1-1s0.448-1 1-1h14c0.552 0 1 0.448 1 1s-0.448 1-1 1z\"></path>\n",
       "<path d=\"M23 22h-14c-0.552 0-1-0.448-1-1s0.448-1 1-1h14c0.552 0 1 0.448 1 1s-0.448 1-1 1z\"></path>\n",
       "<path d=\"M23 18h-14c-0.552 0-1-0.448-1-1s0.448-1 1-1h14c0.552 0 1 0.448 1 1s-0.448 1-1 1z\"></path>\n",
       "</symbol>\n",
       "</defs>\n",
       "</svg>\n",
       "<style>/* CSS stylesheet for displaying xarray objects in jupyterlab.\n",
       " *\n",
       " */\n",
       "\n",
       ":root {\n",
       "  --xr-font-color0: var(--jp-content-font-color0, rgba(0, 0, 0, 1));\n",
       "  --xr-font-color2: var(--jp-content-font-color2, rgba(0, 0, 0, 0.54));\n",
       "  --xr-font-color3: var(--jp-content-font-color3, rgba(0, 0, 0, 0.38));\n",
       "  --xr-border-color: var(--jp-border-color2, #e0e0e0);\n",
       "  --xr-disabled-color: var(--jp-layout-color3, #bdbdbd);\n",
       "  --xr-background-color: var(--jp-layout-color0, white);\n",
       "  --xr-background-color-row-even: var(--jp-layout-color1, white);\n",
       "  --xr-background-color-row-odd: var(--jp-layout-color2, #eeeeee);\n",
       "}\n",
       "\n",
       "html[theme=dark],\n",
       "body[data-theme=dark],\n",
       "body.vscode-dark {\n",
       "  --xr-font-color0: rgba(255, 255, 255, 1);\n",
       "  --xr-font-color2: rgba(255, 255, 255, 0.54);\n",
       "  --xr-font-color3: rgba(255, 255, 255, 0.38);\n",
       "  --xr-border-color: #1F1F1F;\n",
       "  --xr-disabled-color: #515151;\n",
       "  --xr-background-color: #111111;\n",
       "  --xr-background-color-row-even: #111111;\n",
       "  --xr-background-color-row-odd: #313131;\n",
       "}\n",
       "\n",
       ".xr-wrap {\n",
       "  display: block !important;\n",
       "  min-width: 300px;\n",
       "  max-width: 700px;\n",
       "}\n",
       "\n",
       ".xr-text-repr-fallback {\n",
       "  /* fallback to plain text repr when CSS is not injected (untrusted notebook) */\n",
       "  display: none;\n",
       "}\n",
       "\n",
       ".xr-header {\n",
       "  padding-top: 6px;\n",
       "  padding-bottom: 6px;\n",
       "  margin-bottom: 4px;\n",
       "  border-bottom: solid 1px var(--xr-border-color);\n",
       "}\n",
       "\n",
       ".xr-header > div,\n",
       ".xr-header > ul {\n",
       "  display: inline;\n",
       "  margin-top: 0;\n",
       "  margin-bottom: 0;\n",
       "}\n",
       "\n",
       ".xr-obj-type,\n",
       ".xr-array-name {\n",
       "  margin-left: 2px;\n",
       "  margin-right: 10px;\n",
       "}\n",
       "\n",
       ".xr-obj-type {\n",
       "  color: var(--xr-font-color2);\n",
       "}\n",
       "\n",
       ".xr-sections {\n",
       "  padding-left: 0 !important;\n",
       "  display: grid;\n",
       "  grid-template-columns: 150px auto auto 1fr 20px 20px;\n",
       "}\n",
       "\n",
       ".xr-section-item {\n",
       "  display: contents;\n",
       "}\n",
       "\n",
       ".xr-section-item input {\n",
       "  display: none;\n",
       "}\n",
       "\n",
       ".xr-section-item input + label {\n",
       "  color: var(--xr-disabled-color);\n",
       "}\n",
       "\n",
       ".xr-section-item input:enabled + label {\n",
       "  cursor: pointer;\n",
       "  color: var(--xr-font-color2);\n",
       "}\n",
       "\n",
       ".xr-section-item input:enabled + label:hover {\n",
       "  color: var(--xr-font-color0);\n",
       "}\n",
       "\n",
       ".xr-section-summary {\n",
       "  grid-column: 1;\n",
       "  color: var(--xr-font-color2);\n",
       "  font-weight: 500;\n",
       "}\n",
       "\n",
       ".xr-section-summary > span {\n",
       "  display: inline-block;\n",
       "  padding-left: 0.5em;\n",
       "}\n",
       "\n",
       ".xr-section-summary-in:disabled + label {\n",
       "  color: var(--xr-font-color2);\n",
       "}\n",
       "\n",
       ".xr-section-summary-in + label:before {\n",
       "  display: inline-block;\n",
       "  content: '►';\n",
       "  font-size: 11px;\n",
       "  width: 15px;\n",
       "  text-align: center;\n",
       "}\n",
       "\n",
       ".xr-section-summary-in:disabled + label:before {\n",
       "  color: var(--xr-disabled-color);\n",
       "}\n",
       "\n",
       ".xr-section-summary-in:checked + label:before {\n",
       "  content: '▼';\n",
       "}\n",
       "\n",
       ".xr-section-summary-in:checked + label > span {\n",
       "  display: none;\n",
       "}\n",
       "\n",
       ".xr-section-summary,\n",
       ".xr-section-inline-details {\n",
       "  padding-top: 4px;\n",
       "  padding-bottom: 4px;\n",
       "}\n",
       "\n",
       ".xr-section-inline-details {\n",
       "  grid-column: 2 / -1;\n",
       "}\n",
       "\n",
       ".xr-section-details {\n",
       "  display: none;\n",
       "  grid-column: 1 / -1;\n",
       "  margin-bottom: 5px;\n",
       "}\n",
       "\n",
       ".xr-section-summary-in:checked ~ .xr-section-details {\n",
       "  display: contents;\n",
       "}\n",
       "\n",
       ".xr-array-wrap {\n",
       "  grid-column: 1 / -1;\n",
       "  display: grid;\n",
       "  grid-template-columns: 20px auto;\n",
       "}\n",
       "\n",
       ".xr-array-wrap > label {\n",
       "  grid-column: 1;\n",
       "  vertical-align: top;\n",
       "}\n",
       "\n",
       ".xr-preview {\n",
       "  color: var(--xr-font-color3);\n",
       "}\n",
       "\n",
       ".xr-array-preview,\n",
       ".xr-array-data {\n",
       "  padding: 0 5px !important;\n",
       "  grid-column: 2;\n",
       "}\n",
       "\n",
       ".xr-array-data,\n",
       ".xr-array-in:checked ~ .xr-array-preview {\n",
       "  display: none;\n",
       "}\n",
       "\n",
       ".xr-array-in:checked ~ .xr-array-data,\n",
       ".xr-array-preview {\n",
       "  display: inline-block;\n",
       "}\n",
       "\n",
       ".xr-dim-list {\n",
       "  display: inline-block !important;\n",
       "  list-style: none;\n",
       "  padding: 0 !important;\n",
       "  margin: 0;\n",
       "}\n",
       "\n",
       ".xr-dim-list li {\n",
       "  display: inline-block;\n",
       "  padding: 0;\n",
       "  margin: 0;\n",
       "}\n",
       "\n",
       ".xr-dim-list:before {\n",
       "  content: '(';\n",
       "}\n",
       "\n",
       ".xr-dim-list:after {\n",
       "  content: ')';\n",
       "}\n",
       "\n",
       ".xr-dim-list li:not(:last-child):after {\n",
       "  content: ',';\n",
       "  padding-right: 5px;\n",
       "}\n",
       "\n",
       ".xr-has-index {\n",
       "  font-weight: bold;\n",
       "}\n",
       "\n",
       ".xr-var-list,\n",
       ".xr-var-item {\n",
       "  display: contents;\n",
       "}\n",
       "\n",
       ".xr-var-item > div,\n",
       ".xr-var-item label,\n",
       ".xr-var-item > .xr-var-name span {\n",
       "  background-color: var(--xr-background-color-row-even);\n",
       "  margin-bottom: 0;\n",
       "}\n",
       "\n",
       ".xr-var-item > .xr-var-name:hover span {\n",
       "  padding-right: 5px;\n",
       "}\n",
       "\n",
       ".xr-var-list > li:nth-child(odd) > div,\n",
       ".xr-var-list > li:nth-child(odd) > label,\n",
       ".xr-var-list > li:nth-child(odd) > .xr-var-name span {\n",
       "  background-color: var(--xr-background-color-row-odd);\n",
       "}\n",
       "\n",
       ".xr-var-name {\n",
       "  grid-column: 1;\n",
       "}\n",
       "\n",
       ".xr-var-dims {\n",
       "  grid-column: 2;\n",
       "}\n",
       "\n",
       ".xr-var-dtype {\n",
       "  grid-column: 3;\n",
       "  text-align: right;\n",
       "  color: var(--xr-font-color2);\n",
       "}\n",
       "\n",
       ".xr-var-preview {\n",
       "  grid-column: 4;\n",
       "}\n",
       "\n",
       ".xr-index-preview {\n",
       "  grid-column: 2 / 5;\n",
       "  color: var(--xr-font-color2);\n",
       "}\n",
       "\n",
       ".xr-var-name,\n",
       ".xr-var-dims,\n",
       ".xr-var-dtype,\n",
       ".xr-preview,\n",
       ".xr-attrs dt {\n",
       "  white-space: nowrap;\n",
       "  overflow: hidden;\n",
       "  text-overflow: ellipsis;\n",
       "  padding-right: 10px;\n",
       "}\n",
       "\n",
       ".xr-var-name:hover,\n",
       ".xr-var-dims:hover,\n",
       ".xr-var-dtype:hover,\n",
       ".xr-attrs dt:hover {\n",
       "  overflow: visible;\n",
       "  width: auto;\n",
       "  z-index: 1;\n",
       "}\n",
       "\n",
       ".xr-var-attrs,\n",
       ".xr-var-data,\n",
       ".xr-index-data {\n",
       "  display: none;\n",
       "  background-color: var(--xr-background-color) !important;\n",
       "  padding-bottom: 5px !important;\n",
       "}\n",
       "\n",
       ".xr-var-attrs-in:checked ~ .xr-var-attrs,\n",
       ".xr-var-data-in:checked ~ .xr-var-data,\n",
       ".xr-index-data-in:checked ~ .xr-index-data {\n",
       "  display: block;\n",
       "}\n",
       "\n",
       ".xr-var-data > table {\n",
       "  float: right;\n",
       "}\n",
       "\n",
       ".xr-var-name span,\n",
       ".xr-var-data,\n",
       ".xr-index-name div,\n",
       ".xr-index-data,\n",
       ".xr-attrs {\n",
       "  padding-left: 25px !important;\n",
       "}\n",
       "\n",
       ".xr-attrs,\n",
       ".xr-var-attrs,\n",
       ".xr-var-data,\n",
       ".xr-index-data {\n",
       "  grid-column: 1 / -1;\n",
       "}\n",
       "\n",
       "dl.xr-attrs {\n",
       "  padding: 0;\n",
       "  margin: 0;\n",
       "  display: grid;\n",
       "  grid-template-columns: 125px auto;\n",
       "}\n",
       "\n",
       ".xr-attrs dt,\n",
       ".xr-attrs dd {\n",
       "  padding: 0;\n",
       "  margin: 0;\n",
       "  float: left;\n",
       "  padding-right: 10px;\n",
       "  width: auto;\n",
       "}\n",
       "\n",
       ".xr-attrs dt {\n",
       "  font-weight: normal;\n",
       "  grid-column: 1;\n",
       "}\n",
       "\n",
       ".xr-attrs dt:hover span {\n",
       "  display: inline-block;\n",
       "  background: var(--xr-background-color);\n",
       "  padding-right: 10px;\n",
       "}\n",
       "\n",
       ".xr-attrs dd {\n",
       "  grid-column: 2;\n",
       "  white-space: pre-wrap;\n",
       "  word-break: break-all;\n",
       "}\n",
       "\n",
       ".xr-icon-database,\n",
       ".xr-icon-file-text2,\n",
       ".xr-no-icon {\n",
       "  display: inline-block;\n",
       "  vertical-align: middle;\n",
       "  width: 1em;\n",
       "  height: 1.5em !important;\n",
       "  stroke-width: 0;\n",
       "  stroke: currentColor;\n",
       "  fill: currentColor;\n",
       "}\n",
       "</style><pre class='xr-text-repr-fallback'>&lt;TimeSeries (DataArray) (date: 1, component: 2, sample: 1)&gt;\n",
       "array([[[0.78416604],\n",
       "        [0.78240633]]], dtype=float32)\n",
       "Coordinates:\n",
       "  * date       (date) datetime64[ns] 2013-04-11\n",
       "  * component  (component) object &#x27;oil_ma_7&#x27; &#x27;oil_ma_28&#x27;\n",
       "Dimensions without coordinates: sample\n",
       "Attributes:\n",
       "    static_covariates:  None\n",
       "    hierarchy:          None</pre><div class='xr-wrap' style='display:none'><div class='xr-header'><div class='xr-obj-type'>TimeSeries (DataArray)</div><div class='xr-array-name'></div><ul class='xr-dim-list'><li><span class='xr-has-index'>date</span>: 1</li><li><span class='xr-has-index'>component</span>: 2</li><li><span>sample</span>: 1</li></ul></div><ul class='xr-sections'><li class='xr-section-item'><div class='xr-array-wrap'><input id='section-5f6244b4-3022-4b3a-b3fe-96e48e898544' class='xr-array-in' type='checkbox' checked><label for='section-5f6244b4-3022-4b3a-b3fe-96e48e898544' title='Show/hide data repr'><svg class='icon xr-icon-database'><use xlink:href='#icon-database'></use></svg></label><div class='xr-array-preview xr-preview'><span>0.7842 0.7824</span></div><div class='xr-array-data'><pre>array([[[0.78416604],\n",
       "        [0.78240633]]], dtype=float32)</pre></div></div></li><li class='xr-section-item'><input id='section-0e22827c-3c9d-4408-89e9-f99eee80b4a8' class='xr-section-summary-in' type='checkbox'  checked><label for='section-0e22827c-3c9d-4408-89e9-f99eee80b4a8' class='xr-section-summary' >Coordinates: <span>(2)</span></label><div class='xr-section-inline-details'></div><div class='xr-section-details'><ul class='xr-var-list'><li class='xr-var-item'><div class='xr-var-name'><span class='xr-has-index'>date</span></div><div class='xr-var-dims'>(date)</div><div class='xr-var-dtype'>datetime64[ns]</div><div class='xr-var-preview xr-preview'>2013-04-11</div><input id='attrs-16dd5195-0710-4bdb-b4da-9838829fdd9e' class='xr-var-attrs-in' type='checkbox' disabled><label for='attrs-16dd5195-0710-4bdb-b4da-9838829fdd9e' title='Show/Hide attributes'><svg class='icon xr-icon-file-text2'><use xlink:href='#icon-file-text2'></use></svg></label><input id='data-f98b37f7-c604-40a0-9e38-66e5517d56a1' class='xr-var-data-in' type='checkbox'><label for='data-f98b37f7-c604-40a0-9e38-66e5517d56a1' title='Show/Hide data repr'><svg class='icon xr-icon-database'><use xlink:href='#icon-database'></use></svg></label><div class='xr-var-attrs'><dl class='xr-attrs'></dl></div><div class='xr-var-data'><pre>array([&#x27;2013-04-11T00:00:00.000000000&#x27;], dtype=&#x27;datetime64[ns]&#x27;)</pre></div></li><li class='xr-var-item'><div class='xr-var-name'><span class='xr-has-index'>component</span></div><div class='xr-var-dims'>(component)</div><div class='xr-var-dtype'>object</div><div class='xr-var-preview xr-preview'>&#x27;oil_ma_7&#x27; &#x27;oil_ma_28&#x27;</div><input id='attrs-04a519ed-c278-48a1-b231-655e92e90e52' class='xr-var-attrs-in' type='checkbox' disabled><label for='attrs-04a519ed-c278-48a1-b231-655e92e90e52' title='Show/Hide attributes'><svg class='icon xr-icon-file-text2'><use xlink:href='#icon-file-text2'></use></svg></label><input id='data-51ba9178-2ade-4c66-bed5-9aacf48931d0' class='xr-var-data-in' type='checkbox'><label for='data-51ba9178-2ade-4c66-bed5-9aacf48931d0' title='Show/Hide data repr'><svg class='icon xr-icon-database'><use xlink:href='#icon-database'></use></svg></label><div class='xr-var-attrs'><dl class='xr-attrs'></dl></div><div class='xr-var-data'><pre>array([&#x27;oil_ma_7&#x27;, &#x27;oil_ma_28&#x27;], dtype=object)</pre></div></li></ul></div></li><li class='xr-section-item'><input id='section-dfb60520-c7bc-466b-a274-95e109e425b8' class='xr-section-summary-in' type='checkbox'  ><label for='section-dfb60520-c7bc-466b-a274-95e109e425b8' class='xr-section-summary' >Indexes: <span>(2)</span></label><div class='xr-section-inline-details'></div><div class='xr-section-details'><ul class='xr-var-list'><li class='xr-var-item'><div class='xr-index-name'><div>date</div></div><div class='xr-index-preview'>PandasIndex</div><div></div><input id='index-ab295c30-47f8-4e0e-a37d-9734d04bbf4d' class='xr-index-data-in' type='checkbox'/><label for='index-ab295c30-47f8-4e0e-a37d-9734d04bbf4d' title='Show/Hide index repr'><svg class='icon xr-icon-database'><use xlink:href='#icon-database'></use></svg></label><div class='xr-index-data'><pre>PandasIndex(DatetimeIndex([&#x27;2013-04-11&#x27;], dtype=&#x27;datetime64[ns]&#x27;, name=&#x27;date&#x27;, freq=&#x27;D&#x27;))</pre></div></li><li class='xr-var-item'><div class='xr-index-name'><div>component</div></div><div class='xr-index-preview'>PandasIndex</div><div></div><input id='index-074b9ee7-bdc0-4607-9398-a6aa7187b2b7' class='xr-index-data-in' type='checkbox'/><label for='index-074b9ee7-bdc0-4607-9398-a6aa7187b2b7' title='Show/Hide index repr'><svg class='icon xr-icon-database'><use xlink:href='#icon-database'></use></svg></label><div class='xr-index-data'><pre>PandasIndex(Index([&#x27;oil_ma_7&#x27;, &#x27;oil_ma_28&#x27;], dtype=&#x27;object&#x27;, name=&#x27;component&#x27;))</pre></div></li></ul></div></li><li class='xr-section-item'><input id='section-50c7e153-9c14-40eb-a61d-97e8c52a022c' class='xr-section-summary-in' type='checkbox'  checked><label for='section-50c7e153-9c14-40eb-a61d-97e8c52a022c' class='xr-section-summary' >Attributes: <span>(2)</span></label><div class='xr-section-inline-details'></div><div class='xr-section-details'><dl class='xr-attrs'><dt><span>static_covariates :</span></dt><dd>None</dd><dt><span>hierarchy :</span></dt><dd>None</dd></dl></div></li></ul></div></div>"
      ],
      "text/plain": [
       "<TimeSeries (DataArray) (date: 1, component: 2, sample: 1)>\n",
       "array([[[0.78416604],\n",
       "        [0.78240633]]], dtype=float32)\n",
       "Coordinates:\n",
       "  * date       (date) datetime64[ns] 2013-04-11\n",
       "  * component  (component) object 'oil_ma_7' 'oil_ma_28'\n",
       "Dimensions without coordinates: sample\n",
       "Attributes:\n",
       "    static_covariates:  None\n",
       "    hierarchy:          None"
      ]
     },
     "metadata": {},
     "output_type": "display_data"
    }
   ],
   "source": [
    "display(oil_moving_averages[100])"
   ]
  },
  {
   "cell_type": "markdown",
   "id": "54d7d3d9",
   "metadata": {
    "papermill": {
     "duration": 0.029369,
     "end_time": "2023-05-22T09:08:16.542899",
     "exception": false,
     "start_time": "2023-05-22T09:08:16.513530",
     "status": "completed"
    },
    "tags": []
   },
   "source": [
    "### Holidays"
   ]
  },
  {
   "cell_type": "code",
   "execution_count": 32,
   "id": "b119a79c",
   "metadata": {
    "execution": {
     "iopub.execute_input": "2023-05-22T09:08:16.604038Z",
     "iopub.status.busy": "2023-05-22T09:08:16.603608Z",
     "iopub.status.idle": "2023-05-22T09:08:16.614184Z",
     "shell.execute_reply": "2023-05-22T09:08:16.612895Z"
    },
    "papermill": {
     "duration": 0.044098,
     "end_time": "2023-05-22T09:08:16.616741",
     "exception": false,
     "start_time": "2023-05-22T09:08:16.572643",
     "status": "completed"
    },
    "tags": []
   },
   "outputs": [],
   "source": [
    "def holiday_list(df_stores):\n",
    "\n",
    "    listofseries = []\n",
    "    \n",
    "    for i in range(0,len(df_stores)):        \n",
    "            df_holiday_dummies = pd.DataFrame(columns=['date'])\n",
    "            df_holiday_dummies[\"date\"] = df_holidays_events[\"date\"]\n",
    "    \n",
    "            df_holiday_dummies[\"national_holiday\"] = np.where(((df_holidays_events[\"type\"] == \"Holiday\") & (df_holidays_events[\"locale\"] == \"National\")), 1, 0)\n",
    "\n",
    "            df_holiday_dummies[\"earthquake_relief\"] = np.where(df_holidays_events['description'].str.contains('Terremoto Manabi'), 1, 0)\n",
    "\n",
    "            df_holiday_dummies[\"christmas\"] = np.where(df_holidays_events['description'].str.contains('Navidad'), 1, 0)\n",
    "\n",
    "            df_holiday_dummies[\"football_event\"] = np.where(df_holidays_events['description'].str.contains('futbol'), 1, 0)\n",
    "\n",
    "            df_holiday_dummies[\"national_event\"] = np.where(((df_holidays_events[\"type\"] == \"Event\") & (df_holidays_events[\"locale\"] == \"National\") & (~df_holidays_events['description'].str.contains('Terremoto Manabi')) & (~df_holidays_events['description'].str.contains('futbol'))), 1, 0)\n",
    "\n",
    "            df_holiday_dummies[\"work_day\"] = np.where((df_holidays_events[\"type\"] == \"Work Day\"), 1, 0)\n",
    "\n",
    "            df_holiday_dummies[\"local_holiday\"] = np.where(((df_holidays_events[\"type\"] == \"Holiday\") & ((df_holidays_events[\"locale_name\"] == df_stores['state'][i]) | (df_holidays_events[\"locale_name\"] == df_stores['city'][i]))), 1, 0)\n",
    "                     \n",
    "            listofseries.append(df_holiday_dummies)\n",
    "\n",
    "    return listofseries"
   ]
  },
  {
   "cell_type": "code",
   "execution_count": 33,
   "id": "5dbfadbe",
   "metadata": {
    "execution": {
     "iopub.execute_input": "2023-05-22T09:08:16.679359Z",
     "iopub.status.busy": "2023-05-22T09:08:16.678913Z",
     "iopub.status.idle": "2023-05-22T09:08:16.685647Z",
     "shell.execute_reply": "2023-05-22T09:08:16.684756Z"
    },
    "papermill": {
     "duration": 0.040801,
     "end_time": "2023-05-22T09:08:16.687820",
     "exception": false,
     "start_time": "2023-05-22T09:08:16.647019",
     "status": "completed"
    },
    "tags": []
   },
   "outputs": [],
   "source": [
    "def remove_0_and_duplicates(holiday_list):\n",
    "\n",
    "    listofseries = []\n",
    "    \n",
    "    for i in range(0,len(holiday_list)):         \n",
    "            df_holiday_per_store = list_of_holidays_per_store[i].set_index('date')\n",
    "\n",
    "            df_holiday_per_store = df_holiday_per_store.loc[~(df_holiday_per_store==0).all(axis=1)]\n",
    "            \n",
    "            df_holiday_per_store = df_holiday_per_store.groupby('date').agg({'national_holiday':'max', 'earthquake_relief':'max', \n",
    "                                   'christmas':'max', 'football_event':'max', \n",
    "                                   'national_event':'max', 'work_day':'max', \n",
    "                                   'local_holiday':'max'}).reset_index()\n",
    "\n",
    "            listofseries.append(df_holiday_per_store)\n",
    "\n",
    "    return listofseries"
   ]
  },
  {
   "cell_type": "code",
   "execution_count": 34,
   "id": "3bd2f4d2",
   "metadata": {
    "execution": {
     "iopub.execute_input": "2023-05-22T09:08:16.754143Z",
     "iopub.status.busy": "2023-05-22T09:08:16.752448Z",
     "iopub.status.idle": "2023-05-22T09:08:16.761927Z",
     "shell.execute_reply": "2023-05-22T09:08:16.760521Z"
    },
    "papermill": {
     "duration": 0.04573,
     "end_time": "2023-05-22T09:08:16.764799",
     "exception": false,
     "start_time": "2023-05-22T09:08:16.719069",
     "status": "completed"
    },
    "tags": []
   },
   "outputs": [],
   "source": [
    "def holiday_TS_list_54(holiday_list):\n",
    "    listofseries = []\n",
    "    \n",
    "    for i in range(0,54):\n",
    "            holidays_TS = TimeSeries.from_dataframe(list_of_holidays_per_store[i], \n",
    "                                        time_col = 'date',\n",
    "                                        fill_missing_dates=True,\n",
    "                                        fillna_value=0,\n",
    "                                        freq='D')\n",
    "            \n",
    "            holidays_TS = holidays_TS.slice(pd.Timestamp('20130101'),pd.Timestamp('20170831'))\n",
    "            holidays_TS = holidays_TS.astype(np.float32)\n",
    "            listofseries.append(holidays_TS)\n",
    "\n",
    "    return listofseries"
   ]
  },
  {
   "cell_type": "code",
   "execution_count": 35,
   "id": "4140ece6",
   "metadata": {
    "execution": {
     "iopub.execute_input": "2023-05-22T09:08:16.830917Z",
     "iopub.status.busy": "2023-05-22T09:08:16.830493Z",
     "iopub.status.idle": "2023-05-22T09:08:19.132056Z",
     "shell.execute_reply": "2023-05-22T09:08:19.130835Z"
    },
    "papermill": {
     "duration": 2.336851,
     "end_time": "2023-05-22T09:08:19.134727",
     "exception": false,
     "start_time": "2023-05-22T09:08:16.797876",
     "status": "completed"
    },
    "tags": []
   },
   "outputs": [],
   "source": [
    "list_of_holidays_per_store = holiday_list(df_stores)\n",
    "list_of_holidays_per_store = remove_0_and_duplicates(list_of_holidays_per_store)   \n",
    "list_of_holidays_store = holiday_TS_list_54(list_of_holidays_per_store)\n",
    "\n",
    "holidays_filler = MissingValuesFiller(verbose=False, n_jobs=-1, name=\"Filler\")\n",
    "holidays_scaler = Scaler(verbose=False, n_jobs=-1, name=\"Scaler\")\n",
    "\n",
    "holidays_pipeline = Pipeline([holidays_filler, holidays_scaler])\n",
    "holidays_transformed = holidays_pipeline.fit_transform(list_of_holidays_store)"
   ]
  },
  {
   "cell_type": "code",
   "execution_count": 36,
   "id": "3413e918",
   "metadata": {
    "execution": {
     "iopub.execute_input": "2023-05-22T09:08:19.196716Z",
     "iopub.status.busy": "2023-05-22T09:08:19.196225Z",
     "iopub.status.idle": "2023-05-22T09:08:19.218932Z",
     "shell.execute_reply": "2023-05-22T09:08:19.217647Z"
    },
    "papermill": {
     "duration": 0.056971,
     "end_time": "2023-05-22T09:08:19.221480",
     "exception": false,
     "start_time": "2023-05-22T09:08:19.164509",
     "status": "completed"
    },
    "tags": []
   },
   "outputs": [
    {
     "data": {
      "text/plain": [
       "54"
      ]
     },
     "metadata": {},
     "output_type": "display_data"
    },
    {
     "data": {
      "text/plain": [
       "array(['national_holiday', 'earthquake_relief', 'christmas',\n",
       "       'football_event', 'national_event', 'work_day', 'local_holiday'],\n",
       "      dtype=object)"
      ]
     },
     "metadata": {},
     "output_type": "display_data"
    },
    {
     "data": {
      "text/html": [
       "<div><svg style=\"position: absolute; width: 0; height: 0; overflow: hidden\">\n",
       "<defs>\n",
       "<symbol id=\"icon-database\" viewBox=\"0 0 32 32\">\n",
       "<path d=\"M16 0c-8.837 0-16 2.239-16 5v4c0 2.761 7.163 5 16 5s16-2.239 16-5v-4c0-2.761-7.163-5-16-5z\"></path>\n",
       "<path d=\"M16 17c-8.837 0-16-2.239-16-5v6c0 2.761 7.163 5 16 5s16-2.239 16-5v-6c0 2.761-7.163 5-16 5z\"></path>\n",
       "<path d=\"M16 26c-8.837 0-16-2.239-16-5v6c0 2.761 7.163 5 16 5s16-2.239 16-5v-6c0 2.761-7.163 5-16 5z\"></path>\n",
       "</symbol>\n",
       "<symbol id=\"icon-file-text2\" viewBox=\"0 0 32 32\">\n",
       "<path d=\"M28.681 7.159c-0.694-0.947-1.662-2.053-2.724-3.116s-2.169-2.030-3.116-2.724c-1.612-1.182-2.393-1.319-2.841-1.319h-15.5c-1.378 0-2.5 1.121-2.5 2.5v27c0 1.378 1.122 2.5 2.5 2.5h23c1.378 0 2.5-1.122 2.5-2.5v-19.5c0-0.448-0.137-1.23-1.319-2.841zM24.543 5.457c0.959 0.959 1.712 1.825 2.268 2.543h-4.811v-4.811c0.718 0.556 1.584 1.309 2.543 2.268zM28 29.5c0 0.271-0.229 0.5-0.5 0.5h-23c-0.271 0-0.5-0.229-0.5-0.5v-27c0-0.271 0.229-0.5 0.5-0.5 0 0 15.499-0 15.5 0v7c0 0.552 0.448 1 1 1h7v19.5z\"></path>\n",
       "<path d=\"M23 26h-14c-0.552 0-1-0.448-1-1s0.448-1 1-1h14c0.552 0 1 0.448 1 1s-0.448 1-1 1z\"></path>\n",
       "<path d=\"M23 22h-14c-0.552 0-1-0.448-1-1s0.448-1 1-1h14c0.552 0 1 0.448 1 1s-0.448 1-1 1z\"></path>\n",
       "<path d=\"M23 18h-14c-0.552 0-1-0.448-1-1s0.448-1 1-1h14c0.552 0 1 0.448 1 1s-0.448 1-1 1z\"></path>\n",
       "</symbol>\n",
       "</defs>\n",
       "</svg>\n",
       "<style>/* CSS stylesheet for displaying xarray objects in jupyterlab.\n",
       " *\n",
       " */\n",
       "\n",
       ":root {\n",
       "  --xr-font-color0: var(--jp-content-font-color0, rgba(0, 0, 0, 1));\n",
       "  --xr-font-color2: var(--jp-content-font-color2, rgba(0, 0, 0, 0.54));\n",
       "  --xr-font-color3: var(--jp-content-font-color3, rgba(0, 0, 0, 0.38));\n",
       "  --xr-border-color: var(--jp-border-color2, #e0e0e0);\n",
       "  --xr-disabled-color: var(--jp-layout-color3, #bdbdbd);\n",
       "  --xr-background-color: var(--jp-layout-color0, white);\n",
       "  --xr-background-color-row-even: var(--jp-layout-color1, white);\n",
       "  --xr-background-color-row-odd: var(--jp-layout-color2, #eeeeee);\n",
       "}\n",
       "\n",
       "html[theme=dark],\n",
       "body[data-theme=dark],\n",
       "body.vscode-dark {\n",
       "  --xr-font-color0: rgba(255, 255, 255, 1);\n",
       "  --xr-font-color2: rgba(255, 255, 255, 0.54);\n",
       "  --xr-font-color3: rgba(255, 255, 255, 0.38);\n",
       "  --xr-border-color: #1F1F1F;\n",
       "  --xr-disabled-color: #515151;\n",
       "  --xr-background-color: #111111;\n",
       "  --xr-background-color-row-even: #111111;\n",
       "  --xr-background-color-row-odd: #313131;\n",
       "}\n",
       "\n",
       ".xr-wrap {\n",
       "  display: block !important;\n",
       "  min-width: 300px;\n",
       "  max-width: 700px;\n",
       "}\n",
       "\n",
       ".xr-text-repr-fallback {\n",
       "  /* fallback to plain text repr when CSS is not injected (untrusted notebook) */\n",
       "  display: none;\n",
       "}\n",
       "\n",
       ".xr-header {\n",
       "  padding-top: 6px;\n",
       "  padding-bottom: 6px;\n",
       "  margin-bottom: 4px;\n",
       "  border-bottom: solid 1px var(--xr-border-color);\n",
       "}\n",
       "\n",
       ".xr-header > div,\n",
       ".xr-header > ul {\n",
       "  display: inline;\n",
       "  margin-top: 0;\n",
       "  margin-bottom: 0;\n",
       "}\n",
       "\n",
       ".xr-obj-type,\n",
       ".xr-array-name {\n",
       "  margin-left: 2px;\n",
       "  margin-right: 10px;\n",
       "}\n",
       "\n",
       ".xr-obj-type {\n",
       "  color: var(--xr-font-color2);\n",
       "}\n",
       "\n",
       ".xr-sections {\n",
       "  padding-left: 0 !important;\n",
       "  display: grid;\n",
       "  grid-template-columns: 150px auto auto 1fr 20px 20px;\n",
       "}\n",
       "\n",
       ".xr-section-item {\n",
       "  display: contents;\n",
       "}\n",
       "\n",
       ".xr-section-item input {\n",
       "  display: none;\n",
       "}\n",
       "\n",
       ".xr-section-item input + label {\n",
       "  color: var(--xr-disabled-color);\n",
       "}\n",
       "\n",
       ".xr-section-item input:enabled + label {\n",
       "  cursor: pointer;\n",
       "  color: var(--xr-font-color2);\n",
       "}\n",
       "\n",
       ".xr-section-item input:enabled + label:hover {\n",
       "  color: var(--xr-font-color0);\n",
       "}\n",
       "\n",
       ".xr-section-summary {\n",
       "  grid-column: 1;\n",
       "  color: var(--xr-font-color2);\n",
       "  font-weight: 500;\n",
       "}\n",
       "\n",
       ".xr-section-summary > span {\n",
       "  display: inline-block;\n",
       "  padding-left: 0.5em;\n",
       "}\n",
       "\n",
       ".xr-section-summary-in:disabled + label {\n",
       "  color: var(--xr-font-color2);\n",
       "}\n",
       "\n",
       ".xr-section-summary-in + label:before {\n",
       "  display: inline-block;\n",
       "  content: '►';\n",
       "  font-size: 11px;\n",
       "  width: 15px;\n",
       "  text-align: center;\n",
       "}\n",
       "\n",
       ".xr-section-summary-in:disabled + label:before {\n",
       "  color: var(--xr-disabled-color);\n",
       "}\n",
       "\n",
       ".xr-section-summary-in:checked + label:before {\n",
       "  content: '▼';\n",
       "}\n",
       "\n",
       ".xr-section-summary-in:checked + label > span {\n",
       "  display: none;\n",
       "}\n",
       "\n",
       ".xr-section-summary,\n",
       ".xr-section-inline-details {\n",
       "  padding-top: 4px;\n",
       "  padding-bottom: 4px;\n",
       "}\n",
       "\n",
       ".xr-section-inline-details {\n",
       "  grid-column: 2 / -1;\n",
       "}\n",
       "\n",
       ".xr-section-details {\n",
       "  display: none;\n",
       "  grid-column: 1 / -1;\n",
       "  margin-bottom: 5px;\n",
       "}\n",
       "\n",
       ".xr-section-summary-in:checked ~ .xr-section-details {\n",
       "  display: contents;\n",
       "}\n",
       "\n",
       ".xr-array-wrap {\n",
       "  grid-column: 1 / -1;\n",
       "  display: grid;\n",
       "  grid-template-columns: 20px auto;\n",
       "}\n",
       "\n",
       ".xr-array-wrap > label {\n",
       "  grid-column: 1;\n",
       "  vertical-align: top;\n",
       "}\n",
       "\n",
       ".xr-preview {\n",
       "  color: var(--xr-font-color3);\n",
       "}\n",
       "\n",
       ".xr-array-preview,\n",
       ".xr-array-data {\n",
       "  padding: 0 5px !important;\n",
       "  grid-column: 2;\n",
       "}\n",
       "\n",
       ".xr-array-data,\n",
       ".xr-array-in:checked ~ .xr-array-preview {\n",
       "  display: none;\n",
       "}\n",
       "\n",
       ".xr-array-in:checked ~ .xr-array-data,\n",
       ".xr-array-preview {\n",
       "  display: inline-block;\n",
       "}\n",
       "\n",
       ".xr-dim-list {\n",
       "  display: inline-block !important;\n",
       "  list-style: none;\n",
       "  padding: 0 !important;\n",
       "  margin: 0;\n",
       "}\n",
       "\n",
       ".xr-dim-list li {\n",
       "  display: inline-block;\n",
       "  padding: 0;\n",
       "  margin: 0;\n",
       "}\n",
       "\n",
       ".xr-dim-list:before {\n",
       "  content: '(';\n",
       "}\n",
       "\n",
       ".xr-dim-list:after {\n",
       "  content: ')';\n",
       "}\n",
       "\n",
       ".xr-dim-list li:not(:last-child):after {\n",
       "  content: ',';\n",
       "  padding-right: 5px;\n",
       "}\n",
       "\n",
       ".xr-has-index {\n",
       "  font-weight: bold;\n",
       "}\n",
       "\n",
       ".xr-var-list,\n",
       ".xr-var-item {\n",
       "  display: contents;\n",
       "}\n",
       "\n",
       ".xr-var-item > div,\n",
       ".xr-var-item label,\n",
       ".xr-var-item > .xr-var-name span {\n",
       "  background-color: var(--xr-background-color-row-even);\n",
       "  margin-bottom: 0;\n",
       "}\n",
       "\n",
       ".xr-var-item > .xr-var-name:hover span {\n",
       "  padding-right: 5px;\n",
       "}\n",
       "\n",
       ".xr-var-list > li:nth-child(odd) > div,\n",
       ".xr-var-list > li:nth-child(odd) > label,\n",
       ".xr-var-list > li:nth-child(odd) > .xr-var-name span {\n",
       "  background-color: var(--xr-background-color-row-odd);\n",
       "}\n",
       "\n",
       ".xr-var-name {\n",
       "  grid-column: 1;\n",
       "}\n",
       "\n",
       ".xr-var-dims {\n",
       "  grid-column: 2;\n",
       "}\n",
       "\n",
       ".xr-var-dtype {\n",
       "  grid-column: 3;\n",
       "  text-align: right;\n",
       "  color: var(--xr-font-color2);\n",
       "}\n",
       "\n",
       ".xr-var-preview {\n",
       "  grid-column: 4;\n",
       "}\n",
       "\n",
       ".xr-index-preview {\n",
       "  grid-column: 2 / 5;\n",
       "  color: var(--xr-font-color2);\n",
       "}\n",
       "\n",
       ".xr-var-name,\n",
       ".xr-var-dims,\n",
       ".xr-var-dtype,\n",
       ".xr-preview,\n",
       ".xr-attrs dt {\n",
       "  white-space: nowrap;\n",
       "  overflow: hidden;\n",
       "  text-overflow: ellipsis;\n",
       "  padding-right: 10px;\n",
       "}\n",
       "\n",
       ".xr-var-name:hover,\n",
       ".xr-var-dims:hover,\n",
       ".xr-var-dtype:hover,\n",
       ".xr-attrs dt:hover {\n",
       "  overflow: visible;\n",
       "  width: auto;\n",
       "  z-index: 1;\n",
       "}\n",
       "\n",
       ".xr-var-attrs,\n",
       ".xr-var-data,\n",
       ".xr-index-data {\n",
       "  display: none;\n",
       "  background-color: var(--xr-background-color) !important;\n",
       "  padding-bottom: 5px !important;\n",
       "}\n",
       "\n",
       ".xr-var-attrs-in:checked ~ .xr-var-attrs,\n",
       ".xr-var-data-in:checked ~ .xr-var-data,\n",
       ".xr-index-data-in:checked ~ .xr-index-data {\n",
       "  display: block;\n",
       "}\n",
       "\n",
       ".xr-var-data > table {\n",
       "  float: right;\n",
       "}\n",
       "\n",
       ".xr-var-name span,\n",
       ".xr-var-data,\n",
       ".xr-index-name div,\n",
       ".xr-index-data,\n",
       ".xr-attrs {\n",
       "  padding-left: 25px !important;\n",
       "}\n",
       "\n",
       ".xr-attrs,\n",
       ".xr-var-attrs,\n",
       ".xr-var-data,\n",
       ".xr-index-data {\n",
       "  grid-column: 1 / -1;\n",
       "}\n",
       "\n",
       "dl.xr-attrs {\n",
       "  padding: 0;\n",
       "  margin: 0;\n",
       "  display: grid;\n",
       "  grid-template-columns: 125px auto;\n",
       "}\n",
       "\n",
       ".xr-attrs dt,\n",
       ".xr-attrs dd {\n",
       "  padding: 0;\n",
       "  margin: 0;\n",
       "  float: left;\n",
       "  padding-right: 10px;\n",
       "  width: auto;\n",
       "}\n",
       "\n",
       ".xr-attrs dt {\n",
       "  font-weight: normal;\n",
       "  grid-column: 1;\n",
       "}\n",
       "\n",
       ".xr-attrs dt:hover span {\n",
       "  display: inline-block;\n",
       "  background: var(--xr-background-color);\n",
       "  padding-right: 10px;\n",
       "}\n",
       "\n",
       ".xr-attrs dd {\n",
       "  grid-column: 2;\n",
       "  white-space: pre-wrap;\n",
       "  word-break: break-all;\n",
       "}\n",
       "\n",
       ".xr-icon-database,\n",
       ".xr-icon-file-text2,\n",
       ".xr-no-icon {\n",
       "  display: inline-block;\n",
       "  vertical-align: middle;\n",
       "  width: 1em;\n",
       "  height: 1.5em !important;\n",
       "  stroke-width: 0;\n",
       "  stroke: currentColor;\n",
       "  fill: currentColor;\n",
       "}\n",
       "</style><pre class='xr-text-repr-fallback'>&lt;TimeSeries (DataArray) (date: 1, component: 7, sample: 1)&gt;\n",
       "array([[[0.],\n",
       "        [0.],\n",
       "        [0.],\n",
       "        [0.],\n",
       "        [0.],\n",
       "        [0.],\n",
       "        [0.]]], dtype=float32)\n",
       "Coordinates:\n",
       "  * date       (date) datetime64[ns] 2013-04-11\n",
       "  * component  (component) object &#x27;national_holiday&#x27; ... &#x27;local_holiday&#x27;\n",
       "Dimensions without coordinates: sample\n",
       "Attributes:\n",
       "    static_covariates:  None\n",
       "    hierarchy:          None</pre><div class='xr-wrap' style='display:none'><div class='xr-header'><div class='xr-obj-type'>TimeSeries (DataArray)</div><div class='xr-array-name'></div><ul class='xr-dim-list'><li><span class='xr-has-index'>date</span>: 1</li><li><span class='xr-has-index'>component</span>: 7</li><li><span>sample</span>: 1</li></ul></div><ul class='xr-sections'><li class='xr-section-item'><div class='xr-array-wrap'><input id='section-0162cb45-758f-44ac-8e0c-d59f1aa733d2' class='xr-array-in' type='checkbox' checked><label for='section-0162cb45-758f-44ac-8e0c-d59f1aa733d2' title='Show/hide data repr'><svg class='icon xr-icon-database'><use xlink:href='#icon-database'></use></svg></label><div class='xr-array-preview xr-preview'><span>0.0 0.0 0.0 0.0 0.0 0.0 0.0</span></div><div class='xr-array-data'><pre>array([[[0.],\n",
       "        [0.],\n",
       "        [0.],\n",
       "        [0.],\n",
       "        [0.],\n",
       "        [0.],\n",
       "        [0.]]], dtype=float32)</pre></div></div></li><li class='xr-section-item'><input id='section-987cdfa8-7086-4a38-9e9f-bc487815d534' class='xr-section-summary-in' type='checkbox'  checked><label for='section-987cdfa8-7086-4a38-9e9f-bc487815d534' class='xr-section-summary' >Coordinates: <span>(2)</span></label><div class='xr-section-inline-details'></div><div class='xr-section-details'><ul class='xr-var-list'><li class='xr-var-item'><div class='xr-var-name'><span class='xr-has-index'>date</span></div><div class='xr-var-dims'>(date)</div><div class='xr-var-dtype'>datetime64[ns]</div><div class='xr-var-preview xr-preview'>2013-04-11</div><input id='attrs-d8f84503-3ab3-4a1d-a3dd-a4310998e356' class='xr-var-attrs-in' type='checkbox' disabled><label for='attrs-d8f84503-3ab3-4a1d-a3dd-a4310998e356' title='Show/Hide attributes'><svg class='icon xr-icon-file-text2'><use xlink:href='#icon-file-text2'></use></svg></label><input id='data-4040ae1a-7bf3-4d73-ab6a-a6be97e3f4bc' class='xr-var-data-in' type='checkbox'><label for='data-4040ae1a-7bf3-4d73-ab6a-a6be97e3f4bc' title='Show/Hide data repr'><svg class='icon xr-icon-database'><use xlink:href='#icon-database'></use></svg></label><div class='xr-var-attrs'><dl class='xr-attrs'></dl></div><div class='xr-var-data'><pre>array([&#x27;2013-04-11T00:00:00.000000000&#x27;], dtype=&#x27;datetime64[ns]&#x27;)</pre></div></li><li class='xr-var-item'><div class='xr-var-name'><span class='xr-has-index'>component</span></div><div class='xr-var-dims'>(component)</div><div class='xr-var-dtype'>object</div><div class='xr-var-preview xr-preview'>&#x27;national_holiday&#x27; ... &#x27;local_ho...</div><input id='attrs-d066ec71-1654-4d26-bddd-dc09f17a739b' class='xr-var-attrs-in' type='checkbox' disabled><label for='attrs-d066ec71-1654-4d26-bddd-dc09f17a739b' title='Show/Hide attributes'><svg class='icon xr-icon-file-text2'><use xlink:href='#icon-file-text2'></use></svg></label><input id='data-65c7d76a-2fbe-42bd-b5a1-0cfd7f628555' class='xr-var-data-in' type='checkbox'><label for='data-65c7d76a-2fbe-42bd-b5a1-0cfd7f628555' title='Show/Hide data repr'><svg class='icon xr-icon-database'><use xlink:href='#icon-database'></use></svg></label><div class='xr-var-attrs'><dl class='xr-attrs'></dl></div><div class='xr-var-data'><pre>array([&#x27;national_holiday&#x27;, &#x27;earthquake_relief&#x27;, &#x27;christmas&#x27;, &#x27;football_event&#x27;,\n",
       "       &#x27;national_event&#x27;, &#x27;work_day&#x27;, &#x27;local_holiday&#x27;], dtype=object)</pre></div></li></ul></div></li><li class='xr-section-item'><input id='section-49fd7cc8-765a-4e29-8e8a-e768885d3505' class='xr-section-summary-in' type='checkbox'  ><label for='section-49fd7cc8-765a-4e29-8e8a-e768885d3505' class='xr-section-summary' >Indexes: <span>(2)</span></label><div class='xr-section-inline-details'></div><div class='xr-section-details'><ul class='xr-var-list'><li class='xr-var-item'><div class='xr-index-name'><div>date</div></div><div class='xr-index-preview'>PandasIndex</div><div></div><input id='index-5ed705ec-2c11-44db-9253-08100a9a1d92' class='xr-index-data-in' type='checkbox'/><label for='index-5ed705ec-2c11-44db-9253-08100a9a1d92' title='Show/Hide index repr'><svg class='icon xr-icon-database'><use xlink:href='#icon-database'></use></svg></label><div class='xr-index-data'><pre>PandasIndex(DatetimeIndex([&#x27;2013-04-11&#x27;], dtype=&#x27;datetime64[ns]&#x27;, name=&#x27;date&#x27;, freq=&#x27;D&#x27;))</pre></div></li><li class='xr-var-item'><div class='xr-index-name'><div>component</div></div><div class='xr-index-preview'>PandasIndex</div><div></div><input id='index-2559253f-ff4e-4e1e-9c66-1f18d5e46b01' class='xr-index-data-in' type='checkbox'/><label for='index-2559253f-ff4e-4e1e-9c66-1f18d5e46b01' title='Show/Hide index repr'><svg class='icon xr-icon-database'><use xlink:href='#icon-database'></use></svg></label><div class='xr-index-data'><pre>PandasIndex(Index([&#x27;national_holiday&#x27;, &#x27;earthquake_relief&#x27;, &#x27;christmas&#x27;, &#x27;football_event&#x27;,\n",
       "       &#x27;national_event&#x27;, &#x27;work_day&#x27;, &#x27;local_holiday&#x27;],\n",
       "      dtype=&#x27;object&#x27;, name=&#x27;component&#x27;))</pre></div></li></ul></div></li><li class='xr-section-item'><input id='section-fe3a221b-14ea-4b9d-876b-b5246e1c946e' class='xr-section-summary-in' type='checkbox'  checked><label for='section-fe3a221b-14ea-4b9d-876b-b5246e1c946e' class='xr-section-summary' >Attributes: <span>(2)</span></label><div class='xr-section-inline-details'></div><div class='xr-section-details'><dl class='xr-attrs'><dt><span>static_covariates :</span></dt><dd>None</dd><dt><span>hierarchy :</span></dt><dd>None</dd></dl></div></li></ul></div></div>"
      ],
      "text/plain": [
       "<TimeSeries (DataArray) (date: 1, component: 7, sample: 1)>\n",
       "array([[[0.],\n",
       "        [0.],\n",
       "        [0.],\n",
       "        [0.],\n",
       "        [0.],\n",
       "        [0.],\n",
       "        [0.]]], dtype=float32)\n",
       "Coordinates:\n",
       "  * date       (date) datetime64[ns] 2013-04-11\n",
       "  * component  (component) object 'national_holiday' ... 'local_holiday'\n",
       "Dimensions without coordinates: sample\n",
       "Attributes:\n",
       "    static_covariates:  None\n",
       "    hierarchy:          None"
      ]
     },
     "metadata": {},
     "output_type": "display_data"
    }
   ],
   "source": [
    "display(len(holidays_transformed))\n",
    "display(holidays_transformed[0].components.values)\n",
    "display(holidays_transformed[0][100])"
   ]
  },
  {
   "cell_type": "markdown",
   "id": "f1b33668",
   "metadata": {
    "papermill": {
     "duration": 0.032665,
     "end_time": "2023-05-22T09:08:19.287557",
     "exception": false,
     "start_time": "2023-05-22T09:08:19.254892",
     "status": "completed"
    },
    "tags": []
   },
   "source": [
    "### Promotion"
   ]
  },
  {
   "cell_type": "code",
   "execution_count": 37,
   "id": "bc46204b",
   "metadata": {
    "execution": {
     "iopub.execute_input": "2023-05-22T09:08:19.351658Z",
     "iopub.status.busy": "2023-05-22T09:08:19.351244Z",
     "iopub.status.idle": "2023-05-22T09:08:19.356032Z",
     "shell.execute_reply": "2023-05-22T09:08:19.355135Z"
    },
    "papermill": {
     "duration": 0.038091,
     "end_time": "2023-05-22T09:08:19.358133",
     "exception": false,
     "start_time": "2023-05-22T09:08:19.320042",
     "status": "completed"
    },
    "tags": []
   },
   "outputs": [],
   "source": [
    "from tqdm import tqdm"
   ]
  },
  {
   "cell_type": "code",
   "execution_count": 38,
   "id": "4d213320",
   "metadata": {
    "execution": {
     "iopub.execute_input": "2023-05-22T09:08:19.425149Z",
     "iopub.status.busy": "2023-05-22T09:08:19.423930Z",
     "iopub.status.idle": "2023-05-22T09:08:53.932059Z",
     "shell.execute_reply": "2023-05-22T09:08:53.930852Z"
    },
    "papermill": {
     "duration": 34.545097,
     "end_time": "2023-05-22T09:08:53.935522",
     "exception": false,
     "start_time": "2023-05-22T09:08:19.390425",
     "status": "completed"
    },
    "tags": []
   },
   "outputs": [
    {
     "name": "stderr",
     "output_type": "stream",
     "text": [
      "100%|██████████| 33/33 [00:32<00:00,  1.03it/s]\n"
     ]
    }
   ],
   "source": [
    "df_promotion = pd.concat([df_train, df_test], axis=0)\n",
    "df_promotion = df_promotion.sort_values([\"store_nbr\",\"family\",\"date\"])\n",
    "df_promotion.tail()\n",
    "\n",
    "family_promotion_dict = {}\n",
    "\n",
    "for family in tqdm(family_list):\n",
    "    df_family = df_promotion.loc[df_promotion['family'] == family]\n",
    "\n",
    "    list_of_TS_promo = TimeSeries.from_group_dataframe(\n",
    "                                df_family,\n",
    "                                time_col=\"date\",\n",
    "                                group_cols=[\"store_nbr\",\"family\"],\n",
    "                                value_cols=\"onpromotion\",\n",
    "                                fill_missing_dates=True,\n",
    "                                freq='D')\n",
    "\n",
    "    for ts in list_of_TS_promo:\n",
    "        ts = ts.astype(np.float32)\n",
    "\n",
    "    family_promotion_dict[family] = list_of_TS_promo"
   ]
  },
  {
   "cell_type": "code",
   "execution_count": 39,
   "id": "9574dcc1",
   "metadata": {
    "execution": {
     "iopub.execute_input": "2023-05-22T09:08:54.001782Z",
     "iopub.status.busy": "2023-05-22T09:08:54.000984Z",
     "iopub.status.idle": "2023-05-22T09:08:54.019834Z",
     "shell.execute_reply": "2023-05-22T09:08:54.018866Z"
    },
    "papermill": {
     "duration": 0.054659,
     "end_time": "2023-05-22T09:08:54.022035",
     "exception": false,
     "start_time": "2023-05-22T09:08:53.967376",
     "status": "completed"
    },
    "tags": []
   },
   "outputs": [
    {
     "data": {
      "text/html": [
       "<div><svg style=\"position: absolute; width: 0; height: 0; overflow: hidden\">\n",
       "<defs>\n",
       "<symbol id=\"icon-database\" viewBox=\"0 0 32 32\">\n",
       "<path d=\"M16 0c-8.837 0-16 2.239-16 5v4c0 2.761 7.163 5 16 5s16-2.239 16-5v-4c0-2.761-7.163-5-16-5z\"></path>\n",
       "<path d=\"M16 17c-8.837 0-16-2.239-16-5v6c0 2.761 7.163 5 16 5s16-2.239 16-5v-6c0 2.761-7.163 5-16 5z\"></path>\n",
       "<path d=\"M16 26c-8.837 0-16-2.239-16-5v6c0 2.761 7.163 5 16 5s16-2.239 16-5v-6c0 2.761-7.163 5-16 5z\"></path>\n",
       "</symbol>\n",
       "<symbol id=\"icon-file-text2\" viewBox=\"0 0 32 32\">\n",
       "<path d=\"M28.681 7.159c-0.694-0.947-1.662-2.053-2.724-3.116s-2.169-2.030-3.116-2.724c-1.612-1.182-2.393-1.319-2.841-1.319h-15.5c-1.378 0-2.5 1.121-2.5 2.5v27c0 1.378 1.122 2.5 2.5 2.5h23c1.378 0 2.5-1.122 2.5-2.5v-19.5c0-0.448-0.137-1.23-1.319-2.841zM24.543 5.457c0.959 0.959 1.712 1.825 2.268 2.543h-4.811v-4.811c0.718 0.556 1.584 1.309 2.543 2.268zM28 29.5c0 0.271-0.229 0.5-0.5 0.5h-23c-0.271 0-0.5-0.229-0.5-0.5v-27c0-0.271 0.229-0.5 0.5-0.5 0 0 15.499-0 15.5 0v7c0 0.552 0.448 1 1 1h7v19.5z\"></path>\n",
       "<path d=\"M23 26h-14c-0.552 0-1-0.448-1-1s0.448-1 1-1h14c0.552 0 1 0.448 1 1s-0.448 1-1 1z\"></path>\n",
       "<path d=\"M23 22h-14c-0.552 0-1-0.448-1-1s0.448-1 1-1h14c0.552 0 1 0.448 1 1s-0.448 1-1 1z\"></path>\n",
       "<path d=\"M23 18h-14c-0.552 0-1-0.448-1-1s0.448-1 1-1h14c0.552 0 1 0.448 1 1s-0.448 1-1 1z\"></path>\n",
       "</symbol>\n",
       "</defs>\n",
       "</svg>\n",
       "<style>/* CSS stylesheet for displaying xarray objects in jupyterlab.\n",
       " *\n",
       " */\n",
       "\n",
       ":root {\n",
       "  --xr-font-color0: var(--jp-content-font-color0, rgba(0, 0, 0, 1));\n",
       "  --xr-font-color2: var(--jp-content-font-color2, rgba(0, 0, 0, 0.54));\n",
       "  --xr-font-color3: var(--jp-content-font-color3, rgba(0, 0, 0, 0.38));\n",
       "  --xr-border-color: var(--jp-border-color2, #e0e0e0);\n",
       "  --xr-disabled-color: var(--jp-layout-color3, #bdbdbd);\n",
       "  --xr-background-color: var(--jp-layout-color0, white);\n",
       "  --xr-background-color-row-even: var(--jp-layout-color1, white);\n",
       "  --xr-background-color-row-odd: var(--jp-layout-color2, #eeeeee);\n",
       "}\n",
       "\n",
       "html[theme=dark],\n",
       "body[data-theme=dark],\n",
       "body.vscode-dark {\n",
       "  --xr-font-color0: rgba(255, 255, 255, 1);\n",
       "  --xr-font-color2: rgba(255, 255, 255, 0.54);\n",
       "  --xr-font-color3: rgba(255, 255, 255, 0.38);\n",
       "  --xr-border-color: #1F1F1F;\n",
       "  --xr-disabled-color: #515151;\n",
       "  --xr-background-color: #111111;\n",
       "  --xr-background-color-row-even: #111111;\n",
       "  --xr-background-color-row-odd: #313131;\n",
       "}\n",
       "\n",
       ".xr-wrap {\n",
       "  display: block !important;\n",
       "  min-width: 300px;\n",
       "  max-width: 700px;\n",
       "}\n",
       "\n",
       ".xr-text-repr-fallback {\n",
       "  /* fallback to plain text repr when CSS is not injected (untrusted notebook) */\n",
       "  display: none;\n",
       "}\n",
       "\n",
       ".xr-header {\n",
       "  padding-top: 6px;\n",
       "  padding-bottom: 6px;\n",
       "  margin-bottom: 4px;\n",
       "  border-bottom: solid 1px var(--xr-border-color);\n",
       "}\n",
       "\n",
       ".xr-header > div,\n",
       ".xr-header > ul {\n",
       "  display: inline;\n",
       "  margin-top: 0;\n",
       "  margin-bottom: 0;\n",
       "}\n",
       "\n",
       ".xr-obj-type,\n",
       ".xr-array-name {\n",
       "  margin-left: 2px;\n",
       "  margin-right: 10px;\n",
       "}\n",
       "\n",
       ".xr-obj-type {\n",
       "  color: var(--xr-font-color2);\n",
       "}\n",
       "\n",
       ".xr-sections {\n",
       "  padding-left: 0 !important;\n",
       "  display: grid;\n",
       "  grid-template-columns: 150px auto auto 1fr 20px 20px;\n",
       "}\n",
       "\n",
       ".xr-section-item {\n",
       "  display: contents;\n",
       "}\n",
       "\n",
       ".xr-section-item input {\n",
       "  display: none;\n",
       "}\n",
       "\n",
       ".xr-section-item input + label {\n",
       "  color: var(--xr-disabled-color);\n",
       "}\n",
       "\n",
       ".xr-section-item input:enabled + label {\n",
       "  cursor: pointer;\n",
       "  color: var(--xr-font-color2);\n",
       "}\n",
       "\n",
       ".xr-section-item input:enabled + label:hover {\n",
       "  color: var(--xr-font-color0);\n",
       "}\n",
       "\n",
       ".xr-section-summary {\n",
       "  grid-column: 1;\n",
       "  color: var(--xr-font-color2);\n",
       "  font-weight: 500;\n",
       "}\n",
       "\n",
       ".xr-section-summary > span {\n",
       "  display: inline-block;\n",
       "  padding-left: 0.5em;\n",
       "}\n",
       "\n",
       ".xr-section-summary-in:disabled + label {\n",
       "  color: var(--xr-font-color2);\n",
       "}\n",
       "\n",
       ".xr-section-summary-in + label:before {\n",
       "  display: inline-block;\n",
       "  content: '►';\n",
       "  font-size: 11px;\n",
       "  width: 15px;\n",
       "  text-align: center;\n",
       "}\n",
       "\n",
       ".xr-section-summary-in:disabled + label:before {\n",
       "  color: var(--xr-disabled-color);\n",
       "}\n",
       "\n",
       ".xr-section-summary-in:checked + label:before {\n",
       "  content: '▼';\n",
       "}\n",
       "\n",
       ".xr-section-summary-in:checked + label > span {\n",
       "  display: none;\n",
       "}\n",
       "\n",
       ".xr-section-summary,\n",
       ".xr-section-inline-details {\n",
       "  padding-top: 4px;\n",
       "  padding-bottom: 4px;\n",
       "}\n",
       "\n",
       ".xr-section-inline-details {\n",
       "  grid-column: 2 / -1;\n",
       "}\n",
       "\n",
       ".xr-section-details {\n",
       "  display: none;\n",
       "  grid-column: 1 / -1;\n",
       "  margin-bottom: 5px;\n",
       "}\n",
       "\n",
       ".xr-section-summary-in:checked ~ .xr-section-details {\n",
       "  display: contents;\n",
       "}\n",
       "\n",
       ".xr-array-wrap {\n",
       "  grid-column: 1 / -1;\n",
       "  display: grid;\n",
       "  grid-template-columns: 20px auto;\n",
       "}\n",
       "\n",
       ".xr-array-wrap > label {\n",
       "  grid-column: 1;\n",
       "  vertical-align: top;\n",
       "}\n",
       "\n",
       ".xr-preview {\n",
       "  color: var(--xr-font-color3);\n",
       "}\n",
       "\n",
       ".xr-array-preview,\n",
       ".xr-array-data {\n",
       "  padding: 0 5px !important;\n",
       "  grid-column: 2;\n",
       "}\n",
       "\n",
       ".xr-array-data,\n",
       ".xr-array-in:checked ~ .xr-array-preview {\n",
       "  display: none;\n",
       "}\n",
       "\n",
       ".xr-array-in:checked ~ .xr-array-data,\n",
       ".xr-array-preview {\n",
       "  display: inline-block;\n",
       "}\n",
       "\n",
       ".xr-dim-list {\n",
       "  display: inline-block !important;\n",
       "  list-style: none;\n",
       "  padding: 0 !important;\n",
       "  margin: 0;\n",
       "}\n",
       "\n",
       ".xr-dim-list li {\n",
       "  display: inline-block;\n",
       "  padding: 0;\n",
       "  margin: 0;\n",
       "}\n",
       "\n",
       ".xr-dim-list:before {\n",
       "  content: '(';\n",
       "}\n",
       "\n",
       ".xr-dim-list:after {\n",
       "  content: ')';\n",
       "}\n",
       "\n",
       ".xr-dim-list li:not(:last-child):after {\n",
       "  content: ',';\n",
       "  padding-right: 5px;\n",
       "}\n",
       "\n",
       ".xr-has-index {\n",
       "  font-weight: bold;\n",
       "}\n",
       "\n",
       ".xr-var-list,\n",
       ".xr-var-item {\n",
       "  display: contents;\n",
       "}\n",
       "\n",
       ".xr-var-item > div,\n",
       ".xr-var-item label,\n",
       ".xr-var-item > .xr-var-name span {\n",
       "  background-color: var(--xr-background-color-row-even);\n",
       "  margin-bottom: 0;\n",
       "}\n",
       "\n",
       ".xr-var-item > .xr-var-name:hover span {\n",
       "  padding-right: 5px;\n",
       "}\n",
       "\n",
       ".xr-var-list > li:nth-child(odd) > div,\n",
       ".xr-var-list > li:nth-child(odd) > label,\n",
       ".xr-var-list > li:nth-child(odd) > .xr-var-name span {\n",
       "  background-color: var(--xr-background-color-row-odd);\n",
       "}\n",
       "\n",
       ".xr-var-name {\n",
       "  grid-column: 1;\n",
       "}\n",
       "\n",
       ".xr-var-dims {\n",
       "  grid-column: 2;\n",
       "}\n",
       "\n",
       ".xr-var-dtype {\n",
       "  grid-column: 3;\n",
       "  text-align: right;\n",
       "  color: var(--xr-font-color2);\n",
       "}\n",
       "\n",
       ".xr-var-preview {\n",
       "  grid-column: 4;\n",
       "}\n",
       "\n",
       ".xr-index-preview {\n",
       "  grid-column: 2 / 5;\n",
       "  color: var(--xr-font-color2);\n",
       "}\n",
       "\n",
       ".xr-var-name,\n",
       ".xr-var-dims,\n",
       ".xr-var-dtype,\n",
       ".xr-preview,\n",
       ".xr-attrs dt {\n",
       "  white-space: nowrap;\n",
       "  overflow: hidden;\n",
       "  text-overflow: ellipsis;\n",
       "  padding-right: 10px;\n",
       "}\n",
       "\n",
       ".xr-var-name:hover,\n",
       ".xr-var-dims:hover,\n",
       ".xr-var-dtype:hover,\n",
       ".xr-attrs dt:hover {\n",
       "  overflow: visible;\n",
       "  width: auto;\n",
       "  z-index: 1;\n",
       "}\n",
       "\n",
       ".xr-var-attrs,\n",
       ".xr-var-data,\n",
       ".xr-index-data {\n",
       "  display: none;\n",
       "  background-color: var(--xr-background-color) !important;\n",
       "  padding-bottom: 5px !important;\n",
       "}\n",
       "\n",
       ".xr-var-attrs-in:checked ~ .xr-var-attrs,\n",
       ".xr-var-data-in:checked ~ .xr-var-data,\n",
       ".xr-index-data-in:checked ~ .xr-index-data {\n",
       "  display: block;\n",
       "}\n",
       "\n",
       ".xr-var-data > table {\n",
       "  float: right;\n",
       "}\n",
       "\n",
       ".xr-var-name span,\n",
       ".xr-var-data,\n",
       ".xr-index-name div,\n",
       ".xr-index-data,\n",
       ".xr-attrs {\n",
       "  padding-left: 25px !important;\n",
       "}\n",
       "\n",
       ".xr-attrs,\n",
       ".xr-var-attrs,\n",
       ".xr-var-data,\n",
       ".xr-index-data {\n",
       "  grid-column: 1 / -1;\n",
       "}\n",
       "\n",
       "dl.xr-attrs {\n",
       "  padding: 0;\n",
       "  margin: 0;\n",
       "  display: grid;\n",
       "  grid-template-columns: 125px auto;\n",
       "}\n",
       "\n",
       ".xr-attrs dt,\n",
       ".xr-attrs dd {\n",
       "  padding: 0;\n",
       "  margin: 0;\n",
       "  float: left;\n",
       "  padding-right: 10px;\n",
       "  width: auto;\n",
       "}\n",
       "\n",
       ".xr-attrs dt {\n",
       "  font-weight: normal;\n",
       "  grid-column: 1;\n",
       "}\n",
       "\n",
       ".xr-attrs dt:hover span {\n",
       "  display: inline-block;\n",
       "  background: var(--xr-background-color);\n",
       "  padding-right: 10px;\n",
       "}\n",
       "\n",
       ".xr-attrs dd {\n",
       "  grid-column: 2;\n",
       "  white-space: pre-wrap;\n",
       "  word-break: break-all;\n",
       "}\n",
       "\n",
       ".xr-icon-database,\n",
       ".xr-icon-file-text2,\n",
       ".xr-no-icon {\n",
       "  display: inline-block;\n",
       "  vertical-align: middle;\n",
       "  width: 1em;\n",
       "  height: 1.5em !important;\n",
       "  stroke-width: 0;\n",
       "  stroke: currentColor;\n",
       "  fill: currentColor;\n",
       "}\n",
       "</style><pre class='xr-text-repr-fallback'>&lt;TimeSeries (DataArray) (date: 1704, component: 1, sample: 1)&gt;\n",
       "array([[[0.]],\n",
       "\n",
       "       [[0.]],\n",
       "\n",
       "       [[0.]],\n",
       "\n",
       "       ...,\n",
       "\n",
       "       [[0.]],\n",
       "\n",
       "       [[0.]],\n",
       "\n",
       "       [[0.]]])\n",
       "Coordinates:\n",
       "  * date       (date) datetime64[ns] 2013-01-01 2013-01-02 ... 2017-08-31\n",
       "  * component  (component) object &#x27;onpromotion&#x27;\n",
       "Dimensions without coordinates: sample\n",
       "Attributes:\n",
       "    static_covariates:  static_covariates  store_nbr      family\\ncomponent  ...\n",
       "    hierarchy:          None</pre><div class='xr-wrap' style='display:none'><div class='xr-header'><div class='xr-obj-type'>TimeSeries (DataArray)</div><div class='xr-array-name'></div><ul class='xr-dim-list'><li><span class='xr-has-index'>date</span>: 1704</li><li><span class='xr-has-index'>component</span>: 1</li><li><span>sample</span>: 1</li></ul></div><ul class='xr-sections'><li class='xr-section-item'><div class='xr-array-wrap'><input id='section-daa9fa60-2a96-4ab6-8f3e-83c768928e95' class='xr-array-in' type='checkbox' checked><label for='section-daa9fa60-2a96-4ab6-8f3e-83c768928e95' title='Show/hide data repr'><svg class='icon xr-icon-database'><use xlink:href='#icon-database'></use></svg></label><div class='xr-array-preview xr-preview'><span>0.0 0.0 0.0 0.0 0.0 0.0 0.0 0.0 ... 0.0 0.0 0.0 0.0 0.0 0.0 0.0 0.0</span></div><div class='xr-array-data'><pre>array([[[0.]],\n",
       "\n",
       "       [[0.]],\n",
       "\n",
       "       [[0.]],\n",
       "\n",
       "       ...,\n",
       "\n",
       "       [[0.]],\n",
       "\n",
       "       [[0.]],\n",
       "\n",
       "       [[0.]]])</pre></div></div></li><li class='xr-section-item'><input id='section-9b3da1e3-e0d5-46e9-b8be-72294ceab215' class='xr-section-summary-in' type='checkbox'  checked><label for='section-9b3da1e3-e0d5-46e9-b8be-72294ceab215' class='xr-section-summary' >Coordinates: <span>(2)</span></label><div class='xr-section-inline-details'></div><div class='xr-section-details'><ul class='xr-var-list'><li class='xr-var-item'><div class='xr-var-name'><span class='xr-has-index'>date</span></div><div class='xr-var-dims'>(date)</div><div class='xr-var-dtype'>datetime64[ns]</div><div class='xr-var-preview xr-preview'>2013-01-01 ... 2017-08-31</div><input id='attrs-f12118ca-e299-4255-9170-a141a87b5100' class='xr-var-attrs-in' type='checkbox' disabled><label for='attrs-f12118ca-e299-4255-9170-a141a87b5100' title='Show/Hide attributes'><svg class='icon xr-icon-file-text2'><use xlink:href='#icon-file-text2'></use></svg></label><input id='data-83a491e6-22ea-4e50-8b1d-22b20a5009b5' class='xr-var-data-in' type='checkbox'><label for='data-83a491e6-22ea-4e50-8b1d-22b20a5009b5' title='Show/Hide data repr'><svg class='icon xr-icon-database'><use xlink:href='#icon-database'></use></svg></label><div class='xr-var-attrs'><dl class='xr-attrs'></dl></div><div class='xr-var-data'><pre>array([&#x27;2013-01-01T00:00:00.000000000&#x27;, &#x27;2013-01-02T00:00:00.000000000&#x27;,\n",
       "       &#x27;2013-01-03T00:00:00.000000000&#x27;, ..., &#x27;2017-08-29T00:00:00.000000000&#x27;,\n",
       "       &#x27;2017-08-30T00:00:00.000000000&#x27;, &#x27;2017-08-31T00:00:00.000000000&#x27;],\n",
       "      dtype=&#x27;datetime64[ns]&#x27;)</pre></div></li><li class='xr-var-item'><div class='xr-var-name'><span class='xr-has-index'>component</span></div><div class='xr-var-dims'>(component)</div><div class='xr-var-dtype'>object</div><div class='xr-var-preview xr-preview'>&#x27;onpromotion&#x27;</div><input id='attrs-f405fb91-aa70-449d-90ba-0c22b96f6a6b' class='xr-var-attrs-in' type='checkbox' disabled><label for='attrs-f405fb91-aa70-449d-90ba-0c22b96f6a6b' title='Show/Hide attributes'><svg class='icon xr-icon-file-text2'><use xlink:href='#icon-file-text2'></use></svg></label><input id='data-94022b5c-aa9d-48ab-a792-76003e55f60e' class='xr-var-data-in' type='checkbox'><label for='data-94022b5c-aa9d-48ab-a792-76003e55f60e' title='Show/Hide data repr'><svg class='icon xr-icon-database'><use xlink:href='#icon-database'></use></svg></label><div class='xr-var-attrs'><dl class='xr-attrs'></dl></div><div class='xr-var-data'><pre>array([&#x27;onpromotion&#x27;], dtype=object)</pre></div></li></ul></div></li><li class='xr-section-item'><input id='section-9e6cb6be-59c5-41d0-bb2e-da9e76db7b66' class='xr-section-summary-in' type='checkbox'  ><label for='section-9e6cb6be-59c5-41d0-bb2e-da9e76db7b66' class='xr-section-summary' >Indexes: <span>(2)</span></label><div class='xr-section-inline-details'></div><div class='xr-section-details'><ul class='xr-var-list'><li class='xr-var-item'><div class='xr-index-name'><div>date</div></div><div class='xr-index-preview'>PandasIndex</div><div></div><input id='index-c8c57b7b-ae23-48e4-8ea0-4ccf8e6abed4' class='xr-index-data-in' type='checkbox'/><label for='index-c8c57b7b-ae23-48e4-8ea0-4ccf8e6abed4' title='Show/Hide index repr'><svg class='icon xr-icon-database'><use xlink:href='#icon-database'></use></svg></label><div class='xr-index-data'><pre>PandasIndex(DatetimeIndex([&#x27;2013-01-01&#x27;, &#x27;2013-01-02&#x27;, &#x27;2013-01-03&#x27;, &#x27;2013-01-04&#x27;,\n",
       "               &#x27;2013-01-05&#x27;, &#x27;2013-01-06&#x27;, &#x27;2013-01-07&#x27;, &#x27;2013-01-08&#x27;,\n",
       "               &#x27;2013-01-09&#x27;, &#x27;2013-01-10&#x27;,\n",
       "               ...\n",
       "               &#x27;2017-08-22&#x27;, &#x27;2017-08-23&#x27;, &#x27;2017-08-24&#x27;, &#x27;2017-08-25&#x27;,\n",
       "               &#x27;2017-08-26&#x27;, &#x27;2017-08-27&#x27;, &#x27;2017-08-28&#x27;, &#x27;2017-08-29&#x27;,\n",
       "               &#x27;2017-08-30&#x27;, &#x27;2017-08-31&#x27;],\n",
       "              dtype=&#x27;datetime64[ns]&#x27;, name=&#x27;date&#x27;, length=1704, freq=&#x27;D&#x27;))</pre></div></li><li class='xr-var-item'><div class='xr-index-name'><div>component</div></div><div class='xr-index-preview'>PandasIndex</div><div></div><input id='index-f7b1084c-fb5e-4caa-af6c-8c658cfe88d5' class='xr-index-data-in' type='checkbox'/><label for='index-f7b1084c-fb5e-4caa-af6c-8c658cfe88d5' title='Show/Hide index repr'><svg class='icon xr-icon-database'><use xlink:href='#icon-database'></use></svg></label><div class='xr-index-data'><pre>PandasIndex(Index([&#x27;onpromotion&#x27;], dtype=&#x27;object&#x27;, name=&#x27;component&#x27;))</pre></div></li></ul></div></li><li class='xr-section-item'><input id='section-082df67b-6315-48fa-be89-67edb5c75a97' class='xr-section-summary-in' type='checkbox'  checked><label for='section-082df67b-6315-48fa-be89-67edb5c75a97' class='xr-section-summary' >Attributes: <span>(2)</span></label><div class='xr-section-inline-details'></div><div class='xr-section-details'><dl class='xr-attrs'><dt><span>static_covariates :</span></dt><dd>static_covariates  store_nbr      family\n",
       "component                               \n",
       "onpromotion              1.0  AUTOMOTIVE</dd><dt><span>hierarchy :</span></dt><dd>None</dd></dl></div></li></ul></div></div>"
      ],
      "text/plain": [
       "<TimeSeries (DataArray) (date: 1704, component: 1, sample: 1)>\n",
       "array([[[0.]],\n",
       "\n",
       "       [[0.]],\n",
       "\n",
       "       [[0.]],\n",
       "\n",
       "       ...,\n",
       "\n",
       "       [[0.]],\n",
       "\n",
       "       [[0.]],\n",
       "\n",
       "       [[0.]]])\n",
       "Coordinates:\n",
       "  * date       (date) datetime64[ns] 2013-01-01 2013-01-02 ... 2017-08-31\n",
       "  * component  (component) object 'onpromotion'\n",
       "Dimensions without coordinates: sample\n",
       "Attributes:\n",
       "    static_covariates:  static_covariates  store_nbr      family\\ncomponent  ...\n",
       "    hierarchy:          None"
      ]
     },
     "metadata": {},
     "output_type": "display_data"
    }
   ],
   "source": [
    "display(family_promotion_dict['AUTOMOTIVE'][0])"
   ]
  },
  {
   "cell_type": "code",
   "execution_count": 40,
   "id": "710a3b5a",
   "metadata": {
    "execution": {
     "iopub.execute_input": "2023-05-22T09:08:54.093544Z",
     "iopub.status.busy": "2023-05-22T09:08:54.093114Z",
     "iopub.status.idle": "2023-05-22T09:10:16.075907Z",
     "shell.execute_reply": "2023-05-22T09:10:16.074671Z"
    },
    "papermill": {
     "duration": 82.019479,
     "end_time": "2023-05-22T09:10:16.078266",
     "exception": false,
     "start_time": "2023-05-22T09:08:54.058787",
     "status": "completed"
    },
    "tags": []
   },
   "outputs": [
    {
     "name": "stderr",
     "output_type": "stream",
     "text": [
      "100%|██████████| 33/33 [01:21<00:00,  2.48s/it]\n"
     ]
    }
   ],
   "source": [
    "promotion_transformed_dict = {}\n",
    "\n",
    "for key in tqdm(family_promotion_dict):\n",
    "    promo_filler = MissingValuesFiller(verbose=False, n_jobs=-1, name=\"Fill NAs\")\n",
    "    promo_scaler = Scaler(verbose=False, n_jobs=-1, name=\"Scaling\")\n",
    "\n",
    "    promo_pipeline = Pipeline([promo_filler,\n",
    "                             promo_scaler])\n",
    "\n",
    "    promotion_transformed = promo_pipeline.fit_transform(family_promotion_dict[key])\n",
    "\n",
    "    # Moving Averages for Promotion Family Dictionaries\n",
    "    promo_moving_average_7 = MovingAverageFilter(window=7)\n",
    "    promo_moving_average_28 = MovingAverageFilter(window=28)\n",
    "\n",
    "    promotion_covs = []\n",
    "\n",
    "    for ts in promotion_transformed:\n",
    "        ma_7 = promo_moving_average_7.filter(ts)\n",
    "        ma_7 = TimeSeries.from_series(ma_7.pd_series())  \n",
    "        ma_7 = ma_7.astype(np.float32)\n",
    "        ma_7 = ma_7.with_columns_renamed(col_names=ma_7.components, col_names_new=\"promotion_ma_7\")\n",
    "        ma_28 = promo_moving_average_28.filter(ts)\n",
    "        ma_28 = TimeSeries.from_series(ma_28.pd_series())  \n",
    "        ma_28 = ma_28.astype(np.float32)\n",
    "        ma_28 = ma_28.with_columns_renamed(col_names=ma_28.components, col_names_new=\"promotion_ma_28\")\n",
    "        promo_and_mas = ts.stack(ma_7).stack(ma_28)\n",
    "        promotion_covs.append(promo_and_mas)\n",
    "\n",
    "    promotion_transformed_dict[key] = promotion_covs"
   ]
  },
  {
   "cell_type": "code",
   "execution_count": 41,
   "id": "12e374f1",
   "metadata": {
    "execution": {
     "iopub.execute_input": "2023-05-22T09:10:16.153584Z",
     "iopub.status.busy": "2023-05-22T09:10:16.153135Z",
     "iopub.status.idle": "2023-05-22T09:10:16.178714Z",
     "shell.execute_reply": "2023-05-22T09:10:16.177231Z"
    },
    "papermill": {
     "duration": 0.065859,
     "end_time": "2023-05-22T09:10:16.181510",
     "exception": false,
     "start_time": "2023-05-22T09:10:16.115651",
     "status": "completed"
    },
    "tags": []
   },
   "outputs": [
    {
     "data": {
      "text/plain": [
       "array(['onpromotion', 'promotion_ma_7', 'promotion_ma_28'], dtype=object)"
      ]
     },
     "metadata": {},
     "output_type": "display_data"
    },
    {
     "data": {
      "text/html": [
       "<div><svg style=\"position: absolute; width: 0; height: 0; overflow: hidden\">\n",
       "<defs>\n",
       "<symbol id=\"icon-database\" viewBox=\"0 0 32 32\">\n",
       "<path d=\"M16 0c-8.837 0-16 2.239-16 5v4c0 2.761 7.163 5 16 5s16-2.239 16-5v-4c0-2.761-7.163-5-16-5z\"></path>\n",
       "<path d=\"M16 17c-8.837 0-16-2.239-16-5v6c0 2.761 7.163 5 16 5s16-2.239 16-5v-6c0 2.761-7.163 5-16 5z\"></path>\n",
       "<path d=\"M16 26c-8.837 0-16-2.239-16-5v6c0 2.761 7.163 5 16 5s16-2.239 16-5v-6c0 2.761-7.163 5-16 5z\"></path>\n",
       "</symbol>\n",
       "<symbol id=\"icon-file-text2\" viewBox=\"0 0 32 32\">\n",
       "<path d=\"M28.681 7.159c-0.694-0.947-1.662-2.053-2.724-3.116s-2.169-2.030-3.116-2.724c-1.612-1.182-2.393-1.319-2.841-1.319h-15.5c-1.378 0-2.5 1.121-2.5 2.5v27c0 1.378 1.122 2.5 2.5 2.5h23c1.378 0 2.5-1.122 2.5-2.5v-19.5c0-0.448-0.137-1.23-1.319-2.841zM24.543 5.457c0.959 0.959 1.712 1.825 2.268 2.543h-4.811v-4.811c0.718 0.556 1.584 1.309 2.543 2.268zM28 29.5c0 0.271-0.229 0.5-0.5 0.5h-23c-0.271 0-0.5-0.229-0.5-0.5v-27c0-0.271 0.229-0.5 0.5-0.5 0 0 15.499-0 15.5 0v7c0 0.552 0.448 1 1 1h7v19.5z\"></path>\n",
       "<path d=\"M23 26h-14c-0.552 0-1-0.448-1-1s0.448-1 1-1h14c0.552 0 1 0.448 1 1s-0.448 1-1 1z\"></path>\n",
       "<path d=\"M23 22h-14c-0.552 0-1-0.448-1-1s0.448-1 1-1h14c0.552 0 1 0.448 1 1s-0.448 1-1 1z\"></path>\n",
       "<path d=\"M23 18h-14c-0.552 0-1-0.448-1-1s0.448-1 1-1h14c0.552 0 1 0.448 1 1s-0.448 1-1 1z\"></path>\n",
       "</symbol>\n",
       "</defs>\n",
       "</svg>\n",
       "<style>/* CSS stylesheet for displaying xarray objects in jupyterlab.\n",
       " *\n",
       " */\n",
       "\n",
       ":root {\n",
       "  --xr-font-color0: var(--jp-content-font-color0, rgba(0, 0, 0, 1));\n",
       "  --xr-font-color2: var(--jp-content-font-color2, rgba(0, 0, 0, 0.54));\n",
       "  --xr-font-color3: var(--jp-content-font-color3, rgba(0, 0, 0, 0.38));\n",
       "  --xr-border-color: var(--jp-border-color2, #e0e0e0);\n",
       "  --xr-disabled-color: var(--jp-layout-color3, #bdbdbd);\n",
       "  --xr-background-color: var(--jp-layout-color0, white);\n",
       "  --xr-background-color-row-even: var(--jp-layout-color1, white);\n",
       "  --xr-background-color-row-odd: var(--jp-layout-color2, #eeeeee);\n",
       "}\n",
       "\n",
       "html[theme=dark],\n",
       "body[data-theme=dark],\n",
       "body.vscode-dark {\n",
       "  --xr-font-color0: rgba(255, 255, 255, 1);\n",
       "  --xr-font-color2: rgba(255, 255, 255, 0.54);\n",
       "  --xr-font-color3: rgba(255, 255, 255, 0.38);\n",
       "  --xr-border-color: #1F1F1F;\n",
       "  --xr-disabled-color: #515151;\n",
       "  --xr-background-color: #111111;\n",
       "  --xr-background-color-row-even: #111111;\n",
       "  --xr-background-color-row-odd: #313131;\n",
       "}\n",
       "\n",
       ".xr-wrap {\n",
       "  display: block !important;\n",
       "  min-width: 300px;\n",
       "  max-width: 700px;\n",
       "}\n",
       "\n",
       ".xr-text-repr-fallback {\n",
       "  /* fallback to plain text repr when CSS is not injected (untrusted notebook) */\n",
       "  display: none;\n",
       "}\n",
       "\n",
       ".xr-header {\n",
       "  padding-top: 6px;\n",
       "  padding-bottom: 6px;\n",
       "  margin-bottom: 4px;\n",
       "  border-bottom: solid 1px var(--xr-border-color);\n",
       "}\n",
       "\n",
       ".xr-header > div,\n",
       ".xr-header > ul {\n",
       "  display: inline;\n",
       "  margin-top: 0;\n",
       "  margin-bottom: 0;\n",
       "}\n",
       "\n",
       ".xr-obj-type,\n",
       ".xr-array-name {\n",
       "  margin-left: 2px;\n",
       "  margin-right: 10px;\n",
       "}\n",
       "\n",
       ".xr-obj-type {\n",
       "  color: var(--xr-font-color2);\n",
       "}\n",
       "\n",
       ".xr-sections {\n",
       "  padding-left: 0 !important;\n",
       "  display: grid;\n",
       "  grid-template-columns: 150px auto auto 1fr 20px 20px;\n",
       "}\n",
       "\n",
       ".xr-section-item {\n",
       "  display: contents;\n",
       "}\n",
       "\n",
       ".xr-section-item input {\n",
       "  display: none;\n",
       "}\n",
       "\n",
       ".xr-section-item input + label {\n",
       "  color: var(--xr-disabled-color);\n",
       "}\n",
       "\n",
       ".xr-section-item input:enabled + label {\n",
       "  cursor: pointer;\n",
       "  color: var(--xr-font-color2);\n",
       "}\n",
       "\n",
       ".xr-section-item input:enabled + label:hover {\n",
       "  color: var(--xr-font-color0);\n",
       "}\n",
       "\n",
       ".xr-section-summary {\n",
       "  grid-column: 1;\n",
       "  color: var(--xr-font-color2);\n",
       "  font-weight: 500;\n",
       "}\n",
       "\n",
       ".xr-section-summary > span {\n",
       "  display: inline-block;\n",
       "  padding-left: 0.5em;\n",
       "}\n",
       "\n",
       ".xr-section-summary-in:disabled + label {\n",
       "  color: var(--xr-font-color2);\n",
       "}\n",
       "\n",
       ".xr-section-summary-in + label:before {\n",
       "  display: inline-block;\n",
       "  content: '►';\n",
       "  font-size: 11px;\n",
       "  width: 15px;\n",
       "  text-align: center;\n",
       "}\n",
       "\n",
       ".xr-section-summary-in:disabled + label:before {\n",
       "  color: var(--xr-disabled-color);\n",
       "}\n",
       "\n",
       ".xr-section-summary-in:checked + label:before {\n",
       "  content: '▼';\n",
       "}\n",
       "\n",
       ".xr-section-summary-in:checked + label > span {\n",
       "  display: none;\n",
       "}\n",
       "\n",
       ".xr-section-summary,\n",
       ".xr-section-inline-details {\n",
       "  padding-top: 4px;\n",
       "  padding-bottom: 4px;\n",
       "}\n",
       "\n",
       ".xr-section-inline-details {\n",
       "  grid-column: 2 / -1;\n",
       "}\n",
       "\n",
       ".xr-section-details {\n",
       "  display: none;\n",
       "  grid-column: 1 / -1;\n",
       "  margin-bottom: 5px;\n",
       "}\n",
       "\n",
       ".xr-section-summary-in:checked ~ .xr-section-details {\n",
       "  display: contents;\n",
       "}\n",
       "\n",
       ".xr-array-wrap {\n",
       "  grid-column: 1 / -1;\n",
       "  display: grid;\n",
       "  grid-template-columns: 20px auto;\n",
       "}\n",
       "\n",
       ".xr-array-wrap > label {\n",
       "  grid-column: 1;\n",
       "  vertical-align: top;\n",
       "}\n",
       "\n",
       ".xr-preview {\n",
       "  color: var(--xr-font-color3);\n",
       "}\n",
       "\n",
       ".xr-array-preview,\n",
       ".xr-array-data {\n",
       "  padding: 0 5px !important;\n",
       "  grid-column: 2;\n",
       "}\n",
       "\n",
       ".xr-array-data,\n",
       ".xr-array-in:checked ~ .xr-array-preview {\n",
       "  display: none;\n",
       "}\n",
       "\n",
       ".xr-array-in:checked ~ .xr-array-data,\n",
       ".xr-array-preview {\n",
       "  display: inline-block;\n",
       "}\n",
       "\n",
       ".xr-dim-list {\n",
       "  display: inline-block !important;\n",
       "  list-style: none;\n",
       "  padding: 0 !important;\n",
       "  margin: 0;\n",
       "}\n",
       "\n",
       ".xr-dim-list li {\n",
       "  display: inline-block;\n",
       "  padding: 0;\n",
       "  margin: 0;\n",
       "}\n",
       "\n",
       ".xr-dim-list:before {\n",
       "  content: '(';\n",
       "}\n",
       "\n",
       ".xr-dim-list:after {\n",
       "  content: ')';\n",
       "}\n",
       "\n",
       ".xr-dim-list li:not(:last-child):after {\n",
       "  content: ',';\n",
       "  padding-right: 5px;\n",
       "}\n",
       "\n",
       ".xr-has-index {\n",
       "  font-weight: bold;\n",
       "}\n",
       "\n",
       ".xr-var-list,\n",
       ".xr-var-item {\n",
       "  display: contents;\n",
       "}\n",
       "\n",
       ".xr-var-item > div,\n",
       ".xr-var-item label,\n",
       ".xr-var-item > .xr-var-name span {\n",
       "  background-color: var(--xr-background-color-row-even);\n",
       "  margin-bottom: 0;\n",
       "}\n",
       "\n",
       ".xr-var-item > .xr-var-name:hover span {\n",
       "  padding-right: 5px;\n",
       "}\n",
       "\n",
       ".xr-var-list > li:nth-child(odd) > div,\n",
       ".xr-var-list > li:nth-child(odd) > label,\n",
       ".xr-var-list > li:nth-child(odd) > .xr-var-name span {\n",
       "  background-color: var(--xr-background-color-row-odd);\n",
       "}\n",
       "\n",
       ".xr-var-name {\n",
       "  grid-column: 1;\n",
       "}\n",
       "\n",
       ".xr-var-dims {\n",
       "  grid-column: 2;\n",
       "}\n",
       "\n",
       ".xr-var-dtype {\n",
       "  grid-column: 3;\n",
       "  text-align: right;\n",
       "  color: var(--xr-font-color2);\n",
       "}\n",
       "\n",
       ".xr-var-preview {\n",
       "  grid-column: 4;\n",
       "}\n",
       "\n",
       ".xr-index-preview {\n",
       "  grid-column: 2 / 5;\n",
       "  color: var(--xr-font-color2);\n",
       "}\n",
       "\n",
       ".xr-var-name,\n",
       ".xr-var-dims,\n",
       ".xr-var-dtype,\n",
       ".xr-preview,\n",
       ".xr-attrs dt {\n",
       "  white-space: nowrap;\n",
       "  overflow: hidden;\n",
       "  text-overflow: ellipsis;\n",
       "  padding-right: 10px;\n",
       "}\n",
       "\n",
       ".xr-var-name:hover,\n",
       ".xr-var-dims:hover,\n",
       ".xr-var-dtype:hover,\n",
       ".xr-attrs dt:hover {\n",
       "  overflow: visible;\n",
       "  width: auto;\n",
       "  z-index: 1;\n",
       "}\n",
       "\n",
       ".xr-var-attrs,\n",
       ".xr-var-data,\n",
       ".xr-index-data {\n",
       "  display: none;\n",
       "  background-color: var(--xr-background-color) !important;\n",
       "  padding-bottom: 5px !important;\n",
       "}\n",
       "\n",
       ".xr-var-attrs-in:checked ~ .xr-var-attrs,\n",
       ".xr-var-data-in:checked ~ .xr-var-data,\n",
       ".xr-index-data-in:checked ~ .xr-index-data {\n",
       "  display: block;\n",
       "}\n",
       "\n",
       ".xr-var-data > table {\n",
       "  float: right;\n",
       "}\n",
       "\n",
       ".xr-var-name span,\n",
       ".xr-var-data,\n",
       ".xr-index-name div,\n",
       ".xr-index-data,\n",
       ".xr-attrs {\n",
       "  padding-left: 25px !important;\n",
       "}\n",
       "\n",
       ".xr-attrs,\n",
       ".xr-var-attrs,\n",
       ".xr-var-data,\n",
       ".xr-index-data {\n",
       "  grid-column: 1 / -1;\n",
       "}\n",
       "\n",
       "dl.xr-attrs {\n",
       "  padding: 0;\n",
       "  margin: 0;\n",
       "  display: grid;\n",
       "  grid-template-columns: 125px auto;\n",
       "}\n",
       "\n",
       ".xr-attrs dt,\n",
       ".xr-attrs dd {\n",
       "  padding: 0;\n",
       "  margin: 0;\n",
       "  float: left;\n",
       "  padding-right: 10px;\n",
       "  width: auto;\n",
       "}\n",
       "\n",
       ".xr-attrs dt {\n",
       "  font-weight: normal;\n",
       "  grid-column: 1;\n",
       "}\n",
       "\n",
       ".xr-attrs dt:hover span {\n",
       "  display: inline-block;\n",
       "  background: var(--xr-background-color);\n",
       "  padding-right: 10px;\n",
       "}\n",
       "\n",
       ".xr-attrs dd {\n",
       "  grid-column: 2;\n",
       "  white-space: pre-wrap;\n",
       "  word-break: break-all;\n",
       "}\n",
       "\n",
       ".xr-icon-database,\n",
       ".xr-icon-file-text2,\n",
       ".xr-no-icon {\n",
       "  display: inline-block;\n",
       "  vertical-align: middle;\n",
       "  width: 1em;\n",
       "  height: 1.5em !important;\n",
       "  stroke-width: 0;\n",
       "  stroke: currentColor;\n",
       "  fill: currentColor;\n",
       "}\n",
       "</style><pre class='xr-text-repr-fallback'>&lt;TimeSeries (DataArray) (date: 1, component: 3, sample: 1)&gt;\n",
       "array([[[0.],\n",
       "        [0.],\n",
       "        [0.]]])\n",
       "Coordinates:\n",
       "  * date       (date) datetime64[ns] 2013-01-02\n",
       "  * component  (component) object &#x27;onpromotion&#x27; ... &#x27;promotion_ma_28&#x27;\n",
       "Dimensions without coordinates: sample\n",
       "Attributes:\n",
       "    static_covariates:  static_covariates  store_nbr      family\\nglobal_comp...\n",
       "    hierarchy:          None</pre><div class='xr-wrap' style='display:none'><div class='xr-header'><div class='xr-obj-type'>TimeSeries (DataArray)</div><div class='xr-array-name'></div><ul class='xr-dim-list'><li><span class='xr-has-index'>date</span>: 1</li><li><span class='xr-has-index'>component</span>: 3</li><li><span>sample</span>: 1</li></ul></div><ul class='xr-sections'><li class='xr-section-item'><div class='xr-array-wrap'><input id='section-136deeb0-a60f-4a17-9d56-b2bd7f9865e1' class='xr-array-in' type='checkbox' checked><label for='section-136deeb0-a60f-4a17-9d56-b2bd7f9865e1' title='Show/hide data repr'><svg class='icon xr-icon-database'><use xlink:href='#icon-database'></use></svg></label><div class='xr-array-preview xr-preview'><span>0.0 0.0 0.0</span></div><div class='xr-array-data'><pre>array([[[0.],\n",
       "        [0.],\n",
       "        [0.]]])</pre></div></div></li><li class='xr-section-item'><input id='section-f31bfb2f-cab2-497e-b775-b9c1e1ba0411' class='xr-section-summary-in' type='checkbox'  checked><label for='section-f31bfb2f-cab2-497e-b775-b9c1e1ba0411' class='xr-section-summary' >Coordinates: <span>(2)</span></label><div class='xr-section-inline-details'></div><div class='xr-section-details'><ul class='xr-var-list'><li class='xr-var-item'><div class='xr-var-name'><span class='xr-has-index'>date</span></div><div class='xr-var-dims'>(date)</div><div class='xr-var-dtype'>datetime64[ns]</div><div class='xr-var-preview xr-preview'>2013-01-02</div><input id='attrs-afbb9e83-2ad4-4efd-850d-d0b624324570' class='xr-var-attrs-in' type='checkbox' disabled><label for='attrs-afbb9e83-2ad4-4efd-850d-d0b624324570' title='Show/Hide attributes'><svg class='icon xr-icon-file-text2'><use xlink:href='#icon-file-text2'></use></svg></label><input id='data-76becf3e-768d-470e-96fc-23e47aa200e7' class='xr-var-data-in' type='checkbox'><label for='data-76becf3e-768d-470e-96fc-23e47aa200e7' title='Show/Hide data repr'><svg class='icon xr-icon-database'><use xlink:href='#icon-database'></use></svg></label><div class='xr-var-attrs'><dl class='xr-attrs'></dl></div><div class='xr-var-data'><pre>array([&#x27;2013-01-02T00:00:00.000000000&#x27;], dtype=&#x27;datetime64[ns]&#x27;)</pre></div></li><li class='xr-var-item'><div class='xr-var-name'><span class='xr-has-index'>component</span></div><div class='xr-var-dims'>(component)</div><div class='xr-var-dtype'>object</div><div class='xr-var-preview xr-preview'>&#x27;onpromotion&#x27; ... &#x27;promotion_ma_28&#x27;</div><input id='attrs-9844953c-7096-4c2e-8337-5635bee99380' class='xr-var-attrs-in' type='checkbox' disabled><label for='attrs-9844953c-7096-4c2e-8337-5635bee99380' title='Show/Hide attributes'><svg class='icon xr-icon-file-text2'><use xlink:href='#icon-file-text2'></use></svg></label><input id='data-c813e9f0-bd40-43a0-a12f-19218e972159' class='xr-var-data-in' type='checkbox'><label for='data-c813e9f0-bd40-43a0-a12f-19218e972159' title='Show/Hide data repr'><svg class='icon xr-icon-database'><use xlink:href='#icon-database'></use></svg></label><div class='xr-var-attrs'><dl class='xr-attrs'></dl></div><div class='xr-var-data'><pre>array([&#x27;onpromotion&#x27;, &#x27;promotion_ma_7&#x27;, &#x27;promotion_ma_28&#x27;], dtype=object)</pre></div></li></ul></div></li><li class='xr-section-item'><input id='section-d0310fd0-1683-4c61-9a38-2eac0f2de13d' class='xr-section-summary-in' type='checkbox'  ><label for='section-d0310fd0-1683-4c61-9a38-2eac0f2de13d' class='xr-section-summary' >Indexes: <span>(2)</span></label><div class='xr-section-inline-details'></div><div class='xr-section-details'><ul class='xr-var-list'><li class='xr-var-item'><div class='xr-index-name'><div>date</div></div><div class='xr-index-preview'>PandasIndex</div><div></div><input id='index-ec2e8c70-d2db-4a5e-94aa-c4dfc5df50ed' class='xr-index-data-in' type='checkbox'/><label for='index-ec2e8c70-d2db-4a5e-94aa-c4dfc5df50ed' title='Show/Hide index repr'><svg class='icon xr-icon-database'><use xlink:href='#icon-database'></use></svg></label><div class='xr-index-data'><pre>PandasIndex(DatetimeIndex([&#x27;2013-01-02&#x27;], dtype=&#x27;datetime64[ns]&#x27;, name=&#x27;date&#x27;, freq=&#x27;D&#x27;))</pre></div></li><li class='xr-var-item'><div class='xr-index-name'><div>component</div></div><div class='xr-index-preview'>PandasIndex</div><div></div><input id='index-51e5e7e1-4a6a-42ba-b3eb-0ff547326704' class='xr-index-data-in' type='checkbox'/><label for='index-51e5e7e1-4a6a-42ba-b3eb-0ff547326704' title='Show/Hide index repr'><svg class='icon xr-icon-database'><use xlink:href='#icon-database'></use></svg></label><div class='xr-index-data'><pre>PandasIndex(Index([&#x27;onpromotion&#x27;, &#x27;promotion_ma_7&#x27;, &#x27;promotion_ma_28&#x27;], dtype=&#x27;object&#x27;, name=&#x27;component&#x27;))</pre></div></li></ul></div></li><li class='xr-section-item'><input id='section-6f3c0392-dd5f-4683-a415-8592f0c2c851' class='xr-section-summary-in' type='checkbox'  checked><label for='section-6f3c0392-dd5f-4683-a415-8592f0c2c851' class='xr-section-summary' >Attributes: <span>(2)</span></label><div class='xr-section-inline-details'></div><div class='xr-section-details'><dl class='xr-attrs'><dt><span>static_covariates :</span></dt><dd>static_covariates  store_nbr      family\n",
       "global_components        1.0  AUTOMOTIVE</dd><dt><span>hierarchy :</span></dt><dd>None</dd></dl></div></li></ul></div></div>"
      ],
      "text/plain": [
       "<TimeSeries (DataArray) (date: 1, component: 3, sample: 1)>\n",
       "array([[[0.],\n",
       "        [0.],\n",
       "        [0.]]])\n",
       "Coordinates:\n",
       "  * date       (date) datetime64[ns] 2013-01-02\n",
       "  * component  (component) object 'onpromotion' ... 'promotion_ma_28'\n",
       "Dimensions without coordinates: sample\n",
       "Attributes:\n",
       "    static_covariates:  static_covariates  store_nbr      family\\nglobal_comp...\n",
       "    hierarchy:          None"
      ]
     },
     "metadata": {},
     "output_type": "display_data"
    }
   ],
   "source": [
    "display(promotion_transformed_dict['AUTOMOTIVE'][0].components.values)\n",
    "display(promotion_transformed_dict['AUTOMOTIVE'][0][1])"
   ]
  },
  {
   "cell_type": "markdown",
   "id": "2e7ffeb8",
   "metadata": {
    "papermill": {
     "duration": 0.035155,
     "end_time": "2023-05-22T09:10:16.252535",
     "exception": false,
     "start_time": "2023-05-22T09:10:16.217380",
     "status": "completed"
    },
    "tags": []
   },
   "source": [
    "### Grouping the covariates"
   ]
  },
  {
   "cell_type": "code",
   "execution_count": 42,
   "id": "c476e072",
   "metadata": {
    "execution": {
     "iopub.execute_input": "2023-05-22T09:10:16.326738Z",
     "iopub.status.busy": "2023-05-22T09:10:16.326309Z",
     "iopub.status.idle": "2023-05-22T09:10:16.338295Z",
     "shell.execute_reply": "2023-05-22T09:10:16.337353Z"
    },
    "papermill": {
     "duration": 0.052609,
     "end_time": "2023-05-22T09:10:16.341189",
     "exception": false,
     "start_time": "2023-05-22T09:10:16.288580",
     "status": "completed"
    },
    "tags": []
   },
   "outputs": [],
   "source": [
    "general_covariates = time_cov_transformed.stack(oil_transformed).stack(oil_moving_averages)"
   ]
  },
  {
   "cell_type": "code",
   "execution_count": 43,
   "id": "277b7bed",
   "metadata": {
    "execution": {
     "iopub.execute_input": "2023-05-22T09:10:16.431742Z",
     "iopub.status.busy": "2023-05-22T09:10:16.431123Z",
     "iopub.status.idle": "2023-05-22T09:10:16.576229Z",
     "shell.execute_reply": "2023-05-22T09:10:16.574946Z"
    },
    "papermill": {
     "duration": 0.196312,
     "end_time": "2023-05-22T09:10:16.578845",
     "exception": false,
     "start_time": "2023-05-22T09:10:16.382533",
     "status": "completed"
    },
    "tags": []
   },
   "outputs": [],
   "source": [
    "store_covariates_future = []\n",
    "\n",
    "for store in range(0,len(store_list)):\n",
    "    stacked_covariates = holidays_transformed[store].stack(general_covariates)  \n",
    "    store_covariates_future.append(stacked_covariates)"
   ]
  },
  {
   "cell_type": "code",
   "execution_count": 44,
   "id": "63c262a7",
   "metadata": {
    "execution": {
     "iopub.execute_input": "2023-05-22T09:10:16.653677Z",
     "iopub.status.busy": "2023-05-22T09:10:16.653244Z",
     "iopub.status.idle": "2023-05-22T09:10:23.235781Z",
     "shell.execute_reply": "2023-05-22T09:10:23.234387Z"
    },
    "papermill": {
     "duration": 6.622912,
     "end_time": "2023-05-22T09:10:23.238135",
     "exception": false,
     "start_time": "2023-05-22T09:10:16.615223",
     "status": "completed"
    },
    "tags": []
   },
   "outputs": [
    {
     "name": "stderr",
     "output_type": "stream",
     "text": [
      "100%|██████████| 33/33 [00:06<00:00,  5.02it/s]\n"
     ]
    }
   ],
   "source": [
    "future_covariates_dict = {}\n",
    "\n",
    "for key in tqdm(promotion_transformed_dict):\n",
    "    promotion_family = promotion_transformed_dict[key]\n",
    "    covariates_future = [promotion_family[i].stack(store_covariates_future[i]) for i in range(0,len(promotion_family))]\n",
    "    future_covariates_dict[key] = covariates_future"
   ]
  },
  {
   "cell_type": "code",
   "execution_count": 45,
   "id": "8e42503a",
   "metadata": {
    "execution": {
     "iopub.execute_input": "2023-05-22T09:10:23.316676Z",
     "iopub.status.busy": "2023-05-22T09:10:23.315918Z",
     "iopub.status.idle": "2023-05-22T09:10:23.323988Z",
     "shell.execute_reply": "2023-05-22T09:10:23.323081Z"
    },
    "papermill": {
     "duration": 0.049716,
     "end_time": "2023-05-22T09:10:23.325987",
     "exception": false,
     "start_time": "2023-05-22T09:10:23.276271",
     "status": "completed"
    },
    "tags": []
   },
   "outputs": [
    {
     "data": {
      "text/plain": [
       "Index(['onpromotion', 'promotion_ma_7', 'promotion_ma_28', 'national_holiday',\n",
       "       'earthquake_relief', 'christmas', 'football_event', 'national_event',\n",
       "       'work_day', 'local_holiday', 'year', 'month', 'day', 'dayofyear',\n",
       "       'dayofweek', 'weekofyear', 'linear_increase', 'dcoilwtico', 'oil_ma_7',\n",
       "       'oil_ma_28'],\n",
       "      dtype='object', name='component')"
      ]
     },
     "metadata": {},
     "output_type": "display_data"
    }
   ],
   "source": [
    "display(future_covariates_dict['AUTOMOTIVE'][0].components)"
   ]
  },
  {
   "cell_type": "markdown",
   "id": "db359915",
   "metadata": {
    "papermill": {
     "duration": 0.038727,
     "end_time": "2023-05-22T09:10:23.403404",
     "exception": false,
     "start_time": "2023-05-22T09:10:23.364677",
     "status": "completed"
    },
    "tags": []
   },
   "source": [
    "### Transactions – Past Covariates"
   ]
  },
  {
   "cell_type": "code",
   "execution_count": 46,
   "id": "56838e28",
   "metadata": {
    "execution": {
     "iopub.execute_input": "2023-05-22T09:10:23.482352Z",
     "iopub.status.busy": "2023-05-22T09:10:23.481961Z",
     "iopub.status.idle": "2023-05-22T09:10:25.359107Z",
     "shell.execute_reply": "2023-05-22T09:10:25.358158Z"
    },
    "papermill": {
     "duration": 1.91956,
     "end_time": "2023-05-22T09:10:25.361676",
     "exception": false,
     "start_time": "2023-05-22T09:10:23.442116",
     "status": "completed"
    },
    "tags": []
   },
   "outputs": [],
   "source": [
    "df_transactions.sort_values([\"store_nbr\",\"date\"], inplace=True)\n",
    "\n",
    "TS_transactions_list = TimeSeries.from_group_dataframe(\n",
    "                                df_transactions,\n",
    "                                time_col=\"date\",\n",
    "                                group_cols=[\"store_nbr\"],\n",
    "                                value_cols=\"transactions\",\n",
    "                                fill_missing_dates=True,\n",
    "                                freq='D')\n",
    "\n",
    "transactions_list = []\n",
    "\n",
    "for ts in TS_transactions_list:\n",
    "            series = TimeSeries.from_series(ts.pd_series())\n",
    "            series = series.astype(np.float32)\n",
    "            transactions_list.append(series)\n",
    "\n",
    "transactions_list[24] = transactions_list[24].slice(start_ts=pd.Timestamp('20130102'), end_ts=pd.Timestamp('20170815'))\n",
    "\n",
    "from datetime import datetime, timedelta\n",
    "\n",
    "transactions_list_full = []\n",
    "\n",
    "for ts in transactions_list:\n",
    "    if ts.start_time() > pd.Timestamp('20130101'):\n",
    "        end_time = (ts.start_time() - timedelta(days=1))\n",
    "        delta = end_time - pd.Timestamp('20130101')\n",
    "        zero_series = TimeSeries.from_times_and_values(\n",
    "                                  times=pd.date_range(start=pd.Timestamp('20130101'), \n",
    "                                  end=end_time, freq=\"D\"),\n",
    "                                  values=np.zeros(delta.days+1))\n",
    "        ts = zero_series.append(ts)\n",
    "        ts = ts.with_columns_renamed(col_names=ts.components, col_names_new=\"transactions\")\n",
    "        transactions_list_full.append(ts)\n",
    "\n",
    "transactions_filler = MissingValuesFiller(verbose=False, n_jobs=-1, name=\"Filler\")\n",
    "transactions_scaler = Scaler(verbose=False, n_jobs=-1, name=\"Scaler\")\n",
    "\n",
    "transactions_pipeline = Pipeline([transactions_filler, transactions_scaler])\n",
    "transactions_transformed = transactions_pipeline.fit_transform(transactions_list_full)"
   ]
  },
  {
   "cell_type": "code",
   "execution_count": 47,
   "id": "d637d316",
   "metadata": {
    "execution": {
     "iopub.execute_input": "2023-05-22T09:10:25.442824Z",
     "iopub.status.busy": "2023-05-22T09:10:25.441990Z",
     "iopub.status.idle": "2023-05-22T09:10:25.456346Z",
     "shell.execute_reply": "2023-05-22T09:10:25.455207Z"
    },
    "papermill": {
     "duration": 0.058416,
     "end_time": "2023-05-22T09:10:25.458679",
     "exception": false,
     "start_time": "2023-05-22T09:10:25.400263",
     "status": "completed"
    },
    "tags": []
   },
   "outputs": [
    {
     "data": {
      "text/html": [
       "<div><svg style=\"position: absolute; width: 0; height: 0; overflow: hidden\">\n",
       "<defs>\n",
       "<symbol id=\"icon-database\" viewBox=\"0 0 32 32\">\n",
       "<path d=\"M16 0c-8.837 0-16 2.239-16 5v4c0 2.761 7.163 5 16 5s16-2.239 16-5v-4c0-2.761-7.163-5-16-5z\"></path>\n",
       "<path d=\"M16 17c-8.837 0-16-2.239-16-5v6c0 2.761 7.163 5 16 5s16-2.239 16-5v-6c0 2.761-7.163 5-16 5z\"></path>\n",
       "<path d=\"M16 26c-8.837 0-16-2.239-16-5v6c0 2.761 7.163 5 16 5s16-2.239 16-5v-6c0 2.761-7.163 5-16 5z\"></path>\n",
       "</symbol>\n",
       "<symbol id=\"icon-file-text2\" viewBox=\"0 0 32 32\">\n",
       "<path d=\"M28.681 7.159c-0.694-0.947-1.662-2.053-2.724-3.116s-2.169-2.030-3.116-2.724c-1.612-1.182-2.393-1.319-2.841-1.319h-15.5c-1.378 0-2.5 1.121-2.5 2.5v27c0 1.378 1.122 2.5 2.5 2.5h23c1.378 0 2.5-1.122 2.5-2.5v-19.5c0-0.448-0.137-1.23-1.319-2.841zM24.543 5.457c0.959 0.959 1.712 1.825 2.268 2.543h-4.811v-4.811c0.718 0.556 1.584 1.309 2.543 2.268zM28 29.5c0 0.271-0.229 0.5-0.5 0.5h-23c-0.271 0-0.5-0.229-0.5-0.5v-27c0-0.271 0.229-0.5 0.5-0.5 0 0 15.499-0 15.5 0v7c0 0.552 0.448 1 1 1h7v19.5z\"></path>\n",
       "<path d=\"M23 26h-14c-0.552 0-1-0.448-1-1s0.448-1 1-1h14c0.552 0 1 0.448 1 1s-0.448 1-1 1z\"></path>\n",
       "<path d=\"M23 22h-14c-0.552 0-1-0.448-1-1s0.448-1 1-1h14c0.552 0 1 0.448 1 1s-0.448 1-1 1z\"></path>\n",
       "<path d=\"M23 18h-14c-0.552 0-1-0.448-1-1s0.448-1 1-1h14c0.552 0 1 0.448 1 1s-0.448 1-1 1z\"></path>\n",
       "</symbol>\n",
       "</defs>\n",
       "</svg>\n",
       "<style>/* CSS stylesheet for displaying xarray objects in jupyterlab.\n",
       " *\n",
       " */\n",
       "\n",
       ":root {\n",
       "  --xr-font-color0: var(--jp-content-font-color0, rgba(0, 0, 0, 1));\n",
       "  --xr-font-color2: var(--jp-content-font-color2, rgba(0, 0, 0, 0.54));\n",
       "  --xr-font-color3: var(--jp-content-font-color3, rgba(0, 0, 0, 0.38));\n",
       "  --xr-border-color: var(--jp-border-color2, #e0e0e0);\n",
       "  --xr-disabled-color: var(--jp-layout-color3, #bdbdbd);\n",
       "  --xr-background-color: var(--jp-layout-color0, white);\n",
       "  --xr-background-color-row-even: var(--jp-layout-color1, white);\n",
       "  --xr-background-color-row-odd: var(--jp-layout-color2, #eeeeee);\n",
       "}\n",
       "\n",
       "html[theme=dark],\n",
       "body[data-theme=dark],\n",
       "body.vscode-dark {\n",
       "  --xr-font-color0: rgba(255, 255, 255, 1);\n",
       "  --xr-font-color2: rgba(255, 255, 255, 0.54);\n",
       "  --xr-font-color3: rgba(255, 255, 255, 0.38);\n",
       "  --xr-border-color: #1F1F1F;\n",
       "  --xr-disabled-color: #515151;\n",
       "  --xr-background-color: #111111;\n",
       "  --xr-background-color-row-even: #111111;\n",
       "  --xr-background-color-row-odd: #313131;\n",
       "}\n",
       "\n",
       ".xr-wrap {\n",
       "  display: block !important;\n",
       "  min-width: 300px;\n",
       "  max-width: 700px;\n",
       "}\n",
       "\n",
       ".xr-text-repr-fallback {\n",
       "  /* fallback to plain text repr when CSS is not injected (untrusted notebook) */\n",
       "  display: none;\n",
       "}\n",
       "\n",
       ".xr-header {\n",
       "  padding-top: 6px;\n",
       "  padding-bottom: 6px;\n",
       "  margin-bottom: 4px;\n",
       "  border-bottom: solid 1px var(--xr-border-color);\n",
       "}\n",
       "\n",
       ".xr-header > div,\n",
       ".xr-header > ul {\n",
       "  display: inline;\n",
       "  margin-top: 0;\n",
       "  margin-bottom: 0;\n",
       "}\n",
       "\n",
       ".xr-obj-type,\n",
       ".xr-array-name {\n",
       "  margin-left: 2px;\n",
       "  margin-right: 10px;\n",
       "}\n",
       "\n",
       ".xr-obj-type {\n",
       "  color: var(--xr-font-color2);\n",
       "}\n",
       "\n",
       ".xr-sections {\n",
       "  padding-left: 0 !important;\n",
       "  display: grid;\n",
       "  grid-template-columns: 150px auto auto 1fr 20px 20px;\n",
       "}\n",
       "\n",
       ".xr-section-item {\n",
       "  display: contents;\n",
       "}\n",
       "\n",
       ".xr-section-item input {\n",
       "  display: none;\n",
       "}\n",
       "\n",
       ".xr-section-item input + label {\n",
       "  color: var(--xr-disabled-color);\n",
       "}\n",
       "\n",
       ".xr-section-item input:enabled + label {\n",
       "  cursor: pointer;\n",
       "  color: var(--xr-font-color2);\n",
       "}\n",
       "\n",
       ".xr-section-item input:enabled + label:hover {\n",
       "  color: var(--xr-font-color0);\n",
       "}\n",
       "\n",
       ".xr-section-summary {\n",
       "  grid-column: 1;\n",
       "  color: var(--xr-font-color2);\n",
       "  font-weight: 500;\n",
       "}\n",
       "\n",
       ".xr-section-summary > span {\n",
       "  display: inline-block;\n",
       "  padding-left: 0.5em;\n",
       "}\n",
       "\n",
       ".xr-section-summary-in:disabled + label {\n",
       "  color: var(--xr-font-color2);\n",
       "}\n",
       "\n",
       ".xr-section-summary-in + label:before {\n",
       "  display: inline-block;\n",
       "  content: '►';\n",
       "  font-size: 11px;\n",
       "  width: 15px;\n",
       "  text-align: center;\n",
       "}\n",
       "\n",
       ".xr-section-summary-in:disabled + label:before {\n",
       "  color: var(--xr-disabled-color);\n",
       "}\n",
       "\n",
       ".xr-section-summary-in:checked + label:before {\n",
       "  content: '▼';\n",
       "}\n",
       "\n",
       ".xr-section-summary-in:checked + label > span {\n",
       "  display: none;\n",
       "}\n",
       "\n",
       ".xr-section-summary,\n",
       ".xr-section-inline-details {\n",
       "  padding-top: 4px;\n",
       "  padding-bottom: 4px;\n",
       "}\n",
       "\n",
       ".xr-section-inline-details {\n",
       "  grid-column: 2 / -1;\n",
       "}\n",
       "\n",
       ".xr-section-details {\n",
       "  display: none;\n",
       "  grid-column: 1 / -1;\n",
       "  margin-bottom: 5px;\n",
       "}\n",
       "\n",
       ".xr-section-summary-in:checked ~ .xr-section-details {\n",
       "  display: contents;\n",
       "}\n",
       "\n",
       ".xr-array-wrap {\n",
       "  grid-column: 1 / -1;\n",
       "  display: grid;\n",
       "  grid-template-columns: 20px auto;\n",
       "}\n",
       "\n",
       ".xr-array-wrap > label {\n",
       "  grid-column: 1;\n",
       "  vertical-align: top;\n",
       "}\n",
       "\n",
       ".xr-preview {\n",
       "  color: var(--xr-font-color3);\n",
       "}\n",
       "\n",
       ".xr-array-preview,\n",
       ".xr-array-data {\n",
       "  padding: 0 5px !important;\n",
       "  grid-column: 2;\n",
       "}\n",
       "\n",
       ".xr-array-data,\n",
       ".xr-array-in:checked ~ .xr-array-preview {\n",
       "  display: none;\n",
       "}\n",
       "\n",
       ".xr-array-in:checked ~ .xr-array-data,\n",
       ".xr-array-preview {\n",
       "  display: inline-block;\n",
       "}\n",
       "\n",
       ".xr-dim-list {\n",
       "  display: inline-block !important;\n",
       "  list-style: none;\n",
       "  padding: 0 !important;\n",
       "  margin: 0;\n",
       "}\n",
       "\n",
       ".xr-dim-list li {\n",
       "  display: inline-block;\n",
       "  padding: 0;\n",
       "  margin: 0;\n",
       "}\n",
       "\n",
       ".xr-dim-list:before {\n",
       "  content: '(';\n",
       "}\n",
       "\n",
       ".xr-dim-list:after {\n",
       "  content: ')';\n",
       "}\n",
       "\n",
       ".xr-dim-list li:not(:last-child):after {\n",
       "  content: ',';\n",
       "  padding-right: 5px;\n",
       "}\n",
       "\n",
       ".xr-has-index {\n",
       "  font-weight: bold;\n",
       "}\n",
       "\n",
       ".xr-var-list,\n",
       ".xr-var-item {\n",
       "  display: contents;\n",
       "}\n",
       "\n",
       ".xr-var-item > div,\n",
       ".xr-var-item label,\n",
       ".xr-var-item > .xr-var-name span {\n",
       "  background-color: var(--xr-background-color-row-even);\n",
       "  margin-bottom: 0;\n",
       "}\n",
       "\n",
       ".xr-var-item > .xr-var-name:hover span {\n",
       "  padding-right: 5px;\n",
       "}\n",
       "\n",
       ".xr-var-list > li:nth-child(odd) > div,\n",
       ".xr-var-list > li:nth-child(odd) > label,\n",
       ".xr-var-list > li:nth-child(odd) > .xr-var-name span {\n",
       "  background-color: var(--xr-background-color-row-odd);\n",
       "}\n",
       "\n",
       ".xr-var-name {\n",
       "  grid-column: 1;\n",
       "}\n",
       "\n",
       ".xr-var-dims {\n",
       "  grid-column: 2;\n",
       "}\n",
       "\n",
       ".xr-var-dtype {\n",
       "  grid-column: 3;\n",
       "  text-align: right;\n",
       "  color: var(--xr-font-color2);\n",
       "}\n",
       "\n",
       ".xr-var-preview {\n",
       "  grid-column: 4;\n",
       "}\n",
       "\n",
       ".xr-index-preview {\n",
       "  grid-column: 2 / 5;\n",
       "  color: var(--xr-font-color2);\n",
       "}\n",
       "\n",
       ".xr-var-name,\n",
       ".xr-var-dims,\n",
       ".xr-var-dtype,\n",
       ".xr-preview,\n",
       ".xr-attrs dt {\n",
       "  white-space: nowrap;\n",
       "  overflow: hidden;\n",
       "  text-overflow: ellipsis;\n",
       "  padding-right: 10px;\n",
       "}\n",
       "\n",
       ".xr-var-name:hover,\n",
       ".xr-var-dims:hover,\n",
       ".xr-var-dtype:hover,\n",
       ".xr-attrs dt:hover {\n",
       "  overflow: visible;\n",
       "  width: auto;\n",
       "  z-index: 1;\n",
       "}\n",
       "\n",
       ".xr-var-attrs,\n",
       ".xr-var-data,\n",
       ".xr-index-data {\n",
       "  display: none;\n",
       "  background-color: var(--xr-background-color) !important;\n",
       "  padding-bottom: 5px !important;\n",
       "}\n",
       "\n",
       ".xr-var-attrs-in:checked ~ .xr-var-attrs,\n",
       ".xr-var-data-in:checked ~ .xr-var-data,\n",
       ".xr-index-data-in:checked ~ .xr-index-data {\n",
       "  display: block;\n",
       "}\n",
       "\n",
       ".xr-var-data > table {\n",
       "  float: right;\n",
       "}\n",
       "\n",
       ".xr-var-name span,\n",
       ".xr-var-data,\n",
       ".xr-index-name div,\n",
       ".xr-index-data,\n",
       ".xr-attrs {\n",
       "  padding-left: 25px !important;\n",
       "}\n",
       "\n",
       ".xr-attrs,\n",
       ".xr-var-attrs,\n",
       ".xr-var-data,\n",
       ".xr-index-data {\n",
       "  grid-column: 1 / -1;\n",
       "}\n",
       "\n",
       "dl.xr-attrs {\n",
       "  padding: 0;\n",
       "  margin: 0;\n",
       "  display: grid;\n",
       "  grid-template-columns: 125px auto;\n",
       "}\n",
       "\n",
       ".xr-attrs dt,\n",
       ".xr-attrs dd {\n",
       "  padding: 0;\n",
       "  margin: 0;\n",
       "  float: left;\n",
       "  padding-right: 10px;\n",
       "  width: auto;\n",
       "}\n",
       "\n",
       ".xr-attrs dt {\n",
       "  font-weight: normal;\n",
       "  grid-column: 1;\n",
       "}\n",
       "\n",
       ".xr-attrs dt:hover span {\n",
       "  display: inline-block;\n",
       "  background: var(--xr-background-color);\n",
       "  padding-right: 10px;\n",
       "}\n",
       "\n",
       ".xr-attrs dd {\n",
       "  grid-column: 2;\n",
       "  white-space: pre-wrap;\n",
       "  word-break: break-all;\n",
       "}\n",
       "\n",
       ".xr-icon-database,\n",
       ".xr-icon-file-text2,\n",
       ".xr-no-icon {\n",
       "  display: inline-block;\n",
       "  vertical-align: middle;\n",
       "  width: 1em;\n",
       "  height: 1.5em !important;\n",
       "  stroke-width: 0;\n",
       "  stroke: currentColor;\n",
       "  fill: currentColor;\n",
       "}\n",
       "</style><pre class='xr-text-repr-fallback'>&lt;TimeSeries (DataArray) (time: 1688, component: 1, sample: 1)&gt;\n",
       "array([[[0.        ]],\n",
       "\n",
       "       [[0.69831293]],\n",
       "\n",
       "       [[0.60635131]],\n",
       "\n",
       "       ...,\n",
       "\n",
       "       [[0.13761164]],\n",
       "\n",
       "       [[0.57327158]],\n",
       "\n",
       "       [[0.5600397 ]]])\n",
       "Coordinates:\n",
       "  * time       (time) datetime64[ns] 2013-01-01 2013-01-02 ... 2017-08-15\n",
       "  * component  (component) object &#x27;transactions&#x27;\n",
       "Dimensions without coordinates: sample\n",
       "Attributes:\n",
       "    static_covariates:  None\n",
       "    hierarchy:          None</pre><div class='xr-wrap' style='display:none'><div class='xr-header'><div class='xr-obj-type'>TimeSeries (DataArray)</div><div class='xr-array-name'></div><ul class='xr-dim-list'><li><span class='xr-has-index'>time</span>: 1688</li><li><span class='xr-has-index'>component</span>: 1</li><li><span>sample</span>: 1</li></ul></div><ul class='xr-sections'><li class='xr-section-item'><div class='xr-array-wrap'><input id='section-519e4e9a-695e-4324-ba55-5cba6c9c2524' class='xr-array-in' type='checkbox' checked><label for='section-519e4e9a-695e-4324-ba55-5cba6c9c2524' title='Show/hide data repr'><svg class='icon xr-icon-database'><use xlink:href='#icon-database'></use></svg></label><div class='xr-array-preview xr-preview'><span>0.0 0.6983 0.6064 0.6163 0.4992 ... 0.1886 0.3321 0.1376 0.5733 0.56</span></div><div class='xr-array-data'><pre>array([[[0.        ]],\n",
       "\n",
       "       [[0.69831293]],\n",
       "\n",
       "       [[0.60635131]],\n",
       "\n",
       "       ...,\n",
       "\n",
       "       [[0.13761164]],\n",
       "\n",
       "       [[0.57327158]],\n",
       "\n",
       "       [[0.5600397 ]]])</pre></div></div></li><li class='xr-section-item'><input id='section-246ae3e9-6019-4683-a78d-f6d07123bce4' class='xr-section-summary-in' type='checkbox'  checked><label for='section-246ae3e9-6019-4683-a78d-f6d07123bce4' class='xr-section-summary' >Coordinates: <span>(2)</span></label><div class='xr-section-inline-details'></div><div class='xr-section-details'><ul class='xr-var-list'><li class='xr-var-item'><div class='xr-var-name'><span class='xr-has-index'>time</span></div><div class='xr-var-dims'>(time)</div><div class='xr-var-dtype'>datetime64[ns]</div><div class='xr-var-preview xr-preview'>2013-01-01 ... 2017-08-15</div><input id='attrs-8220670c-e783-4ae7-81ff-fdeb814aa4fe' class='xr-var-attrs-in' type='checkbox' disabled><label for='attrs-8220670c-e783-4ae7-81ff-fdeb814aa4fe' title='Show/Hide attributes'><svg class='icon xr-icon-file-text2'><use xlink:href='#icon-file-text2'></use></svg></label><input id='data-9d50fcec-6425-431c-858a-baaca323778c' class='xr-var-data-in' type='checkbox'><label for='data-9d50fcec-6425-431c-858a-baaca323778c' title='Show/Hide data repr'><svg class='icon xr-icon-database'><use xlink:href='#icon-database'></use></svg></label><div class='xr-var-attrs'><dl class='xr-attrs'></dl></div><div class='xr-var-data'><pre>array([&#x27;2013-01-01T00:00:00.000000000&#x27;, &#x27;2013-01-02T00:00:00.000000000&#x27;,\n",
       "       &#x27;2013-01-03T00:00:00.000000000&#x27;, ..., &#x27;2017-08-13T00:00:00.000000000&#x27;,\n",
       "       &#x27;2017-08-14T00:00:00.000000000&#x27;, &#x27;2017-08-15T00:00:00.000000000&#x27;],\n",
       "      dtype=&#x27;datetime64[ns]&#x27;)</pre></div></li><li class='xr-var-item'><div class='xr-var-name'><span class='xr-has-index'>component</span></div><div class='xr-var-dims'>(component)</div><div class='xr-var-dtype'>object</div><div class='xr-var-preview xr-preview'>&#x27;transactions&#x27;</div><input id='attrs-d239aa67-3836-42c2-8b5f-c52e18f88bd4' class='xr-var-attrs-in' type='checkbox' disabled><label for='attrs-d239aa67-3836-42c2-8b5f-c52e18f88bd4' title='Show/Hide attributes'><svg class='icon xr-icon-file-text2'><use xlink:href='#icon-file-text2'></use></svg></label><input id='data-61192106-ad2c-494b-ab45-3ae803217727' class='xr-var-data-in' type='checkbox'><label for='data-61192106-ad2c-494b-ab45-3ae803217727' title='Show/Hide data repr'><svg class='icon xr-icon-database'><use xlink:href='#icon-database'></use></svg></label><div class='xr-var-attrs'><dl class='xr-attrs'></dl></div><div class='xr-var-data'><pre>array([&#x27;transactions&#x27;], dtype=object)</pre></div></li></ul></div></li><li class='xr-section-item'><input id='section-48890694-49d0-4c55-bcc6-6c3c3ad39036' class='xr-section-summary-in' type='checkbox'  ><label for='section-48890694-49d0-4c55-bcc6-6c3c3ad39036' class='xr-section-summary' >Indexes: <span>(2)</span></label><div class='xr-section-inline-details'></div><div class='xr-section-details'><ul class='xr-var-list'><li class='xr-var-item'><div class='xr-index-name'><div>time</div></div><div class='xr-index-preview'>PandasIndex</div><div></div><input id='index-51d65d24-6987-40b7-b64b-fe616773ed22' class='xr-index-data-in' type='checkbox'/><label for='index-51d65d24-6987-40b7-b64b-fe616773ed22' title='Show/Hide index repr'><svg class='icon xr-icon-database'><use xlink:href='#icon-database'></use></svg></label><div class='xr-index-data'><pre>PandasIndex(DatetimeIndex([&#x27;2013-01-01&#x27;, &#x27;2013-01-02&#x27;, &#x27;2013-01-03&#x27;, &#x27;2013-01-04&#x27;,\n",
       "               &#x27;2013-01-05&#x27;, &#x27;2013-01-06&#x27;, &#x27;2013-01-07&#x27;, &#x27;2013-01-08&#x27;,\n",
       "               &#x27;2013-01-09&#x27;, &#x27;2013-01-10&#x27;,\n",
       "               ...\n",
       "               &#x27;2017-08-06&#x27;, &#x27;2017-08-07&#x27;, &#x27;2017-08-08&#x27;, &#x27;2017-08-09&#x27;,\n",
       "               &#x27;2017-08-10&#x27;, &#x27;2017-08-11&#x27;, &#x27;2017-08-12&#x27;, &#x27;2017-08-13&#x27;,\n",
       "               &#x27;2017-08-14&#x27;, &#x27;2017-08-15&#x27;],\n",
       "              dtype=&#x27;datetime64[ns]&#x27;, name=&#x27;time&#x27;, length=1688, freq=&#x27;D&#x27;))</pre></div></li><li class='xr-var-item'><div class='xr-index-name'><div>component</div></div><div class='xr-index-preview'>PandasIndex</div><div></div><input id='index-eb97cc34-3966-4d3d-981a-0aaad1516053' class='xr-index-data-in' type='checkbox'/><label for='index-eb97cc34-3966-4d3d-981a-0aaad1516053' title='Show/Hide index repr'><svg class='icon xr-icon-database'><use xlink:href='#icon-database'></use></svg></label><div class='xr-index-data'><pre>PandasIndex(Index([&#x27;transactions&#x27;], dtype=&#x27;object&#x27;, name=&#x27;component&#x27;))</pre></div></li></ul></div></li><li class='xr-section-item'><input id='section-9650c832-89bd-467d-aa1d-65aeed2bbd05' class='xr-section-summary-in' type='checkbox'  checked><label for='section-9650c832-89bd-467d-aa1d-65aeed2bbd05' class='xr-section-summary' >Attributes: <span>(2)</span></label><div class='xr-section-inline-details'></div><div class='xr-section-details'><dl class='xr-attrs'><dt><span>static_covariates :</span></dt><dd>None</dd><dt><span>hierarchy :</span></dt><dd>None</dd></dl></div></li></ul></div></div>"
      ],
      "text/plain": [
       "<TimeSeries (DataArray) (time: 1688, component: 1, sample: 1)>\n",
       "array([[[0.        ]],\n",
       "\n",
       "       [[0.69831293]],\n",
       "\n",
       "       [[0.60635131]],\n",
       "\n",
       "       ...,\n",
       "\n",
       "       [[0.13761164]],\n",
       "\n",
       "       [[0.57327158]],\n",
       "\n",
       "       [[0.5600397 ]]])\n",
       "Coordinates:\n",
       "  * time       (time) datetime64[ns] 2013-01-01 2013-01-02 ... 2017-08-15\n",
       "  * component  (component) object 'transactions'\n",
       "Dimensions without coordinates: sample\n",
       "Attributes:\n",
       "    static_covariates:  None\n",
       "    hierarchy:          None"
      ]
     },
     "metadata": {},
     "output_type": "display_data"
    }
   ],
   "source": [
    "display(transactions_transformed[0])"
   ]
  },
  {
   "cell_type": "markdown",
   "id": "73377373",
   "metadata": {
    "papermill": {
     "duration": 0.03821,
     "end_time": "2023-05-22T09:10:25.536090",
     "exception": false,
     "start_time": "2023-05-22T09:10:25.497880",
     "status": "completed"
    },
    "tags": []
   },
   "source": [
    "### Create dataframe with id and reduce memory usage"
   ]
  },
  {
   "cell_type": "code",
   "execution_count": 48,
   "id": "b17a6407",
   "metadata": {
    "execution": {
     "iopub.execute_input": "2023-05-22T09:10:25.616483Z",
     "iopub.status.busy": "2023-05-22T09:10:25.615627Z",
     "iopub.status.idle": "2023-05-22T09:10:27.305079Z",
     "shell.execute_reply": "2023-05-22T09:10:27.303866Z"
    },
    "papermill": {
     "duration": 1.732869,
     "end_time": "2023-05-22T09:10:27.307548",
     "exception": false,
     "start_time": "2023-05-22T09:10:25.574679",
     "status": "completed"
    },
    "tags": []
   },
   "outputs": [
    {
     "data": {
      "text/plain": [
       "(3029400, 5)"
      ]
     },
     "execution_count": 48,
     "metadata": {},
     "output_type": "execute_result"
    }
   ],
   "source": [
    "df_indexes = pd.concat([df_train, df_test])\n",
    "df_indexes = df_indexes.drop(['onpromotion'], axis=1)\n",
    "df_indexes = df_indexes.sort_values(by=['store_nbr','family',])\n",
    "df_indexes.date = pd.to_datetime(df_indexes.date)\n",
    "df_indexes.shape"
   ]
  },
  {
   "cell_type": "code",
   "execution_count": 49,
   "id": "edde6c95",
   "metadata": {
    "execution": {
     "iopub.execute_input": "2023-05-22T09:10:27.389754Z",
     "iopub.status.busy": "2023-05-22T09:10:27.388933Z",
     "iopub.status.idle": "2023-05-22T09:10:27.493858Z",
     "shell.execute_reply": "2023-05-22T09:10:27.492648Z"
    },
    "papermill": {
     "duration": 0.149815,
     "end_time": "2023-05-22T09:10:27.496342",
     "exception": false,
     "start_time": "2023-05-22T09:10:27.346527",
     "status": "completed"
    },
    "tags": []
   },
   "outputs": [
    {
     "data": {
      "text/html": [
       "<div>\n",
       "<style scoped>\n",
       "    .dataframe tbody tr th:only-of-type {\n",
       "        vertical-align: middle;\n",
       "    }\n",
       "\n",
       "    .dataframe tbody tr th {\n",
       "        vertical-align: top;\n",
       "    }\n",
       "\n",
       "    .dataframe thead th {\n",
       "        text-align: right;\n",
       "    }\n",
       "</style>\n",
       "<table border=\"1\" class=\"dataframe\">\n",
       "  <thead>\n",
       "    <tr style=\"text-align: right;\">\n",
       "      <th></th>\n",
       "      <th>id</th>\n",
       "      <th>store_nbr</th>\n",
       "      <th>family</th>\n",
       "      <th>sales</th>\n",
       "    </tr>\n",
       "    <tr>\n",
       "      <th>date</th>\n",
       "      <th></th>\n",
       "      <th></th>\n",
       "      <th></th>\n",
       "      <th></th>\n",
       "    </tr>\n",
       "  </thead>\n",
       "  <tbody>\n",
       "    <tr>\n",
       "      <th>2013-01-01</th>\n",
       "      <td>0</td>\n",
       "      <td>1</td>\n",
       "      <td>AUTOMOTIVE</td>\n",
       "      <td>0.0</td>\n",
       "    </tr>\n",
       "    <tr>\n",
       "      <th>2013-01-02</th>\n",
       "      <td>1782</td>\n",
       "      <td>1</td>\n",
       "      <td>AUTOMOTIVE</td>\n",
       "      <td>2.0</td>\n",
       "    </tr>\n",
       "    <tr>\n",
       "      <th>2013-01-03</th>\n",
       "      <td>3564</td>\n",
       "      <td>1</td>\n",
       "      <td>AUTOMOTIVE</td>\n",
       "      <td>3.0</td>\n",
       "    </tr>\n",
       "    <tr>\n",
       "      <th>2013-01-04</th>\n",
       "      <td>5346</td>\n",
       "      <td>1</td>\n",
       "      <td>AUTOMOTIVE</td>\n",
       "      <td>3.0</td>\n",
       "    </tr>\n",
       "    <tr>\n",
       "      <th>2013-01-05</th>\n",
       "      <td>7128</td>\n",
       "      <td>1</td>\n",
       "      <td>AUTOMOTIVE</td>\n",
       "      <td>5.0</td>\n",
       "    </tr>\n",
       "  </tbody>\n",
       "</table>\n",
       "</div>"
      ],
      "text/plain": [
       "              id  store_nbr      family  sales\n",
       "date                                          \n",
       "2013-01-01     0          1  AUTOMOTIVE    0.0\n",
       "2013-01-02  1782          1  AUTOMOTIVE    2.0\n",
       "2013-01-03  3564          1  AUTOMOTIVE    3.0\n",
       "2013-01-04  5346          1  AUTOMOTIVE    3.0\n",
       "2013-01-05  7128          1  AUTOMOTIVE    5.0"
      ]
     },
     "execution_count": 49,
     "metadata": {},
     "output_type": "execute_result"
    }
   ],
   "source": [
    "df_indexes = df_indexes.set_index('date')\n",
    "df_indexes.head()"
   ]
  },
  {
   "cell_type": "code",
   "execution_count": 50,
   "id": "297052d9",
   "metadata": {
    "execution": {
     "iopub.execute_input": "2023-05-22T09:10:27.576727Z",
     "iopub.status.busy": "2023-05-22T09:10:27.576306Z",
     "iopub.status.idle": "2023-05-22T09:17:02.139086Z",
     "shell.execute_reply": "2023-05-22T09:17:02.137529Z"
    },
    "papermill": {
     "duration": 394.636091,
     "end_time": "2023-05-22T09:17:02.171929",
     "exception": false,
     "start_time": "2023-05-22T09:10:27.535838",
     "status": "completed"
    },
    "tags": []
   },
   "outputs": [
    {
     "name": "stderr",
     "output_type": "stream",
     "text": [
      "100%|██████████| 33/33 [06:34<00:00, 11.96s/it]\n"
     ]
    },
    {
     "data": {
      "text/html": [
       "<div>\n",
       "<style scoped>\n",
       "    .dataframe tbody tr th:only-of-type {\n",
       "        vertical-align: middle;\n",
       "    }\n",
       "\n",
       "    .dataframe tbody tr th {\n",
       "        vertical-align: top;\n",
       "    }\n",
       "\n",
       "    .dataframe thead th {\n",
       "        text-align: right;\n",
       "    }\n",
       "</style>\n",
       "<table border=\"1\" class=\"dataframe\">\n",
       "  <thead>\n",
       "    <tr style=\"text-align: right;\">\n",
       "      <th></th>\n",
       "      <th>id</th>\n",
       "      <th>store_nbr</th>\n",
       "      <th>family</th>\n",
       "      <th>sales</th>\n",
       "    </tr>\n",
       "  </thead>\n",
       "  <tbody>\n",
       "    <tr>\n",
       "      <th>2013-01-01</th>\n",
       "      <td>0.0</td>\n",
       "      <td>1.0</td>\n",
       "      <td>AUTOMOTIVE</td>\n",
       "      <td>0.0</td>\n",
       "    </tr>\n",
       "    <tr>\n",
       "      <th>2013-01-02</th>\n",
       "      <td>1782.0</td>\n",
       "      <td>1.0</td>\n",
       "      <td>AUTOMOTIVE</td>\n",
       "      <td>2.0</td>\n",
       "    </tr>\n",
       "    <tr>\n",
       "      <th>2013-01-03</th>\n",
       "      <td>3564.0</td>\n",
       "      <td>1.0</td>\n",
       "      <td>AUTOMOTIVE</td>\n",
       "      <td>3.0</td>\n",
       "    </tr>\n",
       "    <tr>\n",
       "      <th>2013-01-04</th>\n",
       "      <td>5346.0</td>\n",
       "      <td>1.0</td>\n",
       "      <td>AUTOMOTIVE</td>\n",
       "      <td>3.0</td>\n",
       "    </tr>\n",
       "    <tr>\n",
       "      <th>2013-01-05</th>\n",
       "      <td>7128.0</td>\n",
       "      <td>1.0</td>\n",
       "      <td>AUTOMOTIVE</td>\n",
       "      <td>5.0</td>\n",
       "    </tr>\n",
       "  </tbody>\n",
       "</table>\n",
       "</div>"
      ],
      "text/plain": [
       "                id  store_nbr      family  sales\n",
       "2013-01-01     0.0        1.0  AUTOMOTIVE    0.0\n",
       "2013-01-02  1782.0        1.0  AUTOMOTIVE    2.0\n",
       "2013-01-03  3564.0        1.0  AUTOMOTIVE    3.0\n",
       "2013-01-04  5346.0        1.0  AUTOMOTIVE    3.0\n",
       "2013-01-05  7128.0        1.0  AUTOMOTIVE    5.0"
      ]
     },
     "execution_count": 50,
     "metadata": {},
     "output_type": "execute_result"
    }
   ],
   "source": [
    "date_range = pd.date_range(start=df_indexes.index.min(), end=df_indexes.index.max(), freq=\"D\")\n",
    "df_indexes_filled = pd.DataFrame(columns=df_indexes.columns)\n",
    "\n",
    "for family in tqdm(family_list):\n",
    "    for store in store_list:\n",
    "        temp_df = df_indexes.iloc[np.where((df_indexes.family == family)&(df_indexes.store_nbr == store))]\n",
    "        temp_df = temp_df.reindex(date_range).fillna({'id': np.nan, 'store_nbr': store, 'family':family, 'sales': np.nan})\n",
    "        df_indexes_filled = pd.concat([df_indexes_filled, temp_df])\n",
    "\n",
    "df_indexes_filled.head()"
   ]
  },
  {
   "cell_type": "code",
   "execution_count": 51,
   "id": "92c9b687",
   "metadata": {
    "execution": {
     "iopub.execute_input": "2023-05-22T09:17:02.263684Z",
     "iopub.status.busy": "2023-05-22T09:17:02.262689Z",
     "iopub.status.idle": "2023-05-22T09:17:02.950904Z",
     "shell.execute_reply": "2023-05-22T09:17:02.949766Z"
    },
    "papermill": {
     "duration": 0.737644,
     "end_time": "2023-05-22T09:17:02.953292",
     "exception": false,
     "start_time": "2023-05-22T09:17:02.215648",
     "status": "completed"
    },
    "tags": []
   },
   "outputs": [
    {
     "data": {
      "text/html": [
       "<div>\n",
       "<style scoped>\n",
       "    .dataframe tbody tr th:only-of-type {\n",
       "        vertical-align: middle;\n",
       "    }\n",
       "\n",
       "    .dataframe tbody tr th {\n",
       "        vertical-align: top;\n",
       "    }\n",
       "\n",
       "    .dataframe thead th {\n",
       "        text-align: right;\n",
       "    }\n",
       "</style>\n",
       "<table border=\"1\" class=\"dataframe\">\n",
       "  <thead>\n",
       "    <tr style=\"text-align: right;\">\n",
       "      <th></th>\n",
       "      <th>date</th>\n",
       "      <th>id</th>\n",
       "      <th>store_nbr</th>\n",
       "      <th>family</th>\n",
       "      <th>sales</th>\n",
       "    </tr>\n",
       "  </thead>\n",
       "  <tbody>\n",
       "    <tr>\n",
       "      <th>0</th>\n",
       "      <td>2013-01-01</td>\n",
       "      <td>0.0</td>\n",
       "      <td>1.0</td>\n",
       "      <td>AUTOMOTIVE</td>\n",
       "      <td>0.0</td>\n",
       "    </tr>\n",
       "    <tr>\n",
       "      <th>1</th>\n",
       "      <td>2013-01-02</td>\n",
       "      <td>1782.0</td>\n",
       "      <td>1.0</td>\n",
       "      <td>AUTOMOTIVE</td>\n",
       "      <td>2.0</td>\n",
       "    </tr>\n",
       "    <tr>\n",
       "      <th>2</th>\n",
       "      <td>2013-01-03</td>\n",
       "      <td>3564.0</td>\n",
       "      <td>1.0</td>\n",
       "      <td>AUTOMOTIVE</td>\n",
       "      <td>3.0</td>\n",
       "    </tr>\n",
       "    <tr>\n",
       "      <th>3</th>\n",
       "      <td>2013-01-04</td>\n",
       "      <td>5346.0</td>\n",
       "      <td>1.0</td>\n",
       "      <td>AUTOMOTIVE</td>\n",
       "      <td>3.0</td>\n",
       "    </tr>\n",
       "    <tr>\n",
       "      <th>4</th>\n",
       "      <td>2013-01-05</td>\n",
       "      <td>7128.0</td>\n",
       "      <td>1.0</td>\n",
       "      <td>AUTOMOTIVE</td>\n",
       "      <td>5.0</td>\n",
       "    </tr>\n",
       "  </tbody>\n",
       "</table>\n",
       "</div>"
      ],
      "text/plain": [
       "        date      id  store_nbr      family  sales\n",
       "0 2013-01-01     0.0        1.0  AUTOMOTIVE    0.0\n",
       "1 2013-01-02  1782.0        1.0  AUTOMOTIVE    2.0\n",
       "2 2013-01-03  3564.0        1.0  AUTOMOTIVE    3.0\n",
       "3 2013-01-04  5346.0        1.0  AUTOMOTIVE    3.0\n",
       "4 2013-01-05  7128.0        1.0  AUTOMOTIVE    5.0"
      ]
     },
     "execution_count": 51,
     "metadata": {},
     "output_type": "execute_result"
    }
   ],
   "source": [
    "df_indexes_filled.index.name = 'date'\n",
    "df_indexes_filled = df_indexes_filled.reset_index()\n",
    "df_indexes_filled = df_indexes_filled.sort_values(['store_nbr', 'family'])\n",
    "df_indexes_filled.head()"
   ]
  },
  {
   "cell_type": "code",
   "execution_count": 52,
   "id": "47d3e45c",
   "metadata": {
    "execution": {
     "iopub.execute_input": "2023-05-22T09:17:03.041935Z",
     "iopub.status.busy": "2023-05-22T09:17:03.041494Z",
     "iopub.status.idle": "2023-05-22T09:17:03.230281Z",
     "shell.execute_reply": "2023-05-22T09:17:03.229134Z"
    },
    "papermill": {
     "duration": 0.236052,
     "end_time": "2023-05-22T09:17:03.232904",
     "exception": false,
     "start_time": "2023-05-22T09:17:02.996852",
     "status": "completed"
    },
    "tags": []
   },
   "outputs": [],
   "source": [
    "last_train_date = pd.to_datetime(df_train.date.max())"
   ]
  },
  {
   "cell_type": "code",
   "execution_count": 53,
   "id": "afb760ad",
   "metadata": {
    "execution": {
     "iopub.execute_input": "2023-05-22T09:17:03.322724Z",
     "iopub.status.busy": "2023-05-22T09:17:03.322285Z",
     "iopub.status.idle": "2023-05-22T09:17:03.327331Z",
     "shell.execute_reply": "2023-05-22T09:17:03.325872Z"
    },
    "papermill": {
     "duration": 0.052147,
     "end_time": "2023-05-22T09:17:03.330371",
     "exception": false,
     "start_time": "2023-05-22T09:17:03.278224",
     "status": "completed"
    },
    "tags": []
   },
   "outputs": [],
   "source": [
    "import gc"
   ]
  },
  {
   "cell_type": "code",
   "execution_count": 54,
   "id": "b4baa3de",
   "metadata": {
    "execution": {
     "iopub.execute_input": "2023-05-22T09:17:03.435504Z",
     "iopub.status.busy": "2023-05-22T09:17:03.435081Z",
     "iopub.status.idle": "2023-05-22T09:17:04.449380Z",
     "shell.execute_reply": "2023-05-22T09:17:04.448007Z"
    },
    "papermill": {
     "duration": 1.071311,
     "end_time": "2023-05-22T09:17:04.452212",
     "exception": false,
     "start_time": "2023-05-22T09:17:03.380901",
     "status": "completed"
    },
    "tags": []
   },
   "outputs": [
    {
     "data": {
      "text/plain": [
       "480"
      ]
     },
     "execution_count": 54,
     "metadata": {},
     "output_type": "execute_result"
    }
   ],
   "source": [
    "del(df_train)\n",
    "del(df_test)\n",
    "del(df_stores)\n",
    "del(df_holidays_events)\n",
    "del(df_oil)\n",
    "del(df_transactions)\n",
    "del(df_indexes)\n",
    "del(train_merged)\n",
    "\n",
    "gc.collect()"
   ]
  },
  {
   "cell_type": "markdown",
   "id": "7d6eb856",
   "metadata": {
    "papermill": {
     "duration": 0.046053,
     "end_time": "2023-05-22T09:17:04.543026",
     "exception": false,
     "start_time": "2023-05-22T09:17:04.496973",
     "status": "completed"
    },
    "tags": []
   },
   "source": [
    "# Model"
   ]
  },
  {
   "cell_type": "code",
   "execution_count": 55,
   "id": "da2d26c4",
   "metadata": {
    "execution": {
     "iopub.execute_input": "2023-05-22T09:17:04.635284Z",
     "iopub.status.busy": "2023-05-22T09:17:04.634896Z",
     "iopub.status.idle": "2023-05-22T09:17:04.639557Z",
     "shell.execute_reply": "2023-05-22T09:17:04.638267Z"
    },
    "papermill": {
     "duration": 0.053821,
     "end_time": "2023-05-22T09:17:04.642064",
     "exception": false,
     "start_time": "2023-05-22T09:17:04.588243",
     "status": "completed"
    },
    "tags": []
   },
   "outputs": [],
   "source": [
    "from darts.models import LightGBMModel"
   ]
  },
  {
   "cell_type": "markdown",
   "id": "02740d9b",
   "metadata": {
    "papermill": {
     "duration": 0.04332,
     "end_time": "2023-05-22T09:17:04.728277",
     "exception": false,
     "start_time": "2023-05-22T09:17:04.684957",
     "status": "completed"
    },
    "tags": []
   },
   "source": [
    "We will use a general predictions function for blending and stacking."
   ]
  },
  {
   "cell_type": "code",
   "execution_count": 56,
   "id": "21af4df1",
   "metadata": {
    "execution": {
     "iopub.execute_input": "2023-05-22T09:17:04.814161Z",
     "iopub.status.busy": "2023-05-22T09:17:04.813700Z",
     "iopub.status.idle": "2023-05-22T09:17:04.833020Z",
     "shell.execute_reply": "2023-05-22T09:17:04.831774Z"
    },
    "papermill": {
     "duration": 0.06569,
     "end_time": "2023-05-22T09:17:04.836015",
     "exception": false,
     "start_time": "2023-05-22T09:17:04.770325",
     "status": "completed"
    },
    "tags": []
   },
   "outputs": [],
   "source": [
    "'''\n",
    "The function takes two arguments as input:\n",
    "model_params: model hyperparameters, tuning them can improve prediction accuracy.\n",
    "val_df_size: number of days in the validation set. The parameter is needed to determine\n",
    "the size of the validation sample in the stacking. For blending, set the default value to zero.\n",
    "'''\n",
    "\n",
    "def lgbm_predictions(model_params, val_df_size = 0):\n",
    "    l_train_date = last_train_date - np.timedelta64(val_df_size, 'D')\n",
    "    local_df_indexes = df_indexes_filled.iloc[np.where(df_indexes_filled.date > l_train_date)]\n",
    "    \n",
    "    submission_kaggle_list = []    \n",
    "    cnt = 1\n",
    "    \n",
    "    for params in model_params:\n",
    "        LGBM_Models_Submission = {}\n",
    "        display(\"Training...\")\n",
    "            \n",
    "        # Fit Model\n",
    "        print(f'Start fit model {cnt}')\n",
    "        for family in tqdm(family_list):        \n",
    "            sales_family = family_TS_transformed_dict[family]\n",
    "            # training_data: represents the number of sales in the training sample minus the sales for the val\n",
    "            training_data = [ts[:1688-val_df_size] for ts in sales_family]\n",
    "            # TCN_covariates: represents the future covariates associated with the target product family\n",
    "            TCN_covariates = future_covariates_dict[family]\n",
    "            # train_sliced: represents the number of sales associated with the target product family.\n",
    "            # slice_intersect: function that you can see used simply ensures that the components span the same time interval. \n",
    "            # In the case of different time intervals an error message will appear if we try to combine them.\n",
    "            train_sliced = [training_data[i].slice_intersect(TCN_covariates[i]) for i in range(0,len(training_data))]\n",
    "            \n",
    "\n",
    "            LGBM_Model_Submission = LightGBMModel(lags = params[\"lags\"],\n",
    "                                                  lags_future_covariates = params[\"lags_future_covariates\"],\n",
    "                                                  lags_past_covariates = params[\"lags_past_covariates\"],\n",
    "                                                  output_chunk_length=1,\n",
    "                                                  random_state=2022,\n",
    "                                                  gpu_use_dp= \"false\")\n",
    "\n",
    "\n",
    "            LGBM_Model_Submission.fit(series=train_sliced, \n",
    "                                  future_covariates=TCN_covariates,\n",
    "                                  # transactions_transformed: the past covariates do not need to be indexed on the target \n",
    "                                  # family because there is only one global `TimeSeries` per store.\n",
    "                                  past_covariates=transactions_transformed)\n",
    "\n",
    "            LGBM_Models_Submission[family] = LGBM_Model_Submission\n",
    "\n",
    "        display(\"Predictions...\")\n",
    "        LGBM_Forecasts_Families_Submission = {}\n",
    "\n",
    "        # Predict\n",
    "        print(f'Start predict model {cnt}')\n",
    "        for family in tqdm(family_list):\n",
    "            sales_family = family_TS_transformed_dict[family]\n",
    "            training_data = [ts[:1688-val_df_size] for ts in sales_family]\n",
    "            LGBM_covariates = future_covariates_dict[family]\n",
    "            train_sliced = [training_data[i].slice_intersect(TCN_covariates[i]) for i in range(0,len(training_data))]\n",
    "\n",
    "            forecast_LGBM = LGBM_Models_Submission[family].predict(\n",
    "                                                  n= 16 + val_df_size,\n",
    "                                                  series=train_sliced,\n",
    "                                                  future_covariates=LGBM_covariates,\n",
    "                                                  past_covariates=transactions_transformed\n",
    "                                                 )\n",
    "\n",
    "            LGBM_Forecasts_Families_Submission[family] = forecast_LGBM\n",
    "\n",
    "        # Transform Back\n",
    "        print(f'Start transform Back {cnt}')\n",
    "        LGBM_Forecasts_Families_back_Submission = {}\n",
    "\n",
    "        for family in tqdm(family_list):\n",
    "            LGBM_Forecasts_Families_back_Submission[family] = family_pipeline_dict[family].inverse_transform(LGBM_Forecasts_Families_Submission[family], partial=True)\n",
    "\n",
    "        # Prepare Submission in Correct Format\n",
    "        print(f'Start Prepare Submission {cnt}')\n",
    "        for family in tqdm(LGBM_Forecasts_Families_back_Submission):\n",
    "            for n in range(0,len(LGBM_Forecasts_Families_back_Submission[family])):\n",
    "                if (family_TS_dict[family][n].univariate_values()[-21:] == 0).all():\n",
    "                    LGBM_Forecasts_Families_back_Submission[family][n] = LGBM_Forecasts_Families_back_Submission[family][n].map(lambda x: x * 0)\n",
    "\n",
    "        listofseries = []\n",
    "\n",
    "        for store in tqdm(range(0,54)):\n",
    "            for family in family_list:\n",
    "                oneforecast = LGBM_Forecasts_Families_back_Submission[family][store].pd_dataframe()\n",
    "                oneforecast.columns = ['y_pred']\n",
    "                listofseries.append(oneforecast)\n",
    "\n",
    "        df_forecasts = pd.concat(listofseries) \n",
    "        df_forecasts.reset_index(drop=True, inplace=True)\n",
    "\n",
    "        # No Negative Forecasts\n",
    "        print(f'Start No Negative Forecasts {cnt}')\n",
    "        df_forecasts[df_forecasts < 0] = 0\n",
    "        forecasts_kaggle = pd.concat([local_df_indexes['id'], df_forecasts.set_index(local_df_indexes.index)], axis=1)\n",
    "        forecasts_kaggle = forecasts_kaggle.reset_index(drop=True)\n",
    "\n",
    "        # Submission\n",
    "        print(f'Start Submission {cnt}')\n",
    "        submission_kaggle_list.append(forecasts_kaggle)\n",
    "        cnt += 1\n",
    "    \n",
    "    return submission_kaggle_list, local_df_indexes"
   ]
  },
  {
   "cell_type": "markdown",
   "id": "bb63a275",
   "metadata": {
    "papermill": {
     "duration": 0.04449,
     "end_time": "2023-05-22T09:17:04.924473",
     "exception": false,
     "start_time": "2023-05-22T09:17:04.879983",
     "status": "completed"
    },
    "tags": []
   },
   "source": [
    "# Blending\n",
    "The idea of blending is extremely simple and intuitive, which does not prevent the technique from showing good results.\n",
    "\n",
    "Suppose if one model makes an error in one direction, then another model can correct this error if its predictions are biased in the other direction.\n",
    "\n",
    "As a result, the mean value of the predictions may be closer to the true value than the predictions of individual models.\n",
    "\n",
    "However, it should be noted that averaging the results of models can only be effective if the models are diverse and independent of each other.\n",
    "\n",
    "If the models are highly correlated or have similar errors, averaging may not provide a meaningful improvement."
   ]
  },
  {
   "cell_type": "markdown",
   "id": "7affed4d",
   "metadata": {
    "papermill": {
     "duration": 0.041555,
     "end_time": "2023-05-22T09:17:05.008696",
     "exception": false,
     "start_time": "2023-05-22T09:17:04.967141",
     "status": "completed"
    },
    "tags": []
   },
   "source": [
    "Let's set significantly different model hyperparameters to reduce the chance of error correlation:"
   ]
  },
  {
   "cell_type": "code",
   "execution_count": 57,
   "id": "f32a5eba",
   "metadata": {
    "execution": {
     "iopub.execute_input": "2023-05-22T09:17:05.095327Z",
     "iopub.status.busy": "2023-05-22T09:17:05.094552Z",
     "iopub.status.idle": "2023-05-22T09:17:05.103641Z",
     "shell.execute_reply": "2023-05-22T09:17:05.102194Z"
    },
    "papermill": {
     "duration": 0.054882,
     "end_time": "2023-05-22T09:17:05.106079",
     "exception": false,
     "start_time": "2023-05-22T09:17:05.051197",
     "status": "completed"
    },
    "tags": []
   },
   "outputs": [],
   "source": [
    "model_params = [\n",
    "    {\"lags\" : 63, \"lags_future_covariates\" : (14,1), \"lags_past_covariates\" : [-16,-17,-18,-19,-20,-21,-22]},\n",
    "    {\"lags\" : 7, \"lags_future_covariates\" : (16,1), \"lags_past_covariates\" : [-16,-17,-18,-19,-20,-21,-22]},  \n",
    "    {\"lags\" : 31, \"lags_future_covariates\" : (14,1), \"lags_past_covariates\" : [-16,-17,-18,-19,-20,-21,-22]},\n",
    "    {\"lags\" : 365, \"lags_future_covariates\" : (14,1), \"lags_past_covariates\" : [-16,-17,-18,-19,-20,-21,-22]}, \n",
    "    {\"lags\" : 730, \"lags_future_covariates\" : (14,1), \"lags_past_covariates\" : [-16,-17,-18,-19,-20,-21,-22]}, \n",
    "    {\"lags\" : 1095, \"lags_future_covariates\" : (14,1), \"lags_past_covariates\" : [-16,-17,-18,-19,-20,-21,-22]}\n",
    "]"
   ]
  },
  {
   "cell_type": "code",
   "execution_count": 58,
   "id": "7255d2a0",
   "metadata": {
    "execution": {
     "iopub.execute_input": "2023-05-22T09:17:05.191623Z",
     "iopub.status.busy": "2023-05-22T09:17:05.191222Z",
     "iopub.status.idle": "2023-05-22T10:40:11.489084Z",
     "shell.execute_reply": "2023-05-22T10:40:11.487432Z"
    },
    "papermill": {
     "duration": 4986.343942,
     "end_time": "2023-05-22T10:40:11.492173",
     "exception": false,
     "start_time": "2023-05-22T09:17:05.148231",
     "status": "completed"
    },
    "tags": []
   },
   "outputs": [
    {
     "data": {
      "text/plain": [
       "'Training...'"
      ]
     },
     "metadata": {},
     "output_type": "display_data"
    },
    {
     "name": "stdout",
     "output_type": "stream",
     "text": [
      "Start fit model 1\n"
     ]
    },
    {
     "name": "stderr",
     "output_type": "stream",
     "text": [
      "100%|██████████| 33/33 [07:47<00:00, 14.16s/it]\n"
     ]
    },
    {
     "data": {
      "text/plain": [
       "'Predictions...'"
      ]
     },
     "metadata": {},
     "output_type": "display_data"
    },
    {
     "name": "stdout",
     "output_type": "stream",
     "text": [
      "Start predict model 1\n"
     ]
    },
    {
     "name": "stderr",
     "output_type": "stream",
     "text": [
      "100%|██████████| 33/33 [00:24<00:00,  1.37it/s]\n"
     ]
    },
    {
     "name": "stdout",
     "output_type": "stream",
     "text": [
      "Start transform Back 1\n"
     ]
    },
    {
     "name": "stderr",
     "output_type": "stream",
     "text": [
      "  0%|          | 0/33 [00:00<?, ?it/s]/opt/conda/lib/python3.10/site-packages/scipy/__init__.py:146: UserWarning: A NumPy version >=1.16.5 and <1.23.0 is required for this version of SciPy (detected version 1.23.5\n",
      "  warnings.warn(f\"A NumPy version >={np_minversion} and <{np_maxversion}\"\n",
      "/opt/conda/lib/python3.10/site-packages/scipy/__init__.py:146: UserWarning: A NumPy version >=1.16.5 and <1.23.0 is required for this version of SciPy (detected version 1.23.5\n",
      "  warnings.warn(f\"A NumPy version >={np_minversion} and <{np_maxversion}\"\n",
      "/opt/conda/lib/python3.10/site-packages/scipy/__init__.py:146: UserWarning: A NumPy version >=1.16.5 and <1.23.0 is required for this version of SciPy (detected version 1.23.5\n",
      "  warnings.warn(f\"A NumPy version >={np_minversion} and <{np_maxversion}\"\n",
      "/opt/conda/lib/python3.10/site-packages/scipy/__init__.py:146: UserWarning: A NumPy version >=1.16.5 and <1.23.0 is required for this version of SciPy (detected version 1.23.5\n",
      "  warnings.warn(f\"A NumPy version >={np_minversion} and <{np_maxversion}\"\n",
      "100%|██████████| 33/33 [00:29<00:00,  1.10it/s]\n"
     ]
    },
    {
     "name": "stdout",
     "output_type": "stream",
     "text": [
      "Start Prepare Submission 1\n"
     ]
    },
    {
     "name": "stderr",
     "output_type": "stream",
     "text": [
      "100%|██████████| 33/33 [00:00<00:00, 44.46it/s]\n",
      "100%|██████████| 54/54 [00:01<00:00, 50.27it/s]\n"
     ]
    },
    {
     "name": "stdout",
     "output_type": "stream",
     "text": [
      "Start No Negative Forecasts 1\n",
      "Start Submission 1\n"
     ]
    },
    {
     "data": {
      "text/plain": [
       "'Training...'"
      ]
     },
     "metadata": {},
     "output_type": "display_data"
    },
    {
     "name": "stdout",
     "output_type": "stream",
     "text": [
      "Start fit model 2\n"
     ]
    },
    {
     "name": "stderr",
     "output_type": "stream",
     "text": [
      "100%|██████████| 33/33 [06:43<00:00, 12.23s/it]\n"
     ]
    },
    {
     "data": {
      "text/plain": [
       "'Predictions...'"
      ]
     },
     "metadata": {},
     "output_type": "display_data"
    },
    {
     "name": "stdout",
     "output_type": "stream",
     "text": [
      "Start predict model 2\n"
     ]
    },
    {
     "name": "stderr",
     "output_type": "stream",
     "text": [
      "100%|██████████| 33/33 [00:24<00:00,  1.36it/s]\n"
     ]
    },
    {
     "name": "stdout",
     "output_type": "stream",
     "text": [
      "Start transform Back 2\n"
     ]
    },
    {
     "name": "stderr",
     "output_type": "stream",
     "text": [
      "  0%|          | 0/33 [00:00<?, ?it/s]/opt/conda/lib/python3.10/site-packages/scipy/__init__.py:146: UserWarning: A NumPy version >=1.16.5 and <1.23.0 is required for this version of SciPy (detected version 1.23.5\n",
      "  warnings.warn(f\"A NumPy version >={np_minversion} and <{np_maxversion}\"\n",
      "/opt/conda/lib/python3.10/site-packages/scipy/__init__.py:146: UserWarning: A NumPy version >=1.16.5 and <1.23.0 is required for this version of SciPy (detected version 1.23.5\n",
      "  warnings.warn(f\"A NumPy version >={np_minversion} and <{np_maxversion}\"\n",
      "/opt/conda/lib/python3.10/site-packages/scipy/__init__.py:146: UserWarning: A NumPy version >=1.16.5 and <1.23.0 is required for this version of SciPy (detected version 1.23.5\n",
      "  warnings.warn(f\"A NumPy version >={np_minversion} and <{np_maxversion}\"\n",
      "/opt/conda/lib/python3.10/site-packages/scipy/__init__.py:146: UserWarning: A NumPy version >=1.16.5 and <1.23.0 is required for this version of SciPy (detected version 1.23.5\n",
      "  warnings.warn(f\"A NumPy version >={np_minversion} and <{np_maxversion}\"\n",
      "100%|██████████| 33/33 [00:31<00:00,  1.03it/s]\n"
     ]
    },
    {
     "name": "stdout",
     "output_type": "stream",
     "text": [
      "Start Prepare Submission 2\n"
     ]
    },
    {
     "name": "stderr",
     "output_type": "stream",
     "text": [
      "100%|██████████| 33/33 [00:00<00:00, 39.38it/s]\n",
      "100%|██████████| 54/54 [00:01<00:00, 49.10it/s]\n"
     ]
    },
    {
     "name": "stdout",
     "output_type": "stream",
     "text": [
      "Start No Negative Forecasts 2\n",
      "Start Submission 2\n"
     ]
    },
    {
     "data": {
      "text/plain": [
       "'Training...'"
      ]
     },
     "metadata": {},
     "output_type": "display_data"
    },
    {
     "name": "stdout",
     "output_type": "stream",
     "text": [
      "Start fit model 3\n"
     ]
    },
    {
     "name": "stderr",
     "output_type": "stream",
     "text": [
      "100%|██████████| 33/33 [06:57<00:00, 12.64s/it]\n"
     ]
    },
    {
     "data": {
      "text/plain": [
       "'Predictions...'"
      ]
     },
     "metadata": {},
     "output_type": "display_data"
    },
    {
     "name": "stdout",
     "output_type": "stream",
     "text": [
      "Start predict model 3\n"
     ]
    },
    {
     "name": "stderr",
     "output_type": "stream",
     "text": [
      "100%|██████████| 33/33 [00:27<00:00,  1.19it/s]\n"
     ]
    },
    {
     "name": "stdout",
     "output_type": "stream",
     "text": [
      "Start transform Back 3\n"
     ]
    },
    {
     "name": "stderr",
     "output_type": "stream",
     "text": [
      "  0%|          | 0/33 [00:00<?, ?it/s]/opt/conda/lib/python3.10/site-packages/scipy/__init__.py:146: UserWarning: A NumPy version >=1.16.5 and <1.23.0 is required for this version of SciPy (detected version 1.23.5\n",
      "  warnings.warn(f\"A NumPy version >={np_minversion} and <{np_maxversion}\"\n",
      "/opt/conda/lib/python3.10/site-packages/scipy/__init__.py:146: UserWarning: A NumPy version >=1.16.5 and <1.23.0 is required for this version of SciPy (detected version 1.23.5\n",
      "  warnings.warn(f\"A NumPy version >={np_minversion} and <{np_maxversion}\"\n",
      "/opt/conda/lib/python3.10/site-packages/scipy/__init__.py:146: UserWarning: A NumPy version >=1.16.5 and <1.23.0 is required for this version of SciPy (detected version 1.23.5\n",
      "  warnings.warn(f\"A NumPy version >={np_minversion} and <{np_maxversion}\"\n",
      "/opt/conda/lib/python3.10/site-packages/scipy/__init__.py:146: UserWarning: A NumPy version >=1.16.5 and <1.23.0 is required for this version of SciPy (detected version 1.23.5\n",
      "  warnings.warn(f\"A NumPy version >={np_minversion} and <{np_maxversion}\"\n",
      "100%|██████████| 33/33 [00:32<00:00,  1.01it/s]\n"
     ]
    },
    {
     "name": "stdout",
     "output_type": "stream",
     "text": [
      "Start Prepare Submission 3\n"
     ]
    },
    {
     "name": "stderr",
     "output_type": "stream",
     "text": [
      "100%|██████████| 33/33 [00:00<00:00, 39.73it/s]\n",
      "100%|██████████| 54/54 [00:01<00:00, 48.02it/s]\n"
     ]
    },
    {
     "name": "stdout",
     "output_type": "stream",
     "text": [
      "Start No Negative Forecasts 3\n",
      "Start Submission 3\n"
     ]
    },
    {
     "data": {
      "text/plain": [
       "'Training...'"
      ]
     },
     "metadata": {},
     "output_type": "display_data"
    },
    {
     "name": "stdout",
     "output_type": "stream",
     "text": [
      "Start fit model 4\n"
     ]
    },
    {
     "name": "stderr",
     "output_type": "stream",
     "text": [
      "100%|██████████| 33/33 [15:10<00:00, 27.60s/it]\n"
     ]
    },
    {
     "data": {
      "text/plain": [
       "'Predictions...'"
      ]
     },
     "metadata": {},
     "output_type": "display_data"
    },
    {
     "name": "stdout",
     "output_type": "stream",
     "text": [
      "Start predict model 4\n"
     ]
    },
    {
     "name": "stderr",
     "output_type": "stream",
     "text": [
      "100%|██████████| 33/33 [00:25<00:00,  1.28it/s]\n"
     ]
    },
    {
     "name": "stdout",
     "output_type": "stream",
     "text": [
      "Start transform Back 4\n"
     ]
    },
    {
     "name": "stderr",
     "output_type": "stream",
     "text": [
      "  0%|          | 0/33 [00:00<?, ?it/s]/opt/conda/lib/python3.10/site-packages/scipy/__init__.py:146: UserWarning: A NumPy version >=1.16.5 and <1.23.0 is required for this version of SciPy (detected version 1.23.5\n",
      "  warnings.warn(f\"A NumPy version >={np_minversion} and <{np_maxversion}\"\n",
      "/opt/conda/lib/python3.10/site-packages/scipy/__init__.py:146: UserWarning: A NumPy version >=1.16.5 and <1.23.0 is required for this version of SciPy (detected version 1.23.5\n",
      "  warnings.warn(f\"A NumPy version >={np_minversion} and <{np_maxversion}\"\n",
      "/opt/conda/lib/python3.10/site-packages/scipy/__init__.py:146: UserWarning: A NumPy version >=1.16.5 and <1.23.0 is required for this version of SciPy (detected version 1.23.5\n",
      "  warnings.warn(f\"A NumPy version >={np_minversion} and <{np_maxversion}\"\n",
      "/opt/conda/lib/python3.10/site-packages/scipy/__init__.py:146: UserWarning: A NumPy version >=1.16.5 and <1.23.0 is required for this version of SciPy (detected version 1.23.5\n",
      "  warnings.warn(f\"A NumPy version >={np_minversion} and <{np_maxversion}\"\n",
      "100%|██████████| 33/33 [00:30<00:00,  1.06it/s]\n"
     ]
    },
    {
     "name": "stdout",
     "output_type": "stream",
     "text": [
      "Start Prepare Submission 4\n"
     ]
    },
    {
     "name": "stderr",
     "output_type": "stream",
     "text": [
      "100%|██████████| 33/33 [00:00<00:00, 41.33it/s]\n",
      "100%|██████████| 54/54 [00:01<00:00, 48.31it/s]\n"
     ]
    },
    {
     "name": "stdout",
     "output_type": "stream",
     "text": [
      "Start No Negative Forecasts 4\n",
      "Start Submission 4\n"
     ]
    },
    {
     "data": {
      "text/plain": [
       "'Training...'"
      ]
     },
     "metadata": {},
     "output_type": "display_data"
    },
    {
     "name": "stdout",
     "output_type": "stream",
     "text": [
      "Start fit model 5\n"
     ]
    },
    {
     "name": "stderr",
     "output_type": "stream",
     "text": [
      "100%|██████████| 33/33 [19:50<00:00, 36.07s/it]\n"
     ]
    },
    {
     "data": {
      "text/plain": [
       "'Predictions...'"
      ]
     },
     "metadata": {},
     "output_type": "display_data"
    },
    {
     "name": "stdout",
     "output_type": "stream",
     "text": [
      "Start predict model 5\n"
     ]
    },
    {
     "name": "stderr",
     "output_type": "stream",
     "text": [
      "100%|██████████| 33/33 [00:27<00:00,  1.19it/s]\n"
     ]
    },
    {
     "name": "stdout",
     "output_type": "stream",
     "text": [
      "Start transform Back 5\n"
     ]
    },
    {
     "name": "stderr",
     "output_type": "stream",
     "text": [
      "  0%|          | 0/33 [00:00<?, ?it/s]/opt/conda/lib/python3.10/site-packages/scipy/__init__.py:146: UserWarning: A NumPy version >=1.16.5 and <1.23.0 is required for this version of SciPy (detected version 1.23.5\n",
      "  warnings.warn(f\"A NumPy version >={np_minversion} and <{np_maxversion}\"\n",
      "/opt/conda/lib/python3.10/site-packages/scipy/__init__.py:146: UserWarning: A NumPy version >=1.16.5 and <1.23.0 is required for this version of SciPy (detected version 1.23.5\n",
      "  warnings.warn(f\"A NumPy version >={np_minversion} and <{np_maxversion}\"\n",
      "/opt/conda/lib/python3.10/site-packages/scipy/__init__.py:146: UserWarning: A NumPy version >=1.16.5 and <1.23.0 is required for this version of SciPy (detected version 1.23.5\n",
      "  warnings.warn(f\"A NumPy version >={np_minversion} and <{np_maxversion}\"\n",
      "/opt/conda/lib/python3.10/site-packages/scipy/__init__.py:146: UserWarning: A NumPy version >=1.16.5 and <1.23.0 is required for this version of SciPy (detected version 1.23.5\n",
      "  warnings.warn(f\"A NumPy version >={np_minversion} and <{np_maxversion}\"\n",
      "100%|██████████| 33/33 [00:31<00:00,  1.05it/s]\n"
     ]
    },
    {
     "name": "stdout",
     "output_type": "stream",
     "text": [
      "Start Prepare Submission 5\n"
     ]
    },
    {
     "name": "stderr",
     "output_type": "stream",
     "text": [
      "100%|██████████| 33/33 [00:00<00:00, 40.21it/s]\n",
      "100%|██████████| 54/54 [00:01<00:00, 49.20it/s]\n"
     ]
    },
    {
     "name": "stdout",
     "output_type": "stream",
     "text": [
      "Start No Negative Forecasts 5\n",
      "Start Submission 5\n"
     ]
    },
    {
     "data": {
      "text/plain": [
       "'Training...'"
      ]
     },
     "metadata": {},
     "output_type": "display_data"
    },
    {
     "name": "stdout",
     "output_type": "stream",
     "text": [
      "Start fit model 6\n"
     ]
    },
    {
     "name": "stderr",
     "output_type": "stream",
     "text": [
      "100%|██████████| 33/33 [20:25<00:00, 37.15s/it]\n"
     ]
    },
    {
     "data": {
      "text/plain": [
       "'Predictions...'"
      ]
     },
     "metadata": {},
     "output_type": "display_data"
    },
    {
     "name": "stdout",
     "output_type": "stream",
     "text": [
      "Start predict model 6\n"
     ]
    },
    {
     "name": "stderr",
     "output_type": "stream",
     "text": [
      "100%|██████████| 33/33 [00:32<00:00,  1.02it/s]\n"
     ]
    },
    {
     "name": "stdout",
     "output_type": "stream",
     "text": [
      "Start transform Back 6\n"
     ]
    },
    {
     "name": "stderr",
     "output_type": "stream",
     "text": [
      "  0%|          | 0/33 [00:00<?, ?it/s]/opt/conda/lib/python3.10/site-packages/scipy/__init__.py:146: UserWarning: A NumPy version >=1.16.5 and <1.23.0 is required for this version of SciPy (detected version 1.23.5\n",
      "  warnings.warn(f\"A NumPy version >={np_minversion} and <{np_maxversion}\"\n",
      "/opt/conda/lib/python3.10/site-packages/scipy/__init__.py:146: UserWarning: A NumPy version >=1.16.5 and <1.23.0 is required for this version of SciPy (detected version 1.23.5\n",
      "  warnings.warn(f\"A NumPy version >={np_minversion} and <{np_maxversion}\"\n",
      "/opt/conda/lib/python3.10/site-packages/scipy/__init__.py:146: UserWarning: A NumPy version >=1.16.5 and <1.23.0 is required for this version of SciPy (detected version 1.23.5\n",
      "  warnings.warn(f\"A NumPy version >={np_minversion} and <{np_maxversion}\"\n",
      "/opt/conda/lib/python3.10/site-packages/scipy/__init__.py:146: UserWarning: A NumPy version >=1.16.5 and <1.23.0 is required for this version of SciPy (detected version 1.23.5\n",
      "  warnings.warn(f\"A NumPy version >={np_minversion} and <{np_maxversion}\"\n",
      "100%|██████████| 33/33 [00:37<00:00,  1.15s/it]\n"
     ]
    },
    {
     "name": "stdout",
     "output_type": "stream",
     "text": [
      "Start Prepare Submission 6\n"
     ]
    },
    {
     "name": "stderr",
     "output_type": "stream",
     "text": [
      "100%|██████████| 33/33 [00:00<00:00, 35.59it/s]\n",
      "100%|██████████| 54/54 [00:01<00:00, 42.88it/s]\n"
     ]
    },
    {
     "name": "stdout",
     "output_type": "stream",
     "text": [
      "Start No Negative Forecasts 6\n",
      "Start Submission 6\n"
     ]
    }
   ],
   "source": [
    "submission_kaggle_list, clipped_indexes = lgbm_predictions(model_params)"
   ]
  },
  {
   "cell_type": "markdown",
   "id": "d8ead425",
   "metadata": {
    "papermill": {
     "duration": 0.098177,
     "end_time": "2023-05-22T10:40:11.691989",
     "exception": false,
     "start_time": "2023-05-22T10:40:11.593812",
     "status": "completed"
    },
    "tags": []
   },
   "source": [
    "We average the obtained predictions:"
   ]
  },
  {
   "cell_type": "code",
   "execution_count": 59,
   "id": "5623e4c9",
   "metadata": {
    "execution": {
     "iopub.execute_input": "2023-05-22T10:40:11.899472Z",
     "iopub.status.busy": "2023-05-22T10:40:11.898933Z",
     "iopub.status.idle": "2023-05-22T10:40:11.945456Z",
     "shell.execute_reply": "2023-05-22T10:40:11.944085Z"
    },
    "papermill": {
     "duration": 0.155006,
     "end_time": "2023-05-22T10:40:11.948167",
     "exception": false,
     "start_time": "2023-05-22T10:40:11.793161",
     "status": "completed"
    },
    "tags": []
   },
   "outputs": [
    {
     "data": {
      "text/html": [
       "<div>\n",
       "<style scoped>\n",
       "    .dataframe tbody tr th:only-of-type {\n",
       "        vertical-align: middle;\n",
       "    }\n",
       "\n",
       "    .dataframe tbody tr th {\n",
       "        vertical-align: top;\n",
       "    }\n",
       "\n",
       "    .dataframe thead th {\n",
       "        text-align: right;\n",
       "    }\n",
       "</style>\n",
       "<table border=\"1\" class=\"dataframe\">\n",
       "  <thead>\n",
       "    <tr style=\"text-align: right;\">\n",
       "      <th></th>\n",
       "      <th>id</th>\n",
       "      <th>y_pred_0</th>\n",
       "      <th>y_pred_1</th>\n",
       "      <th>y_pred_2</th>\n",
       "      <th>y_pred_3</th>\n",
       "      <th>y_pred_4</th>\n",
       "      <th>y_pred_5</th>\n",
       "      <th>sales</th>\n",
       "    </tr>\n",
       "  </thead>\n",
       "  <tbody>\n",
       "    <tr>\n",
       "      <th>0</th>\n",
       "      <td>3000888.0</td>\n",
       "      <td>3.466254</td>\n",
       "      <td>3.328092</td>\n",
       "      <td>3.507580</td>\n",
       "      <td>3.068898</td>\n",
       "      <td>3.731862</td>\n",
       "      <td>4.001414</td>\n",
       "      <td>3.517350</td>\n",
       "    </tr>\n",
       "    <tr>\n",
       "      <th>1</th>\n",
       "      <td>3002670.0</td>\n",
       "      <td>2.890935</td>\n",
       "      <td>2.603473</td>\n",
       "      <td>3.216886</td>\n",
       "      <td>3.253258</td>\n",
       "      <td>3.681850</td>\n",
       "      <td>4.065727</td>\n",
       "      <td>3.285355</td>\n",
       "    </tr>\n",
       "    <tr>\n",
       "      <th>2</th>\n",
       "      <td>3004452.0</td>\n",
       "      <td>3.972446</td>\n",
       "      <td>2.813861</td>\n",
       "      <td>4.004264</td>\n",
       "      <td>3.852360</td>\n",
       "      <td>3.615720</td>\n",
       "      <td>2.842600</td>\n",
       "      <td>3.516875</td>\n",
       "    </tr>\n",
       "    <tr>\n",
       "      <th>3</th>\n",
       "      <td>3006234.0</td>\n",
       "      <td>5.056782</td>\n",
       "      <td>3.124398</td>\n",
       "      <td>5.022578</td>\n",
       "      <td>4.502551</td>\n",
       "      <td>5.044515</td>\n",
       "      <td>4.717491</td>\n",
       "      <td>4.578052</td>\n",
       "    </tr>\n",
       "    <tr>\n",
       "      <th>4</th>\n",
       "      <td>3008016.0</td>\n",
       "      <td>1.801655</td>\n",
       "      <td>1.053930</td>\n",
       "      <td>1.463690</td>\n",
       "      <td>1.787588</td>\n",
       "      <td>2.311553</td>\n",
       "      <td>2.026005</td>\n",
       "      <td>1.740737</td>\n",
       "    </tr>\n",
       "  </tbody>\n",
       "</table>\n",
       "</div>"
      ],
      "text/plain": [
       "          id  y_pred_0  y_pred_1  y_pred_2  y_pred_3  y_pred_4  y_pred_5  \\\n",
       "0  3000888.0  3.466254  3.328092  3.507580  3.068898  3.731862  4.001414   \n",
       "1  3002670.0  2.890935  2.603473  3.216886  3.253258  3.681850  4.065727   \n",
       "2  3004452.0  3.972446  2.813861  4.004264  3.852360  3.615720  2.842600   \n",
       "3  3006234.0  5.056782  3.124398  5.022578  4.502551  5.044515  4.717491   \n",
       "4  3008016.0  1.801655  1.053930  1.463690  1.787588  2.311553  2.026005   \n",
       "\n",
       "      sales  \n",
       "0  3.517350  \n",
       "1  3.285355  \n",
       "2  3.516875  \n",
       "3  4.578052  \n",
       "4  1.740737  "
      ]
     },
     "execution_count": 59,
     "metadata": {},
     "output_type": "execute_result"
    }
   ],
   "source": [
    "submissions = submission_kaggle_list[0].copy()\n",
    "submissions = submissions.rename(columns={'y_pred': 'y_pred_0'})\n",
    "\n",
    "if len(submission_kaggle_list) > 1:\n",
    "    for i in range(1, len(submission_kaggle_list)):\n",
    "        y_pred = submission_kaggle_list[i]\n",
    "        y_pred = y_pred.rename(columns={'y_pred': f'y_pred_{i}'})\n",
    "        submissions = pd.concat([submissions, y_pred.drop(['id'], axis=1)], axis=1)\n",
    "\n",
    "submissions['sales'] = submissions.loc[:, submissions.columns!='id'].mean(axis=1)\n",
    "submissions.head()"
   ]
  },
  {
   "cell_type": "code",
   "execution_count": 60,
   "id": "8fef9c73",
   "metadata": {
    "execution": {
     "iopub.execute_input": "2023-05-22T10:40:12.170247Z",
     "iopub.status.busy": "2023-05-22T10:40:12.168747Z",
     "iopub.status.idle": "2023-05-22T10:40:12.192182Z",
     "shell.execute_reply": "2023-05-22T10:40:12.190540Z"
    },
    "papermill": {
     "duration": 0.141362,
     "end_time": "2023-05-22T10:40:12.195272",
     "exception": false,
     "start_time": "2023-05-22T10:40:12.053910",
     "status": "completed"
    },
    "tags": []
   },
   "outputs": [
    {
     "data": {
      "text/html": [
       "<div>\n",
       "<style scoped>\n",
       "    .dataframe tbody tr th:only-of-type {\n",
       "        vertical-align: middle;\n",
       "    }\n",
       "\n",
       "    .dataframe tbody tr th {\n",
       "        vertical-align: top;\n",
       "    }\n",
       "\n",
       "    .dataframe thead th {\n",
       "        text-align: right;\n",
       "    }\n",
       "</style>\n",
       "<table border=\"1\" class=\"dataframe\">\n",
       "  <thead>\n",
       "    <tr style=\"text-align: right;\">\n",
       "      <th></th>\n",
       "      <th>id</th>\n",
       "      <th>sales</th>\n",
       "    </tr>\n",
       "  </thead>\n",
       "  <tbody>\n",
       "    <tr>\n",
       "      <th>0</th>\n",
       "      <td>3000888</td>\n",
       "      <td>3.517350</td>\n",
       "    </tr>\n",
       "    <tr>\n",
       "      <th>16</th>\n",
       "      <td>3000889</td>\n",
       "      <td>0.000000</td>\n",
       "    </tr>\n",
       "    <tr>\n",
       "      <th>32</th>\n",
       "      <td>3000890</td>\n",
       "      <td>4.315871</td>\n",
       "    </tr>\n",
       "    <tr>\n",
       "      <th>48</th>\n",
       "      <td>3000891</td>\n",
       "      <td>2288.981609</td>\n",
       "    </tr>\n",
       "    <tr>\n",
       "      <th>64</th>\n",
       "      <td>3000892</td>\n",
       "      <td>0.031684</td>\n",
       "    </tr>\n",
       "  </tbody>\n",
       "</table>\n",
       "</div>"
      ],
      "text/plain": [
       "         id        sales\n",
       "0   3000888     3.517350\n",
       "16  3000889     0.000000\n",
       "32  3000890     4.315871\n",
       "48  3000891  2288.981609\n",
       "64  3000892     0.031684"
      ]
     },
     "execution_count": 60,
     "metadata": {},
     "output_type": "execute_result"
    }
   ],
   "source": [
    "submission = submissions[['id', 'sales']]\n",
    "submission = submission.sort_values('id')\n",
    "submission.id = submission.id.astype('int32')\n",
    "submission.head()"
   ]
  },
  {
   "cell_type": "code",
   "execution_count": 61,
   "id": "ede87154",
   "metadata": {
    "execution": {
     "iopub.execute_input": "2023-05-22T10:40:12.406787Z",
     "iopub.status.busy": "2023-05-22T10:40:12.405004Z",
     "iopub.status.idle": "2023-05-22T10:40:12.500798Z",
     "shell.execute_reply": "2023-05-22T10:40:12.499092Z"
    },
    "papermill": {
     "duration": 0.204476,
     "end_time": "2023-05-22T10:40:12.503923",
     "exception": false,
     "start_time": "2023-05-22T10:40:12.299447",
     "status": "completed"
    },
    "tags": []
   },
   "outputs": [],
   "source": [
    "submission.to_csv('/kaggle/working/submission.csv', index=False)"
   ]
  },
  {
   "cell_type": "markdown",
   "id": "aa44cceb",
   "metadata": {
    "papermill": {
     "duration": 0.104459,
     "end_time": "2023-05-22T10:40:12.710575",
     "exception": false,
     "start_time": "2023-05-22T10:40:12.606116",
     "status": "completed"
    },
    "tags": []
   },
   "source": [
    "# Stacking\n",
    "\n",
    "Stacking is also an ensemble learning method, but it is based on a slightly different approach.\n",
    "The idea sounds like this - let's use the predictions of weak and maximally different models as predictors of the meta-model."
   ]
  },
  {
   "cell_type": "markdown",
   "id": "1b4ef46d",
   "metadata": {
    "papermill": {
     "duration": 0.099726,
     "end_time": "2023-05-22T10:40:12.915316",
     "exception": false,
     "start_time": "2023-05-22T10:40:12.815590",
     "status": "completed"
    },
    "tags": []
   },
   "source": [
    "We will split the training dataset into training and validation data.\n",
    "Darts models will be trained on the training data and make predictions for the validation and test data."
   ]
  },
  {
   "cell_type": "code",
   "execution_count": 62,
   "id": "62470386",
   "metadata": {
    "execution": {
     "iopub.execute_input": "2023-05-22T10:40:13.120563Z",
     "iopub.status.busy": "2023-05-22T10:40:13.120101Z",
     "iopub.status.idle": "2023-05-22T11:58:43.528008Z",
     "shell.execute_reply": "2023-05-22T11:58:43.526502Z"
    },
    "papermill": {
     "duration": 4710.513271,
     "end_time": "2023-05-22T11:58:43.530517",
     "exception": false,
     "start_time": "2023-05-22T10:40:13.017246",
     "status": "completed"
    },
    "tags": []
   },
   "outputs": [
    {
     "data": {
      "text/plain": [
       "'Training...'"
      ]
     },
     "metadata": {},
     "output_type": "display_data"
    },
    {
     "name": "stdout",
     "output_type": "stream",
     "text": [
      "Start fit model 1\n"
     ]
    },
    {
     "name": "stderr",
     "output_type": "stream",
     "text": [
      "100%|██████████| 33/33 [07:54<00:00, 14.39s/it]\n"
     ]
    },
    {
     "data": {
      "text/plain": [
       "'Predictions...'"
      ]
     },
     "metadata": {},
     "output_type": "display_data"
    },
    {
     "name": "stdout",
     "output_type": "stream",
     "text": [
      "Start predict model 1\n"
     ]
    },
    {
     "name": "stderr",
     "output_type": "stream",
     "text": [
      "100%|██████████| 33/33 [00:32<00:00,  1.03it/s]\n"
     ]
    },
    {
     "name": "stdout",
     "output_type": "stream",
     "text": [
      "Start transform Back 1\n"
     ]
    },
    {
     "name": "stderr",
     "output_type": "stream",
     "text": [
      "  0%|          | 0/33 [00:00<?, ?it/s]/opt/conda/lib/python3.10/site-packages/scipy/__init__.py:146: UserWarning: A NumPy version >=1.16.5 and <1.23.0 is required for this version of SciPy (detected version 1.23.5\n",
      "  warnings.warn(f\"A NumPy version >={np_minversion} and <{np_maxversion}\"\n",
      "/opt/conda/lib/python3.10/site-packages/scipy/__init__.py:146: UserWarning: A NumPy version >=1.16.5 and <1.23.0 is required for this version of SciPy (detected version 1.23.5\n",
      "  warnings.warn(f\"A NumPy version >={np_minversion} and <{np_maxversion}\"\n",
      "/opt/conda/lib/python3.10/site-packages/scipy/__init__.py:146: UserWarning: A NumPy version >=1.16.5 and <1.23.0 is required for this version of SciPy (detected version 1.23.5\n",
      "  warnings.warn(f\"A NumPy version >={np_minversion} and <{np_maxversion}\"\n",
      "/opt/conda/lib/python3.10/site-packages/scipy/__init__.py:146: UserWarning: A NumPy version >=1.16.5 and <1.23.0 is required for this version of SciPy (detected version 1.23.5\n",
      "  warnings.warn(f\"A NumPy version >={np_minversion} and <{np_maxversion}\"\n",
      "100%|██████████| 33/33 [00:30<00:00,  1.07it/s]\n"
     ]
    },
    {
     "name": "stdout",
     "output_type": "stream",
     "text": [
      "Start Prepare Submission 1\n"
     ]
    },
    {
     "name": "stderr",
     "output_type": "stream",
     "text": [
      "100%|██████████| 33/33 [00:00<00:00, 39.98it/s]\n",
      "100%|██████████| 54/54 [00:01<00:00, 47.88it/s]\n"
     ]
    },
    {
     "name": "stdout",
     "output_type": "stream",
     "text": [
      "Start No Negative Forecasts 1\n",
      "Start Submission 1\n"
     ]
    },
    {
     "data": {
      "text/plain": [
       "'Training...'"
      ]
     },
     "metadata": {},
     "output_type": "display_data"
    },
    {
     "name": "stdout",
     "output_type": "stream",
     "text": [
      "Start fit model 2\n"
     ]
    },
    {
     "name": "stderr",
     "output_type": "stream",
     "text": [
      "100%|██████████| 33/33 [06:58<00:00, 12.69s/it]\n"
     ]
    },
    {
     "data": {
      "text/plain": [
       "'Predictions...'"
      ]
     },
     "metadata": {},
     "output_type": "display_data"
    },
    {
     "name": "stdout",
     "output_type": "stream",
     "text": [
      "Start predict model 2\n"
     ]
    },
    {
     "name": "stderr",
     "output_type": "stream",
     "text": [
      "100%|██████████| 33/33 [00:35<00:00,  1.07s/it]\n"
     ]
    },
    {
     "name": "stdout",
     "output_type": "stream",
     "text": [
      "Start transform Back 2\n"
     ]
    },
    {
     "name": "stderr",
     "output_type": "stream",
     "text": [
      "  0%|          | 0/33 [00:00<?, ?it/s]/opt/conda/lib/python3.10/site-packages/scipy/__init__.py:146: UserWarning: A NumPy version >=1.16.5 and <1.23.0 is required for this version of SciPy (detected version 1.23.5\n",
      "  warnings.warn(f\"A NumPy version >={np_minversion} and <{np_maxversion}\"\n",
      "/opt/conda/lib/python3.10/site-packages/scipy/__init__.py:146: UserWarning: A NumPy version >=1.16.5 and <1.23.0 is required for this version of SciPy (detected version 1.23.5\n",
      "  warnings.warn(f\"A NumPy version >={np_minversion} and <{np_maxversion}\"\n",
      "/opt/conda/lib/python3.10/site-packages/scipy/__init__.py:146: UserWarning: A NumPy version >=1.16.5 and <1.23.0 is required for this version of SciPy (detected version 1.23.5\n",
      "  warnings.warn(f\"A NumPy version >={np_minversion} and <{np_maxversion}\"\n",
      "/opt/conda/lib/python3.10/site-packages/scipy/__init__.py:146: UserWarning: A NumPy version >=1.16.5 and <1.23.0 is required for this version of SciPy (detected version 1.23.5\n",
      "  warnings.warn(f\"A NumPy version >={np_minversion} and <{np_maxversion}\"\n",
      "100%|██████████| 33/33 [00:31<00:00,  1.04it/s]\n"
     ]
    },
    {
     "name": "stdout",
     "output_type": "stream",
     "text": [
      "Start Prepare Submission 2\n"
     ]
    },
    {
     "name": "stderr",
     "output_type": "stream",
     "text": [
      "100%|██████████| 33/33 [00:00<00:00, 37.92it/s]\n",
      "100%|██████████| 54/54 [00:01<00:00, 46.41it/s]\n"
     ]
    },
    {
     "name": "stdout",
     "output_type": "stream",
     "text": [
      "Start No Negative Forecasts 2\n",
      "Start Submission 2\n"
     ]
    },
    {
     "data": {
      "text/plain": [
       "'Training...'"
      ]
     },
     "metadata": {},
     "output_type": "display_data"
    },
    {
     "name": "stdout",
     "output_type": "stream",
     "text": [
      "Start fit model 3\n"
     ]
    },
    {
     "name": "stderr",
     "output_type": "stream",
     "text": [
      "100%|██████████| 33/33 [06:18<00:00, 11.47s/it]\n"
     ]
    },
    {
     "data": {
      "text/plain": [
       "'Predictions...'"
      ]
     },
     "metadata": {},
     "output_type": "display_data"
    },
    {
     "name": "stdout",
     "output_type": "stream",
     "text": [
      "Start predict model 3\n"
     ]
    },
    {
     "name": "stderr",
     "output_type": "stream",
     "text": [
      "100%|██████████| 33/33 [00:31<00:00,  1.04it/s]\n"
     ]
    },
    {
     "name": "stdout",
     "output_type": "stream",
     "text": [
      "Start transform Back 3\n"
     ]
    },
    {
     "name": "stderr",
     "output_type": "stream",
     "text": [
      "  0%|          | 0/33 [00:00<?, ?it/s]/opt/conda/lib/python3.10/site-packages/scipy/__init__.py:146: UserWarning: A NumPy version >=1.16.5 and <1.23.0 is required for this version of SciPy (detected version 1.23.5\n",
      "  warnings.warn(f\"A NumPy version >={np_minversion} and <{np_maxversion}\"\n",
      "/opt/conda/lib/python3.10/site-packages/scipy/__init__.py:146: UserWarning: A NumPy version >=1.16.5 and <1.23.0 is required for this version of SciPy (detected version 1.23.5\n",
      "  warnings.warn(f\"A NumPy version >={np_minversion} and <{np_maxversion}\"\n",
      "/opt/conda/lib/python3.10/site-packages/scipy/__init__.py:146: UserWarning: A NumPy version >=1.16.5 and <1.23.0 is required for this version of SciPy (detected version 1.23.5\n",
      "  warnings.warn(f\"A NumPy version >={np_minversion} and <{np_maxversion}\"\n",
      "/opt/conda/lib/python3.10/site-packages/scipy/__init__.py:146: UserWarning: A NumPy version >=1.16.5 and <1.23.0 is required for this version of SciPy (detected version 1.23.5\n",
      "  warnings.warn(f\"A NumPy version >={np_minversion} and <{np_maxversion}\"\n",
      "100%|██████████| 33/33 [00:29<00:00,  1.14it/s]\n"
     ]
    },
    {
     "name": "stdout",
     "output_type": "stream",
     "text": [
      "Start Prepare Submission 3\n"
     ]
    },
    {
     "name": "stderr",
     "output_type": "stream",
     "text": [
      "100%|██████████| 33/33 [00:00<00:00, 42.89it/s]\n",
      "100%|██████████| 54/54 [00:01<00:00, 49.21it/s]\n"
     ]
    },
    {
     "name": "stdout",
     "output_type": "stream",
     "text": [
      "Start No Negative Forecasts 3\n",
      "Start Submission 3\n"
     ]
    },
    {
     "data": {
      "text/plain": [
       "'Training...'"
      ]
     },
     "metadata": {},
     "output_type": "display_data"
    },
    {
     "name": "stdout",
     "output_type": "stream",
     "text": [
      "Start fit model 4\n"
     ]
    },
    {
     "name": "stderr",
     "output_type": "stream",
     "text": [
      "100%|██████████| 33/33 [14:05<00:00, 25.63s/it]\n"
     ]
    },
    {
     "data": {
      "text/plain": [
       "'Predictions...'"
      ]
     },
     "metadata": {},
     "output_type": "display_data"
    },
    {
     "name": "stdout",
     "output_type": "stream",
     "text": [
      "Start predict model 4\n"
     ]
    },
    {
     "name": "stderr",
     "output_type": "stream",
     "text": [
      "100%|██████████| 33/33 [00:34<00:00,  1.04s/it]\n"
     ]
    },
    {
     "name": "stdout",
     "output_type": "stream",
     "text": [
      "Start transform Back 4\n"
     ]
    },
    {
     "name": "stderr",
     "output_type": "stream",
     "text": [
      "  0%|          | 0/33 [00:00<?, ?it/s]/opt/conda/lib/python3.10/site-packages/scipy/__init__.py:146: UserWarning: A NumPy version >=1.16.5 and <1.23.0 is required for this version of SciPy (detected version 1.23.5\n",
      "  warnings.warn(f\"A NumPy version >={np_minversion} and <{np_maxversion}\"\n",
      "/opt/conda/lib/python3.10/site-packages/scipy/__init__.py:146: UserWarning: A NumPy version >=1.16.5 and <1.23.0 is required for this version of SciPy (detected version 1.23.5\n",
      "  warnings.warn(f\"A NumPy version >={np_minversion} and <{np_maxversion}\"\n",
      "/opt/conda/lib/python3.10/site-packages/scipy/__init__.py:146: UserWarning: A NumPy version >=1.16.5 and <1.23.0 is required for this version of SciPy (detected version 1.23.5\n",
      "  warnings.warn(f\"A NumPy version >={np_minversion} and <{np_maxversion}\"\n",
      "/opt/conda/lib/python3.10/site-packages/scipy/__init__.py:146: UserWarning: A NumPy version >=1.16.5 and <1.23.0 is required for this version of SciPy (detected version 1.23.5\n",
      "  warnings.warn(f\"A NumPy version >={np_minversion} and <{np_maxversion}\"\n",
      "100%|██████████| 33/33 [00:30<00:00,  1.08it/s]\n"
     ]
    },
    {
     "name": "stdout",
     "output_type": "stream",
     "text": [
      "Start Prepare Submission 4\n"
     ]
    },
    {
     "name": "stderr",
     "output_type": "stream",
     "text": [
      "100%|██████████| 33/33 [00:00<00:00, 42.99it/s]\n",
      "100%|██████████| 54/54 [00:01<00:00, 47.87it/s]\n"
     ]
    },
    {
     "name": "stdout",
     "output_type": "stream",
     "text": [
      "Start No Negative Forecasts 4\n",
      "Start Submission 4\n"
     ]
    },
    {
     "data": {
      "text/plain": [
       "'Training...'"
      ]
     },
     "metadata": {},
     "output_type": "display_data"
    },
    {
     "name": "stdout",
     "output_type": "stream",
     "text": [
      "Start fit model 5\n"
     ]
    },
    {
     "name": "stderr",
     "output_type": "stream",
     "text": [
      "100%|██████████| 33/33 [18:31<00:00, 33.67s/it]\n"
     ]
    },
    {
     "data": {
      "text/plain": [
       "'Predictions...'"
      ]
     },
     "metadata": {},
     "output_type": "display_data"
    },
    {
     "name": "stdout",
     "output_type": "stream",
     "text": [
      "Start predict model 5\n"
     ]
    },
    {
     "name": "stderr",
     "output_type": "stream",
     "text": [
      "100%|██████████| 33/33 [00:38<00:00,  1.18s/it]\n"
     ]
    },
    {
     "name": "stdout",
     "output_type": "stream",
     "text": [
      "Start transform Back 5\n"
     ]
    },
    {
     "name": "stderr",
     "output_type": "stream",
     "text": [
      "  0%|          | 0/33 [00:00<?, ?it/s]/opt/conda/lib/python3.10/site-packages/scipy/__init__.py:146: UserWarning: A NumPy version >=1.16.5 and <1.23.0 is required for this version of SciPy (detected version 1.23.5\n",
      "  warnings.warn(f\"A NumPy version >={np_minversion} and <{np_maxversion}\"\n",
      "/opt/conda/lib/python3.10/site-packages/scipy/__init__.py:146: UserWarning: A NumPy version >=1.16.5 and <1.23.0 is required for this version of SciPy (detected version 1.23.5\n",
      "  warnings.warn(f\"A NumPy version >={np_minversion} and <{np_maxversion}\"\n",
      "/opt/conda/lib/python3.10/site-packages/scipy/__init__.py:146: UserWarning: A NumPy version >=1.16.5 and <1.23.0 is required for this version of SciPy (detected version 1.23.5\n",
      "  warnings.warn(f\"A NumPy version >={np_minversion} and <{np_maxversion}\"\n",
      "/opt/conda/lib/python3.10/site-packages/scipy/__init__.py:146: UserWarning: A NumPy version >=1.16.5 and <1.23.0 is required for this version of SciPy (detected version 1.23.5\n",
      "  warnings.warn(f\"A NumPy version >={np_minversion} and <{np_maxversion}\"\n",
      "100%|██████████| 33/33 [00:32<00:00,  1.03it/s]\n"
     ]
    },
    {
     "name": "stdout",
     "output_type": "stream",
     "text": [
      "Start Prepare Submission 5\n"
     ]
    },
    {
     "name": "stderr",
     "output_type": "stream",
     "text": [
      "100%|██████████| 33/33 [00:00<00:00, 38.80it/s]\n",
      "100%|██████████| 54/54 [00:01<00:00, 43.86it/s]\n"
     ]
    },
    {
     "name": "stdout",
     "output_type": "stream",
     "text": [
      "Start No Negative Forecasts 5\n",
      "Start Submission 5\n"
     ]
    },
    {
     "data": {
      "text/plain": [
       "'Training...'"
      ]
     },
     "metadata": {},
     "output_type": "display_data"
    },
    {
     "name": "stdout",
     "output_type": "stream",
     "text": [
      "Start fit model 6\n"
     ]
    },
    {
     "name": "stderr",
     "output_type": "stream",
     "text": [
      "100%|██████████| 33/33 [17:49<00:00, 32.40s/it]\n"
     ]
    },
    {
     "data": {
      "text/plain": [
       "'Predictions...'"
      ]
     },
     "metadata": {},
     "output_type": "display_data"
    },
    {
     "name": "stdout",
     "output_type": "stream",
     "text": [
      "Start predict model 6\n"
     ]
    },
    {
     "name": "stderr",
     "output_type": "stream",
     "text": [
      "100%|██████████| 33/33 [00:38<00:00,  1.16s/it]\n"
     ]
    },
    {
     "name": "stdout",
     "output_type": "stream",
     "text": [
      "Start transform Back 6\n"
     ]
    },
    {
     "name": "stderr",
     "output_type": "stream",
     "text": [
      "  0%|          | 0/33 [00:00<?, ?it/s]/opt/conda/lib/python3.10/site-packages/scipy/__init__.py:146: UserWarning: A NumPy version >=1.16.5 and <1.23.0 is required for this version of SciPy (detected version 1.23.5\n",
      "  warnings.warn(f\"A NumPy version >={np_minversion} and <{np_maxversion}\"\n",
      "/opt/conda/lib/python3.10/site-packages/scipy/__init__.py:146: UserWarning: A NumPy version >=1.16.5 and <1.23.0 is required for this version of SciPy (detected version 1.23.5\n",
      "  warnings.warn(f\"A NumPy version >={np_minversion} and <{np_maxversion}\"\n",
      "/opt/conda/lib/python3.10/site-packages/scipy/__init__.py:146: UserWarning: A NumPy version >=1.16.5 and <1.23.0 is required for this version of SciPy (detected version 1.23.5\n",
      "  warnings.warn(f\"A NumPy version >={np_minversion} and <{np_maxversion}\"\n",
      "/opt/conda/lib/python3.10/site-packages/scipy/__init__.py:146: UserWarning: A NumPy version >=1.16.5 and <1.23.0 is required for this version of SciPy (detected version 1.23.5\n",
      "  warnings.warn(f\"A NumPy version >={np_minversion} and <{np_maxversion}\"\n",
      "100%|██████████| 33/33 [00:32<00:00,  1.02it/s]\n"
     ]
    },
    {
     "name": "stdout",
     "output_type": "stream",
     "text": [
      "Start Prepare Submission 6\n"
     ]
    },
    {
     "name": "stderr",
     "output_type": "stream",
     "text": [
      "100%|██████████| 33/33 [00:00<00:00, 41.02it/s]\n",
      "100%|██████████| 54/54 [00:01<00:00, 44.48it/s]\n"
     ]
    },
    {
     "name": "stdout",
     "output_type": "stream",
     "text": [
      "Start No Negative Forecasts 6\n",
      "Start Submission 6\n"
     ]
    }
   ],
   "source": [
    "val_df_size = 100\n",
    "submission_kaggle_list, clipped_indexes = lgbm_predictions(model_params, val_df_size)"
   ]
  },
  {
   "cell_type": "code",
   "execution_count": 63,
   "id": "06492b27",
   "metadata": {
    "execution": {
     "iopub.execute_input": "2023-05-22T11:58:43.836299Z",
     "iopub.status.busy": "2023-05-22T11:58:43.835859Z",
     "iopub.status.idle": "2023-05-22T11:58:43.895819Z",
     "shell.execute_reply": "2023-05-22T11:58:43.894035Z"
    },
    "papermill": {
     "duration": 0.217797,
     "end_time": "2023-05-22T11:58:43.898704",
     "exception": false,
     "start_time": "2023-05-22T11:58:43.680907",
     "status": "completed"
    },
    "tags": []
   },
   "outputs": [
    {
     "data": {
      "text/html": [
       "<div>\n",
       "<style scoped>\n",
       "    .dataframe tbody tr th:only-of-type {\n",
       "        vertical-align: middle;\n",
       "    }\n",
       "\n",
       "    .dataframe tbody tr th {\n",
       "        vertical-align: top;\n",
       "    }\n",
       "\n",
       "    .dataframe thead th {\n",
       "        text-align: right;\n",
       "    }\n",
       "</style>\n",
       "<table border=\"1\" class=\"dataframe\">\n",
       "  <thead>\n",
       "    <tr style=\"text-align: right;\">\n",
       "      <th></th>\n",
       "      <th>id</th>\n",
       "      <th>y_pred_0</th>\n",
       "      <th>y_pred_1</th>\n",
       "      <th>y_pred_2</th>\n",
       "      <th>y_pred_3</th>\n",
       "      <th>y_pred_4</th>\n",
       "      <th>y_pred_5</th>\n",
       "    </tr>\n",
       "  </thead>\n",
       "  <tbody>\n",
       "    <tr>\n",
       "      <th>0</th>\n",
       "      <td>2822688.0</td>\n",
       "      <td>3.676266</td>\n",
       "      <td>3.417199</td>\n",
       "      <td>3.199446</td>\n",
       "      <td>3.579452</td>\n",
       "      <td>3.115974</td>\n",
       "      <td>3.065060</td>\n",
       "    </tr>\n",
       "    <tr>\n",
       "      <th>1</th>\n",
       "      <td>2824470.0</td>\n",
       "      <td>3.232229</td>\n",
       "      <td>3.578848</td>\n",
       "      <td>2.721255</td>\n",
       "      <td>3.442423</td>\n",
       "      <td>3.270835</td>\n",
       "      <td>2.882628</td>\n",
       "    </tr>\n",
       "    <tr>\n",
       "      <th>2</th>\n",
       "      <td>2826252.0</td>\n",
       "      <td>3.599256</td>\n",
       "      <td>3.569002</td>\n",
       "      <td>3.272049</td>\n",
       "      <td>3.206762</td>\n",
       "      <td>3.518412</td>\n",
       "      <td>2.981064</td>\n",
       "    </tr>\n",
       "    <tr>\n",
       "      <th>3</th>\n",
       "      <td>2828034.0</td>\n",
       "      <td>4.008501</td>\n",
       "      <td>3.567155</td>\n",
       "      <td>2.867772</td>\n",
       "      <td>3.685296</td>\n",
       "      <td>3.150041</td>\n",
       "      <td>3.790595</td>\n",
       "    </tr>\n",
       "    <tr>\n",
       "      <th>4</th>\n",
       "      <td>2829816.0</td>\n",
       "      <td>3.639679</td>\n",
       "      <td>2.998901</td>\n",
       "      <td>2.978183</td>\n",
       "      <td>3.132120</td>\n",
       "      <td>3.369821</td>\n",
       "      <td>3.219728</td>\n",
       "    </tr>\n",
       "  </tbody>\n",
       "</table>\n",
       "</div>"
      ],
      "text/plain": [
       "          id  y_pred_0  y_pred_1  y_pred_2  y_pred_3  y_pred_4  y_pred_5\n",
       "0  2822688.0  3.676266  3.417199  3.199446  3.579452  3.115974  3.065060\n",
       "1  2824470.0  3.232229  3.578848  2.721255  3.442423  3.270835  2.882628\n",
       "2  2826252.0  3.599256  3.569002  3.272049  3.206762  3.518412  2.981064\n",
       "3  2828034.0  4.008501  3.567155  2.867772  3.685296  3.150041  3.790595\n",
       "4  2829816.0  3.639679  2.998901  2.978183  3.132120  3.369821  3.219728"
      ]
     },
     "execution_count": 63,
     "metadata": {},
     "output_type": "execute_result"
    }
   ],
   "source": [
    "submissions = submission_kaggle_list[0].copy()\n",
    "submissions = submissions.rename(columns={'y_pred': 'y_pred_0'})\n",
    "\n",
    "if len(submission_kaggle_list) > 1:\n",
    "    for i in range(1, len(submission_kaggle_list)):\n",
    "        y_pred = submission_kaggle_list[i]\n",
    "        y_pred = y_pred.rename(columns={'y_pred': f'y_pred_{i}'})\n",
    "        submissions = pd.concat([submissions, y_pred.drop(['id'], axis=1)], axis=1)\n",
    "\n",
    "submissions.head()"
   ]
  },
  {
   "cell_type": "code",
   "execution_count": 64,
   "id": "ea6e8726",
   "metadata": {
    "execution": {
     "iopub.execute_input": "2023-05-22T11:58:44.210233Z",
     "iopub.status.busy": "2023-05-22T11:58:44.209584Z",
     "iopub.status.idle": "2023-05-22T11:58:44.223989Z",
     "shell.execute_reply": "2023-05-22T11:58:44.222226Z"
    },
    "papermill": {
     "duration": 0.171754,
     "end_time": "2023-05-22T11:58:44.227047",
     "exception": false,
     "start_time": "2023-05-22T11:58:44.055293",
     "status": "completed"
    },
    "tags": []
   },
   "outputs": [
    {
     "data": {
      "text/html": [
       "<div>\n",
       "<style scoped>\n",
       "    .dataframe tbody tr th:only-of-type {\n",
       "        vertical-align: middle;\n",
       "    }\n",
       "\n",
       "    .dataframe tbody tr th {\n",
       "        vertical-align: top;\n",
       "    }\n",
       "\n",
       "    .dataframe thead th {\n",
       "        text-align: right;\n",
       "    }\n",
       "</style>\n",
       "<table border=\"1\" class=\"dataframe\">\n",
       "  <thead>\n",
       "    <tr style=\"text-align: right;\">\n",
       "      <th></th>\n",
       "      <th>date</th>\n",
       "      <th>id</th>\n",
       "      <th>store_nbr</th>\n",
       "      <th>family</th>\n",
       "      <th>sales</th>\n",
       "    </tr>\n",
       "  </thead>\n",
       "  <tbody>\n",
       "    <tr>\n",
       "      <th>1588</th>\n",
       "      <td>2017-05-08</td>\n",
       "      <td>2822688.0</td>\n",
       "      <td>1.0</td>\n",
       "      <td>AUTOMOTIVE</td>\n",
       "      <td>5.0</td>\n",
       "    </tr>\n",
       "    <tr>\n",
       "      <th>1589</th>\n",
       "      <td>2017-05-09</td>\n",
       "      <td>2824470.0</td>\n",
       "      <td>1.0</td>\n",
       "      <td>AUTOMOTIVE</td>\n",
       "      <td>2.0</td>\n",
       "    </tr>\n",
       "    <tr>\n",
       "      <th>1590</th>\n",
       "      <td>2017-05-10</td>\n",
       "      <td>2826252.0</td>\n",
       "      <td>1.0</td>\n",
       "      <td>AUTOMOTIVE</td>\n",
       "      <td>2.0</td>\n",
       "    </tr>\n",
       "    <tr>\n",
       "      <th>1591</th>\n",
       "      <td>2017-05-11</td>\n",
       "      <td>2828034.0</td>\n",
       "      <td>1.0</td>\n",
       "      <td>AUTOMOTIVE</td>\n",
       "      <td>4.0</td>\n",
       "    </tr>\n",
       "    <tr>\n",
       "      <th>1592</th>\n",
       "      <td>2017-05-12</td>\n",
       "      <td>2829816.0</td>\n",
       "      <td>1.0</td>\n",
       "      <td>AUTOMOTIVE</td>\n",
       "      <td>4.0</td>\n",
       "    </tr>\n",
       "  </tbody>\n",
       "</table>\n",
       "</div>"
      ],
      "text/plain": [
       "           date         id  store_nbr      family  sales\n",
       "1588 2017-05-08  2822688.0        1.0  AUTOMOTIVE    5.0\n",
       "1589 2017-05-09  2824470.0        1.0  AUTOMOTIVE    2.0\n",
       "1590 2017-05-10  2826252.0        1.0  AUTOMOTIVE    2.0\n",
       "1591 2017-05-11  2828034.0        1.0  AUTOMOTIVE    4.0\n",
       "1592 2017-05-12  2829816.0        1.0  AUTOMOTIVE    4.0"
      ]
     },
     "execution_count": 64,
     "metadata": {},
     "output_type": "execute_result"
    }
   ],
   "source": [
    "clipped_indexes.head()"
   ]
  },
  {
   "cell_type": "code",
   "execution_count": 65,
   "id": "e9f2ca1a",
   "metadata": {
    "execution": {
     "iopub.execute_input": "2023-05-22T11:58:44.534609Z",
     "iopub.status.busy": "2023-05-22T11:58:44.533873Z",
     "iopub.status.idle": "2023-05-22T11:58:44.560691Z",
     "shell.execute_reply": "2023-05-22T11:58:44.559483Z"
    },
    "papermill": {
     "duration": 0.190786,
     "end_time": "2023-05-22T11:58:44.568938",
     "exception": false,
     "start_time": "2023-05-22T11:58:44.378152",
     "status": "completed"
    },
    "tags": []
   },
   "outputs": [
    {
     "data": {
      "text/html": [
       "<div>\n",
       "<style scoped>\n",
       "    .dataframe tbody tr th:only-of-type {\n",
       "        vertical-align: middle;\n",
       "    }\n",
       "\n",
       "    .dataframe tbody tr th {\n",
       "        vertical-align: top;\n",
       "    }\n",
       "\n",
       "    .dataframe thead th {\n",
       "        text-align: right;\n",
       "    }\n",
       "</style>\n",
       "<table border=\"1\" class=\"dataframe\">\n",
       "  <thead>\n",
       "    <tr style=\"text-align: right;\">\n",
       "      <th></th>\n",
       "      <th>id</th>\n",
       "      <th>y_pred_0</th>\n",
       "      <th>y_pred_1</th>\n",
       "      <th>y_pred_2</th>\n",
       "      <th>y_pred_3</th>\n",
       "      <th>y_pred_4</th>\n",
       "      <th>y_pred_5</th>\n",
       "      <th>date</th>\n",
       "      <th>sales</th>\n",
       "    </tr>\n",
       "  </thead>\n",
       "  <tbody>\n",
       "    <tr>\n",
       "      <th>0</th>\n",
       "      <td>2822688.0</td>\n",
       "      <td>3.676266</td>\n",
       "      <td>3.417199</td>\n",
       "      <td>3.199446</td>\n",
       "      <td>3.579452</td>\n",
       "      <td>3.115974</td>\n",
       "      <td>3.065060</td>\n",
       "      <td>2017-05-08</td>\n",
       "      <td>5.0</td>\n",
       "    </tr>\n",
       "    <tr>\n",
       "      <th>1</th>\n",
       "      <td>2824470.0</td>\n",
       "      <td>3.232229</td>\n",
       "      <td>3.578848</td>\n",
       "      <td>2.721255</td>\n",
       "      <td>3.442423</td>\n",
       "      <td>3.270835</td>\n",
       "      <td>2.882628</td>\n",
       "      <td>2017-05-09</td>\n",
       "      <td>2.0</td>\n",
       "    </tr>\n",
       "    <tr>\n",
       "      <th>2</th>\n",
       "      <td>2826252.0</td>\n",
       "      <td>3.599256</td>\n",
       "      <td>3.569002</td>\n",
       "      <td>3.272049</td>\n",
       "      <td>3.206762</td>\n",
       "      <td>3.518412</td>\n",
       "      <td>2.981064</td>\n",
       "      <td>2017-05-10</td>\n",
       "      <td>2.0</td>\n",
       "    </tr>\n",
       "    <tr>\n",
       "      <th>3</th>\n",
       "      <td>2828034.0</td>\n",
       "      <td>4.008501</td>\n",
       "      <td>3.567155</td>\n",
       "      <td>2.867772</td>\n",
       "      <td>3.685296</td>\n",
       "      <td>3.150041</td>\n",
       "      <td>3.790595</td>\n",
       "      <td>2017-05-11</td>\n",
       "      <td>4.0</td>\n",
       "    </tr>\n",
       "    <tr>\n",
       "      <th>4</th>\n",
       "      <td>2829816.0</td>\n",
       "      <td>3.639679</td>\n",
       "      <td>2.998901</td>\n",
       "      <td>2.978183</td>\n",
       "      <td>3.132120</td>\n",
       "      <td>3.369821</td>\n",
       "      <td>3.219728</td>\n",
       "      <td>2017-05-12</td>\n",
       "      <td>4.0</td>\n",
       "    </tr>\n",
       "  </tbody>\n",
       "</table>\n",
       "</div>"
      ],
      "text/plain": [
       "          id  y_pred_0  y_pred_1  y_pred_2  y_pred_3  y_pred_4  y_pred_5  \\\n",
       "0  2822688.0  3.676266  3.417199  3.199446  3.579452  3.115974  3.065060   \n",
       "1  2824470.0  3.232229  3.578848  2.721255  3.442423  3.270835  2.882628   \n",
       "2  2826252.0  3.599256  3.569002  3.272049  3.206762  3.518412  2.981064   \n",
       "3  2828034.0  4.008501  3.567155  2.867772  3.685296  3.150041  3.790595   \n",
       "4  2829816.0  3.639679  2.998901  2.978183  3.132120  3.369821  3.219728   \n",
       "\n",
       "        date  sales  \n",
       "0 2017-05-08    5.0  \n",
       "1 2017-05-09    2.0  \n",
       "2 2017-05-10    2.0  \n",
       "3 2017-05-11    4.0  \n",
       "4 2017-05-12    4.0  "
      ]
     },
     "execution_count": 65,
     "metadata": {},
     "output_type": "execute_result"
    }
   ],
   "source": [
    "submissions = pd.concat([submissions, clipped_indexes[['date', 'sales']].reset_index(drop=True)], axis=1)\n",
    "submissions.head()"
   ]
  },
  {
   "cell_type": "code",
   "execution_count": 66,
   "id": "493dc717",
   "metadata": {
    "execution": {
     "iopub.execute_input": "2023-05-22T11:58:44.873356Z",
     "iopub.status.busy": "2023-05-22T11:58:44.872734Z",
     "iopub.status.idle": "2023-05-22T11:58:45.600854Z",
     "shell.execute_reply": "2023-05-22T11:58:45.599514Z"
    },
    "papermill": {
     "duration": 0.880306,
     "end_time": "2023-05-22T11:58:45.603792",
     "exception": false,
     "start_time": "2023-05-22T11:58:44.723486",
     "status": "completed"
    },
    "tags": []
   },
   "outputs": [
    {
     "data": {
      "text/plain": [
       "16603"
      ]
     },
     "execution_count": 66,
     "metadata": {},
     "output_type": "execute_result"
    }
   ],
   "source": [
    "del(submission_kaggle_list)\n",
    "del(df_indexes_filled)\n",
    "del(clipped_indexes)\n",
    "\n",
    "gc.collect()"
   ]
  },
  {
   "cell_type": "markdown",
   "id": "0b61d04c",
   "metadata": {
    "papermill": {
     "duration": 0.152817,
     "end_time": "2023-05-22T11:58:45.914257",
     "exception": false,
     "start_time": "2023-05-22T11:58:45.761440",
     "status": "completed"
    },
    "tags": []
   },
   "source": [
    "Retrieve future covariates data from the TimeSeries:"
   ]
  },
  {
   "cell_type": "code",
   "execution_count": 67,
   "id": "038a02b1",
   "metadata": {
    "execution": {
     "iopub.execute_input": "2023-05-22T11:58:46.218355Z",
     "iopub.status.busy": "2023-05-22T11:58:46.217862Z",
     "iopub.status.idle": "2023-05-22T11:59:07.582388Z",
     "shell.execute_reply": "2023-05-22T11:59:07.581025Z"
    },
    "papermill": {
     "duration": 21.518763,
     "end_time": "2023-05-22T11:59:07.585940",
     "exception": false,
     "start_time": "2023-05-22T11:58:46.067177",
     "status": "completed"
    },
    "tags": []
   },
   "outputs": [
    {
     "name": "stderr",
     "output_type": "stream",
     "text": [
      "100%|██████████| 54/54 [00:21<00:00,  2.53it/s]\n"
     ]
    },
    {
     "data": {
      "text/html": [
       "<div>\n",
       "<style scoped>\n",
       "    .dataframe tbody tr th:only-of-type {\n",
       "        vertical-align: middle;\n",
       "    }\n",
       "\n",
       "    .dataframe tbody tr th {\n",
       "        vertical-align: top;\n",
       "    }\n",
       "\n",
       "    .dataframe thead th {\n",
       "        text-align: right;\n",
       "    }\n",
       "</style>\n",
       "<table border=\"1\" class=\"dataframe\">\n",
       "  <thead>\n",
       "    <tr style=\"text-align: right;\">\n",
       "      <th></th>\n",
       "      <th>store_nbr</th>\n",
       "      <th>family</th>\n",
       "      <th>onpromotion</th>\n",
       "      <th>promotion_ma_7</th>\n",
       "      <th>promotion_ma_28</th>\n",
       "      <th>national_holiday</th>\n",
       "      <th>earthquake_relief</th>\n",
       "      <th>christmas</th>\n",
       "      <th>football_event</th>\n",
       "      <th>national_event</th>\n",
       "      <th>...</th>\n",
       "      <th>year</th>\n",
       "      <th>month</th>\n",
       "      <th>day</th>\n",
       "      <th>dayofyear</th>\n",
       "      <th>dayofweek</th>\n",
       "      <th>weekofyear</th>\n",
       "      <th>linear_increase</th>\n",
       "      <th>dcoilwtico</th>\n",
       "      <th>oil_ma_7</th>\n",
       "      <th>oil_ma_28</th>\n",
       "    </tr>\n",
       "  </thead>\n",
       "  <tbody>\n",
       "    <tr>\n",
       "      <th>2017-05-08</th>\n",
       "      <td>1</td>\n",
       "      <td>AUTOMOTIVE</td>\n",
       "      <td>0.0</td>\n",
       "      <td>0.0</td>\n",
       "      <td>0.0</td>\n",
       "      <td>0.0</td>\n",
       "      <td>0.0</td>\n",
       "      <td>0.0</td>\n",
       "      <td>0.0</td>\n",
       "      <td>0.0</td>\n",
       "      <td>...</td>\n",
       "      <td>1.0</td>\n",
       "      <td>0.363636</td>\n",
       "      <td>0.233333</td>\n",
       "      <td>0.347945</td>\n",
       "      <td>0.000000</td>\n",
       "      <td>0.346154</td>\n",
       "      <td>0.941316</td>\n",
       "      <td>0.240081</td>\n",
       "      <td>0.241925</td>\n",
       "      <td>0.261599</td>\n",
       "    </tr>\n",
       "    <tr>\n",
       "      <th>2017-05-09</th>\n",
       "      <td>1</td>\n",
       "      <td>AUTOMOTIVE</td>\n",
       "      <td>0.0</td>\n",
       "      <td>0.0</td>\n",
       "      <td>0.0</td>\n",
       "      <td>0.0</td>\n",
       "      <td>0.0</td>\n",
       "      <td>0.0</td>\n",
       "      <td>0.0</td>\n",
       "      <td>0.0</td>\n",
       "      <td>...</td>\n",
       "      <td>1.0</td>\n",
       "      <td>0.363636</td>\n",
       "      <td>0.266667</td>\n",
       "      <td>0.350685</td>\n",
       "      <td>0.166667</td>\n",
       "      <td>0.346154</td>\n",
       "      <td>0.941909</td>\n",
       "      <td>0.232737</td>\n",
       "      <td>0.244632</td>\n",
       "      <td>0.262407</td>\n",
       "    </tr>\n",
       "    <tr>\n",
       "      <th>2017-05-10</th>\n",
       "      <td>1</td>\n",
       "      <td>AUTOMOTIVE</td>\n",
       "      <td>0.0</td>\n",
       "      <td>0.0</td>\n",
       "      <td>0.0</td>\n",
       "      <td>0.0</td>\n",
       "      <td>0.0</td>\n",
       "      <td>0.0</td>\n",
       "      <td>0.0</td>\n",
       "      <td>0.0</td>\n",
       "      <td>...</td>\n",
       "      <td>1.0</td>\n",
       "      <td>0.363636</td>\n",
       "      <td>0.300000</td>\n",
       "      <td>0.353425</td>\n",
       "      <td>0.333333</td>\n",
       "      <td>0.346154</td>\n",
       "      <td>0.942502</td>\n",
       "      <td>0.249793</td>\n",
       "      <td>0.247791</td>\n",
       "      <td>0.263210</td>\n",
       "    </tr>\n",
       "    <tr>\n",
       "      <th>2017-05-11</th>\n",
       "      <td>1</td>\n",
       "      <td>AUTOMOTIVE</td>\n",
       "      <td>0.0</td>\n",
       "      <td>0.0</td>\n",
       "      <td>0.0</td>\n",
       "      <td>0.0</td>\n",
       "      <td>0.0</td>\n",
       "      <td>0.0</td>\n",
       "      <td>0.0</td>\n",
       "      <td>0.0</td>\n",
       "      <td>...</td>\n",
       "      <td>1.0</td>\n",
       "      <td>0.363636</td>\n",
       "      <td>0.333333</td>\n",
       "      <td>0.356164</td>\n",
       "      <td>0.500000</td>\n",
       "      <td>0.346154</td>\n",
       "      <td>0.943094</td>\n",
       "      <td>0.256070</td>\n",
       "      <td>0.251400</td>\n",
       "      <td>0.263959</td>\n",
       "    </tr>\n",
       "    <tr>\n",
       "      <th>2017-05-12</th>\n",
       "      <td>1</td>\n",
       "      <td>AUTOMOTIVE</td>\n",
       "      <td>0.0</td>\n",
       "      <td>0.0</td>\n",
       "      <td>0.0</td>\n",
       "      <td>0.0</td>\n",
       "      <td>0.0</td>\n",
       "      <td>0.0</td>\n",
       "      <td>0.0</td>\n",
       "      <td>0.0</td>\n",
       "      <td>...</td>\n",
       "      <td>1.0</td>\n",
       "      <td>0.363636</td>\n",
       "      <td>0.366667</td>\n",
       "      <td>0.358904</td>\n",
       "      <td>0.666667</td>\n",
       "      <td>0.346154</td>\n",
       "      <td>0.943687</td>\n",
       "      <td>0.256307</td>\n",
       "      <td>0.255461</td>\n",
       "      <td>0.263794</td>\n",
       "    </tr>\n",
       "  </tbody>\n",
       "</table>\n",
       "<p>5 rows × 22 columns</p>\n",
       "</div>"
      ],
      "text/plain": [
       "           store_nbr      family  onpromotion  promotion_ma_7  \\\n",
       "2017-05-08         1  AUTOMOTIVE          0.0             0.0   \n",
       "2017-05-09         1  AUTOMOTIVE          0.0             0.0   \n",
       "2017-05-10         1  AUTOMOTIVE          0.0             0.0   \n",
       "2017-05-11         1  AUTOMOTIVE          0.0             0.0   \n",
       "2017-05-12         1  AUTOMOTIVE          0.0             0.0   \n",
       "\n",
       "            promotion_ma_28  national_holiday  earthquake_relief  christmas  \\\n",
       "2017-05-08              0.0               0.0                0.0        0.0   \n",
       "2017-05-09              0.0               0.0                0.0        0.0   \n",
       "2017-05-10              0.0               0.0                0.0        0.0   \n",
       "2017-05-11              0.0               0.0                0.0        0.0   \n",
       "2017-05-12              0.0               0.0                0.0        0.0   \n",
       "\n",
       "            football_event  national_event  ...  year     month       day  \\\n",
       "2017-05-08             0.0             0.0  ...   1.0  0.363636  0.233333   \n",
       "2017-05-09             0.0             0.0  ...   1.0  0.363636  0.266667   \n",
       "2017-05-10             0.0             0.0  ...   1.0  0.363636  0.300000   \n",
       "2017-05-11             0.0             0.0  ...   1.0  0.363636  0.333333   \n",
       "2017-05-12             0.0             0.0  ...   1.0  0.363636  0.366667   \n",
       "\n",
       "            dayofyear  dayofweek  weekofyear  linear_increase  dcoilwtico  \\\n",
       "2017-05-08   0.347945   0.000000    0.346154         0.941316    0.240081   \n",
       "2017-05-09   0.350685   0.166667    0.346154         0.941909    0.232737   \n",
       "2017-05-10   0.353425   0.333333    0.346154         0.942502    0.249793   \n",
       "2017-05-11   0.356164   0.500000    0.346154         0.943094    0.256070   \n",
       "2017-05-12   0.358904   0.666667    0.346154         0.943687    0.256307   \n",
       "\n",
       "            oil_ma_7  oil_ma_28  \n",
       "2017-05-08  0.241925   0.261599  \n",
       "2017-05-09  0.244632   0.262407  \n",
       "2017-05-10  0.247791   0.263210  \n",
       "2017-05-11  0.251400   0.263959  \n",
       "2017-05-12  0.255461   0.263794  \n",
       "\n",
       "[5 rows x 22 columns]"
      ]
     },
     "execution_count": 67,
     "metadata": {},
     "output_type": "execute_result"
    }
   ],
   "source": [
    "future_covariates_df = pd.DataFrame(columns=['store_nbr', 'family'] + list(future_covariates_dict['AUTOMOTIVE'][0].columns))\n",
    "\n",
    "for store in tqdm(range(0, 54)):\n",
    "    for family in list(family_TS_dict.keys()):\n",
    "        fut_cov_temp = pd.DataFrame(future_covariates_dict[family][store][1688-val_df_size:].values(),\n",
    "                                    index=future_covariates_dict[family][store].time_index[1688-val_df_size:],\n",
    "                                    columns=future_covariates_dict[family][store].columns)\n",
    "        fut_cov_temp['store_nbr'] = store + 1\n",
    "        fut_cov_temp['family'] = family\n",
    "        future_covariates_df = pd.concat([future_covariates_df, fut_cov_temp])\n",
    "        \n",
    "future_covariates_df.head()"
   ]
  },
  {
   "cell_type": "markdown",
   "id": "2669e637",
   "metadata": {
    "papermill": {
     "duration": 0.260964,
     "end_time": "2023-05-22T11:59:08.000133",
     "exception": false,
     "start_time": "2023-05-22T11:59:07.739169",
     "status": "completed"
    },
    "tags": []
   },
   "source": [
    "Enrich model predictions with future covariate data:"
   ]
  },
  {
   "cell_type": "code",
   "execution_count": 68,
   "id": "6ef630cb",
   "metadata": {
    "execution": {
     "iopub.execute_input": "2023-05-22T11:59:08.312845Z",
     "iopub.status.busy": "2023-05-22T11:59:08.312432Z",
     "iopub.status.idle": "2023-05-22T11:59:08.411391Z",
     "shell.execute_reply": "2023-05-22T11:59:08.409891Z"
    },
    "papermill": {
     "duration": 0.25553,
     "end_time": "2023-05-22T11:59:08.414496",
     "exception": false,
     "start_time": "2023-05-22T11:59:08.158966",
     "status": "completed"
    },
    "tags": []
   },
   "outputs": [
    {
     "data": {
      "text/html": [
       "<div>\n",
       "<style scoped>\n",
       "    .dataframe tbody tr th:only-of-type {\n",
       "        vertical-align: middle;\n",
       "    }\n",
       "\n",
       "    .dataframe tbody tr th {\n",
       "        vertical-align: top;\n",
       "    }\n",
       "\n",
       "    .dataframe thead th {\n",
       "        text-align: right;\n",
       "    }\n",
       "</style>\n",
       "<table border=\"1\" class=\"dataframe\">\n",
       "  <thead>\n",
       "    <tr style=\"text-align: right;\">\n",
       "      <th></th>\n",
       "      <th>id</th>\n",
       "      <th>y_pred_0</th>\n",
       "      <th>y_pred_1</th>\n",
       "      <th>y_pred_2</th>\n",
       "      <th>y_pred_3</th>\n",
       "      <th>y_pred_4</th>\n",
       "      <th>y_pred_5</th>\n",
       "      <th>sales</th>\n",
       "      <th>store_nbr</th>\n",
       "      <th>family</th>\n",
       "      <th>...</th>\n",
       "      <th>year</th>\n",
       "      <th>month</th>\n",
       "      <th>day</th>\n",
       "      <th>dayofyear</th>\n",
       "      <th>dayofweek</th>\n",
       "      <th>weekofyear</th>\n",
       "      <th>linear_increase</th>\n",
       "      <th>dcoilwtico</th>\n",
       "      <th>oil_ma_7</th>\n",
       "      <th>oil_ma_28</th>\n",
       "    </tr>\n",
       "    <tr>\n",
       "      <th>date</th>\n",
       "      <th></th>\n",
       "      <th></th>\n",
       "      <th></th>\n",
       "      <th></th>\n",
       "      <th></th>\n",
       "      <th></th>\n",
       "      <th></th>\n",
       "      <th></th>\n",
       "      <th></th>\n",
       "      <th></th>\n",
       "      <th></th>\n",
       "      <th></th>\n",
       "      <th></th>\n",
       "      <th></th>\n",
       "      <th></th>\n",
       "      <th></th>\n",
       "      <th></th>\n",
       "      <th></th>\n",
       "      <th></th>\n",
       "      <th></th>\n",
       "      <th></th>\n",
       "    </tr>\n",
       "  </thead>\n",
       "  <tbody>\n",
       "    <tr>\n",
       "      <th>2017-05-08</th>\n",
       "      <td>2822688.0</td>\n",
       "      <td>3.676266</td>\n",
       "      <td>3.417199</td>\n",
       "      <td>3.199446</td>\n",
       "      <td>3.579452</td>\n",
       "      <td>3.115974</td>\n",
       "      <td>3.065060</td>\n",
       "      <td>5.0</td>\n",
       "      <td>1</td>\n",
       "      <td>AUTOMOTIVE</td>\n",
       "      <td>...</td>\n",
       "      <td>1.0</td>\n",
       "      <td>0.363636</td>\n",
       "      <td>0.233333</td>\n",
       "      <td>0.347945</td>\n",
       "      <td>0.000000</td>\n",
       "      <td>0.346154</td>\n",
       "      <td>0.941316</td>\n",
       "      <td>0.240081</td>\n",
       "      <td>0.241925</td>\n",
       "      <td>0.261599</td>\n",
       "    </tr>\n",
       "    <tr>\n",
       "      <th>2017-05-09</th>\n",
       "      <td>2824470.0</td>\n",
       "      <td>3.232229</td>\n",
       "      <td>3.578848</td>\n",
       "      <td>2.721255</td>\n",
       "      <td>3.442423</td>\n",
       "      <td>3.270835</td>\n",
       "      <td>2.882628</td>\n",
       "      <td>2.0</td>\n",
       "      <td>1</td>\n",
       "      <td>AUTOMOTIVE</td>\n",
       "      <td>...</td>\n",
       "      <td>1.0</td>\n",
       "      <td>0.363636</td>\n",
       "      <td>0.266667</td>\n",
       "      <td>0.350685</td>\n",
       "      <td>0.166667</td>\n",
       "      <td>0.346154</td>\n",
       "      <td>0.941909</td>\n",
       "      <td>0.232737</td>\n",
       "      <td>0.244632</td>\n",
       "      <td>0.262407</td>\n",
       "    </tr>\n",
       "    <tr>\n",
       "      <th>2017-05-10</th>\n",
       "      <td>2826252.0</td>\n",
       "      <td>3.599256</td>\n",
       "      <td>3.569002</td>\n",
       "      <td>3.272049</td>\n",
       "      <td>3.206762</td>\n",
       "      <td>3.518412</td>\n",
       "      <td>2.981064</td>\n",
       "      <td>2.0</td>\n",
       "      <td>1</td>\n",
       "      <td>AUTOMOTIVE</td>\n",
       "      <td>...</td>\n",
       "      <td>1.0</td>\n",
       "      <td>0.363636</td>\n",
       "      <td>0.300000</td>\n",
       "      <td>0.353425</td>\n",
       "      <td>0.333333</td>\n",
       "      <td>0.346154</td>\n",
       "      <td>0.942502</td>\n",
       "      <td>0.249793</td>\n",
       "      <td>0.247791</td>\n",
       "      <td>0.263210</td>\n",
       "    </tr>\n",
       "    <tr>\n",
       "      <th>2017-05-11</th>\n",
       "      <td>2828034.0</td>\n",
       "      <td>4.008501</td>\n",
       "      <td>3.567155</td>\n",
       "      <td>2.867772</td>\n",
       "      <td>3.685296</td>\n",
       "      <td>3.150041</td>\n",
       "      <td>3.790595</td>\n",
       "      <td>4.0</td>\n",
       "      <td>1</td>\n",
       "      <td>AUTOMOTIVE</td>\n",
       "      <td>...</td>\n",
       "      <td>1.0</td>\n",
       "      <td>0.363636</td>\n",
       "      <td>0.333333</td>\n",
       "      <td>0.356164</td>\n",
       "      <td>0.500000</td>\n",
       "      <td>0.346154</td>\n",
       "      <td>0.943094</td>\n",
       "      <td>0.256070</td>\n",
       "      <td>0.251400</td>\n",
       "      <td>0.263959</td>\n",
       "    </tr>\n",
       "    <tr>\n",
       "      <th>2017-05-12</th>\n",
       "      <td>2829816.0</td>\n",
       "      <td>3.639679</td>\n",
       "      <td>2.998901</td>\n",
       "      <td>2.978183</td>\n",
       "      <td>3.132120</td>\n",
       "      <td>3.369821</td>\n",
       "      <td>3.219728</td>\n",
       "      <td>4.0</td>\n",
       "      <td>1</td>\n",
       "      <td>AUTOMOTIVE</td>\n",
       "      <td>...</td>\n",
       "      <td>1.0</td>\n",
       "      <td>0.363636</td>\n",
       "      <td>0.366667</td>\n",
       "      <td>0.358904</td>\n",
       "      <td>0.666667</td>\n",
       "      <td>0.346154</td>\n",
       "      <td>0.943687</td>\n",
       "      <td>0.256307</td>\n",
       "      <td>0.255461</td>\n",
       "      <td>0.263794</td>\n",
       "    </tr>\n",
       "  </tbody>\n",
       "</table>\n",
       "<p>5 rows × 30 columns</p>\n",
       "</div>"
      ],
      "text/plain": [
       "                   id  y_pred_0  y_pred_1  y_pred_2  y_pred_3  y_pred_4  \\\n",
       "date                                                                      \n",
       "2017-05-08  2822688.0  3.676266  3.417199  3.199446  3.579452  3.115974   \n",
       "2017-05-09  2824470.0  3.232229  3.578848  2.721255  3.442423  3.270835   \n",
       "2017-05-10  2826252.0  3.599256  3.569002  3.272049  3.206762  3.518412   \n",
       "2017-05-11  2828034.0  4.008501  3.567155  2.867772  3.685296  3.150041   \n",
       "2017-05-12  2829816.0  3.639679  2.998901  2.978183  3.132120  3.369821   \n",
       "\n",
       "            y_pred_5  sales store_nbr      family  ...  year     month  \\\n",
       "date                                               ...                   \n",
       "2017-05-08  3.065060    5.0         1  AUTOMOTIVE  ...   1.0  0.363636   \n",
       "2017-05-09  2.882628    2.0         1  AUTOMOTIVE  ...   1.0  0.363636   \n",
       "2017-05-10  2.981064    2.0         1  AUTOMOTIVE  ...   1.0  0.363636   \n",
       "2017-05-11  3.790595    4.0         1  AUTOMOTIVE  ...   1.0  0.363636   \n",
       "2017-05-12  3.219728    4.0         1  AUTOMOTIVE  ...   1.0  0.363636   \n",
       "\n",
       "                 day  dayofyear  dayofweek  weekofyear  linear_increase  \\\n",
       "date                                                                      \n",
       "2017-05-08  0.233333   0.347945   0.000000    0.346154         0.941316   \n",
       "2017-05-09  0.266667   0.350685   0.166667    0.346154         0.941909   \n",
       "2017-05-10  0.300000   0.353425   0.333333    0.346154         0.942502   \n",
       "2017-05-11  0.333333   0.356164   0.500000    0.346154         0.943094   \n",
       "2017-05-12  0.366667   0.358904   0.666667    0.346154         0.943687   \n",
       "\n",
       "            dcoilwtico  oil_ma_7  oil_ma_28  \n",
       "date                                         \n",
       "2017-05-08    0.240081  0.241925   0.261599  \n",
       "2017-05-09    0.232737  0.244632   0.262407  \n",
       "2017-05-10    0.249793  0.247791   0.263210  \n",
       "2017-05-11    0.256070  0.251400   0.263959  \n",
       "2017-05-12    0.256307  0.255461   0.263794  \n",
       "\n",
       "[5 rows x 30 columns]"
      ]
     },
     "execution_count": 68,
     "metadata": {},
     "output_type": "execute_result"
    }
   ],
   "source": [
    "data_with_preds = pd.concat([submissions, future_covariates_df.reset_index(drop=True)], axis=1)\n",
    "data_with_preds = data_with_preds.set_index('date')\n",
    "data_with_preds.head()"
   ]
  },
  {
   "cell_type": "code",
   "execution_count": 69,
   "id": "1f623e87",
   "metadata": {
    "execution": {
     "iopub.execute_input": "2023-05-22T11:59:08.732371Z",
     "iopub.status.busy": "2023-05-22T11:59:08.731606Z",
     "iopub.status.idle": "2023-05-22T11:59:08.745117Z",
     "shell.execute_reply": "2023-05-22T11:59:08.743895Z"
    },
    "papermill": {
     "duration": 0.175921,
     "end_time": "2023-05-22T11:59:08.748593",
     "exception": false,
     "start_time": "2023-05-22T11:59:08.572672",
     "status": "completed"
    },
    "tags": []
   },
   "outputs": [],
   "source": [
    "data_with_preds.store_nbr = data_with_preds.store_nbr.astype('int32')"
   ]
  },
  {
   "cell_type": "markdown",
   "id": "6c5039b6",
   "metadata": {
    "papermill": {
     "duration": 0.159904,
     "end_time": "2023-05-22T11:59:09.064824",
     "exception": false,
     "start_time": "2023-05-22T11:59:08.904920",
     "status": "completed"
    },
    "tags": []
   },
   "source": [
    "Let's create a validation and test dataset.\n",
    "\n",
    "The meta-model will use the predictions as training parameters and will attempt to identify dependencies between the predictions and the original targets."
   ]
  },
  {
   "cell_type": "code",
   "execution_count": 70,
   "id": "e3cfce1b",
   "metadata": {
    "execution": {
     "iopub.execute_input": "2023-05-22T11:59:09.378209Z",
     "iopub.status.busy": "2023-05-22T11:59:09.377489Z",
     "iopub.status.idle": "2023-05-22T11:59:09.440866Z",
     "shell.execute_reply": "2023-05-22T11:59:09.439533Z"
    },
    "papermill": {
     "duration": 0.224294,
     "end_time": "2023-05-22T11:59:09.443243",
     "exception": false,
     "start_time": "2023-05-22T11:59:09.218949",
     "status": "completed"
    },
    "tags": []
   },
   "outputs": [
    {
     "name": "stdout",
     "output_type": "stream",
     "text": [
      "2017-05-08 00:00:00 2017-08-15 00:00:00\n",
      "2017-08-16 00:00:00 2017-08-31 00:00:00\n"
     ]
    }
   ],
   "source": [
    "val = data_with_preds.iloc[np.where(data_with_preds.index < '2017-08-16')]\n",
    "test = data_with_preds.iloc[np.where(data_with_preds.index >= '2017-08-16')]\n",
    "print(val.index.min(), val.index.max())\n",
    "print(test.index.min(), test.index.max())"
   ]
  },
  {
   "cell_type": "code",
   "execution_count": 71,
   "id": "017f5b4f",
   "metadata": {
    "execution": {
     "iopub.execute_input": "2023-05-22T11:59:09.763115Z",
     "iopub.status.busy": "2023-05-22T11:59:09.762683Z",
     "iopub.status.idle": "2023-05-22T11:59:09.767339Z",
     "shell.execute_reply": "2023-05-22T11:59:09.766110Z"
    },
    "papermill": {
     "duration": 0.166463,
     "end_time": "2023-05-22T11:59:09.770431",
     "exception": false,
     "start_time": "2023-05-22T11:59:09.603968",
     "status": "completed"
    },
    "tags": []
   },
   "outputs": [],
   "source": [
    "from lightgbm import LGBMRegressor"
   ]
  },
  {
   "cell_type": "code",
   "execution_count": 72,
   "id": "2b853996",
   "metadata": {
    "execution": {
     "iopub.execute_input": "2023-05-22T11:59:10.087071Z",
     "iopub.status.busy": "2023-05-22T11:59:10.086672Z",
     "iopub.status.idle": "2023-05-22T11:59:10.093110Z",
     "shell.execute_reply": "2023-05-22T11:59:10.091761Z"
    },
    "papermill": {
     "duration": 0.170594,
     "end_time": "2023-05-22T11:59:10.095954",
     "exception": false,
     "start_time": "2023-05-22T11:59:09.925360",
     "status": "completed"
    },
    "tags": []
   },
   "outputs": [],
   "source": [
    "feature_cols = list(val.columns.drop(['id', 'sales', 'family']))"
   ]
  },
  {
   "cell_type": "code",
   "execution_count": 73,
   "id": "7aae66a3",
   "metadata": {
    "execution": {
     "iopub.execute_input": "2023-05-22T11:59:10.420043Z",
     "iopub.status.busy": "2023-05-22T11:59:10.419217Z",
     "iopub.status.idle": "2023-05-22T11:59:17.761871Z",
     "shell.execute_reply": "2023-05-22T11:59:17.760732Z"
    },
    "papermill": {
     "duration": 7.504246,
     "end_time": "2023-05-22T11:59:17.764772",
     "exception": false,
     "start_time": "2023-05-22T11:59:10.260526",
     "status": "completed"
    },
    "tags": []
   },
   "outputs": [
    {
     "name": "stderr",
     "output_type": "stream",
     "text": [
      "100%|██████████| 33/33 [00:07<00:00,  4.51it/s]\n"
     ]
    }
   ],
   "source": [
    "result = pd.DataFrame(columns=['id', 'sales'])\n",
    "\n",
    "for family in tqdm(family_list):\n",
    "    temp_val = val.iloc[np.where(val.family.values == family)]\n",
    "    temp_test = test.iloc[np.where(test.family.values == family)]\n",
    "\n",
    "    temp_val['sales'] = np.log1p(temp_val['sales'])\n",
    "\n",
    "    lgbm = LGBMRegressor()\n",
    "    lgbm.fit(temp_val[feature_cols], temp_val['sales'])\n",
    "    y_pred = lgbm.predict(temp_test[feature_cols])\n",
    "    y_pred = np.expm1(y_pred)\n",
    "\n",
    "    temp_test = pd.concat([temp_test['id'].reset_index(drop=True), pd.Series(y_pred, name='sales')], axis=1)\n",
    "    result = pd.concat([result, temp_test])\n",
    "\n",
    "result['sales'][result['sales'] < 0] = 0"
   ]
  },
  {
   "cell_type": "code",
   "execution_count": 74,
   "id": "3faf2496",
   "metadata": {
    "execution": {
     "iopub.execute_input": "2023-05-22T11:59:18.087107Z",
     "iopub.status.busy": "2023-05-22T11:59:18.086654Z",
     "iopub.status.idle": "2023-05-22T11:59:18.103203Z",
     "shell.execute_reply": "2023-05-22T11:59:18.101396Z"
    },
    "papermill": {
     "duration": 0.178291,
     "end_time": "2023-05-22T11:59:18.106224",
     "exception": false,
     "start_time": "2023-05-22T11:59:17.927933",
     "status": "completed"
    },
    "tags": []
   },
   "outputs": [
    {
     "data": {
      "text/html": [
       "<div>\n",
       "<style scoped>\n",
       "    .dataframe tbody tr th:only-of-type {\n",
       "        vertical-align: middle;\n",
       "    }\n",
       "\n",
       "    .dataframe tbody tr th {\n",
       "        vertical-align: top;\n",
       "    }\n",
       "\n",
       "    .dataframe thead th {\n",
       "        text-align: right;\n",
       "    }\n",
       "</style>\n",
       "<table border=\"1\" class=\"dataframe\">\n",
       "  <thead>\n",
       "    <tr style=\"text-align: right;\">\n",
       "      <th></th>\n",
       "      <th>id</th>\n",
       "      <th>sales</th>\n",
       "    </tr>\n",
       "  </thead>\n",
       "  <tbody>\n",
       "    <tr>\n",
       "      <th>0</th>\n",
       "      <td>3000888</td>\n",
       "      <td>4.265958</td>\n",
       "    </tr>\n",
       "    <tr>\n",
       "      <th>0</th>\n",
       "      <td>3000889</td>\n",
       "      <td>0.000000</td>\n",
       "    </tr>\n",
       "    <tr>\n",
       "      <th>0</th>\n",
       "      <td>3000890</td>\n",
       "      <td>5.824962</td>\n",
       "    </tr>\n",
       "    <tr>\n",
       "      <th>0</th>\n",
       "      <td>3000891</td>\n",
       "      <td>2268.181973</td>\n",
       "    </tr>\n",
       "    <tr>\n",
       "      <th>0</th>\n",
       "      <td>3000892</td>\n",
       "      <td>0.000000</td>\n",
       "    </tr>\n",
       "  </tbody>\n",
       "</table>\n",
       "</div>"
      ],
      "text/plain": [
       "        id        sales\n",
       "0  3000888     4.265958\n",
       "0  3000889     0.000000\n",
       "0  3000890     5.824962\n",
       "0  3000891  2268.181973\n",
       "0  3000892     0.000000"
      ]
     },
     "execution_count": 74,
     "metadata": {},
     "output_type": "execute_result"
    }
   ],
   "source": [
    "submission_stack = result.sort_values('id')\n",
    "submission_stack.id = submission_stack.id.astype('int32')\n",
    "submission_stack.head()"
   ]
  },
  {
   "cell_type": "code",
   "execution_count": 75,
   "id": "39e4ee61",
   "metadata": {
    "execution": {
     "iopub.execute_input": "2023-05-22T11:59:18.465292Z",
     "iopub.status.busy": "2023-05-22T11:59:18.464110Z",
     "iopub.status.idle": "2023-05-22T11:59:18.545524Z",
     "shell.execute_reply": "2023-05-22T11:59:18.543934Z"
    },
    "papermill": {
     "duration": 0.277998,
     "end_time": "2023-05-22T11:59:18.548347",
     "exception": false,
     "start_time": "2023-05-22T11:59:18.270349",
     "status": "completed"
    },
    "tags": []
   },
   "outputs": [],
   "source": [
    "submission_stack.to_csv('/kaggle/working/submission_stack.csv', index=False)"
   ]
  },
  {
   "cell_type": "code",
   "execution_count": null,
   "id": "7b881ecd",
   "metadata": {
    "papermill": {
     "duration": 0.15637,
     "end_time": "2023-05-22T11:59:18.860741",
     "exception": false,
     "start_time": "2023-05-22T11:59:18.704371",
     "status": "completed"
    },
    "tags": []
   },
   "outputs": [],
   "source": []
  }
 ],
 "metadata": {
  "kernelspec": {
   "display_name": "Python 3",
   "language": "python",
   "name": "python3"
  },
  "language_info": {
   "codemirror_mode": {
    "name": "ipython",
    "version": 3
   },
   "file_extension": ".py",
   "mimetype": "text/x-python",
   "name": "python",
   "nbconvert_exporter": "python",
   "pygments_lexer": "ipython3",
   "version": "3.10.10"
  },
  "papermill": {
   "default_parameters": {},
   "duration": 10440.267295,
   "end_time": "2023-05-22T11:59:21.859194",
   "environment_variables": {},
   "exception": null,
   "input_path": "__notebook__.ipynb",
   "output_path": "__notebook__.ipynb",
   "parameters": {},
   "start_time": "2023-05-22T09:05:21.591899",
   "version": "2.4.0"
  }
 },
 "nbformat": 4,
 "nbformat_minor": 5
}
