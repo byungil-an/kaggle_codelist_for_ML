{
 "cells": [
  {
   "cell_type": "code",
   "execution_count": 1,
   "id": "f26706f4",
   "metadata": {
    "ExecuteTime": {
     "end_time": "2022-05-26T04:50:51.839508Z",
     "start_time": "2022-05-26T04:50:47.392782Z"
    },
    "execution": {
     "iopub.execute_input": "2023-01-13T08:16:38.888039Z",
     "iopub.status.busy": "2023-01-13T08:16:38.887131Z",
     "iopub.status.idle": "2023-01-13T08:16:40.517158Z",
     "shell.execute_reply": "2023-01-13T08:16:40.515532Z"
    },
    "papermill": {
     "duration": 1.653697,
     "end_time": "2023-01-13T08:16:40.520443",
     "exception": false,
     "start_time": "2023-01-13T08:16:38.866746",
     "status": "completed"
    },
    "tags": []
   },
   "outputs": [],
   "source": [
    "import numpy as np\n",
    "import pandas as pd\n",
    "import seaborn as sn\n",
    "from datetime import datetime\n",
    "import matplotlib.pyplot as plt\n",
    "import warnings\n",
    "from sklearn.model_selection import GridSearchCV\n",
    "from sklearn import metrics\n",
    "import xgboost as xgb\n",
    "pd.options.mode.chained_assignment = None\n",
    "warnings.filterwarnings(\"ignore\", category=DeprecationWarning)\n",
    "%matplotlib inline"
   ]
  },
  {
   "cell_type": "markdown",
   "id": "ec9073ca",
   "metadata": {
    "papermill": {
     "duration": 0.015824,
     "end_time": "2023-01-13T08:16:40.552513",
     "exception": false,
     "start_time": "2023-01-13T08:16:40.536689",
     "status": "completed"
    },
    "tags": []
   },
   "source": [
    "# About Notebook\n",
    "\n",
    "## Mindmap(Only part of my notes)"
   ]
  },
  {
   "cell_type": "markdown",
   "id": "87e3d7fa",
   "metadata": {
    "papermill": {
     "duration": 0.0171,
     "end_time": "2023-01-13T08:16:40.586706",
     "exception": false,
     "start_time": "2023-01-13T08:16:40.569606",
     "status": "completed"
    },
    "tags": []
   },
   "source": [
    "### Missing values treatment\n",
    "\n",
    "![fydcc8](https://testksj.oss-cn-beijing.aliyuncs.com/uPic/fydcc8.png)\n",
    "\n",
    "### Outliers treatment\n",
    "![TprssW](https://testksj.oss-cn-beijing.aliyuncs.com/uPic/TprssW.png)"
   ]
  },
  {
   "cell_type": "markdown",
   "id": "1c5dc501",
   "metadata": {
    "papermill": {
     "duration": 0.016439,
     "end_time": "2023-01-13T08:16:40.620762",
     "exception": false,
     "start_time": "2023-01-13T08:16:40.604323",
     "status": "completed"
    },
    "tags": []
   },
   "source": [
    "## Summary from EDA:\n",
    "\n",
    "\n",
    "- The bike rental count is generally lower on weekends, which may be due to less demand for transportation during leisure time. There are also fewer outliers during this time, indicating a more consistent demand. \n",
    "- The spring season has a relatively lower bike rental count, which could be attributed to unpredictable weather or other seasonal factors. The average bike demand during the winter season is slightly lower than the summer and fall seasons, which may be due to the inclement weather and holidays causing people to travel less. \n",
    "- The median value of bike rentals by hour of the day is relatively high during the hours of 7AM-8AM and 5PM-6PM, which can be attributed to regular commuters for school and work. \n",
    "- The pattern of registered bike rentals by hour of the day is similar to that of all bike rentals, but most of the outliers in the count plot are from non-registered users, which could be from tourists or occasional riders. The peak rental count around 7AM-8AM and 5PM-6PM is primarily from registered users, as people with regular commute times tend to be registered users. This indicates a strong correlation between registered users and regular commuter patterns.\n",
    "\n",
    "weather -\n",
    "1: Clear, Few clouds, Partly cloudy, Partly cloudy\n",
    "2: Mist + Cloudy, Mist + Broken clouds, Mist + Few clouds, Mist\n",
    "3: Light Snow, Light Rain + Thunderstorm + Scattered clouds, Light Rain + Scattered clouds\n",
    "4: Heavy Rain + Ice Pallets + Thunderstorm + Mist, Snow + Fo\n",
    "\n",
    "- Horrible weather like weather 4 mainly happened in Spring season which supports our previous assumption that weather conditions play a major role in leading less bike rental demand during spring season.\n",
    "\n",
    "\n",
    "\n",
    "\n",
    "- It is observed that many people, regardless of their registration status, tend to rent bicycles between 10AM and 4PM. This trend is likely due to the fact that people are more likely to use bicycles for leisure activities during this time of the day. \n",
    "\n",
    "- Furthermore, it is also found that most un-registered users tend to rent bicycles around 10am-3pm on weekends. This could be because casual users may use other forms of transportation to go to work/school during the weekdays and only rent bicycles during weekends for recreational activities. \n",
    "\n",
    "- On weekdays, the peak rental count around 7AM-8AM and 5PM-6PM is primarily contributed by registered users. As previously mentioned, this can be attributed to regular school and office commuters who rely on bicycles as their primary mode of transportation during these times.\n",
    "\n",
    "\n",
    "- The count pattern between casual and registered users are really different so it's better to use two models to predict them seperately and then sum up the prediction."
   ]
  },
  {
   "cell_type": "markdown",
   "id": "7227e1f2",
   "metadata": {
    "papermill": {
     "duration": 0.016793,
     "end_time": "2023-01-13T08:16:40.655201",
     "exception": false,
     "start_time": "2023-01-13T08:16:40.638408",
     "status": "completed"
    },
    "tags": []
   },
   "source": [
    "# About Dataset"
   ]
  },
  {
   "cell_type": "markdown",
   "id": "3d0f6cc1",
   "metadata": {
    "papermill": {
     "duration": 0.015668,
     "end_time": "2023-01-13T08:16:40.687122",
     "exception": false,
     "start_time": "2023-01-13T08:16:40.671454",
     "status": "completed"
    },
    "tags": []
   },
   "source": [
    "#### **Data Fields**\n",
    "\n",
    "* datetime - hourly date + timestamp  \n",
    "* season -  1 = spring, 2 = summer, 3 = fall, 4 = winter \n",
    "* holiday - whether the day is considered a holiday\n",
    "* workingday - whether the day is neither a weekend nor holiday\n",
    "* weather - \n",
    "    * 1: Clear, Few clouds, Partly cloudy, Partly cloudy\n",
    "    * 2: Mist + Cloudy, Mist + Broken clouds, Mist + Few clouds, Mist\n",
    "    * 3: Light Snow, Light Rain + Thunderstorm + Scattered clouds, Light Rain + Scattered clouds\n",
    "    * 4: Heavy Rain + Ice Pallets + Thunderstorm + Mist, Snow + Fog \n",
    "* temp - temperature in Celsius\n",
    "* atemp - \"feels like\" temperature in Celsius\n",
    "* humidity - relative humidity\n",
    "* windspeed - wind speed\n",
    "* casual - number of non-registered user rentals initiated\n",
    "* registered - number of registered user rentals initiated\n",
    "* count - number of total rentals (Dependent Variable)"
   ]
  },
  {
   "cell_type": "code",
   "execution_count": 2,
   "id": "9b39ffa0",
   "metadata": {
    "ExecuteTime": {
     "end_time": "2022-05-25T13:03:57.648729Z",
     "start_time": "2022-05-25T13:03:57.447134Z"
    },
    "execution": {
     "iopub.execute_input": "2023-01-13T08:16:40.721995Z",
     "iopub.status.busy": "2023-01-13T08:16:40.721397Z",
     "iopub.status.idle": "2023-01-13T08:16:40.798891Z",
     "shell.execute_reply": "2023-01-13T08:16:40.797849Z"
    },
    "papermill": {
     "duration": 0.098454,
     "end_time": "2023-01-13T08:16:40.801935",
     "exception": false,
     "start_time": "2023-01-13T08:16:40.703481",
     "status": "completed"
    },
    "tags": []
   },
   "outputs": [],
   "source": [
    "# Load dataset\n",
    "train = pd.read_csv('/kaggle/input/bike-sharing-demand/train.csv')\n",
    "test = pd.read_csv('/kaggle/input/bike-sharing-demand/test.csv')"
   ]
  },
  {
   "cell_type": "code",
   "execution_count": 3,
   "id": "c8f890c2",
   "metadata": {
    "execution": {
     "iopub.execute_input": "2023-01-13T08:16:40.837328Z",
     "iopub.status.busy": "2023-01-13T08:16:40.836486Z",
     "iopub.status.idle": "2023-01-13T08:16:40.845442Z",
     "shell.execute_reply": "2023-01-13T08:16:40.844532Z"
    },
    "papermill": {
     "duration": 0.029081,
     "end_time": "2023-01-13T08:16:40.847850",
     "exception": false,
     "start_time": "2023-01-13T08:16:40.818769",
     "status": "completed"
    },
    "tags": []
   },
   "outputs": [
    {
     "data": {
      "text/plain": [
       "(10886, 12)"
      ]
     },
     "execution_count": 3,
     "metadata": {},
     "output_type": "execute_result"
    }
   ],
   "source": [
    "train.shape"
   ]
  },
  {
   "cell_type": "code",
   "execution_count": 4,
   "id": "017eb3ac",
   "metadata": {
    "ExecuteTime": {
     "end_time": "2022-05-25T13:03:57.704126Z",
     "start_time": "2022-05-25T13:03:57.651837Z"
    },
    "execution": {
     "iopub.execute_input": "2023-01-13T08:16:40.883263Z",
     "iopub.status.busy": "2023-01-13T08:16:40.882767Z",
     "iopub.status.idle": "2023-01-13T08:16:40.915347Z",
     "shell.execute_reply": "2023-01-13T08:16:40.914003Z"
    },
    "papermill": {
     "duration": 0.05386,
     "end_time": "2023-01-13T08:16:40.918250",
     "exception": false,
     "start_time": "2023-01-13T08:16:40.864390",
     "status": "completed"
    },
    "tags": []
   },
   "outputs": [
    {
     "name": "stdout",
     "output_type": "stream",
     "text": [
      "<class 'pandas.core.frame.DataFrame'>\n",
      "RangeIndex: 10886 entries, 0 to 10885\n",
      "Data columns (total 12 columns):\n",
      " #   Column      Non-Null Count  Dtype  \n",
      "---  ------      --------------  -----  \n",
      " 0   datetime    10886 non-null  object \n",
      " 1   season      10886 non-null  int64  \n",
      " 2   holiday     10886 non-null  int64  \n",
      " 3   workingday  10886 non-null  int64  \n",
      " 4   weather     10886 non-null  int64  \n",
      " 5   temp        10886 non-null  float64\n",
      " 6   atemp       10886 non-null  float64\n",
      " 7   humidity    10886 non-null  int64  \n",
      " 8   windspeed   10886 non-null  float64\n",
      " 9   casual      10886 non-null  int64  \n",
      " 10  registered  10886 non-null  int64  \n",
      " 11  count       10886 non-null  int64  \n",
      "dtypes: float64(3), int64(8), object(1)\n",
      "memory usage: 1020.7+ KB\n"
     ]
    }
   ],
   "source": [
    "train.info()"
   ]
  },
  {
   "cell_type": "code",
   "execution_count": 5,
   "id": "01adf8e4",
   "metadata": {
    "execution": {
     "iopub.execute_input": "2023-01-13T08:16:40.954298Z",
     "iopub.status.busy": "2023-01-13T08:16:40.953786Z",
     "iopub.status.idle": "2023-01-13T08:16:40.968846Z",
     "shell.execute_reply": "2023-01-13T08:16:40.967412Z"
    },
    "papermill": {
     "duration": 0.038499,
     "end_time": "2023-01-13T08:16:40.973436",
     "exception": false,
     "start_time": "2023-01-13T08:16:40.934937",
     "status": "completed"
    },
    "tags": []
   },
   "outputs": [
    {
     "name": "stdout",
     "output_type": "stream",
     "text": [
      "<class 'pandas.core.frame.DataFrame'>\n",
      "RangeIndex: 6493 entries, 0 to 6492\n",
      "Data columns (total 9 columns):\n",
      " #   Column      Non-Null Count  Dtype  \n",
      "---  ------      --------------  -----  \n",
      " 0   datetime    6493 non-null   object \n",
      " 1   season      6493 non-null   int64  \n",
      " 2   holiday     6493 non-null   int64  \n",
      " 3   workingday  6493 non-null   int64  \n",
      " 4   weather     6493 non-null   int64  \n",
      " 5   temp        6493 non-null   float64\n",
      " 6   atemp       6493 non-null   float64\n",
      " 7   humidity    6493 non-null   int64  \n",
      " 8   windspeed   6493 non-null   float64\n",
      "dtypes: float64(3), int64(5), object(1)\n",
      "memory usage: 456.7+ KB\n"
     ]
    }
   ],
   "source": [
    "# test dataset doesn't have 'casual', 'registered' columns and target column 'count'\n",
    "test.info()"
   ]
  },
  {
   "cell_type": "code",
   "execution_count": 6,
   "id": "9945793f",
   "metadata": {
    "execution": {
     "iopub.execute_input": "2023-01-13T08:16:41.010205Z",
     "iopub.status.busy": "2023-01-13T08:16:41.009713Z",
     "iopub.status.idle": "2023-01-13T08:16:41.070282Z",
     "shell.execute_reply": "2023-01-13T08:16:41.068899Z"
    },
    "papermill": {
     "duration": 0.082731,
     "end_time": "2023-01-13T08:16:41.073139",
     "exception": false,
     "start_time": "2023-01-13T08:16:40.990408",
     "status": "completed"
    },
    "tags": []
   },
   "outputs": [
    {
     "data": {
      "text/html": [
       "<div>\n",
       "<style scoped>\n",
       "    .dataframe tbody tr th:only-of-type {\n",
       "        vertical-align: middle;\n",
       "    }\n",
       "\n",
       "    .dataframe tbody tr th {\n",
       "        vertical-align: top;\n",
       "    }\n",
       "\n",
       "    .dataframe thead th {\n",
       "        text-align: right;\n",
       "    }\n",
       "</style>\n",
       "<table border=\"1\" class=\"dataframe\">\n",
       "  <thead>\n",
       "    <tr style=\"text-align: right;\">\n",
       "      <th></th>\n",
       "      <th>season</th>\n",
       "      <th>holiday</th>\n",
       "      <th>workingday</th>\n",
       "      <th>weather</th>\n",
       "      <th>temp</th>\n",
       "      <th>atemp</th>\n",
       "      <th>humidity</th>\n",
       "      <th>windspeed</th>\n",
       "      <th>casual</th>\n",
       "      <th>registered</th>\n",
       "      <th>count</th>\n",
       "    </tr>\n",
       "  </thead>\n",
       "  <tbody>\n",
       "    <tr>\n",
       "      <th>count</th>\n",
       "      <td>10886.000000</td>\n",
       "      <td>10886.000000</td>\n",
       "      <td>10886.000000</td>\n",
       "      <td>10886.000000</td>\n",
       "      <td>10886.00000</td>\n",
       "      <td>10886.000000</td>\n",
       "      <td>10886.000000</td>\n",
       "      <td>10886.000000</td>\n",
       "      <td>10886.000000</td>\n",
       "      <td>10886.000000</td>\n",
       "      <td>10886.000000</td>\n",
       "    </tr>\n",
       "    <tr>\n",
       "      <th>mean</th>\n",
       "      <td>2.506614</td>\n",
       "      <td>0.028569</td>\n",
       "      <td>0.680875</td>\n",
       "      <td>1.418427</td>\n",
       "      <td>20.23086</td>\n",
       "      <td>23.655084</td>\n",
       "      <td>61.886460</td>\n",
       "      <td>12.799395</td>\n",
       "      <td>36.021955</td>\n",
       "      <td>155.552177</td>\n",
       "      <td>191.574132</td>\n",
       "    </tr>\n",
       "    <tr>\n",
       "      <th>std</th>\n",
       "      <td>1.116174</td>\n",
       "      <td>0.166599</td>\n",
       "      <td>0.466159</td>\n",
       "      <td>0.633839</td>\n",
       "      <td>7.79159</td>\n",
       "      <td>8.474601</td>\n",
       "      <td>19.245033</td>\n",
       "      <td>8.164537</td>\n",
       "      <td>49.960477</td>\n",
       "      <td>151.039033</td>\n",
       "      <td>181.144454</td>\n",
       "    </tr>\n",
       "    <tr>\n",
       "      <th>min</th>\n",
       "      <td>1.000000</td>\n",
       "      <td>0.000000</td>\n",
       "      <td>0.000000</td>\n",
       "      <td>1.000000</td>\n",
       "      <td>0.82000</td>\n",
       "      <td>0.760000</td>\n",
       "      <td>0.000000</td>\n",
       "      <td>0.000000</td>\n",
       "      <td>0.000000</td>\n",
       "      <td>0.000000</td>\n",
       "      <td>1.000000</td>\n",
       "    </tr>\n",
       "    <tr>\n",
       "      <th>25%</th>\n",
       "      <td>2.000000</td>\n",
       "      <td>0.000000</td>\n",
       "      <td>0.000000</td>\n",
       "      <td>1.000000</td>\n",
       "      <td>13.94000</td>\n",
       "      <td>16.665000</td>\n",
       "      <td>47.000000</td>\n",
       "      <td>7.001500</td>\n",
       "      <td>4.000000</td>\n",
       "      <td>36.000000</td>\n",
       "      <td>42.000000</td>\n",
       "    </tr>\n",
       "    <tr>\n",
       "      <th>50%</th>\n",
       "      <td>3.000000</td>\n",
       "      <td>0.000000</td>\n",
       "      <td>1.000000</td>\n",
       "      <td>1.000000</td>\n",
       "      <td>20.50000</td>\n",
       "      <td>24.240000</td>\n",
       "      <td>62.000000</td>\n",
       "      <td>12.998000</td>\n",
       "      <td>17.000000</td>\n",
       "      <td>118.000000</td>\n",
       "      <td>145.000000</td>\n",
       "    </tr>\n",
       "    <tr>\n",
       "      <th>75%</th>\n",
       "      <td>4.000000</td>\n",
       "      <td>0.000000</td>\n",
       "      <td>1.000000</td>\n",
       "      <td>2.000000</td>\n",
       "      <td>26.24000</td>\n",
       "      <td>31.060000</td>\n",
       "      <td>77.000000</td>\n",
       "      <td>16.997900</td>\n",
       "      <td>49.000000</td>\n",
       "      <td>222.000000</td>\n",
       "      <td>284.000000</td>\n",
       "    </tr>\n",
       "    <tr>\n",
       "      <th>max</th>\n",
       "      <td>4.000000</td>\n",
       "      <td>1.000000</td>\n",
       "      <td>1.000000</td>\n",
       "      <td>4.000000</td>\n",
       "      <td>41.00000</td>\n",
       "      <td>45.455000</td>\n",
       "      <td>100.000000</td>\n",
       "      <td>56.996900</td>\n",
       "      <td>367.000000</td>\n",
       "      <td>886.000000</td>\n",
       "      <td>977.000000</td>\n",
       "    </tr>\n",
       "  </tbody>\n",
       "</table>\n",
       "</div>"
      ],
      "text/plain": [
       "             season       holiday    workingday       weather         temp  \\\n",
       "count  10886.000000  10886.000000  10886.000000  10886.000000  10886.00000   \n",
       "mean       2.506614      0.028569      0.680875      1.418427     20.23086   \n",
       "std        1.116174      0.166599      0.466159      0.633839      7.79159   \n",
       "min        1.000000      0.000000      0.000000      1.000000      0.82000   \n",
       "25%        2.000000      0.000000      0.000000      1.000000     13.94000   \n",
       "50%        3.000000      0.000000      1.000000      1.000000     20.50000   \n",
       "75%        4.000000      0.000000      1.000000      2.000000     26.24000   \n",
       "max        4.000000      1.000000      1.000000      4.000000     41.00000   \n",
       "\n",
       "              atemp      humidity     windspeed        casual    registered  \\\n",
       "count  10886.000000  10886.000000  10886.000000  10886.000000  10886.000000   \n",
       "mean      23.655084     61.886460     12.799395     36.021955    155.552177   \n",
       "std        8.474601     19.245033      8.164537     49.960477    151.039033   \n",
       "min        0.760000      0.000000      0.000000      0.000000      0.000000   \n",
       "25%       16.665000     47.000000      7.001500      4.000000     36.000000   \n",
       "50%       24.240000     62.000000     12.998000     17.000000    118.000000   \n",
       "75%       31.060000     77.000000     16.997900     49.000000    222.000000   \n",
       "max       45.455000    100.000000     56.996900    367.000000    886.000000   \n",
       "\n",
       "              count  \n",
       "count  10886.000000  \n",
       "mean     191.574132  \n",
       "std      181.144454  \n",
       "min        1.000000  \n",
       "25%       42.000000  \n",
       "50%      145.000000  \n",
       "75%      284.000000  \n",
       "max      977.000000  "
      ]
     },
     "execution_count": 6,
     "metadata": {},
     "output_type": "execute_result"
    }
   ],
   "source": [
    "train.describe()"
   ]
  },
  {
   "cell_type": "code",
   "execution_count": 7,
   "id": "ef713c32",
   "metadata": {
    "execution": {
     "iopub.execute_input": "2023-01-13T08:16:41.111208Z",
     "iopub.status.busy": "2023-01-13T08:16:41.110705Z",
     "iopub.status.idle": "2023-01-13T08:16:41.117267Z",
     "shell.execute_reply": "2023-01-13T08:16:41.116256Z"
    },
    "papermill": {
     "duration": 0.028027,
     "end_time": "2023-01-13T08:16:41.119625",
     "exception": false,
     "start_time": "2023-01-13T08:16:41.091598",
     "status": "completed"
    },
    "tags": []
   },
   "outputs": [],
   "source": [
    "# According to the data field explaination, we can seperate columns into: (not the real Dtype)\n",
    "\n",
    "# numerical columns\n",
    "numeric_cols = ['temp', 'atemp','humidity', 'windspeed']\n",
    "\n",
    "# categorical columns\n",
    "category_cols = ['season', 'holiday', 'weather']\n",
    "\n",
    "# time series column \n",
    "['datetime']\n",
    "\n",
    "# target\n",
    "target = 'count'\n",
    "\n",
    "# casual, registered columns will be dropped\n",
    "\n",
    "# sanity check\n",
    "#assert len(category_cols) + len(numeric_cols) + 1 == train.shape[1]"
   ]
  },
  {
   "cell_type": "markdown",
   "id": "da9eb3b5",
   "metadata": {
    "papermill": {
     "duration": 0.017056,
     "end_time": "2023-01-13T08:16:41.153378",
     "exception": false,
     "start_time": "2023-01-13T08:16:41.136322",
     "status": "completed"
    },
    "tags": []
   },
   "source": [
    "# Parse datetime"
   ]
  },
  {
   "cell_type": "code",
   "execution_count": 8,
   "id": "c72b1f4b",
   "metadata": {
    "execution": {
     "iopub.execute_input": "2023-01-13T08:16:41.188745Z",
     "iopub.status.busy": "2023-01-13T08:16:41.187976Z",
     "iopub.status.idle": "2023-01-13T08:16:41.247190Z",
     "shell.execute_reply": "2023-01-13T08:16:41.245945Z"
    },
    "papermill": {
     "duration": 0.080243,
     "end_time": "2023-01-13T08:16:41.250197",
     "exception": false,
     "start_time": "2023-01-13T08:16:41.169954",
     "status": "completed"
    },
    "tags": []
   },
   "outputs": [
    {
     "data": {
      "text/html": [
       "<div>\n",
       "<style scoped>\n",
       "    .dataframe tbody tr th:only-of-type {\n",
       "        vertical-align: middle;\n",
       "    }\n",
       "\n",
       "    .dataframe tbody tr th {\n",
       "        vertical-align: top;\n",
       "    }\n",
       "\n",
       "    .dataframe thead th {\n",
       "        text-align: right;\n",
       "    }\n",
       "</style>\n",
       "<table border=\"1\" class=\"dataframe\">\n",
       "  <thead>\n",
       "    <tr style=\"text-align: right;\">\n",
       "      <th></th>\n",
       "      <th>datetime</th>\n",
       "      <th>season</th>\n",
       "      <th>holiday</th>\n",
       "      <th>workingday</th>\n",
       "      <th>weather</th>\n",
       "      <th>temp</th>\n",
       "      <th>atemp</th>\n",
       "      <th>humidity</th>\n",
       "      <th>windspeed</th>\n",
       "      <th>casual</th>\n",
       "      <th>registered</th>\n",
       "      <th>count</th>\n",
       "      <th>year</th>\n",
       "      <th>month</th>\n",
       "      <th>day</th>\n",
       "      <th>hour</th>\n",
       "      <th>week</th>\n",
       "      <th>weekday</th>\n",
       "    </tr>\n",
       "  </thead>\n",
       "  <tbody>\n",
       "    <tr>\n",
       "      <th>0</th>\n",
       "      <td>2011-01-01 00:00:00</td>\n",
       "      <td>1</td>\n",
       "      <td>0</td>\n",
       "      <td>0</td>\n",
       "      <td>1</td>\n",
       "      <td>9.84</td>\n",
       "      <td>14.395</td>\n",
       "      <td>81</td>\n",
       "      <td>0.0</td>\n",
       "      <td>3</td>\n",
       "      <td>13</td>\n",
       "      <td>16</td>\n",
       "      <td>2011</td>\n",
       "      <td>1</td>\n",
       "      <td>1</td>\n",
       "      <td>0</td>\n",
       "      <td>52</td>\n",
       "      <td>5</td>\n",
       "    </tr>\n",
       "    <tr>\n",
       "      <th>1</th>\n",
       "      <td>2011-01-01 01:00:00</td>\n",
       "      <td>1</td>\n",
       "      <td>0</td>\n",
       "      <td>0</td>\n",
       "      <td>1</td>\n",
       "      <td>9.02</td>\n",
       "      <td>13.635</td>\n",
       "      <td>80</td>\n",
       "      <td>0.0</td>\n",
       "      <td>8</td>\n",
       "      <td>32</td>\n",
       "      <td>40</td>\n",
       "      <td>2011</td>\n",
       "      <td>1</td>\n",
       "      <td>1</td>\n",
       "      <td>1</td>\n",
       "      <td>52</td>\n",
       "      <td>5</td>\n",
       "    </tr>\n",
       "    <tr>\n",
       "      <th>2</th>\n",
       "      <td>2011-01-01 02:00:00</td>\n",
       "      <td>1</td>\n",
       "      <td>0</td>\n",
       "      <td>0</td>\n",
       "      <td>1</td>\n",
       "      <td>9.02</td>\n",
       "      <td>13.635</td>\n",
       "      <td>80</td>\n",
       "      <td>0.0</td>\n",
       "      <td>5</td>\n",
       "      <td>27</td>\n",
       "      <td>32</td>\n",
       "      <td>2011</td>\n",
       "      <td>1</td>\n",
       "      <td>1</td>\n",
       "      <td>2</td>\n",
       "      <td>52</td>\n",
       "      <td>5</td>\n",
       "    </tr>\n",
       "    <tr>\n",
       "      <th>3</th>\n",
       "      <td>2011-01-01 03:00:00</td>\n",
       "      <td>1</td>\n",
       "      <td>0</td>\n",
       "      <td>0</td>\n",
       "      <td>1</td>\n",
       "      <td>9.84</td>\n",
       "      <td>14.395</td>\n",
       "      <td>75</td>\n",
       "      <td>0.0</td>\n",
       "      <td>3</td>\n",
       "      <td>10</td>\n",
       "      <td>13</td>\n",
       "      <td>2011</td>\n",
       "      <td>1</td>\n",
       "      <td>1</td>\n",
       "      <td>3</td>\n",
       "      <td>52</td>\n",
       "      <td>5</td>\n",
       "    </tr>\n",
       "    <tr>\n",
       "      <th>4</th>\n",
       "      <td>2011-01-01 04:00:00</td>\n",
       "      <td>1</td>\n",
       "      <td>0</td>\n",
       "      <td>0</td>\n",
       "      <td>1</td>\n",
       "      <td>9.84</td>\n",
       "      <td>14.395</td>\n",
       "      <td>75</td>\n",
       "      <td>0.0</td>\n",
       "      <td>0</td>\n",
       "      <td>1</td>\n",
       "      <td>1</td>\n",
       "      <td>2011</td>\n",
       "      <td>1</td>\n",
       "      <td>1</td>\n",
       "      <td>4</td>\n",
       "      <td>52</td>\n",
       "      <td>5</td>\n",
       "    </tr>\n",
       "  </tbody>\n",
       "</table>\n",
       "</div>"
      ],
      "text/plain": [
       "             datetime  season  holiday  workingday  weather  temp   atemp  \\\n",
       "0 2011-01-01 00:00:00       1        0           0        1  9.84  14.395   \n",
       "1 2011-01-01 01:00:00       1        0           0        1  9.02  13.635   \n",
       "2 2011-01-01 02:00:00       1        0           0        1  9.02  13.635   \n",
       "3 2011-01-01 03:00:00       1        0           0        1  9.84  14.395   \n",
       "4 2011-01-01 04:00:00       1        0           0        1  9.84  14.395   \n",
       "\n",
       "   humidity  windspeed  casual  registered  count  year  month  day  hour  \\\n",
       "0        81        0.0       3          13     16  2011      1    1     0   \n",
       "1        80        0.0       8          32     40  2011      1    1     1   \n",
       "2        80        0.0       5          27     32  2011      1    1     2   \n",
       "3        75        0.0       3          10     13  2011      1    1     3   \n",
       "4        75        0.0       0           1      1  2011      1    1     4   \n",
       "\n",
       "   week  weekday  \n",
       "0    52        5  \n",
       "1    52        5  \n",
       "2    52        5  \n",
       "3    52        5  \n",
       "4    52        5  "
      ]
     },
     "execution_count": 8,
     "metadata": {},
     "output_type": "execute_result"
    }
   ],
   "source": [
    "def parse_datetime(df):\n",
    "    df['datetime'] = pd.to_datetime(df['datetime'])\n",
    "    df['year'] = df['datetime'].dt.year\n",
    "    df['month'] = df['datetime'].dt.month\n",
    "    df['day'] = df['datetime'].dt.day\n",
    "    df['hour'] = df['datetime'].dt.hour\n",
    "    # df['time'] = df.datetime.dt.strftime('%H:%M:%S')\n",
    "    # \n",
    "    df['week'] = df['datetime'].dt.isocalendar().week\n",
    "    df['weekday'] = df['datetime'].dt.dayofweek\n",
    "parse_datetime(train)\n",
    "parse_datetime(test)\n",
    "#train.drop(['datetime', 'casual', 'registered'], axis=1, inplace=True)\n",
    "#test.drop(['datetime'], axis=1, inplace=True)\n",
    "train.head()"
   ]
  },
  {
   "cell_type": "markdown",
   "id": "34747b27",
   "metadata": {
    "papermill": {
     "duration": 0.018096,
     "end_time": "2023-01-13T08:16:41.286750",
     "exception": false,
     "start_time": "2023-01-13T08:16:41.268654",
     "status": "completed"
    },
    "tags": []
   },
   "source": [
    "# Missing values"
   ]
  },
  {
   "cell_type": "code",
   "execution_count": 9,
   "id": "0c993c17",
   "metadata": {
    "execution": {
     "iopub.execute_input": "2023-01-13T08:16:41.324612Z",
     "iopub.status.busy": "2023-01-13T08:16:41.324127Z",
     "iopub.status.idle": "2023-01-13T08:16:41.353565Z",
     "shell.execute_reply": "2023-01-13T08:16:41.352211Z"
    },
    "papermill": {
     "duration": 0.05201,
     "end_time": "2023-01-13T08:16:41.356506",
     "exception": false,
     "start_time": "2023-01-13T08:16:41.304496",
     "status": "completed"
    },
    "tags": []
   },
   "outputs": [
    {
     "data": {
      "text/html": [
       "<div>\n",
       "<style scoped>\n",
       "    .dataframe tbody tr th:only-of-type {\n",
       "        vertical-align: middle;\n",
       "    }\n",
       "\n",
       "    .dataframe tbody tr th {\n",
       "        vertical-align: top;\n",
       "    }\n",
       "\n",
       "    .dataframe thead th {\n",
       "        text-align: right;\n",
       "    }\n",
       "</style>\n",
       "<table border=\"1\" class=\"dataframe\">\n",
       "  <thead>\n",
       "    <tr style=\"text-align: right;\">\n",
       "      <th></th>\n",
       "      <th>missNum</th>\n",
       "      <th>missPercent</th>\n",
       "    </tr>\n",
       "  </thead>\n",
       "  <tbody>\n",
       "    <tr>\n",
       "      <th>datetime</th>\n",
       "      <td>0</td>\n",
       "      <td>0.0</td>\n",
       "    </tr>\n",
       "    <tr>\n",
       "      <th>season</th>\n",
       "      <td>0</td>\n",
       "      <td>0.0</td>\n",
       "    </tr>\n",
       "    <tr>\n",
       "      <th>week</th>\n",
       "      <td>0</td>\n",
       "      <td>0.0</td>\n",
       "    </tr>\n",
       "    <tr>\n",
       "      <th>hour</th>\n",
       "      <td>0</td>\n",
       "      <td>0.0</td>\n",
       "    </tr>\n",
       "    <tr>\n",
       "      <th>day</th>\n",
       "      <td>0</td>\n",
       "      <td>0.0</td>\n",
       "    </tr>\n",
       "    <tr>\n",
       "      <th>month</th>\n",
       "      <td>0</td>\n",
       "      <td>0.0</td>\n",
       "    </tr>\n",
       "    <tr>\n",
       "      <th>year</th>\n",
       "      <td>0</td>\n",
       "      <td>0.0</td>\n",
       "    </tr>\n",
       "    <tr>\n",
       "      <th>count</th>\n",
       "      <td>0</td>\n",
       "      <td>0.0</td>\n",
       "    </tr>\n",
       "    <tr>\n",
       "      <th>registered</th>\n",
       "      <td>0</td>\n",
       "      <td>0.0</td>\n",
       "    </tr>\n",
       "    <tr>\n",
       "      <th>casual</th>\n",
       "      <td>0</td>\n",
       "      <td>0.0</td>\n",
       "    </tr>\n",
       "    <tr>\n",
       "      <th>windspeed</th>\n",
       "      <td>0</td>\n",
       "      <td>0.0</td>\n",
       "    </tr>\n",
       "    <tr>\n",
       "      <th>humidity</th>\n",
       "      <td>0</td>\n",
       "      <td>0.0</td>\n",
       "    </tr>\n",
       "    <tr>\n",
       "      <th>atemp</th>\n",
       "      <td>0</td>\n",
       "      <td>0.0</td>\n",
       "    </tr>\n",
       "    <tr>\n",
       "      <th>temp</th>\n",
       "      <td>0</td>\n",
       "      <td>0.0</td>\n",
       "    </tr>\n",
       "    <tr>\n",
       "      <th>weather</th>\n",
       "      <td>0</td>\n",
       "      <td>0.0</td>\n",
       "    </tr>\n",
       "    <tr>\n",
       "      <th>workingday</th>\n",
       "      <td>0</td>\n",
       "      <td>0.0</td>\n",
       "    </tr>\n",
       "    <tr>\n",
       "      <th>holiday</th>\n",
       "      <td>0</td>\n",
       "      <td>0.0</td>\n",
       "    </tr>\n",
       "    <tr>\n",
       "      <th>weekday</th>\n",
       "      <td>0</td>\n",
       "      <td>0.0</td>\n",
       "    </tr>\n",
       "  </tbody>\n",
       "</table>\n",
       "</div>"
      ],
      "text/plain": [
       "            missNum  missPercent\n",
       "datetime          0          0.0\n",
       "season            0          0.0\n",
       "week              0          0.0\n",
       "hour              0          0.0\n",
       "day               0          0.0\n",
       "month             0          0.0\n",
       "year              0          0.0\n",
       "count             0          0.0\n",
       "registered        0          0.0\n",
       "casual            0          0.0\n",
       "windspeed         0          0.0\n",
       "humidity          0          0.0\n",
       "atemp             0          0.0\n",
       "temp              0          0.0\n",
       "weather           0          0.0\n",
       "workingday        0          0.0\n",
       "holiday           0          0.0\n",
       "weekday           0          0.0"
      ]
     },
     "execution_count": 9,
     "metadata": {},
     "output_type": "execute_result"
    }
   ],
   "source": [
    "def missing (df):\n",
    "    \"\"\"\n",
    "    calculate % missing value for each column\n",
    "    \"\"\"\n",
    "    missing_number = df.isnull().sum().sort_values(ascending=False)                              \n",
    "    missing_percent = (df.isnull().sum()/df.isnull().count()).sort_values(ascending=False)         \n",
    "    missing_values = pd.concat([missing_number, missing_percent], axis=1, keys=['missNum', 'missPercent'])   \n",
    "    return missing_values\n",
    "\n",
    "missing(train)"
   ]
  },
  {
   "cell_type": "markdown",
   "id": "89d48f97",
   "metadata": {
    "papermill": {
     "duration": 0.017926,
     "end_time": "2023-01-13T08:16:41.392678",
     "exception": false,
     "start_time": "2023-01-13T08:16:41.374752",
     "status": "completed"
    },
    "tags": []
   },
   "source": [
    "## Detect special missing value like 0"
   ]
  },
  {
   "cell_type": "markdown",
   "id": "51fe7b62",
   "metadata": {
    "papermill": {
     "duration": 0.016822,
     "end_time": "2023-01-13T08:16:41.427686",
     "exception": false,
     "start_time": "2023-01-13T08:16:41.410864",
     "status": "completed"
    },
    "tags": []
   },
   "source": [
    "The absence of a missing value only means that there is no None or Nan in the dataset, and does not exclude the possibility that other values may be used to represent missing values such as 0,-9999, \"None\", \" \". From the describe table below, we noticed that 'humidity' and 'windspeed' have value 0"
   ]
  },
  {
   "cell_type": "code",
   "execution_count": 10,
   "id": "913050df",
   "metadata": {
    "execution": {
     "iopub.execute_input": "2023-01-13T08:16:41.464202Z",
     "iopub.status.busy": "2023-01-13T08:16:41.463735Z",
     "iopub.status.idle": "2023-01-13T08:16:41.544761Z",
     "shell.execute_reply": "2023-01-13T08:16:41.543019Z"
    },
    "papermill": {
     "duration": 0.10396,
     "end_time": "2023-01-13T08:16:41.548539",
     "exception": false,
     "start_time": "2023-01-13T08:16:41.444579",
     "status": "completed"
    },
    "tags": []
   },
   "outputs": [
    {
     "data": {
      "text/html": [
       "<div>\n",
       "<style scoped>\n",
       "    .dataframe tbody tr th:only-of-type {\n",
       "        vertical-align: middle;\n",
       "    }\n",
       "\n",
       "    .dataframe tbody tr th {\n",
       "        vertical-align: top;\n",
       "    }\n",
       "\n",
       "    .dataframe thead th {\n",
       "        text-align: right;\n",
       "    }\n",
       "</style>\n",
       "<table border=\"1\" class=\"dataframe\">\n",
       "  <thead>\n",
       "    <tr style=\"text-align: right;\">\n",
       "      <th></th>\n",
       "      <th>season</th>\n",
       "      <th>holiday</th>\n",
       "      <th>workingday</th>\n",
       "      <th>weather</th>\n",
       "      <th>temp</th>\n",
       "      <th>atemp</th>\n",
       "      <th>humidity</th>\n",
       "      <th>windspeed</th>\n",
       "      <th>casual</th>\n",
       "      <th>registered</th>\n",
       "      <th>count</th>\n",
       "      <th>year</th>\n",
       "      <th>month</th>\n",
       "      <th>day</th>\n",
       "      <th>hour</th>\n",
       "      <th>week</th>\n",
       "      <th>weekday</th>\n",
       "    </tr>\n",
       "  </thead>\n",
       "  <tbody>\n",
       "    <tr>\n",
       "      <th>count</th>\n",
       "      <td>10886.000000</td>\n",
       "      <td>10886.000000</td>\n",
       "      <td>10886.000000</td>\n",
       "      <td>10886.000000</td>\n",
       "      <td>10886.00000</td>\n",
       "      <td>10886.000000</td>\n",
       "      <td>10886.000000</td>\n",
       "      <td>10886.000000</td>\n",
       "      <td>10886.000000</td>\n",
       "      <td>10886.000000</td>\n",
       "      <td>10886.000000</td>\n",
       "      <td>10886.000000</td>\n",
       "      <td>10886.000000</td>\n",
       "      <td>10886.000000</td>\n",
       "      <td>10886.000000</td>\n",
       "      <td>10886.000000</td>\n",
       "      <td>10886.000000</td>\n",
       "    </tr>\n",
       "    <tr>\n",
       "      <th>mean</th>\n",
       "      <td>2.506614</td>\n",
       "      <td>0.028569</td>\n",
       "      <td>0.680875</td>\n",
       "      <td>1.418427</td>\n",
       "      <td>20.23086</td>\n",
       "      <td>23.655084</td>\n",
       "      <td>61.886460</td>\n",
       "      <td>12.799395</td>\n",
       "      <td>36.021955</td>\n",
       "      <td>155.552177</td>\n",
       "      <td>191.574132</td>\n",
       "      <td>2011.501929</td>\n",
       "      <td>6.521495</td>\n",
       "      <td>9.992559</td>\n",
       "      <td>11.541613</td>\n",
       "      <td>25.917784</td>\n",
       "      <td>3.013963</td>\n",
       "    </tr>\n",
       "    <tr>\n",
       "      <th>std</th>\n",
       "      <td>1.116174</td>\n",
       "      <td>0.166599</td>\n",
       "      <td>0.466159</td>\n",
       "      <td>0.633839</td>\n",
       "      <td>7.79159</td>\n",
       "      <td>8.474601</td>\n",
       "      <td>19.245033</td>\n",
       "      <td>8.164537</td>\n",
       "      <td>49.960477</td>\n",
       "      <td>151.039033</td>\n",
       "      <td>181.144454</td>\n",
       "      <td>0.500019</td>\n",
       "      <td>3.444373</td>\n",
       "      <td>5.476608</td>\n",
       "      <td>6.915838</td>\n",
       "      <td>15.017269</td>\n",
       "      <td>2.004585</td>\n",
       "    </tr>\n",
       "    <tr>\n",
       "      <th>min</th>\n",
       "      <td>1.000000</td>\n",
       "      <td>0.000000</td>\n",
       "      <td>0.000000</td>\n",
       "      <td>1.000000</td>\n",
       "      <td>0.82000</td>\n",
       "      <td>0.760000</td>\n",
       "      <td>0.000000</td>\n",
       "      <td>0.000000</td>\n",
       "      <td>0.000000</td>\n",
       "      <td>0.000000</td>\n",
       "      <td>1.000000</td>\n",
       "      <td>2011.000000</td>\n",
       "      <td>1.000000</td>\n",
       "      <td>1.000000</td>\n",
       "      <td>0.000000</td>\n",
       "      <td>1.000000</td>\n",
       "      <td>0.000000</td>\n",
       "    </tr>\n",
       "    <tr>\n",
       "      <th>25%</th>\n",
       "      <td>2.000000</td>\n",
       "      <td>0.000000</td>\n",
       "      <td>0.000000</td>\n",
       "      <td>1.000000</td>\n",
       "      <td>13.94000</td>\n",
       "      <td>16.665000</td>\n",
       "      <td>47.000000</td>\n",
       "      <td>7.001500</td>\n",
       "      <td>4.000000</td>\n",
       "      <td>36.000000</td>\n",
       "      <td>42.000000</td>\n",
       "      <td>2011.000000</td>\n",
       "      <td>4.000000</td>\n",
       "      <td>5.000000</td>\n",
       "      <td>6.000000</td>\n",
       "      <td>14.000000</td>\n",
       "      <td>1.000000</td>\n",
       "    </tr>\n",
       "    <tr>\n",
       "      <th>50%</th>\n",
       "      <td>3.000000</td>\n",
       "      <td>0.000000</td>\n",
       "      <td>1.000000</td>\n",
       "      <td>1.000000</td>\n",
       "      <td>20.50000</td>\n",
       "      <td>24.240000</td>\n",
       "      <td>62.000000</td>\n",
       "      <td>12.998000</td>\n",
       "      <td>17.000000</td>\n",
       "      <td>118.000000</td>\n",
       "      <td>145.000000</td>\n",
       "      <td>2012.000000</td>\n",
       "      <td>7.000000</td>\n",
       "      <td>10.000000</td>\n",
       "      <td>12.000000</td>\n",
       "      <td>26.000000</td>\n",
       "      <td>3.000000</td>\n",
       "    </tr>\n",
       "    <tr>\n",
       "      <th>75%</th>\n",
       "      <td>4.000000</td>\n",
       "      <td>0.000000</td>\n",
       "      <td>1.000000</td>\n",
       "      <td>2.000000</td>\n",
       "      <td>26.24000</td>\n",
       "      <td>31.060000</td>\n",
       "      <td>77.000000</td>\n",
       "      <td>16.997900</td>\n",
       "      <td>49.000000</td>\n",
       "      <td>222.000000</td>\n",
       "      <td>284.000000</td>\n",
       "      <td>2012.000000</td>\n",
       "      <td>10.000000</td>\n",
       "      <td>15.000000</td>\n",
       "      <td>18.000000</td>\n",
       "      <td>40.000000</td>\n",
       "      <td>5.000000</td>\n",
       "    </tr>\n",
       "    <tr>\n",
       "      <th>max</th>\n",
       "      <td>4.000000</td>\n",
       "      <td>1.000000</td>\n",
       "      <td>1.000000</td>\n",
       "      <td>4.000000</td>\n",
       "      <td>41.00000</td>\n",
       "      <td>45.455000</td>\n",
       "      <td>100.000000</td>\n",
       "      <td>56.996900</td>\n",
       "      <td>367.000000</td>\n",
       "      <td>886.000000</td>\n",
       "      <td>977.000000</td>\n",
       "      <td>2012.000000</td>\n",
       "      <td>12.000000</td>\n",
       "      <td>19.000000</td>\n",
       "      <td>23.000000</td>\n",
       "      <td>52.000000</td>\n",
       "      <td>6.000000</td>\n",
       "    </tr>\n",
       "  </tbody>\n",
       "</table>\n",
       "</div>"
      ],
      "text/plain": [
       "             season       holiday    workingday       weather         temp  \\\n",
       "count  10886.000000  10886.000000  10886.000000  10886.000000  10886.00000   \n",
       "mean       2.506614      0.028569      0.680875      1.418427     20.23086   \n",
       "std        1.116174      0.166599      0.466159      0.633839      7.79159   \n",
       "min        1.000000      0.000000      0.000000      1.000000      0.82000   \n",
       "25%        2.000000      0.000000      0.000000      1.000000     13.94000   \n",
       "50%        3.000000      0.000000      1.000000      1.000000     20.50000   \n",
       "75%        4.000000      0.000000      1.000000      2.000000     26.24000   \n",
       "max        4.000000      1.000000      1.000000      4.000000     41.00000   \n",
       "\n",
       "              atemp      humidity     windspeed        casual    registered  \\\n",
       "count  10886.000000  10886.000000  10886.000000  10886.000000  10886.000000   \n",
       "mean      23.655084     61.886460     12.799395     36.021955    155.552177   \n",
       "std        8.474601     19.245033      8.164537     49.960477    151.039033   \n",
       "min        0.760000      0.000000      0.000000      0.000000      0.000000   \n",
       "25%       16.665000     47.000000      7.001500      4.000000     36.000000   \n",
       "50%       24.240000     62.000000     12.998000     17.000000    118.000000   \n",
       "75%       31.060000     77.000000     16.997900     49.000000    222.000000   \n",
       "max       45.455000    100.000000     56.996900    367.000000    886.000000   \n",
       "\n",
       "              count          year         month           day          hour  \\\n",
       "count  10886.000000  10886.000000  10886.000000  10886.000000  10886.000000   \n",
       "mean     191.574132   2011.501929      6.521495      9.992559     11.541613   \n",
       "std      181.144454      0.500019      3.444373      5.476608      6.915838   \n",
       "min        1.000000   2011.000000      1.000000      1.000000      0.000000   \n",
       "25%       42.000000   2011.000000      4.000000      5.000000      6.000000   \n",
       "50%      145.000000   2012.000000      7.000000     10.000000     12.000000   \n",
       "75%      284.000000   2012.000000     10.000000     15.000000     18.000000   \n",
       "max      977.000000   2012.000000     12.000000     19.000000     23.000000   \n",
       "\n",
       "               week       weekday  \n",
       "count  10886.000000  10886.000000  \n",
       "mean      25.917784      3.013963  \n",
       "std       15.017269      2.004585  \n",
       "min        1.000000      0.000000  \n",
       "25%       14.000000      1.000000  \n",
       "50%       26.000000      3.000000  \n",
       "75%       40.000000      5.000000  \n",
       "max       52.000000      6.000000  "
      ]
     },
     "execution_count": 10,
     "metadata": {},
     "output_type": "execute_result"
    }
   ],
   "source": [
    "train.describe()"
   ]
  },
  {
   "cell_type": "code",
   "execution_count": 11,
   "id": "32892282",
   "metadata": {
    "execution": {
     "iopub.execute_input": "2023-01-13T08:16:41.589010Z",
     "iopub.status.busy": "2023-01-13T08:16:41.588167Z",
     "iopub.status.idle": "2023-01-13T08:16:41.601673Z",
     "shell.execute_reply": "2023-01-13T08:16:41.599776Z"
    },
    "papermill": {
     "duration": 0.038145,
     "end_time": "2023-01-13T08:16:41.604547",
     "exception": false,
     "start_time": "2023-01-13T08:16:41.566402",
     "status": "completed"
    },
    "tags": []
   },
   "outputs": [
    {
     "name": "stdout",
     "output_type": "stream",
     "text": [
      "season: [1 2 3 4]\n",
      "holiday: [0 1]\n",
      "weather: [1 2 3 4]\n"
     ]
    }
   ],
   "source": [
    "for feature in train[category_cols]:\n",
    "        print(f'{feature}: {train[feature].unique()}')"
   ]
  },
  {
   "cell_type": "markdown",
   "id": "0111a22d",
   "metadata": {
    "papermill": {
     "duration": 0.019658,
     "end_time": "2023-01-13T08:16:41.643137",
     "exception": false,
     "start_time": "2023-01-13T08:16:41.623479",
     "status": "completed"
    },
    "tags": []
   },
   "source": [
    "Season, Holiday and weather don't have missing values"
   ]
  },
  {
   "cell_type": "code",
   "execution_count": 12,
   "id": "bf1275c1",
   "metadata": {
    "execution": {
     "iopub.execute_input": "2023-01-13T08:16:41.681452Z",
     "iopub.status.busy": "2023-01-13T08:16:41.680963Z",
     "iopub.status.idle": "2023-01-13T08:16:41.695823Z",
     "shell.execute_reply": "2023-01-13T08:16:41.694502Z"
    },
    "papermill": {
     "duration": 0.037474,
     "end_time": "2023-01-13T08:16:41.698862",
     "exception": false,
     "start_time": "2023-01-13T08:16:41.661388",
     "status": "completed"
    },
    "tags": []
   },
   "outputs": [
    {
     "name": "stdout",
     "output_type": "stream",
     "text": [
      "-1\n",
      "-1\n",
      "-1\n",
      "-1\n"
     ]
    }
   ],
   "source": [
    "# check if space \" \" is used to represent missing value\n",
    "def find_index(data_col, val):\n",
    "    \"\"\"\n",
    "    Query the index of the first occurrence of a value in a column, or -1 if none\n",
    "    \"\"\"\n",
    "    val_list = [val]\n",
    "    if data_col.isin(val_list).sum() == 0:\n",
    "        index = -1\n",
    "    else:\n",
    "        index = data_col.isin(val_list).idxmax()\n",
    "    return index\n",
    "\n",
    "for col in numeric_cols:\n",
    "    print(find_index(train[col], \" \"))\n",
    "    \n",
    "# None"
   ]
  },
  {
   "cell_type": "code",
   "execution_count": 13,
   "id": "3d562d67",
   "metadata": {
    "execution": {
     "iopub.execute_input": "2023-01-13T08:16:41.739459Z",
     "iopub.status.busy": "2023-01-13T08:16:41.737795Z",
     "iopub.status.idle": "2023-01-13T08:16:41.763422Z",
     "shell.execute_reply": "2023-01-13T08:16:41.761785Z"
    },
    "papermill": {
     "duration": 0.04828,
     "end_time": "2023-01-13T08:16:41.766462",
     "exception": false,
     "start_time": "2023-01-13T08:16:41.718182",
     "status": "completed"
    },
    "tags": []
   },
   "outputs": [
    {
     "data": {
      "text/html": [
       "<div>\n",
       "<style scoped>\n",
       "    .dataframe tbody tr th:only-of-type {\n",
       "        vertical-align: middle;\n",
       "    }\n",
       "\n",
       "    .dataframe tbody tr th {\n",
       "        vertical-align: top;\n",
       "    }\n",
       "\n",
       "    .dataframe thead th {\n",
       "        text-align: right;\n",
       "    }\n",
       "</style>\n",
       "<table border=\"1\" class=\"dataframe\">\n",
       "  <thead>\n",
       "    <tr style=\"text-align: right;\">\n",
       "      <th></th>\n",
       "      <th>cols</th>\n",
       "      <th>is_0</th>\n",
       "    </tr>\n",
       "  </thead>\n",
       "  <tbody>\n",
       "    <tr>\n",
       "      <th>0</th>\n",
       "      <td>temp</td>\n",
       "      <td>-1</td>\n",
       "    </tr>\n",
       "    <tr>\n",
       "      <th>1</th>\n",
       "      <td>atemp</td>\n",
       "      <td>-1</td>\n",
       "    </tr>\n",
       "    <tr>\n",
       "      <th>2</th>\n",
       "      <td>humidity</td>\n",
       "      <td>1091</td>\n",
       "    </tr>\n",
       "    <tr>\n",
       "      <th>3</th>\n",
       "      <td>windspeed</td>\n",
       "      <td>0</td>\n",
       "    </tr>\n",
       "  </tbody>\n",
       "</table>\n",
       "</div>"
      ],
      "text/plain": [
       "        cols  is_0\n",
       "0       temp    -1\n",
       "1      atemp    -1\n",
       "2   humidity  1091\n",
       "3  windspeed     0"
      ]
     },
     "execution_count": 13,
     "metadata": {},
     "output_type": "execute_result"
    }
   ],
   "source": [
    "# check if space 0 is used to represent missing value\n",
    "def find_index(data_col, val):\n",
    "    \"\"\"\n",
    "    Query the index of the first occurrence of a value in a column, or -1 if none\n",
    "    \"\"\"\n",
    "    val_list = [val]\n",
    "    if data_col.isin(val_list).sum() == 0:\n",
    "        index = -1\n",
    "    else:\n",
    "        index = data_col.isin(val_list).idxmax()\n",
    "    return index\n",
    "\n",
    "is_0 = []\n",
    "for col in numeric_cols:\n",
    "    is_0.append(find_index(train[col], 0))\n",
    "\n",
    "numeric_cols = ['temp', 'atemp','humidity', 'windspeed']\n",
    "missing_check_0 = pd.DataFrame({'cols': numeric_cols, 'is_0': is_0})\n",
    "missing_check_0\n"
   ]
  },
  {
   "cell_type": "code",
   "execution_count": 14,
   "id": "43757770",
   "metadata": {
    "execution": {
     "iopub.execute_input": "2023-01-13T08:16:41.804972Z",
     "iopub.status.busy": "2023-01-13T08:16:41.803878Z",
     "iopub.status.idle": "2023-01-13T08:16:41.812747Z",
     "shell.execute_reply": "2023-01-13T08:16:41.811415Z"
    },
    "papermill": {
     "duration": 0.030738,
     "end_time": "2023-01-13T08:16:41.815350",
     "exception": false,
     "start_time": "2023-01-13T08:16:41.784612",
     "status": "completed"
    },
    "tags": []
   },
   "outputs": [
    {
     "name": "stdout",
     "output_type": "stream",
     "text": [
      "[ 0.      6.0032 16.9979 19.0012 19.9995 12.998  15.0013  8.9981 11.0014\n",
      " 22.0028 30.0026 23.9994 27.9993 26.0027  7.0015 32.9975 36.9974 31.0009\n",
      " 35.0008 39.0007 43.9989 40.9973 51.9987 46.0022 50.0021 43.0006 56.9969\n",
      " 47.9988]\n",
      "[ 81  80  75  86  76  77  72  82  88  87  94 100  71  66  57  46  42  39\n",
      "  44  47  50  43  40  35  30  32  64  69  55  59  63  68  74  51  56  52\n",
      "  49  48  37  33  28  38  36  93  29  53  34  54  41  45  92  62  58  61\n",
      "  60  65  70  27  25  26  31  73  21  24  23  22  19  15  67  10   8  12\n",
      "  14  13  17  16  18  20  85   0  83  84  78  79  89  97  90  96  91]\n"
     ]
    }
   ],
   "source": [
    "print(train['windspeed'].unique())\n",
    "print(train['humidity'].unique())"
   ]
  },
  {
   "cell_type": "markdown",
   "id": "d4efcec7",
   "metadata": {
    "papermill": {
     "duration": 0.017531,
     "end_time": "2023-01-13T08:16:41.850747",
     "exception": false,
     "start_time": "2023-01-13T08:16:41.833216",
     "status": "completed"
    },
    "tags": []
   },
   "source": [
    "We successfully found out that humidity and windspeed columns has 0 which not make sense in real life. So we should consider 0 as missing values representation."
   ]
  },
  {
   "cell_type": "code",
   "execution_count": 15,
   "id": "64ee7528",
   "metadata": {
    "execution": {
     "iopub.execute_input": "2023-01-13T08:16:41.890873Z",
     "iopub.status.busy": "2023-01-13T08:16:41.889063Z",
     "iopub.status.idle": "2023-01-13T08:16:41.904516Z",
     "shell.execute_reply": "2023-01-13T08:16:41.902960Z"
    },
    "papermill": {
     "duration": 0.039968,
     "end_time": "2023-01-13T08:16:41.908375",
     "exception": false,
     "start_time": "2023-01-13T08:16:41.868407",
     "status": "completed"
    },
    "tags": []
   },
   "outputs": [
    {
     "name": "stdout",
     "output_type": "stream",
     "text": [
      "There are 1313 missing values in windspeed column so missing percentage is 0.1206\n",
      "There are 22 missing values in humidity column so missing percentage is 0.002\n"
     ]
    }
   ],
   "source": [
    "def zero_missing_percent(data, miss_col):\n",
    "    miss_num = train[train[miss_col]==0].shape[0]\n",
    "    miss_pct = round(miss_num/train.shape[0],4)\n",
    "    print(f\"There are {miss_num} missing values in {miss_col} column so missing percentage is {miss_pct}\")\n",
    "\n",
    "zero_missing_percent(train, 'windspeed')\n",
    "zero_missing_percent(train, 'humidity')"
   ]
  },
  {
   "cell_type": "markdown",
   "id": "55115901",
   "metadata": {
    "papermill": {
     "duration": 0.019427,
     "end_time": "2023-01-13T08:16:41.947054",
     "exception": false,
     "start_time": "2023-01-13T08:16:41.927627",
     "status": "completed"
    },
    "tags": []
   },
   "source": [
    "There are many ways to impute missing values. Let's use random forest tree model to predict missing values in windspeed column."
   ]
  },
  {
   "cell_type": "code",
   "execution_count": 16,
   "id": "7dc63206",
   "metadata": {
    "execution": {
     "iopub.execute_input": "2023-01-13T08:16:41.988019Z",
     "iopub.status.busy": "2023-01-13T08:16:41.986989Z",
     "iopub.status.idle": "2023-01-13T08:16:58.341436Z",
     "shell.execute_reply": "2023-01-13T08:16:58.339878Z"
    },
    "papermill": {
     "duration": 16.379283,
     "end_time": "2023-01-13T08:16:58.344718",
     "exception": false,
     "start_time": "2023-01-13T08:16:41.965435",
     "status": "completed"
    },
    "tags": []
   },
   "outputs": [],
   "source": [
    "from sklearn.ensemble import RandomForestClassifier\n",
    "def wind_0_fill(df):\n",
    "    wind_0 = df[df['windspeed']==0]\n",
    "    wind_not0 = df[df['windspeed']!=0]\n",
    "    y_label = wind_not0['windspeed']\n",
    "    rfc = RandomForestClassifier(n_estimators=1000,max_depth=10,random_state=0)\n",
    "    windcolunms = ['season', 'weather', 'temp', 'atemp', 'humidity', 'hour', 'month']\n",
    "    rfc.fit(wind_not0[windcolunms], y_label.astype('int'))\n",
    "    pred_y = rfc.predict(wind_0[windcolunms])\n",
    "    wind_0['windspeed'] = pred_y\n",
    "    df_rfw = wind_not0.append(wind_0)\n",
    "    df_rfw.reset_index(inplace=True)\n",
    "    return df_rfw\n",
    "train = wind_0_fill(train)\n",
    "test = wind_0_fill(test)"
   ]
  },
  {
   "cell_type": "markdown",
   "id": "da365a74",
   "metadata": {
    "papermill": {
     "duration": 0.0176,
     "end_time": "2023-01-13T08:16:58.380692",
     "exception": false,
     "start_time": "2023-01-13T08:16:58.363092",
     "status": "completed"
    },
    "tags": []
   },
   "source": [
    "# outliers"
   ]
  },
  {
   "cell_type": "code",
   "execution_count": 17,
   "id": "e3098eed",
   "metadata": {
    "execution": {
     "iopub.execute_input": "2023-01-13T08:16:58.421045Z",
     "iopub.status.busy": "2023-01-13T08:16:58.420483Z",
     "iopub.status.idle": "2023-01-13T08:16:58.434534Z",
     "shell.execute_reply": "2023-01-13T08:16:58.433251Z"
    },
    "papermill": {
     "duration": 0.038392,
     "end_time": "2023-01-13T08:16:58.437152",
     "exception": false,
     "start_time": "2023-01-13T08:16:58.398760",
     "status": "completed"
    },
    "tags": []
   },
   "outputs": [
    {
     "data": {
      "text/plain": [
       "count    10886.000000\n",
       "mean       191.574132\n",
       "std        181.144454\n",
       "min          1.000000\n",
       "25%         42.000000\n",
       "50%        145.000000\n",
       "75%        284.000000\n",
       "max        977.000000\n",
       "Name: count, dtype: float64"
      ]
     },
     "execution_count": 17,
     "metadata": {},
     "output_type": "execute_result"
    }
   ],
   "source": [
    "train['count'].describe()"
   ]
  },
  {
   "cell_type": "code",
   "execution_count": 18,
   "id": "e3c0f04c",
   "metadata": {
    "execution": {
     "iopub.execute_input": "2023-01-13T08:16:58.476427Z",
     "iopub.status.busy": "2023-01-13T08:16:58.475621Z",
     "iopub.status.idle": "2023-01-13T08:16:58.484564Z",
     "shell.execute_reply": "2023-01-13T08:16:58.483431Z"
    },
    "papermill": {
     "duration": 0.032295,
     "end_time": "2023-01-13T08:16:58.487603",
     "exception": false,
     "start_time": "2023-01-13T08:16:58.455308",
     "status": "completed"
    },
    "tags": []
   },
   "outputs": [],
   "source": [
    "def detect_outliers_3sigma(data):\n",
    "    # calculate the mean and standard deviation of the data\n",
    "    mean = np.mean(data)\n",
    "    std = np.std(data)\n",
    "    \n",
    "    # define the cutoff for what constitutes an outlier\n",
    "    cutoff = 3 * std\n",
    "    \n",
    "    # boxplot\n",
    "    sn.boxplot(data, orient=\"v\")\n",
    "    plt.show()\n",
    "    \n",
    "    # print lower, upper boundry\n",
    "    lower, upper = mean-3*std, mean+3*std\n",
    "    print(f\"The lower/upper boundary is {lower}/{upper}\")\n",
    "    \n",
    "    # identify outliers\n",
    "    outliers = [x for x in data if np.abs(x - mean) > cutoff]\n",
    "    print(f\"There are {len(outliers)} outliers based on 3-sigma rule\")\n",
    "    #return outliers\n"
   ]
  },
  {
   "cell_type": "code",
   "execution_count": 19,
   "id": "2e969e64",
   "metadata": {
    "execution": {
     "iopub.execute_input": "2023-01-13T08:16:58.535494Z",
     "iopub.status.busy": "2023-01-13T08:16:58.534847Z",
     "iopub.status.idle": "2023-01-13T08:16:58.742197Z",
     "shell.execute_reply": "2023-01-13T08:16:58.740997Z"
    },
    "papermill": {
     "duration": 0.239536,
     "end_time": "2023-01-13T08:16:58.746054",
     "exception": false,
     "start_time": "2023-01-13T08:16:58.506518",
     "status": "completed"
    },
    "tags": []
   },
   "outputs": [
    {
     "name": "stderr",
     "output_type": "stream",
     "text": [
      "/opt/conda/lib/python3.7/site-packages/seaborn/_decorators.py:43: FutureWarning: Pass the following variable as a keyword arg: x. From version 0.12, the only valid positional argument will be `data`, and passing other arguments without an explicit keyword will result in an error or misinterpretation.\n",
      "  FutureWarning\n",
      "/opt/conda/lib/python3.7/site-packages/seaborn/_core.py:1326: UserWarning: Vertical orientation ignored with only `x` specified.\n",
      "  warnings.warn(single_var_warning.format(\"Vertical\", \"x\"))\n"
     ]
    },
    {
     "data": {
      "image/png": "[encoded data removed]",
      "text/plain": [
       "<Figure size 432x288 with 1 Axes>"
      ]
     },
     "metadata": {
      "needs_background": "light"
     },
     "output_type": "display_data"
    },
    {
     "name": "stdout",
     "output_type": "stream",
     "text": [
      "The lower/upper boundary is -351.8342688102495/734.9825326353459\n",
      "There are 147 outliers based on 3-sigma rule\n"
     ]
    }
   ],
   "source": [
    "detect_outliers_3sigma(train['count'])"
   ]
  },
  {
   "cell_type": "code",
   "execution_count": 20,
   "id": "0ce1ffec",
   "metadata": {
    "execution": {
     "iopub.execute_input": "2023-01-13T08:16:58.789026Z",
     "iopub.status.busy": "2023-01-13T08:16:58.788117Z",
     "iopub.status.idle": "2023-01-13T08:16:58.795537Z",
     "shell.execute_reply": "2023-01-13T08:16:58.794470Z"
    },
    "papermill": {
     "duration": 0.032353,
     "end_time": "2023-01-13T08:16:58.798121",
     "exception": false,
     "start_time": "2023-01-13T08:16:58.765768",
     "status": "completed"
    },
    "tags": []
   },
   "outputs": [],
   "source": [
    "def delete_outliers(data, df):\n",
    "    original_shape = df.shape\n",
    "    mean = np.mean(data)\n",
    "    std = np.std(data)\n",
    "    outliers=np.abs(data-mean) > (3*std)\n",
    "    outliers_num = len(train[outliers])\n",
    "    df.drop(index=data[outliers].index, inplace=True)\n",
    "    print(\"Have already deleted\",outliers_num,\"outliers\")\n",
    "    print (\"Shape Before Delete Ouliers: \",original_shape)\n",
    "    print (\"Shape After Delete Ouliers: \",df.shape)"
   ]
  },
  {
   "cell_type": "code",
   "execution_count": 21,
   "id": "083e2583",
   "metadata": {
    "execution": {
     "iopub.execute_input": "2023-01-13T08:16:58.837832Z",
     "iopub.status.busy": "2023-01-13T08:16:58.837131Z",
     "iopub.status.idle": "2023-01-13T08:16:58.850731Z",
     "shell.execute_reply": "2023-01-13T08:16:58.849462Z"
    },
    "papermill": {
     "duration": 0.037431,
     "end_time": "2023-01-13T08:16:58.854048",
     "exception": false,
     "start_time": "2023-01-13T08:16:58.816617",
     "status": "completed"
    },
    "tags": []
   },
   "outputs": [
    {
     "name": "stdout",
     "output_type": "stream",
     "text": [
      "Have already deleted 147 outliers\n",
      "Shape Before Delete Ouliers:  (10886, 19)\n",
      "Shape After Delete Ouliers:  (10739, 19)\n"
     ]
    }
   ],
   "source": [
    "delete_outliers(train['count'], train)"
   ]
  },
  {
   "cell_type": "markdown",
   "id": "95ed132a",
   "metadata": {
    "papermill": {
     "duration": 0.018056,
     "end_time": "2023-01-13T08:16:58.891421",
     "exception": false,
     "start_time": "2023-01-13T08:16:58.873365",
     "status": "completed"
    },
    "tags": []
   },
   "source": [
    "# Correlation heatmap"
   ]
  },
  {
   "cell_type": "code",
   "execution_count": 22,
   "id": "d163108e",
   "metadata": {
    "execution": {
     "iopub.execute_input": "2023-01-13T08:16:58.931313Z",
     "iopub.status.busy": "2023-01-13T08:16:58.930837Z",
     "iopub.status.idle": "2023-01-13T08:16:59.386239Z",
     "shell.execute_reply": "2023-01-13T08:16:59.384943Z"
    },
    "papermill": {
     "duration": 0.479423,
     "end_time": "2023-01-13T08:16:59.389185",
     "exception": false,
     "start_time": "2023-01-13T08:16:58.909762",
     "status": "completed"
    },
    "tags": []
   },
   "outputs": [
    {
     "data": {
      "image/png": "[encoded data removed]",
      "text/plain": [
       "<Figure size 1440x720 with 2 Axes>"
      ]
     },
     "metadata": {
      "needs_background": "light"
     },
     "output_type": "display_data"
    }
   ],
   "source": [
    "def correlation_heatmap(corr):\n",
    "    mask = np.array(corr)\n",
    "    mask[np.tril_indices_from(mask)] = False\n",
    "    fig,ax= plt.subplots()\n",
    "    fig.set_size_inches(20,10)\n",
    "    sn.heatmap(corr, annot=True, mask=mask)\n",
    "\n",
    "corr = train[['season', 'holiday','temp', 'atemp','humidity', 'windspeed', 'count']].corr()\n",
    "correlation_heatmap(corr)"
   ]
  },
  {
   "cell_type": "markdown",
   "id": "06e8a407",
   "metadata": {
    "papermill": {
     "duration": 0.018869,
     "end_time": "2023-01-13T08:16:59.427235",
     "exception": false,
     "start_time": "2023-01-13T08:16:59.408366",
     "status": "completed"
    },
    "tags": []
   },
   "source": [
    "The variable 'atemp' has a strong correlation with the variable 'temp'. Having both variables in the model would cause multicollinearity, so one of them should be removed during model training."
   ]
  },
  {
   "cell_type": "markdown",
   "id": "f1bf5aa4",
   "metadata": {
    "papermill": {
     "duration": 0.01884,
     "end_time": "2023-01-13T08:16:59.466146",
     "exception": false,
     "start_time": "2023-01-13T08:16:59.447306",
     "status": "completed"
    },
    "tags": []
   },
   "source": [
    "# Special Days"
   ]
  },
  {
   "cell_type": "code",
   "execution_count": 23,
   "id": "cbab3917",
   "metadata": {
    "execution": {
     "iopub.execute_input": "2023-01-13T08:16:59.508100Z",
     "iopub.status.busy": "2023-01-13T08:16:59.507116Z",
     "iopub.status.idle": "2023-01-13T08:16:59.514431Z",
     "shell.execute_reply": "2023-01-13T08:16:59.513386Z"
    },
    "papermill": {
     "duration": 0.03215,
     "end_time": "2023-01-13T08:16:59.517440",
     "exception": false,
     "start_time": "2023-01-13T08:16:59.485290",
     "status": "completed"
    },
    "tags": []
   },
   "outputs": [],
   "source": [
    "def get_day(day_start):\n",
    "   day_end = day_start + pd.offsets.DateOffset(hours=23)\n",
    "   return pd.date_range(day_start, day_end, freq=\"H\")"
   ]
  },
  {
   "cell_type": "code",
   "execution_count": 24,
   "id": "df72ddf6",
   "metadata": {
    "execution": {
     "iopub.execute_input": "2023-01-13T08:16:59.561152Z",
     "iopub.status.busy": "2023-01-13T08:16:59.560253Z",
     "iopub.status.idle": "2023-01-13T08:16:59.610939Z",
     "shell.execute_reply": "2023-01-13T08:16:59.609120Z"
    },
    "papermill": {
     "duration": 0.075852,
     "end_time": "2023-01-13T08:16:59.614079",
     "exception": false,
     "start_time": "2023-01-13T08:16:59.538227",
     "status": "completed"
    },
    "tags": []
   },
   "outputs": [
    {
     "name": "stderr",
     "output_type": "stream",
     "text": [
      "/opt/conda/lib/python3.7/site-packages/ipykernel_launcher.py:12: FutureWarning: The pandas.datetime class is deprecated and will be removed from pandas in a future version. Import from datetime module instead.\n",
      "  if sys.path[0] == \"\":\n",
      "/opt/conda/lib/python3.7/site-packages/ipykernel_launcher.py:13: FutureWarning: The pandas.datetime class is deprecated and will be removed from pandas in a future version. Import from datetime module instead.\n",
      "  del sys.path[0]\n",
      "/opt/conda/lib/python3.7/site-packages/ipykernel_launcher.py:15: FutureWarning: The pandas.datetime class is deprecated and will be removed from pandas in a future version. Import from datetime module instead.\n",
      "  from ipykernel import kernelapp as app\n",
      "/opt/conda/lib/python3.7/site-packages/ipykernel_launcher.py:16: FutureWarning: The pandas.datetime class is deprecated and will be removed from pandas in a future version. Import from datetime module instead.\n",
      "  \n",
      "/opt/conda/lib/python3.7/site-packages/ipykernel_launcher.py:18: FutureWarning: The pandas.datetime class is deprecated and will be removed from pandas in a future version. Import from datetime module instead.\n",
      "/opt/conda/lib/python3.7/site-packages/ipykernel_launcher.py:19: FutureWarning: The pandas.datetime class is deprecated and will be removed from pandas in a future version. Import from datetime module instead.\n",
      "/opt/conda/lib/python3.7/site-packages/ipykernel_launcher.py:21: FutureWarning: The pandas.datetime class is deprecated and will be removed from pandas in a future version. Import from datetime module instead.\n",
      "/opt/conda/lib/python3.7/site-packages/ipykernel_launcher.py:22: FutureWarning: The pandas.datetime class is deprecated and will be removed from pandas in a future version. Import from datetime module instead.\n",
      "/opt/conda/lib/python3.7/site-packages/ipykernel_launcher.py:25: FutureWarning: The pandas.datetime class is deprecated and will be removed from pandas in a future version. Import from datetime module instead.\n",
      "/opt/conda/lib/python3.7/site-packages/ipykernel_launcher.py:27: FutureWarning: The pandas.datetime class is deprecated and will be removed from pandas in a future version. Import from datetime module instead.\n",
      "/opt/conda/lib/python3.7/site-packages/ipykernel_launcher.py:31: FutureWarning: The pandas.datetime class is deprecated and will be removed from pandas in a future version. Import from datetime module instead.\n",
      "/opt/conda/lib/python3.7/site-packages/ipykernel_launcher.py:32: FutureWarning: The pandas.datetime class is deprecated and will be removed from pandas in a future version. Import from datetime module instead.\n",
      "/opt/conda/lib/python3.7/site-packages/ipykernel_launcher.py:33: FutureWarning: The pandas.datetime class is deprecated and will be removed from pandas in a future version. Import from datetime module instead.\n",
      "/opt/conda/lib/python3.7/site-packages/ipykernel_launcher.py:34: FutureWarning: The pandas.datetime class is deprecated and will be removed from pandas in a future version. Import from datetime module instead.\n",
      "/opt/conda/lib/python3.7/site-packages/ipykernel_launcher.py:36: FutureWarning: The pandas.datetime class is deprecated and will be removed from pandas in a future version. Import from datetime module instead.\n",
      "/opt/conda/lib/python3.7/site-packages/ipykernel_launcher.py:37: FutureWarning: The pandas.datetime class is deprecated and will be removed from pandas in a future version. Import from datetime module instead.\n",
      "/opt/conda/lib/python3.7/site-packages/ipykernel_launcher.py:38: FutureWarning: The pandas.datetime class is deprecated and will be removed from pandas in a future version. Import from datetime module instead.\n"
     ]
    }
   ],
   "source": [
    "# set datetime as index\n",
    "dt = pd.DatetimeIndex(train['datetime'])\n",
    "train.set_index(dt, inplace=True)\n",
    "dtt = pd.DatetimeIndex(test['datetime'])\n",
    "test.set_index(dtt, inplace=True)\n",
    "def get_day(day_start):\n",
    "    day_end = day_start + pd.offsets.DateOffset(hours=23)\n",
    "    return pd.date_range(day_start, day_end, freq=\"H\")\n",
    "\n",
    "\n",
    "# tax day\n",
    "train.loc[get_day(pd.datetime(2011, 4, 15)), \"workingday\"] = 1\n",
    "train.loc[get_day(pd.datetime(2012, 4, 16)), \"workingday\"] = 1\n",
    "# thanksgiving friday\n",
    "test.loc[get_day(pd.datetime(2011, 11, 25)), \"workingday\"] = 0\n",
    "test.loc[get_day(pd.datetime(2012, 11, 23)), \"workingday\"] = 0\n",
    "# tax day\n",
    "train.loc[get_day(pd.datetime(2011, 4, 15)), \"holiday\"] = 0\n",
    "train.loc[get_day(pd.datetime(2012, 4, 16)), \"holiday\"] = 0\n",
    "# thanksgiving friday\n",
    "test.loc[get_day(pd.datetime(2011, 11, 25)), \"holiday\"] = 1\n",
    "test.loc[get_day(pd.datetime(2012, 11, 23)), \"holiday\"] = 1\n",
    "\n",
    "# storms\n",
    "test.loc[get_day(pd.datetime(2012, 5, 21)), \"holiday\"] = 1\n",
    "# tornado\n",
    "train.loc[get_day(pd.datetime(2012, 6, 1)), \"holiday\"] = 1\n",
    "\n",
    "\n",
    "# Chrismas\n",
    "test.loc[get_day(pd.datetime(2011, 12, 24)), \"workingday\"] = 0\n",
    "test.loc[get_day(pd.datetime(2011, 12, 31)), \"workingday\"] = 0\n",
    "test.loc[get_day(pd.datetime(2012, 12, 26)), \"workingday\"] = 0\n",
    "test.loc[get_day(pd.datetime(2012, 12, 31)), \"workingday\"] = 0\n",
    "\n",
    "test.loc[get_day(pd.datetime(2011, 12, 24)), \"holiday\"] = 1\n",
    "test.loc[get_day(pd.datetime(2011, 12, 31)), \"holiday\"] = 1\n",
    "test.loc[get_day(pd.datetime(2012, 12, 31)), \"holiday\"] = 1\n"
   ]
  },
  {
   "cell_type": "code",
   "execution_count": 25,
   "id": "3acdb42a",
   "metadata": {
    "execution": {
     "iopub.execute_input": "2023-01-13T08:16:59.657409Z",
     "iopub.status.busy": "2023-01-13T08:16:59.656941Z",
     "iopub.status.idle": "2023-01-13T08:16:59.662453Z",
     "shell.execute_reply": "2023-01-13T08:16:59.661179Z"
    },
    "papermill": {
     "duration": 0.029959,
     "end_time": "2023-01-13T08:16:59.665065",
     "exception": false,
     "start_time": "2023-01-13T08:16:59.635106",
     "status": "completed"
    },
    "tags": []
   },
   "outputs": [],
   "source": [
    "#train.to_csv('/kaggle/working/train_new.csv',index=False)\n",
    "#test.to_csv('/kaggle/working/test_new.csv',index=False)"
   ]
  },
  {
   "cell_type": "markdown",
   "id": "63d707c6",
   "metadata": {
    "papermill": {
     "duration": 0.019267,
     "end_time": "2023-01-13T08:16:59.704350",
     "exception": false,
     "start_time": "2023-01-13T08:16:59.685083",
     "status": "completed"
    },
    "tags": []
   },
   "source": [
    "# Visualization"
   ]
  },
  {
   "cell_type": "code",
   "execution_count": 26,
   "id": "110baa8c",
   "metadata": {
    "execution": {
     "iopub.execute_input": "2023-01-13T08:16:59.745633Z",
     "iopub.status.busy": "2023-01-13T08:16:59.745021Z",
     "iopub.status.idle": "2023-01-13T08:17:02.317886Z",
     "shell.execute_reply": "2023-01-13T08:17:02.316948Z"
    },
    "papermill": {
     "duration": 2.596478,
     "end_time": "2023-01-13T08:17:02.320556",
     "exception": false,
     "start_time": "2023-01-13T08:16:59.724078",
     "status": "completed"
    },
    "tags": []
   },
   "outputs": [
    {
     "data": {
      "text/plain": [
       "[Text(0.5, 0, 'Hour Of The Day'),\n",
       " Text(0, 0.5, 'Casual Count'),\n",
       " Text(0.5, 1.0, 'Box Plot On Casual Count Across Hour Of The Day')]"
      ]
     },
     "execution_count": 26,
     "metadata": {},
     "output_type": "execute_result"
    },
    {
     "data": {
      "image/png": "[encoded data removed]",
      "text/plain": [
       "<Figure size 1440x720 with 6 Axes>"
      ]
     },
     "metadata": {
      "needs_background": "light"
     },
     "output_type": "display_data"
    }
   ],
   "source": [
    "# ref: https://www.kaggle.com/code/viveksrinivasan/eda-ensemble-model-top-10-percentile#About-Dataset\n",
    "fig, axes = plt.subplots(nrows=2,ncols=3)\n",
    "fig.set_size_inches(20, 10)\n",
    "\n",
    "sn.boxplot(data=train,y=\"count\",x='weekday',orient=\"v\",ax=axes[0][0])\n",
    "sn.boxplot(data=train,y=\"count\",x=\"season\",orient=\"v\",ax=axes[0][1])\n",
    "sn.boxplot(data=train,y=\"count\",x=\"workingday\",orient=\"v\",ax=axes[0][2])\n",
    "sn.boxplot(data=train,y=\"count\",x=\"hour\",orient=\"v\",ax=axes[1][0])\n",
    "sn.boxplot(data=train,y=\"registered\",x=\"hour\",orient=\"v\",ax=axes[1][1])\n",
    "sn.boxplot(data=train,y=\"casual\",x=\"hour\",orient=\"v\",ax=axes[1][2])\n",
    "\n",
    "axes[0][0].set(xlabel='Day',ylabel='Count',title=\"Box Plot On Count Across Day\")\n",
    "axes[0][1].set(xlabel='Season', ylabel='Count',title=\"Box Plot On Count Across Season\")\n",
    "axes[0][2].set(xlabel='Working Day', ylabel='Count',title=\"Box Plot On Count Across Working Day\")\n",
    "axes[1][0].set(xlabel='Hour Of The Day', ylabel='Count',title=\"Box Plot On Count Across Hour Of The Day\")\n",
    "axes[1][1].set(xlabel='Hour Of The Day', ylabel='Registered Count',title=\"Box Plot On Registered Count Across Hour Of The Day\")\n",
    "axes[1][2].set(xlabel='Hour Of The Day', ylabel='Casual Count',title=\"Box Plot On Casual Count Across Hour Of The Day\")"
   ]
  },
  {
   "cell_type": "markdown",
   "id": "5f941ac1",
   "metadata": {
    "papermill": {
     "duration": 0.021587,
     "end_time": "2023-01-13T08:17:02.364341",
     "exception": false,
     "start_time": "2023-01-13T08:17:02.342754",
     "status": "completed"
    },
    "tags": []
   },
   "source": [
    "- The bike rental count is generally lower on weekends, which may be due to less demand for transportation during leisure time. There are also fewer outliers during this time, indicating a more consistent demand. \n",
    "- The spring season has a relatively lower bike rental count, which could be attributed to unpredictable weather or other seasonal factors. The average bike demand during the winter season is slightly lower than the summer and fall seasons, which may be due to the inclement weather and holidays causing people to travel less. \n",
    "- The median value of bike rentals by hour of the day is relatively high during the hours of 7AM-8AM and 5PM-6PM, which can be attributed to regular commuters for school and work. \n",
    "- The pattern of registered bike rentals by hour of the day is similar to that of all bike rentals, but most of the outliers in the count plot are from non-registered users, which could be from tourists or occasional riders. The peak rental count around 7AM-8AM and 5PM-6PM is primarily from registered users, as people with regular commute times tend to be registered users. This indicates a strong correlation between registered users and regular commuter patterns."
   ]
  },
  {
   "cell_type": "code",
   "execution_count": 27,
   "id": "af0300d9",
   "metadata": {
    "ExecuteTime": {
     "end_time": "2022-05-25T13:04:16.298855Z",
     "start_time": "2022-05-25T13:04:15.997959Z"
    },
    "execution": {
     "iopub.execute_input": "2023-01-13T08:17:02.413190Z",
     "iopub.status.busy": "2023-01-13T08:17:02.412110Z",
     "iopub.status.idle": "2023-01-13T08:17:03.718948Z",
     "shell.execute_reply": "2023-01-13T08:17:03.717307Z"
    },
    "papermill": {
     "duration": 1.335332,
     "end_time": "2023-01-13T08:17:03.721812",
     "exception": false,
     "start_time": "2023-01-13T08:17:02.386480",
     "status": "completed"
    },
    "tags": []
   },
   "outputs": [
    {
     "data": {
      "text/plain": [
       "Text(0.5, 0.98, 'weather count across different seasons')"
      ]
     },
     "execution_count": 27,
     "metadata": {},
     "output_type": "execute_result"
    },
    {
     "data": {
      "image/png": "[encoded data removed]",
      "text/plain": [
       "<Figure size 1440x360 with 4 Axes>"
      ]
     },
     "metadata": {
      "needs_background": "light"
     },
     "output_type": "display_data"
    }
   ],
   "source": [
    "# weather count across different seasons\n",
    "g = sn.catplot(x='weather',y='count',col='season', kind=\"bar\", palette=\"Spectral\", data=train)\n",
    "g.fig.subplots_adjust(top=0.7) # adjust the Figure\n",
    "g.fig.suptitle(\"weather count across different seasons\")\n"
   ]
  },
  {
   "cell_type": "markdown",
   "id": "5566aaea",
   "metadata": {
    "papermill": {
     "duration": 0.023587,
     "end_time": "2023-01-13T08:17:03.767783",
     "exception": false,
     "start_time": "2023-01-13T08:17:03.744196",
     "status": "completed"
    },
    "tags": []
   },
   "source": [
    "weather -\n",
    "1: Clear, Few clouds, Partly cloudy, Partly cloudy\n",
    "2: Mist + Cloudy, Mist + Broken clouds, Mist + Few clouds, Mist\n",
    "3: Light Snow, Light Rain + Thunderstorm + Scattered clouds, Light Rain + Scattered clouds\n",
    "4: Heavy Rain + Ice Pallets + Thunderstorm + Mist, Snow + Fo\n",
    "\n",
    "Horrible weather like weather 4 mainly happened in Spring season which supports our previous assumption that weather conditions play a major role in leading less bike rental demand during spring season.\n"
   ]
  },
  {
   "cell_type": "code",
   "execution_count": 28,
   "id": "8c3560f5",
   "metadata": {
    "ExecuteTime": {
     "end_time": "2022-05-25T13:04:19.707024Z",
     "start_time": "2022-05-25T13:04:16.629017Z"
    },
    "execution": {
     "iopub.execute_input": "2023-01-13T08:17:03.813145Z",
     "iopub.status.busy": "2023-01-13T08:17:03.812617Z",
     "iopub.status.idle": "2023-01-13T08:17:13.093818Z",
     "shell.execute_reply": "2023-01-13T08:17:13.092025Z"
    },
    "papermill": {
     "duration": 9.309667,
     "end_time": "2023-01-13T08:17:13.098743",
     "exception": false,
     "start_time": "2023-01-13T08:17:03.789076",
     "status": "completed"
    },
    "tags": []
   },
   "outputs": [
    {
     "data": {
      "text/plain": [
       "Text(0, 0.5, 'Count')"
      ]
     },
     "execution_count": 28,
     "metadata": {},
     "output_type": "execute_result"
    },
    {
     "data": {
      "image/png": "[encoded data removed]",
      "text/plain": [
       "<Figure size 864x1440 with 3 Axes>"
      ]
     },
     "metadata": {
      "needs_background": "light"
     },
     "output_type": "display_data"
    }
   ],
   "source": [
    "fig,(ax1,ax2,ax3)= plt.subplots(nrows=3)\n",
    "fig.set_size_inches(12,20)\n",
    "sn.pointplot(x='hour',y='count',hue='season',join=True, data=train, palette=\"Spectral\", ax=ax1)\n",
    "sn.pointplot(x='hour',y='count',hue='weekday',join=True, data=train, palette=\"Spectral\", ax=ax2)\n",
    "sn.lineplot(x='hour', y='registered', data=train, color='red',label='Registered', marker='o', ax=ax3, ci=None)\n",
    "sn.lineplot(x='hour', y='casual', data=train, color='blue', label='Casual', marker='o', ax=ax3, ci=None)\n",
    "ax3.set_ylabel('Count')\n",
    "\n"
   ]
  },
  {
   "cell_type": "markdown",
   "id": "e9067580",
   "metadata": {
    "papermill": {
     "duration": 0.024253,
     "end_time": "2023-01-13T08:17:13.148364",
     "exception": false,
     "start_time": "2023-01-13T08:17:13.124111",
     "status": "completed"
    },
    "tags": []
   },
   "source": [
    "- It is observed that many people, regardless of their registration status, tend to rent bicycles between 10AM and 4PM. This trend is likely due to the fact that people are more likely to use bicycles for leisure activities during this time of the day. \n",
    "\n",
    "- Furthermore, it is also found that most un-registered users tend to rent bicycles around 10am-3pm on weekends. This could be because casual users may use other forms of transportation to go to work/school during the weekdays and only rent bicycles during weekends for recreational activities. \n",
    "\n",
    "- On weekdays, the peak rental count around 7AM-8AM and 5PM-6PM is primarily contributed by registered users. As previously mentioned, this can be attributed to regular school and office commuters who rely on bicycles as their primary mode of transportation during these times."
   ]
  },
  {
   "cell_type": "code",
   "execution_count": 29,
   "id": "1f614bf8",
   "metadata": {
    "ExecuteTime": {
     "end_time": "2022-05-25T13:04:38.574997Z",
     "start_time": "2022-05-25T13:04:38.097694Z"
    },
    "execution": {
     "iopub.execute_input": "2023-01-13T08:17:13.200604Z",
     "iopub.status.busy": "2023-01-13T08:17:13.200159Z",
     "iopub.status.idle": "2023-01-13T08:17:13.923359Z",
     "shell.execute_reply": "2023-01-13T08:17:13.922218Z"
    },
    "papermill": {
     "duration": 0.752251,
     "end_time": "2023-01-13T08:17:13.926086",
     "exception": false,
     "start_time": "2023-01-13T08:17:13.173835",
     "status": "completed"
    },
    "tags": []
   },
   "outputs": [
    {
     "data": {
      "text/plain": [
       "<AxesSubplot:ylabel='Density'>"
      ]
     },
     "execution_count": 29,
     "metadata": {},
     "output_type": "execute_result"
    },
    {
     "data": {
      "image/png": "[encoded data removed]",
      "text/plain": [
       "<Figure size 432x288 with 1 Axes>"
      ]
     },
     "metadata": {
      "needs_background": "light"
     },
     "output_type": "display_data"
    }
   ],
   "source": [
    "# Kernel Density Estimation plot \n",
    "train['count'].plot(kind='kde')"
   ]
  },
  {
   "cell_type": "code",
   "execution_count": 30,
   "id": "74f3bc01",
   "metadata": {
    "ExecuteTime": {
     "end_time": "2022-05-25T13:04:38.953415Z",
     "start_time": "2022-05-25T13:04:38.578988Z"
    },
    "execution": {
     "iopub.execute_input": "2023-01-13T08:17:13.978359Z",
     "iopub.status.busy": "2023-01-13T08:17:13.977538Z",
     "iopub.status.idle": "2023-01-13T08:17:14.446188Z",
     "shell.execute_reply": "2023-01-13T08:17:14.444408Z"
    },
    "papermill": {
     "duration": 0.49757,
     "end_time": "2023-01-13T08:17:14.448802",
     "exception": false,
     "start_time": "2023-01-13T08:17:13.951232",
     "status": "completed"
    },
    "tags": []
   },
   "outputs": [
    {
     "data": {
      "text/plain": [
       "<AxesSubplot:ylabel='Density'>"
      ]
     },
     "execution_count": 30,
     "metadata": {},
     "output_type": "execute_result"
    },
    {
     "data": {
      "image/png": "[encoded data removed]",
      "text/plain": [
       "<Figure size 432x288 with 1 Axes>"
      ]
     },
     "metadata": {
      "needs_background": "light"
     },
     "output_type": "display_data"
    }
   ],
   "source": [
    "# log trnasformation for skewed count data\n",
    "import math\n",
    "train['count_log']=np.log1p(train['count'])\n",
    "train['count_log'].plot(kind='kde')"
   ]
  },
  {
   "cell_type": "markdown",
   "id": "d434d2c4",
   "metadata": {
    "papermill": {
     "duration": 0.024413,
     "end_time": "2023-01-13T08:17:14.497925",
     "exception": false,
     "start_time": "2023-01-13T08:17:14.473512",
     "status": "completed"
    },
    "tags": []
   },
   "source": [
    "# Model"
   ]
  },
  {
   "cell_type": "markdown",
   "id": "ce432e4c",
   "metadata": {
    "papermill": {
     "duration": 0.026389,
     "end_time": "2023-01-13T08:17:14.552422",
     "exception": false,
     "start_time": "2023-01-13T08:17:14.526033",
     "status": "completed"
    },
    "tags": []
   },
   "source": [
    "## Metrics"
   ]
  },
  {
   "cell_type": "code",
   "execution_count": 31,
   "id": "8866004a",
   "metadata": {
    "execution": {
     "iopub.execute_input": "2023-01-13T08:17:14.607390Z",
     "iopub.status.busy": "2023-01-13T08:17:14.606445Z",
     "iopub.status.idle": "2023-01-13T08:17:14.613221Z",
     "shell.execute_reply": "2023-01-13T08:17:14.611979Z"
    },
    "papermill": {
     "duration": 0.038106,
     "end_time": "2023-01-13T08:17:14.615881",
     "exception": false,
     "start_time": "2023-01-13T08:17:14.577775",
     "status": "completed"
    },
    "tags": []
   },
   "outputs": [],
   "source": [
    "# metrics\n",
    "def rmsle(y_real, y_pre):    \n",
    "    log1 = np.log1p(y_real)\n",
    "    log2 = np.log1p(y_pre)    \n",
    "    calc = (log1 - log2) ** 2\n",
    "    return np.sqrt(np.mean(calc))"
   ]
  },
  {
   "cell_type": "markdown",
   "id": "3e6e2abb",
   "metadata": {
    "papermill": {
     "duration": 0.025709,
     "end_time": "2023-01-13T08:17:14.667282",
     "exception": false,
     "start_time": "2023-01-13T08:17:14.641573",
     "status": "completed"
    },
    "tags": []
   },
   "source": [
    "## Split Dataset"
   ]
  },
  {
   "cell_type": "code",
   "execution_count": 32,
   "id": "dfc12852",
   "metadata": {
    "execution": {
     "iopub.execute_input": "2023-01-13T08:17:14.719867Z",
     "iopub.status.busy": "2023-01-13T08:17:14.719005Z",
     "iopub.status.idle": "2023-01-13T08:17:14.726174Z",
     "shell.execute_reply": "2023-01-13T08:17:14.725223Z"
    },
    "papermill": {
     "duration": 0.036619,
     "end_time": "2023-01-13T08:17:14.728832",
     "exception": false,
     "start_time": "2023-01-13T08:17:14.692213",
     "status": "completed"
    },
    "tags": []
   },
   "outputs": [
    {
     "data": {
      "text/plain": [
       "Index(['index', 'datetime', 'season', 'holiday', 'workingday', 'weather',\n",
       "       'temp', 'atemp', 'humidity', 'windspeed', 'casual', 'registered',\n",
       "       'count', 'year', 'month', 'day', 'hour', 'week', 'weekday',\n",
       "       'count_log'],\n",
       "      dtype='object')"
      ]
     },
     "execution_count": 32,
     "metadata": {},
     "output_type": "execute_result"
    }
   ],
   "source": [
    "train.columns"
   ]
  },
  {
   "cell_type": "code",
   "execution_count": 33,
   "id": "987ef856",
   "metadata": {
    "execution": {
     "iopub.execute_input": "2023-01-13T08:17:14.781650Z",
     "iopub.status.busy": "2023-01-13T08:17:14.780815Z",
     "iopub.status.idle": "2023-01-13T08:17:14.787948Z",
     "shell.execute_reply": "2023-01-13T08:17:14.787103Z"
    },
    "papermill": {
     "duration": 0.036059,
     "end_time": "2023-01-13T08:17:14.790402",
     "exception": false,
     "start_time": "2023-01-13T08:17:14.754343",
     "status": "completed"
    },
    "tags": []
   },
   "outputs": [
    {
     "data": {
      "text/plain": [
       "Index(['index', 'datetime', 'season', 'holiday', 'workingday', 'weather',\n",
       "       'temp', 'atemp', 'humidity', 'windspeed', 'year', 'month', 'day',\n",
       "       'hour', 'week', 'weekday'],\n",
       "      dtype='object')"
      ]
     },
     "execution_count": 33,
     "metadata": {},
     "output_type": "execute_result"
    }
   ],
   "source": [
    "test.columns"
   ]
  },
  {
   "cell_type": "code",
   "execution_count": 34,
   "id": "12cdb163",
   "metadata": {
    "execution": {
     "iopub.execute_input": "2023-01-13T08:17:14.843181Z",
     "iopub.status.busy": "2023-01-13T08:17:14.842340Z",
     "iopub.status.idle": "2023-01-13T08:17:14.862875Z",
     "shell.execute_reply": "2023-01-13T08:17:14.861404Z"
    },
    "papermill": {
     "duration": 0.050413,
     "end_time": "2023-01-13T08:17:14.866182",
     "exception": false,
     "start_time": "2023-01-13T08:17:14.815769",
     "status": "completed"
    },
    "tags": []
   },
   "outputs": [],
   "source": [
    "drop_columns = ['count', 'count_log', 'casual', 'registered', 'index', 'datetime']\n",
    "X_train = train.drop(drop_columns, axis = 1).values\n",
    "X_test = test.drop(['index', 'datetime'], axis = 1).values\n",
    "\n",
    "yLog = train['count_log'].values\n",
    "x_date = test['datetime'].values"
   ]
  },
  {
   "cell_type": "code",
   "execution_count": 35,
   "id": "e7ceb3ec",
   "metadata": {
    "execution": {
     "iopub.execute_input": "2023-01-13T08:17:14.922066Z",
     "iopub.status.busy": "2023-01-13T08:17:14.920660Z",
     "iopub.status.idle": "2023-01-13T08:17:14.928196Z",
     "shell.execute_reply": "2023-01-13T08:17:14.927044Z"
    },
    "papermill": {
     "duration": 0.037872,
     "end_time": "2023-01-13T08:17:14.930714",
     "exception": false,
     "start_time": "2023-01-13T08:17:14.892842",
     "status": "completed"
    },
    "tags": []
   },
   "outputs": [
    {
     "data": {
      "text/plain": [
       "(10739, 14)"
      ]
     },
     "execution_count": 35,
     "metadata": {},
     "output_type": "execute_result"
    }
   ],
   "source": [
    "X_train.shape"
   ]
  },
  {
   "cell_type": "code",
   "execution_count": 36,
   "id": "846f48b4",
   "metadata": {
    "execution": {
     "iopub.execute_input": "2023-01-13T08:17:14.984486Z",
     "iopub.status.busy": "2023-01-13T08:17:14.983441Z",
     "iopub.status.idle": "2023-01-13T08:17:14.990430Z",
     "shell.execute_reply": "2023-01-13T08:17:14.989386Z"
    },
    "papermill": {
     "duration": 0.036845,
     "end_time": "2023-01-13T08:17:14.992963",
     "exception": false,
     "start_time": "2023-01-13T08:17:14.956118",
     "status": "completed"
    },
    "tags": []
   },
   "outputs": [
    {
     "data": {
      "text/plain": [
       "(6493, 14)"
      ]
     },
     "execution_count": 36,
     "metadata": {},
     "output_type": "execute_result"
    }
   ],
   "source": [
    "X_test.shape"
   ]
  },
  {
   "cell_type": "code",
   "execution_count": 37,
   "id": "83c4605c",
   "metadata": {
    "execution": {
     "iopub.execute_input": "2023-01-13T08:17:15.047232Z",
     "iopub.status.busy": "2023-01-13T08:17:15.046778Z",
     "iopub.status.idle": "2023-01-13T08:17:15.052469Z",
     "shell.execute_reply": "2023-01-13T08:17:15.051276Z"
    },
    "papermill": {
     "duration": 0.035647,
     "end_time": "2023-01-13T08:17:15.054932",
     "exception": false,
     "start_time": "2023-01-13T08:17:15.019285",
     "status": "completed"
    },
    "tags": []
   },
   "outputs": [],
   "source": [
    "rf_columns = [\n",
    "    'weather', 'temp', 'windspeed',\n",
    "    'workingday', 'season', 'holiday',\n",
    "    'hour', 'weekday', 'week',\n",
    "]\n",
    "gb_columns =[\n",
    "    'weather', 'temp', 'humidity', 'windspeed',\n",
    "    'workingday', 'season', 'holiday',\n",
    "    'hour', 'weekday', 'year', \n",
    "]"
   ]
  },
  {
   "cell_type": "code",
   "execution_count": 38,
   "id": "e5b31bc4",
   "metadata": {
    "execution": {
     "iopub.execute_input": "2023-01-13T08:17:15.108657Z",
     "iopub.status.busy": "2023-01-13T08:17:15.107818Z",
     "iopub.status.idle": "2023-01-13T08:17:15.177635Z",
     "shell.execute_reply": "2023-01-13T08:17:15.176535Z"
    },
    "papermill": {
     "duration": 0.100416,
     "end_time": "2023-01-13T08:17:15.180799",
     "exception": false,
     "start_time": "2023-01-13T08:17:15.080383",
     "status": "completed"
    },
    "tags": []
   },
   "outputs": [],
   "source": [
    "rf_x_train=train[rf_columns].values\n",
    "rf_x_test=test[rf_columns].values\n",
    "\n",
    "gb_x_train=train[gb_columns].values\n",
    "gb_x_test=test[gb_columns].values\n",
    "\n",
    "y_casual=train['casual'].apply(lambda x: np.log1p(x)).values\n",
    "y_registered=train['registered'].apply(lambda x: np.log1p(x)).values\n",
    "y=train['count'].apply(lambda x: np.log1p(x)).values\n",
    "\n",
    "X_date=test['datetime'].values"
   ]
  },
  {
   "cell_type": "code",
   "execution_count": 39,
   "id": "e9f692c8",
   "metadata": {
    "execution": {
     "iopub.execute_input": "2023-01-13T08:17:15.233849Z",
     "iopub.status.busy": "2023-01-13T08:17:15.233319Z",
     "iopub.status.idle": "2023-01-13T08:17:15.254539Z",
     "shell.execute_reply": "2023-01-13T08:17:15.252893Z"
    },
    "papermill": {
     "duration": 0.051235,
     "end_time": "2023-01-13T08:17:15.257542",
     "exception": false,
     "start_time": "2023-01-13T08:17:15.206307",
     "status": "completed"
    },
    "tags": []
   },
   "outputs": [],
   "source": [
    "# Split training dataset\n",
    "from sklearn.model_selection import train_test_split\n",
    "drop_columns = ['count', 'count_log', 'casual', 'registered', 'index', 'datetime']\n",
    "X_train = train.drop(drop_columns, axis = 1).values\n",
    "xd_train,xd_test,yd_train,yd_test = train_test_split(X_train,y,random_state=0)"
   ]
  },
  {
   "cell_type": "markdown",
   "id": "2d06ea43",
   "metadata": {
    "papermill": {
     "duration": 0.027387,
     "end_time": "2023-01-13T08:17:15.311799",
     "exception": false,
     "start_time": "2023-01-13T08:17:15.284412",
     "status": "completed"
    },
    "tags": []
   },
   "source": [
    "## XGBoost"
   ]
  },
  {
   "cell_type": "code",
   "execution_count": 40,
   "id": "f6b97801",
   "metadata": {
    "execution": {
     "iopub.execute_input": "2023-01-13T08:17:15.366010Z",
     "iopub.status.busy": "2023-01-13T08:17:15.365530Z",
     "iopub.status.idle": "2023-01-13T08:17:15.373740Z",
     "shell.execute_reply": "2023-01-13T08:17:15.372442Z"
    },
    "papermill": {
     "duration": 0.038132,
     "end_time": "2023-01-13T08:17:15.376464",
     "exception": false,
     "start_time": "2023-01-13T08:17:15.338332",
     "status": "completed"
    },
    "tags": []
   },
   "outputs": [],
   "source": [
    "xgb_model = xgb.XGBRegressor()\n",
    "def XGB_model():\n",
    "    xgb_parameters = {'random_state': [42], \n",
    "                  'n_estimators': [300, 370, 400], \n",
    "                  'max_depth': [4, 5], \n",
    "                  'learning_rate': [0.1]}\n",
    "    rmsle_scorer = metrics.make_scorer(rmsle, greater_is_better = False)\n",
    "\n",
    "    gs = GridSearchCV(estimator = xgb_model, param_grid = xgb_parameters, scoring = rmsle_scorer, cv = 5)\n",
    "    gs.fit(xd_train, yd_train)\n",
    "    print('Best params for XGBoost model are: ', gs.best_params_)\n",
    "    #\n",
    "    test_pred = gs.predict(xd_test)\n",
    "    # calculate RMSLE\n",
    "    score = rmsle(yd_test,test_pred)\n",
    "    return score"
   ]
  },
  {
   "cell_type": "markdown",
   "id": "74d90521",
   "metadata": {
    "papermill": {
     "duration": 0.025634,
     "end_time": "2023-01-13T08:17:15.428408",
     "exception": false,
     "start_time": "2023-01-13T08:17:15.402774",
     "status": "completed"
    },
    "tags": []
   },
   "source": [
    "## Random Forest"
   ]
  },
  {
   "cell_type": "code",
   "execution_count": 41,
   "id": "807a6355",
   "metadata": {
    "execution": {
     "iopub.execute_input": "2023-01-13T08:17:15.483554Z",
     "iopub.status.busy": "2023-01-13T08:17:15.483091Z",
     "iopub.status.idle": "2023-01-13T08:17:15.490626Z",
     "shell.execute_reply": "2023-01-13T08:17:15.489132Z"
    },
    "papermill": {
     "duration": 0.039258,
     "end_time": "2023-01-13T08:17:15.493389",
     "exception": false,
     "start_time": "2023-01-13T08:17:15.454131",
     "status": "completed"
    },
    "tags": []
   },
   "outputs": [],
   "source": [
    "from sklearn.ensemble import RandomForestRegressor\n",
    "def RandomForest_model():\n",
    "    params = {'n_estimators': 1000, \n",
    "              'max_depth': 15, \n",
    "              'random_state': 0, \n",
    "              'min_samples_split' : 2, \n",
    "              'n_jobs': -1}\n",
    "\n",
    "    rfr = RandomForestRegressor(**params)\n",
    "    rfr.fit(xd_train, yd_train)\n",
    "    test_pred = rfr.predict(xd_test)\n",
    "    # calculate RMSLE\n",
    "    score = rmsle(yd_test,test_pred)\n",
    "    return score"
   ]
  },
  {
   "cell_type": "markdown",
   "id": "31448734",
   "metadata": {
    "papermill": {
     "duration": 0.025942,
     "end_time": "2023-01-13T08:17:15.545358",
     "exception": false,
     "start_time": "2023-01-13T08:17:15.519416",
     "status": "completed"
    },
    "tags": []
   },
   "source": [
    "## GradientBoostTree"
   ]
  },
  {
   "cell_type": "code",
   "execution_count": 42,
   "id": "924d7b0e",
   "metadata": {
    "execution": {
     "iopub.execute_input": "2023-01-13T08:17:15.601455Z",
     "iopub.status.busy": "2023-01-13T08:17:15.600991Z",
     "iopub.status.idle": "2023-01-13T08:17:15.608444Z",
     "shell.execute_reply": "2023-01-13T08:17:15.606893Z"
    },
    "papermill": {
     "duration": 0.038568,
     "end_time": "2023-01-13T08:17:15.611343",
     "exception": false,
     "start_time": "2023-01-13T08:17:15.572775",
     "status": "completed"
    },
    "tags": []
   },
   "outputs": [],
   "source": [
    "from sklearn.ensemble import GradientBoostingRegressor\n",
    "def GradientBoosting_model():\n",
    "    gbr = GradientBoostingRegressor(n_estimators = 1000, \n",
    "                                    max_depth = 5, \n",
    "                                    random_state = 0)\n",
    "    gbr.fit(xd_train,yd_train)\n",
    "    test_pred = gbr.predict(xd_test)\n",
    "    score = rmsle(yd_test,test_pred)\n",
    "    return score"
   ]
  },
  {
   "cell_type": "code",
   "execution_count": 43,
   "id": "e9f6b47c",
   "metadata": {
    "execution": {
     "iopub.execute_input": "2023-01-13T08:17:15.666492Z",
     "iopub.status.busy": "2023-01-13T08:17:15.666033Z",
     "iopub.status.idle": "2023-01-13T08:18:58.218195Z",
     "shell.execute_reply": "2023-01-13T08:18:58.216827Z"
    },
    "papermill": {
     "duration": 102.582583,
     "end_time": "2023-01-13T08:18:58.221123",
     "exception": false,
     "start_time": "2023-01-13T08:17:15.638540",
     "status": "completed"
    },
    "tags": []
   },
   "outputs": [
    {
     "name": "stdout",
     "output_type": "stream",
     "text": [
      "RMSLE Score for different models\n",
      "Best params for XGBoost model are:  {'learning_rate': 0.1, 'max_depth': 5, 'n_estimators': 400, 'random_state': 42}\n",
      "XGBoost:       0.07957196959997952\n",
      "RandomForest:  0.08143885821515123\n",
      "GradientBoost:  0.08106742308844261\n"
     ]
    }
   ],
   "source": [
    "print(\"RMSLE Score for different models\")\n",
    "print(\"XGBoost:      \",XGB_model())\n",
    "print(\"RandomForest: \",RandomForest_model())\n",
    "print(\"GradientBoost: \",GradientBoosting_model())"
   ]
  },
  {
   "cell_type": "markdown",
   "id": "93ad785a",
   "metadata": {
    "papermill": {
     "duration": 0.025377,
     "end_time": "2023-01-13T08:18:58.273110",
     "exception": false,
     "start_time": "2023-01-13T08:18:58.247733",
     "status": "completed"
    },
    "tags": []
   },
   "source": [
    "## Model Prediction"
   ]
  },
  {
   "cell_type": "markdown",
   "id": "8e30b316",
   "metadata": {
    "papermill": {
     "duration": 0.024782,
     "end_time": "2023-01-13T08:18:58.323463",
     "exception": false,
     "start_time": "2023-01-13T08:18:58.298681",
     "status": "completed"
    },
    "tags": []
   },
   "source": [
    "The count pattern between casual and registered users are really different so it's better to use two models to predict them seperately and then sum up the prediction."
   ]
  },
  {
   "cell_type": "code",
   "execution_count": 44,
   "id": "1a6d2408",
   "metadata": {
    "execution": {
     "iopub.execute_input": "2023-01-13T08:18:58.376192Z",
     "iopub.status.busy": "2023-01-13T08:18:58.375275Z",
     "iopub.status.idle": "2023-01-13T08:19:02.981428Z",
     "shell.execute_reply": "2023-01-13T08:19:02.980427Z"
    },
    "papermill": {
     "duration": 4.635286,
     "end_time": "2023-01-13T08:19:02.983786",
     "exception": false,
     "start_time": "2023-01-13T08:18:58.348500",
     "status": "completed"
    },
    "tags": []
   },
   "outputs": [
    {
     "name": "stdout",
     "output_type": "stream",
     "text": [
      "model score for prediting casual count: 0.9226294838216818\n",
      "model score for prediting registered count: 0.970395797544881\n",
      "model score for prediting count: 0.9704984642511707\n"
     ]
    }
   ],
   "source": [
    "# XGBoost\n",
    "xgb_params = {'random_state': 42, \n",
    "              'n_estimators': 200, \n",
    "              'max_depth': 5, \n",
    "              'learning_rate': 0.1}\n",
    "\n",
    "XGB1 = xgb.XGBRegressor(**xgb_params)\n",
    "XGB1.fit(gb_x_train,y_casual)\n",
    "print(\"model score for prediting casual count:\",XGB1.score(gb_x_train,y_casual))\n",
    "\n",
    "XGB2 = xgb.XGBRegressor(**xgb_params)\n",
    "XGB2.fit(gb_x_train,y_registered)\n",
    "print(\"model score for prediting registered count:\",XGB2.score(gb_x_train,y_registered))\n",
    "\n",
    "XGB3 = xgb.XGBRegressor(**xgb_params)\n",
    "XGB3.fit(gb_x_train,y)\n",
    "print(\"model score for prediting count:\",XGB3.score(gb_x_train,y))"
   ]
  },
  {
   "cell_type": "code",
   "execution_count": 45,
   "id": "1b9143db",
   "metadata": {
    "execution": {
     "iopub.execute_input": "2023-01-13T08:19:03.038586Z",
     "iopub.status.busy": "2023-01-13T08:19:03.038134Z",
     "iopub.status.idle": "2023-01-13T08:19:03.299453Z",
     "shell.execute_reply": "2023-01-13T08:19:03.298237Z"
    },
    "papermill": {
     "duration": 0.291407,
     "end_time": "2023-01-13T08:19:03.302614",
     "exception": false,
     "start_time": "2023-01-13T08:19:03.011207",
     "status": "completed"
    },
    "tags": []
   },
   "outputs": [
    {
     "data": {
      "text/plain": [
       "<Figure size 1080x864 with 0 Axes>"
      ]
     },
     "metadata": {},
     "output_type": "display_data"
    },
    {
     "data": {
      "image/png": "[encoded data removed]",
      "text/plain": [
       "<Figure size 432x288 with 1 Axes>"
      ]
     },
     "metadata": {
      "needs_background": "light"
     },
     "output_type": "display_data"
    }
   ],
   "source": [
    "from xgboost import plot_importance, plot_tree\n",
    "fig = plt.figure(figsize=(15,12))\n",
    "fig = plot_importance(XGB3, height=0.9,max_num_features = 25)\n",
    "plt.show()"
   ]
  },
  {
   "cell_type": "code",
   "execution_count": 46,
   "id": "7df671a2",
   "metadata": {
    "execution": {
     "iopub.execute_input": "2023-01-13T08:19:03.358745Z",
     "iopub.status.busy": "2023-01-13T08:19:03.358236Z",
     "iopub.status.idle": "2023-01-13T08:19:03.363316Z",
     "shell.execute_reply": "2023-01-13T08:19:03.362401Z"
    },
    "papermill": {
     "duration": 0.036266,
     "end_time": "2023-01-13T08:19:03.365726",
     "exception": false,
     "start_time": "2023-01-13T08:19:03.329460",
     "status": "completed"
    },
    "tags": []
   },
   "outputs": [],
   "source": [
    "# random forest\n",
    "# params = {'n_estimators': 1000, \n",
    "#           'max_depth': 15, \n",
    "#           'random_state': 0, \n",
    "#           'min_samples_split' : 2, \n",
    "#           'n_jobs': -1}\n",
    "\n",
    "# rfr = RandomForestRegressor(**params)\n",
    "# rfr.fit(X_train, yLog)\n",
    "# pred_rf = rfr.predict(X_test)"
   ]
  },
  {
   "cell_type": "code",
   "execution_count": 47,
   "id": "2dcb206f",
   "metadata": {
    "execution": {
     "iopub.execute_input": "2023-01-13T08:19:03.420610Z",
     "iopub.status.busy": "2023-01-13T08:19:03.419864Z",
     "iopub.status.idle": "2023-01-13T08:19:08.308570Z",
     "shell.execute_reply": "2023-01-13T08:19:08.307177Z"
    },
    "papermill": {
     "duration": 4.919107,
     "end_time": "2023-01-13T08:19:08.311371",
     "exception": false,
     "start_time": "2023-01-13T08:19:03.392264",
     "status": "completed"
    },
    "tags": []
   },
   "outputs": [
    {
     "name": "stderr",
     "output_type": "stream",
     "text": [
      "/opt/conda/lib/python3.7/site-packages/sklearn/ensemble/_gb.py:290: FutureWarning: The loss 'ls' was deprecated in v1.0 and will be removed in version 1.2. Use 'squared_error' which is equivalent.\n",
      "  FutureWarning,\n"
     ]
    },
    {
     "name": "stdout",
     "output_type": "stream",
     "text": [
      "model score for prediting casual count: 0.9182308992500625\n"
     ]
    },
    {
     "name": "stderr",
     "output_type": "stream",
     "text": [
      "/opt/conda/lib/python3.7/site-packages/sklearn/ensemble/_gb.py:290: FutureWarning: The loss 'ls' was deprecated in v1.0 and will be removed in version 1.2. Use 'squared_error' which is equivalent.\n",
      "  FutureWarning,\n"
     ]
    },
    {
     "name": "stdout",
     "output_type": "stream",
     "text": [
      "model score for prediting registered count: 0.9681314008539198\n"
     ]
    },
    {
     "name": "stderr",
     "output_type": "stream",
     "text": [
      "/opt/conda/lib/python3.7/site-packages/sklearn/ensemble/_gb.py:290: FutureWarning: The loss 'ls' was deprecated in v1.0 and will be removed in version 1.2. Use 'squared_error' which is equivalent.\n",
      "  FutureWarning,\n"
     ]
    },
    {
     "name": "stdout",
     "output_type": "stream",
     "text": [
      "model score for prediting count: 0.9681860842764839\n"
     ]
    }
   ],
   "source": [
    "# gradient boosting\n",
    "from sklearn.ensemble import GradientBoostingRegressor\n",
    "\n",
    "gbr_params = {'n_estimators': 150, \n",
    "           'max_depth': 5, \n",
    "           'random_state': 0, \n",
    "           'min_samples_leaf' : 10, \n",
    "           'learning_rate': 0.1, \n",
    "           'subsample': 0.7, \n",
    "           'loss': 'ls'}\n",
    "\n",
    "GBR1 = GradientBoostingRegressor(**gbr_params)\n",
    "GBR1.fit(gb_x_train,y_casual)\n",
    "print(\"model score for prediting casual count:\",GBR1.score(gb_x_train,y_casual))\n",
    "\n",
    "GBR2 = GradientBoostingRegressor(**gbr_params)\n",
    "GBR2.fit(gb_x_train,y_registered)\n",
    "print(\"model score for prediting registered count:\",GBR2.score(gb_x_train,y_registered))\n",
    "\n",
    "GBR3 = GradientBoostingRegressor(**gbr_params)\n",
    "GBR3.fit(gb_x_train,y)\n",
    "print(\"model score for prediting count:\",GBR3.score(gb_x_train,y))\n"
   ]
  },
  {
   "cell_type": "code",
   "execution_count": 48,
   "id": "d0dc0fa2",
   "metadata": {
    "execution": {
     "iopub.execute_input": "2023-01-13T08:19:08.367386Z",
     "iopub.status.busy": "2023-01-13T08:19:08.366537Z",
     "iopub.status.idle": "2023-01-13T08:19:08.449697Z",
     "shell.execute_reply": "2023-01-13T08:19:08.448144Z"
    },
    "papermill": {
     "duration": 0.114247,
     "end_time": "2023-01-13T08:19:08.452869",
     "exception": false,
     "start_time": "2023-01-13T08:19:08.338622",
     "status": "completed"
    },
    "tags": []
   },
   "outputs": [],
   "source": [
    "def prediction(x_test, models):\n",
    "    prediction = []\n",
    "    for model in models:\n",
    "        pre = model.predict(x_test)\n",
    "        pre = np.expm1(pre)\n",
    "        prediction.append(pre)\n",
    "    return sum(prediction)\n",
    "\n",
    "pred_xgb = prediction(gb_x_test, models=[XGB1, XGB2])\n",
    "pred_gbr = prediction(gb_x_test, models=[GBR1, GBR2])\n"
   ]
  },
  {
   "cell_type": "code",
   "execution_count": 49,
   "id": "50b58594",
   "metadata": {
    "execution": {
     "iopub.execute_input": "2023-01-13T08:19:08.508532Z",
     "iopub.status.busy": "2023-01-13T08:19:08.507166Z",
     "iopub.status.idle": "2023-01-13T08:19:08.514922Z",
     "shell.execute_reply": "2023-01-13T08:19:08.513287Z"
    },
    "papermill": {
     "duration": 0.038414,
     "end_time": "2023-01-13T08:19:08.517859",
     "exception": false,
     "start_time": "2023-01-13T08:19:08.479445",
     "status": "completed"
    },
    "tags": []
   },
   "outputs": [],
   "source": [
    "prediction = (0.6 * pred_xgb) + (0.4 * pred_gbr)"
   ]
  },
  {
   "cell_type": "code",
   "execution_count": 50,
   "id": "03afb6de",
   "metadata": {
    "execution": {
     "iopub.execute_input": "2023-01-13T08:19:08.577161Z",
     "iopub.status.busy": "2023-01-13T08:19:08.576669Z",
     "iopub.status.idle": "2023-01-13T08:19:08.614206Z",
     "shell.execute_reply": "2023-01-13T08:19:08.612615Z"
    },
    "papermill": {
     "duration": 0.072148,
     "end_time": "2023-01-13T08:19:08.617823",
     "exception": false,
     "start_time": "2023-01-13T08:19:08.545675",
     "status": "completed"
    },
    "tags": []
   },
   "outputs": [],
   "source": [
    "submit = pd.DataFrame({'datetime':x_date,'count':prediction})\n",
    "submit.to_csv('/kaggle/working/submisssion.csv',index=False)"
   ]
  }
 ],
 "metadata": {
  "kernelspec": {
   "display_name": "Python 3",
   "language": "python",
   "name": "python3"
  },
  "language_info": {
   "codemirror_mode": {
    "name": "ipython",
    "version": 3
   },
   "file_extension": ".py",
   "mimetype": "text/x-python",
   "name": "python",
   "nbconvert_exporter": "python",
   "pygments_lexer": "ipython3",
   "version": "3.7.12"
  },
  "papermill": {
   "default_parameters": {},
   "duration": 163.660028,
   "end_time": "2023-01-13T08:19:09.871608",
   "environment_variables": {},
   "exception": null,
   "input_path": "__notebook__.ipynb",
   "output_path": "__notebook__.ipynb",
   "parameters": {},
   "start_time": "2023-01-13T08:16:26.211580",
   "version": "2.3.4"
  }
 },
 "nbformat": 4,
 "nbformat_minor": 5
}
