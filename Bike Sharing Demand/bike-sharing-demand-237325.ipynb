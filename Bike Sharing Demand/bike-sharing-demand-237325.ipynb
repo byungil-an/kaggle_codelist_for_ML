{
 "cells": [
  {
   "cell_type": "code",
   "execution_count": 1,
   "metadata": {
    "execution": {
     "iopub.execute_input": "2023-03-30T04:19:22.718156Z",
     "iopub.status.busy": "2023-03-30T04:19:22.717445Z",
     "iopub.status.idle": "2023-03-30T04:19:23.800020Z",
     "shell.execute_reply": "2023-03-30T04:19:23.798954Z",
     "shell.execute_reply.started": "2023-03-30T04:19:22.718087Z"
    },
    "papermill": {
     "duration": 1.107301,
     "end_time": "2023-03-30T04:21:15.350271",
     "exception": false,
     "start_time": "2023-03-30T04:21:14.242970",
     "status": "completed"
    },
    "tags": []
   },
   "outputs": [
    {
     "name": "stdout",
     "output_type": "stream",
     "text": [
      "/kaggle/input/bike-sharing-demand/sampleSubmission.csv\n",
      "/kaggle/input/bike-sharing-demand/train.csv\n",
      "/kaggle/input/bike-sharing-demand/test.csv\n"
     ]
    }
   ],
   "source": [
    "# This Python 3 environment comes with many helpful analytics libraries installed\n",
    "# It is defined by the kaggle/python docker image: https://github.com/kaggle/docker-python\n",
    "# For example, here's several helpful packages to load in \n",
    "\n",
    "import numpy as np # linear algebra\n",
    "import pandas as pd # data processing, CSV file I/O (e.g. pd.read_csv)\n",
    "\n",
    "# Input data files are available in the \"../input/\" directory.\n",
    "# For example, running this (by clicking run or pressing Shift+Enter) will list all files under the input directory\n",
    "\n",
    "import os\n",
    "for dirname, _, filenames in os.walk('/kaggle/input'):\n",
    "    for filename in filenames:\n",
    "        print(os.path.join(dirname, filename))\n",
    "\n",
    "# Any results you write to the current directory are saved as output.\n",
    "import pandas as pd\n",
    "import numpy as np\n",
    "from sklearn.ensemble import RandomForestRegressor, GradientBoostingRegressor\n",
    "import matplotlib.pyplot as plt"
   ]
  },
  {
   "cell_type": "code",
   "execution_count": 2,
   "metadata": {
    "execution": {
     "iopub.execute_input": "2023-03-30T04:19:23.802186Z",
     "iopub.status.busy": "2023-03-30T04:19:23.801882Z",
     "iopub.status.idle": "2023-03-30T04:19:23.868920Z",
     "shell.execute_reply": "2023-03-30T04:19:23.867582Z",
     "shell.execute_reply.started": "2023-03-30T04:19:23.802142Z"
    },
    "papermill": {
     "duration": 0.09565,
     "end_time": "2023-03-30T04:21:15.460606",
     "exception": false,
     "start_time": "2023-03-30T04:21:15.364956",
     "status": "completed"
    },
    "tags": []
   },
   "outputs": [],
   "source": [
    "dfs = {}\n",
    "for name in ['train','test']:\n",
    "    df = pd.read_csv('/kaggle/input/bike-sharing-demand/%s.csv' % name)\n",
    "    df['_data'] = name\n",
    "    dfs[name] = df"
   ]
  },
  {
   "cell_type": "code",
   "execution_count": 3,
   "metadata": {
    "execution": {
     "iopub.execute_input": "2023-03-30T04:19:23.871209Z",
     "iopub.status.busy": "2023-03-30T04:19:23.870556Z",
     "iopub.status.idle": "2023-03-30T04:19:23.891184Z",
     "shell.execute_reply": "2023-03-30T04:19:23.890170Z",
     "shell.execute_reply.started": "2023-03-30T04:19:23.870959Z"
    },
    "papermill": {
     "duration": 0.037141,
     "end_time": "2023-03-30T04:21:15.511037",
     "exception": false,
     "start_time": "2023-03-30T04:21:15.473896",
     "status": "completed"
    },
    "tags": []
   },
   "outputs": [],
   "source": [
    "# combine train and test data into one df\n",
    "df = dfs['train'].append(dfs['test'])\n",
    "\n",
    "# lowercase column names\n",
    "df.columns = map(str.lower, df.columns)"
   ]
  },
  {
   "cell_type": "code",
   "execution_count": 4,
   "metadata": {
    "execution": {
     "iopub.execute_input": "2023-03-30T04:19:23.893145Z",
     "iopub.status.busy": "2023-03-30T04:19:23.892622Z",
     "iopub.status.idle": "2023-03-30T04:19:23.918604Z",
     "shell.execute_reply": "2023-03-30T04:19:23.917844Z",
     "shell.execute_reply.started": "2023-03-30T04:19:23.893055Z"
    },
    "papermill": {
     "duration": 0.045214,
     "end_time": "2023-03-30T04:21:15.568407",
     "exception": false,
     "start_time": "2023-03-30T04:21:15.523193",
     "status": "completed"
    },
    "tags": []
   },
   "outputs": [],
   "source": [
    "# logarithmic transformation of dependent cols\n",
    "# (adding 1 first so that 0 values don't become -inf)\n",
    "for col in ['casual', 'registered', 'count']:\n",
    "    df['%s_log' % col] = np.log(df[col] + 1)"
   ]
  },
  {
   "cell_type": "code",
   "execution_count": 5,
   "metadata": {
    "execution": {
     "iopub.execute_input": "2023-03-30T04:19:23.922300Z",
     "iopub.status.busy": "2023-03-30T04:19:23.921683Z",
     "iopub.status.idle": "2023-03-30T04:19:23.964386Z",
     "shell.execute_reply": "2023-03-30T04:19:23.963341Z",
     "shell.execute_reply.started": "2023-03-30T04:19:23.922238Z"
    },
    "papermill": {
     "duration": 0.05723,
     "end_time": "2023-03-30T04:21:15.637729",
     "exception": false,
     "start_time": "2023-03-30T04:21:15.580499",
     "status": "completed"
    },
    "tags": []
   },
   "outputs": [],
   "source": [
    "# parse datetime colum & add new time related columns\n",
    "dt = pd.DatetimeIndex(df['datetime'])\n",
    "df.set_index(dt, inplace=True)\n",
    "\n",
    "df['date'] = dt.date\n",
    "df['day'] = dt.day\n",
    "df['month'] = dt.month\n",
    "df['year'] = dt.year\n",
    "df['hour'] = dt.hour\n",
    "df['dow'] = dt.dayofweek\n",
    "df['woy'] = dt.weekofyear"
   ]
  },
  {
   "cell_type": "code",
   "execution_count": 6,
   "metadata": {
    "execution": {
     "iopub.execute_input": "2023-03-30T04:19:23.966806Z",
     "iopub.status.busy": "2023-03-30T04:19:23.966334Z",
     "iopub.status.idle": "2023-03-30T04:19:23.973681Z",
     "shell.execute_reply": "2023-03-30T04:19:23.972548Z",
     "shell.execute_reply.started": "2023-03-30T04:19:23.966705Z"
    },
    "papermill": {
     "duration": 0.020303,
     "end_time": "2023-03-30T04:21:15.670232",
     "exception": false,
     "start_time": "2023-03-30T04:21:15.649929",
     "status": "completed"
    },
    "tags": []
   },
   "outputs": [],
   "source": [
    "#def get_day(day_start):\n",
    "#    day_end = day_start + pd.offsets.DateOffset(hours=23)\n",
    "#    return pd.date_range(day_start, day_end, freq=\"H\")\n",
    "\n",
    "# tax day\n",
    "#df.loc[get_day(pd.datetime(2011, 4, 15)), \"workingday\"] = 1\n",
    "#df.loc[get_day(pd.datetime(2012, 4, 16)), \"workingday\"] = 1\n",
    "# thanksgiving friday\n",
    "#df.loc[get_day(pd.datetime(2011, 11, 25)), \"workingday\"] = 0\n",
    "#df.loc[get_day(pd.datetime(2012, 11, 23)), \"workingday\"] = 0\n",
    "# tax day\n",
    "#df.loc[get_day(pd.datetime(2011, 4, 15)), \"holiday\"] = 0\n",
    "#df.loc[get_day(pd.datetime(2012, 4, 16)), \"holiday\"] = 0\n",
    "\n",
    "# thanksgiving friday\n",
    "#df.loc[get_day(pd.datetime(2011, 11, 25)), \"holiday\"] = 1\n",
    "#df.loc[get_day(pd.datetime(2012, 11, 23)), \"holiday\"] = 1\n",
    "\n",
    "#storms\n",
    "#df.loc[get_day(pd.datetime(2012, 5, 21)), \"holiday\"] = 1\n",
    "#tornado\n",
    "#df.loc[get_day(pd.datetime(2012, 6, 1)), \"holiday\"] = 1"
   ]
  },
  {
   "cell_type": "code",
   "execution_count": 7,
   "metadata": {
    "execution": {
     "iopub.execute_input": "2023-03-30T04:19:23.975293Z",
     "iopub.status.busy": "2023-03-30T04:19:23.974966Z",
     "iopub.status.idle": "2023-03-30T04:19:25.144665Z",
     "shell.execute_reply": "2023-03-30T04:19:25.143851Z",
     "shell.execute_reply.started": "2023-03-30T04:19:23.975216Z"
    },
    "papermill": {
     "duration": 1.205997,
     "end_time": "2023-03-30T04:21:16.888448",
     "exception": false,
     "start_time": "2023-03-30T04:21:15.682451",
     "status": "completed"
    },
    "tags": []
   },
   "outputs": [
    {
     "name": "stderr",
     "output_type": "stream",
     "text": [
      "/opt/conda/lib/python3.7/site-packages/ipykernel_launcher.py:1: DeprecationWarning: In future, it will be an error for 'np.bool_' scalars to be interpreted as an index\n",
      "  \"\"\"Entry point for launching an IPython kernel.\n"
     ]
    }
   ],
   "source": [
    "df['peak'] = df[['hour', 'workingday']].apply(lambda x: (0, 1)[(x['workingday'] == 1 and  ( x['hour'] == 8 or 17 <= x['hour'] <= 18 or 12 <= x['hour'] <= 13)) or (x['workingday'] == 0 and  10 <= x['hour'] <= 19)], axis = 1)"
   ]
  },
  {
   "cell_type": "code",
   "execution_count": 8,
   "metadata": {
    "execution": {
     "iopub.execute_input": "2023-03-30T04:19:25.146738Z",
     "iopub.status.busy": "2023-03-30T04:19:25.146073Z",
     "iopub.status.idle": "2023-03-30T04:19:27.248339Z",
     "shell.execute_reply": "2023-03-30T04:19:27.247264Z",
     "shell.execute_reply.started": "2023-03-30T04:19:25.146670Z"
    },
    "papermill": {
     "duration": 2.141651,
     "end_time": "2023-03-30T04:21:19.044370",
     "exception": false,
     "start_time": "2023-03-30T04:21:16.902719",
     "status": "completed"
    },
    "tags": []
   },
   "outputs": [
    {
     "name": "stderr",
     "output_type": "stream",
     "text": [
      "/opt/conda/lib/python3.7/site-packages/ipykernel_launcher.py:2: DeprecationWarning: In future, it will be an error for 'np.bool_' scalars to be interpreted as an index\n",
      "  \n",
      "/opt/conda/lib/python3.7/site-packages/ipykernel_launcher.py:5: DeprecationWarning: In future, it will be an error for 'np.bool_' scalars to be interpreted as an index\n",
      "  \"\"\"\n",
      "/opt/conda/lib/python3.7/site-packages/ipykernel_launcher.py:6: DeprecationWarning: In future, it will be an error for 'np.bool_' scalars to be interpreted as an index\n",
      "  \n"
     ]
    }
   ],
   "source": [
    "#sandy\n",
    "df['holiday'] = df[['month', 'day', 'holiday', 'year']].apply(lambda x: (x['holiday'], 1)[x['year'] == 2012 and x['month'] == 10 and (x['day'] in [30])], axis = 1)\n",
    "\n",
    "#christmas day and others\n",
    "df['holiday'] = df[['month', 'day', 'holiday']].apply(lambda x: (x['holiday'], 1)[x['month'] == 12 and (x['day'] in [24, 26, 31])], axis = 1)\n",
    "df['workingday'] = df[['month', 'day', 'workingday']].apply(lambda x: (x['workingday'], 0)[x['month'] == 12 and x['day'] in [24, 31]], axis = 1)\n"
   ]
  },
  {
   "cell_type": "code",
   "execution_count": 9,
   "metadata": {
    "execution": {
     "iopub.execute_input": "2023-03-30T04:19:27.250681Z",
     "iopub.status.busy": "2023-03-30T04:19:27.250202Z",
     "iopub.status.idle": "2023-03-30T04:19:28.298125Z",
     "shell.execute_reply": "2023-03-30T04:19:28.297218Z",
     "shell.execute_reply.started": "2023-03-30T04:19:27.250602Z"
    },
    "papermill": {
     "duration": 1.056131,
     "end_time": "2023-03-30T04:21:20.114386",
     "exception": false,
     "start_time": "2023-03-30T04:21:19.058255",
     "status": "completed"
    },
    "tags": []
   },
   "outputs": [
    {
     "name": "stderr",
     "output_type": "stream",
     "text": [
      "/opt/conda/lib/python3.7/site-packages/ipykernel_launcher.py:1: DeprecationWarning: In future, it will be an error for 'np.bool_' scalars to be interpreted as an index\n",
      "  \"\"\"Entry point for launching an IPython kernel.\n",
      "/opt/conda/lib/python3.7/site-packages/ipykernel_launcher.py:2: DeprecationWarning: In future, it will be an error for 'np.bool_' scalars to be interpreted as an index\n",
      "  \n"
     ]
    }
   ],
   "source": [
    "df['ideal'] = df[['temp', 'windspeed']].apply(lambda x: (0, 1)[x['temp'] > 27 and x['windspeed'] < 30], axis = 1)\n",
    "df['sticky'] = df[['humidity', 'workingday']].apply(lambda x: (0, 1)[x['workingday'] == 1 and x['humidity'] >= 60], axis = 1)"
   ]
  },
  {
   "cell_type": "code",
   "execution_count": 10,
   "metadata": {
    "execution": {
     "iopub.execute_input": "2023-03-30T04:19:28.299519Z",
     "iopub.status.busy": "2023-03-30T04:19:28.299236Z",
     "iopub.status.idle": "2023-03-30T04:19:28.328039Z",
     "shell.execute_reply": "2023-03-30T04:19:28.326841Z",
     "shell.execute_reply.started": "2023-03-30T04:19:28.299477Z"
    },
    "papermill": {
     "duration": 0.045219,
     "end_time": "2023-03-30T04:21:20.172979",
     "exception": false,
     "start_time": "2023-03-30T04:21:20.127760",
     "status": "completed"
    },
    "tags": []
   },
   "outputs": [],
   "source": [
    "# #\n",
    "\n",
    "def get_rmsle(y_pred, y_actual):\n",
    "    diff = np.log(y_pred + 1) - np.log(y_actual + 1)\n",
    "    mean_error = np.square(diff).mean()\n",
    "    return np.sqrt(mean_error)\n",
    "\n",
    "\n",
    "def get_data():\n",
    "    data = df[df['_data'] == 'train'].copy()\n",
    "    return data\n",
    "\n",
    "\n",
    "def custom_train_test_split(data, cutoff_day=15):\n",
    "    train = data[data['day'] <= cutoff_day]\n",
    "    test = data[data['day'] > cutoff_day]\n",
    "\n",
    "    return train, test\n",
    "\n",
    "\n",
    "def prep_data(data, input_cols):\n",
    "    X = data[input_cols]\n",
    "    y_r = data['registered_log']\n",
    "    y_c = data['casual_log']\n",
    "\n",
    "    return X, y_r, y_c\n",
    "\n",
    "\n",
    "def predict_on_validation_set(model, input_cols):\n",
    "    data = get_data()\n",
    "\n",
    "    train, test = custom_train_test_split(data)\n",
    "\n",
    "    X_train, y_train_r, y_train_c = prep_data(train, input_cols)\n",
    "    X_test, y_test_r, y_test_c = prep_data(test, input_cols)\n",
    "\n",
    "    model_r = model.fit(X_train, y_train_r)\n",
    "    y_pred_r = np.exp(model_r.predict(X_test)) - 1\n",
    "\n",
    "    model_c = model.fit(X_train, y_train_c)\n",
    "    y_pred_c = np.exp(model_c.predict(X_test)) - 1\n",
    "\n",
    "    y_pred_comb = np.round(y_pred_r + y_pred_c)\n",
    "    y_pred_comb[y_pred_comb < 0] = 0\n",
    "\n",
    "    y_test_comb = np.exp(y_test_r) + np.exp(y_test_c) - 2\n",
    "\n",
    "    score = get_rmsle(y_pred_comb, y_test_comb)\n",
    "    return (y_pred_comb, y_test_comb, score)\n",
    "\n",
    "df_test = df[df['_data'] == 'test'].copy()\n",
    "\n",
    "# predict on test set & transform output back from log scale\n",
    "def predict_on_test_set(model, x_cols):\n",
    "    # prepare training set\n",
    "    df_train = df[df['_data'] == 'train'].copy()\n",
    "    X_train = df_train[x_cols]\n",
    "    y_train_cas = df_train['casual_log']\n",
    "    y_train_reg = df_train['registered_log']\n",
    "\n",
    "    # prepare test set\n",
    "    X_test = df_test[x_cols]\n",
    "\n",
    "    casual_model = model.fit(X_train, y_train_cas)\n",
    "    y_pred_cas = casual_model.predict(X_test)\n",
    "    y_pred_cas = np.exp(y_pred_cas) - 1\n",
    "    registered_model = model.fit(X_train, y_train_reg)\n",
    "    y_pred_reg = registered_model.predict(X_test)\n",
    "    y_pred_reg = np.exp(y_pred_reg) - 1\n",
    "    # add casual & registered predictions together\n",
    "    return y_pred_cas + y_pred_reg"
   ]
  },
  {
   "cell_type": "code",
   "execution_count": 11,
   "metadata": {
    "execution": {
     "iopub.execute_input": "2023-03-30T04:19:28.330427Z",
     "iopub.status.busy": "2023-03-30T04:19:28.329735Z",
     "iopub.status.idle": "2023-03-30T04:19:48.010193Z",
     "shell.execute_reply": "2023-03-30T04:19:48.008945Z",
     "shell.execute_reply.started": "2023-03-30T04:19:28.330345Z"
    },
    "papermill": {
     "duration": 20.906946,
     "end_time": "2023-03-30T04:21:41.094015",
     "exception": false,
     "start_time": "2023-03-30T04:21:20.187069",
     "status": "completed"
    },
    "tags": []
   },
   "outputs": [
    {
     "name": "stdout",
     "output_type": "stream",
     "text": [
      "0.44130236175493526\n"
     ]
    }
   ],
   "source": [
    "# random forest model\n",
    "params = {'n_estimators': 1000, 'max_depth': 15, 'random_state': 0, 'min_samples_split' : 5, 'n_jobs': -1}\n",
    "rf_model = RandomForestRegressor(**params)\n",
    "rf_cols = [\n",
    "    'weather', 'temp', 'atemp', 'windspeed',\n",
    "    'workingday', 'season', 'holiday', 'sticky',\n",
    "    'hour', 'dow', 'woy', 'peak',\n",
    "]\n",
    "rf_p, rf_t, rf_score = predict_on_validation_set(rf_model, rf_cols)\n",
    "print(rf_score)\n"
   ]
  },
  {
   "cell_type": "code",
   "execution_count": 12,
   "metadata": {
    "execution": {
     "iopub.execute_input": "2023-03-30T04:19:48.011959Z",
     "iopub.status.busy": "2023-03-30T04:19:48.011495Z",
     "iopub.status.idle": "2023-03-30T04:19:51.117995Z",
     "shell.execute_reply": "2023-03-30T04:19:51.116956Z",
     "shell.execute_reply.started": "2023-03-30T04:19:48.011873Z"
    },
    "papermill": {
     "duration": 3.143141,
     "end_time": "2023-03-30T04:21:44.251807",
     "exception": false,
     "start_time": "2023-03-30T04:21:41.108666",
     "status": "completed"
    },
    "tags": []
   },
   "outputs": [
    {
     "name": "stdout",
     "output_type": "stream",
     "text": [
      "0.32114136782119973\n",
      "0.32423520881802764\n"
     ]
    }
   ],
   "source": [
    "# GBM model\n",
    "params = {'n_estimators': 150, 'max_depth': 5, 'random_state': 0, 'min_samples_leaf' : 10, 'learning_rate': 0.1, 'subsample': 0.7, 'loss': 'ls'}\n",
    "gbm_model = GradientBoostingRegressor(**params)\n",
    "gbm_cols = [\n",
    "    'weather', 'temp', 'atemp', 'humidity', 'windspeed',\n",
    "    'holiday', 'workingday', 'season',\n",
    "    'hour', 'dow', 'year', 'ideal'\n",
    "    ]\n",
    "\n",
    "\n",
    "(gbm_p, gbm_t, gbm_score) = predict_on_validation_set(gbm_model, gbm_cols)\n",
    "print(gbm_score)\n",
    "\n",
    "# the blend gives a better score on the leaderboard, even though it does not on the validation set\n",
    "y_p = np.round(.2*rf_p + .8*gbm_p)\n",
    "print(get_rmsle(y_p, rf_t))\n"
   ]
  },
  {
   "cell_type": "code",
   "execution_count": 13,
   "metadata": {
    "execution": {
     "iopub.execute_input": "2023-03-30T04:19:51.120117Z",
     "iopub.status.busy": "2023-03-30T04:19:51.119626Z",
     "iopub.status.idle": "2023-03-30T04:20:19.451751Z",
     "shell.execute_reply": "2023-03-30T04:20:19.450364Z",
     "shell.execute_reply.started": "2023-03-30T04:19:51.120045Z"
    },
    "papermill": {
     "duration": 28.885646,
     "end_time": "2023-03-30T04:22:13.153235",
     "exception": false,
     "start_time": "2023-03-30T04:21:44.267589",
     "status": "completed"
    },
    "tags": []
   },
   "outputs": [],
   "source": [
    "# predctions on test dataset\n",
    "rf_pred = predict_on_test_set(rf_model, rf_cols)\n",
    "gbm_pred = predict_on_test_set(gbm_model, gbm_cols)\n"
   ]
  },
  {
   "cell_type": "code",
   "execution_count": 14,
   "metadata": {
    "execution": {
     "iopub.execute_input": "2023-03-30T04:20:19.453476Z",
     "iopub.status.busy": "2023-03-30T04:20:19.453172Z",
     "iopub.status.idle": "2023-03-30T04:20:19.458263Z",
     "shell.execute_reply": "2023-03-30T04:20:19.457336Z",
     "shell.execute_reply.started": "2023-03-30T04:20:19.453438Z"
    },
    "papermill": {
     "duration": 0.024589,
     "end_time": "2023-03-30T04:22:13.192481",
     "exception": false,
     "start_time": "2023-03-30T04:22:13.167892",
     "status": "completed"
    },
    "tags": []
   },
   "outputs": [],
   "source": [
    "# taking weighted average of output from two models\n",
    "y_pred = np.round(.20*rf_pred + .80*gbm_pred)\n"
   ]
  },
  {
   "cell_type": "code",
   "execution_count": 15,
   "metadata": {
    "execution": {
     "iopub.execute_input": "2023-03-30T04:20:19.459670Z",
     "iopub.status.busy": "2023-03-30T04:20:19.459279Z",
     "iopub.status.idle": "2023-03-30T04:20:19.752754Z",
     "shell.execute_reply": "2023-03-30T04:20:19.751817Z",
     "shell.execute_reply.started": "2023-03-30T04:20:19.459631Z"
    },
    "papermill": {
     "duration": 0.134461,
     "end_time": "2023-03-30T04:22:13.341604",
     "exception": false,
     "start_time": "2023-03-30T04:22:13.207143",
     "status": "completed"
    },
    "tags": []
   },
   "outputs": [],
   "source": [
    "# output predictions for submission\n",
    "df_test['count'] = y_pred\n",
    "final_df = df_test[['datetime', 'count']].copy()\n",
    "final_df.to_csv('output5.csv', index=False)"
   ]
  }
 ],
 "metadata": {
  "kernelspec": {
   "display_name": "Python 3",
   "language": "python",
   "name": "python3"
  },
  "language_info": {
   "codemirror_mode": {
    "name": "ipython",
    "version": 3
   },
   "file_extension": ".py",
   "mimetype": "text/x-python",
   "name": "python",
   "nbconvert_exporter": "python",
   "pygments_lexer": "ipython3",
   "version": "3.7.6"
  },
  "papermill": {
   "duration": 64.026996,
   "end_time": "2023-03-30T04:22:13.966100",
   "environment_variables": {},
   "exception": null,
   "input_path": "__notebook__.ipynb",
   "output_path": "__notebook__.ipynb",
   "parameters": {},
   "start_time": "2023-03-30T04:21:09.939104",
   "version": "1.2.1"
  }
 },
 "nbformat": 4,
 "nbformat_minor": 4
}
