{
 "cells": [
  {
   "cell_type": "markdown",
   "id": "a6a880a7",
   "metadata": {
    "papermill": {
     "duration": 0.009524,
     "end_time": "2024-04-09T08:12:18.433820",
     "exception": false,
     "start_time": "2024-04-09T08:12:18.424296",
     "status": "completed"
    },
    "tags": []
   },
   "source": [
    "# 자전거 공유 시스템 RF 모델 학습\n",
    "20197123_최은기\n",
    "참고한 유저 데이터: https://www.kaggle.com/code/sumn2u/bike-sharing-demand-random-forest\n",
    "\n",
    "기존 예제에서 최대한 학습할 수 있는 내용에 대해 번역 및 학습하며 추가적인 Markdown(텍스트) 을 삽입했습니다."
   ]
  },
  {
   "cell_type": "code",
   "execution_count": 1,
   "id": "7b1050dd",
   "metadata": {
    "execution": {
     "iopub.execute_input": "2024-04-09T08:12:18.455910Z",
     "iopub.status.busy": "2024-04-09T08:12:18.455420Z",
     "iopub.status.idle": "2024-04-09T08:12:21.967136Z",
     "shell.execute_reply": "2024-04-09T08:12:21.965538Z"
    },
    "papermill": {
     "duration": 3.526514,
     "end_time": "2024-04-09T08:12:21.970310",
     "exception": false,
     "start_time": "2024-04-09T08:12:18.443796",
     "status": "completed"
    },
    "tags": []
   },
   "outputs": [],
   "source": [
    "import numpy as np\n",
    "import pandas as pd\n",
    "import os\n",
    "\n",
    "from sklearn.ensemble import RandomForestRegressor, GradientBoostingRegressor\n",
    "\n",
    "# Import visualization libraries 데이터 흐름 학습 목적으로 기존 예제코드 첨부\n",
    "import seaborn as sns\n",
    "import matplotlib.pyplot as plt"
   ]
  },
  {
   "cell_type": "markdown",
   "id": "6a7b8960",
   "metadata": {
    "papermill": {
     "duration": 0.009185,
     "end_time": "2024-04-09T08:12:21.988716",
     "exception": false,
     "start_time": "2024-04-09T08:12:21.979531",
     "status": "completed"
    },
    "tags": []
   },
   "source": [
    "# 가설 세워보기\n",
    "\n",
    "워싱턴 DC의 자전거 공유 서비스 수요는 기상 조건, 시간대, 요일, 특별 이벤트나 공휴일 등 다양한 요인에 의해 영향을 받을 수 있습니다.\n",
    "\n",
    "* **Weather Conditions**: 자전거 공유 서비스에 대한 수요는 날씨의 영향을 받을 수 있습니다. 사람들은 비나 눈이 오는 등 기상 조건이 좋지 않은 날보다 맑고 온화한 날과 같이 쾌적한 날에 자전거를 대여할 가능성이 더 높습니다. 따라서 자전거 대여 수요와 양호한 기상 조건 사이에는 양의 상관관계가 있을 것으로 예상할 수 있습니다.\n",
    "\n",
    "* **Time of Day**: 자전거 대여 수요는 시간대에 따라 달라집니다. 사람들이 직장이나 학교를 오가는 출퇴근 시간에는 다른 시간대에 비해 자전거에 대한 수요가 더 높습니다. 이는 시간대가 자전거 대여 수요를 예측할 때 고려해야 할 중요한 요소임을 시사합니다.\n",
    "\n",
    "* **Day of the Week**: 자전거 대여 수요는 요일에 따라 다릅니다. 평일에 비해 여가 시간이 많고 레크리에이션 활동으로 자전거를 이용하는 경우가 많은 주말에 자전거 수요가 더 높습니다. 이는 자전거 대여 수요를 예측할 때 요일도 고려해야 할 또 다른 중요한 요소임을 나타냅니다.\n",
    "\n",
    "* **Special Events or Holidays**: 자전거 대여 수요는 특별 이벤트나 공휴일의 영향을 받을 수 있습니다. 예를 들어 축제, 스포츠 이벤트 또는 사람들이 외출할 가능성이 높은 기타 특별한 날에는 자전거에 대한 수요가 더 높을 수 있습니다. 따라서 자전거 대여 수요를 예측할 때는 특별 이벤트나 공휴일 발생을 고려해야 합니다."
   ]
  },
  {
   "cell_type": "markdown",
   "id": "72499479",
   "metadata": {
    "papermill": {
     "duration": 0.009478,
     "end_time": "2024-04-09T08:12:22.008227",
     "exception": false,
     "start_time": "2024-04-09T08:12:21.998749",
     "status": "completed"
    },
    "tags": []
   },
   "source": [
    "# 데이터세트 이해해보기"
   ]
  },
  {
   "cell_type": "markdown",
   "id": "84bab958",
   "metadata": {
    "papermill": {
     "duration": 0.00896,
     "end_time": "2024-04-09T08:12:22.027853",
     "exception": false,
     "start_time": "2024-04-09T08:12:22.018893",
     "status": "completed"
    },
    "tags": []
   },
   "source": [
    "데이터 세트에는 2년(2011년과 2012년)의 시간별 대여 데이터가 포함되어 있습니다. 훈련 데이터 세트는 매월 첫 19일을 포함하고, 테스트 데이터 세트는 매월 20일부터 말일까지의 기간을 포함합니다. 목표는 테스트 세트의 각 시간 동안 대여된 자전거의 총 수를 예측하는 것입니다.\n",
    "\n",
    "훈련 데이터 세트에서 자전거 수요는 등록 사용자와 일반 사용자에 대해 별도로 주어지며, 총 수는 두 가지를 합한 값입니다. 훈련 데이터 세트에는 12개의 변수가 있는 반면, 테스트 데이터 세트에는 등록, 캐주얼, 카운트를 제외한 9개의 변수가 있습니다.\n",
    "\n",
    "아래는 각 데이터의 정의임!\n",
    "\n",
    "- **datetime**:   date and hour in \"mm/dd/yyyy hh:mm\" format\n",
    "- **season**:     Four categories-> 1 = spring, 2 = summer, 3 = fall, 4 = winter\n",
    "- **holiday**:    whether the day is a holiday or not (1/0)\n",
    "- **workingday**: whether the day is neither a weekend nor holiday (1/0)\n",
    "- **weather**:    Four Categories of weather\n",
    "                  1-> Clear, Few clouds, Partly cloudy\n",
    "                  2-> Mist + Cloudy, Mist + Broken clouds, Mist + Few clouds, Mist\n",
    "                  3-> Light Snow and Rain + Thunderstorm + Scattered clouds, Light Rain + Scattered clouds\n",
    "                  4-> Heavy Rain + Ice Pallets + Thunderstorm + Mist, Snow + Fog\n",
    "- **temp**:       hourly temperature in Celsius\n",
    "- **atemp**:      \"feels like\" temperature in Celsius\n",
    "- **humidity**:   relative humidity\n",
    "- **windspeed**:  wind speed\n",
    "- **casual**:     number of casual users\n",
    "- **registered**: number of registered users\n",
    "- **count**:      total number of bikes rented\n",
    "\n",
    "Here, **casual**, **registered** and **count** are independent variables."
   ]
  },
  {
   "cell_type": "markdown",
   "id": "15016c98",
   "metadata": {
    "papermill": {
     "duration": 0.008905,
     "end_time": "2024-04-09T08:12:22.046544",
     "exception": false,
     "start_time": "2024-04-09T08:12:22.037639",
     "status": "completed"
    },
    "tags": []
   },
   "source": [
    "# 탐색적 데이터 분석"
   ]
  },
  {
   "cell_type": "code",
   "execution_count": 2,
   "id": "d8e92559",
   "metadata": {
    "execution": {
     "iopub.execute_input": "2024-04-09T08:12:22.066998Z",
     "iopub.status.busy": "2024-04-09T08:12:22.066461Z",
     "iopub.status.idle": "2024-04-09T08:12:22.147406Z",
     "shell.execute_reply": "2024-04-09T08:12:22.146524Z"
    },
    "papermill": {
     "duration": 0.094433,
     "end_time": "2024-04-09T08:12:22.150049",
     "exception": false,
     "start_time": "2024-04-09T08:12:22.055616",
     "status": "completed"
    },
    "tags": []
   },
   "outputs": [
    {
     "data": {
      "text/html": [
       "<div>\n",
       "<style scoped>\n",
       "    .dataframe tbody tr th:only-of-type {\n",
       "        vertical-align: middle;\n",
       "    }\n",
       "\n",
       "    .dataframe tbody tr th {\n",
       "        vertical-align: top;\n",
       "    }\n",
       "\n",
       "    .dataframe thead th {\n",
       "        text-align: right;\n",
       "    }\n",
       "</style>\n",
       "<table border=\"1\" class=\"dataframe\">\n",
       "  <thead>\n",
       "    <tr style=\"text-align: right;\">\n",
       "      <th></th>\n",
       "      <th>datetime</th>\n",
       "      <th>season</th>\n",
       "      <th>holiday</th>\n",
       "      <th>workingday</th>\n",
       "      <th>weather</th>\n",
       "      <th>temp</th>\n",
       "      <th>atemp</th>\n",
       "      <th>humidity</th>\n",
       "      <th>windspeed</th>\n",
       "      <th>casual</th>\n",
       "      <th>registered</th>\n",
       "      <th>count</th>\n",
       "      <th>data_set</th>\n",
       "    </tr>\n",
       "  </thead>\n",
       "  <tbody>\n",
       "    <tr>\n",
       "      <th>0</th>\n",
       "      <td>2011-01-01 00:00:00</td>\n",
       "      <td>1</td>\n",
       "      <td>0</td>\n",
       "      <td>0</td>\n",
       "      <td>1</td>\n",
       "      <td>9.84</td>\n",
       "      <td>14.395</td>\n",
       "      <td>81</td>\n",
       "      <td>0.0</td>\n",
       "      <td>3</td>\n",
       "      <td>13</td>\n",
       "      <td>16</td>\n",
       "      <td>train</td>\n",
       "    </tr>\n",
       "    <tr>\n",
       "      <th>1</th>\n",
       "      <td>2011-01-01 01:00:00</td>\n",
       "      <td>1</td>\n",
       "      <td>0</td>\n",
       "      <td>0</td>\n",
       "      <td>1</td>\n",
       "      <td>9.02</td>\n",
       "      <td>13.635</td>\n",
       "      <td>80</td>\n",
       "      <td>0.0</td>\n",
       "      <td>8</td>\n",
       "      <td>32</td>\n",
       "      <td>40</td>\n",
       "      <td>train</td>\n",
       "    </tr>\n",
       "    <tr>\n",
       "      <th>2</th>\n",
       "      <td>2011-01-01 02:00:00</td>\n",
       "      <td>1</td>\n",
       "      <td>0</td>\n",
       "      <td>0</td>\n",
       "      <td>1</td>\n",
       "      <td>9.02</td>\n",
       "      <td>13.635</td>\n",
       "      <td>80</td>\n",
       "      <td>0.0</td>\n",
       "      <td>5</td>\n",
       "      <td>27</td>\n",
       "      <td>32</td>\n",
       "      <td>train</td>\n",
       "    </tr>\n",
       "    <tr>\n",
       "      <th>3</th>\n",
       "      <td>2011-01-01 03:00:00</td>\n",
       "      <td>1</td>\n",
       "      <td>0</td>\n",
       "      <td>0</td>\n",
       "      <td>1</td>\n",
       "      <td>9.84</td>\n",
       "      <td>14.395</td>\n",
       "      <td>75</td>\n",
       "      <td>0.0</td>\n",
       "      <td>3</td>\n",
       "      <td>10</td>\n",
       "      <td>13</td>\n",
       "      <td>train</td>\n",
       "    </tr>\n",
       "    <tr>\n",
       "      <th>4</th>\n",
       "      <td>2011-01-01 04:00:00</td>\n",
       "      <td>1</td>\n",
       "      <td>0</td>\n",
       "      <td>0</td>\n",
       "      <td>1</td>\n",
       "      <td>9.84</td>\n",
       "      <td>14.395</td>\n",
       "      <td>75</td>\n",
       "      <td>0.0</td>\n",
       "      <td>0</td>\n",
       "      <td>1</td>\n",
       "      <td>1</td>\n",
       "      <td>train</td>\n",
       "    </tr>\n",
       "  </tbody>\n",
       "</table>\n",
       "</div>"
      ],
      "text/plain": [
       "              datetime  season  holiday  workingday  weather  temp   atemp  \\\n",
       "0  2011-01-01 00:00:00       1        0           0        1  9.84  14.395   \n",
       "1  2011-01-01 01:00:00       1        0           0        1  9.02  13.635   \n",
       "2  2011-01-01 02:00:00       1        0           0        1  9.02  13.635   \n",
       "3  2011-01-01 03:00:00       1        0           0        1  9.84  14.395   \n",
       "4  2011-01-01 04:00:00       1        0           0        1  9.84  14.395   \n",
       "\n",
       "   humidity  windspeed  casual  registered  count data_set  \n",
       "0        81        0.0       3          13     16    train  \n",
       "1        80        0.0       8          32     40    train  \n",
       "2        80        0.0       5          27     32    train  \n",
       "3        75        0.0       3          10     13    train  \n",
       "4        75        0.0       0           1      1    train  "
      ]
     },
     "execution_count": 2,
     "metadata": {},
     "output_type": "execute_result"
    }
   ],
   "source": [
    "input_dir = '/kaggle/input/bike-sharing-demand/'\n",
    "\n",
    "# 학습 데이터 불러오기\n",
    "train_data = pd.read_csv(os.path.join(input_dir, 'train.csv'))\n",
    "\n",
    "# 학습 데이터임을 의미하는 컬럼 부여\n",
    "train_data['data_set'] = 'train'\n",
    "\n",
    "# 5개 훔쳐보기\n",
    "train_data.head(5)"
   ]
  },
  {
   "cell_type": "code",
   "execution_count": 3,
   "id": "fc782039",
   "metadata": {
    "execution": {
     "iopub.execute_input": "2024-04-09T08:12:22.173911Z",
     "iopub.status.busy": "2024-04-09T08:12:22.172571Z",
     "iopub.status.idle": "2024-04-09T08:12:22.214695Z",
     "shell.execute_reply": "2024-04-09T08:12:22.213479Z"
    },
    "papermill": {
     "duration": 0.056486,
     "end_time": "2024-04-09T08:12:22.217183",
     "exception": false,
     "start_time": "2024-04-09T08:12:22.160697",
     "status": "completed"
    },
    "tags": []
   },
   "outputs": [
    {
     "data": {
      "text/html": [
       "<div>\n",
       "<style scoped>\n",
       "    .dataframe tbody tr th:only-of-type {\n",
       "        vertical-align: middle;\n",
       "    }\n",
       "\n",
       "    .dataframe tbody tr th {\n",
       "        vertical-align: top;\n",
       "    }\n",
       "\n",
       "    .dataframe thead th {\n",
       "        text-align: right;\n",
       "    }\n",
       "</style>\n",
       "<table border=\"1\" class=\"dataframe\">\n",
       "  <thead>\n",
       "    <tr style=\"text-align: right;\">\n",
       "      <th></th>\n",
       "      <th>datetime</th>\n",
       "      <th>season</th>\n",
       "      <th>holiday</th>\n",
       "      <th>workingday</th>\n",
       "      <th>weather</th>\n",
       "      <th>temp</th>\n",
       "      <th>atemp</th>\n",
       "      <th>humidity</th>\n",
       "      <th>windspeed</th>\n",
       "      <th>data_set</th>\n",
       "    </tr>\n",
       "  </thead>\n",
       "  <tbody>\n",
       "    <tr>\n",
       "      <th>0</th>\n",
       "      <td>2011-01-20 00:00:00</td>\n",
       "      <td>1</td>\n",
       "      <td>0</td>\n",
       "      <td>1</td>\n",
       "      <td>1</td>\n",
       "      <td>10.66</td>\n",
       "      <td>11.365</td>\n",
       "      <td>56</td>\n",
       "      <td>26.0027</td>\n",
       "      <td>test</td>\n",
       "    </tr>\n",
       "    <tr>\n",
       "      <th>1</th>\n",
       "      <td>2011-01-20 01:00:00</td>\n",
       "      <td>1</td>\n",
       "      <td>0</td>\n",
       "      <td>1</td>\n",
       "      <td>1</td>\n",
       "      <td>10.66</td>\n",
       "      <td>13.635</td>\n",
       "      <td>56</td>\n",
       "      <td>0.0000</td>\n",
       "      <td>test</td>\n",
       "    </tr>\n",
       "    <tr>\n",
       "      <th>2</th>\n",
       "      <td>2011-01-20 02:00:00</td>\n",
       "      <td>1</td>\n",
       "      <td>0</td>\n",
       "      <td>1</td>\n",
       "      <td>1</td>\n",
       "      <td>10.66</td>\n",
       "      <td>13.635</td>\n",
       "      <td>56</td>\n",
       "      <td>0.0000</td>\n",
       "      <td>test</td>\n",
       "    </tr>\n",
       "    <tr>\n",
       "      <th>3</th>\n",
       "      <td>2011-01-20 03:00:00</td>\n",
       "      <td>1</td>\n",
       "      <td>0</td>\n",
       "      <td>1</td>\n",
       "      <td>1</td>\n",
       "      <td>10.66</td>\n",
       "      <td>12.880</td>\n",
       "      <td>56</td>\n",
       "      <td>11.0014</td>\n",
       "      <td>test</td>\n",
       "    </tr>\n",
       "    <tr>\n",
       "      <th>4</th>\n",
       "      <td>2011-01-20 04:00:00</td>\n",
       "      <td>1</td>\n",
       "      <td>0</td>\n",
       "      <td>1</td>\n",
       "      <td>1</td>\n",
       "      <td>10.66</td>\n",
       "      <td>12.880</td>\n",
       "      <td>56</td>\n",
       "      <td>11.0014</td>\n",
       "      <td>test</td>\n",
       "    </tr>\n",
       "  </tbody>\n",
       "</table>\n",
       "</div>"
      ],
      "text/plain": [
       "              datetime  season  holiday  workingday  weather   temp   atemp  \\\n",
       "0  2011-01-20 00:00:00       1        0           1        1  10.66  11.365   \n",
       "1  2011-01-20 01:00:00       1        0           1        1  10.66  13.635   \n",
       "2  2011-01-20 02:00:00       1        0           1        1  10.66  13.635   \n",
       "3  2011-01-20 03:00:00       1        0           1        1  10.66  12.880   \n",
       "4  2011-01-20 04:00:00       1        0           1        1  10.66  12.880   \n",
       "\n",
       "   humidity  windspeed data_set  \n",
       "0        56    26.0027     test  \n",
       "1        56     0.0000     test  \n",
       "2        56     0.0000     test  \n",
       "3        56    11.0014     test  \n",
       "4        56    11.0014     test  "
      ]
     },
     "execution_count": 3,
     "metadata": {},
     "output_type": "execute_result"
    }
   ],
   "source": [
    "# 테스트 데이터 불러오기\n",
    "test_data = pd.read_csv(os.path.join(input_dir, 'test.csv'))\n",
    "\n",
    "# 테스트 데이터임을 의미하는 칼럼 부여\n",
    "test_data['data_set'] = 'test'\n",
    "\n",
    "# 5개 훔쳐보기\n",
    "test_data.head(5)"
   ]
  },
  {
   "cell_type": "markdown",
   "id": "fe23f05f",
   "metadata": {
    "papermill": {
     "duration": 0.009513,
     "end_time": "2024-04-09T08:12:22.236525",
     "exception": false,
     "start_time": "2024-04-09T08:12:22.227012",
     "status": "completed"
    },
    "tags": []
   },
   "source": [
    "From above we can see that **test_data** is missing **casual**, **registered** and **count** columns. Let's add those value and see the combined results."
   ]
  },
  {
   "cell_type": "code",
   "execution_count": 4,
   "id": "74134569",
   "metadata": {
    "execution": {
     "iopub.execute_input": "2024-04-09T08:12:22.259382Z",
     "iopub.status.busy": "2024-04-09T08:12:22.258588Z",
     "iopub.status.idle": "2024-04-09T08:12:22.285591Z",
     "shell.execute_reply": "2024-04-09T08:12:22.284184Z"
    },
    "papermill": {
     "duration": 0.041986,
     "end_time": "2024-04-09T08:12:22.288229",
     "exception": false,
     "start_time": "2024-04-09T08:12:22.246243",
     "status": "completed"
    },
    "tags": []
   },
   "outputs": [
    {
     "data": {
      "text/html": [
       "<div>\n",
       "<style scoped>\n",
       "    .dataframe tbody tr th:only-of-type {\n",
       "        vertical-align: middle;\n",
       "    }\n",
       "\n",
       "    .dataframe tbody tr th {\n",
       "        vertical-align: top;\n",
       "    }\n",
       "\n",
       "    .dataframe thead th {\n",
       "        text-align: right;\n",
       "    }\n",
       "</style>\n",
       "<table border=\"1\" class=\"dataframe\">\n",
       "  <thead>\n",
       "    <tr style=\"text-align: right;\">\n",
       "      <th></th>\n",
       "      <th>datetime</th>\n",
       "      <th>season</th>\n",
       "      <th>holiday</th>\n",
       "      <th>workingday</th>\n",
       "      <th>weather</th>\n",
       "      <th>temp</th>\n",
       "      <th>atemp</th>\n",
       "      <th>humidity</th>\n",
       "      <th>windspeed</th>\n",
       "      <th>casual</th>\n",
       "      <th>registered</th>\n",
       "      <th>count</th>\n",
       "      <th>data_set</th>\n",
       "    </tr>\n",
       "  </thead>\n",
       "  <tbody>\n",
       "    <tr>\n",
       "      <th>0</th>\n",
       "      <td>2011-01-01 00:00:00</td>\n",
       "      <td>1</td>\n",
       "      <td>0</td>\n",
       "      <td>0</td>\n",
       "      <td>1</td>\n",
       "      <td>9.84</td>\n",
       "      <td>14.395</td>\n",
       "      <td>81</td>\n",
       "      <td>0.0</td>\n",
       "      <td>3</td>\n",
       "      <td>13</td>\n",
       "      <td>16</td>\n",
       "      <td>train</td>\n",
       "    </tr>\n",
       "    <tr>\n",
       "      <th>1</th>\n",
       "      <td>2011-01-01 01:00:00</td>\n",
       "      <td>1</td>\n",
       "      <td>0</td>\n",
       "      <td>0</td>\n",
       "      <td>1</td>\n",
       "      <td>9.02</td>\n",
       "      <td>13.635</td>\n",
       "      <td>80</td>\n",
       "      <td>0.0</td>\n",
       "      <td>8</td>\n",
       "      <td>32</td>\n",
       "      <td>40</td>\n",
       "      <td>train</td>\n",
       "    </tr>\n",
       "    <tr>\n",
       "      <th>2</th>\n",
       "      <td>2011-01-01 02:00:00</td>\n",
       "      <td>1</td>\n",
       "      <td>0</td>\n",
       "      <td>0</td>\n",
       "      <td>1</td>\n",
       "      <td>9.02</td>\n",
       "      <td>13.635</td>\n",
       "      <td>80</td>\n",
       "      <td>0.0</td>\n",
       "      <td>5</td>\n",
       "      <td>27</td>\n",
       "      <td>32</td>\n",
       "      <td>train</td>\n",
       "    </tr>\n",
       "    <tr>\n",
       "      <th>3</th>\n",
       "      <td>2011-01-01 03:00:00</td>\n",
       "      <td>1</td>\n",
       "      <td>0</td>\n",
       "      <td>0</td>\n",
       "      <td>1</td>\n",
       "      <td>9.84</td>\n",
       "      <td>14.395</td>\n",
       "      <td>75</td>\n",
       "      <td>0.0</td>\n",
       "      <td>3</td>\n",
       "      <td>10</td>\n",
       "      <td>13</td>\n",
       "      <td>train</td>\n",
       "    </tr>\n",
       "    <tr>\n",
       "      <th>4</th>\n",
       "      <td>2011-01-01 04:00:00</td>\n",
       "      <td>1</td>\n",
       "      <td>0</td>\n",
       "      <td>0</td>\n",
       "      <td>1</td>\n",
       "      <td>9.84</td>\n",
       "      <td>14.395</td>\n",
       "      <td>75</td>\n",
       "      <td>0.0</td>\n",
       "      <td>0</td>\n",
       "      <td>1</td>\n",
       "      <td>1</td>\n",
       "      <td>train</td>\n",
       "    </tr>\n",
       "  </tbody>\n",
       "</table>\n",
       "</div>"
      ],
      "text/plain": [
       "              datetime  season  holiday  workingday  weather  temp   atemp  \\\n",
       "0  2011-01-01 00:00:00       1        0           0        1  9.84  14.395   \n",
       "1  2011-01-01 01:00:00       1        0           0        1  9.02  13.635   \n",
       "2  2011-01-01 02:00:00       1        0           0        1  9.02  13.635   \n",
       "3  2011-01-01 03:00:00       1        0           0        1  9.84  14.395   \n",
       "4  2011-01-01 04:00:00       1        0           0        1  9.84  14.395   \n",
       "\n",
       "   humidity  windspeed  casual  registered  count data_set  \n",
       "0        81        0.0       3          13     16    train  \n",
       "1        80        0.0       8          32     40    train  \n",
       "2        80        0.0       5          27     32    train  \n",
       "3        75        0.0       3          10     13    train  \n",
       "4        75        0.0       0           1      1    train  "
      ]
     },
     "execution_count": 4,
     "metadata": {},
     "output_type": "execute_result"
    }
   ],
   "source": [
    "# 원본 데이터 수정을 방지하기 위한 복사본\n",
    "test_df_copy = test_data.copy()\n",
    "\n",
    "# 테스트에 필요한 컬럼 부여\n",
    "test_df_copy['registered'] = 0\n",
    "test_df_copy['casual'] = 0\n",
    "test_df_copy['count'] = 0\n",
    "\n",
    "# 학습 데이터와 합치기\n",
    "all_df = pd.concat([  train_data,test_df_copy], ignore_index=True)\n",
    "\n",
    "# 훔쳐보기 (tail 찍음 테스트데이터 보임)\n",
    "all_df.head(5)"
   ]
  },
  {
   "cell_type": "markdown",
   "id": "5aae6578",
   "metadata": {
    "papermill": {
     "duration": 0.010714,
     "end_time": "2024-04-09T08:12:22.309287",
     "exception": false,
     "start_time": "2024-04-09T08:12:22.298573",
     "status": "completed"
    },
    "tags": []
   },
   "source": [
    "무슨 컬럼이 있나 살펴봐요"
   ]
  },
  {
   "cell_type": "code",
   "execution_count": 5,
   "id": "f2575d25",
   "metadata": {
    "execution": {
     "iopub.execute_input": "2024-04-09T08:12:22.331917Z",
     "iopub.status.busy": "2024-04-09T08:12:22.331474Z",
     "iopub.status.idle": "2024-04-09T08:12:22.339964Z",
     "shell.execute_reply": "2024-04-09T08:12:22.338746Z"
    },
    "papermill": {
     "duration": 0.02269,
     "end_time": "2024-04-09T08:12:22.342541",
     "exception": false,
     "start_time": "2024-04-09T08:12:22.319851",
     "status": "completed"
    },
    "tags": []
   },
   "outputs": [
    {
     "data": {
      "text/plain": [
       "Index(['datetime', 'season', 'holiday', 'workingday', 'weather', 'temp',\n",
       "       'atemp', 'humidity', 'windspeed', 'casual', 'registered', 'count',\n",
       "       'data_set'],\n",
       "      dtype='object')"
      ]
     },
     "execution_count": 5,
     "metadata": {},
     "output_type": "execute_result"
    }
   ],
   "source": [
    "all_df.columns"
   ]
  },
  {
   "cell_type": "markdown",
   "id": "2f850231",
   "metadata": {
    "papermill": {
     "duration": 0.009681,
     "end_time": "2024-04-09T08:12:22.363246",
     "exception": false,
     "start_time": "2024-04-09T08:12:22.353565",
     "status": "completed"
    },
    "tags": []
   },
   "source": [
    "시계열 분석을 위해 새 열을 만들어 보기!\n",
    "이 열은 기존 **datetime** 열에서 파싱되며 특정 시간 범위별로 인덱싱 됨\n",
    "> 시계열 분석이란? 시간 순서대로 정렬된 데이터에서 의미 있는 요약과 통계 정보를 추출하기 위한 노력을 의미함"
   ]
  },
  {
   "cell_type": "code",
   "execution_count": 6,
   "id": "c64c7569",
   "metadata": {
    "execution": {
     "iopub.execute_input": "2024-04-09T08:12:22.385959Z",
     "iopub.status.busy": "2024-04-09T08:12:22.385517Z",
     "iopub.status.idle": "2024-04-09T08:12:22.417048Z",
     "shell.execute_reply": "2024-04-09T08:12:22.415301Z"
    },
    "papermill": {
     "duration": 0.046284,
     "end_time": "2024-04-09T08:12:22.419795",
     "exception": false,
     "start_time": "2024-04-09T08:12:22.373511",
     "status": "completed"
    },
    "tags": []
   },
   "outputs": [
    {
     "data": {
      "text/html": [
       "<div>\n",
       "<style scoped>\n",
       "    .dataframe tbody tr th:only-of-type {\n",
       "        vertical-align: middle;\n",
       "    }\n",
       "\n",
       "    .dataframe tbody tr th {\n",
       "        vertical-align: top;\n",
       "    }\n",
       "\n",
       "    .dataframe thead th {\n",
       "        text-align: right;\n",
       "    }\n",
       "</style>\n",
       "<table border=\"1\" class=\"dataframe\">\n",
       "  <thead>\n",
       "    <tr style=\"text-align: right;\">\n",
       "      <th></th>\n",
       "      <th>datetime</th>\n",
       "      <th>season</th>\n",
       "      <th>holiday</th>\n",
       "      <th>workingday</th>\n",
       "      <th>weather</th>\n",
       "      <th>temp</th>\n",
       "      <th>atemp</th>\n",
       "      <th>humidity</th>\n",
       "      <th>windspeed</th>\n",
       "      <th>casual</th>\n",
       "      <th>registered</th>\n",
       "      <th>count</th>\n",
       "      <th>data_set</th>\n",
       "    </tr>\n",
       "    <tr>\n",
       "      <th>datetime</th>\n",
       "      <th></th>\n",
       "      <th></th>\n",
       "      <th></th>\n",
       "      <th></th>\n",
       "      <th></th>\n",
       "      <th></th>\n",
       "      <th></th>\n",
       "      <th></th>\n",
       "      <th></th>\n",
       "      <th></th>\n",
       "      <th></th>\n",
       "      <th></th>\n",
       "      <th></th>\n",
       "    </tr>\n",
       "  </thead>\n",
       "  <tbody>\n",
       "    <tr>\n",
       "      <th>2011-01-01 00:00:00</th>\n",
       "      <td>2011-01-01 00:00:00</td>\n",
       "      <td>1</td>\n",
       "      <td>0</td>\n",
       "      <td>0</td>\n",
       "      <td>1</td>\n",
       "      <td>9.84</td>\n",
       "      <td>14.395</td>\n",
       "      <td>81</td>\n",
       "      <td>0.0</td>\n",
       "      <td>3</td>\n",
       "      <td>13</td>\n",
       "      <td>16</td>\n",
       "      <td>train</td>\n",
       "    </tr>\n",
       "    <tr>\n",
       "      <th>2011-01-01 01:00:00</th>\n",
       "      <td>2011-01-01 01:00:00</td>\n",
       "      <td>1</td>\n",
       "      <td>0</td>\n",
       "      <td>0</td>\n",
       "      <td>1</td>\n",
       "      <td>9.02</td>\n",
       "      <td>13.635</td>\n",
       "      <td>80</td>\n",
       "      <td>0.0</td>\n",
       "      <td>8</td>\n",
       "      <td>32</td>\n",
       "      <td>40</td>\n",
       "      <td>train</td>\n",
       "    </tr>\n",
       "    <tr>\n",
       "      <th>2011-01-01 02:00:00</th>\n",
       "      <td>2011-01-01 02:00:00</td>\n",
       "      <td>1</td>\n",
       "      <td>0</td>\n",
       "      <td>0</td>\n",
       "      <td>1</td>\n",
       "      <td>9.02</td>\n",
       "      <td>13.635</td>\n",
       "      <td>80</td>\n",
       "      <td>0.0</td>\n",
       "      <td>5</td>\n",
       "      <td>27</td>\n",
       "      <td>32</td>\n",
       "      <td>train</td>\n",
       "    </tr>\n",
       "    <tr>\n",
       "      <th>2011-01-01 03:00:00</th>\n",
       "      <td>2011-01-01 03:00:00</td>\n",
       "      <td>1</td>\n",
       "      <td>0</td>\n",
       "      <td>0</td>\n",
       "      <td>1</td>\n",
       "      <td>9.84</td>\n",
       "      <td>14.395</td>\n",
       "      <td>75</td>\n",
       "      <td>0.0</td>\n",
       "      <td>3</td>\n",
       "      <td>10</td>\n",
       "      <td>13</td>\n",
       "      <td>train</td>\n",
       "    </tr>\n",
       "    <tr>\n",
       "      <th>2011-01-01 04:00:00</th>\n",
       "      <td>2011-01-01 04:00:00</td>\n",
       "      <td>1</td>\n",
       "      <td>0</td>\n",
       "      <td>0</td>\n",
       "      <td>1</td>\n",
       "      <td>9.84</td>\n",
       "      <td>14.395</td>\n",
       "      <td>75</td>\n",
       "      <td>0.0</td>\n",
       "      <td>0</td>\n",
       "      <td>1</td>\n",
       "      <td>1</td>\n",
       "      <td>train</td>\n",
       "    </tr>\n",
       "  </tbody>\n",
       "</table>\n",
       "</div>"
      ],
      "text/plain": [
       "                                datetime  season  holiday  workingday  \\\n",
       "datetime                                                                \n",
       "2011-01-01 00:00:00  2011-01-01 00:00:00       1        0           0   \n",
       "2011-01-01 01:00:00  2011-01-01 01:00:00       1        0           0   \n",
       "2011-01-01 02:00:00  2011-01-01 02:00:00       1        0           0   \n",
       "2011-01-01 03:00:00  2011-01-01 03:00:00       1        0           0   \n",
       "2011-01-01 04:00:00  2011-01-01 04:00:00       1        0           0   \n",
       "\n",
       "                     weather  temp   atemp  humidity  windspeed  casual  \\\n",
       "datetime                                                                  \n",
       "2011-01-01 00:00:00        1  9.84  14.395        81        0.0       3   \n",
       "2011-01-01 01:00:00        1  9.02  13.635        80        0.0       8   \n",
       "2011-01-01 02:00:00        1  9.02  13.635        80        0.0       5   \n",
       "2011-01-01 03:00:00        1  9.84  14.395        75        0.0       3   \n",
       "2011-01-01 04:00:00        1  9.84  14.395        75        0.0       0   \n",
       "\n",
       "                     registered  count data_set  \n",
       "datetime                                         \n",
       "2011-01-01 00:00:00          13     16    train  \n",
       "2011-01-01 01:00:00          32     40    train  \n",
       "2011-01-01 02:00:00          27     32    train  \n",
       "2011-01-01 03:00:00          10     13    train  \n",
       "2011-01-01 04:00:00           1      1    train  "
      ]
     },
     "execution_count": 6,
     "metadata": {},
     "output_type": "execute_result"
    }
   ],
   "source": [
    "#  'datetime' 칼럼에 인덱스 부여\n",
    "dt = pd.DatetimeIndex(all_df['datetime'])\n",
    "\n",
    "# DateTimeIndex 에 인덱스 부여\n",
    "all_df.set_index(dt, inplace=True)\n",
    "\n",
    "# 찍어보기\n",
    "all_df.head(5)"
   ]
  },
  {
   "cell_type": "markdown",
   "id": "571c0260",
   "metadata": {
    "papermill": {
     "duration": 0.009959,
     "end_time": "2024-04-09T08:12:22.440727",
     "exception": false,
     "start_time": "2024-04-09T08:12:22.430768",
     "status": "completed"
    },
    "tags": []
   },
   "source": [
    "## 왜 DatetimeIndex 로 인덱스를 부여하는가?\n",
    "[Pandas DateTimeIndex](https://datascienceschool.net/01%20python/04.08%20%EC%8B%9C%EA%B3%84%EC%97%B4%20%EC%9E%90%EB%A3%8C%20%EB%8B%A4%EB%A3%A8%EA%B8%B0.html)\n",
    "\n",
    "시계열 분석을 위해서는 인덱스를 부여해야한다고 한다."
   ]
  },
  {
   "cell_type": "code",
   "execution_count": 7,
   "id": "f09b9236",
   "metadata": {
    "execution": {
     "iopub.execute_input": "2024-04-09T08:12:22.468717Z",
     "iopub.status.busy": "2024-04-09T08:12:22.467984Z",
     "iopub.status.idle": "2024-04-09T08:12:22.499507Z",
     "shell.execute_reply": "2024-04-09T08:12:22.497570Z"
    },
    "papermill": {
     "duration": 0.051759,
     "end_time": "2024-04-09T08:12:22.504886",
     "exception": false,
     "start_time": "2024-04-09T08:12:22.453127",
     "status": "completed"
    },
    "tags": []
   },
   "outputs": [
    {
     "data": {
      "text/html": [
       "<div>\n",
       "<style scoped>\n",
       "    .dataframe tbody tr th:only-of-type {\n",
       "        vertical-align: middle;\n",
       "    }\n",
       "\n",
       "    .dataframe tbody tr th {\n",
       "        vertical-align: top;\n",
       "    }\n",
       "\n",
       "    .dataframe thead th {\n",
       "        text-align: right;\n",
       "    }\n",
       "</style>\n",
       "<table border=\"1\" class=\"dataframe\">\n",
       "  <thead>\n",
       "    <tr style=\"text-align: right;\">\n",
       "      <th></th>\n",
       "      <th>datetime</th>\n",
       "      <th>season</th>\n",
       "      <th>holiday</th>\n",
       "      <th>workingday</th>\n",
       "      <th>weather</th>\n",
       "      <th>temp</th>\n",
       "      <th>atemp</th>\n",
       "      <th>humidity</th>\n",
       "      <th>windspeed</th>\n",
       "      <th>casual</th>\n",
       "      <th>registered</th>\n",
       "      <th>count</th>\n",
       "      <th>data_set</th>\n",
       "    </tr>\n",
       "    <tr>\n",
       "      <th>datetime</th>\n",
       "      <th></th>\n",
       "      <th></th>\n",
       "      <th></th>\n",
       "      <th></th>\n",
       "      <th></th>\n",
       "      <th></th>\n",
       "      <th></th>\n",
       "      <th></th>\n",
       "      <th></th>\n",
       "      <th></th>\n",
       "      <th></th>\n",
       "      <th></th>\n",
       "      <th></th>\n",
       "    </tr>\n",
       "  </thead>\n",
       "  <tbody>\n",
       "    <tr>\n",
       "      <th>2011-01-01 01:00:00</th>\n",
       "      <td>2011-01-01 01:00:00</td>\n",
       "      <td>1</td>\n",
       "      <td>0</td>\n",
       "      <td>0</td>\n",
       "      <td>1</td>\n",
       "      <td>9.02</td>\n",
       "      <td>13.635</td>\n",
       "      <td>80</td>\n",
       "      <td>0.0</td>\n",
       "      <td>8</td>\n",
       "      <td>32</td>\n",
       "      <td>40</td>\n",
       "      <td>train</td>\n",
       "    </tr>\n",
       "    <tr>\n",
       "      <th>2011-01-01 02:00:00</th>\n",
       "      <td>2011-01-01 02:00:00</td>\n",
       "      <td>1</td>\n",
       "      <td>0</td>\n",
       "      <td>0</td>\n",
       "      <td>1</td>\n",
       "      <td>9.02</td>\n",
       "      <td>13.635</td>\n",
       "      <td>80</td>\n",
       "      <td>0.0</td>\n",
       "      <td>5</td>\n",
       "      <td>27</td>\n",
       "      <td>32</td>\n",
       "      <td>train</td>\n",
       "    </tr>\n",
       "    <tr>\n",
       "      <th>2011-01-01 03:00:00</th>\n",
       "      <td>2011-01-01 03:00:00</td>\n",
       "      <td>1</td>\n",
       "      <td>0</td>\n",
       "      <td>0</td>\n",
       "      <td>1</td>\n",
       "      <td>9.84</td>\n",
       "      <td>14.395</td>\n",
       "      <td>75</td>\n",
       "      <td>0.0</td>\n",
       "      <td>3</td>\n",
       "      <td>10</td>\n",
       "      <td>13</td>\n",
       "      <td>train</td>\n",
       "    </tr>\n",
       "  </tbody>\n",
       "</table>\n",
       "</div>"
      ],
      "text/plain": [
       "                                datetime  season  holiday  workingday  \\\n",
       "datetime                                                                \n",
       "2011-01-01 01:00:00  2011-01-01 01:00:00       1        0           0   \n",
       "2011-01-01 02:00:00  2011-01-01 02:00:00       1        0           0   \n",
       "2011-01-01 03:00:00  2011-01-01 03:00:00       1        0           0   \n",
       "\n",
       "                     weather  temp   atemp  humidity  windspeed  casual  \\\n",
       "datetime                                                                  \n",
       "2011-01-01 01:00:00        1  9.02  13.635        80        0.0       8   \n",
       "2011-01-01 02:00:00        1  9.02  13.635        80        0.0       5   \n",
       "2011-01-01 03:00:00        1  9.84  14.395        75        0.0       3   \n",
       "\n",
       "                     registered  count data_set  \n",
       "datetime                                         \n",
       "2011-01-01 01:00:00          32     40    train  \n",
       "2011-01-01 02:00:00          27     32    train  \n",
       "2011-01-01 03:00:00          10     13    train  "
      ]
     },
     "execution_count": 7,
     "metadata": {},
     "output_type": "execute_result"
    }
   ],
   "source": [
    "# 오름차순으로 datetimeIndex 정렬\n",
    "# Select rows from all_df that fall within the time range from '2011-01-01 01:00:00' to '2011-01-01 03:00:00'\n",
    "# all_df['2011-01-01 01:00:00':'2011-01-01 03:00:00']\n",
    "# Select rows from all_df that fall within the time range from '2011-01-01 01:00:00' to '2011-01-01 03:00:00'\n",
    "all_df.loc[(all_df.index >= '2011-01-01 01:00:00') & (all_df.index <= '2011-01-01 03:00:00')]"
   ]
  },
  {
   "cell_type": "markdown",
   "id": "ec71ffe1",
   "metadata": {
    "papermill": {
     "duration": 0.012971,
     "end_time": "2024-04-09T08:12:22.530941",
     "exception": false,
     "start_time": "2024-04-09T08:12:22.517970",
     "status": "completed"
    },
    "tags": []
   },
   "source": [
    "히스토그램 그려서 데이터를 파악해보자"
   ]
  },
  {
   "cell_type": "code",
   "execution_count": 8,
   "id": "cfb6adea",
   "metadata": {
    "execution": {
     "iopub.execute_input": "2024-04-09T08:12:22.554783Z",
     "iopub.status.busy": "2024-04-09T08:12:22.553760Z",
     "iopub.status.idle": "2024-04-09T08:12:24.995186Z",
     "shell.execute_reply": "2024-04-09T08:12:24.994188Z"
    },
    "papermill": {
     "duration": 2.456725,
     "end_time": "2024-04-09T08:12:24.998530",
     "exception": false,
     "start_time": "2024-04-09T08:12:22.541805",
     "status": "completed"
    },
    "tags": []
   },
   "outputs": [
    {
     "data": {
      "image/png": "[encoded data removed]",
      "text/plain": [
       "<Figure size 2000x1500 with 8 Axes>"
      ]
     },
     "metadata": {},
     "output_type": "display_data"
    }
   ],
   "source": [
    "# 히스토그램에 그려볼 컬럼 정의\n",
    "numeric_cols = ['season', 'weather', 'humidity', 'holiday', 'workingday', 'temp', 'atemp', 'windspeed']\n",
    "\n",
    "# 사이즈 정의\n",
    "plt.figure(figsize=(20, 15))\n",
    "\n",
    "# Loop through the numeric columns and plot histograms\n",
    "for i, col in enumerate(numeric_cols, start=1):\n",
    "    plt.subplot(4, 2, i)\n",
    "    all_df[col].plot.hist(bins=10, color='C'+str(i), label=f'Histogram of {col.capitalize()}', edgecolor='black')\n",
    "    plt.legend(loc='best')\n",
    "\n",
    "# 레이아웃 조정\n",
    "plt.tight_layout()"
   ]
  },
  {
   "cell_type": "markdown",
   "id": "56fc7d90",
   "metadata": {
    "papermill": {
     "duration": 0.012994,
     "end_time": "2024-04-09T08:12:25.024523",
     "exception": false,
     "start_time": "2024-04-09T08:12:25.011529",
     "status": "completed"
    },
    "tags": []
   },
   "source": [
    "** 해당 히스토그램에서 얻을 수 있는 추론들! **\n",
    "- **Season**: 계절의 분포는 비교적 고르게 나타나며, 각 계절은 데이터 세트에서 비슷한 빈도를 보인다.\n",
    "- **Weather**: 카테고리 1(대부분 맑은 날씨)의 빈도가 가장 높아, 데이터 세트에서 맑은 날씨가 가장 일반적인 조건임을 나타냄.\n",
    "- **Working Day and Holiday**: 대부분의 날이 근무일이며 휴일이 적음. 휴일은 일반적으로 정규 근무일에 비해 그 수가 적기 때문에 이는 예상되는 일\n",
    "- **Temperature (temp and atemp)**: 온도 변수(온도 및 온도)는 온도 데이터에서 예상되는 거의 정규 분포로 나타냄.\n",
    "- **Humidity**: 습도 값의 분포가 다소 왜곡된 것처럼 보이지만, 더 많은 맥락이나 구체적인 분포를 염두에 두지 않으면 그 분포에 대해 단정적으로 말하기는 어려울 듯\n",
    "- **Windspeed**: 풍속 데이터도 낮은 풍속에서는 주파수가 높고 풍속이 높을수록 꼬리가 길어지는 등 다소 왜곡된 것으로 보임\n",
    "\n"
   ]
  },
  {
   "cell_type": "markdown",
   "id": "12e68b9c",
   "metadata": {
    "papermill": {
     "duration": 0.012835,
     "end_time": "2024-04-09T08:12:25.050400",
     "exception": false,
     "start_time": "2024-04-09T08:12:25.037565",
     "status": "completed"
    },
    "tags": []
   },
   "source": [
    "종속 열의 로그 변환을 수행해 보자. \n",
    "> 이는 왜곡된 분포를 정규화하고 대칭으로 만들기 위해 수행된다! (중요한 부분인듯) "
   ]
  },
  {
   "cell_type": "code",
   "execution_count": 9,
   "id": "632f5829",
   "metadata": {
    "execution": {
     "iopub.execute_input": "2024-04-09T08:12:25.078896Z",
     "iopub.status.busy": "2024-04-09T08:12:25.078527Z",
     "iopub.status.idle": "2024-04-09T08:12:25.089231Z",
     "shell.execute_reply": "2024-04-09T08:12:25.087712Z"
    },
    "papermill": {
     "duration": 0.028517,
     "end_time": "2024-04-09T08:12:25.092424",
     "exception": false,
     "start_time": "2024-04-09T08:12:25.063907",
     "status": "completed"
    },
    "tags": []
   },
   "outputs": [],
   "source": [
    "# 로그로 변환된 새로운 컬럼 생성\n",
    "for col in ['casual', 'registered', 'count']:\n",
    "    all_df[f'{col}_log'] = np.log(all_df[col] + 1)\n"
   ]
  },
  {
   "cell_type": "code",
   "execution_count": 10,
   "id": "6e787cfd",
   "metadata": {
    "execution": {
     "iopub.execute_input": "2024-04-09T08:12:25.119955Z",
     "iopub.status.busy": "2024-04-09T08:12:25.119527Z",
     "iopub.status.idle": "2024-04-09T08:12:25.138127Z",
     "shell.execute_reply": "2024-04-09T08:12:25.136723Z"
    },
    "papermill": {
     "duration": 0.035996,
     "end_time": "2024-04-09T08:12:25.141274",
     "exception": false,
     "start_time": "2024-04-09T08:12:25.105278",
     "status": "completed"
    },
    "tags": []
   },
   "outputs": [],
   "source": [
    "# datetime 에서 각 시간 값 추출 및 컬럼으 부여\n",
    "all_df['date'] = dt.date\n",
    "all_df['day'] = dt.day\n",
    "all_df['month'] = dt.month\n",
    "all_df['year'] = dt.year\n",
    "all_df['hour'] = dt.hour\n",
    "all_df['dow'] = dt.dayofweek"
   ]
  },
  {
   "cell_type": "code",
   "execution_count": 11,
   "id": "26459bd4",
   "metadata": {
    "execution": {
     "iopub.execute_input": "2024-04-09T08:12:25.170227Z",
     "iopub.status.busy": "2024-04-09T08:12:25.169806Z",
     "iopub.status.idle": "2024-04-09T08:12:25.186056Z",
     "shell.execute_reply": "2024-04-09T08:12:25.184696Z"
    },
    "papermill": {
     "duration": 0.033712,
     "end_time": "2024-04-09T08:12:25.188585",
     "exception": false,
     "start_time": "2024-04-09T08:12:25.154873",
     "status": "completed"
    },
    "tags": []
   },
   "outputs": [
    {
     "data": {
      "text/plain": [
       "datetime          0\n",
       "season            0\n",
       "holiday           0\n",
       "workingday        0\n",
       "weather           0\n",
       "temp              0\n",
       "atemp             0\n",
       "humidity          0\n",
       "windspeed         0\n",
       "casual            0\n",
       "registered        0\n",
       "count             0\n",
       "data_set          0\n",
       "casual_log        0\n",
       "registered_log    0\n",
       "count_log         0\n",
       "date              0\n",
       "day               0\n",
       "month             0\n",
       "year              0\n",
       "hour              0\n",
       "dow               0\n",
       "dtype: int64"
      ]
     },
     "execution_count": 11,
     "metadata": {},
     "output_type": "execute_result"
    }
   ],
   "source": [
    "# 널 값이 있나?\n",
    "all_df.isnull().sum()"
   ]
  },
  {
   "cell_type": "markdown",
   "id": "546f4d73",
   "metadata": {
    "papermill": {
     "duration": 0.012707,
     "end_time": "2024-04-09T08:12:25.213776",
     "exception": false,
     "start_time": "2024-04-09T08:12:25.201069",
     "status": "completed"
    },
    "tags": []
   },
   "source": [
    "# Feature Engineering\n",
    "\n",
    "피처 엔지니어링은 머신러닝 모델의 성능을 향상시킬 수 있는 새로운 피처(변수)를 기존 데이터에서 생성하는 절차를 의미 함.\n",
    "새로운 변수를 도입하여 모델의 예측 능력을 향상시킬 수 있음\n",
    "\n",
    "1. **'peak' column:** 해당 시간이 피크 시간인지 아닌지를 나타냅니다. 피크 시간은 근무일과 휴무일에 따라 다르게 정의함\n",
    "\n",
    "2. **'holiday' column:** 2012년 10월 30일 샌디, 12월 24일, 26일, 31일 크리스마스 등과 같이 특정 날짜를 휴일로 표시합니다.\n",
    "\n",
    "3. **'workingday' column:** 12월 24일과 31일의 근무일 상태를 휴무일로 조정함\n",
    "\n",
    "4. **'ideal' column:** 온도와 풍속을 기반으로 날씨가 이상적인지 여부를 파악함.\n",
    "\n",
    "5. **'sticky' column:** 근무일에 습도가 높은지 여부를 표시함.\n",
    "\n",
    "위 예시대로 데이터 분석에 도움이 될만한 데이터를 집합해 컬럼으로 정의해서 삽입하면 모델은 더 잘 학습하게 될 것이다... 너무 어렵다"
   ]
  },
  {
   "cell_type": "code",
   "execution_count": 12,
   "id": "3e3baf3a",
   "metadata": {
    "execution": {
     "iopub.execute_input": "2024-04-09T08:12:25.242312Z",
     "iopub.status.busy": "2024-04-09T08:12:25.241824Z",
     "iopub.status.idle": "2024-04-09T08:12:26.658981Z",
     "shell.execute_reply": "2024-04-09T08:12:26.657753Z"
    },
    "papermill": {
     "duration": 1.435151,
     "end_time": "2024-04-09T08:12:26.661858",
     "exception": false,
     "start_time": "2024-04-09T08:12:25.226707",
     "status": "completed"
    },
    "tags": []
   },
   "outputs": [],
   "source": [
    "# 피크 시간대인 지 아닌 지 데이터 처리해서 컬럼으로 삽입..\n",
    "all_df['peak'] = all_df[['hour', 'workingday']]\\\n",
    "    .apply(lambda df: 1 if ((df['workingday'] == 1 and (df['hour'] == 8 or 17 <= df['hour'] <= 18)) \\\n",
    "                            or (df['workingday'] == 0 and 10 <= df['workingday'] <= 19)) else 0, axis=1)\n",
    "\n",
    "# sandy\n",
    "all_df['holiday'] = all_df[['month', 'day', 'holiday', 'year']]\\\n",
    "    .apply(lambda df: 1 if (df['year'] == 2012 and df['month'] == 10 and df['day'] == 30) else 0, axis=1)\n",
    "\n",
    "# 크리스마스나 다른 휴일인 지\n",
    "all_df['holiday'] = all_df[['month', 'day', 'holiday']]\\\n",
    "    .apply(lambda df: 1 if (df['month'] == 12 and df['day'] in [24, 26, 31]) else df['holiday'], axis=1)\n",
    "all_df['workingday'] = all_df[['month', 'day', 'workingday']]\\\n",
    "    .apply(lambda df: 0 if df['month'] == 12 and df['day'] in [24, 31] else df['workingday'], axis=1)\n",
    "\n",
    "all_df['ideal'] = all_df[['temp', 'windspeed']]\\\n",
    "    .apply(lambda df: 1 if (df['temp'] > 27 and df['windspeed'] < 30) else 0, axis=1)\n",
    "    \n",
    "all_df['sticky'] = all_df[['humidity', 'workingday']]\\\n",
    "    .apply(lambda df: 1 if (df['workingday'] == 1 and df['humidity'] >= 60) else 0, axis=1)\n"
   ]
  },
  {
   "cell_type": "code",
   "execution_count": 13,
   "id": "a1e1d31b",
   "metadata": {
    "execution": {
     "iopub.execute_input": "2024-04-09T08:12:26.688884Z",
     "iopub.status.busy": "2024-04-09T08:12:26.688509Z",
     "iopub.status.idle": "2024-04-09T08:12:26.719835Z",
     "shell.execute_reply": "2024-04-09T08:12:26.718465Z"
    },
    "papermill": {
     "duration": 0.048143,
     "end_time": "2024-04-09T08:12:26.722837",
     "exception": false,
     "start_time": "2024-04-09T08:12:26.674694",
     "status": "completed"
    },
    "tags": []
   },
   "outputs": [
    {
     "data": {
      "text/html": [
       "<div>\n",
       "<style scoped>\n",
       "    .dataframe tbody tr th:only-of-type {\n",
       "        vertical-align: middle;\n",
       "    }\n",
       "\n",
       "    .dataframe tbody tr th {\n",
       "        vertical-align: top;\n",
       "    }\n",
       "\n",
       "    .dataframe thead th {\n",
       "        text-align: right;\n",
       "    }\n",
       "</style>\n",
       "<table border=\"1\" class=\"dataframe\">\n",
       "  <thead>\n",
       "    <tr style=\"text-align: right;\">\n",
       "      <th></th>\n",
       "      <th>datetime</th>\n",
       "      <th>season</th>\n",
       "      <th>holiday</th>\n",
       "      <th>workingday</th>\n",
       "      <th>weather</th>\n",
       "      <th>temp</th>\n",
       "      <th>atemp</th>\n",
       "      <th>humidity</th>\n",
       "      <th>windspeed</th>\n",
       "      <th>casual</th>\n",
       "      <th>...</th>\n",
       "      <th>count_log</th>\n",
       "      <th>date</th>\n",
       "      <th>day</th>\n",
       "      <th>month</th>\n",
       "      <th>year</th>\n",
       "      <th>hour</th>\n",
       "      <th>dow</th>\n",
       "      <th>peak</th>\n",
       "      <th>ideal</th>\n",
       "      <th>sticky</th>\n",
       "    </tr>\n",
       "    <tr>\n",
       "      <th>datetime</th>\n",
       "      <th></th>\n",
       "      <th></th>\n",
       "      <th></th>\n",
       "      <th></th>\n",
       "      <th></th>\n",
       "      <th></th>\n",
       "      <th></th>\n",
       "      <th></th>\n",
       "      <th></th>\n",
       "      <th></th>\n",
       "      <th></th>\n",
       "      <th></th>\n",
       "      <th></th>\n",
       "      <th></th>\n",
       "      <th></th>\n",
       "      <th></th>\n",
       "      <th></th>\n",
       "      <th></th>\n",
       "      <th></th>\n",
       "      <th></th>\n",
       "      <th></th>\n",
       "    </tr>\n",
       "  </thead>\n",
       "  <tbody>\n",
       "    <tr>\n",
       "      <th>2011-04-29 02:00:00</th>\n",
       "      <td>2011-04-29 02:00:00</td>\n",
       "      <td>2</td>\n",
       "      <td>0</td>\n",
       "      <td>1</td>\n",
       "      <td>1</td>\n",
       "      <td>18.86</td>\n",
       "      <td>22.725</td>\n",
       "      <td>63</td>\n",
       "      <td>7.0015</td>\n",
       "      <td>0</td>\n",
       "      <td>...</td>\n",
       "      <td>0.000000</td>\n",
       "      <td>2011-04-29</td>\n",
       "      <td>29</td>\n",
       "      <td>4</td>\n",
       "      <td>2011</td>\n",
       "      <td>2</td>\n",
       "      <td>4</td>\n",
       "      <td>0</td>\n",
       "      <td>0</td>\n",
       "      <td>1</td>\n",
       "    </tr>\n",
       "    <tr>\n",
       "      <th>2012-01-09 17:00:00</th>\n",
       "      <td>2012-01-09 17:00:00</td>\n",
       "      <td>1</td>\n",
       "      <td>0</td>\n",
       "      <td>1</td>\n",
       "      <td>3</td>\n",
       "      <td>9.02</td>\n",
       "      <td>13.635</td>\n",
       "      <td>87</td>\n",
       "      <td>0.0000</td>\n",
       "      <td>5</td>\n",
       "      <td>...</td>\n",
       "      <td>5.030438</td>\n",
       "      <td>2012-01-09</td>\n",
       "      <td>9</td>\n",
       "      <td>1</td>\n",
       "      <td>2012</td>\n",
       "      <td>17</td>\n",
       "      <td>0</td>\n",
       "      <td>1</td>\n",
       "      <td>0</td>\n",
       "      <td>1</td>\n",
       "    </tr>\n",
       "    <tr>\n",
       "      <th>2012-02-21 19:00:00</th>\n",
       "      <td>2012-02-21 19:00:00</td>\n",
       "      <td>1</td>\n",
       "      <td>0</td>\n",
       "      <td>1</td>\n",
       "      <td>1</td>\n",
       "      <td>14.76</td>\n",
       "      <td>16.665</td>\n",
       "      <td>46</td>\n",
       "      <td>19.9995</td>\n",
       "      <td>0</td>\n",
       "      <td>...</td>\n",
       "      <td>0.000000</td>\n",
       "      <td>2012-02-21</td>\n",
       "      <td>21</td>\n",
       "      <td>2</td>\n",
       "      <td>2012</td>\n",
       "      <td>19</td>\n",
       "      <td>1</td>\n",
       "      <td>0</td>\n",
       "      <td>0</td>\n",
       "      <td>0</td>\n",
       "    </tr>\n",
       "    <tr>\n",
       "      <th>2011-12-15 14:00:00</th>\n",
       "      <td>2011-12-15 14:00:00</td>\n",
       "      <td>4</td>\n",
       "      <td>0</td>\n",
       "      <td>1</td>\n",
       "      <td>2</td>\n",
       "      <td>21.32</td>\n",
       "      <td>25.000</td>\n",
       "      <td>52</td>\n",
       "      <td>22.0028</td>\n",
       "      <td>8</td>\n",
       "      <td>...</td>\n",
       "      <td>4.890349</td>\n",
       "      <td>2011-12-15</td>\n",
       "      <td>15</td>\n",
       "      <td>12</td>\n",
       "      <td>2011</td>\n",
       "      <td>14</td>\n",
       "      <td>3</td>\n",
       "      <td>0</td>\n",
       "      <td>0</td>\n",
       "      <td>0</td>\n",
       "    </tr>\n",
       "    <tr>\n",
       "      <th>2011-06-21 10:00:00</th>\n",
       "      <td>2011-06-21 10:00:00</td>\n",
       "      <td>3</td>\n",
       "      <td>0</td>\n",
       "      <td>1</td>\n",
       "      <td>2</td>\n",
       "      <td>26.24</td>\n",
       "      <td>28.790</td>\n",
       "      <td>83</td>\n",
       "      <td>12.9980</td>\n",
       "      <td>0</td>\n",
       "      <td>...</td>\n",
       "      <td>0.000000</td>\n",
       "      <td>2011-06-21</td>\n",
       "      <td>21</td>\n",
       "      <td>6</td>\n",
       "      <td>2011</td>\n",
       "      <td>10</td>\n",
       "      <td>1</td>\n",
       "      <td>0</td>\n",
       "      <td>0</td>\n",
       "      <td>1</td>\n",
       "    </tr>\n",
       "    <tr>\n",
       "      <th>2012-02-11 09:00:00</th>\n",
       "      <td>2012-02-11 09:00:00</td>\n",
       "      <td>1</td>\n",
       "      <td>0</td>\n",
       "      <td>0</td>\n",
       "      <td>3</td>\n",
       "      <td>9.02</td>\n",
       "      <td>12.120</td>\n",
       "      <td>93</td>\n",
       "      <td>7.0015</td>\n",
       "      <td>5</td>\n",
       "      <td>...</td>\n",
       "      <td>4.510860</td>\n",
       "      <td>2012-02-11</td>\n",
       "      <td>11</td>\n",
       "      <td>2</td>\n",
       "      <td>2012</td>\n",
       "      <td>9</td>\n",
       "      <td>5</td>\n",
       "      <td>0</td>\n",
       "      <td>0</td>\n",
       "      <td>0</td>\n",
       "    </tr>\n",
       "    <tr>\n",
       "      <th>2011-10-03 09:00:00</th>\n",
       "      <td>2011-10-03 09:00:00</td>\n",
       "      <td>4</td>\n",
       "      <td>0</td>\n",
       "      <td>1</td>\n",
       "      <td>2</td>\n",
       "      <td>16.40</td>\n",
       "      <td>20.455</td>\n",
       "      <td>66</td>\n",
       "      <td>6.0032</td>\n",
       "      <td>12</td>\n",
       "      <td>...</td>\n",
       "      <td>5.036953</td>\n",
       "      <td>2011-10-03</td>\n",
       "      <td>3</td>\n",
       "      <td>10</td>\n",
       "      <td>2011</td>\n",
       "      <td>9</td>\n",
       "      <td>0</td>\n",
       "      <td>0</td>\n",
       "      <td>0</td>\n",
       "      <td>1</td>\n",
       "    </tr>\n",
       "    <tr>\n",
       "      <th>2011-09-01 14:00:00</th>\n",
       "      <td>2011-09-01 14:00:00</td>\n",
       "      <td>3</td>\n",
       "      <td>0</td>\n",
       "      <td>1</td>\n",
       "      <td>3</td>\n",
       "      <td>29.52</td>\n",
       "      <td>33.335</td>\n",
       "      <td>54</td>\n",
       "      <td>16.9979</td>\n",
       "      <td>54</td>\n",
       "      <td>...</td>\n",
       "      <td>5.293305</td>\n",
       "      <td>2011-09-01</td>\n",
       "      <td>1</td>\n",
       "      <td>9</td>\n",
       "      <td>2011</td>\n",
       "      <td>14</td>\n",
       "      <td>3</td>\n",
       "      <td>0</td>\n",
       "      <td>1</td>\n",
       "      <td>0</td>\n",
       "    </tr>\n",
       "    <tr>\n",
       "      <th>2012-10-18 13:00:00</th>\n",
       "      <td>2012-10-18 13:00:00</td>\n",
       "      <td>4</td>\n",
       "      <td>0</td>\n",
       "      <td>1</td>\n",
       "      <td>1</td>\n",
       "      <td>25.42</td>\n",
       "      <td>31.060</td>\n",
       "      <td>53</td>\n",
       "      <td>23.9994</td>\n",
       "      <td>96</td>\n",
       "      <td>...</td>\n",
       "      <td>5.808142</td>\n",
       "      <td>2012-10-18</td>\n",
       "      <td>18</td>\n",
       "      <td>10</td>\n",
       "      <td>2012</td>\n",
       "      <td>13</td>\n",
       "      <td>3</td>\n",
       "      <td>0</td>\n",
       "      <td>0</td>\n",
       "      <td>0</td>\n",
       "    </tr>\n",
       "    <tr>\n",
       "      <th>2012-08-16 09:00:00</th>\n",
       "      <td>2012-08-16 09:00:00</td>\n",
       "      <td>3</td>\n",
       "      <td>0</td>\n",
       "      <td>1</td>\n",
       "      <td>1</td>\n",
       "      <td>29.52</td>\n",
       "      <td>33.335</td>\n",
       "      <td>54</td>\n",
       "      <td>7.0015</td>\n",
       "      <td>41</td>\n",
       "      <td>...</td>\n",
       "      <td>5.823046</td>\n",
       "      <td>2012-08-16</td>\n",
       "      <td>16</td>\n",
       "      <td>8</td>\n",
       "      <td>2012</td>\n",
       "      <td>9</td>\n",
       "      <td>3</td>\n",
       "      <td>0</td>\n",
       "      <td>1</td>\n",
       "      <td>0</td>\n",
       "    </tr>\n",
       "  </tbody>\n",
       "</table>\n",
       "<p>10 rows × 25 columns</p>\n",
       "</div>"
      ],
      "text/plain": [
       "                                datetime  season  holiday  workingday  \\\n",
       "datetime                                                                \n",
       "2011-04-29 02:00:00  2011-04-29 02:00:00       2        0           1   \n",
       "2012-01-09 17:00:00  2012-01-09 17:00:00       1        0           1   \n",
       "2012-02-21 19:00:00  2012-02-21 19:00:00       1        0           1   \n",
       "2011-12-15 14:00:00  2011-12-15 14:00:00       4        0           1   \n",
       "2011-06-21 10:00:00  2011-06-21 10:00:00       3        0           1   \n",
       "2012-02-11 09:00:00  2012-02-11 09:00:00       1        0           0   \n",
       "2011-10-03 09:00:00  2011-10-03 09:00:00       4        0           1   \n",
       "2011-09-01 14:00:00  2011-09-01 14:00:00       3        0           1   \n",
       "2012-10-18 13:00:00  2012-10-18 13:00:00       4        0           1   \n",
       "2012-08-16 09:00:00  2012-08-16 09:00:00       3        0           1   \n",
       "\n",
       "                     weather   temp   atemp  humidity  windspeed  casual  ...  \\\n",
       "datetime                                                                  ...   \n",
       "2011-04-29 02:00:00        1  18.86  22.725        63     7.0015       0  ...   \n",
       "2012-01-09 17:00:00        3   9.02  13.635        87     0.0000       5  ...   \n",
       "2012-02-21 19:00:00        1  14.76  16.665        46    19.9995       0  ...   \n",
       "2011-12-15 14:00:00        2  21.32  25.000        52    22.0028       8  ...   \n",
       "2011-06-21 10:00:00        2  26.24  28.790        83    12.9980       0  ...   \n",
       "2012-02-11 09:00:00        3   9.02  12.120        93     7.0015       5  ...   \n",
       "2011-10-03 09:00:00        2  16.40  20.455        66     6.0032      12  ...   \n",
       "2011-09-01 14:00:00        3  29.52  33.335        54    16.9979      54  ...   \n",
       "2012-10-18 13:00:00        1  25.42  31.060        53    23.9994      96  ...   \n",
       "2012-08-16 09:00:00        1  29.52  33.335        54     7.0015      41  ...   \n",
       "\n",
       "                     count_log        date day  month  year  hour dow  peak  \\\n",
       "datetime                                                                      \n",
       "2011-04-29 02:00:00   0.000000  2011-04-29  29      4  2011     2   4     0   \n",
       "2012-01-09 17:00:00   5.030438  2012-01-09   9      1  2012    17   0     1   \n",
       "2012-02-21 19:00:00   0.000000  2012-02-21  21      2  2012    19   1     0   \n",
       "2011-12-15 14:00:00   4.890349  2011-12-15  15     12  2011    14   3     0   \n",
       "2011-06-21 10:00:00   0.000000  2011-06-21  21      6  2011    10   1     0   \n",
       "2012-02-11 09:00:00   4.510860  2012-02-11  11      2  2012     9   5     0   \n",
       "2011-10-03 09:00:00   5.036953  2011-10-03   3     10  2011     9   0     0   \n",
       "2011-09-01 14:00:00   5.293305  2011-09-01   1      9  2011    14   3     0   \n",
       "2012-10-18 13:00:00   5.808142  2012-10-18  18     10  2012    13   3     0   \n",
       "2012-08-16 09:00:00   5.823046  2012-08-16  16      8  2012     9   3     0   \n",
       "\n",
       "                     ideal  sticky  \n",
       "datetime                            \n",
       "2011-04-29 02:00:00      0       1  \n",
       "2012-01-09 17:00:00      0       1  \n",
       "2012-02-21 19:00:00      0       0  \n",
       "2011-12-15 14:00:00      0       0  \n",
       "2011-06-21 10:00:00      0       1  \n",
       "2012-02-11 09:00:00      0       0  \n",
       "2011-10-03 09:00:00      0       1  \n",
       "2011-09-01 14:00:00      1       0  \n",
       "2012-10-18 13:00:00      0       0  \n",
       "2012-08-16 09:00:00      1       0  \n",
       "\n",
       "[10 rows x 25 columns]"
      ]
     },
     "execution_count": 13,
     "metadata": {},
     "output_type": "execute_result"
    }
   ],
   "source": [
    "all_df.sample(10)"
   ]
  },
  {
   "cell_type": "markdown",
   "id": "b83bcc11",
   "metadata": {
    "papermill": {
     "duration": 0.01349,
     "end_time": "2024-04-09T08:12:26.750026",
     "exception": false,
     "start_time": "2024-04-09T08:12:26.736536",
     "status": "completed"
    },
    "tags": []
   },
   "source": [
    "# 모델 학습\n",
    "일반 사용자와 등록 사용자를 개별적으로 예측하는 머신러닝 모델을 만든 다음 이를 결합하여 전체 사용자 수에 대한 예측을 생성할 것임.\n",
    "\n",
    "교차 검증을 위해 훈련 데이터를 무작위로 분할하는 대신 \n",
    "교차 검증을 위해, 이 대회를 위해 데이터를 분할하는 방식에 좀 더\n",
    "이 대회를 위해 데이터를 분할하는 방식에 맞춰 프레임워크를 구축해보자.\n",
    "(매월 첫 19일이 주어지면 나머지 날짜에 대한 수요는 얼마인지)\n",
    "따라서 훈련 데이터를 두 개의 시간 연속 데이터 집합으로 분할하여\n",
    "(1~14일 대 15~19일)로 분할하여 모델을 피팅하고 검증한다.\n",
    "\n",
    "또한, 제출물은 제출된 데이터의\n",
    "평균 제곱 로그 오차(RMSLE)를 기준으로 평가되므로, 테스트와 학습을 진행하면서\n",
    "모델을 테스트하고 조정할 때 해당 계산을 복제해보자..."
   ]
  },
  {
   "cell_type": "code",
   "execution_count": 14,
   "id": "2a7822f6",
   "metadata": {
    "execution": {
     "iopub.execute_input": "2024-04-09T08:12:26.779010Z",
     "iopub.status.busy": "2024-04-09T08:12:26.778631Z",
     "iopub.status.idle": "2024-04-09T08:12:26.801449Z",
     "shell.execute_reply": "2024-04-09T08:12:26.799898Z"
    },
    "papermill": {
     "duration": 0.041304,
     "end_time": "2024-04-09T08:12:26.804349",
     "exception": false,
     "start_time": "2024-04-09T08:12:26.763045",
     "status": "completed"
    },
    "tags": []
   },
   "outputs": [],
   "source": [
    "\n",
    "\n",
    "# 학습, 테스트 데이터 분리! 기존에 all_df 를 선언하면서 통합했었다.\n",
    "train_df = all_df[all_df['data_set'] == 'train']\n",
    "test_df = all_df[all_df['data_set'] == 'test']\n",
    "\n",
    "# RMSLE 계산 함수 정의\n",
    "def get_rmsle(y_pred, y_actual):\n",
    "    diff = np.log(y_pred + 1) - np.log(y_actual + 1)\n",
    "    mean_error = np.square(diff).mean()\n",
    "    return np.sqrt(mean_error)\n",
    "\n",
    "# 마감일을 기준으로 학습 및 데이터 세트의 유효성 셋 분할을 위한 사용자 지정 함수를 정의\n",
    "def custom_train_valid_split(data, cutoff_day=15):\n",
    "    train = data[data['day'] <= cutoff_day]\n",
    "    valid = data[data['day'] > cutoff_day]\n",
    "    return train, valid\n",
    "\n",
    "# 지정된 열 리스트로 학습 데이터를 준비하는 함수를 정의\n",
    "def prep_train_data(data, input_cols):\n",
    "    X = data[input_cols].values\n",
    "    y_r = data['registered_log'].values\n",
    "    y_c = data['casual_log'].values\n",
    "    return X, y_r, y_c\n",
    "\n",
    "# 유효성 검사 집합에서 예측하고 로그 스케일에서 출력을 다시 변환하는 함수를 정의\n",
    "def predict_on_validation_set(model, input_cols):\n",
    "    train, valid = custom_train_valid_split(train_df)\n",
    "    X_train, y_train_r, y_train_c = prep_train_data(train, input_cols)\n",
    "    X_valid, y_valid_r, y_valid_c = prep_train_data(valid, input_cols)\n",
    "    model_r = model.fit(X_train, y_train_r)\n",
    "    y_pred_r = np.exp(model_r.predict(X_valid)) - 1\n",
    "    model_c = model.fit(X_train, y_train_c)\n",
    "    y_pred_c = np.exp(model_c.predict(X_valid)) - 1\n",
    "    y_pred_comb = np.round(y_pred_r + y_pred_c)\n",
    "    y_pred_comb[y_pred_comb < 0] = 0\n",
    "    y_actual_comb = np.exp(y_valid_r) + np.exp(y_valid_c) - 2\n",
    "    rmsle = get_rmsle(y_pred_comb, y_actual_comb)\n",
    "    return (y_pred_comb, y_actual_comb, rmsle)\n",
    "\n",
    "# 테스트 세트에서 예측하는 함수를 정의하고 이 함수는 로그 스케일에서 출력을 다시 변환한다!\n",
    "def predict_on_test_set(model, input_cols):\n",
    "    X_train, y_train_r, y_train_c = prep_train_data(train_df, input_cols)\n",
    "    X_test = test_df[input_cols].values\n",
    "    model_c = model.fit(X_train, y_train_c)\n",
    "    y_pred_c = np.exp(model_c.predict(X_test)) - 1\n",
    "    model_r = model.fit(X_train, y_train_r)\n",
    "    y_pred_r = np.exp(model_r.predict(X_test)) - 1\n",
    "    y_pred_comb = np.round(y_pred_r + y_pred_c)\n",
    "    y_pred_comb[y_pred_comb < 0] = 0\n",
    "    return y_pred_comb\n"
   ]
  },
  {
   "cell_type": "markdown",
   "id": "14dfac6b",
   "metadata": {
    "papermill": {
     "duration": 0.012601,
     "end_time": "2024-04-09T08:12:26.830977",
     "exception": false,
     "start_time": "2024-04-09T08:12:26.818376",
     "status": "completed"
    },
    "tags": []
   },
   "source": [
    "회귀 모델의 성능을 평가하기 위해 RF 모델과 최소평균제곱로그오차(RMSLE)를 사용해보자 거의 다옴.."
   ]
  },
  {
   "cell_type": "code",
   "execution_count": 15,
   "id": "3996840b",
   "metadata": {
    "execution": {
     "iopub.execute_input": "2024-04-09T08:12:26.859413Z",
     "iopub.status.busy": "2024-04-09T08:12:26.858979Z",
     "iopub.status.idle": "2024-04-09T08:12:41.066677Z",
     "shell.execute_reply": "2024-04-09T08:12:41.065578Z"
    },
    "papermill": {
     "duration": 14.225071,
     "end_time": "2024-04-09T08:12:41.069755",
     "exception": false,
     "start_time": "2024-04-09T08:12:26.844684",
     "status": "completed"
    },
    "tags": []
   },
   "outputs": [],
   "source": [
    "# RF 모델을 위한 하이퍼 파리미터 정의\n",
    "params = {\n",
    "    'n_estimators': 1000,  # Number of trees in the forest\n",
    "    'max_depth': 15,        # Maximum depth of the tree\n",
    "    'random_state': 0,      # Seed for random number generation\n",
    "    'min_samples_split': 5, # Minimum number of samples required to split an internal node\n",
    "    'n_jobs': -1,            # Number of jobs to run in parallel for fitting\n",
    "    'min_samples_leaf': 10   # Minimum number of samples required to be at a leaf node.\n",
    "#     '\n",
    "}\n",
    "\n",
    "# 하이퍼파라미터로 RF 모델 생성!\n",
    "rf_model = RandomForestRegressor(**params)\n",
    "\n",
    "# Specify the columns to be used as features in the Random Forest model\n",
    "rf_cols = [\n",
    "    'weather', 'temp', 'atemp', 'windspeed',\n",
    "    'workingday', 'season', 'holiday', 'sticky',\n",
    "    'hour', 'dow', 'peak'\n",
    "]\n",
    "\n",
    "# 계    산\n",
    "(rf_pred, rf_actual, rf_rmsle) = predict_on_validation_set(rf_model, rf_cols)\n"
   ]
  },
  {
   "cell_type": "markdown",
   "id": "046bc087",
   "metadata": {
    "papermill": {
     "duration": 0.012643,
     "end_time": "2024-04-09T08:12:41.095748",
     "exception": false,
     "start_time": "2024-04-09T08:12:41.083105",
     "status": "completed"
    },
    "tags": []
   },
   "source": [
    "찍어보자"
   ]
  },
  {
   "cell_type": "code",
   "execution_count": 16,
   "id": "3e20e490",
   "metadata": {
    "execution": {
     "iopub.execute_input": "2024-04-09T08:12:41.125672Z",
     "iopub.status.busy": "2024-04-09T08:12:41.125250Z",
     "iopub.status.idle": "2024-04-09T08:12:41.132571Z",
     "shell.execute_reply": "2024-04-09T08:12:41.131158Z"
    },
    "papermill": {
     "duration": 0.025987,
     "end_time": "2024-04-09T08:12:41.135197",
     "exception": false,
     "start_time": "2024-04-09T08:12:41.109210",
     "status": "completed"
    },
    "tags": []
   },
   "outputs": [
    {
     "name": "stdout",
     "output_type": "stream",
     "text": [
      "0.4304935220605546\n"
     ]
    }
   ],
   "source": [
    "print(rf_rmsle)"
   ]
  },
  {
   "cell_type": "markdown",
   "id": "db673cc1",
   "metadata": {
    "papermill": {
     "duration": 0.012768,
     "end_time": "2024-04-09T08:12:41.161190",
     "exception": false,
     "start_time": "2024-04-09T08:12:41.148422",
     "status": "completed"
    },
    "tags": []
   },
   "source": [
    "# Stacking\n",
    "\n",
    "### 주의\n",
    "Stacking 기법은 아직 수업 중 배운 내용이 아니다.\n",
    "간략하게 이해하기위해 도움되는 레퍼런스를 첨부하며 최소한의 이해로 진행해보자.\n",
    "**[Stacking 완벽 정리](https://hwi-doc.tistory.com/entry/%EC%8A%A4%ED%83%9C%ED%82%B9Stacking-%EC%99%84%EB%B2%BD-%EC%A0%95%EB%A6%AC)**\n",
    "\n",
    "> \"예측된 데이터를 계산하고 그걸 또 학습데이터로 사용한다.\" 정도만 이해하면 될듯\n",
    "\n",
    "**[통번역]**\n",
    "여러 모델의 예측을 결합하여 메타 예측을 만들려면 교차 검증과 유사한 스태킹이라는 기술을 사용할 수 있습니다. 예를 들어 5배수 스태킹에서는 먼저 학습 데이터를 5배수로 분할합니다. 그런 다음 5번 반복할 때마다 4개의 폴드에 대해 각 기본 모델을 훈련하고 나머지 폴드에 대해 예측하는 동시에 테스트 데이터에 대해서도 예측합니다. 이 과정을 통해 #(학습 데이터의 샘플) X #(기본 모델) 형태의 행렬이 생성됩니다. 이 행렬은 두 번째 레벨의 스태커 모델에 대한 입력으로 사용됩니다. 스태커를 피팅한 후 테스트 데이터에 대한 기본 모델의 예측을 사용하고(각 기본 모델은 테스트 데이터에 대해 예측하므로 동일한 테스트 데이터에 대해 5개의 예측이 이루어짐), 그 평균을 구하여 동일한 모양의 행렬을 얻으면 최종 예측을 얻을 수 있습니다.\n",
    "\n",
    "\n",
    "1. **Manual Stacking**: To generate a final prediction, we can stack the predictions of multiple models using a predefined weighted mechanism. This approach involves averaging the predictions of two or more models, rather than relying on a single model's prediction.\n",
    "\n",
    "2. **Stacking with Linear Regression**: In this scenario, we will train two classifiers using different sets of input columns. Subsequently, we will combine the predictions of these two classifiers using a Linear Regressor. The Linear Regressor serves as a meta-classifier, learning the optimal weighted combination of the predictions from the two level 0 classifiers."
   ]
  },
  {
   "cell_type": "markdown",
   "id": "b8151de7",
   "metadata": {
    "papermill": {
     "duration": 0.013205,
     "end_time": "2024-04-09T08:12:41.188217",
     "exception": false,
     "start_time": "2024-04-09T08:12:41.175012",
     "status": "completed"
    },
    "tags": []
   },
   "source": [
    "Let's perform manual stacking."
   ]
  },
  {
   "cell_type": "code",
   "execution_count": 17,
   "id": "b4a54330",
   "metadata": {
    "execution": {
     "iopub.execute_input": "2024-04-09T08:12:41.217928Z",
     "iopub.status.busy": "2024-04-09T08:12:41.216916Z",
     "iopub.status.idle": "2024-04-09T08:13:14.226060Z",
     "shell.execute_reply": "2024-04-09T08:13:14.224916Z"
    },
    "papermill": {
     "duration": 33.027196,
     "end_time": "2024-04-09T08:13:14.228850",
     "exception": false,
     "start_time": "2024-04-09T08:12:41.201654",
     "status": "completed"
    },
    "tags": []
   },
   "outputs": [],
   "source": [
    "# Predictions using Random Forest and Gradient Boosting models\n",
    "rf_pred = predict_on_test_set(rf_model, rf_cols)\n",
    "gbm_pred = predict_on_test_set(rf_model, rf_cols)\n",
    "\n",
    "# Combined prediction using a manual blend\n",
    "y_pred = np.round(.2*rf_pred + .8*gbm_pred)\n",
    "\n",
    "# Creating a DataFrame for submission\n",
    "submit_manual_blend_df = test_df[['datetime', 'count']].copy()\n",
    "submit_manual_blend_df['count'] = y_pred\n",
    "\n",
    "# Saving the submission DataFrame to a CSV file\n",
    "submit_manual_blend_df.to_csv('submit_manual_blend.csv', index=False)\n"
   ]
  },
  {
   "cell_type": "markdown",
   "id": "4b340e99",
   "metadata": {
    "papermill": {
     "duration": 0.012453,
     "end_time": "2024-04-09T08:13:14.254337",
     "exception": false,
     "start_time": "2024-04-09T08:13:14.241884",
     "status": "completed"
    },
    "tags": []
   },
   "source": [
    "Now, Let's perform Linear Regression stacking."
   ]
  },
  {
   "cell_type": "code",
   "execution_count": 18,
   "id": "8ea52e27",
   "metadata": {
    "execution": {
     "iopub.execute_input": "2024-04-09T08:13:14.281901Z",
     "iopub.status.busy": "2024-04-09T08:13:14.281491Z",
     "iopub.status.idle": "2024-04-09T08:13:42.824687Z",
     "shell.execute_reply": "2024-04-09T08:13:42.823522Z"
    },
    "papermill": {
     "duration": 28.560069,
     "end_time": "2024-04-09T08:13:42.827266",
     "exception": false,
     "start_time": "2024-04-09T08:13:14.267197",
     "status": "completed"
    },
    "tags": []
   },
   "outputs": [],
   "source": [
    "# Level 0 RandomForestRegressor\n",
    "rf_params = {'n_estimators': 1200, 'max_depth': 16, 'random_state': 0, 'min_samples_split': 12, 'n_jobs': -1}\n",
    "rf_model = RandomForestRegressor(**rf_params)\n",
    "rf_cols = [\n",
    "    'weather', 'temp', 'atemp', 'windspeed',\n",
    "    'workingday', 'season', 'holiday', 'sticky',\n",
    "    'hour', 'dow', 'peak'\n",
    "]\n",
    "\n",
    "# Level 0 GradientBoostingRegressor\n",
    "gbm_params = {'n_estimators': 150, 'max_depth': 5, 'random_state': 0, 'min_samples_leaf': 10, 'learning_rate': 0.1, 'subsample': 0.9, 'loss': 'squared_error'}\n",
    "gbm_model = GradientBoostingRegressor(**gbm_params)\n",
    "gbm_cols = [\n",
    "    'weather', 'temp', 'atemp', 'humidity', 'windspeed',\n",
    "    'holiday', 'workingday', 'season',\n",
    "    'hour', 'dow', 'year', 'ideal'\n",
    "]\n",
    "\n",
    "clf_input_cols = [rf_cols, gbm_cols]\n",
    "clfs = [rf_model, gbm_model]\n",
    "\n",
    "# Create train and test sets for blending and Pre-allocate the data\n",
    "blend_train = np.zeros((train_df.shape[0], len(clfs)))\n",
    "blend_test = np.zeros((test_df.shape[0], len(clfs)))\n",
    "\n",
    "# For each classifier, we train the classifier with its corresponding input_cols\n",
    "# and record the predictions on the train and the test set\n",
    "for clf_index, (input_cols, clf) in enumerate(zip(clf_input_cols, clfs)):\n",
    "\n",
    "    # prepare training and validation set\n",
    "    X_train, y_train_r, y_train_c = prep_train_data(train_df, input_cols)\n",
    "\n",
    "    # prepare testing set\n",
    "    X_test = test_df[input_cols].values\n",
    "\n",
    "    model_r = clf.fit(X_train, y_train_r)\n",
    "    y_pred_train_r = np.exp(model_r.predict(X_train)) - 1\n",
    "    y_pred_test_r = np.exp(model_r.predict(X_test)) - 1\n",
    "\n",
    "    model_c = clf.fit(X_train, y_train_c)\n",
    "    y_pred_train_c = np.exp(model_c.predict(X_train)) - 1\n",
    "    y_pred_test_c = np.exp(model_c.predict(X_test)) - 1\n",
    "\n",
    "    y_pred_train_comb = np.round(y_pred_train_r + y_pred_train_c)\n",
    "    y_pred_train_comb[y_pred_train_comb < 0] = 0\n",
    "\n",
    "    y_pred_test_comb = np.round(y_pred_test_r + y_pred_test_c)\n",
    "    y_pred_test_comb[y_pred_test_comb < 0] = 0\n",
    "\n",
    "    blend_train[:, clf_index] = y_pred_train_comb\n",
    "    blend_test[:, clf_index] = y_pred_test_comb\n"
   ]
  },
  {
   "cell_type": "code",
   "execution_count": 19,
   "id": "8c84402b",
   "metadata": {
    "execution": {
     "iopub.execute_input": "2024-04-09T08:13:42.855189Z",
     "iopub.status.busy": "2024-04-09T08:13:42.854771Z",
     "iopub.status.idle": "2024-04-09T08:13:42.886475Z",
     "shell.execute_reply": "2024-04-09T08:13:42.885345Z"
    },
    "papermill": {
     "duration": 0.048701,
     "end_time": "2024-04-09T08:13:42.889239",
     "exception": false,
     "start_time": "2024-04-09T08:13:42.840538",
     "status": "completed"
    },
    "tags": []
   },
   "outputs": [
    {
     "data": {
      "text/plain": [
       "array([0.17968906, 0.85793454])"
      ]
     },
     "execution_count": 19,
     "metadata": {},
     "output_type": "execute_result"
    }
   ],
   "source": [
    "# Level 1 Belending Classifier using LinearRegression\n",
    "from sklearn.linear_model import LinearRegression\n",
    "bclf = LinearRegression(fit_intercept=False)\n",
    "bclf.fit(blend_train, train_df['count'])\n",
    "\n",
    "# What is the weighted combination of the base classifiers?\n",
    "bclf.coef_\n",
    "\n"
   ]
  },
  {
   "cell_type": "code",
   "execution_count": 20,
   "id": "5c3c8f4c",
   "metadata": {
    "execution": {
     "iopub.execute_input": "2024-04-09T08:13:42.917765Z",
     "iopub.status.busy": "2024-04-09T08:13:42.917362Z",
     "iopub.status.idle": "2024-04-09T08:13:42.928781Z",
     "shell.execute_reply": "2024-04-09T08:13:42.926268Z"
    },
    "papermill": {
     "duration": 0.028226,
     "end_time": "2024-04-09T08:13:42.931129",
     "exception": false,
     "start_time": "2024-04-09T08:13:42.902903",
     "status": "completed"
    },
    "tags": []
   },
   "outputs": [
    {
     "data": {
      "text/plain": [
       "0.9619491606240993"
      ]
     },
     "execution_count": 20,
     "metadata": {},
     "output_type": "execute_result"
    }
   ],
   "source": [
    "# Stacked and Blending predictions\n",
    "y_pred_blend = np.round(bclf.predict(blend_test))\n",
    "\n",
    "# R^2 score\n",
    "bclf.score(blend_train, train_df['count'])\n",
    "\n"
   ]
  },
  {
   "cell_type": "markdown",
   "id": "eb739772",
   "metadata": {
    "papermill": {
     "duration": 0.013498,
     "end_time": "2024-04-09T08:13:43.055479",
     "exception": false,
     "start_time": "2024-04-09T08:13:43.041981",
     "status": "completed"
    },
    "tags": []
   },
   "source": [
    "Let's plot the predictions of each model "
   ]
  },
  {
   "cell_type": "code",
   "execution_count": 21,
   "id": "cf58c1dc",
   "metadata": {
    "execution": {
     "iopub.execute_input": "2024-04-09T08:13:43.083828Z",
     "iopub.status.busy": "2024-04-09T08:13:43.083404Z",
     "iopub.status.idle": "2024-04-09T08:13:43.696205Z",
     "shell.execute_reply": "2024-04-09T08:13:43.694810Z"
    },
    "papermill": {
     "duration": 0.630647,
     "end_time": "2024-04-09T08:13:43.699380",
     "exception": false,
     "start_time": "2024-04-09T08:13:43.068733",
     "status": "completed"
    },
    "tags": []
   },
   "outputs": [
    {
     "data": {
      "image/png": "[encoded data removed]",
      "text/plain": [
       "<Figure size 1400x1000 with 2 Axes>"
      ]
     },
     "metadata": {},
     "output_type": "display_data"
    }
   ],
   "source": [
    "# Plot predictions for each model for the first 100 samples\n",
    "plt.figure(figsize=(14, 10))\n",
    "for clf_index, clf_name in enumerate(['Random Forest', 'Gradient Boosting']):\n",
    "    plt.subplot(2, 1, clf_index+1)\n",
    "    plt.plot(np.arange(100), blend_train[:100, clf_index], label='Train Predictions', marker='o')\n",
    "    plt.plot(np.arange(100), blend_test[:100, clf_index], label='Test Predictions', marker='x')\n",
    "    plt.xlabel('Sample Index')\n",
    "    plt.ylabel('Predicted Value')\n",
    "    plt.title(f'{clf_name} Predictions for First 100 Samples')\n",
    "    plt.legend()\n",
    "\n",
    "plt.tight_layout()\n",
    "plt.show()"
   ]
  },
  {
   "cell_type": "code",
   "execution_count": 22,
   "id": "8e667fa8",
   "metadata": {
    "execution": {
     "iopub.execute_input": "2024-04-09T08:13:43.734704Z",
     "iopub.status.busy": "2024-04-09T08:13:43.734295Z",
     "iopub.status.idle": "2024-04-09T08:13:43.764034Z",
     "shell.execute_reply": "2024-04-09T08:13:43.762927Z"
    },
    "papermill": {
     "duration": 0.05019,
     "end_time": "2024-04-09T08:13:43.766399",
     "exception": false,
     "start_time": "2024-04-09T08:13:43.716209",
     "status": "completed"
    },
    "tags": []
   },
   "outputs": [],
   "source": [
    "# output predictions for submission\n",
    "submit_stack_blend_df = test_df[['datetime', 'count']].copy()\n",
    "submit_stack_blend_df['count'] = y_pred_blend\n",
    "submit_stack_blend_df.to_csv('submission.csv', index=False)\n"
   ]
  },
  {
   "cell_type": "markdown",
   "id": "4ce601a5",
   "metadata": {
    "papermill": {
     "duration": 0.016436,
     "end_time": "2024-04-09T08:13:43.799616",
     "exception": false,
     "start_time": "2024-04-09T08:13:43.783180",
     "status": "completed"
    },
    "tags": []
   },
   "source": [
    "# Conclusion\n",
    "\n",
    "위의 실험을 통해 자전거는 날씨가 좋을 때, 주로 가을철에 더 많이 대여되는 것으로 나타났습니다. 평일에는 주로 아침/저녁에, 주말에는 주로 낮 시간대 라이딩을 위해 대여하는 것으로 나타났습니다. 또한 온도, 풍속, 습도 사이의 다양한 상관관계도 살펴봤습니다. 머신러닝 모델도 랜덤포레스트레그레서(RandomForestRegressor)를 사용해 개발했고, 그 정확도를 평가했습니다. 수동 및 선형 회귀 스태킹의 개념도 설명했습니다.  \n"
   ]
  },
  {
   "cell_type": "markdown",
   "id": "fb88f3fb",
   "metadata": {
    "papermill": {
     "duration": 0.01707,
     "end_time": "2024-04-09T08:13:43.833597",
     "exception": false,
     "start_time": "2024-04-09T08:13:43.816527",
     "status": "completed"
    },
    "tags": []
   },
   "source": [
    "정말 좋은 예제인 것은 분명하나 난이도가 어렵다 배울 점이 많다."
   ]
  }
 ],
 "metadata": {
  "kaggle": {
   "accelerator": "none",
   "dataSources": [
    {
     "databundleVersionId": 32624,
     "sourceId": 3948,
     "sourceType": "competition"
    }
   ],
   "dockerImageVersionId": 30664,
   "isGpuEnabled": false,
   "isInternetEnabled": false,
   "language": "python",
   "sourceType": "notebook"
  },
  "kernelspec": {
   "display_name": "Python 3",
   "language": "python",
   "name": "python3"
  },
  "language_info": {
   "codemirror_mode": {
    "name": "ipython",
    "version": 3
   },
   "file_extension": ".py",
   "mimetype": "text/x-python",
   "name": "python",
   "nbconvert_exporter": "python",
   "pygments_lexer": "ipython3",
   "version": "3.10.13"
  },
  "papermill": {
   "default_parameters": {},
   "duration": 89.201663,
   "end_time": "2024-04-09T08:13:44.471676",
   "environment_variables": {},
   "exception": null,
   "input_path": "__notebook__.ipynb",
   "output_path": "__notebook__.ipynb",
   "parameters": {},
   "start_time": "2024-04-09T08:12:15.270013",
   "version": "2.5.0"
  }
 },
 "nbformat": 4,
 "nbformat_minor": 5
}
