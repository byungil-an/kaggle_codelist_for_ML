{
 "cells": [
  {
   "cell_type": "code",
   "execution_count": 1,
   "id": "0b78323a",
   "metadata": {
    "_cell_guid": "b1076dfc-b9ad-4769-8c92-a6c4dae69d19",
    "_uuid": "8f2839f25d086af736a60e9eeb907d3b93b6e0e5",
    "execution": {
     "iopub.execute_input": "2023-12-01T01:57:14.241626Z",
     "iopub.status.busy": "2023-12-01T01:57:14.241126Z",
     "iopub.status.idle": "2023-12-01T01:57:14.681902Z",
     "shell.execute_reply": "2023-12-01T01:57:14.680745Z"
    },
    "papermill": {
     "duration": 0.468301,
     "end_time": "2023-12-01T01:57:14.684560",
     "exception": false,
     "start_time": "2023-12-01T01:57:14.216259",
     "status": "completed"
    },
    "tags": []
   },
   "outputs": [
    {
     "name": "stdout",
     "output_type": "stream",
     "text": [
      "/kaggle/input/bike-sharing-demand/sampleSubmission.csv\n",
      "/kaggle/input/bike-sharing-demand/train.csv\n",
      "/kaggle/input/bike-sharing-demand/test.csv\n"
     ]
    }
   ],
   "source": [
    "# This Python 3 environment comes with many helpful analytics libraries installed\n",
    "# It is defined by the kaggle/python Docker image: https://github.com/kaggle/docker-python\n",
    "# For example, here's several helpful packages to load\n",
    "\n",
    "import numpy as np # linear algebra\n",
    "import pandas as pd # data processing, CSV file I/O (e.g. pd.read_csv)\n",
    "\n",
    "# Input data files are available in the read-only \"../input/\" directory\n",
    "# For example, running this (by clicking run or pressing Shift+Enter) will list all files under the input directory\n",
    "\n",
    "import os\n",
    "for dirname, _, filenames in os.walk('/kaggle/input'):\n",
    "    for filename in filenames:\n",
    "        print(os.path.join(dirname, filename))\n",
    "\n",
    "# You can write up to 20GB to the current directory (/kaggle/working/) that gets preserved as output when you create a version using \"Save & Run All\" \n",
    "# You can also write temporary files to /kaggle/temp/, but they won't be saved outside of the current session"
   ]
  },
  {
   "cell_type": "markdown",
   "id": "a514ffc4",
   "metadata": {
    "papermill": {
     "duration": 0.022402,
     "end_time": "2023-12-01T01:57:14.729209",
     "exception": false,
     "start_time": "2023-12-01T01:57:14.706807",
     "status": "completed"
    },
    "tags": []
   },
   "source": [
    "# 1.定义问题"
   ]
  },
  {
   "cell_type": "markdown",
   "id": "5c3b1d3c",
   "metadata": {
    "papermill": {
     "duration": 0.02179,
     "end_time": "2023-12-01T01:57:14.773604",
     "exception": false,
     "start_time": "2023-12-01T01:57:14.751814",
     "status": "completed"
    },
    "tags": []
   },
   "source": [
    "<font size=3>**背景信息**<br>\n",
    "<font size=2>&emsp;&emsp; 在覆盖整个城市的共享单车系统网络中，用户可以自助租借、归还自行车。目前，全球有超过 500 个共享单车系统。这些系统生成的数据明确记录了**用户租车时间、出发地点和结束地点等等信息**，充当着传感器网络的作用，可用于研究城市的交通出行行为。 </font>\n",
    "\n",
    "<font size=2>&emsp;&emsp;在本次比赛中，要求你使用包括天气情况在内的历史数据，来预测华盛顿共享单车系统的租借需求。</font>"
   ]
  },
  {
   "cell_type": "markdown",
   "id": "a7edc66c",
   "metadata": {
    "papermill": {
     "duration": 0.021821,
     "end_time": "2023-12-01T01:57:14.817706",
     "exception": false,
     "start_time": "2023-12-01T01:57:14.795885",
     "status": "completed"
    },
    "tags": []
   },
   "source": [
    "<font size=3> &emsp;&emsp;**★ 文件描述** </font>\n",
    "    \n",
    "<font size=3>&emsp;&emsp;&emsp;&emsp;**train.csv** - 包含目标变量的训练集 \\\n",
    "    &emsp;&emsp;&emsp;&emsp;**test.csv** - 不包含目标变量的测试集 \\\n",
    "    &emsp;&emsp;&emsp;&emsp;**sampleSubmission.csv** - 格式正确的示例提交文件</font>\n"
   ]
  },
  {
   "cell_type": "markdown",
   "id": "ba20843c",
   "metadata": {
    "papermill": {
     "duration": 0.022574,
     "end_time": "2023-12-01T01:57:14.862153",
     "exception": false,
     "start_time": "2023-12-01T01:57:14.839579",
     "status": "completed"
    },
    "tags": []
   },
   "source": [
    "<font size=3>&emsp;&emsp;**★ 最终目标：使用租赁期之前可用的信息，来预测测试集每个小时的单车使用量。** </font>\n",
    "\n",
    "<font size=3>&emsp;&emsp;**★ 评估指标：要求用均方根误差(Root Mean Squared Logarithmic Error, RMSLE)来评价模型的好坏。其数学公式为：**</font>\n",
    "\n",
    "$$ RMSLE = \\sqrt{\\frac{1}{n} \\sum_{i=1}^n [\\log(p_i + 1) - \\log(a_i + 1)]^2} $$\n",
    "\n",
    "<font size=3>&emsp;&emsp;&emsp;其中，$n$ 是测试集样本数，$p_i$ 是测试值，$a_i$ 是实际值。当均方根误差越小时，表示数据的拟合效果越好，测试值越接近实际值。</font>"
   ]
  },
  {
   "cell_type": "markdown",
   "id": "9d960e8e",
   "metadata": {
    "papermill": {
     "duration": 0.02152,
     "end_time": "2023-12-01T01:57:14.906097",
     "exception": false,
     "start_time": "2023-12-01T01:57:14.884577",
     "status": "completed"
    },
    "tags": []
   },
   "source": [
    "**<font size=3>在数据挖掘中，常见的预处理手段包括：**\n",
    "\n",
    "* 数据清洗：删除重复记录、处理缺失值、处理异常值、纠正错误数据等。\n",
    "\n",
    "* 特征选择：从原始数据中选择最有用的特征，以提高模型的精度和效率。\n",
    "\n",
    "* 特征缩放：对数值型特征进行缩放，以避免某些特征的权重过大或过小而影响模型的表现。\n",
    "\n",
    "* 数据变换：通过对数据进行归一化、标准化、离散化等处理，使得数据更加符合模型的假设和要求。\n",
    "\n",
    "* 数据集划分：将原始数据集划分为训练集、验证集和测试集，以便进行模型的训练、评估和优化。\n",
    "\n",
    "* 特征工程：通过对原始特征进行组合、衍生、转换等操作，构建新的特征，以提高模型的预测能力。"
   ]
  },
  {
   "cell_type": "code",
   "execution_count": 2,
   "id": "ecc0e056",
   "metadata": {
    "execution": {
     "iopub.execute_input": "2023-12-01T01:57:14.952508Z",
     "iopub.status.busy": "2023-12-01T01:57:14.951588Z",
     "iopub.status.idle": "2023-12-01T01:57:18.314836Z",
     "shell.execute_reply": "2023-12-01T01:57:18.313661Z"
    },
    "papermill": {
     "duration": 3.389562,
     "end_time": "2023-12-01T01:57:18.317699",
     "exception": false,
     "start_time": "2023-12-01T01:57:14.928137",
     "status": "completed"
    },
    "tags": []
   },
   "outputs": [],
   "source": [
    "#导包\n",
    "import numpy as np\n",
    "import pandas as pd\n",
    "import seaborn as sn\n",
    "from datetime import datetime\n",
    "import matplotlib.pyplot as plt\n",
    "import seaborn as sns\n",
    "import warnings\n",
    "from sklearn import metrics\n",
    "import xgboost as xgb\n",
    "import lightgbm as lgb\n",
    "from sklearn.model_selection import GridSearchCV\n",
    "\n",
    "pd.options.mode.chained_assignment = None\n",
    "warnings.filterwarnings(\"ignore\", category=DeprecationWarning)\n",
    "%matplotlib inline"
   ]
  },
  {
   "cell_type": "markdown",
   "id": "bc4fdff2",
   "metadata": {
    "papermill": {
     "duration": 0.021835,
     "end_time": "2023-12-01T01:57:18.362186",
     "exception": false,
     "start_time": "2023-12-01T01:57:18.340351",
     "status": "completed"
    },
    "tags": []
   },
   "source": [
    "# 2.数据EDA与预处理"
   ]
  },
  {
   "cell_type": "code",
   "execution_count": 3,
   "id": "b64b8d9b",
   "metadata": {
    "execution": {
     "iopub.execute_input": "2023-12-01T01:57:18.408569Z",
     "iopub.status.busy": "2023-12-01T01:57:18.408125Z",
     "iopub.status.idle": "2023-12-01T01:57:18.483337Z",
     "shell.execute_reply": "2023-12-01T01:57:18.481860Z"
    },
    "papermill": {
     "duration": 0.102344,
     "end_time": "2023-12-01T01:57:18.486416",
     "exception": false,
     "start_time": "2023-12-01T01:57:18.384072",
     "status": "completed"
    },
    "tags": []
   },
   "outputs": [],
   "source": [
    "# 加载数据\n",
    "train = pd.read_csv('/kaggle/input/bike-sharing-demand/train.csv')\n",
    "test = pd.read_csv('/kaggle/input/bike-sharing-demand/test.csv')"
   ]
  },
  {
   "cell_type": "markdown",
   "id": "13e02292",
   "metadata": {
    "papermill": {
     "duration": 0.021424,
     "end_time": "2023-12-01T01:57:18.529457",
     "exception": false,
     "start_time": "2023-12-01T01:57:18.508033",
     "status": "completed"
    },
    "tags": []
   },
   "source": [
    "<font size=3>**（1）查看数据集的大小以及包含哪些特征**"
   ]
  },
  {
   "cell_type": "code",
   "execution_count": 4,
   "id": "c1362452",
   "metadata": {
    "execution": {
     "iopub.execute_input": "2023-12-01T01:57:18.575739Z",
     "iopub.status.busy": "2023-12-01T01:57:18.574939Z",
     "iopub.status.idle": "2023-12-01T01:57:18.583201Z",
     "shell.execute_reply": "2023-12-01T01:57:18.582061Z"
    },
    "papermill": {
     "duration": 0.034416,
     "end_time": "2023-12-01T01:57:18.585649",
     "exception": false,
     "start_time": "2023-12-01T01:57:18.551233",
     "status": "completed"
    },
    "tags": []
   },
   "outputs": [
    {
     "data": {
      "text/plain": [
       "(10886, 12)"
      ]
     },
     "execution_count": 4,
     "metadata": {},
     "output_type": "execute_result"
    }
   ],
   "source": [
    "train.shape"
   ]
  },
  {
   "cell_type": "code",
   "execution_count": 5,
   "id": "e2b8f0c4",
   "metadata": {
    "execution": {
     "iopub.execute_input": "2023-12-01T01:57:18.694667Z",
     "iopub.status.busy": "2023-12-01T01:57:18.693843Z",
     "iopub.status.idle": "2023-12-01T01:57:18.730991Z",
     "shell.execute_reply": "2023-12-01T01:57:18.729513Z"
    },
    "papermill": {
     "duration": 0.063289,
     "end_time": "2023-12-01T01:57:18.733511",
     "exception": false,
     "start_time": "2023-12-01T01:57:18.670222",
     "status": "completed"
    },
    "tags": []
   },
   "outputs": [
    {
     "name": "stdout",
     "output_type": "stream",
     "text": [
      "<class 'pandas.core.frame.DataFrame'>\n",
      "RangeIndex: 10886 entries, 0 to 10885\n",
      "Data columns (total 12 columns):\n",
      " #   Column      Non-Null Count  Dtype  \n",
      "---  ------      --------------  -----  \n",
      " 0   datetime    10886 non-null  object \n",
      " 1   season      10886 non-null  int64  \n",
      " 2   holiday     10886 non-null  int64  \n",
      " 3   workingday  10886 non-null  int64  \n",
      " 4   weather     10886 non-null  int64  \n",
      " 5   temp        10886 non-null  float64\n",
      " 6   atemp       10886 non-null  float64\n",
      " 7   humidity    10886 non-null  int64  \n",
      " 8   windspeed   10886 non-null  float64\n",
      " 9   casual      10886 non-null  int64  \n",
      " 10  registered  10886 non-null  int64  \n",
      " 11  count       10886 non-null  int64  \n",
      "dtypes: float64(3), int64(8), object(1)\n",
      "memory usage: 1020.7+ KB\n"
     ]
    }
   ],
   "source": [
    "train.info()"
   ]
  },
  {
   "cell_type": "code",
   "execution_count": 6,
   "id": "918b4e9c",
   "metadata": {
    "execution": {
     "iopub.execute_input": "2023-12-01T01:57:18.781351Z",
     "iopub.status.busy": "2023-12-01T01:57:18.780915Z",
     "iopub.status.idle": "2023-12-01T01:57:18.795045Z",
     "shell.execute_reply": "2023-12-01T01:57:18.793243Z"
    },
    "papermill": {
     "duration": 0.042261,
     "end_time": "2023-12-01T01:57:18.798233",
     "exception": false,
     "start_time": "2023-12-01T01:57:18.755972",
     "status": "completed"
    },
    "tags": []
   },
   "outputs": [
    {
     "name": "stdout",
     "output_type": "stream",
     "text": [
      "<class 'pandas.core.frame.DataFrame'>\n",
      "RangeIndex: 6493 entries, 0 to 6492\n",
      "Data columns (total 9 columns):\n",
      " #   Column      Non-Null Count  Dtype  \n",
      "---  ------      --------------  -----  \n",
      " 0   datetime    6493 non-null   object \n",
      " 1   season      6493 non-null   int64  \n",
      " 2   holiday     6493 non-null   int64  \n",
      " 3   workingday  6493 non-null   int64  \n",
      " 4   weather     6493 non-null   int64  \n",
      " 5   temp        6493 non-null   float64\n",
      " 6   atemp       6493 non-null   float64\n",
      " 7   humidity    6493 non-null   int64  \n",
      " 8   windspeed   6493 non-null   float64\n",
      "dtypes: float64(3), int64(5), object(1)\n",
      "memory usage: 456.7+ KB\n"
     ]
    }
   ],
   "source": [
    "#测试数据集中没有'casual'和'registered'两列数据，也没有'count'的目标列。\n",
    "test.info()"
   ]
  },
  {
   "cell_type": "code",
   "execution_count": 7,
   "id": "db111078",
   "metadata": {
    "execution": {
     "iopub.execute_input": "2023-12-01T01:57:18.848573Z",
     "iopub.status.busy": "2023-12-01T01:57:18.847784Z",
     "iopub.status.idle": "2023-12-01T01:57:18.903448Z",
     "shell.execute_reply": "2023-12-01T01:57:18.902170Z"
    },
    "papermill": {
     "duration": 0.083303,
     "end_time": "2023-12-01T01:57:18.905978",
     "exception": false,
     "start_time": "2023-12-01T01:57:18.822675",
     "status": "completed"
    },
    "tags": []
   },
   "outputs": [
    {
     "data": {
      "text/html": [
       "<div>\n",
       "<style scoped>\n",
       "    .dataframe tbody tr th:only-of-type {\n",
       "        vertical-align: middle;\n",
       "    }\n",
       "\n",
       "    .dataframe tbody tr th {\n",
       "        vertical-align: top;\n",
       "    }\n",
       "\n",
       "    .dataframe thead th {\n",
       "        text-align: right;\n",
       "    }\n",
       "</style>\n",
       "<table border=\"1\" class=\"dataframe\">\n",
       "  <thead>\n",
       "    <tr style=\"text-align: right;\">\n",
       "      <th></th>\n",
       "      <th>season</th>\n",
       "      <th>holiday</th>\n",
       "      <th>workingday</th>\n",
       "      <th>weather</th>\n",
       "      <th>temp</th>\n",
       "      <th>atemp</th>\n",
       "      <th>humidity</th>\n",
       "      <th>windspeed</th>\n",
       "      <th>casual</th>\n",
       "      <th>registered</th>\n",
       "      <th>count</th>\n",
       "    </tr>\n",
       "  </thead>\n",
       "  <tbody>\n",
       "    <tr>\n",
       "      <th>count</th>\n",
       "      <td>10886.000000</td>\n",
       "      <td>10886.000000</td>\n",
       "      <td>10886.000000</td>\n",
       "      <td>10886.000000</td>\n",
       "      <td>10886.00000</td>\n",
       "      <td>10886.000000</td>\n",
       "      <td>10886.000000</td>\n",
       "      <td>10886.000000</td>\n",
       "      <td>10886.000000</td>\n",
       "      <td>10886.000000</td>\n",
       "      <td>10886.000000</td>\n",
       "    </tr>\n",
       "    <tr>\n",
       "      <th>mean</th>\n",
       "      <td>2.506614</td>\n",
       "      <td>0.028569</td>\n",
       "      <td>0.680875</td>\n",
       "      <td>1.418427</td>\n",
       "      <td>20.23086</td>\n",
       "      <td>23.655084</td>\n",
       "      <td>61.886460</td>\n",
       "      <td>12.799395</td>\n",
       "      <td>36.021955</td>\n",
       "      <td>155.552177</td>\n",
       "      <td>191.574132</td>\n",
       "    </tr>\n",
       "    <tr>\n",
       "      <th>std</th>\n",
       "      <td>1.116174</td>\n",
       "      <td>0.166599</td>\n",
       "      <td>0.466159</td>\n",
       "      <td>0.633839</td>\n",
       "      <td>7.79159</td>\n",
       "      <td>8.474601</td>\n",
       "      <td>19.245033</td>\n",
       "      <td>8.164537</td>\n",
       "      <td>49.960477</td>\n",
       "      <td>151.039033</td>\n",
       "      <td>181.144454</td>\n",
       "    </tr>\n",
       "    <tr>\n",
       "      <th>min</th>\n",
       "      <td>1.000000</td>\n",
       "      <td>0.000000</td>\n",
       "      <td>0.000000</td>\n",
       "      <td>1.000000</td>\n",
       "      <td>0.82000</td>\n",
       "      <td>0.760000</td>\n",
       "      <td>0.000000</td>\n",
       "      <td>0.000000</td>\n",
       "      <td>0.000000</td>\n",
       "      <td>0.000000</td>\n",
       "      <td>1.000000</td>\n",
       "    </tr>\n",
       "    <tr>\n",
       "      <th>25%</th>\n",
       "      <td>2.000000</td>\n",
       "      <td>0.000000</td>\n",
       "      <td>0.000000</td>\n",
       "      <td>1.000000</td>\n",
       "      <td>13.94000</td>\n",
       "      <td>16.665000</td>\n",
       "      <td>47.000000</td>\n",
       "      <td>7.001500</td>\n",
       "      <td>4.000000</td>\n",
       "      <td>36.000000</td>\n",
       "      <td>42.000000</td>\n",
       "    </tr>\n",
       "    <tr>\n",
       "      <th>50%</th>\n",
       "      <td>3.000000</td>\n",
       "      <td>0.000000</td>\n",
       "      <td>1.000000</td>\n",
       "      <td>1.000000</td>\n",
       "      <td>20.50000</td>\n",
       "      <td>24.240000</td>\n",
       "      <td>62.000000</td>\n",
       "      <td>12.998000</td>\n",
       "      <td>17.000000</td>\n",
       "      <td>118.000000</td>\n",
       "      <td>145.000000</td>\n",
       "    </tr>\n",
       "    <tr>\n",
       "      <th>75%</th>\n",
       "      <td>4.000000</td>\n",
       "      <td>0.000000</td>\n",
       "      <td>1.000000</td>\n",
       "      <td>2.000000</td>\n",
       "      <td>26.24000</td>\n",
       "      <td>31.060000</td>\n",
       "      <td>77.000000</td>\n",
       "      <td>16.997900</td>\n",
       "      <td>49.000000</td>\n",
       "      <td>222.000000</td>\n",
       "      <td>284.000000</td>\n",
       "    </tr>\n",
       "    <tr>\n",
       "      <th>max</th>\n",
       "      <td>4.000000</td>\n",
       "      <td>1.000000</td>\n",
       "      <td>1.000000</td>\n",
       "      <td>4.000000</td>\n",
       "      <td>41.00000</td>\n",
       "      <td>45.455000</td>\n",
       "      <td>100.000000</td>\n",
       "      <td>56.996900</td>\n",
       "      <td>367.000000</td>\n",
       "      <td>886.000000</td>\n",
       "      <td>977.000000</td>\n",
       "    </tr>\n",
       "  </tbody>\n",
       "</table>\n",
       "</div>"
      ],
      "text/plain": [
       "             season       holiday    workingday       weather         temp  \\\n",
       "count  10886.000000  10886.000000  10886.000000  10886.000000  10886.00000   \n",
       "mean       2.506614      0.028569      0.680875      1.418427     20.23086   \n",
       "std        1.116174      0.166599      0.466159      0.633839      7.79159   \n",
       "min        1.000000      0.000000      0.000000      1.000000      0.82000   \n",
       "25%        2.000000      0.000000      0.000000      1.000000     13.94000   \n",
       "50%        3.000000      0.000000      1.000000      1.000000     20.50000   \n",
       "75%        4.000000      0.000000      1.000000      2.000000     26.24000   \n",
       "max        4.000000      1.000000      1.000000      4.000000     41.00000   \n",
       "\n",
       "              atemp      humidity     windspeed        casual    registered  \\\n",
       "count  10886.000000  10886.000000  10886.000000  10886.000000  10886.000000   \n",
       "mean      23.655084     61.886460     12.799395     36.021955    155.552177   \n",
       "std        8.474601     19.245033      8.164537     49.960477    151.039033   \n",
       "min        0.760000      0.000000      0.000000      0.000000      0.000000   \n",
       "25%       16.665000     47.000000      7.001500      4.000000     36.000000   \n",
       "50%       24.240000     62.000000     12.998000     17.000000    118.000000   \n",
       "75%       31.060000     77.000000     16.997900     49.000000    222.000000   \n",
       "max       45.455000    100.000000     56.996900    367.000000    886.000000   \n",
       "\n",
       "              count  \n",
       "count  10886.000000  \n",
       "mean     191.574132  \n",
       "std      181.144454  \n",
       "min        1.000000  \n",
       "25%       42.000000  \n",
       "50%      145.000000  \n",
       "75%      284.000000  \n",
       "max      977.000000  "
      ]
     },
     "execution_count": 7,
     "metadata": {},
     "output_type": "execute_result"
    }
   ],
   "source": [
    "#数值型列的一些基本统计信息，如平均值、标准差、最小值、最大值等。\n",
    "train.describe()"
   ]
  },
  {
   "cell_type": "markdown",
   "id": "1b2cc499",
   "metadata": {
    "papermill": {
     "duration": 0.022599,
     "end_time": "2023-12-01T01:57:18.951661",
     "exception": false,
     "start_time": "2023-12-01T01:57:18.929062",
     "status": "completed"
    },
    "tags": []
   },
   "source": [
    "<font size=3>**（2）我们将数据集的列分成了四个不同的部分：数值型、分类型、时间序列和目标。**\n",
    "\n",
    "* 数值型：温度、体感温度、湿度和风速等四个特征；\n",
    "    \n",
    "* 分类型：季节、假期和天气等三个特征；\n",
    "\n",
    "* 时间序列：日期和时间等一个特征；\n",
    "\n",
    "* 目标：是预测自行车租赁数量，即'count'列。"
   ]
  },
  {
   "cell_type": "code",
   "execution_count": 8,
   "id": "bfb1108e",
   "metadata": {
    "execution": {
     "iopub.execute_input": "2023-12-01T01:57:18.999465Z",
     "iopub.status.busy": "2023-12-01T01:57:18.999025Z",
     "iopub.status.idle": "2023-12-01T01:57:19.004874Z",
     "shell.execute_reply": "2023-12-01T01:57:19.003898Z"
    },
    "papermill": {
     "duration": 0.032661,
     "end_time": "2023-12-01T01:57:19.007191",
     "exception": false,
     "start_time": "2023-12-01T01:57:18.974530",
     "status": "completed"
    },
    "tags": []
   },
   "outputs": [],
   "source": [
    "# numerical columns\n",
    "numeric_cols = ['temp', 'atemp','humidity', 'windspeed']\n",
    "# categorical columns\n",
    "category_cols = ['season', 'holiday', 'weather']\n",
    "# time series column \n",
    "['datetime']\n",
    "# target\n",
    "target = 'count'"
   ]
  },
  {
   "cell_type": "code",
   "execution_count": 9,
   "id": "545086d1",
   "metadata": {
    "execution": {
     "iopub.execute_input": "2023-12-01T01:57:19.063836Z",
     "iopub.status.busy": "2023-12-01T01:57:19.063053Z",
     "iopub.status.idle": "2023-12-01T01:57:19.128832Z",
     "shell.execute_reply": "2023-12-01T01:57:19.127767Z"
    },
    "papermill": {
     "duration": 0.099895,
     "end_time": "2023-12-01T01:57:19.131488",
     "exception": false,
     "start_time": "2023-12-01T01:57:19.031593",
     "status": "completed"
    },
    "tags": []
   },
   "outputs": [
    {
     "data": {
      "text/html": [
       "<div>\n",
       "<style scoped>\n",
       "    .dataframe tbody tr th:only-of-type {\n",
       "        vertical-align: middle;\n",
       "    }\n",
       "\n",
       "    .dataframe tbody tr th {\n",
       "        vertical-align: top;\n",
       "    }\n",
       "\n",
       "    .dataframe thead th {\n",
       "        text-align: right;\n",
       "    }\n",
       "</style>\n",
       "<table border=\"1\" class=\"dataframe\">\n",
       "  <thead>\n",
       "    <tr style=\"text-align: right;\">\n",
       "      <th></th>\n",
       "      <th>datetime</th>\n",
       "      <th>season</th>\n",
       "      <th>holiday</th>\n",
       "      <th>workingday</th>\n",
       "      <th>weather</th>\n",
       "      <th>temp</th>\n",
       "      <th>atemp</th>\n",
       "      <th>humidity</th>\n",
       "      <th>windspeed</th>\n",
       "      <th>casual</th>\n",
       "      <th>registered</th>\n",
       "      <th>count</th>\n",
       "      <th>year</th>\n",
       "      <th>month</th>\n",
       "      <th>day</th>\n",
       "      <th>hour</th>\n",
       "      <th>week</th>\n",
       "      <th>weekday</th>\n",
       "    </tr>\n",
       "  </thead>\n",
       "  <tbody>\n",
       "    <tr>\n",
       "      <th>0</th>\n",
       "      <td>2011-01-01 00:00:00</td>\n",
       "      <td>1</td>\n",
       "      <td>0</td>\n",
       "      <td>0</td>\n",
       "      <td>1</td>\n",
       "      <td>9.84</td>\n",
       "      <td>14.395</td>\n",
       "      <td>81</td>\n",
       "      <td>0.0</td>\n",
       "      <td>3</td>\n",
       "      <td>13</td>\n",
       "      <td>16</td>\n",
       "      <td>2011</td>\n",
       "      <td>1</td>\n",
       "      <td>1</td>\n",
       "      <td>0</td>\n",
       "      <td>52</td>\n",
       "      <td>5</td>\n",
       "    </tr>\n",
       "    <tr>\n",
       "      <th>1</th>\n",
       "      <td>2011-01-01 01:00:00</td>\n",
       "      <td>1</td>\n",
       "      <td>0</td>\n",
       "      <td>0</td>\n",
       "      <td>1</td>\n",
       "      <td>9.02</td>\n",
       "      <td>13.635</td>\n",
       "      <td>80</td>\n",
       "      <td>0.0</td>\n",
       "      <td>8</td>\n",
       "      <td>32</td>\n",
       "      <td>40</td>\n",
       "      <td>2011</td>\n",
       "      <td>1</td>\n",
       "      <td>1</td>\n",
       "      <td>1</td>\n",
       "      <td>52</td>\n",
       "      <td>5</td>\n",
       "    </tr>\n",
       "    <tr>\n",
       "      <th>2</th>\n",
       "      <td>2011-01-01 02:00:00</td>\n",
       "      <td>1</td>\n",
       "      <td>0</td>\n",
       "      <td>0</td>\n",
       "      <td>1</td>\n",
       "      <td>9.02</td>\n",
       "      <td>13.635</td>\n",
       "      <td>80</td>\n",
       "      <td>0.0</td>\n",
       "      <td>5</td>\n",
       "      <td>27</td>\n",
       "      <td>32</td>\n",
       "      <td>2011</td>\n",
       "      <td>1</td>\n",
       "      <td>1</td>\n",
       "      <td>2</td>\n",
       "      <td>52</td>\n",
       "      <td>5</td>\n",
       "    </tr>\n",
       "    <tr>\n",
       "      <th>3</th>\n",
       "      <td>2011-01-01 03:00:00</td>\n",
       "      <td>1</td>\n",
       "      <td>0</td>\n",
       "      <td>0</td>\n",
       "      <td>1</td>\n",
       "      <td>9.84</td>\n",
       "      <td>14.395</td>\n",
       "      <td>75</td>\n",
       "      <td>0.0</td>\n",
       "      <td>3</td>\n",
       "      <td>10</td>\n",
       "      <td>13</td>\n",
       "      <td>2011</td>\n",
       "      <td>1</td>\n",
       "      <td>1</td>\n",
       "      <td>3</td>\n",
       "      <td>52</td>\n",
       "      <td>5</td>\n",
       "    </tr>\n",
       "    <tr>\n",
       "      <th>4</th>\n",
       "      <td>2011-01-01 04:00:00</td>\n",
       "      <td>1</td>\n",
       "      <td>0</td>\n",
       "      <td>0</td>\n",
       "      <td>1</td>\n",
       "      <td>9.84</td>\n",
       "      <td>14.395</td>\n",
       "      <td>75</td>\n",
       "      <td>0.0</td>\n",
       "      <td>0</td>\n",
       "      <td>1</td>\n",
       "      <td>1</td>\n",
       "      <td>2011</td>\n",
       "      <td>1</td>\n",
       "      <td>1</td>\n",
       "      <td>4</td>\n",
       "      <td>52</td>\n",
       "      <td>5</td>\n",
       "    </tr>\n",
       "  </tbody>\n",
       "</table>\n",
       "</div>"
      ],
      "text/plain": [
       "             datetime  season  holiday  workingday  weather  temp   atemp  \\\n",
       "0 2011-01-01 00:00:00       1        0           0        1  9.84  14.395   \n",
       "1 2011-01-01 01:00:00       1        0           0        1  9.02  13.635   \n",
       "2 2011-01-01 02:00:00       1        0           0        1  9.02  13.635   \n",
       "3 2011-01-01 03:00:00       1        0           0        1  9.84  14.395   \n",
       "4 2011-01-01 04:00:00       1        0           0        1  9.84  14.395   \n",
       "\n",
       "   humidity  windspeed  casual  registered  count  year  month  day  hour  \\\n",
       "0        81        0.0       3          13     16  2011      1    1     0   \n",
       "1        80        0.0       8          32     40  2011      1    1     1   \n",
       "2        80        0.0       5          27     32  2011      1    1     2   \n",
       "3        75        0.0       3          10     13  2011      1    1     3   \n",
       "4        75        0.0       0           1      1  2011      1    1     4   \n",
       "\n",
       "   week  weekday  \n",
       "0    52        5  \n",
       "1    52        5  \n",
       "2    52        5  \n",
       "3    52        5  \n",
       "4    52        5  "
      ]
     },
     "execution_count": 9,
     "metadata": {},
     "output_type": "execute_result"
    }
   ],
   "source": [
    "def parse_datetime(df):\n",
    "    df['datetime'] = pd.to_datetime(df['datetime'])\n",
    "    df['year'] = df['datetime'].dt.year\n",
    "    df['month'] = df['datetime'].dt.month\n",
    "    df['day'] = df['datetime'].dt.day\n",
    "    df['hour'] = df['datetime'].dt.hour\n",
    "    df['week'] = df['datetime'].dt.isocalendar().week\n",
    "    df['weekday'] = df['datetime'].dt.dayofweek\n",
    "parse_datetime(train)\n",
    "parse_datetime(test)\n",
    "train.head()"
   ]
  },
  {
   "cell_type": "markdown",
   "id": "e47b08fb",
   "metadata": {
    "papermill": {
     "duration": 0.029523,
     "end_time": "2023-12-01T01:57:19.184937",
     "exception": false,
     "start_time": "2023-12-01T01:57:19.155414",
     "status": "completed"
    },
    "tags": []
   },
   "source": [
    "<font size=3>**（3）查看那些特征具有缺失**\n",
    "    \n",
    "* 通过调用自定义函数missing(train)，可以得到训练集中每个列的缺失值数量和百分比的统计结果。最终结果是没有缺失值。"
   ]
  },
  {
   "cell_type": "code",
   "execution_count": 10,
   "id": "e787fb3f",
   "metadata": {
    "execution": {
     "iopub.execute_input": "2023-12-01T01:57:19.250708Z",
     "iopub.status.busy": "2023-12-01T01:57:19.249759Z",
     "iopub.status.idle": "2023-12-01T01:57:19.284562Z",
     "shell.execute_reply": "2023-12-01T01:57:19.283267Z"
    },
    "papermill": {
     "duration": 0.07294,
     "end_time": "2023-12-01T01:57:19.287442",
     "exception": false,
     "start_time": "2023-12-01T01:57:19.214502",
     "status": "completed"
    },
    "tags": []
   },
   "outputs": [
    {
     "data": {
      "text/html": [
       "<div>\n",
       "<style scoped>\n",
       "    .dataframe tbody tr th:only-of-type {\n",
       "        vertical-align: middle;\n",
       "    }\n",
       "\n",
       "    .dataframe tbody tr th {\n",
       "        vertical-align: top;\n",
       "    }\n",
       "\n",
       "    .dataframe thead th {\n",
       "        text-align: right;\n",
       "    }\n",
       "</style>\n",
       "<table border=\"1\" class=\"dataframe\">\n",
       "  <thead>\n",
       "    <tr style=\"text-align: right;\">\n",
       "      <th></th>\n",
       "      <th>missNum</th>\n",
       "      <th>missPercent</th>\n",
       "    </tr>\n",
       "  </thead>\n",
       "  <tbody>\n",
       "    <tr>\n",
       "      <th>datetime</th>\n",
       "      <td>0</td>\n",
       "      <td>0.0</td>\n",
       "    </tr>\n",
       "    <tr>\n",
       "      <th>season</th>\n",
       "      <td>0</td>\n",
       "      <td>0.0</td>\n",
       "    </tr>\n",
       "    <tr>\n",
       "      <th>week</th>\n",
       "      <td>0</td>\n",
       "      <td>0.0</td>\n",
       "    </tr>\n",
       "    <tr>\n",
       "      <th>hour</th>\n",
       "      <td>0</td>\n",
       "      <td>0.0</td>\n",
       "    </tr>\n",
       "    <tr>\n",
       "      <th>day</th>\n",
       "      <td>0</td>\n",
       "      <td>0.0</td>\n",
       "    </tr>\n",
       "    <tr>\n",
       "      <th>month</th>\n",
       "      <td>0</td>\n",
       "      <td>0.0</td>\n",
       "    </tr>\n",
       "    <tr>\n",
       "      <th>year</th>\n",
       "      <td>0</td>\n",
       "      <td>0.0</td>\n",
       "    </tr>\n",
       "    <tr>\n",
       "      <th>count</th>\n",
       "      <td>0</td>\n",
       "      <td>0.0</td>\n",
       "    </tr>\n",
       "    <tr>\n",
       "      <th>registered</th>\n",
       "      <td>0</td>\n",
       "      <td>0.0</td>\n",
       "    </tr>\n",
       "    <tr>\n",
       "      <th>casual</th>\n",
       "      <td>0</td>\n",
       "      <td>0.0</td>\n",
       "    </tr>\n",
       "    <tr>\n",
       "      <th>windspeed</th>\n",
       "      <td>0</td>\n",
       "      <td>0.0</td>\n",
       "    </tr>\n",
       "    <tr>\n",
       "      <th>humidity</th>\n",
       "      <td>0</td>\n",
       "      <td>0.0</td>\n",
       "    </tr>\n",
       "    <tr>\n",
       "      <th>atemp</th>\n",
       "      <td>0</td>\n",
       "      <td>0.0</td>\n",
       "    </tr>\n",
       "    <tr>\n",
       "      <th>temp</th>\n",
       "      <td>0</td>\n",
       "      <td>0.0</td>\n",
       "    </tr>\n",
       "    <tr>\n",
       "      <th>weather</th>\n",
       "      <td>0</td>\n",
       "      <td>0.0</td>\n",
       "    </tr>\n",
       "    <tr>\n",
       "      <th>workingday</th>\n",
       "      <td>0</td>\n",
       "      <td>0.0</td>\n",
       "    </tr>\n",
       "    <tr>\n",
       "      <th>holiday</th>\n",
       "      <td>0</td>\n",
       "      <td>0.0</td>\n",
       "    </tr>\n",
       "    <tr>\n",
       "      <th>weekday</th>\n",
       "      <td>0</td>\n",
       "      <td>0.0</td>\n",
       "    </tr>\n",
       "  </tbody>\n",
       "</table>\n",
       "</div>"
      ],
      "text/plain": [
       "            missNum  missPercent\n",
       "datetime          0          0.0\n",
       "season            0          0.0\n",
       "week              0          0.0\n",
       "hour              0          0.0\n",
       "day               0          0.0\n",
       "month             0          0.0\n",
       "year              0          0.0\n",
       "count             0          0.0\n",
       "registered        0          0.0\n",
       "casual            0          0.0\n",
       "windspeed         0          0.0\n",
       "humidity          0          0.0\n",
       "atemp             0          0.0\n",
       "temp              0          0.0\n",
       "weather           0          0.0\n",
       "workingday        0          0.0\n",
       "holiday           0          0.0\n",
       "weekday           0          0.0"
      ]
     },
     "execution_count": 10,
     "metadata": {},
     "output_type": "execute_result"
    }
   ],
   "source": [
    "def missing (df):\n",
    "    \"\"\"\n",
    "    calculate % missing value for each column\n",
    "    \"\"\"\n",
    "    missing_number = df.isnull().sum().sort_values(ascending=False)                              \n",
    "    missing_percent = (df.isnull().sum()/df.isnull().count()).sort_values(ascending=False)         \n",
    "    missing_values = pd.concat([missing_number, missing_percent], axis=1, keys=['missNum', 'missPercent'])   \n",
    "    return missing_values\n",
    "\n",
    "missing(train)"
   ]
  },
  {
   "cell_type": "code",
   "execution_count": 11,
   "id": "7dba0029",
   "metadata": {
    "execution": {
     "iopub.execute_input": "2023-12-01T01:57:19.340920Z",
     "iopub.status.busy": "2023-12-01T01:57:19.340536Z",
     "iopub.status.idle": "2023-12-01T01:57:19.353576Z",
     "shell.execute_reply": "2023-12-01T01:57:19.352417Z"
    },
    "papermill": {
     "duration": 0.042169,
     "end_time": "2023-12-01T01:57:19.356035",
     "exception": false,
     "start_time": "2023-12-01T01:57:19.313866",
     "status": "completed"
    },
    "tags": []
   },
   "outputs": [
    {
     "name": "stdout",
     "output_type": "stream",
     "text": [
      "season: [1 2 3 4]\n",
      "holiday: [0 1]\n",
      "weather: [1 2 3 4]\n"
     ]
    }
   ],
   "source": [
    "for feature in train[category_cols]:\n",
    "        print(f'{feature}: {train[feature].unique()}')"
   ]
  },
  {
   "cell_type": "markdown",
   "id": "3aa21ba0",
   "metadata": {
    "papermill": {
     "duration": 0.023288,
     "end_time": "2023-12-01T01:57:19.403254",
     "exception": false,
     "start_time": "2023-12-01T01:57:19.379966",
     "status": "completed"
    },
    "tags": []
   },
   "source": [
    "* 通过调用自定义函数find_index，检查是否用空格代替了缺失值。返回值均为-1，数据未使用空格代替缺失值。"
   ]
  },
  {
   "cell_type": "code",
   "execution_count": 12,
   "id": "c3e5410c",
   "metadata": {
    "execution": {
     "iopub.execute_input": "2023-12-01T01:57:19.456350Z",
     "iopub.status.busy": "2023-12-01T01:57:19.455652Z",
     "iopub.status.idle": "2023-12-01T01:57:19.472619Z",
     "shell.execute_reply": "2023-12-01T01:57:19.471041Z"
    },
    "papermill": {
     "duration": 0.048221,
     "end_time": "2023-12-01T01:57:19.475123",
     "exception": false,
     "start_time": "2023-12-01T01:57:19.426902",
     "status": "completed"
    },
    "tags": []
   },
   "outputs": [
    {
     "name": "stdout",
     "output_type": "stream",
     "text": [
      "-1\n",
      "-1\n",
      "-1\n",
      "-1\n"
     ]
    }
   ],
   "source": [
    "# 检查是否用空格代替了缺失值\n",
    "def find_index(data_col, val):\n",
    "   \n",
    "    val_list = [val]\n",
    "    if data_col.isin(val_list).sum() == 0:\n",
    "        index = -1\n",
    "    else:\n",
    "        index = data_col.isin(val_list).idxmax()\n",
    "    return index\n",
    "\n",
    "for col in numeric_cols:\n",
    "    print(find_index(train[col], \" \"))\n",
    "    "
   ]
  },
  {
   "cell_type": "markdown",
   "id": "7c089344",
   "metadata": {
    "papermill": {
     "duration": 0.026371,
     "end_time": "2023-12-01T01:57:19.525423",
     "exception": false,
     "start_time": "2023-12-01T01:57:19.499052",
     "status": "completed"
    },
    "tags": []
   },
   "source": [
    "* 通过调用自定义函数find_index，检查是否用0代替了缺失值。对于每个数值型列，都调用find_index函数查找0值的索引，并将其添加到is_0列表中。最终结果为‘humidity’和‘windspeed’两列存在0值。之后通过调用zero_missing_percent(train, 'windspeed')和zero_missing_percent(train, 'humidity')，可以得到在'windspeed'列和'humidity'列中值为0的缺失值数量和百分比。最后调用自定义函数wind_mean_fill和humidity_mean_fill在训练集和测试集上都可以使用列的平均值填充0值，从而解决了缺失值的问题。"
   ]
  },
  {
   "cell_type": "code",
   "execution_count": 13,
   "id": "73995168",
   "metadata": {
    "execution": {
     "iopub.execute_input": "2023-12-01T01:57:19.575568Z",
     "iopub.status.busy": "2023-12-01T01:57:19.574771Z",
     "iopub.status.idle": "2023-12-01T01:57:19.596863Z",
     "shell.execute_reply": "2023-12-01T01:57:19.595718Z"
    },
    "papermill": {
     "duration": 0.050281,
     "end_time": "2023-12-01T01:57:19.599329",
     "exception": false,
     "start_time": "2023-12-01T01:57:19.549048",
     "status": "completed"
    },
    "tags": []
   },
   "outputs": [
    {
     "data": {
      "text/html": [
       "<div>\n",
       "<style scoped>\n",
       "    .dataframe tbody tr th:only-of-type {\n",
       "        vertical-align: middle;\n",
       "    }\n",
       "\n",
       "    .dataframe tbody tr th {\n",
       "        vertical-align: top;\n",
       "    }\n",
       "\n",
       "    .dataframe thead th {\n",
       "        text-align: right;\n",
       "    }\n",
       "</style>\n",
       "<table border=\"1\" class=\"dataframe\">\n",
       "  <thead>\n",
       "    <tr style=\"text-align: right;\">\n",
       "      <th></th>\n",
       "      <th>cols</th>\n",
       "      <th>is_0</th>\n",
       "    </tr>\n",
       "  </thead>\n",
       "  <tbody>\n",
       "    <tr>\n",
       "      <th>0</th>\n",
       "      <td>temp</td>\n",
       "      <td>-1</td>\n",
       "    </tr>\n",
       "    <tr>\n",
       "      <th>1</th>\n",
       "      <td>atemp</td>\n",
       "      <td>-1</td>\n",
       "    </tr>\n",
       "    <tr>\n",
       "      <th>2</th>\n",
       "      <td>humidity</td>\n",
       "      <td>1091</td>\n",
       "    </tr>\n",
       "    <tr>\n",
       "      <th>3</th>\n",
       "      <td>windspeed</td>\n",
       "      <td>0</td>\n",
       "    </tr>\n",
       "  </tbody>\n",
       "</table>\n",
       "</div>"
      ],
      "text/plain": [
       "        cols  is_0\n",
       "0       temp    -1\n",
       "1      atemp    -1\n",
       "2   humidity  1091\n",
       "3  windspeed     0"
      ]
     },
     "execution_count": 13,
     "metadata": {},
     "output_type": "execute_result"
    }
   ],
   "source": [
    "# 检查是否用0代替了缺失值\n",
    "def find_index(data_col, val):\n",
    "    val_list = [val]\n",
    "    if data_col.isin(val_list).sum() == 0:\n",
    "        index = -1\n",
    "    else:\n",
    "        index = data_col.isin(val_list).idxmax()\n",
    "    return index\n",
    "\n",
    "is_0 = []\n",
    "for col in numeric_cols:\n",
    "    is_0.append(find_index(train[col], 0))\n",
    "\n",
    "numeric_cols = ['temp', 'atemp','humidity', 'windspeed']\n",
    "missing_check_0 = pd.DataFrame({'cols': numeric_cols, 'is_0': is_0})\n",
    "missing_check_0\n"
   ]
  },
  {
   "cell_type": "code",
   "execution_count": 14,
   "id": "f5cf1ebc",
   "metadata": {
    "execution": {
     "iopub.execute_input": "2023-12-01T01:57:19.650053Z",
     "iopub.status.busy": "2023-12-01T01:57:19.648979Z",
     "iopub.status.idle": "2023-12-01T01:57:19.657860Z",
     "shell.execute_reply": "2023-12-01T01:57:19.656158Z"
    },
    "papermill": {
     "duration": 0.036831,
     "end_time": "2023-12-01T01:57:19.660388",
     "exception": false,
     "start_time": "2023-12-01T01:57:19.623557",
     "status": "completed"
    },
    "tags": []
   },
   "outputs": [
    {
     "name": "stdout",
     "output_type": "stream",
     "text": [
      "[ 0.      6.0032 16.9979 19.0012 19.9995 12.998  15.0013  8.9981 11.0014\n",
      " 22.0028 30.0026 23.9994 27.9993 26.0027  7.0015 32.9975 36.9974 31.0009\n",
      " 35.0008 39.0007 43.9989 40.9973 51.9987 46.0022 50.0021 43.0006 56.9969\n",
      " 47.9988]\n",
      "[ 81  80  75  86  76  77  72  82  88  87  94 100  71  66  57  46  42  39\n",
      "  44  47  50  43  40  35  30  32  64  69  55  59  63  68  74  51  56  52\n",
      "  49  48  37  33  28  38  36  93  29  53  34  54  41  45  92  62  58  61\n",
      "  60  65  70  27  25  26  31  73  21  24  23  22  19  15  67  10   8  12\n",
      "  14  13  17  16  18  20  85   0  83  84  78  79  89  97  90  96  91]\n"
     ]
    }
   ],
   "source": [
    "print(train['windspeed'].unique())\n",
    "print(train['humidity'].unique())"
   ]
  },
  {
   "cell_type": "code",
   "execution_count": 15,
   "id": "f13cea98",
   "metadata": {
    "execution": {
     "iopub.execute_input": "2023-12-01T01:57:19.710578Z",
     "iopub.status.busy": "2023-12-01T01:57:19.709796Z",
     "iopub.status.idle": "2023-12-01T01:57:19.722512Z",
     "shell.execute_reply": "2023-12-01T01:57:19.721419Z"
    },
    "papermill": {
     "duration": 0.040642,
     "end_time": "2023-12-01T01:57:19.725160",
     "exception": false,
     "start_time": "2023-12-01T01:57:19.684518",
     "status": "completed"
    },
    "tags": []
   },
   "outputs": [
    {
     "name": "stdout",
     "output_type": "stream",
     "text": [
      "There are 1313 missing values in windspeed column so missing percentage is 0.1206\n",
      "There are 22 missing values in humidity column so missing percentage is 0.002\n"
     ]
    }
   ],
   "source": [
    "def zero_missing_percent(data, miss_col):\n",
    "    miss_num = train[train[miss_col]==0].shape[0]\n",
    "    miss_pct = round(miss_num/train.shape[0],4)\n",
    "    print(f\"There are {miss_num} missing values in {miss_col} column so missing percentage is {miss_pct}\")\n",
    "\n",
    "zero_missing_percent(train, 'windspeed')\n",
    "zero_missing_percent(train, 'humidity')"
   ]
  },
  {
   "cell_type": "code",
   "execution_count": 16,
   "id": "5bf970f8",
   "metadata": {
    "execution": {
     "iopub.execute_input": "2023-12-01T01:57:19.775696Z",
     "iopub.status.busy": "2023-12-01T01:57:19.775263Z",
     "iopub.status.idle": "2023-12-01T01:57:19.783712Z",
     "shell.execute_reply": "2023-12-01T01:57:19.782776Z"
    },
    "papermill": {
     "duration": 0.036361,
     "end_time": "2023-12-01T01:57:19.785899",
     "exception": false,
     "start_time": "2023-12-01T01:57:19.749538",
     "status": "completed"
    },
    "tags": []
   },
   "outputs": [],
   "source": [
    "def wind_mean_fill(df):\n",
    "    mean_windspeed = df['windspeed'].mean()\n",
    "    df['windspeed'] = df['windspeed'].replace(0, mean_windspeed)\n",
    "    return df\n",
    "\n",
    "# 在训练集上使用平均值填充\n",
    "train = wind_mean_fill(train)\n",
    "\n",
    "# 在测试集上使用平均值填充\n",
    "test = wind_mean_fill(test)"
   ]
  },
  {
   "cell_type": "code",
   "execution_count": 17,
   "id": "8d9e7df6",
   "metadata": {
    "execution": {
     "iopub.execute_input": "2023-12-01T01:57:19.836573Z",
     "iopub.status.busy": "2023-12-01T01:57:19.835682Z",
     "iopub.status.idle": "2023-12-01T01:57:19.843202Z",
     "shell.execute_reply": "2023-12-01T01:57:19.842423Z"
    },
    "papermill": {
     "duration": 0.035329,
     "end_time": "2023-12-01T01:57:19.845568",
     "exception": false,
     "start_time": "2023-12-01T01:57:19.810239",
     "status": "completed"
    },
    "tags": []
   },
   "outputs": [],
   "source": [
    "def humidity_mean_fill(df):\n",
    "    mean_humidity = df['humidity'].mean()\n",
    "    df['humidity'] = df['humidity'].replace(0, mean_humidity)\n",
    "    return df\n",
    "\n",
    "# 在训练集上使用平均值填充\n",
    "train = humidity_mean_fill(train)\n",
    "\n",
    "# 在测试集上使用平均值填充\n",
    "test = humidity_mean_fill(test)\n"
   ]
  },
  {
   "cell_type": "markdown",
   "id": "adc60df9",
   "metadata": {
    "papermill": {
     "duration": 0.02393,
     "end_time": "2023-12-01T01:57:19.893687",
     "exception": false,
     "start_time": "2023-12-01T01:57:19.869757",
     "status": "completed"
    },
    "tags": []
   },
   "source": [
    "<font size=3>**（4）查看哪些特征具有异常值(离群值)**"
   ]
  },
  {
   "cell_type": "markdown",
   "id": "14bf5883",
   "metadata": {
    "papermill": {
     "duration": 0.023856,
     "end_time": "2023-12-01T01:57:19.941965",
     "exception": false,
     "start_time": "2023-12-01T01:57:19.918109",
     "status": "completed"
    },
    "tags": []
   },
   "source": [
    "* 自定义函数detect_outliers_3sigma利用3σ原则来检测数据中的异常值。根据3σ原则，数据点与均值的偏差超过3倍标准差的被认为是异常值。通过绘制箱线图和打印边界值，可以直观地了解数据的分布情况和异常值的位置。最后，使用自定义函数delete_outliers删除这些异常值所在的行并打印删除的异常值数量以及删除异常值前后数据框的形状。"
   ]
  },
  {
   "cell_type": "code",
   "execution_count": 18,
   "id": "cfc36130",
   "metadata": {
    "execution": {
     "iopub.execute_input": "2023-12-01T01:57:19.992935Z",
     "iopub.status.busy": "2023-12-01T01:57:19.991936Z",
     "iopub.status.idle": "2023-12-01T01:57:19.999681Z",
     "shell.execute_reply": "2023-12-01T01:57:19.998604Z"
    },
    "papermill": {
     "duration": 0.035595,
     "end_time": "2023-12-01T01:57:20.002059",
     "exception": false,
     "start_time": "2023-12-01T01:57:19.966464",
     "status": "completed"
    },
    "tags": []
   },
   "outputs": [],
   "source": [
    "def detect_outliers_3sigma(data):\n",
    "    # calculate the mean and standard deviation of the data\n",
    "    mean = np.mean(data)\n",
    "    std = np.std(data)\n",
    "    \n",
    "    # define the cutoff for what constitutes an outlier\n",
    "    cutoff = 3 * std\n",
    "    \n",
    "    # boxplot\n",
    "    sn.boxplot(data, orient=\"v\")\n",
    "    plt.show()\n",
    "    \n",
    "    # print lower, upper boundry\n",
    "    lower, upper = mean-3*std, mean+3*std\n",
    "    print(f\"The lower/upper boundary is {lower}/{upper}\")\n",
    "    \n",
    "    # identify outliers\n",
    "    outliers = [x for x in data if np.abs(x - mean) > cutoff]\n",
    "    print(f\"There are {len(outliers)} outliers based on 3-sigma rule\")\n",
    "    #return outliers\n"
   ]
  },
  {
   "cell_type": "code",
   "execution_count": 19,
   "id": "1b085af7",
   "metadata": {
    "execution": {
     "iopub.execute_input": "2023-12-01T01:57:20.052625Z",
     "iopub.status.busy": "2023-12-01T01:57:20.052180Z",
     "iopub.status.idle": "2023-12-01T01:57:20.320884Z",
     "shell.execute_reply": "2023-12-01T01:57:20.319329Z"
    },
    "papermill": {
     "duration": 0.296918,
     "end_time": "2023-12-01T01:57:20.323446",
     "exception": false,
     "start_time": "2023-12-01T01:57:20.026528",
     "status": "completed"
    },
    "tags": []
   },
   "outputs": [
    {
     "data": {
      "image/png": "[encoded data removed]",
      "text/plain": [
       "<Figure size 640x480 with 1 Axes>"
      ]
     },
     "metadata": {},
     "output_type": "display_data"
    },
    {
     "name": "stdout",
     "output_type": "stream",
     "text": [
      "The lower/upper boundary is -351.8342688102495/734.9825326353459\n",
      "There are 147 outliers based on 3-sigma rule\n"
     ]
    }
   ],
   "source": [
    "detect_outliers_3sigma(train['count'])"
   ]
  },
  {
   "cell_type": "code",
   "execution_count": 20,
   "id": "e35060d0",
   "metadata": {
    "execution": {
     "iopub.execute_input": "2023-12-01T01:57:20.374849Z",
     "iopub.status.busy": "2023-12-01T01:57:20.374423Z",
     "iopub.status.idle": "2023-12-01T01:57:20.381746Z",
     "shell.execute_reply": "2023-12-01T01:57:20.380636Z"
    },
    "papermill": {
     "duration": 0.036056,
     "end_time": "2023-12-01T01:57:20.384182",
     "exception": false,
     "start_time": "2023-12-01T01:57:20.348126",
     "status": "completed"
    },
    "tags": []
   },
   "outputs": [],
   "source": [
    "def delete_outliers(data, df):\n",
    "    original_shape = df.shape\n",
    "    mean = np.mean(data)\n",
    "    std = np.std(data)\n",
    "    outliers=np.abs(data-mean) > (3*std)\n",
    "    outliers_num = len(train[outliers])\n",
    "    df.drop(index=data[outliers].index, inplace=True)\n",
    "    print(\"Have already deleted\",outliers_num,\"outliers\")\n",
    "    print (\"Shape Before Delete Ouliers: \",original_shape)\n",
    "    print (\"Shape After Delete Ouliers: \",df.shape)"
   ]
  },
  {
   "cell_type": "code",
   "execution_count": 21,
   "id": "e60ee65d",
   "metadata": {
    "execution": {
     "iopub.execute_input": "2023-12-01T01:57:20.436327Z",
     "iopub.status.busy": "2023-12-01T01:57:20.435919Z",
     "iopub.status.idle": "2023-12-01T01:57:20.448023Z",
     "shell.execute_reply": "2023-12-01T01:57:20.446829Z"
    },
    "papermill": {
     "duration": 0.041005,
     "end_time": "2023-12-01T01:57:20.450666",
     "exception": false,
     "start_time": "2023-12-01T01:57:20.409661",
     "status": "completed"
    },
    "tags": []
   },
   "outputs": [
    {
     "name": "stdout",
     "output_type": "stream",
     "text": [
      "Have already deleted 147 outliers\n",
      "Shape Before Delete Ouliers:  (10886, 18)\n",
      "Shape After Delete Ouliers:  (10739, 18)\n"
     ]
    }
   ],
   "source": [
    "delete_outliers(train['count'], train)"
   ]
  },
  {
   "cell_type": "markdown",
   "id": "3e69967d",
   "metadata": {
    "papermill": {
     "duration": 0.024734,
     "end_time": "2023-12-01T01:57:20.501290",
     "exception": false,
     "start_time": "2023-12-01T01:57:20.476556",
     "status": "completed"
    },
    "tags": []
   },
   "source": [
    "# 3.特征工程"
   ]
  },
  {
   "cell_type": "markdown",
   "id": "235280d2",
   "metadata": {
    "papermill": {
     "duration": 0.026021,
     "end_time": "2023-12-01T01:57:20.552890",
     "exception": false,
     "start_time": "2023-12-01T01:57:20.526869",
     "status": "completed"
    },
    "tags": []
   },
   "source": [
    "<font size=3>2011年至2012年的共享单车整体租赁量情况"
   ]
  },
  {
   "cell_type": "markdown",
   "id": "ac564bb1",
   "metadata": {
    "papermill": {
     "duration": 0.025366,
     "end_time": "2023-12-01T01:57:20.604064",
     "exception": false,
     "start_time": "2023-12-01T01:57:20.578698",
     "status": "completed"
    },
    "tags": []
   },
   "source": [
    "<font size=3>受季节因素影响显著，其中，春季最少，夏季秋季最多，冬季租车量要高于春季。(这里回答了开头提出的第二个问题。)\n",
    "注册用户是租车主力，租车比例基本每月都在75%以上。\n",
    "注册用户在夏季和秋季的租车比例（80%）低于春季和冬季（90%）。也就是说非注册用户夏秋租车占比高于春冬，即非注册用户更倾向于在天气情况较为暖和的夏季和秋季租车。\n"
   ]
  },
  {
   "cell_type": "markdown",
   "id": "abd1d2c3",
   "metadata": {
    "papermill": {
     "duration": 0.025592,
     "end_time": "2023-12-01T01:57:20.656015",
     "exception": false,
     "start_time": "2023-12-01T01:57:20.630423",
     "status": "completed"
    },
    "tags": []
   },
   "source": [
    "* <font size=3>**这段代码自定义了一个名为`parse_datetime`的Python函数**\n",
    "\n",
    "该函数用于解析日期时间列，并将其拆分为年、月、日、小时、周数和工作日。\n",
    "\n",
    "然后调用了`parse_datetime`函数来处理训练集和测试集中的日期时间列。"
   ]
  },
  {
   "cell_type": "code",
   "execution_count": 22,
   "id": "85a0f0f4",
   "metadata": {
    "execution": {
     "iopub.execute_input": "2023-12-01T01:57:20.708821Z",
     "iopub.status.busy": "2023-12-01T01:57:20.708440Z",
     "iopub.status.idle": "2023-12-01T01:57:20.714047Z",
     "shell.execute_reply": "2023-12-01T01:57:20.712893Z"
    },
    "papermill": {
     "duration": 0.034718,
     "end_time": "2023-12-01T01:57:20.716467",
     "exception": false,
     "start_time": "2023-12-01T01:57:20.681749",
     "status": "completed"
    },
    "tags": []
   },
   "outputs": [],
   "source": [
    "def get_day(day_start):\n",
    "   day_end = day_start + pd.offsets.DateOffset(hours=23)\n",
    "   return pd.date_range(day_start, day_end, freq=\"H\")"
   ]
  },
  {
   "cell_type": "code",
   "execution_count": 23,
   "id": "0b27aea0",
   "metadata": {
    "execution": {
     "iopub.execute_input": "2023-12-01T01:57:20.768234Z",
     "iopub.status.busy": "2023-12-01T01:57:20.767823Z",
     "iopub.status.idle": "2023-12-01T01:57:20.776812Z",
     "shell.execute_reply": "2023-12-01T01:57:20.775641Z"
    },
    "papermill": {
     "duration": 0.038032,
     "end_time": "2023-12-01T01:57:20.779231",
     "exception": false,
     "start_time": "2023-12-01T01:57:20.741199",
     "status": "completed"
    },
    "tags": []
   },
   "outputs": [],
   "source": [
    "# set datetime as index\n",
    "dt = pd.DatetimeIndex(train['datetime'])\n",
    "train.set_index(dt, inplace=True)\n",
    "dtt = pd.DatetimeIndex(test['datetime'])\n",
    "test.set_index(dtt, inplace=True)\n",
    "def get_day(day_start):\n",
    "    day_end = day_start + pd.offsets.DateOffset(hours=23)\n",
    "    return pd.date_range(day_start, day_end, freq=\"H\")\n"
   ]
  },
  {
   "cell_type": "markdown",
   "id": "a673e42b",
   "metadata": {
    "papermill": {
     "duration": 0.025951,
     "end_time": "2023-12-01T01:57:20.829933",
     "exception": false,
     "start_time": "2023-12-01T01:57:20.803982",
     "status": "completed"
    },
    "tags": []
   },
   "source": [
    "* <font size=3> **首先对4个类别特征进行可视化**\n",
    "\n",
    "        \n",
    "     * **星期几对使用量的影响( weekday → count )** \n",
    "     图1：星期几对单车总使用量没有太大的影响。\n",
    "\n",
    "    * **季节对使用量的影响( season → count )** \n",
    "    图2：可以看到冬春相对夏秋使用量相对较少，与上面月份产生的结论相互印证。\n",
    "    \n",
    "     * **工作日对使用量的影响( workingday → count )** \n",
    "    图3：是否工作日对单车总使用量也基本没有太大的影响。\n",
    "\n",
    "    * **一天中不同时间段对使用量的影响( hour → count )** \n",
    "    图4：在一天中不同时间段，共享单车使用量差异明显，在8点和16-19点明显多于其他时间点，考虑到的原因是在这期间是上下班的高峰期；在0-5点明显低于其他时间点，考虑到的原因是在此期间为睡眠时间。\n",
    "   "
   ]
  },
  {
   "cell_type": "code",
   "execution_count": 24,
   "id": "57d14b46",
   "metadata": {
    "execution": {
     "iopub.execute_input": "2023-12-01T01:57:20.882091Z",
     "iopub.status.busy": "2023-12-01T01:57:20.881704Z",
     "iopub.status.idle": "2023-12-01T01:57:22.506624Z",
     "shell.execute_reply": "2023-12-01T01:57:22.505731Z"
    },
    "papermill": {
     "duration": 1.653843,
     "end_time": "2023-12-01T01:57:22.509318",
     "exception": false,
     "start_time": "2023-12-01T01:57:20.855475",
     "status": "completed"
    },
    "tags": []
   },
   "outputs": [
    {
     "data": {
      "text/plain": [
       "[Text(0.5, 0, 'Hour Of The Day'),\n",
       " Text(0, 0.5, 'Count'),\n",
       " Text(0.5, 1.0, 'Box Plot On Count Across Hour Of The Day')]"
      ]
     },
     "execution_count": 24,
     "metadata": {},
     "output_type": "execute_result"
    },
    {
     "data": {
      "image/png": "[encoded data removed]",
      "text/plain": [
       "<Figure size 2000x1000 with 4 Axes>"
      ]
     },
     "metadata": {},
     "output_type": "display_data"
    }
   ],
   "source": [
    "fig, axes = plt.subplots(nrows=2,ncols=2)\n",
    "fig.set_size_inches(20, 10)\n",
    "\n",
    "sn.boxplot(data=train,y=\"count\",x='weekday',orient=\"v\",ax=axes[0][0])\n",
    "sn.boxplot(data=train,y=\"count\",x=\"season\",orient=\"v\",ax=axes[0][1])\n",
    "sn.boxplot(data=train,y=\"count\",x=\"workingday\",orient=\"v\",ax=axes[1][0])\n",
    "sn.boxplot(data=train,y=\"count\",x=\"hour\",orient=\"v\",ax=axes[1][1])\n",
    "\n",
    "axes[0][0].set(xlabel='Day',ylabel='Count',title=\"Box Plot On Count Across Day\")\n",
    "axes[0][1].set(xlabel='Season', ylabel='Count',title=\"Box Plot On Count Across Season\")\n",
    "axes[1][0].set(xlabel='Working Day', ylabel='Count',title=\"Box Plot On Count Across Working Day\")\n",
    "axes[1][1].set(xlabel='Hour Of The Day', ylabel='Count',title=\"Box Plot On Count Across Hour Of The Day\")\n"
   ]
  },
  {
   "cell_type": "markdown",
   "id": "53a3dd0d",
   "metadata": {
    "papermill": {
     "duration": 0.02607,
     "end_time": "2023-12-01T01:57:22.562843",
     "exception": false,
     "start_time": "2023-12-01T01:57:22.536773",
     "status": "completed"
    },
    "tags": []
   },
   "source": [
    "* <font size=3>**注册用户和非注册用户对使用量的影响( registered → count & casual → count )**\n",
    " \n",
    "    由下图可以得知，注册用户的使用量占据了单车总使用量的绝大多数，并且趋势与总使用量趋势一致，而非注册用户，一天中不同时段的使用量没有太大变化，这说明使用量主要注册用户决定，注册用户更有粘性。"
   ]
  },
  {
   "cell_type": "code",
   "execution_count": 25,
   "id": "c6bd12f8",
   "metadata": {
    "execution": {
     "iopub.execute_input": "2023-12-01T01:57:22.621415Z",
     "iopub.status.busy": "2023-12-01T01:57:22.620633Z",
     "iopub.status.idle": "2023-12-01T01:57:22.641923Z",
     "shell.execute_reply": "2023-12-01T01:57:22.640796Z"
    },
    "papermill": {
     "duration": 0.053662,
     "end_time": "2023-12-01T01:57:22.644777",
     "exception": false,
     "start_time": "2023-12-01T01:57:22.591115",
     "status": "completed"
    },
    "tags": []
   },
   "outputs": [
    {
     "data": {
      "text/html": [
       "<div>\n",
       "<style scoped>\n",
       "    .dataframe tbody tr th:only-of-type {\n",
       "        vertical-align: middle;\n",
       "    }\n",
       "\n",
       "    .dataframe tbody tr th {\n",
       "        vertical-align: top;\n",
       "    }\n",
       "\n",
       "    .dataframe thead th {\n",
       "        text-align: right;\n",
       "    }\n",
       "</style>\n",
       "<table border=\"1\" class=\"dataframe\">\n",
       "  <thead>\n",
       "    <tr style=\"text-align: right;\">\n",
       "      <th></th>\n",
       "      <th>hour</th>\n",
       "      <th>variable</th>\n",
       "      <th>value</th>\n",
       "    </tr>\n",
       "  </thead>\n",
       "  <tbody>\n",
       "    <tr>\n",
       "      <th>0</th>\n",
       "      <td>0</td>\n",
       "      <td>casual</td>\n",
       "      <td>3</td>\n",
       "    </tr>\n",
       "    <tr>\n",
       "      <th>1</th>\n",
       "      <td>1</td>\n",
       "      <td>casual</td>\n",
       "      <td>8</td>\n",
       "    </tr>\n",
       "    <tr>\n",
       "      <th>2</th>\n",
       "      <td>2</td>\n",
       "      <td>casual</td>\n",
       "      <td>5</td>\n",
       "    </tr>\n",
       "    <tr>\n",
       "      <th>3</th>\n",
       "      <td>3</td>\n",
       "      <td>casual</td>\n",
       "      <td>3</td>\n",
       "    </tr>\n",
       "    <tr>\n",
       "      <th>4</th>\n",
       "      <td>4</td>\n",
       "      <td>casual</td>\n",
       "      <td>0</td>\n",
       "    </tr>\n",
       "  </tbody>\n",
       "</table>\n",
       "</div>"
      ],
      "text/plain": [
       "   hour variable  value\n",
       "0     0   casual      3\n",
       "1     1   casual      8\n",
       "2     2   casual      5\n",
       "3     3   casual      3\n",
       "4     4   casual      0"
      ]
     },
     "execution_count": 25,
     "metadata": {},
     "output_type": "execute_result"
    }
   ],
   "source": [
    "melt_df = pd.melt(train[[\"hour\", \"casual\", \"registered\", \"count\"]], id_vars=[\"hour\"], value_vars=[\"casual\", \"registered\", \"count\"])\n",
    "melt_df.head()"
   ]
  },
  {
   "cell_type": "code",
   "execution_count": 26,
   "id": "99095dd9",
   "metadata": {
    "execution": {
     "iopub.execute_input": "2023-12-01T01:57:22.700447Z",
     "iopub.status.busy": "2023-12-01T01:57:22.699983Z",
     "iopub.status.idle": "2023-12-01T01:57:22.723129Z",
     "shell.execute_reply": "2023-12-01T01:57:22.722172Z"
    },
    "papermill": {
     "duration": 0.053607,
     "end_time": "2023-12-01T01:57:22.725340",
     "exception": false,
     "start_time": "2023-12-01T01:57:22.671733",
     "status": "completed"
    },
    "tags": []
   },
   "outputs": [
    {
     "data": {
      "text/html": [
       "<div>\n",
       "<style scoped>\n",
       "    .dataframe tbody tr th:only-of-type {\n",
       "        vertical-align: middle;\n",
       "    }\n",
       "\n",
       "    .dataframe tbody tr th {\n",
       "        vertical-align: top;\n",
       "    }\n",
       "\n",
       "    .dataframe thead th {\n",
       "        text-align: right;\n",
       "    }\n",
       "</style>\n",
       "<table border=\"1\" class=\"dataframe\">\n",
       "  <thead>\n",
       "    <tr style=\"text-align: right;\">\n",
       "      <th></th>\n",
       "      <th>hour</th>\n",
       "      <th>variable</th>\n",
       "      <th>value</th>\n",
       "    </tr>\n",
       "  </thead>\n",
       "  <tbody>\n",
       "    <tr>\n",
       "      <th>0</th>\n",
       "      <td>0</td>\n",
       "      <td>casual</td>\n",
       "      <td>10.312088</td>\n",
       "    </tr>\n",
       "    <tr>\n",
       "      <th>1</th>\n",
       "      <td>0</td>\n",
       "      <td>count</td>\n",
       "      <td>55.138462</td>\n",
       "    </tr>\n",
       "    <tr>\n",
       "      <th>2</th>\n",
       "      <td>0</td>\n",
       "      <td>registered</td>\n",
       "      <td>44.826374</td>\n",
       "    </tr>\n",
       "    <tr>\n",
       "      <th>3</th>\n",
       "      <td>1</td>\n",
       "      <td>casual</td>\n",
       "      <td>6.513216</td>\n",
       "    </tr>\n",
       "    <tr>\n",
       "      <th>4</th>\n",
       "      <td>1</td>\n",
       "      <td>count</td>\n",
       "      <td>33.859031</td>\n",
       "    </tr>\n",
       "  </tbody>\n",
       "</table>\n",
       "</div>"
      ],
      "text/plain": [
       "   hour    variable      value\n",
       "0     0      casual  10.312088\n",
       "1     0       count  55.138462\n",
       "2     0  registered  44.826374\n",
       "3     1      casual   6.513216\n",
       "4     1       count  33.859031"
      ]
     },
     "execution_count": 26,
     "metadata": {},
     "output_type": "execute_result"
    }
   ],
   "source": [
    "melt_group_df = melt_df.groupby([\"hour\", \"variable\"])[\"value\"].mean().reset_index()\n",
    "melt_group_df.head()"
   ]
  },
  {
   "cell_type": "code",
   "execution_count": 27,
   "id": "26423be1",
   "metadata": {
    "execution": {
     "iopub.execute_input": "2023-12-01T01:57:22.781472Z",
     "iopub.status.busy": "2023-12-01T01:57:22.780739Z",
     "iopub.status.idle": "2023-12-01T01:57:27.241136Z",
     "shell.execute_reply": "2023-12-01T01:57:27.239689Z"
    },
    "papermill": {
     "duration": 4.491357,
     "end_time": "2023-12-01T01:57:27.243802",
     "exception": false,
     "start_time": "2023-12-01T01:57:22.752445",
     "status": "completed"
    },
    "tags": []
   },
   "outputs": [
    {
     "data": {
      "text/plain": [
       "<Axes: xlabel='hour', ylabel='value'>"
      ]
     },
     "execution_count": 27,
     "metadata": {},
     "output_type": "execute_result"
    },
    {
     "data": {
      "image/png": "[encoded data removed]",
      "text/plain": [
       "<Figure size 1800x600 with 2 Axes>"
      ]
     },
     "metadata": {},
     "output_type": "display_data"
    }
   ],
   "source": [
    "import seaborn as sns\n",
    "\n",
    "plt.figure(figsize=(18, 6))\n",
    "plt.subplot(121)\n",
    "variable_order = ['casual', 'registered', 'count']\n",
    "sns.pointplot(x=\"hour\", y=\"value\", hue=\"variable\", hue_order=variable_order, data=melt_group_df)\n",
    "plt.subplot(122)\n",
    "sns.pointplot(x=\"hour\", y=\"value\", hue=\"variable\", hue_order=variable_order, data=melt_df)"
   ]
  },
  {
   "cell_type": "markdown",
   "id": "fcf1c0bd",
   "metadata": {
    "papermill": {
     "duration": 0.029204,
     "end_time": "2023-12-01T01:57:27.302714",
     "exception": false,
     "start_time": "2023-12-01T01:57:27.273510",
     "status": "completed"
    },
    "tags": []
   },
   "source": [
    "* <font size=3>**由天气状况-租车数据图可见：**\n",
    "\n",
    "天气状况好时的租车量高于天气状况差的时候。晴天/少云和多云/薄雾天气下的租车量明显高于雨雪天气时。暴雨/大学天气只出现了一次，因此平均租车数据不具参考性。\n",
    "晴天/少云天气下的总租车量大大超过其他天气状况，可以判断华盛顿特区气候宜人，天气多以晴天/少云为主。\n",
    "\n"
   ]
  },
  {
   "cell_type": "code",
   "execution_count": 28,
   "id": "f550a459",
   "metadata": {
    "execution": {
     "iopub.execute_input": "2023-12-01T01:57:27.363623Z",
     "iopub.status.busy": "2023-12-01T01:57:27.363167Z",
     "iopub.status.idle": "2023-12-01T01:57:27.381224Z",
     "shell.execute_reply": "2023-12-01T01:57:27.379899Z"
    },
    "papermill": {
     "duration": 0.051661,
     "end_time": "2023-12-01T01:57:27.383685",
     "exception": false,
     "start_time": "2023-12-01T01:57:27.332024",
     "status": "completed"
    },
    "tags": []
   },
   "outputs": [
    {
     "data": {
      "text/html": [
       "<div>\n",
       "<style scoped>\n",
       "    .dataframe tbody tr th:only-of-type {\n",
       "        vertical-align: middle;\n",
       "    }\n",
       "\n",
       "    .dataframe tbody tr th {\n",
       "        vertical-align: top;\n",
       "    }\n",
       "\n",
       "    .dataframe thead th {\n",
       "        text-align: right;\n",
       "    }\n",
       "</style>\n",
       "<table border=\"1\" class=\"dataframe\">\n",
       "  <thead>\n",
       "    <tr style=\"text-align: right;\">\n",
       "      <th></th>\n",
       "      <th>weather</th>\n",
       "      <th>casual</th>\n",
       "      <th>registered</th>\n",
       "      <th>count</th>\n",
       "    </tr>\n",
       "    <tr>\n",
       "      <th>datetime</th>\n",
       "      <th></th>\n",
       "      <th></th>\n",
       "      <th></th>\n",
       "      <th></th>\n",
       "    </tr>\n",
       "  </thead>\n",
       "  <tbody>\n",
       "    <tr>\n",
       "      <th>2011-01-01 00:00:00</th>\n",
       "      <td>Clear,Partly cloudy</td>\n",
       "      <td>3</td>\n",
       "      <td>13</td>\n",
       "      <td>16</td>\n",
       "    </tr>\n",
       "    <tr>\n",
       "      <th>2011-01-01 01:00:00</th>\n",
       "      <td>Clear,Partly cloudy</td>\n",
       "      <td>8</td>\n",
       "      <td>32</td>\n",
       "      <td>40</td>\n",
       "    </tr>\n",
       "    <tr>\n",
       "      <th>2011-01-01 02:00:00</th>\n",
       "      <td>Clear,Partly cloudy</td>\n",
       "      <td>5</td>\n",
       "      <td>27</td>\n",
       "      <td>32</td>\n",
       "    </tr>\n",
       "    <tr>\n",
       "      <th>2011-01-01 03:00:00</th>\n",
       "      <td>Clear,Partly cloudy</td>\n",
       "      <td>3</td>\n",
       "      <td>10</td>\n",
       "      <td>13</td>\n",
       "    </tr>\n",
       "    <tr>\n",
       "      <th>2011-01-01 04:00:00</th>\n",
       "      <td>Clear,Partly cloudy</td>\n",
       "      <td>0</td>\n",
       "      <td>1</td>\n",
       "      <td>1</td>\n",
       "    </tr>\n",
       "  </tbody>\n",
       "</table>\n",
       "</div>"
      ],
      "text/plain": [
       "                                 weather  casual  registered  count\n",
       "datetime                                                           \n",
       "2011-01-01 00:00:00  Clear,Partly cloudy       3          13     16\n",
       "2011-01-01 01:00:00  Clear,Partly cloudy       8          32     40\n",
       "2011-01-01 02:00:00  Clear,Partly cloudy       5          27     32\n",
       "2011-01-01 03:00:00  Clear,Partly cloudy       3          10     13\n",
       "2011-01-01 04:00:00  Clear,Partly cloudy       0           1      1"
      ]
     },
     "execution_count": 28,
     "metadata": {},
     "output_type": "execute_result"
    }
   ],
   "source": [
    "weather_rental=train[['weather','casual','registered','count']]\n",
    "weather_rental['weather']=weather_rental['weather'].map({1:'Clear,Partly cloudy',2:'Mist + Cloudy',3:'Light Snow, Light Rain',\n",
    "                              4:'Heavy Rain，snow'})\n",
    "weather_rental.head()"
   ]
  },
  {
   "cell_type": "code",
   "execution_count": 29,
   "id": "2007aa4a",
   "metadata": {
    "execution": {
     "iopub.execute_input": "2023-12-01T01:57:27.445292Z",
     "iopub.status.busy": "2023-12-01T01:57:27.444225Z",
     "iopub.status.idle": "2023-12-01T01:57:27.464765Z",
     "shell.execute_reply": "2023-12-01T01:57:27.463852Z"
    },
    "papermill": {
     "duration": 0.054129,
     "end_time": "2023-12-01T01:57:27.467240",
     "exception": false,
     "start_time": "2023-12-01T01:57:27.413111",
     "status": "completed"
    },
    "tags": []
   },
   "outputs": [
    {
     "data": {
      "text/html": [
       "<div>\n",
       "<style scoped>\n",
       "    .dataframe tbody tr th:only-of-type {\n",
       "        vertical-align: middle;\n",
       "    }\n",
       "\n",
       "    .dataframe tbody tr th {\n",
       "        vertical-align: top;\n",
       "    }\n",
       "\n",
       "    .dataframe thead th {\n",
       "        text-align: right;\n",
       "    }\n",
       "</style>\n",
       "<table border=\"1\" class=\"dataframe\">\n",
       "  <thead>\n",
       "    <tr style=\"text-align: right;\">\n",
       "      <th></th>\n",
       "      <th>weather</th>\n",
       "      <th>weather_count</th>\n",
       "      <th>rental</th>\n",
       "      <th>average hourly rental</th>\n",
       "    </tr>\n",
       "  </thead>\n",
       "  <tbody>\n",
       "    <tr>\n",
       "      <th>0</th>\n",
       "      <td>Clear,Partly cloudy</td>\n",
       "      <td>7076</td>\n",
       "      <td>1380889</td>\n",
       "      <td>195.151074</td>\n",
       "    </tr>\n",
       "    <tr>\n",
       "      <th>3</th>\n",
       "      <td>Mist + Cloudy</td>\n",
       "      <td>2809</td>\n",
       "      <td>487051</td>\n",
       "      <td>173.389462</td>\n",
       "    </tr>\n",
       "    <tr>\n",
       "      <th>2</th>\n",
       "      <td>Light Snow, Light Rain</td>\n",
       "      <td>853</td>\n",
       "      <td>97174</td>\n",
       "      <td>113.920281</td>\n",
       "    </tr>\n",
       "    <tr>\n",
       "      <th>1</th>\n",
       "      <td>Heavy Rain，snow</td>\n",
       "      <td>1</td>\n",
       "      <td>164</td>\n",
       "      <td>164.000000</td>\n",
       "    </tr>\n",
       "  </tbody>\n",
       "</table>\n",
       "</div>"
      ],
      "text/plain": [
       "                  weather  weather_count   rental  average hourly rental\n",
       "0     Clear,Partly cloudy           7076  1380889             195.151074\n",
       "3           Mist + Cloudy           2809   487051             173.389462\n",
       "2  Light Snow, Light Rain            853    97174             113.920281\n",
       "1         Heavy Rain，snow              1      164             164.000000"
      ]
     },
     "execution_count": 29,
     "metadata": {},
     "output_type": "execute_result"
    }
   ],
   "source": [
    "weather_rental_gb=weather_rental.groupby('weather').agg({'weather':'count','count':sum}).rename(columns={'weather':'weather_count',\n",
    "                                                                                                        'count':'rental'}).reset_index().sort_values('rental',ascending=False)\n",
    "weather_rental_gb['average hourly rental']= weather_rental_gb['rental']/weather_rental_gb['weather_count']\n",
    "weather_rental_gb.head()"
   ]
  },
  {
   "cell_type": "code",
   "execution_count": 30,
   "id": "ccb77328",
   "metadata": {
    "execution": {
     "iopub.execute_input": "2023-12-01T01:57:27.530249Z",
     "iopub.status.busy": "2023-12-01T01:57:27.529546Z",
     "iopub.status.idle": "2023-12-01T01:57:27.945919Z",
     "shell.execute_reply": "2023-12-01T01:57:27.944790Z"
    },
    "papermill": {
     "duration": 0.450678,
     "end_time": "2023-12-01T01:57:27.948555",
     "exception": false,
     "start_time": "2023-12-01T01:57:27.497877",
     "status": "completed"
    },
    "tags": []
   },
   "outputs": [
    {
     "data": {
      "image/png": "[encoded data removed]",
      "text/plain": [
       "<Figure size 1000x600 with 2 Axes>"
      ]
     },
     "metadata": {},
     "output_type": "display_data"
    }
   ],
   "source": [
    "import warnings\n",
    "\n",
    "warnings.filterwarnings(\"ignore\")\n",
    "\n",
    "fig, ax9 = plt.subplots(figsize=(10, 6))\n",
    "# 绘制柱状图\n",
    "ax9.bar(weather_rental_gb['weather'], weather_rental_gb['rental'], color='sandybrown', label='Rental')\n",
    "\n",
    "# 创建第二个y轴\n",
    "ax10 = ax9.twinx()\n",
    "# 绘制折线图\n",
    "ax10.plot(weather_rental_gb['weather'], weather_rental_gb['average hourly rental'], color='gray', marker='o', label='Average Hourly Rental')\n",
    "\n",
    "# 添加数值标签\n",
    "x = weather_rental_gb['weather']\n",
    "y2 = weather_rental_gb['average hourly rental']\n",
    "for a, b in zip(x, y2):\n",
    "    ax10.text(a, b + 2, '%.1f' % b, ha='center', va='bottom', fontsize=12)\n",
    "\n",
    "\n",
    "# 显示图例\n",
    "ax9.legend(loc='upper left')\n",
    "ax10.legend(loc='upper right')\n",
    "\n",
    "plt.show()\n"
   ]
  },
  {
   "cell_type": "markdown",
   "id": "e1e165b0",
   "metadata": {
    "papermill": {
     "duration": 0.029913,
     "end_time": "2023-12-01T01:57:28.009265",
     "exception": false,
     "start_time": "2023-12-01T01:57:27.979352",
     "status": "completed"
    },
    "tags": []
   },
   "source": [
    "* <font size=3>**绘制特征之间的相关性热力图**\n",
    "   要理解目标变量如何受数值特征影响的一个常见方法是找出它们之间的相关矩阵，绘制 count 与 [temp, atemp, humidity, windspeed, casual, registered] 之间的相关矩阵热图。\n",
    "    - **humidity 与 count 呈负相关，temp 等其他特征与 count 呈负相关。**\n",
    "    - **temp 和 atemp 之间有很强的相关性，都纳入模型的话会造成多重共线性问题，所以必须删除其中一个特征。我们删除 atemp 特征，因为它与 count之间的相关性较 temp 弱。**\n",
    "    - **casual 和 registered 也不考虑在内，因为它们本质上是泄漏变量，测试集中也没有它们的数值，所以需要在模型构建过程中删除。** \n",
    "- 这样，建模时我们主要考虑 **\"temp\" \"humidity\" \"windspeed\"** 这 3 个数值特征。"
   ]
  },
  {
   "cell_type": "code",
   "execution_count": 31,
   "id": "80e4700b",
   "metadata": {
    "execution": {
     "iopub.execute_input": "2023-12-01T01:57:28.072130Z",
     "iopub.status.busy": "2023-12-01T01:57:28.071315Z",
     "iopub.status.idle": "2023-12-01T01:57:28.648750Z",
     "shell.execute_reply": "2023-12-01T01:57:28.647460Z"
    },
    "papermill": {
     "duration": 0.612161,
     "end_time": "2023-12-01T01:57:28.651763",
     "exception": false,
     "start_time": "2023-12-01T01:57:28.039602",
     "status": "completed"
    },
    "tags": []
   },
   "outputs": [
    {
     "data": {
      "image/png": "[encoded data removed]",
      "text/plain": [
       "<Figure size 2000x1000 with 2 Axes>"
      ]
     },
     "metadata": {},
     "output_type": "display_data"
    }
   ],
   "source": [
    "def correlation_heatmap(corr):\n",
    "    mask = np.array(corr)\n",
    "    mask[np.tril_indices_from(mask)] = False\n",
    "    fig,ax= plt.subplots()\n",
    "    fig.set_size_inches(20,10)\n",
    "    sn.heatmap(corr, annot=True, mask=mask)\n",
    "\n",
    "corr = train[['season', 'holiday','temp', 'atemp','humidity', 'windspeed', 'count']].corr()\n",
    "correlation_heatmap(corr)"
   ]
  },
  {
   "cell_type": "code",
   "execution_count": 32,
   "id": "436d30fe",
   "metadata": {
    "execution": {
     "iopub.execute_input": "2023-12-01T01:57:28.716968Z",
     "iopub.status.busy": "2023-12-01T01:57:28.716566Z",
     "iopub.status.idle": "2023-12-01T01:57:29.324226Z",
     "shell.execute_reply": "2023-12-01T01:57:29.323018Z"
    },
    "papermill": {
     "duration": 0.643061,
     "end_time": "2023-12-01T01:57:29.326977",
     "exception": false,
     "start_time": "2023-12-01T01:57:28.683916",
     "status": "completed"
    },
    "tags": []
   },
   "outputs": [
    {
     "data": {
      "text/plain": [
       "<Axes: ylabel='Density'>"
      ]
     },
     "execution_count": 32,
     "metadata": {},
     "output_type": "execute_result"
    },
    {
     "data": {
      "image/png": "[encoded data removed]",
      "text/plain": [
       "<Figure size 640x480 with 1 Axes>"
      ]
     },
     "metadata": {},
     "output_type": "display_data"
    }
   ],
   "source": [
    "# Kernel Density Estimation plot \n",
    "train['count'].plot(kind='kde')"
   ]
  },
  {
   "cell_type": "code",
   "execution_count": 33,
   "id": "12dddd23",
   "metadata": {
    "execution": {
     "iopub.execute_input": "2023-12-01T01:57:29.393420Z",
     "iopub.status.busy": "2023-12-01T01:57:29.392682Z",
     "iopub.status.idle": "2023-12-01T01:57:29.899244Z",
     "shell.execute_reply": "2023-12-01T01:57:29.898098Z"
    },
    "papermill": {
     "duration": 0.542215,
     "end_time": "2023-12-01T01:57:29.901730",
     "exception": false,
     "start_time": "2023-12-01T01:57:29.359515",
     "status": "completed"
    },
    "tags": []
   },
   "outputs": [
    {
     "data": {
      "text/plain": [
       "<Axes: ylabel='Density'>"
      ]
     },
     "execution_count": 33,
     "metadata": {},
     "output_type": "execute_result"
    },
    {
     "data": {
      "image/png": "[encoded data removed]",
      "text/plain": [
       "<Figure size 640x480 with 1 Axes>"
      ]
     },
     "metadata": {},
     "output_type": "display_data"
    }
   ],
   "source": [
    "# log trnasformation for skewed count data\n",
    "import math\n",
    "train['count_log']=np.log1p(train['count'])\n",
    "train['count_log'].plot(kind='kde')"
   ]
  },
  {
   "cell_type": "markdown",
   "id": "b2f294bc",
   "metadata": {
    "papermill": {
     "duration": 0.032256,
     "end_time": "2023-12-01T01:57:29.966624",
     "exception": false,
     "start_time": "2023-12-01T01:57:29.934368",
     "status": "completed"
    },
    "tags": []
   },
   "source": [
    "# 4.模型构建"
   ]
  },
  {
   "cell_type": "markdown",
   "id": "ac031d0e",
   "metadata": {
    "papermill": {
     "duration": 0.032674,
     "end_time": "2023-12-01T01:57:30.033048",
     "exception": false,
     "start_time": "2023-12-01T01:57:30.000374",
     "status": "completed"
    },
    "tags": []
   },
   "source": [
    "* 通过计算RMSLE指标，我们可以评估模型在回归任务中的性能，值越低表示模型的预测结果与真实结果之间的差异越小。"
   ]
  },
  {
   "cell_type": "code",
   "execution_count": 34,
   "id": "3e686ccb",
   "metadata": {
    "execution": {
     "iopub.execute_input": "2023-12-01T01:57:30.102224Z",
     "iopub.status.busy": "2023-12-01T01:57:30.101059Z",
     "iopub.status.idle": "2023-12-01T01:57:30.107138Z",
     "shell.execute_reply": "2023-12-01T01:57:30.106240Z"
    },
    "papermill": {
     "duration": 0.04291,
     "end_time": "2023-12-01T01:57:30.109678",
     "exception": false,
     "start_time": "2023-12-01T01:57:30.066768",
     "status": "completed"
    },
    "tags": []
   },
   "outputs": [],
   "source": [
    "#RMSLE\n",
    "def rmsle(y_real, y_pre):    \n",
    "    log1 = np.log1p(y_real)\n",
    "    log2 = np.log1p(y_pre)    \n",
    "    calc = (log1 - log2) ** 2\n",
    "    return np.sqrt(np.mean(calc))"
   ]
  },
  {
   "cell_type": "code",
   "execution_count": 35,
   "id": "7df5e280",
   "metadata": {
    "execution": {
     "iopub.execute_input": "2023-12-01T01:57:30.181166Z",
     "iopub.status.busy": "2023-12-01T01:57:30.180191Z",
     "iopub.status.idle": "2023-12-01T01:57:30.188397Z",
     "shell.execute_reply": "2023-12-01T01:57:30.187415Z"
    },
    "papermill": {
     "duration": 0.046654,
     "end_time": "2023-12-01T01:57:30.190748",
     "exception": false,
     "start_time": "2023-12-01T01:57:30.144094",
     "status": "completed"
    },
    "tags": []
   },
   "outputs": [
    {
     "data": {
      "text/plain": [
       "Index(['datetime', 'season', 'holiday', 'workingday', 'weather', 'temp',\n",
       "       'atemp', 'humidity', 'windspeed', 'casual', 'registered', 'count',\n",
       "       'year', 'month', 'day', 'hour', 'week', 'weekday', 'count_log'],\n",
       "      dtype='object')"
      ]
     },
     "execution_count": 35,
     "metadata": {},
     "output_type": "execute_result"
    }
   ],
   "source": [
    "train.columns"
   ]
  },
  {
   "cell_type": "code",
   "execution_count": 36,
   "id": "33ea7b99",
   "metadata": {
    "execution": {
     "iopub.execute_input": "2023-12-01T01:57:30.261247Z",
     "iopub.status.busy": "2023-12-01T01:57:30.260860Z",
     "iopub.status.idle": "2023-12-01T01:57:30.267733Z",
     "shell.execute_reply": "2023-12-01T01:57:30.266622Z"
    },
    "papermill": {
     "duration": 0.04535,
     "end_time": "2023-12-01T01:57:30.270236",
     "exception": false,
     "start_time": "2023-12-01T01:57:30.224886",
     "status": "completed"
    },
    "tags": []
   },
   "outputs": [
    {
     "data": {
      "text/plain": [
       "Index(['datetime', 'season', 'holiday', 'workingday', 'weather', 'temp',\n",
       "       'atemp', 'humidity', 'windspeed', 'year', 'month', 'day', 'hour',\n",
       "       'week', 'weekday'],\n",
       "      dtype='object')"
      ]
     },
     "execution_count": 36,
     "metadata": {},
     "output_type": "execute_result"
    }
   ],
   "source": [
    "test.columns"
   ]
  },
  {
   "cell_type": "code",
   "execution_count": 37,
   "id": "5b6e33f8",
   "metadata": {
    "execution": {
     "iopub.execute_input": "2023-12-01T01:57:30.339411Z",
     "iopub.status.busy": "2023-12-01T01:57:30.338989Z",
     "iopub.status.idle": "2023-12-01T01:57:30.359752Z",
     "shell.execute_reply": "2023-12-01T01:57:30.358648Z"
    },
    "papermill": {
     "duration": 0.058897,
     "end_time": "2023-12-01T01:57:30.362612",
     "exception": false,
     "start_time": "2023-12-01T01:57:30.303715",
     "status": "completed"
    },
    "tags": []
   },
   "outputs": [],
   "source": [
    "drop_columns = ['count', 'count_log', 'casual', 'registered', 'datetime']\n",
    "X_train = train.drop(drop_columns,axis = 1).values\n",
    "X_test = test.drop(['datetime'],axis = 1).values\n",
    "\n",
    "yLog = train['count_log'].values\n",
    "x_date = test['datetime'].values"
   ]
  },
  {
   "cell_type": "code",
   "execution_count": 38,
   "id": "196d8c93",
   "metadata": {
    "execution": {
     "iopub.execute_input": "2023-12-01T01:57:30.432614Z",
     "iopub.status.busy": "2023-12-01T01:57:30.432149Z",
     "iopub.status.idle": "2023-12-01T01:57:30.438013Z",
     "shell.execute_reply": "2023-12-01T01:57:30.436748Z"
    },
    "papermill": {
     "duration": 0.044283,
     "end_time": "2023-12-01T01:57:30.440489",
     "exception": false,
     "start_time": "2023-12-01T01:57:30.396206",
     "status": "completed"
    },
    "tags": []
   },
   "outputs": [],
   "source": [
    "rf_columns = [\n",
    "    'weather', 'temp', 'windspeed',\n",
    "    'workingday', 'season', 'holiday',\n",
    "    'hour', 'weekday', 'week',\n",
    "]\n",
    "gb_columns =[\n",
    "    'weather', 'temp', 'humidity', 'windspeed',\n",
    "    'workingday', 'season', 'holiday',\n",
    "    'hour', 'weekday', 'year', \n",
    "]"
   ]
  },
  {
   "cell_type": "markdown",
   "id": "6ad4d0fd",
   "metadata": {
    "papermill": {
     "duration": 0.034033,
     "end_time": "2023-12-01T01:57:30.507554",
     "exception": false,
     "start_time": "2023-12-01T01:57:30.473521",
     "status": "completed"
    },
    "tags": []
   },
   "source": [
    "* 转换数据为适合机器学习模型训练的格式，包括准备特征数据和目标数据，并对目标数据进行了对数转换以满足模型的假设条件。"
   ]
  },
  {
   "cell_type": "code",
   "execution_count": 39,
   "id": "dad302ea",
   "metadata": {
    "execution": {
     "iopub.execute_input": "2023-12-01T01:57:30.578352Z",
     "iopub.status.busy": "2023-12-01T01:57:30.577692Z",
     "iopub.status.idle": "2023-12-01T01:57:30.694718Z",
     "shell.execute_reply": "2023-12-01T01:57:30.693504Z"
    },
    "papermill": {
     "duration": 0.155564,
     "end_time": "2023-12-01T01:57:30.697732",
     "exception": false,
     "start_time": "2023-12-01T01:57:30.542168",
     "status": "completed"
    },
    "tags": []
   },
   "outputs": [],
   "source": [
    "rf_x_train=train[rf_columns].values\n",
    "rf_x_test=test[rf_columns].values\n",
    "\n",
    "gb_x_train=train[gb_columns].values\n",
    "gb_x_test=test[gb_columns].values\n",
    "\n",
    "y_casual=train['casual'].apply(lambda x: np.log1p(x)).values\n",
    "y_registered=train['registered'].apply(lambda x: np.log1p(x)).values\n",
    "y=train['count'].apply(lambda x: np.log1p(x)).values\n",
    "\n",
    "X_date=test['datetime'].values"
   ]
  },
  {
   "cell_type": "markdown",
   "id": "9f579e8e",
   "metadata": {
    "papermill": {
     "duration": 0.033448,
     "end_time": "2023-12-01T01:57:30.765494",
     "exception": false,
     "start_time": "2023-12-01T01:57:30.732046",
     "status": "completed"
    },
    "tags": []
   },
   "source": [
    "* 将原始数据集划分为训练集和测试集，以便于进行模型的训练和评估。"
   ]
  },
  {
   "cell_type": "code",
   "execution_count": 40,
   "id": "239c27cc",
   "metadata": {
    "execution": {
     "iopub.execute_input": "2023-12-01T01:57:30.835994Z",
     "iopub.status.busy": "2023-12-01T01:57:30.835569Z",
     "iopub.status.idle": "2023-12-01T01:57:30.855787Z",
     "shell.execute_reply": "2023-12-01T01:57:30.854670Z"
    },
    "papermill": {
     "duration": 0.058754,
     "end_time": "2023-12-01T01:57:30.858841",
     "exception": false,
     "start_time": "2023-12-01T01:57:30.800087",
     "status": "completed"
    },
    "tags": []
   },
   "outputs": [],
   "source": [
    "# 划分数据集\n",
    "from sklearn.model_selection import train_test_split\n",
    "drop_columns = ['count', 'count_log', 'casual', 'registered', 'datetime']\n",
    "X_train = train.drop(drop_columns, axis = 1).values\n",
    "xd_train,xd_test,yd_train,yd_test = train_test_split(X_train,y,random_state=0)"
   ]
  },
  {
   "cell_type": "code",
   "execution_count": 41,
   "id": "fb928370",
   "metadata": {
    "execution": {
     "iopub.execute_input": "2023-12-01T01:57:30.929241Z",
     "iopub.status.busy": "2023-12-01T01:57:30.928844Z",
     "iopub.status.idle": "2023-12-01T01:57:51.256252Z",
     "shell.execute_reply": "2023-12-01T01:57:51.255071Z"
    },
    "papermill": {
     "duration": 20.366377,
     "end_time": "2023-12-01T01:57:51.259049",
     "exception": false,
     "start_time": "2023-12-01T01:57:30.892672",
     "status": "completed"
    },
    "tags": []
   },
   "outputs": [
    {
     "name": "stdout",
     "output_type": "stream",
     "text": [
      "Best params for LightGBM model are:  {'learning_rate': 0.1, 'max_depth': 5, 'n_estimators': 300, 'random_state': 42}\n",
      "Score:  0.07599719569625975\n"
     ]
    }
   ],
   "source": [
    "lgb_model = lgb.LGBMRegressor()\n",
    "\n",
    "def LGB_model():\n",
    "    lgb_parameters = {'random_state': [42], \n",
    "                  'n_estimators': [100, 200, 300], \n",
    "                  'max_depth': [4, 5], \n",
    "                  'learning_rate': [0.1]}\n",
    "    rmsle_scorer = metrics.make_scorer(rmsle, greater_is_better=False)\n",
    "\n",
    "    gs = GridSearchCV(estimator=lgb_model, param_grid=lgb_parameters, scoring=rmsle_scorer, cv=5)\n",
    "    gs.fit(xd_train, yd_train)\n",
    "    print('Best params for LightGBM model are: ', gs.best_params_)\n",
    "\n",
    "    test_pred = gs.predict(xd_test)\n",
    "    score = rmsle(yd_test, test_pred)\n",
    "    return score\n",
    "\n",
    "score = LGB_model()\n",
    "print('Score: ', score)\n"
   ]
  },
  {
   "cell_type": "markdown",
   "id": "1c1fb678",
   "metadata": {
    "papermill": {
     "duration": 0.033452,
     "end_time": "2023-12-01T01:57:51.325887",
     "exception": false,
     "start_time": "2023-12-01T01:57:51.292435",
     "status": "completed"
    },
    "tags": []
   },
   "source": [
    "## XGBoost"
   ]
  },
  {
   "cell_type": "code",
   "execution_count": 42,
   "id": "ce322bc9",
   "metadata": {
    "execution": {
     "iopub.execute_input": "2023-12-01T01:57:51.395325Z",
     "iopub.status.busy": "2023-12-01T01:57:51.394945Z",
     "iopub.status.idle": "2023-12-01T01:58:06.242705Z",
     "shell.execute_reply": "2023-12-01T01:58:06.241535Z"
    },
    "papermill": {
     "duration": 14.886343,
     "end_time": "2023-12-01T01:58:06.245611",
     "exception": false,
     "start_time": "2023-12-01T01:57:51.359268",
     "status": "completed"
    },
    "tags": []
   },
   "outputs": [
    {
     "name": "stdout",
     "output_type": "stream",
     "text": [
      "Best params for XGBoost model are:  {'learning_rate': 0.1, 'max_depth': 5, 'n_estimators': 300, 'random_state': 42}\n",
      "Score:  0.07568095274801738\n"
     ]
    }
   ],
   "source": [
    "xgb_model = xgb.XGBRegressor()\n",
    "def XGB_model():\n",
    "    xgb_parameters = {'random_state': [42], \n",
    "                  'n_estimators': [300, 370, 400], \n",
    "                  'max_depth': [4, 5], \n",
    "                  'learning_rate': [0.1]}\n",
    "    rmsle_scorer = metrics.make_scorer(rmsle, greater_is_better = False)\n",
    "\n",
    "    gs = GridSearchCV(estimator = xgb_model, param_grid = xgb_parameters, scoring = rmsle_scorer, cv = 5)\n",
    "    gs.fit(xd_train, yd_train)\n",
    "    print('Best params for XGBoost model are: ', gs.best_params_)\n",
    "    #\n",
    "    test_pred = gs.predict(xd_test)\n",
    "    # calculate RMSLE\n",
    "    score = rmsle(yd_test,test_pred)\n",
    "    return score\n",
    "score = XGB_model()\n",
    "print('Score: ', score)"
   ]
  },
  {
   "cell_type": "markdown",
   "id": "d61843ef",
   "metadata": {
    "papermill": {
     "duration": 0.033322,
     "end_time": "2023-12-01T01:58:06.313227",
     "exception": false,
     "start_time": "2023-12-01T01:58:06.279905",
     "status": "completed"
    },
    "tags": []
   },
   "source": [
    "#  RandomForestRegressor"
   ]
  },
  {
   "cell_type": "code",
   "execution_count": 43,
   "id": "e4543cfd",
   "metadata": {
    "execution": {
     "iopub.execute_input": "2023-12-01T01:58:06.382285Z",
     "iopub.status.busy": "2023-12-01T01:58:06.381902Z",
     "iopub.status.idle": "2023-12-01T01:58:41.257573Z",
     "shell.execute_reply": "2023-12-01T01:58:41.256185Z"
    },
    "papermill": {
     "duration": 34.942227,
     "end_time": "2023-12-01T01:58:41.289255",
     "exception": false,
     "start_time": "2023-12-01T01:58:06.347028",
     "status": "completed"
    },
    "tags": []
   },
   "outputs": [
    {
     "name": "stdout",
     "output_type": "stream",
     "text": [
      "Score:  0.08192542850762563\n"
     ]
    }
   ],
   "source": [
    "from sklearn.ensemble import RandomForestRegressor\n",
    "def RandomForest_model():\n",
    "    params = {'n_estimators': 1000, \n",
    "              'max_depth': 15, \n",
    "              'random_state': 0, \n",
    "              'min_samples_split' : 2, \n",
    "              'n_jobs': -1}\n",
    "\n",
    "    rfr = RandomForestRegressor(**params)\n",
    "    rfr.fit(xd_train, yd_train)\n",
    "    test_pred = rfr.predict(xd_test)\n",
    "    # calculate RMSLE\n",
    "    score = rmsle(yd_test,test_pred)\n",
    "    return score\n",
    "score = RandomForest_model()\n",
    "print('Score: ', score)"
   ]
  },
  {
   "cell_type": "markdown",
   "id": "b4cdf984",
   "metadata": {
    "papermill": {
     "duration": 0.033121,
     "end_time": "2023-12-01T01:58:41.356081",
     "exception": false,
     "start_time": "2023-12-01T01:58:41.322960",
     "status": "completed"
    },
    "tags": []
   },
   "source": [
    "# GradientBoostingRegressor"
   ]
  },
  {
   "cell_type": "code",
   "execution_count": 44,
   "id": "0f1c81ca",
   "metadata": {
    "execution": {
     "iopub.execute_input": "2023-12-01T01:58:41.426250Z",
     "iopub.status.busy": "2023-12-01T01:58:41.425856Z",
     "iopub.status.idle": "2023-12-01T01:59:15.819526Z",
     "shell.execute_reply": "2023-12-01T01:59:15.818147Z"
    },
    "papermill": {
     "duration": 34.459833,
     "end_time": "2023-12-01T01:59:15.849417",
     "exception": false,
     "start_time": "2023-12-01T01:58:41.389584",
     "status": "completed"
    },
    "tags": []
   },
   "outputs": [
    {
     "name": "stdout",
     "output_type": "stream",
     "text": [
      "Score:  0.08192542850762563\n"
     ]
    }
   ],
   "source": [
    "from sklearn.ensemble import GradientBoostingRegressor\n",
    "def GradientBoosting_model():\n",
    "    gbr = GradientBoostingRegressor(n_estimators = 1000, \n",
    "                                    max_depth = 5, \n",
    "                                    random_state = 0)\n",
    "    gbr.fit(xd_train,yd_train)\n",
    "    test_pred = gbr.predict(xd_test)\n",
    "    score = rmsle(yd_test,test_pred)\n",
    "    return score\n",
    "score = RandomForest_model()\n",
    "print('Score: ', score)"
   ]
  },
  {
   "cell_type": "code",
   "execution_count": 45,
   "id": "d69bf1f4",
   "metadata": {
    "execution": {
     "iopub.execute_input": "2023-12-01T01:59:15.918771Z",
     "iopub.status.busy": "2023-12-01T01:59:15.918326Z",
     "iopub.status.idle": "2023-12-01T01:59:16.994845Z",
     "shell.execute_reply": "2023-12-01T01:59:16.993455Z"
    },
    "papermill": {
     "duration": 1.114631,
     "end_time": "2023-12-01T01:59:16.997651",
     "exception": false,
     "start_time": "2023-12-01T01:59:15.883020",
     "status": "completed"
    },
    "tags": []
   },
   "outputs": [
    {
     "name": "stdout",
     "output_type": "stream",
     "text": [
      "model score for prediting casual count: 0.9228744961426909\n",
      "model score for prediting registered count: 0.9695863141047706\n",
      "model score for prediting count: 0.9697463573506641\n"
     ]
    }
   ],
   "source": [
    "# XGBoost\n",
    "xgb_params = {'random_state': 42, \n",
    "              'n_estimators': 200, \n",
    "              'max_depth': 5, \n",
    "              'learning_rate': 0.1}\n",
    "\n",
    "XGB1 = xgb.XGBRegressor(**xgb_params)\n",
    "XGB1.fit(gb_x_train,y_casual)\n",
    "print(\"model score for prediting casual count:\",XGB1.score(gb_x_train,y_casual))\n",
    "\n",
    "XGB2 = xgb.XGBRegressor(**xgb_params)\n",
    "XGB2.fit(gb_x_train,y_registered)\n",
    "print(\"model score for prediting registered count:\",XGB2.score(gb_x_train,y_registered))\n",
    "\n",
    "XGB3 = xgb.XGBRegressor(**xgb_params)\n",
    "XGB3.fit(gb_x_train,y)\n",
    "print(\"model score for prediting count:\",XGB3.score(gb_x_train,y))"
   ]
  },
  {
   "cell_type": "code",
   "execution_count": 46,
   "id": "4cb58896",
   "metadata": {
    "execution": {
     "iopub.execute_input": "2023-12-01T01:59:17.068738Z",
     "iopub.status.busy": "2023-12-01T01:59:17.068294Z",
     "iopub.status.idle": "2023-12-01T01:59:17.356114Z",
     "shell.execute_reply": "2023-12-01T01:59:17.355013Z"
    },
    "papermill": {
     "duration": 0.325706,
     "end_time": "2023-12-01T01:59:17.358681",
     "exception": false,
     "start_time": "2023-12-01T01:59:17.032975",
     "status": "completed"
    },
    "tags": []
   },
   "outputs": [
    {
     "data": {
      "text/plain": [
       "<Figure size 1500x1200 with 0 Axes>"
      ]
     },
     "metadata": {},
     "output_type": "display_data"
    },
    {
     "data": {
      "image/png": "[encoded data removed]",
      "text/plain": [
       "<Figure size 640x480 with 1 Axes>"
      ]
     },
     "metadata": {},
     "output_type": "display_data"
    }
   ],
   "source": [
    "from xgboost import plot_importance, plot_tree\n",
    "fig = plt.figure(figsize=(15,12))\n",
    "fig = plot_importance(XGB3, height=0.9,max_num_features = 25)\n",
    "plt.show()"
   ]
  },
  {
   "cell_type": "code",
   "execution_count": 47,
   "id": "8796a5d4",
   "metadata": {
    "execution": {
     "iopub.execute_input": "2023-12-01T01:59:17.430481Z",
     "iopub.status.busy": "2023-12-01T01:59:17.429695Z",
     "iopub.status.idle": "2023-12-01T01:59:22.619115Z",
     "shell.execute_reply": "2023-12-01T01:59:22.617879Z"
    },
    "papermill": {
     "duration": 5.22811,
     "end_time": "2023-12-01T01:59:22.621759",
     "exception": false,
     "start_time": "2023-12-01T01:59:17.393649",
     "status": "completed"
    },
    "tags": []
   },
   "outputs": [
    {
     "name": "stdout",
     "output_type": "stream",
     "text": [
      "model score for prediting casual count: 0.8075341954570694\n",
      "model score for prediting registered count: 0.8281127285476739\n",
      "model score for prediting count: 0.8332163179507687\n"
     ]
    }
   ],
   "source": [
    "# gradient boosting\n",
    "from sklearn.ensemble import GradientBoostingRegressor\n",
    "\n",
    "gbr_params = {'n_estimators': 150, \n",
    "       'max_depth': 5, \n",
    "       'random_state': 0, \n",
    "       'min_samples_leaf': 9, \n",
    "       'learning_rate': 0.01, \n",
    "       'subsample': 0.7, \n",
    "       'loss': 'squared_error'}\n",
    "\n",
    "\n",
    "GBR1 = GradientBoostingRegressor(**gbr_params)\n",
    "GBR1.fit(gb_x_train,y_casual)\n",
    "print(\"model score for prediting casual count:\",GBR1.score(gb_x_train,y_casual))\n",
    "\n",
    "GBR2 = GradientBoostingRegressor(**gbr_params)\n",
    "GBR2.fit(gb_x_train,y_registered)\n",
    "print(\"model score for prediting registered count:\",GBR2.score(gb_x_train,y_registered))\n",
    "\n",
    "GBR3 = GradientBoostingRegressor(**gbr_params)\n",
    "GBR3.fit(gb_x_train,y)\n",
    "print(\"model score for prediting count:\",GBR3.score(gb_x_train,y))\n"
   ]
  },
  {
   "cell_type": "code",
   "execution_count": 48,
   "id": "bf5e5f9e",
   "metadata": {
    "execution": {
     "iopub.execute_input": "2023-12-01T01:59:22.695561Z",
     "iopub.status.busy": "2023-12-01T01:59:22.695136Z",
     "iopub.status.idle": "2023-12-01T01:59:23.733557Z",
     "shell.execute_reply": "2023-12-01T01:59:23.732325Z"
    },
    "papermill": {
     "duration": 1.07814,
     "end_time": "2023-12-01T01:59:23.736198",
     "exception": false,
     "start_time": "2023-12-01T01:59:22.658058",
     "status": "completed"
    },
    "tags": []
   },
   "outputs": [
    {
     "name": "stdout",
     "output_type": "stream",
     "text": [
      "Model score for predicting casual count: 0.9029644301421333\n",
      "Model score for predicting registered count: 0.9520244400996091\n",
      "Model score for predicting count: 0.9519546801168297\n"
     ]
    }
   ],
   "source": [
    "import lightgbm as lgb\n",
    "\n",
    "lgb_params = {'n_estimators': 150, \n",
    "              'max_depth': 5, \n",
    "              'random_state': 0, \n",
    "              'learning_rate': 0.1, \n",
    "              'min_split_gain': 0.5, \n",
    "              'subsample': 0.7}\n",
    "\n",
    "LGB1 = lgb.LGBMRegressor(**lgb_params)\n",
    "LGB1.fit(gb_x_train,y_casual)\n",
    "print(\"Model score for predicting casual count:\", LGB1.score(gb_x_train, y_casual))\n",
    "\n",
    "LGB2 = lgb.LGBMRegressor(**lgb_params)\n",
    "LGB2.fit(gb_x_train, y_registered)\n",
    "print(\"Model score for predicting registered count:\", LGB2.score(gb_x_train, y_registered))\n",
    "\n",
    "LGB3 = lgb.LGBMRegressor(**lgb_params)\n",
    "LGB3.fit(gb_x_train, y)\n",
    "print(\"Model score for predicting count:\", LGB3.score(gb_x_train, y))\n",
    "\n"
   ]
  },
  {
   "cell_type": "code",
   "execution_count": 49,
   "id": "45554a75",
   "metadata": {
    "execution": {
     "iopub.execute_input": "2023-12-01T01:59:23.808953Z",
     "iopub.status.busy": "2023-12-01T01:59:23.808556Z",
     "iopub.status.idle": "2023-12-01T01:59:23.886590Z",
     "shell.execute_reply": "2023-12-01T01:59:23.885465Z"
    },
    "papermill": {
     "duration": 0.118016,
     "end_time": "2023-12-01T01:59:23.889461",
     "exception": false,
     "start_time": "2023-12-01T01:59:23.771445",
     "status": "completed"
    },
    "tags": []
   },
   "outputs": [],
   "source": [
    "def prediction(x_test, models):\n",
    "    prediction = []\n",
    "    for model in models:\n",
    "        pre = model.predict(x_test)\n",
    "        pre = np.expm1(pre)\n",
    "        prediction.append(pre)\n",
    "    return sum(prediction)\n",
    "\n",
    "pred_xgb = prediction(gb_x_test, models=[XGB1, XGB2])\n",
    "pred_gbr = prediction(gb_x_test, models=[LGB1, LGB2])"
   ]
  },
  {
   "cell_type": "code",
   "execution_count": 50,
   "id": "c11550c4",
   "metadata": {
    "execution": {
     "iopub.execute_input": "2023-12-01T01:59:23.964869Z",
     "iopub.status.busy": "2023-12-01T01:59:23.964448Z",
     "iopub.status.idle": "2023-12-01T01:59:23.969494Z",
     "shell.execute_reply": "2023-12-01T01:59:23.968375Z"
    },
    "papermill": {
     "duration": 0.046723,
     "end_time": "2023-12-01T01:59:23.972041",
     "exception": false,
     "start_time": "2023-12-01T01:59:23.925318",
     "status": "completed"
    },
    "tags": []
   },
   "outputs": [],
   "source": [
    "prediction = (0.95* pred_xgb) + (0.05*pred_gbr)"
   ]
  },
  {
   "cell_type": "code",
   "execution_count": 51,
   "id": "8ee8ac73",
   "metadata": {
    "execution": {
     "iopub.execute_input": "2023-12-01T01:59:24.045588Z",
     "iopub.status.busy": "2023-12-01T01:59:24.045139Z",
     "iopub.status.idle": "2023-12-01T01:59:24.103758Z",
     "shell.execute_reply": "2023-12-01T01:59:24.102247Z"
    },
    "papermill": {
     "duration": 0.099519,
     "end_time": "2023-12-01T01:59:24.107177",
     "exception": false,
     "start_time": "2023-12-01T01:59:24.007658",
     "status": "completed"
    },
    "tags": []
   },
   "outputs": [],
   "source": [
    "submit = pd.DataFrame({'datetime':x_date,'count':prediction})\n",
    "submit.to_csv('/kaggle/working/submisssion.csv',index=False)"
   ]
  }
 ],
 "metadata": {
  "kaggle": {
   "accelerator": "none",
   "dataSources": [
    {
     "databundleVersionId": 32624,
     "sourceId": 3948,
     "sourceType": "competition"
    }
   ],
   "dockerImageVersionId": 30587,
   "isGpuEnabled": false,
   "isInternetEnabled": true,
   "language": "python",
   "sourceType": "notebook"
  },
  "kernelspec": {
   "display_name": "Python 3",
   "language": "python",
   "name": "python3"
  },
  "language_info": {
   "codemirror_mode": {
    "name": "ipython",
    "version": 3
   },
   "file_extension": ".py",
   "mimetype": "text/x-python",
   "name": "python",
   "nbconvert_exporter": "python",
   "pygments_lexer": "ipython3",
   "version": "3.10.12"
  },
  "papermill": {
   "default_parameters": {},
   "duration": 134.477396,
   "end_time": "2023-12-01T01:59:25.165855",
   "environment_variables": {},
   "exception": null,
   "input_path": "__notebook__.ipynb",
   "output_path": "__notebook__.ipynb",
   "parameters": {},
   "start_time": "2023-12-01T01:57:10.688459",
   "version": "2.4.0"
  }
 },
 "nbformat": 4,
 "nbformat_minor": 5
}
